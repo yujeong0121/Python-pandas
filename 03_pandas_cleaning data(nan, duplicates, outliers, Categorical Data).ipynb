{
 "cells": [
  {
   "cell_type": "markdown",
   "id": "e3f3d52b",
   "metadata": {},
   "source": [
    "### Cleaning Data"
   ]
  },
  {
   "cell_type": "markdown",
   "id": "9631eb40",
   "metadata": {
    "ExecuteTime": {
     "end_time": "2022-10-01T11:21:24.393969Z",
     "start_time": "2022-10-01T11:21:24.387968Z"
    }
   },
   "source": [
    "#### titanic Dataset"
   ]
  },
  {
   "cell_type": "code",
   "execution_count": 63,
   "id": "f2fc0698",
   "metadata": {
    "ExecuteTime": {
     "end_time": "2022-10-01T11:57:17.681391Z",
     "start_time": "2022-10-01T11:57:17.665394Z"
    }
   },
   "outputs": [],
   "source": [
    "import pandas as pd"
   ]
  },
  {
   "cell_type": "code",
   "execution_count": 64,
   "id": "aba38690",
   "metadata": {
    "ExecuteTime": {
     "end_time": "2022-10-01T11:57:18.356677Z",
     "start_time": "2022-10-01T11:57:18.336921Z"
    }
   },
   "outputs": [],
   "source": [
    "titanic = pd.read_csv(\"titanic_imp.csv\")"
   ]
  },
  {
   "cell_type": "code",
   "execution_count": 65,
   "id": "a5275510",
   "metadata": {
    "ExecuteTime": {
     "end_time": "2022-10-01T11:57:19.302827Z",
     "start_time": "2022-10-01T11:57:19.278152Z"
    }
   },
   "outputs": [
    {
     "data": {
      "text/html": [
       "<div>\n",
       "<style scoped>\n",
       "    .dataframe tbody tr th:only-of-type {\n",
       "        vertical-align: middle;\n",
       "    }\n",
       "\n",
       "    .dataframe tbody tr th {\n",
       "        vertical-align: top;\n",
       "    }\n",
       "\n",
       "    .dataframe thead th {\n",
       "        text-align: right;\n",
       "    }\n",
       "</style>\n",
       "<table border=\"1\" class=\"dataframe\">\n",
       "  <thead>\n",
       "    <tr style=\"text-align: right;\">\n",
       "      <th></th>\n",
       "      <th>Survived</th>\n",
       "      <th>Class</th>\n",
       "      <th>Gender</th>\n",
       "      <th>Age</th>\n",
       "      <th>SipSp</th>\n",
       "      <th>ParCh</th>\n",
       "      <th>Fare</th>\n",
       "      <th>Emb</th>\n",
       "      <th>Deck</th>\n",
       "    </tr>\n",
       "  </thead>\n",
       "  <tbody>\n",
       "    <tr>\n",
       "      <th>0</th>\n",
       "      <td>0</td>\n",
       "      <td>3</td>\n",
       "      <td>male</td>\n",
       "      <td>22.0</td>\n",
       "      <td>1</td>\n",
       "      <td>0</td>\n",
       "      <td>$7.25</td>\n",
       "      <td>S</td>\n",
       "      <td>NaN</td>\n",
       "    </tr>\n",
       "    <tr>\n",
       "      <th>1</th>\n",
       "      <td>1</td>\n",
       "      <td>1</td>\n",
       "      <td>female</td>\n",
       "      <td>38.0</td>\n",
       "      <td>1</td>\n",
       "      <td>0</td>\n",
       "      <td>$71.2833</td>\n",
       "      <td>C</td>\n",
       "      <td>C</td>\n",
       "    </tr>\n",
       "    <tr>\n",
       "      <th>2</th>\n",
       "      <td>1</td>\n",
       "      <td>3</td>\n",
       "      <td>female</td>\n",
       "      <td>26.0</td>\n",
       "      <td>0</td>\n",
       "      <td>0</td>\n",
       "      <td>$7.925</td>\n",
       "      <td>S</td>\n",
       "      <td>NaN</td>\n",
       "    </tr>\n",
       "    <tr>\n",
       "      <th>3</th>\n",
       "      <td>1</td>\n",
       "      <td>1</td>\n",
       "      <td>female</td>\n",
       "      <td>35.0</td>\n",
       "      <td>1</td>\n",
       "      <td>0</td>\n",
       "      <td>$53.1</td>\n",
       "      <td>S</td>\n",
       "      <td>C</td>\n",
       "    </tr>\n",
       "    <tr>\n",
       "      <th>4</th>\n",
       "      <td>0</td>\n",
       "      <td>3</td>\n",
       "      <td>male</td>\n",
       "      <td>35.0</td>\n",
       "      <td>0</td>\n",
       "      <td>0</td>\n",
       "      <td>$8.05</td>\n",
       "      <td>S</td>\n",
       "      <td>NaN</td>\n",
       "    </tr>\n",
       "  </tbody>\n",
       "</table>\n",
       "</div>"
      ],
      "text/plain": [
       "  Survived  Class  Gender   Age  SipSp  ParCh      Fare Emb Deck\n",
       "0        0      3    male  22.0      1      0     $7.25   S  NaN\n",
       "1        1      1  female  38.0      1      0  $71.2833   C    C\n",
       "2        1      3  female  26.0      0      0    $7.925   S  NaN\n",
       "3        1      1  female  35.0      1      0     $53.1   S    C\n",
       "4        0      3    male  35.0      0      0     $8.05   S  NaN"
      ]
     },
     "execution_count": 65,
     "metadata": {},
     "output_type": "execute_result"
    }
   ],
   "source": [
    "titanic.head()"
   ]
  },
  {
   "cell_type": "code",
   "execution_count": 66,
   "id": "2dcf9fc8",
   "metadata": {
    "ExecuteTime": {
     "end_time": "2022-10-01T11:57:21.470322Z",
     "start_time": "2022-10-01T11:57:21.448214Z"
    }
   },
   "outputs": [
    {
     "data": {
      "text/html": [
       "<div>\n",
       "<style scoped>\n",
       "    .dataframe tbody tr th:only-of-type {\n",
       "        vertical-align: middle;\n",
       "    }\n",
       "\n",
       "    .dataframe tbody tr th {\n",
       "        vertical-align: top;\n",
       "    }\n",
       "\n",
       "    .dataframe thead th {\n",
       "        text-align: right;\n",
       "    }\n",
       "</style>\n",
       "<table border=\"1\" class=\"dataframe\">\n",
       "  <thead>\n",
       "    <tr style=\"text-align: right;\">\n",
       "      <th></th>\n",
       "      <th>Survived</th>\n",
       "      <th>Class</th>\n",
       "      <th>Gender</th>\n",
       "      <th>Age</th>\n",
       "      <th>SipSp</th>\n",
       "      <th>ParCh</th>\n",
       "      <th>Fare</th>\n",
       "      <th>Emb</th>\n",
       "      <th>Deck</th>\n",
       "    </tr>\n",
       "  </thead>\n",
       "  <tbody>\n",
       "    <tr>\n",
       "      <th>889</th>\n",
       "      <td>1</td>\n",
       "      <td>1</td>\n",
       "      <td>male</td>\n",
       "      <td>26.0</td>\n",
       "      <td>0</td>\n",
       "      <td>0</td>\n",
       "      <td>$30.0</td>\n",
       "      <td>C</td>\n",
       "      <td>C</td>\n",
       "    </tr>\n",
       "    <tr>\n",
       "      <th>890</th>\n",
       "      <td>0</td>\n",
       "      <td>3</td>\n",
       "      <td>male</td>\n",
       "      <td>32.0</td>\n",
       "      <td>0</td>\n",
       "      <td>0</td>\n",
       "      <td>$7.75</td>\n",
       "      <td>Q</td>\n",
       "      <td>NaN</td>\n",
       "    </tr>\n",
       "    <tr>\n",
       "      <th>891</th>\n",
       "      <td>0</td>\n",
       "      <td>2</td>\n",
       "      <td>male</td>\n",
       "      <td>24.0</td>\n",
       "      <td>0</td>\n",
       "      <td>0</td>\n",
       "      <td>$10.5</td>\n",
       "      <td>S</td>\n",
       "      <td>NaN</td>\n",
       "    </tr>\n",
       "    <tr>\n",
       "      <th>892</th>\n",
       "      <td>0</td>\n",
       "      <td>3</td>\n",
       "      <td>male</td>\n",
       "      <td>34.0</td>\n",
       "      <td>1</td>\n",
       "      <td>1</td>\n",
       "      <td>$14.4</td>\n",
       "      <td>S</td>\n",
       "      <td>NaN</td>\n",
       "    </tr>\n",
       "    <tr>\n",
       "      <th>893</th>\n",
       "      <td>0</td>\n",
       "      <td>3</td>\n",
       "      <td>male</td>\n",
       "      <td>36.0</td>\n",
       "      <td>0</td>\n",
       "      <td>0</td>\n",
       "      <td>$7.8958</td>\n",
       "      <td>S</td>\n",
       "      <td>NaN</td>\n",
       "    </tr>\n",
       "  </tbody>\n",
       "</table>\n",
       "</div>"
      ],
      "text/plain": [
       "    Survived  Class Gender   Age  SipSp  ParCh     Fare Emb Deck\n",
       "889        1      1   male  26.0      0      0    $30.0   C    C\n",
       "890        0      3   male  32.0      0      0    $7.75   Q  NaN\n",
       "891        0      2   male  24.0      0      0    $10.5   S  NaN\n",
       "892        0      3   male  34.0      1      1    $14.4   S  NaN\n",
       "893        0      3   male  36.0      0      0  $7.8958   S  NaN"
      ]
     },
     "execution_count": 66,
     "metadata": {},
     "output_type": "execute_result"
    }
   ],
   "source": [
    "titanic.tail()"
   ]
  },
  {
   "cell_type": "code",
   "execution_count": 67,
   "id": "749e8db5",
   "metadata": {
    "ExecuteTime": {
     "end_time": "2022-10-01T11:57:22.928859Z",
     "start_time": "2022-10-01T11:57:22.905987Z"
    }
   },
   "outputs": [
    {
     "name": "stdout",
     "output_type": "stream",
     "text": [
      "<class 'pandas.core.frame.DataFrame'>\n",
      "RangeIndex: 894 entries, 0 to 893\n",
      "Data columns (total 9 columns):\n",
      " #   Column    Non-Null Count  Dtype \n",
      "---  ------    --------------  ----- \n",
      " 0   Survived  894 non-null    object\n",
      " 1   Class     894 non-null    int64 \n",
      " 2   Gender    894 non-null    object\n",
      " 3   Age       758 non-null    object\n",
      " 4   SipSp     894 non-null    int64 \n",
      " 5   ParCh     894 non-null    int64 \n",
      " 6   Fare      894 non-null    object\n",
      " 7   Emb       892 non-null    object\n",
      " 8   Deck      203 non-null    object\n",
      "dtypes: int64(3), object(6)\n",
      "memory usage: 63.0+ KB\n"
     ]
    }
   ],
   "source": [
    "titanic.info()"
   ]
  },
  {
   "cell_type": "code",
   "execution_count": 68,
   "id": "cab5a0ac",
   "metadata": {
    "ExecuteTime": {
     "end_time": "2022-10-01T11:57:25.309466Z",
     "start_time": "2022-10-01T11:57:25.276998Z"
    }
   },
   "outputs": [
    {
     "data": {
      "text/html": [
       "<div>\n",
       "<style scoped>\n",
       "    .dataframe tbody tr th:only-of-type {\n",
       "        vertical-align: middle;\n",
       "    }\n",
       "\n",
       "    .dataframe tbody tr th {\n",
       "        vertical-align: top;\n",
       "    }\n",
       "\n",
       "    .dataframe thead th {\n",
       "        text-align: right;\n",
       "    }\n",
       "</style>\n",
       "<table border=\"1\" class=\"dataframe\">\n",
       "  <thead>\n",
       "    <tr style=\"text-align: right;\">\n",
       "      <th></th>\n",
       "      <th>Class</th>\n",
       "      <th>SipSp</th>\n",
       "      <th>ParCh</th>\n",
       "    </tr>\n",
       "  </thead>\n",
       "  <tbody>\n",
       "    <tr>\n",
       "      <th>count</th>\n",
       "      <td>894.000000</td>\n",
       "      <td>894.000000</td>\n",
       "      <td>894.000000</td>\n",
       "    </tr>\n",
       "    <tr>\n",
       "      <th>mean</th>\n",
       "      <td>2.309843</td>\n",
       "      <td>0.522371</td>\n",
       "      <td>0.381432</td>\n",
       "    </tr>\n",
       "    <tr>\n",
       "      <th>std</th>\n",
       "      <td>0.835370</td>\n",
       "      <td>1.101283</td>\n",
       "      <td>0.805171</td>\n",
       "    </tr>\n",
       "    <tr>\n",
       "      <th>min</th>\n",
       "      <td>1.000000</td>\n",
       "      <td>0.000000</td>\n",
       "      <td>0.000000</td>\n",
       "    </tr>\n",
       "    <tr>\n",
       "      <th>25%</th>\n",
       "      <td>2.000000</td>\n",
       "      <td>0.000000</td>\n",
       "      <td>0.000000</td>\n",
       "    </tr>\n",
       "    <tr>\n",
       "      <th>50%</th>\n",
       "      <td>3.000000</td>\n",
       "      <td>0.000000</td>\n",
       "      <td>0.000000</td>\n",
       "    </tr>\n",
       "    <tr>\n",
       "      <th>75%</th>\n",
       "      <td>3.000000</td>\n",
       "      <td>1.000000</td>\n",
       "      <td>0.000000</td>\n",
       "    </tr>\n",
       "    <tr>\n",
       "      <th>max</th>\n",
       "      <td>3.000000</td>\n",
       "      <td>8.000000</td>\n",
       "      <td>6.000000</td>\n",
       "    </tr>\n",
       "  </tbody>\n",
       "</table>\n",
       "</div>"
      ],
      "text/plain": [
       "            Class       SipSp       ParCh\n",
       "count  894.000000  894.000000  894.000000\n",
       "mean     2.309843    0.522371    0.381432\n",
       "std      0.835370    1.101283    0.805171\n",
       "min      1.000000    0.000000    0.000000\n",
       "25%      2.000000    0.000000    0.000000\n",
       "50%      3.000000    0.000000    0.000000\n",
       "75%      3.000000    1.000000    0.000000\n",
       "max      3.000000    8.000000    6.000000"
      ]
     },
     "execution_count": 68,
     "metadata": {},
     "output_type": "execute_result"
    }
   ],
   "source": [
    "titanic.describe()"
   ]
  },
  {
   "cell_type": "code",
   "execution_count": 69,
   "id": "bf94687c",
   "metadata": {
    "ExecuteTime": {
     "end_time": "2022-10-01T11:57:27.847736Z",
     "start_time": "2022-10-01T11:57:27.816735Z"
    }
   },
   "outputs": [
    {
     "data": {
      "text/html": [
       "<div>\n",
       "<style scoped>\n",
       "    .dataframe tbody tr th:only-of-type {\n",
       "        vertical-align: middle;\n",
       "    }\n",
       "\n",
       "    .dataframe tbody tr th {\n",
       "        vertical-align: top;\n",
       "    }\n",
       "\n",
       "    .dataframe thead th {\n",
       "        text-align: right;\n",
       "    }\n",
       "</style>\n",
       "<table border=\"1\" class=\"dataframe\">\n",
       "  <thead>\n",
       "    <tr style=\"text-align: right;\">\n",
       "      <th></th>\n",
       "      <th>Survived</th>\n",
       "      <th>Gender</th>\n",
       "      <th>Age</th>\n",
       "      <th>Fare</th>\n",
       "      <th>Emb</th>\n",
       "      <th>Deck</th>\n",
       "    </tr>\n",
       "  </thead>\n",
       "  <tbody>\n",
       "    <tr>\n",
       "      <th>count</th>\n",
       "      <td>894</td>\n",
       "      <td>894</td>\n",
       "      <td>758</td>\n",
       "      <td>894</td>\n",
       "      <td>892</td>\n",
       "      <td>203</td>\n",
       "    </tr>\n",
       "    <tr>\n",
       "      <th>unique</th>\n",
       "      <td>4</td>\n",
       "      <td>2</td>\n",
       "      <td>92</td>\n",
       "      <td>248</td>\n",
       "      <td>3</td>\n",
       "      <td>7</td>\n",
       "    </tr>\n",
       "    <tr>\n",
       "      <th>top</th>\n",
       "      <td>0</td>\n",
       "      <td>male</td>\n",
       "      <td>Missing Data</td>\n",
       "      <td>$8.05</td>\n",
       "      <td>S</td>\n",
       "      <td>C</td>\n",
       "    </tr>\n",
       "    <tr>\n",
       "      <th>freq</th>\n",
       "      <td>551</td>\n",
       "      <td>580</td>\n",
       "      <td>41</td>\n",
       "      <td>43</td>\n",
       "      <td>647</td>\n",
       "      <td>59</td>\n",
       "    </tr>\n",
       "  </tbody>\n",
       "</table>\n",
       "</div>"
      ],
      "text/plain": [
       "       Survived Gender           Age   Fare  Emb Deck\n",
       "count       894    894           758    894  892  203\n",
       "unique        4      2            92    248    3    7\n",
       "top           0   male  Missing Data  $8.05    S    C\n",
       "freq        551    580            41     43  647   59"
      ]
     },
     "execution_count": 69,
     "metadata": {},
     "output_type": "execute_result"
    }
   ],
   "source": [
    "titanic[[\"Survived\", \"Gender\", \"Age\", \"Fare\", \"Emb\", \"Deck\"]].describe()"
   ]
  },
  {
   "cell_type": "code",
   "execution_count": 70,
   "id": "de525fb2",
   "metadata": {
    "ExecuteTime": {
     "end_time": "2022-10-01T11:57:29.427908Z",
     "start_time": "2022-10-01T11:57:29.408909Z"
    }
   },
   "outputs": [
    {
     "data": {
      "text/plain": [
       "array(['0', '1', 'yes', 'no'], dtype=object)"
      ]
     },
     "execution_count": 70,
     "metadata": {},
     "output_type": "execute_result"
    }
   ],
   "source": [
    "titanic.Survived.unique()"
   ]
  },
  {
   "cell_type": "code",
   "execution_count": 71,
   "id": "8ce18853",
   "metadata": {
    "ExecuteTime": {
     "end_time": "2022-10-01T11:57:30.924169Z",
     "start_time": "2022-10-01T11:57:30.903167Z"
    }
   },
   "outputs": [
    {
     "data": {
      "text/plain": [
       "0      551\n",
       "1      341\n",
       "yes      1\n",
       "no       1\n",
       "Name: Survived, dtype: int64"
      ]
     },
     "execution_count": 71,
     "metadata": {},
     "output_type": "execute_result"
    }
   ],
   "source": [
    "titanic.Survived.value_counts()"
   ]
  },
  {
   "cell_type": "markdown",
   "id": "584dfce1",
   "metadata": {},
   "source": [
    "#### 명목형 통일"
   ]
  },
  {
   "cell_type": "code",
   "execution_count": 72,
   "id": "93177eb6",
   "metadata": {
    "ExecuteTime": {
     "end_time": "2022-10-01T11:57:32.505555Z",
     "start_time": "2022-10-01T11:57:32.498883Z"
    }
   },
   "outputs": [],
   "source": [
    "titanic.Survived.replace(to_replace=[\"yes\", \"no\"], value=[1,0], inplace=True)"
   ]
  },
  {
   "cell_type": "code",
   "execution_count": 73,
   "id": "2657004a",
   "metadata": {
    "ExecuteTime": {
     "end_time": "2022-10-01T11:57:34.100190Z",
     "start_time": "2022-10-01T11:57:34.087204Z"
    }
   },
   "outputs": [
    {
     "data": {
      "text/plain": [
       "0    551\n",
       "1    341\n",
       "1      1\n",
       "0      1\n",
       "Name: Survived, dtype: int64"
      ]
     },
     "execution_count": 73,
     "metadata": {},
     "output_type": "execute_result"
    }
   ],
   "source": [
    "titanic.Survived.value_counts()"
   ]
  },
  {
   "cell_type": "markdown",
   "id": "a3950f72",
   "metadata": {},
   "source": [
    "#### 타입 변환\n",
    "Fare의 달러 표시 삭제하고 숫자형으로 변환"
   ]
  },
  {
   "cell_type": "code",
   "execution_count": 74,
   "id": "2db20c46",
   "metadata": {
    "ExecuteTime": {
     "end_time": "2022-10-01T11:57:35.759739Z",
     "start_time": "2022-10-01T11:57:35.753128Z"
    }
   },
   "outputs": [
    {
     "name": "stderr",
     "output_type": "stream",
     "text": [
      "C:\\Users\\skygg\\AppData\\Local\\Temp\\ipykernel_33912\\4106501884.py:1: FutureWarning: The default value of regex will change from True to False in a future version. In addition, single character regular expressions will *not* be treated as literal strings when regex=True.\n",
      "  titanic.Fare = titanic.Fare.str.replace(\"$\", \"\")\n"
     ]
    }
   ],
   "source": [
    "titanic.Fare = titanic.Fare.str.replace(\"$\", \"\")"
   ]
  },
  {
   "cell_type": "code",
   "execution_count": 76,
   "id": "392454e0",
   "metadata": {
    "ExecuteTime": {
     "end_time": "2022-10-01T11:58:05.641973Z",
     "start_time": "2022-10-01T11:58:05.621155Z"
    }
   },
   "outputs": [],
   "source": [
    "# pd.to_numeric(titanic.Fare)\n",
    "# titanic.Fare.astype(\"float\")\n",
    "titanic[\"Fare\"] = titanic.Fare.astype(\"float\")\n",
    "titanic[\"Survived\"] = titanic.Survived.astype(\"int\")"
   ]
  },
  {
   "cell_type": "code",
   "execution_count": 77,
   "id": "9c673f79",
   "metadata": {
    "ExecuteTime": {
     "end_time": "2022-10-01T11:58:08.305979Z",
     "start_time": "2022-10-01T11:58:08.125205Z"
    }
   },
   "outputs": [
    {
     "ename": "ValueError",
     "evalue": "could not convert string to float: 'Missing Data'",
     "output_type": "error",
     "traceback": [
      "\u001b[1;31m---------------------------------------------------------------------------\u001b[0m",
      "\u001b[1;31mValueError\u001b[0m                                Traceback (most recent call last)",
      "Input \u001b[1;32mIn [77]\u001b[0m, in \u001b[0;36m<cell line: 1>\u001b[1;34m()\u001b[0m\n\u001b[1;32m----> 1\u001b[0m titanic[\u001b[38;5;124m\"\u001b[39m\u001b[38;5;124mAge\u001b[39m\u001b[38;5;124m\"\u001b[39m] \u001b[38;5;241m=\u001b[39m \u001b[43mtitanic\u001b[49m\u001b[38;5;241;43m.\u001b[39;49m\u001b[43mAge\u001b[49m\u001b[38;5;241;43m.\u001b[39;49m\u001b[43mastype\u001b[49m\u001b[43m(\u001b[49m\u001b[38;5;124;43m\"\u001b[39;49m\u001b[38;5;124;43mfloat\u001b[39;49m\u001b[38;5;124;43m\"\u001b[39;49m\u001b[43m)\u001b[49m\n",
      "File \u001b[1;32m~\\anaconda3\\envs\\daitgirls6\\lib\\site-packages\\pandas\\core\\generic.py:5912\u001b[0m, in \u001b[0;36mNDFrame.astype\u001b[1;34m(self, dtype, copy, errors)\u001b[0m\n\u001b[0;32m   5905\u001b[0m     results \u001b[38;5;241m=\u001b[39m [\n\u001b[0;32m   5906\u001b[0m         \u001b[38;5;28mself\u001b[39m\u001b[38;5;241m.\u001b[39miloc[:, i]\u001b[38;5;241m.\u001b[39mastype(dtype, copy\u001b[38;5;241m=\u001b[39mcopy)\n\u001b[0;32m   5907\u001b[0m         \u001b[38;5;28;01mfor\u001b[39;00m i \u001b[38;5;129;01min\u001b[39;00m \u001b[38;5;28mrange\u001b[39m(\u001b[38;5;28mlen\u001b[39m(\u001b[38;5;28mself\u001b[39m\u001b[38;5;241m.\u001b[39mcolumns))\n\u001b[0;32m   5908\u001b[0m     ]\n\u001b[0;32m   5910\u001b[0m \u001b[38;5;28;01melse\u001b[39;00m:\n\u001b[0;32m   5911\u001b[0m     \u001b[38;5;66;03m# else, only a single dtype is given\u001b[39;00m\n\u001b[1;32m-> 5912\u001b[0m     new_data \u001b[38;5;241m=\u001b[39m \u001b[38;5;28;43mself\u001b[39;49m\u001b[38;5;241;43m.\u001b[39;49m\u001b[43m_mgr\u001b[49m\u001b[38;5;241;43m.\u001b[39;49m\u001b[43mastype\u001b[49m\u001b[43m(\u001b[49m\u001b[43mdtype\u001b[49m\u001b[38;5;241;43m=\u001b[39;49m\u001b[43mdtype\u001b[49m\u001b[43m,\u001b[49m\u001b[43m \u001b[49m\u001b[43mcopy\u001b[49m\u001b[38;5;241;43m=\u001b[39;49m\u001b[43mcopy\u001b[49m\u001b[43m,\u001b[49m\u001b[43m \u001b[49m\u001b[43merrors\u001b[49m\u001b[38;5;241;43m=\u001b[39;49m\u001b[43merrors\u001b[49m\u001b[43m)\u001b[49m\n\u001b[0;32m   5913\u001b[0m     \u001b[38;5;28;01mreturn\u001b[39;00m \u001b[38;5;28mself\u001b[39m\u001b[38;5;241m.\u001b[39m_constructor(new_data)\u001b[38;5;241m.\u001b[39m__finalize__(\u001b[38;5;28mself\u001b[39m, method\u001b[38;5;241m=\u001b[39m\u001b[38;5;124m\"\u001b[39m\u001b[38;5;124mastype\u001b[39m\u001b[38;5;124m\"\u001b[39m)\n\u001b[0;32m   5915\u001b[0m \u001b[38;5;66;03m# GH 33113: handle empty frame or series\u001b[39;00m\n",
      "File \u001b[1;32m~\\anaconda3\\envs\\daitgirls6\\lib\\site-packages\\pandas\\core\\internals\\managers.py:419\u001b[0m, in \u001b[0;36mBaseBlockManager.astype\u001b[1;34m(self, dtype, copy, errors)\u001b[0m\n\u001b[0;32m    418\u001b[0m \u001b[38;5;28;01mdef\u001b[39;00m \u001b[38;5;21mastype\u001b[39m(\u001b[38;5;28mself\u001b[39m: T, dtype, copy: \u001b[38;5;28mbool\u001b[39m \u001b[38;5;241m=\u001b[39m \u001b[38;5;28;01mFalse\u001b[39;00m, errors: \u001b[38;5;28mstr\u001b[39m \u001b[38;5;241m=\u001b[39m \u001b[38;5;124m\"\u001b[39m\u001b[38;5;124mraise\u001b[39m\u001b[38;5;124m\"\u001b[39m) \u001b[38;5;241m-\u001b[39m\u001b[38;5;241m>\u001b[39m T:\n\u001b[1;32m--> 419\u001b[0m     \u001b[38;5;28;01mreturn\u001b[39;00m \u001b[38;5;28;43mself\u001b[39;49m\u001b[38;5;241;43m.\u001b[39;49m\u001b[43mapply\u001b[49m\u001b[43m(\u001b[49m\u001b[38;5;124;43m\"\u001b[39;49m\u001b[38;5;124;43mastype\u001b[39;49m\u001b[38;5;124;43m\"\u001b[39;49m\u001b[43m,\u001b[49m\u001b[43m \u001b[49m\u001b[43mdtype\u001b[49m\u001b[38;5;241;43m=\u001b[39;49m\u001b[43mdtype\u001b[49m\u001b[43m,\u001b[49m\u001b[43m \u001b[49m\u001b[43mcopy\u001b[49m\u001b[38;5;241;43m=\u001b[39;49m\u001b[43mcopy\u001b[49m\u001b[43m,\u001b[49m\u001b[43m \u001b[49m\u001b[43merrors\u001b[49m\u001b[38;5;241;43m=\u001b[39;49m\u001b[43merrors\u001b[49m\u001b[43m)\u001b[49m\n",
      "File \u001b[1;32m~\\anaconda3\\envs\\daitgirls6\\lib\\site-packages\\pandas\\core\\internals\\managers.py:304\u001b[0m, in \u001b[0;36mBaseBlockManager.apply\u001b[1;34m(self, f, align_keys, ignore_failures, **kwargs)\u001b[0m\n\u001b[0;32m    302\u001b[0m         applied \u001b[38;5;241m=\u001b[39m b\u001b[38;5;241m.\u001b[39mapply(f, \u001b[38;5;241m*\u001b[39m\u001b[38;5;241m*\u001b[39mkwargs)\n\u001b[0;32m    303\u001b[0m     \u001b[38;5;28;01melse\u001b[39;00m:\n\u001b[1;32m--> 304\u001b[0m         applied \u001b[38;5;241m=\u001b[39m \u001b[38;5;28mgetattr\u001b[39m(b, f)(\u001b[38;5;241m*\u001b[39m\u001b[38;5;241m*\u001b[39mkwargs)\n\u001b[0;32m    305\u001b[0m \u001b[38;5;28;01mexcept\u001b[39;00m (\u001b[38;5;167;01mTypeError\u001b[39;00m, \u001b[38;5;167;01mNotImplementedError\u001b[39;00m):\n\u001b[0;32m    306\u001b[0m     \u001b[38;5;28;01mif\u001b[39;00m \u001b[38;5;129;01mnot\u001b[39;00m ignore_failures:\n",
      "File \u001b[1;32m~\\anaconda3\\envs\\daitgirls6\\lib\\site-packages\\pandas\\core\\internals\\blocks.py:580\u001b[0m, in \u001b[0;36mBlock.astype\u001b[1;34m(self, dtype, copy, errors)\u001b[0m\n\u001b[0;32m    562\u001b[0m \u001b[38;5;124;03m\"\"\"\u001b[39;00m\n\u001b[0;32m    563\u001b[0m \u001b[38;5;124;03mCoerce to the new dtype.\u001b[39;00m\n\u001b[0;32m    564\u001b[0m \n\u001b[1;32m   (...)\u001b[0m\n\u001b[0;32m    576\u001b[0m \u001b[38;5;124;03mBlock\u001b[39;00m\n\u001b[0;32m    577\u001b[0m \u001b[38;5;124;03m\"\"\"\u001b[39;00m\n\u001b[0;32m    578\u001b[0m values \u001b[38;5;241m=\u001b[39m \u001b[38;5;28mself\u001b[39m\u001b[38;5;241m.\u001b[39mvalues\n\u001b[1;32m--> 580\u001b[0m new_values \u001b[38;5;241m=\u001b[39m \u001b[43mastype_array_safe\u001b[49m\u001b[43m(\u001b[49m\u001b[43mvalues\u001b[49m\u001b[43m,\u001b[49m\u001b[43m \u001b[49m\u001b[43mdtype\u001b[49m\u001b[43m,\u001b[49m\u001b[43m \u001b[49m\u001b[43mcopy\u001b[49m\u001b[38;5;241;43m=\u001b[39;49m\u001b[43mcopy\u001b[49m\u001b[43m,\u001b[49m\u001b[43m \u001b[49m\u001b[43merrors\u001b[49m\u001b[38;5;241;43m=\u001b[39;49m\u001b[43merrors\u001b[49m\u001b[43m)\u001b[49m\n\u001b[0;32m    582\u001b[0m new_values \u001b[38;5;241m=\u001b[39m maybe_coerce_values(new_values)\n\u001b[0;32m    583\u001b[0m newb \u001b[38;5;241m=\u001b[39m \u001b[38;5;28mself\u001b[39m\u001b[38;5;241m.\u001b[39mmake_block(new_values)\n",
      "File \u001b[1;32m~\\anaconda3\\envs\\daitgirls6\\lib\\site-packages\\pandas\\core\\dtypes\\cast.py:1292\u001b[0m, in \u001b[0;36mastype_array_safe\u001b[1;34m(values, dtype, copy, errors)\u001b[0m\n\u001b[0;32m   1289\u001b[0m     dtype \u001b[38;5;241m=\u001b[39m dtype\u001b[38;5;241m.\u001b[39mnumpy_dtype\n\u001b[0;32m   1291\u001b[0m \u001b[38;5;28;01mtry\u001b[39;00m:\n\u001b[1;32m-> 1292\u001b[0m     new_values \u001b[38;5;241m=\u001b[39m \u001b[43mastype_array\u001b[49m\u001b[43m(\u001b[49m\u001b[43mvalues\u001b[49m\u001b[43m,\u001b[49m\u001b[43m \u001b[49m\u001b[43mdtype\u001b[49m\u001b[43m,\u001b[49m\u001b[43m \u001b[49m\u001b[43mcopy\u001b[49m\u001b[38;5;241;43m=\u001b[39;49m\u001b[43mcopy\u001b[49m\u001b[43m)\u001b[49m\n\u001b[0;32m   1293\u001b[0m \u001b[38;5;28;01mexcept\u001b[39;00m (\u001b[38;5;167;01mValueError\u001b[39;00m, \u001b[38;5;167;01mTypeError\u001b[39;00m):\n\u001b[0;32m   1294\u001b[0m     \u001b[38;5;66;03m# e.g. astype_nansafe can fail on object-dtype of strings\u001b[39;00m\n\u001b[0;32m   1295\u001b[0m     \u001b[38;5;66;03m#  trying to convert to float\u001b[39;00m\n\u001b[0;32m   1296\u001b[0m     \u001b[38;5;28;01mif\u001b[39;00m errors \u001b[38;5;241m==\u001b[39m \u001b[38;5;124m\"\u001b[39m\u001b[38;5;124mignore\u001b[39m\u001b[38;5;124m\"\u001b[39m:\n",
      "File \u001b[1;32m~\\anaconda3\\envs\\daitgirls6\\lib\\site-packages\\pandas\\core\\dtypes\\cast.py:1237\u001b[0m, in \u001b[0;36mastype_array\u001b[1;34m(values, dtype, copy)\u001b[0m\n\u001b[0;32m   1234\u001b[0m     values \u001b[38;5;241m=\u001b[39m values\u001b[38;5;241m.\u001b[39mastype(dtype, copy\u001b[38;5;241m=\u001b[39mcopy)\n\u001b[0;32m   1236\u001b[0m \u001b[38;5;28;01melse\u001b[39;00m:\n\u001b[1;32m-> 1237\u001b[0m     values \u001b[38;5;241m=\u001b[39m \u001b[43mastype_nansafe\u001b[49m\u001b[43m(\u001b[49m\u001b[43mvalues\u001b[49m\u001b[43m,\u001b[49m\u001b[43m \u001b[49m\u001b[43mdtype\u001b[49m\u001b[43m,\u001b[49m\u001b[43m \u001b[49m\u001b[43mcopy\u001b[49m\u001b[38;5;241;43m=\u001b[39;49m\u001b[43mcopy\u001b[49m\u001b[43m)\u001b[49m\n\u001b[0;32m   1239\u001b[0m \u001b[38;5;66;03m# in pandas we don't store numpy str dtypes, so convert to object\u001b[39;00m\n\u001b[0;32m   1240\u001b[0m \u001b[38;5;28;01mif\u001b[39;00m \u001b[38;5;28misinstance\u001b[39m(dtype, np\u001b[38;5;241m.\u001b[39mdtype) \u001b[38;5;129;01mand\u001b[39;00m \u001b[38;5;28missubclass\u001b[39m(values\u001b[38;5;241m.\u001b[39mdtype\u001b[38;5;241m.\u001b[39mtype, \u001b[38;5;28mstr\u001b[39m):\n",
      "File \u001b[1;32m~\\anaconda3\\envs\\daitgirls6\\lib\\site-packages\\pandas\\core\\dtypes\\cast.py:1181\u001b[0m, in \u001b[0;36mastype_nansafe\u001b[1;34m(arr, dtype, copy, skipna)\u001b[0m\n\u001b[0;32m   1177\u001b[0m     \u001b[38;5;28;01mraise\u001b[39;00m \u001b[38;5;167;01mValueError\u001b[39;00m(msg)\n\u001b[0;32m   1179\u001b[0m \u001b[38;5;28;01mif\u001b[39;00m copy \u001b[38;5;129;01mor\u001b[39;00m is_object_dtype(arr\u001b[38;5;241m.\u001b[39mdtype) \u001b[38;5;129;01mor\u001b[39;00m is_object_dtype(dtype):\n\u001b[0;32m   1180\u001b[0m     \u001b[38;5;66;03m# Explicit copy, or required since NumPy can't view from / to object.\u001b[39;00m\n\u001b[1;32m-> 1181\u001b[0m     \u001b[38;5;28;01mreturn\u001b[39;00m \u001b[43marr\u001b[49m\u001b[38;5;241;43m.\u001b[39;49m\u001b[43mastype\u001b[49m\u001b[43m(\u001b[49m\u001b[43mdtype\u001b[49m\u001b[43m,\u001b[49m\u001b[43m \u001b[49m\u001b[43mcopy\u001b[49m\u001b[38;5;241;43m=\u001b[39;49m\u001b[38;5;28;43;01mTrue\u001b[39;49;00m\u001b[43m)\u001b[49m\n\u001b[0;32m   1183\u001b[0m \u001b[38;5;28;01mreturn\u001b[39;00m arr\u001b[38;5;241m.\u001b[39mastype(dtype, copy\u001b[38;5;241m=\u001b[39mcopy)\n",
      "\u001b[1;31mValueError\u001b[0m: could not convert string to float: 'Missing Data'"
     ]
    }
   ],
   "source": [
    "titanic[\"Age\"] = titanic.Age.astype(\"float\")"
   ]
  },
  {
   "cell_type": "markdown",
   "id": "54c4ec68",
   "metadata": {
    "ExecuteTime": {
     "end_time": "2022-10-01T11:58:43.086976Z",
     "start_time": "2022-10-01T11:58:43.067882Z"
    }
   },
   "source": [
    "Age칼럼은 문자와 결측치 등 데이터 유형이 혼합되어 있어서 변경할 수 없다."
   ]
  },
  {
   "cell_type": "code",
   "execution_count": 80,
   "id": "19a4bdcc",
   "metadata": {
    "ExecuteTime": {
     "end_time": "2022-10-01T11:59:27.641747Z",
     "start_time": "2022-10-01T11:59:27.624391Z"
    }
   },
   "outputs": [
    {
     "name": "stdout",
     "output_type": "stream",
     "text": [
      "<class 'pandas.core.frame.DataFrame'>\n",
      "RangeIndex: 894 entries, 0 to 893\n",
      "Data columns (total 9 columns):\n",
      " #   Column    Non-Null Count  Dtype  \n",
      "---  ------    --------------  -----  \n",
      " 0   Survived  894 non-null    int32  \n",
      " 1   Class     894 non-null    int64  \n",
      " 2   Gender    894 non-null    object \n",
      " 3   Age       758 non-null    object \n",
      " 4   SipSp     894 non-null    int64  \n",
      " 5   ParCh     894 non-null    int64  \n",
      " 6   Fare      894 non-null    float64\n",
      " 7   Emb       892 non-null    object \n",
      " 8   Deck      203 non-null    object \n",
      "dtypes: float64(1), int32(1), int64(3), object(4)\n",
      "memory usage: 59.5+ KB\n"
     ]
    }
   ],
   "source": [
    "titanic.info()"
   ]
  },
  {
   "cell_type": "code",
   "execution_count": 81,
   "id": "cf0a5004",
   "metadata": {
    "ExecuteTime": {
     "end_time": "2022-10-01T11:59:59.339124Z",
     "start_time": "2022-10-01T11:59:59.311516Z"
    }
   },
   "outputs": [
    {
     "data": {
      "text/html": [
       "<div>\n",
       "<style scoped>\n",
       "    .dataframe tbody tr th:only-of-type {\n",
       "        vertical-align: middle;\n",
       "    }\n",
       "\n",
       "    .dataframe tbody tr th {\n",
       "        vertical-align: top;\n",
       "    }\n",
       "\n",
       "    .dataframe thead th {\n",
       "        text-align: right;\n",
       "    }\n",
       "</style>\n",
       "<table border=\"1\" class=\"dataframe\">\n",
       "  <thead>\n",
       "    <tr style=\"text-align: right;\">\n",
       "      <th></th>\n",
       "      <th>Survived</th>\n",
       "      <th>Class</th>\n",
       "      <th>Gender</th>\n",
       "      <th>Age</th>\n",
       "      <th>SipSp</th>\n",
       "      <th>ParCh</th>\n",
       "      <th>Fare</th>\n",
       "      <th>Emb</th>\n",
       "      <th>Deck</th>\n",
       "    </tr>\n",
       "  </thead>\n",
       "  <tbody>\n",
       "    <tr>\n",
       "      <th>0</th>\n",
       "      <td>0</td>\n",
       "      <td>3</td>\n",
       "      <td>male</td>\n",
       "      <td>22.0</td>\n",
       "      <td>1</td>\n",
       "      <td>0</td>\n",
       "      <td>7.2500</td>\n",
       "      <td>S</td>\n",
       "      <td>NaN</td>\n",
       "    </tr>\n",
       "    <tr>\n",
       "      <th>1</th>\n",
       "      <td>1</td>\n",
       "      <td>1</td>\n",
       "      <td>female</td>\n",
       "      <td>38.0</td>\n",
       "      <td>1</td>\n",
       "      <td>0</td>\n",
       "      <td>71.2833</td>\n",
       "      <td>C</td>\n",
       "      <td>C</td>\n",
       "    </tr>\n",
       "    <tr>\n",
       "      <th>2</th>\n",
       "      <td>1</td>\n",
       "      <td>3</td>\n",
       "      <td>female</td>\n",
       "      <td>26.0</td>\n",
       "      <td>0</td>\n",
       "      <td>0</td>\n",
       "      <td>7.9250</td>\n",
       "      <td>S</td>\n",
       "      <td>NaN</td>\n",
       "    </tr>\n",
       "    <tr>\n",
       "      <th>3</th>\n",
       "      <td>1</td>\n",
       "      <td>1</td>\n",
       "      <td>female</td>\n",
       "      <td>35.0</td>\n",
       "      <td>1</td>\n",
       "      <td>0</td>\n",
       "      <td>53.1000</td>\n",
       "      <td>S</td>\n",
       "      <td>C</td>\n",
       "    </tr>\n",
       "    <tr>\n",
       "      <th>4</th>\n",
       "      <td>0</td>\n",
       "      <td>3</td>\n",
       "      <td>male</td>\n",
       "      <td>35.0</td>\n",
       "      <td>0</td>\n",
       "      <td>0</td>\n",
       "      <td>8.0500</td>\n",
       "      <td>S</td>\n",
       "      <td>NaN</td>\n",
       "    </tr>\n",
       "  </tbody>\n",
       "</table>\n",
       "</div>"
      ],
      "text/plain": [
       "   Survived  Class  Gender   Age  SipSp  ParCh     Fare Emb Deck\n",
       "0         0      3    male  22.0      1      0   7.2500   S  NaN\n",
       "1         1      1  female  38.0      1      0  71.2833   C    C\n",
       "2         1      3  female  26.0      0      0   7.9250   S  NaN\n",
       "3         1      1  female  35.0      1      0  53.1000   S    C\n",
       "4         0      3    male  35.0      0      0   8.0500   S  NaN"
      ]
     },
     "execution_count": 81,
     "metadata": {},
     "output_type": "execute_result"
    }
   ],
   "source": [
    "titanic.head()"
   ]
  },
  {
   "cell_type": "markdown",
   "id": "2c04f21a",
   "metadata": {},
   "source": [
    "#### 결측값 삭제하기"
   ]
  },
  {
   "cell_type": "code",
   "execution_count": 104,
   "id": "b54227ed",
   "metadata": {
    "ExecuteTime": {
     "end_time": "2022-10-01T12:12:47.817935Z",
     "start_time": "2022-10-01T12:12:47.788413Z"
    }
   },
   "outputs": [
    {
     "data": {
      "text/html": [
       "<div>\n",
       "<style scoped>\n",
       "    .dataframe tbody tr th:only-of-type {\n",
       "        vertical-align: middle;\n",
       "    }\n",
       "\n",
       "    .dataframe tbody tr th {\n",
       "        vertical-align: top;\n",
       "    }\n",
       "\n",
       "    .dataframe thead th {\n",
       "        text-align: right;\n",
       "    }\n",
       "</style>\n",
       "<table border=\"1\" class=\"dataframe\">\n",
       "  <thead>\n",
       "    <tr style=\"text-align: right;\">\n",
       "      <th></th>\n",
       "      <th>Survived</th>\n",
       "      <th>Class</th>\n",
       "      <th>Gender</th>\n",
       "      <th>Age</th>\n",
       "      <th>SipSp</th>\n",
       "      <th>ParCh</th>\n",
       "      <th>Fare</th>\n",
       "      <th>Emb</th>\n",
       "      <th>Deck</th>\n",
       "    </tr>\n",
       "  </thead>\n",
       "  <tbody>\n",
       "    <tr>\n",
       "      <th>0</th>\n",
       "      <td>False</td>\n",
       "      <td>False</td>\n",
       "      <td>False</td>\n",
       "      <td>False</td>\n",
       "      <td>False</td>\n",
       "      <td>False</td>\n",
       "      <td>False</td>\n",
       "      <td>False</td>\n",
       "      <td>True</td>\n",
       "    </tr>\n",
       "    <tr>\n",
       "      <th>1</th>\n",
       "      <td>False</td>\n",
       "      <td>False</td>\n",
       "      <td>False</td>\n",
       "      <td>False</td>\n",
       "      <td>False</td>\n",
       "      <td>False</td>\n",
       "      <td>False</td>\n",
       "      <td>False</td>\n",
       "      <td>False</td>\n",
       "    </tr>\n",
       "    <tr>\n",
       "      <th>2</th>\n",
       "      <td>False</td>\n",
       "      <td>False</td>\n",
       "      <td>False</td>\n",
       "      <td>False</td>\n",
       "      <td>False</td>\n",
       "      <td>False</td>\n",
       "      <td>False</td>\n",
       "      <td>False</td>\n",
       "      <td>True</td>\n",
       "    </tr>\n",
       "    <tr>\n",
       "      <th>3</th>\n",
       "      <td>False</td>\n",
       "      <td>False</td>\n",
       "      <td>False</td>\n",
       "      <td>False</td>\n",
       "      <td>False</td>\n",
       "      <td>False</td>\n",
       "      <td>False</td>\n",
       "      <td>False</td>\n",
       "      <td>False</td>\n",
       "    </tr>\n",
       "    <tr>\n",
       "      <th>4</th>\n",
       "      <td>False</td>\n",
       "      <td>False</td>\n",
       "      <td>False</td>\n",
       "      <td>False</td>\n",
       "      <td>False</td>\n",
       "      <td>False</td>\n",
       "      <td>False</td>\n",
       "      <td>False</td>\n",
       "      <td>True</td>\n",
       "    </tr>\n",
       "    <tr>\n",
       "      <th>...</th>\n",
       "      <td>...</td>\n",
       "      <td>...</td>\n",
       "      <td>...</td>\n",
       "      <td>...</td>\n",
       "      <td>...</td>\n",
       "      <td>...</td>\n",
       "      <td>...</td>\n",
       "      <td>...</td>\n",
       "      <td>...</td>\n",
       "    </tr>\n",
       "    <tr>\n",
       "      <th>889</th>\n",
       "      <td>False</td>\n",
       "      <td>False</td>\n",
       "      <td>False</td>\n",
       "      <td>False</td>\n",
       "      <td>False</td>\n",
       "      <td>False</td>\n",
       "      <td>False</td>\n",
       "      <td>False</td>\n",
       "      <td>False</td>\n",
       "    </tr>\n",
       "    <tr>\n",
       "      <th>890</th>\n",
       "      <td>False</td>\n",
       "      <td>False</td>\n",
       "      <td>False</td>\n",
       "      <td>False</td>\n",
       "      <td>False</td>\n",
       "      <td>False</td>\n",
       "      <td>False</td>\n",
       "      <td>False</td>\n",
       "      <td>True</td>\n",
       "    </tr>\n",
       "    <tr>\n",
       "      <th>891</th>\n",
       "      <td>False</td>\n",
       "      <td>False</td>\n",
       "      <td>False</td>\n",
       "      <td>False</td>\n",
       "      <td>False</td>\n",
       "      <td>False</td>\n",
       "      <td>False</td>\n",
       "      <td>False</td>\n",
       "      <td>True</td>\n",
       "    </tr>\n",
       "    <tr>\n",
       "      <th>892</th>\n",
       "      <td>False</td>\n",
       "      <td>False</td>\n",
       "      <td>False</td>\n",
       "      <td>False</td>\n",
       "      <td>False</td>\n",
       "      <td>False</td>\n",
       "      <td>False</td>\n",
       "      <td>False</td>\n",
       "      <td>True</td>\n",
       "    </tr>\n",
       "    <tr>\n",
       "      <th>893</th>\n",
       "      <td>False</td>\n",
       "      <td>False</td>\n",
       "      <td>False</td>\n",
       "      <td>False</td>\n",
       "      <td>False</td>\n",
       "      <td>False</td>\n",
       "      <td>False</td>\n",
       "      <td>False</td>\n",
       "      <td>True</td>\n",
       "    </tr>\n",
       "  </tbody>\n",
       "</table>\n",
       "<p>894 rows × 9 columns</p>\n",
       "</div>"
      ],
      "text/plain": [
       "     Survived  Class  Gender    Age  SipSp  ParCh   Fare    Emb   Deck\n",
       "0       False  False   False  False  False  False  False  False   True\n",
       "1       False  False   False  False  False  False  False  False  False\n",
       "2       False  False   False  False  False  False  False  False   True\n",
       "3       False  False   False  False  False  False  False  False  False\n",
       "4       False  False   False  False  False  False  False  False   True\n",
       "..        ...    ...     ...    ...    ...    ...    ...    ...    ...\n",
       "889     False  False   False  False  False  False  False  False  False\n",
       "890     False  False   False  False  False  False  False  False   True\n",
       "891     False  False   False  False  False  False  False  False   True\n",
       "892     False  False   False  False  False  False  False  False   True\n",
       "893     False  False   False  False  False  False  False  False   True\n",
       "\n",
       "[894 rows x 9 columns]"
      ]
     },
     "execution_count": 104,
     "metadata": {},
     "output_type": "execute_result"
    }
   ],
   "source": [
    "titanic.isna()"
   ]
  },
  {
   "cell_type": "code",
   "execution_count": 105,
   "id": "ece36b4a",
   "metadata": {
    "ExecuteTime": {
     "end_time": "2022-10-01T12:13:24.727701Z",
     "start_time": "2022-10-01T12:13:24.704672Z"
    }
   },
   "outputs": [
    {
     "data": {
      "text/plain": [
       "Survived      0\n",
       "Class         0\n",
       "Gender        0\n",
       "Age         136\n",
       "SipSp         0\n",
       "ParCh         0\n",
       "Fare          0\n",
       "Emb           2\n",
       "Deck        691\n",
       "dtype: int64"
      ]
     },
     "execution_count": 105,
     "metadata": {},
     "output_type": "execute_result"
    }
   ],
   "source": [
    "titanic.isna().sum(axis=0)"
   ]
  },
  {
   "cell_type": "code",
   "execution_count": 106,
   "id": "bcbd0f7d",
   "metadata": {
    "ExecuteTime": {
     "end_time": "2022-10-01T12:13:46.501792Z",
     "start_time": "2022-10-01T12:13:46.484790Z"
    }
   },
   "outputs": [
    {
     "data": {
      "text/plain": [
       "0      1\n",
       "1      0\n",
       "2      1\n",
       "3      0\n",
       "4      1\n",
       "      ..\n",
       "889    0\n",
       "890    1\n",
       "891    1\n",
       "892    1\n",
       "893    1\n",
       "Length: 894, dtype: int64"
      ]
     },
     "execution_count": 106,
     "metadata": {},
     "output_type": "execute_result"
    }
   ],
   "source": [
    "titanic.isna().sum(axis=1)"
   ]
  },
  {
   "cell_type": "code",
   "execution_count": 108,
   "id": "b997d5de",
   "metadata": {
    "ExecuteTime": {
     "end_time": "2022-10-01T12:15:00.533294Z",
     "start_time": "2022-10-01T12:15:00.508340Z"
    }
   },
   "outputs": [
    {
     "data": {
      "text/plain": [
       "Survived    False\n",
       "Class       False\n",
       "Gender      False\n",
       "Age          True\n",
       "SipSp       False\n",
       "ParCh       False\n",
       "Fare        False\n",
       "Emb          True\n",
       "Deck         True\n",
       "dtype: bool"
      ]
     },
     "execution_count": 108,
     "metadata": {},
     "output_type": "execute_result"
    }
   ],
   "source": [
    "# any는 결측값이 하나라도 있는 경우 True 반환\n",
    "titanic.isna().any(axis=0)"
   ]
  },
  {
   "cell_type": "code",
   "execution_count": 109,
   "id": "1c40eb93",
   "metadata": {
    "ExecuteTime": {
     "end_time": "2022-10-01T12:15:23.152665Z",
     "start_time": "2022-10-01T12:15:23.134912Z"
    }
   },
   "outputs": [
    {
     "data": {
      "text/plain": [
       "0       True\n",
       "1      False\n",
       "2       True\n",
       "3      False\n",
       "4       True\n",
       "       ...  \n",
       "889    False\n",
       "890     True\n",
       "891     True\n",
       "892     True\n",
       "893     True\n",
       "Length: 894, dtype: bool"
      ]
     },
     "execution_count": 109,
     "metadata": {},
     "output_type": "execute_result"
    }
   ],
   "source": [
    "titanic.isna().any(axis=1)"
   ]
  },
  {
   "cell_type": "code",
   "execution_count": 112,
   "id": "8c35ea98",
   "metadata": {
    "ExecuteTime": {
     "end_time": "2022-10-01T12:16:32.749845Z",
     "start_time": "2022-10-01T12:16:32.728848Z"
    }
   },
   "outputs": [
    {
     "data": {
      "text/html": [
       "<div>\n",
       "<style scoped>\n",
       "    .dataframe tbody tr th:only-of-type {\n",
       "        vertical-align: middle;\n",
       "    }\n",
       "\n",
       "    .dataframe tbody tr th {\n",
       "        vertical-align: top;\n",
       "    }\n",
       "\n",
       "    .dataframe thead th {\n",
       "        text-align: right;\n",
       "    }\n",
       "</style>\n",
       "<table border=\"1\" class=\"dataframe\">\n",
       "  <thead>\n",
       "    <tr style=\"text-align: right;\">\n",
       "      <th></th>\n",
       "      <th>Survived</th>\n",
       "      <th>Class</th>\n",
       "      <th>Gender</th>\n",
       "      <th>Age</th>\n",
       "      <th>SipSp</th>\n",
       "      <th>ParCh</th>\n",
       "      <th>Fare</th>\n",
       "      <th>Emb</th>\n",
       "      <th>Deck</th>\n",
       "    </tr>\n",
       "  </thead>\n",
       "  <tbody>\n",
       "    <tr>\n",
       "      <th>0</th>\n",
       "      <td>0</td>\n",
       "      <td>3</td>\n",
       "      <td>male</td>\n",
       "      <td>22.0</td>\n",
       "      <td>1</td>\n",
       "      <td>0</td>\n",
       "      <td>7.2500</td>\n",
       "      <td>S</td>\n",
       "      <td>NaN</td>\n",
       "    </tr>\n",
       "    <tr>\n",
       "      <th>2</th>\n",
       "      <td>1</td>\n",
       "      <td>3</td>\n",
       "      <td>female</td>\n",
       "      <td>26.0</td>\n",
       "      <td>0</td>\n",
       "      <td>0</td>\n",
       "      <td>7.9250</td>\n",
       "      <td>S</td>\n",
       "      <td>NaN</td>\n",
       "    </tr>\n",
       "    <tr>\n",
       "      <th>4</th>\n",
       "      <td>0</td>\n",
       "      <td>3</td>\n",
       "      <td>male</td>\n",
       "      <td>35.0</td>\n",
       "      <td>0</td>\n",
       "      <td>0</td>\n",
       "      <td>8.0500</td>\n",
       "      <td>S</td>\n",
       "      <td>NaN</td>\n",
       "    </tr>\n",
       "    <tr>\n",
       "      <th>5</th>\n",
       "      <td>0</td>\n",
       "      <td>3</td>\n",
       "      <td>male</td>\n",
       "      <td>Missing Data</td>\n",
       "      <td>0</td>\n",
       "      <td>0</td>\n",
       "      <td>8.4583</td>\n",
       "      <td>Q</td>\n",
       "      <td>NaN</td>\n",
       "    </tr>\n",
       "    <tr>\n",
       "      <th>7</th>\n",
       "      <td>0</td>\n",
       "      <td>3</td>\n",
       "      <td>male</td>\n",
       "      <td>2.0</td>\n",
       "      <td>3</td>\n",
       "      <td>1</td>\n",
       "      <td>21.0750</td>\n",
       "      <td>S</td>\n",
       "      <td>NaN</td>\n",
       "    </tr>\n",
       "    <tr>\n",
       "      <th>...</th>\n",
       "      <td>...</td>\n",
       "      <td>...</td>\n",
       "      <td>...</td>\n",
       "      <td>...</td>\n",
       "      <td>...</td>\n",
       "      <td>...</td>\n",
       "      <td>...</td>\n",
       "      <td>...</td>\n",
       "      <td>...</td>\n",
       "    </tr>\n",
       "    <tr>\n",
       "      <th>888</th>\n",
       "      <td>0</td>\n",
       "      <td>3</td>\n",
       "      <td>female</td>\n",
       "      <td>NaN</td>\n",
       "      <td>1</td>\n",
       "      <td>2</td>\n",
       "      <td>23.4500</td>\n",
       "      <td>S</td>\n",
       "      <td>NaN</td>\n",
       "    </tr>\n",
       "    <tr>\n",
       "      <th>890</th>\n",
       "      <td>0</td>\n",
       "      <td>3</td>\n",
       "      <td>male</td>\n",
       "      <td>32.0</td>\n",
       "      <td>0</td>\n",
       "      <td>0</td>\n",
       "      <td>7.7500</td>\n",
       "      <td>Q</td>\n",
       "      <td>NaN</td>\n",
       "    </tr>\n",
       "    <tr>\n",
       "      <th>891</th>\n",
       "      <td>0</td>\n",
       "      <td>2</td>\n",
       "      <td>male</td>\n",
       "      <td>24.0</td>\n",
       "      <td>0</td>\n",
       "      <td>0</td>\n",
       "      <td>10.5000</td>\n",
       "      <td>S</td>\n",
       "      <td>NaN</td>\n",
       "    </tr>\n",
       "    <tr>\n",
       "      <th>892</th>\n",
       "      <td>0</td>\n",
       "      <td>3</td>\n",
       "      <td>male</td>\n",
       "      <td>34.0</td>\n",
       "      <td>1</td>\n",
       "      <td>1</td>\n",
       "      <td>14.4000</td>\n",
       "      <td>S</td>\n",
       "      <td>NaN</td>\n",
       "    </tr>\n",
       "    <tr>\n",
       "      <th>893</th>\n",
       "      <td>0</td>\n",
       "      <td>3</td>\n",
       "      <td>male</td>\n",
       "      <td>36.0</td>\n",
       "      <td>0</td>\n",
       "      <td>0</td>\n",
       "      <td>7.8958</td>\n",
       "      <td>S</td>\n",
       "      <td>NaN</td>\n",
       "    </tr>\n",
       "  </tbody>\n",
       "</table>\n",
       "<p>707 rows × 9 columns</p>\n",
       "</div>"
      ],
      "text/plain": [
       "     Survived  Class  Gender           Age  SipSp  ParCh     Fare Emb Deck\n",
       "0           0      3    male          22.0      1      0   7.2500   S  NaN\n",
       "2           1      3  female          26.0      0      0   7.9250   S  NaN\n",
       "4           0      3    male          35.0      0      0   8.0500   S  NaN\n",
       "5           0      3    male  Missing Data      0      0   8.4583   Q  NaN\n",
       "7           0      3    male           2.0      3      1  21.0750   S  NaN\n",
       "..        ...    ...     ...           ...    ...    ...      ...  ..  ...\n",
       "888         0      3  female           NaN      1      2  23.4500   S  NaN\n",
       "890         0      3    male          32.0      0      0   7.7500   Q  NaN\n",
       "891         0      2    male          24.0      0      0  10.5000   S  NaN\n",
       "892         0      3    male          34.0      1      1  14.4000   S  NaN\n",
       "893         0      3    male          36.0      0      0   7.8958   S  NaN\n",
       "\n",
       "[707 rows x 9 columns]"
      ]
     },
     "execution_count": 112,
     "metadata": {},
     "output_type": "execute_result"
    }
   ],
   "source": [
    "# 결측값이 있는 행 보기\n",
    "titanic[titanic.isna().any(axis=1)]"
   ]
  },
  {
   "cell_type": "code",
   "execution_count": 113,
   "id": "ccefef91",
   "metadata": {
    "ExecuteTime": {
     "end_time": "2022-10-01T12:17:36.885869Z",
     "start_time": "2022-10-01T12:17:36.875779Z"
    }
   },
   "outputs": [
    {
     "data": {
      "text/plain": [
       "Survived    894\n",
       "Class       894\n",
       "Gender      894\n",
       "Age         758\n",
       "SipSp       894\n",
       "ParCh       894\n",
       "Fare        894\n",
       "Emb         892\n",
       "Deck        203\n",
       "dtype: int64"
      ]
     },
     "execution_count": 113,
     "metadata": {},
     "output_type": "execute_result"
    }
   ],
   "source": [
    "titanic.notna().sum(axis=0)"
   ]
  },
  {
   "cell_type": "code",
   "execution_count": 114,
   "id": "571b0cba",
   "metadata": {
    "ExecuteTime": {
     "end_time": "2022-10-01T12:17:56.429820Z",
     "start_time": "2022-10-01T12:17:56.406742Z"
    }
   },
   "outputs": [
    {
     "data": {
      "text/plain": [
       "Survived     True\n",
       "Class        True\n",
       "Gender       True\n",
       "Age         False\n",
       "SipSp        True\n",
       "ParCh        True\n",
       "Fare         True\n",
       "Emb         False\n",
       "Deck        False\n",
       "dtype: bool"
      ]
     },
     "execution_count": 114,
     "metadata": {},
     "output_type": "execute_result"
    }
   ],
   "source": [
    "titanic.notna().all(axis=0)"
   ]
  },
  {
   "cell_type": "code",
   "execution_count": 115,
   "id": "cbc565ad",
   "metadata": {
    "ExecuteTime": {
     "end_time": "2022-10-01T12:18:44.160943Z",
     "start_time": "2022-10-01T12:18:36.438635Z"
    }
   },
   "outputs": [],
   "source": [
    "import matplotlib.pyplot as plt\n",
    "import seaborn as sns"
   ]
  },
  {
   "cell_type": "code",
   "execution_count": 116,
   "id": "14e448d4",
   "metadata": {
    "ExecuteTime": {
     "end_time": "2022-10-01T12:19:31.051294Z",
     "start_time": "2022-10-01T12:19:30.281678Z"
    }
   },
   "outputs": [
    {
     "data": {
      "image/png": "[encoded data removed]",
      "text/plain": [
       "<Figure size 864x576 with 2 Axes>"
      ]
     },
     "metadata": {
      "needs_background": "light"
     },
     "output_type": "display_data"
    }
   ],
   "source": [
    "plt.figure(figsize=(12,8))\n",
    "sns.heatmap(titanic.notna())\n",
    "plt.show()"
   ]
  },
  {
   "cell_type": "code",
   "execution_count": 118,
   "id": "3e1ee3e7",
   "metadata": {
    "ExecuteTime": {
     "end_time": "2022-10-01T12:20:44.150864Z",
     "start_time": "2022-10-01T12:20:44.132649Z"
    }
   },
   "outputs": [
    {
     "data": {
      "text/plain": [
       "NaN             136\n",
       "Missing Data     41\n",
       "24.0             31\n",
       "22.0             27\n",
       "18.0             26\n",
       "               ... \n",
       "55.5              1\n",
       "66.0              1\n",
       "0.92              1\n",
       "23.5              1\n",
       "74.0              1\n",
       "Name: Age, Length: 93, dtype: int64"
      ]
     },
     "execution_count": 118,
     "metadata": {},
     "output_type": "execute_result"
    }
   ],
   "source": [
    "titanic.Age.value_counts(dropna=False)"
   ]
  },
  {
   "cell_type": "code",
   "execution_count": 120,
   "id": "cbaeffa9",
   "metadata": {
    "ExecuteTime": {
     "end_time": "2022-10-01T12:22:22.125129Z",
     "start_time": "2022-10-01T12:22:22.107571Z"
    }
   },
   "outputs": [],
   "source": [
    "titanic.Age.replace(to_replace = \"Missing Data\", value = np.nan, inplace = True)"
   ]
  },
  {
   "cell_type": "code",
   "execution_count": 121,
   "id": "d2901bdc",
   "metadata": {
    "ExecuteTime": {
     "end_time": "2022-10-01T12:22:33.756669Z",
     "start_time": "2022-10-01T12:22:33.743672Z"
    }
   },
   "outputs": [
    {
     "name": "stdout",
     "output_type": "stream",
     "text": [
      "<class 'pandas.core.frame.DataFrame'>\n",
      "RangeIndex: 894 entries, 0 to 893\n",
      "Data columns (total 9 columns):\n",
      " #   Column    Non-Null Count  Dtype  \n",
      "---  ------    --------------  -----  \n",
      " 0   Survived  894 non-null    int32  \n",
      " 1   Class     894 non-null    int64  \n",
      " 2   Gender    894 non-null    object \n",
      " 3   Age       717 non-null    object \n",
      " 4   SipSp     894 non-null    int64  \n",
      " 5   ParCh     894 non-null    int64  \n",
      " 6   Fare      894 non-null    float64\n",
      " 7   Emb       892 non-null    object \n",
      " 8   Deck      203 non-null    object \n",
      "dtypes: float64(1), int32(1), int64(3), object(4)\n",
      "memory usage: 59.5+ KB\n"
     ]
    }
   ],
   "source": [
    "titanic.info()"
   ]
  },
  {
   "cell_type": "code",
   "execution_count": 122,
   "id": "0af11b9f",
   "metadata": {
    "ExecuteTime": {
     "end_time": "2022-10-01T12:23:11.671871Z",
     "start_time": "2022-10-01T12:23:11.662700Z"
    }
   },
   "outputs": [],
   "source": [
    "titanic.Age = titanic.Age.astype(\"float\")"
   ]
  },
  {
   "cell_type": "code",
   "execution_count": 126,
   "id": "a80e1e6e",
   "metadata": {
    "ExecuteTime": {
     "end_time": "2022-10-01T12:33:03.397974Z",
     "start_time": "2022-10-01T12:33:03.378972Z"
    }
   },
   "outputs": [
    {
     "data": {
      "text/plain": [
       "30.718507670850766"
      ]
     },
     "execution_count": 126,
     "metadata": {},
     "output_type": "execute_result"
    }
   ],
   "source": [
    "titanic.Age.mean(skipna = True)"
   ]
  },
  {
   "cell_type": "code",
   "execution_count": 134,
   "id": "732f2626",
   "metadata": {
    "ExecuteTime": {
     "end_time": "2022-10-01T12:33:47.264099Z",
     "start_time": "2022-10-01T12:33:47.248019Z"
    }
   },
   "outputs": [
    {
     "data": {
      "text/plain": [
       "(894, 9)"
      ]
     },
     "execution_count": 134,
     "metadata": {},
     "output_type": "execute_result"
    }
   ],
   "source": [
    "titanic.shape"
   ]
  },
  {
   "cell_type": "code",
   "execution_count": 135,
   "id": "abe50bb4",
   "metadata": {
    "ExecuteTime": {
     "end_time": "2022-10-01T12:34:04.299654Z",
     "start_time": "2022-10-01T12:34:04.292665Z"
    }
   },
   "outputs": [
    {
     "data": {
      "text/plain": [
       "(182, 9)"
      ]
     },
     "execution_count": 135,
     "metadata": {},
     "output_type": "execute_result"
    }
   ],
   "source": [
    "titanic.dropna().shape"
   ]
  },
  {
   "cell_type": "markdown",
   "id": "f7d82140",
   "metadata": {},
   "source": [
    "결측치가 있는 행을 단순히 제거하게 되면 이후 통계 분석이나 머신 러닝에 있어서 결과의 신뢰도가 크게 떨어진다"
   ]
  },
  {
   "cell_type": "code",
   "execution_count": 136,
   "id": "798a2562",
   "metadata": {
    "ExecuteTime": {
     "end_time": "2022-10-01T12:35:28.939185Z",
     "start_time": "2022-10-01T12:35:28.926909Z"
    }
   },
   "outputs": [
    {
     "data": {
      "text/plain": [
       "(182, 9)"
      ]
     },
     "execution_count": 136,
     "metadata": {},
     "output_type": "execute_result"
    }
   ],
   "source": [
    "titanic.dropna(axis=0, how=\"any\").shape"
   ]
  },
  {
   "cell_type": "code",
   "execution_count": 137,
   "id": "e2a79313",
   "metadata": {
    "ExecuteTime": {
     "end_time": "2022-10-01T12:35:58.981501Z",
     "start_time": "2022-10-01T12:35:58.968828Z"
    }
   },
   "outputs": [
    {
     "data": {
      "text/plain": [
       "(894, 6)"
      ]
     },
     "execution_count": 137,
     "metadata": {},
     "output_type": "execute_result"
    }
   ],
   "source": [
    "titanic.dropna(axis=1, how=\"any\").shape"
   ]
  },
  {
   "cell_type": "code",
   "execution_count": 138,
   "id": "a8e7465c",
   "metadata": {
    "ExecuteTime": {
     "end_time": "2022-10-01T12:36:20.980045Z",
     "start_time": "2022-10-01T12:36:20.958187Z"
    }
   },
   "outputs": [
    {
     "data": {
      "text/plain": [
       "(894, 9)"
      ]
     },
     "execution_count": 138,
     "metadata": {},
     "output_type": "execute_result"
    }
   ],
   "source": [
    "titanic.dropna(axis=0, how=\"all\").shape"
   ]
  },
  {
   "cell_type": "code",
   "execution_count": 139,
   "id": "24be6168",
   "metadata": {
    "ExecuteTime": {
     "end_time": "2022-10-01T12:36:28.877420Z",
     "start_time": "2022-10-01T12:36:28.862816Z"
    }
   },
   "outputs": [
    {
     "data": {
      "text/plain": [
       "(894, 9)"
      ]
     },
     "execution_count": 139,
     "metadata": {},
     "output_type": "execute_result"
    }
   ],
   "source": [
    "titanic.dropna(axis=1, how=\"all\").shape"
   ]
  },
  {
   "cell_type": "code",
   "execution_count": 140,
   "id": "7dc6a92d",
   "metadata": {
    "ExecuteTime": {
     "end_time": "2022-10-01T12:38:09.616682Z",
     "start_time": "2022-10-01T12:38:09.597564Z"
    }
   },
   "outputs": [
    {
     "data": {
      "text/plain": [
       "(736, 9)"
      ]
     },
     "execution_count": 140,
     "metadata": {},
     "output_type": "execute_result"
    }
   ],
   "source": [
    "#실측값이 2개 미만이려 drop\n",
    "titanic.dropna(axis=0, thresh = 8).shape"
   ]
  },
  {
   "cell_type": "code",
   "execution_count": 142,
   "id": "2271f480",
   "metadata": {
    "ExecuteTime": {
     "end_time": "2022-10-01T12:39:05.498852Z",
     "start_time": "2022-10-01T12:39:05.489189Z"
    }
   },
   "outputs": [
    {
     "data": {
      "text/plain": [
       "(894, 8)"
      ]
     },
     "execution_count": 142,
     "metadata": {},
     "output_type": "execute_result"
    }
   ],
   "source": [
    "titanic.dropna(axis=1, thresh = 500).shape"
   ]
  },
  {
   "cell_type": "code",
   "execution_count": 143,
   "id": "2c37c128",
   "metadata": {
    "ExecuteTime": {
     "end_time": "2022-10-01T12:39:56.437956Z",
     "start_time": "2022-10-01T12:39:56.418955Z"
    }
   },
   "outputs": [],
   "source": [
    "titanic.dropna(axis=1, thresh = 500, inplace=True)"
   ]
  },
  {
   "cell_type": "code",
   "execution_count": 144,
   "id": "1b339bd2",
   "metadata": {
    "ExecuteTime": {
     "end_time": "2022-10-01T12:40:04.527205Z",
     "start_time": "2022-10-01T12:40:04.504132Z"
    }
   },
   "outputs": [
    {
     "data": {
      "text/html": [
       "<div>\n",
       "<style scoped>\n",
       "    .dataframe tbody tr th:only-of-type {\n",
       "        vertical-align: middle;\n",
       "    }\n",
       "\n",
       "    .dataframe tbody tr th {\n",
       "        vertical-align: top;\n",
       "    }\n",
       "\n",
       "    .dataframe thead th {\n",
       "        text-align: right;\n",
       "    }\n",
       "</style>\n",
       "<table border=\"1\" class=\"dataframe\">\n",
       "  <thead>\n",
       "    <tr style=\"text-align: right;\">\n",
       "      <th></th>\n",
       "      <th>Survived</th>\n",
       "      <th>Class</th>\n",
       "      <th>Gender</th>\n",
       "      <th>Age</th>\n",
       "      <th>SipSp</th>\n",
       "      <th>ParCh</th>\n",
       "      <th>Fare</th>\n",
       "      <th>Emb</th>\n",
       "    </tr>\n",
       "  </thead>\n",
       "  <tbody>\n",
       "    <tr>\n",
       "      <th>0</th>\n",
       "      <td>0</td>\n",
       "      <td>3</td>\n",
       "      <td>male</td>\n",
       "      <td>22.0</td>\n",
       "      <td>1</td>\n",
       "      <td>0</td>\n",
       "      <td>7.2500</td>\n",
       "      <td>S</td>\n",
       "    </tr>\n",
       "    <tr>\n",
       "      <th>1</th>\n",
       "      <td>1</td>\n",
       "      <td>1</td>\n",
       "      <td>female</td>\n",
       "      <td>38.0</td>\n",
       "      <td>1</td>\n",
       "      <td>0</td>\n",
       "      <td>71.2833</td>\n",
       "      <td>C</td>\n",
       "    </tr>\n",
       "    <tr>\n",
       "      <th>2</th>\n",
       "      <td>1</td>\n",
       "      <td>3</td>\n",
       "      <td>female</td>\n",
       "      <td>26.0</td>\n",
       "      <td>0</td>\n",
       "      <td>0</td>\n",
       "      <td>7.9250</td>\n",
       "      <td>S</td>\n",
       "    </tr>\n",
       "    <tr>\n",
       "      <th>3</th>\n",
       "      <td>1</td>\n",
       "      <td>1</td>\n",
       "      <td>female</td>\n",
       "      <td>35.0</td>\n",
       "      <td>1</td>\n",
       "      <td>0</td>\n",
       "      <td>53.1000</td>\n",
       "      <td>S</td>\n",
       "    </tr>\n",
       "    <tr>\n",
       "      <th>4</th>\n",
       "      <td>0</td>\n",
       "      <td>3</td>\n",
       "      <td>male</td>\n",
       "      <td>35.0</td>\n",
       "      <td>0</td>\n",
       "      <td>0</td>\n",
       "      <td>8.0500</td>\n",
       "      <td>S</td>\n",
       "    </tr>\n",
       "  </tbody>\n",
       "</table>\n",
       "</div>"
      ],
      "text/plain": [
       "   Survived  Class  Gender   Age  SipSp  ParCh     Fare Emb\n",
       "0         0      3    male  22.0      1      0   7.2500   S\n",
       "1         1      1  female  38.0      1      0  71.2833   C\n",
       "2         1      3  female  26.0      0      0   7.9250   S\n",
       "3         1      1  female  35.0      1      0  53.1000   S\n",
       "4         0      3    male  35.0      0      0   8.0500   S"
      ]
     },
     "execution_count": 144,
     "metadata": {},
     "output_type": "execute_result"
    }
   ],
   "source": [
    "titanic.head()"
   ]
  },
  {
   "cell_type": "code",
   "execution_count": 145,
   "id": "ce3afe5a",
   "metadata": {
    "ExecuteTime": {
     "end_time": "2022-10-01T12:40:26.483995Z",
     "start_time": "2022-10-01T12:40:26.463765Z"
    }
   },
   "outputs": [
    {
     "data": {
      "text/plain": [
       "(894, 8)"
      ]
     },
     "execution_count": 145,
     "metadata": {},
     "output_type": "execute_result"
    }
   ],
   "source": [
    "titanic.shape"
   ]
  },
  {
   "cell_type": "code",
   "execution_count": 147,
   "id": "0d19fd7e",
   "metadata": {
    "ExecuteTime": {
     "end_time": "2022-10-01T12:42:40.304283Z",
     "start_time": "2022-10-01T12:42:40.295481Z"
    }
   },
   "outputs": [
    {
     "data": {
      "text/plain": [
       "(717, 8)"
      ]
     },
     "execution_count": 147,
     "metadata": {},
     "output_type": "execute_result"
    }
   ],
   "source": [
    "titanic.dropna(axis = 0, subset= [\"Survived\", \"Class\",\"Gender\", \"Age\"], how = \"any\").shape"
   ]
  },
  {
   "cell_type": "code",
   "execution_count": null,
   "id": "42df857d",
   "metadata": {},
   "outputs": [],
   "source": []
  },
  {
   "cell_type": "markdown",
   "id": "91a89271",
   "metadata": {},
   "source": [
    "#### 결측값 채우기 fillna()"
   ]
  },
  {
   "cell_type": "code",
   "execution_count": 150,
   "id": "b8c2b49d",
   "metadata": {
    "ExecuteTime": {
     "end_time": "2022-10-01T12:47:44.150517Z",
     "start_time": "2022-10-01T12:47:44.135513Z"
    }
   },
   "outputs": [
    {
     "data": {
      "text/plain": [
       "30.718507670850766"
      ]
     },
     "execution_count": 150,
     "metadata": {},
     "output_type": "execute_result"
    }
   ],
   "source": [
    "titanic.Age.mean()"
   ]
  },
  {
   "cell_type": "code",
   "execution_count": 153,
   "id": "550ed775",
   "metadata": {
    "ExecuteTime": {
     "end_time": "2022-10-01T12:48:26.260909Z",
     "start_time": "2022-10-01T12:48:26.251166Z"
    }
   },
   "outputs": [
    {
     "data": {
      "text/plain": [
       "30.7"
      ]
     },
     "execution_count": 153,
     "metadata": {},
     "output_type": "execute_result"
    }
   ],
   "source": [
    "mean = round(titanic.Age.mean(),1)\n",
    "mean"
   ]
  },
  {
   "cell_type": "code",
   "execution_count": 154,
   "id": "fc63ed39",
   "metadata": {
    "ExecuteTime": {
     "end_time": "2022-10-01T12:48:58.928122Z",
     "start_time": "2022-10-01T12:48:58.914125Z"
    }
   },
   "outputs": [],
   "source": [
    "titanic.Age.fillna(mean, inplace=True)"
   ]
  },
  {
   "cell_type": "code",
   "execution_count": 155,
   "id": "f8e51196",
   "metadata": {
    "ExecuteTime": {
     "end_time": "2022-10-01T12:49:47.292607Z",
     "start_time": "2022-10-01T12:49:47.267989Z"
    },
    "scrolled": true
   },
   "outputs": [
    {
     "data": {
      "text/html": [
       "<div>\n",
       "<style scoped>\n",
       "    .dataframe tbody tr th:only-of-type {\n",
       "        vertical-align: middle;\n",
       "    }\n",
       "\n",
       "    .dataframe tbody tr th {\n",
       "        vertical-align: top;\n",
       "    }\n",
       "\n",
       "    .dataframe thead th {\n",
       "        text-align: right;\n",
       "    }\n",
       "</style>\n",
       "<table border=\"1\" class=\"dataframe\">\n",
       "  <thead>\n",
       "    <tr style=\"text-align: right;\">\n",
       "      <th></th>\n",
       "      <th>Survived</th>\n",
       "      <th>Class</th>\n",
       "      <th>Gender</th>\n",
       "      <th>Age</th>\n",
       "      <th>SipSp</th>\n",
       "      <th>ParCh</th>\n",
       "      <th>Fare</th>\n",
       "      <th>Emb</th>\n",
       "    </tr>\n",
       "  </thead>\n",
       "  <tbody>\n",
       "    <tr>\n",
       "      <th>0</th>\n",
       "      <td>0</td>\n",
       "      <td>3</td>\n",
       "      <td>male</td>\n",
       "      <td>22.0</td>\n",
       "      <td>1</td>\n",
       "      <td>0</td>\n",
       "      <td>7.2500</td>\n",
       "      <td>S</td>\n",
       "    </tr>\n",
       "    <tr>\n",
       "      <th>1</th>\n",
       "      <td>1</td>\n",
       "      <td>1</td>\n",
       "      <td>female</td>\n",
       "      <td>38.0</td>\n",
       "      <td>1</td>\n",
       "      <td>0</td>\n",
       "      <td>71.2833</td>\n",
       "      <td>C</td>\n",
       "    </tr>\n",
       "    <tr>\n",
       "      <th>2</th>\n",
       "      <td>1</td>\n",
       "      <td>3</td>\n",
       "      <td>female</td>\n",
       "      <td>26.0</td>\n",
       "      <td>0</td>\n",
       "      <td>0</td>\n",
       "      <td>7.9250</td>\n",
       "      <td>S</td>\n",
       "    </tr>\n",
       "    <tr>\n",
       "      <th>3</th>\n",
       "      <td>1</td>\n",
       "      <td>1</td>\n",
       "      <td>female</td>\n",
       "      <td>35.0</td>\n",
       "      <td>1</td>\n",
       "      <td>0</td>\n",
       "      <td>53.1000</td>\n",
       "      <td>S</td>\n",
       "    </tr>\n",
       "    <tr>\n",
       "      <th>4</th>\n",
       "      <td>0</td>\n",
       "      <td>3</td>\n",
       "      <td>male</td>\n",
       "      <td>35.0</td>\n",
       "      <td>0</td>\n",
       "      <td>0</td>\n",
       "      <td>8.0500</td>\n",
       "      <td>S</td>\n",
       "    </tr>\n",
       "  </tbody>\n",
       "</table>\n",
       "</div>"
      ],
      "text/plain": [
       "   Survived  Class  Gender   Age  SipSp  ParCh     Fare Emb\n",
       "0         0      3    male  22.0      1      0   7.2500   S\n",
       "1         1      1  female  38.0      1      0  71.2833   C\n",
       "2         1      3  female  26.0      0      0   7.9250   S\n",
       "3         1      1  female  35.0      1      0  53.1000   S\n",
       "4         0      3    male  35.0      0      0   8.0500   S"
      ]
     },
     "execution_count": 155,
     "metadata": {},
     "output_type": "execute_result"
    }
   ],
   "source": [
    "titanic.head()"
   ]
  },
  {
   "cell_type": "code",
   "execution_count": 156,
   "id": "a2bd0d7d",
   "metadata": {
    "ExecuteTime": {
     "end_time": "2022-10-01T12:50:06.992740Z",
     "start_time": "2022-10-01T12:50:06.974836Z"
    }
   },
   "outputs": [
    {
     "name": "stdout",
     "output_type": "stream",
     "text": [
      "<class 'pandas.core.frame.DataFrame'>\n",
      "RangeIndex: 894 entries, 0 to 893\n",
      "Data columns (total 8 columns):\n",
      " #   Column    Non-Null Count  Dtype  \n",
      "---  ------    --------------  -----  \n",
      " 0   Survived  894 non-null    int32  \n",
      " 1   Class     894 non-null    int64  \n",
      " 2   Gender    894 non-null    object \n",
      " 3   Age       894 non-null    float64\n",
      " 4   SipSp     894 non-null    int64  \n",
      " 5   ParCh     894 non-null    int64  \n",
      " 6   Fare      894 non-null    float64\n",
      " 7   Emb       892 non-null    object \n",
      "dtypes: float64(2), int32(1), int64(3), object(2)\n",
      "memory usage: 52.5+ KB\n"
     ]
    }
   ],
   "source": [
    "titanic.info()"
   ]
  },
  {
   "cell_type": "markdown",
   "id": "28f434a1",
   "metadata": {},
   "source": [
    "#### 중복값 다루기"
   ]
  },
  {
   "cell_type": "code",
   "execution_count": 159,
   "id": "83056116",
   "metadata": {
    "ExecuteTime": {
     "end_time": "2022-10-01T12:58:12.614130Z",
     "start_time": "2022-10-01T12:58:12.594046Z"
    }
   },
   "outputs": [
    {
     "name": "stdout",
     "output_type": "stream",
     "text": [
      "<class 'pandas.core.frame.DataFrame'>\n",
      "RangeIndex: 894 entries, 0 to 893\n",
      "Data columns (total 8 columns):\n",
      " #   Column    Non-Null Count  Dtype  \n",
      "---  ------    --------------  -----  \n",
      " 0   Survived  894 non-null    int32  \n",
      " 1   Class     894 non-null    int64  \n",
      " 2   Gender    894 non-null    object \n",
      " 3   Age       894 non-null    float64\n",
      " 4   SipSp     894 non-null    int64  \n",
      " 5   ParCh     894 non-null    int64  \n",
      " 6   Fare      894 non-null    float64\n",
      " 7   Emb       892 non-null    object \n",
      "dtypes: float64(2), int32(1), int64(3), object(2)\n",
      "memory usage: 52.5+ KB\n"
     ]
    }
   ],
   "source": [
    "titanic.info()"
   ]
  },
  {
   "cell_type": "code",
   "execution_count": 160,
   "id": "e6638815",
   "metadata": {
    "ExecuteTime": {
     "end_time": "2022-10-01T12:58:49.932136Z",
     "start_time": "2022-10-01T12:58:49.915990Z"
    }
   },
   "outputs": [
    {
     "data": {
      "text/plain": [
       "0      False\n",
       "1      False\n",
       "2      False\n",
       "3      False\n",
       "4      False\n",
       "       ...  \n",
       "889    False\n",
       "890    False\n",
       "891     True\n",
       "892     True\n",
       "893     True\n",
       "Length: 894, dtype: bool"
      ]
     },
     "execution_count": 160,
     "metadata": {},
     "output_type": "execute_result"
    }
   ],
   "source": [
    "titanic.duplicated(keep = \"first\")"
   ]
  },
  {
   "cell_type": "code",
   "execution_count": 163,
   "id": "4c9cb5a1",
   "metadata": {
    "ExecuteTime": {
     "end_time": "2022-10-01T13:03:15.423041Z",
     "start_time": "2022-10-01T13:03:15.411137Z"
    }
   },
   "outputs": [
    {
     "data": {
      "text/plain": [
       "888"
      ]
     },
     "execution_count": 163,
     "metadata": {},
     "output_type": "execute_result"
    }
   ],
   "source": [
    "titanic.duplicated(keep = \"first\", subset = [\"Survived\", \"Class\"]).sum()"
   ]
  },
  {
   "cell_type": "code",
   "execution_count": 162,
   "id": "9e84f02c",
   "metadata": {
    "ExecuteTime": {
     "end_time": "2022-10-01T13:00:01.446620Z",
     "start_time": "2022-10-01T13:00:01.415533Z"
    }
   },
   "outputs": [
    {
     "data": {
      "text/html": [
       "<div>\n",
       "<style scoped>\n",
       "    .dataframe tbody tr th:only-of-type {\n",
       "        vertical-align: middle;\n",
       "    }\n",
       "\n",
       "    .dataframe tbody tr th {\n",
       "        vertical-align: top;\n",
       "    }\n",
       "\n",
       "    .dataframe thead th {\n",
       "        text-align: right;\n",
       "    }\n",
       "</style>\n",
       "<table border=\"1\" class=\"dataframe\">\n",
       "  <thead>\n",
       "    <tr style=\"text-align: right;\">\n",
       "      <th></th>\n",
       "      <th>Survived</th>\n",
       "      <th>Class</th>\n",
       "      <th>Gender</th>\n",
       "      <th>Age</th>\n",
       "      <th>SipSp</th>\n",
       "      <th>ParCh</th>\n",
       "      <th>Fare</th>\n",
       "      <th>Emb</th>\n",
       "    </tr>\n",
       "  </thead>\n",
       "  <tbody>\n",
       "    <tr>\n",
       "      <th>4</th>\n",
       "      <td>0</td>\n",
       "      <td>3</td>\n",
       "      <td>male</td>\n",
       "      <td>35.0</td>\n",
       "      <td>0</td>\n",
       "      <td>0</td>\n",
       "      <td>8.0500</td>\n",
       "      <td>S</td>\n",
       "    </tr>\n",
       "    <tr>\n",
       "      <th>26</th>\n",
       "      <td>0</td>\n",
       "      <td>3</td>\n",
       "      <td>male</td>\n",
       "      <td>30.7</td>\n",
       "      <td>0</td>\n",
       "      <td>0</td>\n",
       "      <td>7.2250</td>\n",
       "      <td>C</td>\n",
       "    </tr>\n",
       "    <tr>\n",
       "      <th>28</th>\n",
       "      <td>1</td>\n",
       "      <td>3</td>\n",
       "      <td>female</td>\n",
       "      <td>30.7</td>\n",
       "      <td>0</td>\n",
       "      <td>0</td>\n",
       "      <td>7.8792</td>\n",
       "      <td>Q</td>\n",
       "    </tr>\n",
       "    <tr>\n",
       "      <th>29</th>\n",
       "      <td>0</td>\n",
       "      <td>3</td>\n",
       "      <td>male</td>\n",
       "      <td>30.7</td>\n",
       "      <td>0</td>\n",
       "      <td>0</td>\n",
       "      <td>7.8958</td>\n",
       "      <td>S</td>\n",
       "    </tr>\n",
       "    <tr>\n",
       "      <th>32</th>\n",
       "      <td>1</td>\n",
       "      <td>3</td>\n",
       "      <td>female</td>\n",
       "      <td>30.7</td>\n",
       "      <td>0</td>\n",
       "      <td>0</td>\n",
       "      <td>7.7500</td>\n",
       "      <td>Q</td>\n",
       "    </tr>\n",
       "    <tr>\n",
       "      <th>...</th>\n",
       "      <td>...</td>\n",
       "      <td>...</td>\n",
       "      <td>...</td>\n",
       "      <td>...</td>\n",
       "      <td>...</td>\n",
       "      <td>...</td>\n",
       "      <td>...</td>\n",
       "      <td>...</td>\n",
       "    </tr>\n",
       "    <tr>\n",
       "      <th>884</th>\n",
       "      <td>0</td>\n",
       "      <td>3</td>\n",
       "      <td>male</td>\n",
       "      <td>25.0</td>\n",
       "      <td>0</td>\n",
       "      <td>0</td>\n",
       "      <td>7.0500</td>\n",
       "      <td>S</td>\n",
       "    </tr>\n",
       "    <tr>\n",
       "      <th>886</th>\n",
       "      <td>0</td>\n",
       "      <td>2</td>\n",
       "      <td>male</td>\n",
       "      <td>27.0</td>\n",
       "      <td>0</td>\n",
       "      <td>0</td>\n",
       "      <td>13.0000</td>\n",
       "      <td>S</td>\n",
       "    </tr>\n",
       "    <tr>\n",
       "      <th>891</th>\n",
       "      <td>0</td>\n",
       "      <td>2</td>\n",
       "      <td>male</td>\n",
       "      <td>24.0</td>\n",
       "      <td>0</td>\n",
       "      <td>0</td>\n",
       "      <td>10.5000</td>\n",
       "      <td>S</td>\n",
       "    </tr>\n",
       "    <tr>\n",
       "      <th>892</th>\n",
       "      <td>0</td>\n",
       "      <td>3</td>\n",
       "      <td>male</td>\n",
       "      <td>34.0</td>\n",
       "      <td>1</td>\n",
       "      <td>1</td>\n",
       "      <td>14.4000</td>\n",
       "      <td>S</td>\n",
       "    </tr>\n",
       "    <tr>\n",
       "      <th>893</th>\n",
       "      <td>0</td>\n",
       "      <td>3</td>\n",
       "      <td>male</td>\n",
       "      <td>36.0</td>\n",
       "      <td>0</td>\n",
       "      <td>0</td>\n",
       "      <td>7.8958</td>\n",
       "      <td>S</td>\n",
       "    </tr>\n",
       "  </tbody>\n",
       "</table>\n",
       "<p>173 rows × 8 columns</p>\n",
       "</div>"
      ],
      "text/plain": [
       "     Survived  Class  Gender   Age  SipSp  ParCh     Fare Emb\n",
       "4           0      3    male  35.0      0      0   8.0500   S\n",
       "26          0      3    male  30.7      0      0   7.2250   C\n",
       "28          1      3  female  30.7      0      0   7.8792   Q\n",
       "29          0      3    male  30.7      0      0   7.8958   S\n",
       "32          1      3  female  30.7      0      0   7.7500   Q\n",
       "..        ...    ...     ...   ...    ...    ...      ...  ..\n",
       "884         0      3    male  25.0      0      0   7.0500   S\n",
       "886         0      2    male  27.0      0      0  13.0000   S\n",
       "891         0      2    male  24.0      0      0  10.5000   S\n",
       "892         0      3    male  34.0      1      1  14.4000   S\n",
       "893         0      3    male  36.0      0      0   7.8958   S\n",
       "\n",
       "[173 rows x 8 columns]"
      ]
     },
     "execution_count": 162,
     "metadata": {},
     "output_type": "execute_result"
    }
   ],
   "source": [
    "titanic[titanic.duplicated(keep = False)]"
   ]
  },
  {
   "cell_type": "markdown",
   "id": "6d9c4404",
   "metadata": {},
   "source": [
    "식별자(ex.이름)가 없으므로 정확한 중복값을 찾아내기 어렵다"
   ]
  },
  {
   "cell_type": "markdown",
   "id": "15649fba",
   "metadata": {},
   "source": [
    "중복되는 행이라고 가정하고"
   ]
  },
  {
   "cell_type": "code",
   "execution_count": 169,
   "id": "ce44c323",
   "metadata": {
    "ExecuteTime": {
     "end_time": "2022-10-01T13:11:14.899197Z",
     "start_time": "2022-10-01T13:11:14.878372Z"
    }
   },
   "outputs": [],
   "source": [
    "titanic.drop(index=[891,892,893], inplace=True)"
   ]
  },
  {
   "cell_type": "code",
   "execution_count": 171,
   "id": "bad116ab",
   "metadata": {
    "ExecuteTime": {
     "end_time": "2022-10-01T13:11:58.727990Z",
     "start_time": "2022-10-01T13:11:58.700989Z"
    }
   },
   "outputs": [
    {
     "data": {
      "text/html": [
       "<div>\n",
       "<style scoped>\n",
       "    .dataframe tbody tr th:only-of-type {\n",
       "        vertical-align: middle;\n",
       "    }\n",
       "\n",
       "    .dataframe tbody tr th {\n",
       "        vertical-align: top;\n",
       "    }\n",
       "\n",
       "    .dataframe thead th {\n",
       "        text-align: right;\n",
       "    }\n",
       "</style>\n",
       "<table border=\"1\" class=\"dataframe\">\n",
       "  <thead>\n",
       "    <tr style=\"text-align: right;\">\n",
       "      <th></th>\n",
       "      <th>Survived</th>\n",
       "      <th>Class</th>\n",
       "      <th>Gender</th>\n",
       "      <th>Age</th>\n",
       "      <th>SipSp</th>\n",
       "      <th>ParCh</th>\n",
       "      <th>Fare</th>\n",
       "      <th>Emb</th>\n",
       "    </tr>\n",
       "  </thead>\n",
       "  <tbody>\n",
       "    <tr>\n",
       "      <th>886</th>\n",
       "      <td>0</td>\n",
       "      <td>2</td>\n",
       "      <td>male</td>\n",
       "      <td>27.0</td>\n",
       "      <td>0</td>\n",
       "      <td>0</td>\n",
       "      <td>13.00</td>\n",
       "      <td>S</td>\n",
       "    </tr>\n",
       "    <tr>\n",
       "      <th>887</th>\n",
       "      <td>1</td>\n",
       "      <td>1</td>\n",
       "      <td>female</td>\n",
       "      <td>19.0</td>\n",
       "      <td>0</td>\n",
       "      <td>0</td>\n",
       "      <td>30.00</td>\n",
       "      <td>S</td>\n",
       "    </tr>\n",
       "    <tr>\n",
       "      <th>888</th>\n",
       "      <td>0</td>\n",
       "      <td>3</td>\n",
       "      <td>female</td>\n",
       "      <td>30.7</td>\n",
       "      <td>1</td>\n",
       "      <td>2</td>\n",
       "      <td>23.45</td>\n",
       "      <td>S</td>\n",
       "    </tr>\n",
       "    <tr>\n",
       "      <th>889</th>\n",
       "      <td>1</td>\n",
       "      <td>1</td>\n",
       "      <td>male</td>\n",
       "      <td>26.0</td>\n",
       "      <td>0</td>\n",
       "      <td>0</td>\n",
       "      <td>30.00</td>\n",
       "      <td>C</td>\n",
       "    </tr>\n",
       "    <tr>\n",
       "      <th>890</th>\n",
       "      <td>0</td>\n",
       "      <td>3</td>\n",
       "      <td>male</td>\n",
       "      <td>32.0</td>\n",
       "      <td>0</td>\n",
       "      <td>0</td>\n",
       "      <td>7.75</td>\n",
       "      <td>Q</td>\n",
       "    </tr>\n",
       "  </tbody>\n",
       "</table>\n",
       "</div>"
      ],
      "text/plain": [
       "     Survived  Class  Gender   Age  SipSp  ParCh   Fare Emb\n",
       "886         0      2    male  27.0      0      0  13.00   S\n",
       "887         1      1  female  19.0      0      0  30.00   S\n",
       "888         0      3  female  30.7      1      2  23.45   S\n",
       "889         1      1    male  26.0      0      0  30.00   C\n",
       "890         0      3    male  32.0      0      0   7.75   Q"
      ]
     },
     "execution_count": 171,
     "metadata": {},
     "output_type": "execute_result"
    }
   ],
   "source": [
    "titanic.tail()"
   ]
  },
  {
   "cell_type": "code",
   "execution_count": null,
   "id": "eb308c75",
   "metadata": {},
   "outputs": [],
   "source": []
  },
  {
   "cell_type": "markdown",
   "id": "8fdad9c2",
   "metadata": {},
   "source": [
    "#### 극단값 다루기"
   ]
  },
  {
   "cell_type": "code",
   "execution_count": 185,
   "id": "04f7c5e5",
   "metadata": {
    "ExecuteTime": {
     "end_time": "2022-10-01T13:27:31.641605Z",
     "start_time": "2022-10-01T13:27:31.496608Z"
    }
   },
   "outputs": [
    {
     "data": {
      "image/png": "[encoded data removed]",
      "text/plain": [
       "<Figure size 864x432 with 1 Axes>"
      ]
     },
     "metadata": {
      "needs_background": "light"
     },
     "output_type": "display_data"
    }
   ],
   "source": [
    "plt.figure(figsize = (12,6))\n",
    "titanic.boxplot(\"Age\")\n",
    "plt.show()"
   ]
  },
  {
   "cell_type": "markdown",
   "id": "2cbb2afc",
   "metadata": {},
   "source": [
    "100, 250, 500 극단값 존재"
   ]
  },
  {
   "cell_type": "code",
   "execution_count": 188,
   "id": "e649a734",
   "metadata": {
    "ExecuteTime": {
     "end_time": "2022-10-01T13:30:36.087728Z",
     "start_time": "2022-10-01T13:30:35.938730Z"
    }
   },
   "outputs": [
    {
     "data": {
      "image/png": "[encoded data removed]",
      "text/plain": [
       "<Figure size 864x432 with 1 Axes>"
      ]
     },
     "metadata": {
      "needs_background": "light"
     },
     "output_type": "display_data"
    }
   ],
   "source": [
    "plt.figure(figsize = (12,6))\n",
    "titanic.Age.plot()\n",
    "plt.show()\n",
    "#x축은 인덱스 y축은 age"
   ]
  },
  {
   "cell_type": "code",
   "execution_count": 189,
   "id": "b0bf5631",
   "metadata": {
    "ExecuteTime": {
     "end_time": "2022-10-01T13:31:09.377269Z",
     "start_time": "2022-10-01T13:31:09.363273Z"
    }
   },
   "outputs": [
    {
     "data": {
      "text/plain": [
       "453    490.00\n",
       "785    250.00\n",
       "217    102.00\n",
       "630     80.00\n",
       "851     74.00\n",
       "        ...  \n",
       "831      0.83\n",
       "469      0.75\n",
       "644      0.75\n",
       "755      0.67\n",
       "803      0.42\n",
       "Name: Age, Length: 891, dtype: float64"
      ]
     },
     "execution_count": 189,
     "metadata": {},
     "output_type": "execute_result"
    }
   ],
   "source": [
    "titanic.Age.sort_values(ascending=False)"
   ]
  },
  {
   "cell_type": "code",
   "execution_count": 190,
   "id": "a8c11d65",
   "metadata": {
    "ExecuteTime": {
     "end_time": "2022-10-01T13:31:32.598448Z",
     "start_time": "2022-10-01T13:31:32.587451Z"
    }
   },
   "outputs": [
    {
     "data": {
      "text/plain": [
       "258    512.3292\n",
       "737    512.3292\n",
       "679    512.3292\n",
       "88     263.0000\n",
       "27     263.0000\n",
       "         ...   \n",
       "633      0.0000\n",
       "413      0.0000\n",
       "822      0.0000\n",
       "732      0.0000\n",
       "674      0.0000\n",
       "Name: Fare, Length: 891, dtype: float64"
      ]
     },
     "execution_count": 190,
     "metadata": {},
     "output_type": "execute_result"
    }
   ],
   "source": [
    "titanic.Fare.sort_values(ascending=False)\n",
    "# 한명만 고액을 지불했다면 극단값으로 인식할 수 있지만 3명이나 했기 때문에 스위트룸으로 추정"
   ]
  },
  {
   "cell_type": "code",
   "execution_count": 191,
   "id": "3ae70185",
   "metadata": {
    "ExecuteTime": {
     "end_time": "2022-10-01T13:32:39.789964Z",
     "start_time": "2022-10-01T13:32:39.642967Z"
    }
   },
   "outputs": [
    {
     "data": {
      "image/png": "[encoded data removed]",
      "text/plain": [
       "<Figure size 864x432 with 1 Axes>"
      ]
     },
     "metadata": {
      "needs_background": "light"
     },
     "output_type": "display_data"
    }
   ],
   "source": [
    "plt.figure(figsize = (12,6))\n",
    "titanic.Fare.plot()\n",
    "plt.show()"
   ]
  },
  {
   "cell_type": "code",
   "execution_count": 192,
   "id": "e841daf6",
   "metadata": {
    "ExecuteTime": {
     "end_time": "2022-10-01T13:34:01.499416Z",
     "start_time": "2022-10-01T13:34:01.476417Z"
    }
   },
   "outputs": [
    {
     "data": {
      "text/html": [
       "<div>\n",
       "<style scoped>\n",
       "    .dataframe tbody tr th:only-of-type {\n",
       "        vertical-align: middle;\n",
       "    }\n",
       "\n",
       "    .dataframe tbody tr th {\n",
       "        vertical-align: top;\n",
       "    }\n",
       "\n",
       "    .dataframe thead th {\n",
       "        text-align: right;\n",
       "    }\n",
       "</style>\n",
       "<table border=\"1\" class=\"dataframe\">\n",
       "  <thead>\n",
       "    <tr style=\"text-align: right;\">\n",
       "      <th></th>\n",
       "      <th>Survived</th>\n",
       "      <th>Class</th>\n",
       "      <th>Gender</th>\n",
       "      <th>Age</th>\n",
       "      <th>SipSp</th>\n",
       "      <th>ParCh</th>\n",
       "      <th>Fare</th>\n",
       "      <th>Emb</th>\n",
       "    </tr>\n",
       "  </thead>\n",
       "  <tbody>\n",
       "    <tr>\n",
       "      <th>217</th>\n",
       "      <td>0</td>\n",
       "      <td>2</td>\n",
       "      <td>male</td>\n",
       "      <td>102.0</td>\n",
       "      <td>1</td>\n",
       "      <td>0</td>\n",
       "      <td>27.0000</td>\n",
       "      <td>S</td>\n",
       "    </tr>\n",
       "    <tr>\n",
       "      <th>453</th>\n",
       "      <td>1</td>\n",
       "      <td>1</td>\n",
       "      <td>male</td>\n",
       "      <td>490.0</td>\n",
       "      <td>1</td>\n",
       "      <td>0</td>\n",
       "      <td>89.1042</td>\n",
       "      <td>C</td>\n",
       "    </tr>\n",
       "    <tr>\n",
       "      <th>785</th>\n",
       "      <td>0</td>\n",
       "      <td>3</td>\n",
       "      <td>male</td>\n",
       "      <td>250.0</td>\n",
       "      <td>0</td>\n",
       "      <td>0</td>\n",
       "      <td>7.2500</td>\n",
       "      <td>S</td>\n",
       "    </tr>\n",
       "  </tbody>\n",
       "</table>\n",
       "</div>"
      ],
      "text/plain": [
       "     Survived  Class Gender    Age  SipSp  ParCh     Fare Emb\n",
       "217         0      2   male  102.0      1      0  27.0000   S\n",
       "453         1      1   male  490.0      1      0  89.1042   C\n",
       "785         0      3   male  250.0      0      0   7.2500   S"
      ]
     },
     "execution_count": 192,
     "metadata": {},
     "output_type": "execute_result"
    }
   ],
   "source": [
    "titanic.loc[titanic.Age > 90]"
   ]
  },
  {
   "cell_type": "code",
   "execution_count": 193,
   "id": "7af92f61",
   "metadata": {
    "ExecuteTime": {
     "end_time": "2022-10-01T13:34:47.225365Z",
     "start_time": "2022-10-01T13:34:47.212366Z"
    }
   },
   "outputs": [],
   "source": [
    "index_out1 = titanic.loc[titanic.Age > 90].index"
   ]
  },
  {
   "cell_type": "code",
   "execution_count": 194,
   "id": "89e7c410",
   "metadata": {
    "ExecuteTime": {
     "end_time": "2022-10-01T13:34:57.496092Z",
     "start_time": "2022-10-01T13:34:57.476095Z"
    }
   },
   "outputs": [
    {
     "data": {
      "text/plain": [
       "Int64Index([217, 453, 785], dtype='int64')"
      ]
     },
     "execution_count": 194,
     "metadata": {},
     "output_type": "execute_result"
    }
   ],
   "source": [
    "index_out1"
   ]
  },
  {
   "cell_type": "markdown",
   "id": "92d03c8e",
   "metadata": {},
   "source": [
    "펫 핑거(인간이 저지르는 기기조작 실수)일 수도 있다. 소수점을 잘못 입력. 49와 25 대신에 490과 250이 입력된 것."
   ]
  },
  {
   "cell_type": "code",
   "execution_count": 195,
   "id": "36569bd2",
   "metadata": {
    "ExecuteTime": {
     "end_time": "2022-10-01T13:39:19.055058Z",
     "start_time": "2022-10-01T13:39:19.039059Z"
    }
   },
   "outputs": [],
   "source": [
    "# 소수점 위치 돌려놓기\n",
    "titanic.loc[titanic.Age > 90, \"Age\"] = titanic.loc[titanic.Age > 90, \"Age\"]/10"
   ]
  },
  {
   "cell_type": "code",
   "execution_count": 196,
   "id": "1b108d97",
   "metadata": {
    "ExecuteTime": {
     "end_time": "2022-10-01T13:40:00.745309Z",
     "start_time": "2022-10-01T13:40:00.721308Z"
    }
   },
   "outputs": [
    {
     "data": {
      "text/html": [
       "<div>\n",
       "<style scoped>\n",
       "    .dataframe tbody tr th:only-of-type {\n",
       "        vertical-align: middle;\n",
       "    }\n",
       "\n",
       "    .dataframe tbody tr th {\n",
       "        vertical-align: top;\n",
       "    }\n",
       "\n",
       "    .dataframe thead th {\n",
       "        text-align: right;\n",
       "    }\n",
       "</style>\n",
       "<table border=\"1\" class=\"dataframe\">\n",
       "  <thead>\n",
       "    <tr style=\"text-align: right;\">\n",
       "      <th></th>\n",
       "      <th>Survived</th>\n",
       "      <th>Class</th>\n",
       "      <th>Gender</th>\n",
       "      <th>Age</th>\n",
       "      <th>SipSp</th>\n",
       "      <th>ParCh</th>\n",
       "      <th>Fare</th>\n",
       "      <th>Emb</th>\n",
       "    </tr>\n",
       "  </thead>\n",
       "  <tbody>\n",
       "    <tr>\n",
       "      <th>217</th>\n",
       "      <td>0</td>\n",
       "      <td>2</td>\n",
       "      <td>male</td>\n",
       "      <td>10.2</td>\n",
       "      <td>1</td>\n",
       "      <td>0</td>\n",
       "      <td>27.0000</td>\n",
       "      <td>S</td>\n",
       "    </tr>\n",
       "    <tr>\n",
       "      <th>453</th>\n",
       "      <td>1</td>\n",
       "      <td>1</td>\n",
       "      <td>male</td>\n",
       "      <td>49.0</td>\n",
       "      <td>1</td>\n",
       "      <td>0</td>\n",
       "      <td>89.1042</td>\n",
       "      <td>C</td>\n",
       "    </tr>\n",
       "    <tr>\n",
       "      <th>785</th>\n",
       "      <td>0</td>\n",
       "      <td>3</td>\n",
       "      <td>male</td>\n",
       "      <td>25.0</td>\n",
       "      <td>0</td>\n",
       "      <td>0</td>\n",
       "      <td>7.2500</td>\n",
       "      <td>S</td>\n",
       "    </tr>\n",
       "  </tbody>\n",
       "</table>\n",
       "</div>"
      ],
      "text/plain": [
       "     Survived  Class Gender   Age  SipSp  ParCh     Fare Emb\n",
       "217         0      2   male  10.2      1      0  27.0000   S\n",
       "453         1      1   male  49.0      1      0  89.1042   C\n",
       "785         0      3   male  25.0      0      0   7.2500   S"
      ]
     },
     "execution_count": 196,
     "metadata": {},
     "output_type": "execute_result"
    }
   ],
   "source": [
    "titanic.loc[index_out1]"
   ]
  },
  {
   "cell_type": "code",
   "execution_count": 197,
   "id": "c5b1686d",
   "metadata": {
    "ExecuteTime": {
     "end_time": "2022-10-01T13:41:22.948126Z",
     "start_time": "2022-10-01T13:41:22.941128Z"
    }
   },
   "outputs": [],
   "source": [
    "titanic.loc[217,\"Age\"] = 42.0"
   ]
  },
  {
   "cell_type": "code",
   "execution_count": 198,
   "id": "faaf278a",
   "metadata": {
    "ExecuteTime": {
     "end_time": "2022-10-01T13:41:38.099114Z",
     "start_time": "2022-10-01T13:41:37.906114Z"
    }
   },
   "outputs": [
    {
     "data": {
      "image/png": "[encoded data removed]",
      "text/plain": [
       "<Figure size 864x432 with 1 Axes>"
      ]
     },
     "metadata": {
      "needs_background": "light"
     },
     "output_type": "display_data"
    }
   ],
   "source": [
    "plt.figure(figsize = (12,6))\n",
    "titanic.Age.plot()\n",
    "plt.show()"
   ]
  },
  {
   "cell_type": "markdown",
   "id": "9ffb0be1",
   "metadata": {},
   "source": [
    "#### Categorical Data"
   ]
  },
  {
   "cell_type": "code",
   "execution_count": 199,
   "id": "89a032b4",
   "metadata": {
    "ExecuteTime": {
     "end_time": "2022-10-01T13:44:59.252329Z",
     "start_time": "2022-10-01T13:44:59.236332Z"
    }
   },
   "outputs": [
    {
     "data": {
      "text/plain": [
       "Survived      2\n",
       "Class         3\n",
       "Gender        2\n",
       "Age          89\n",
       "SipSp         7\n",
       "ParCh         7\n",
       "Fare        248\n",
       "Emb           3\n",
       "dtype: int64"
      ]
     },
     "execution_count": 199,
     "metadata": {},
     "output_type": "execute_result"
    }
   ],
   "source": [
    "titanic.nunique()"
   ]
  },
  {
   "cell_type": "code",
   "execution_count": 202,
   "id": "89d0323d",
   "metadata": {
    "ExecuteTime": {
     "end_time": "2022-10-01T13:46:00.116327Z",
     "start_time": "2022-10-01T13:46:00.094352Z"
    }
   },
   "outputs": [
    {
     "data": {
      "text/html": [
       "<div>\n",
       "<style scoped>\n",
       "    .dataframe tbody tr th:only-of-type {\n",
       "        vertical-align: middle;\n",
       "    }\n",
       "\n",
       "    .dataframe tbody tr th {\n",
       "        vertical-align: top;\n",
       "    }\n",
       "\n",
       "    .dataframe thead th {\n",
       "        text-align: right;\n",
       "    }\n",
       "</style>\n",
       "<table border=\"1\" class=\"dataframe\">\n",
       "  <thead>\n",
       "    <tr style=\"text-align: right;\">\n",
       "      <th></th>\n",
       "      <th>Gender</th>\n",
       "      <th>Emb</th>\n",
       "    </tr>\n",
       "  </thead>\n",
       "  <tbody>\n",
       "    <tr>\n",
       "      <th>count</th>\n",
       "      <td>891</td>\n",
       "      <td>889</td>\n",
       "    </tr>\n",
       "    <tr>\n",
       "      <th>unique</th>\n",
       "      <td>2</td>\n",
       "      <td>3</td>\n",
       "    </tr>\n",
       "    <tr>\n",
       "      <th>top</th>\n",
       "      <td>male</td>\n",
       "      <td>S</td>\n",
       "    </tr>\n",
       "    <tr>\n",
       "      <th>freq</th>\n",
       "      <td>577</td>\n",
       "      <td>644</td>\n",
       "    </tr>\n",
       "  </tbody>\n",
       "</table>\n",
       "</div>"
      ],
      "text/plain": [
       "       Gender  Emb\n",
       "count     891  889\n",
       "unique      2    3\n",
       "top      male    S\n",
       "freq      577  644"
      ]
     },
     "execution_count": 202,
     "metadata": {},
     "output_type": "execute_result"
    }
   ],
   "source": [
    "titanic[[\"Gender\", \"Emb\"]].describe()"
   ]
  },
  {
   "cell_type": "code",
   "execution_count": 203,
   "id": "945cf7eb",
   "metadata": {
    "ExecuteTime": {
     "end_time": "2022-10-01T13:48:11.603150Z",
     "start_time": "2022-10-01T13:48:11.583151Z"
    }
   },
   "outputs": [],
   "source": [
    "titanic.Gender = titanic.Gender.astype(\"category\")"
   ]
  },
  {
   "cell_type": "code",
   "execution_count": 204,
   "id": "a39e9863",
   "metadata": {
    "ExecuteTime": {
     "end_time": "2022-10-01T13:48:33.684429Z",
     "start_time": "2022-10-01T13:48:33.679423Z"
    }
   },
   "outputs": [],
   "source": [
    "titanic.Emb = titanic.Emb.astype(\"category\")"
   ]
  },
  {
   "cell_type": "code",
   "execution_count": 205,
   "id": "021818ac",
   "metadata": {
    "ExecuteTime": {
     "end_time": "2022-10-01T13:48:41.411063Z",
     "start_time": "2022-10-01T13:48:41.394064Z"
    }
   },
   "outputs": [
    {
     "name": "stdout",
     "output_type": "stream",
     "text": [
      "<class 'pandas.core.frame.DataFrame'>\n",
      "RangeIndex: 891 entries, 0 to 890\n",
      "Data columns (total 8 columns):\n",
      " #   Column    Non-Null Count  Dtype   \n",
      "---  ------    --------------  -----   \n",
      " 0   Survived  891 non-null    int32   \n",
      " 1   Class     891 non-null    int64   \n",
      " 2   Gender    891 non-null    category\n",
      " 3   Age       891 non-null    float64 \n",
      " 4   SipSp     891 non-null    int64   \n",
      " 5   ParCh     891 non-null    int64   \n",
      " 6   Fare      891 non-null    float64 \n",
      " 7   Emb       889 non-null    category\n",
      "dtypes: category(2), float64(2), int32(1), int64(3)\n",
      "memory usage: 40.4 KB\n"
     ]
    }
   ],
   "source": [
    "titanic.info()"
   ]
  },
  {
   "cell_type": "markdown",
   "id": "ef271fb0",
   "metadata": {},
   "source": [
    "category로 바꾸면 메모리 사용량이 줄어든다!"
   ]
  },
  {
   "cell_type": "code",
   "execution_count": 206,
   "id": "6ed206da",
   "metadata": {
    "ExecuteTime": {
     "end_time": "2022-10-01T13:49:25.018359Z",
     "start_time": "2022-10-01T13:49:25.004362Z"
    }
   },
   "outputs": [
    {
     "data": {
      "text/plain": [
       "CategoricalDtype(categories=['female', 'male'], ordered=False)"
      ]
     },
     "execution_count": 206,
     "metadata": {},
     "output_type": "execute_result"
    }
   ],
   "source": [
    "titanic.Gender.dtype"
   ]
  },
  {
   "cell_type": "markdown",
   "id": "769bdb62",
   "metadata": {},
   "source": [
    "#### Olympic Dataset"
   ]
  },
  {
   "cell_type": "code",
   "execution_count": 21,
   "id": "1bd25f39",
   "metadata": {
    "ExecuteTime": {
     "end_time": "2022-10-01T11:22:24.112619Z",
     "start_time": "2022-10-01T11:22:24.040930Z"
    }
   },
   "outputs": [],
   "source": [
    "summer = pd.read_csv(\"summer_imp.csv\")"
   ]
  },
  {
   "cell_type": "code",
   "execution_count": 22,
   "id": "9e241c36",
   "metadata": {
    "ExecuteTime": {
     "end_time": "2022-10-01T11:22:31.991157Z",
     "start_time": "2022-10-01T11:22:31.966099Z"
    }
   },
   "outputs": [
    {
     "data": {
      "text/html": [
       "<div>\n",
       "<style scoped>\n",
       "    .dataframe tbody tr th:only-of-type {\n",
       "        vertical-align: middle;\n",
       "    }\n",
       "\n",
       "    .dataframe tbody tr th {\n",
       "        vertical-align: top;\n",
       "    }\n",
       "\n",
       "    .dataframe thead th {\n",
       "        text-align: right;\n",
       "    }\n",
       "</style>\n",
       "<table border=\"1\" class=\"dataframe\">\n",
       "  <thead>\n",
       "    <tr style=\"text-align: right;\">\n",
       "      <th></th>\n",
       "      <th>Year</th>\n",
       "      <th>City</th>\n",
       "      <th>Sport</th>\n",
       "      <th>Discipline</th>\n",
       "      <th>Athlete Name</th>\n",
       "      <th>Country</th>\n",
       "      <th>Gender</th>\n",
       "      <th>Event</th>\n",
       "      <th>Medal</th>\n",
       "    </tr>\n",
       "  </thead>\n",
       "  <tbody>\n",
       "    <tr>\n",
       "      <th>0</th>\n",
       "      <td>1896</td>\n",
       "      <td>Athens</td>\n",
       "      <td>Aquatics</td>\n",
       "      <td>Swimming</td>\n",
       "      <td>HAJOS, Alfred</td>\n",
       "      <td>HUN</td>\n",
       "      <td>Men</td>\n",
       "      <td>100M Freestyle</td>\n",
       "      <td>Gold Medal</td>\n",
       "    </tr>\n",
       "    <tr>\n",
       "      <th>1</th>\n",
       "      <td>1896</td>\n",
       "      <td>Athens</td>\n",
       "      <td>Aquatics</td>\n",
       "      <td>Swimming</td>\n",
       "      <td>HERSCHMANN, Otto</td>\n",
       "      <td>AUT</td>\n",
       "      <td>Men</td>\n",
       "      <td>100M Freestyle</td>\n",
       "      <td>Silver</td>\n",
       "    </tr>\n",
       "    <tr>\n",
       "      <th>2</th>\n",
       "      <td>1896</td>\n",
       "      <td>Athens</td>\n",
       "      <td>Aquatics</td>\n",
       "      <td>Swimming</td>\n",
       "      <td>DRIVAS, Dimitrios</td>\n",
       "      <td>GRE</td>\n",
       "      <td>Men</td>\n",
       "      <td>100M Freestyle For Sailors</td>\n",
       "      <td>Bronze</td>\n",
       "    </tr>\n",
       "    <tr>\n",
       "      <th>3</th>\n",
       "      <td>1896</td>\n",
       "      <td>Athens</td>\n",
       "      <td>Aquatics</td>\n",
       "      <td>Swimming</td>\n",
       "      <td>Malokinis, Ioannis</td>\n",
       "      <td>GRE</td>\n",
       "      <td>Men</td>\n",
       "      <td>100M Freestyle For Sailors</td>\n",
       "      <td>Gold Medal</td>\n",
       "    </tr>\n",
       "    <tr>\n",
       "      <th>4</th>\n",
       "      <td>1896</td>\n",
       "      <td>Athens</td>\n",
       "      <td>Aquatics</td>\n",
       "      <td>Swimming</td>\n",
       "      <td>Chasapis, Spiridon</td>\n",
       "      <td>GRE</td>\n",
       "      <td>Men</td>\n",
       "      <td>100M Freestyle For Sailors</td>\n",
       "      <td>Silver</td>\n",
       "    </tr>\n",
       "  </tbody>\n",
       "</table>\n",
       "</div>"
      ],
      "text/plain": [
       "   Year    City     Sport Discipline          Athlete Name Country Gender  \\\n",
       "0  1896  Athens  Aquatics   Swimming        HAJOS, Alfred      HUN    Men   \n",
       "1  1896  Athens  Aquatics   Swimming     HERSCHMANN, Otto      AUT    Men   \n",
       "2  1896  Athens  Aquatics   Swimming    DRIVAS, Dimitrios      GRE    Men   \n",
       "3  1896  Athens  Aquatics   Swimming   Malokinis, Ioannis      GRE    Men   \n",
       "4  1896  Athens  Aquatics   Swimming   Chasapis, Spiridon      GRE    Men   \n",
       "\n",
       "                        Event       Medal  \n",
       "0              100M Freestyle  Gold Medal  \n",
       "1              100M Freestyle      Silver  \n",
       "2  100M Freestyle For Sailors      Bronze  \n",
       "3  100M Freestyle For Sailors  Gold Medal  \n",
       "4  100M Freestyle For Sailors      Silver  "
      ]
     },
     "execution_count": 22,
     "metadata": {},
     "output_type": "execute_result"
    }
   ],
   "source": [
    "summer.head()"
   ]
  },
  {
   "cell_type": "code",
   "execution_count": 23,
   "id": "3de248d7",
   "metadata": {
    "ExecuteTime": {
     "end_time": "2022-10-01T11:22:41.940799Z",
     "start_time": "2022-10-01T11:22:41.920049Z"
    }
   },
   "outputs": [
    {
     "data": {
      "text/html": [
       "<div>\n",
       "<style scoped>\n",
       "    .dataframe tbody tr th:only-of-type {\n",
       "        vertical-align: middle;\n",
       "    }\n",
       "\n",
       "    .dataframe tbody tr th {\n",
       "        vertical-align: top;\n",
       "    }\n",
       "\n",
       "    .dataframe thead th {\n",
       "        text-align: right;\n",
       "    }\n",
       "</style>\n",
       "<table border=\"1\" class=\"dataframe\">\n",
       "  <thead>\n",
       "    <tr style=\"text-align: right;\">\n",
       "      <th></th>\n",
       "      <th>Year</th>\n",
       "      <th>City</th>\n",
       "      <th>Sport</th>\n",
       "      <th>Discipline</th>\n",
       "      <th>Athlete Name</th>\n",
       "      <th>Country</th>\n",
       "      <th>Gender</th>\n",
       "      <th>Event</th>\n",
       "      <th>Medal</th>\n",
       "    </tr>\n",
       "  </thead>\n",
       "  <tbody>\n",
       "    <tr>\n",
       "      <th>31165</th>\n",
       "      <td>2012</td>\n",
       "      <td>London</td>\n",
       "      <td>Wrestling</td>\n",
       "      <td>Wrestling Freestyle</td>\n",
       "      <td>JANIKOWSKI, Damian</td>\n",
       "      <td>POL</td>\n",
       "      <td>Men</td>\n",
       "      <td>Wg 84 KG</td>\n",
       "      <td>Bronze</td>\n",
       "    </tr>\n",
       "    <tr>\n",
       "      <th>31166</th>\n",
       "      <td>2012</td>\n",
       "      <td>London</td>\n",
       "      <td>Wrestling</td>\n",
       "      <td>Wrestling Freestyle</td>\n",
       "      <td>REZAEI, Ghasem Gholamreza</td>\n",
       "      <td>IRI</td>\n",
       "      <td>Men</td>\n",
       "      <td>Wg 96 KG</td>\n",
       "      <td>Gold</td>\n",
       "    </tr>\n",
       "    <tr>\n",
       "      <th>31167</th>\n",
       "      <td>2012</td>\n",
       "      <td>London</td>\n",
       "      <td>Wrestling</td>\n",
       "      <td>Wrestling Freestyle</td>\n",
       "      <td>TOTROV, Rustam</td>\n",
       "      <td>RUS</td>\n",
       "      <td>Men</td>\n",
       "      <td>Wg 96 KG</td>\n",
       "      <td>Silver</td>\n",
       "    </tr>\n",
       "    <tr>\n",
       "      <th>31168</th>\n",
       "      <td>2012</td>\n",
       "      <td>London</td>\n",
       "      <td>Wrestling</td>\n",
       "      <td>Wrestling Freestyle</td>\n",
       "      <td>ALEKSANYAN, Artur</td>\n",
       "      <td>ARM</td>\n",
       "      <td>Men</td>\n",
       "      <td>Wg 96 KG</td>\n",
       "      <td>Bronze</td>\n",
       "    </tr>\n",
       "    <tr>\n",
       "      <th>31169</th>\n",
       "      <td>2012</td>\n",
       "      <td>London</td>\n",
       "      <td>Wrestling</td>\n",
       "      <td>Wrestling Freestyle</td>\n",
       "      <td>LIDBERG, Jimmy</td>\n",
       "      <td>SWE</td>\n",
       "      <td>Men</td>\n",
       "      <td>Wg 96 KG</td>\n",
       "      <td>Bronze</td>\n",
       "    </tr>\n",
       "  </tbody>\n",
       "</table>\n",
       "</div>"
      ],
      "text/plain": [
       "       Year    City      Sport           Discipline  \\\n",
       "31165  2012  London  Wrestling  Wrestling Freestyle   \n",
       "31166  2012  London  Wrestling  Wrestling Freestyle   \n",
       "31167  2012  London  Wrestling  Wrestling Freestyle   \n",
       "31168  2012  London  Wrestling  Wrestling Freestyle   \n",
       "31169  2012  London  Wrestling  Wrestling Freestyle   \n",
       "\n",
       "                      Athlete Name Country Gender     Event   Medal  \n",
       "31165          JANIKOWSKI, Damian      POL    Men  Wg 84 KG  Bronze  \n",
       "31166   REZAEI, Ghasem Gholamreza      IRI    Men  Wg 96 KG    Gold  \n",
       "31167              TOTROV, Rustam      RUS    Men  Wg 96 KG  Silver  \n",
       "31168           ALEKSANYAN, Artur      ARM    Men  Wg 96 KG  Bronze  \n",
       "31169              LIDBERG, Jimmy      SWE    Men  Wg 96 KG  Bronze  "
      ]
     },
     "execution_count": 23,
     "metadata": {},
     "output_type": "execute_result"
    }
   ],
   "source": [
    "summer.tail()"
   ]
  },
  {
   "cell_type": "code",
   "execution_count": 24,
   "id": "15f4f262",
   "metadata": {
    "ExecuteTime": {
     "end_time": "2022-10-01T11:22:50.147714Z",
     "start_time": "2022-10-01T11:22:50.084005Z"
    }
   },
   "outputs": [
    {
     "name": "stdout",
     "output_type": "stream",
     "text": [
      "<class 'pandas.core.frame.DataFrame'>\n",
      "RangeIndex: 31170 entries, 0 to 31169\n",
      "Data columns (total 9 columns):\n",
      " #   Column        Non-Null Count  Dtype \n",
      "---  ------        --------------  ----- \n",
      " 0   Year          31170 non-null  int64 \n",
      " 1   City          31170 non-null  object\n",
      " 2   Sport         31170 non-null  object\n",
      " 3   Discipline    31170 non-null  object\n",
      " 4   Athlete Name  31170 non-null  object\n",
      " 5   Country       31166 non-null  object\n",
      " 6   Gender        31170 non-null  object\n",
      " 7   Event         31170 non-null  object\n",
      " 8   Medal         31170 non-null  object\n",
      "dtypes: int64(1), object(8)\n",
      "memory usage: 2.1+ MB\n"
     ]
    }
   ],
   "source": [
    "summer.info()"
   ]
  },
  {
   "cell_type": "markdown",
   "id": "05c0c11b",
   "metadata": {},
   "source": [
    "#### 칼럼명에 공백이 있으면 .으로 사용 불가"
   ]
  },
  {
   "cell_type": "code",
   "execution_count": 25,
   "id": "22950f49",
   "metadata": {
    "ExecuteTime": {
     "end_time": "2022-10-01T11:23:16.902305Z",
     "start_time": "2022-10-01T11:23:16.883357Z"
    }
   },
   "outputs": [
    {
     "ename": "SyntaxError",
     "evalue": "invalid syntax (1837699870.py, line 1)",
     "output_type": "error",
     "traceback": [
      "\u001b[1;36m  Input \u001b[1;32mIn [25]\u001b[1;36m\u001b[0m\n\u001b[1;33m    summer.Athlete Name\u001b[0m\n\u001b[1;37m                   ^\u001b[0m\n\u001b[1;31mSyntaxError\u001b[0m\u001b[1;31m:\u001b[0m invalid syntax\n"
     ]
    }
   ],
   "source": [
    "summer.Athlete Name"
   ]
  },
  {
   "cell_type": "code",
   "execution_count": 26,
   "id": "65f40dbe",
   "metadata": {
    "ExecuteTime": {
     "end_time": "2022-10-01T11:24:39.195664Z",
     "start_time": "2022-10-01T11:24:39.181573Z"
    }
   },
   "outputs": [],
   "source": [
    "summer.rename(columns={\"Athlete Name\":\"Athlete_Name\"}, inplace=True)"
   ]
  },
  {
   "cell_type": "code",
   "execution_count": 27,
   "id": "8dc7717a",
   "metadata": {
    "ExecuteTime": {
     "end_time": "2022-10-01T11:24:48.014882Z",
     "start_time": "2022-10-01T11:24:47.988053Z"
    }
   },
   "outputs": [
    {
     "data": {
      "text/html": [
       "<div>\n",
       "<style scoped>\n",
       "    .dataframe tbody tr th:only-of-type {\n",
       "        vertical-align: middle;\n",
       "    }\n",
       "\n",
       "    .dataframe tbody tr th {\n",
       "        vertical-align: top;\n",
       "    }\n",
       "\n",
       "    .dataframe thead th {\n",
       "        text-align: right;\n",
       "    }\n",
       "</style>\n",
       "<table border=\"1\" class=\"dataframe\">\n",
       "  <thead>\n",
       "    <tr style=\"text-align: right;\">\n",
       "      <th></th>\n",
       "      <th>Year</th>\n",
       "      <th>City</th>\n",
       "      <th>Sport</th>\n",
       "      <th>Discipline</th>\n",
       "      <th>Athlete_Name</th>\n",
       "      <th>Country</th>\n",
       "      <th>Gender</th>\n",
       "      <th>Event</th>\n",
       "      <th>Medal</th>\n",
       "    </tr>\n",
       "  </thead>\n",
       "  <tbody>\n",
       "    <tr>\n",
       "      <th>0</th>\n",
       "      <td>1896</td>\n",
       "      <td>Athens</td>\n",
       "      <td>Aquatics</td>\n",
       "      <td>Swimming</td>\n",
       "      <td>HAJOS, Alfred</td>\n",
       "      <td>HUN</td>\n",
       "      <td>Men</td>\n",
       "      <td>100M Freestyle</td>\n",
       "      <td>Gold Medal</td>\n",
       "    </tr>\n",
       "    <tr>\n",
       "      <th>1</th>\n",
       "      <td>1896</td>\n",
       "      <td>Athens</td>\n",
       "      <td>Aquatics</td>\n",
       "      <td>Swimming</td>\n",
       "      <td>HERSCHMANN, Otto</td>\n",
       "      <td>AUT</td>\n",
       "      <td>Men</td>\n",
       "      <td>100M Freestyle</td>\n",
       "      <td>Silver</td>\n",
       "    </tr>\n",
       "    <tr>\n",
       "      <th>2</th>\n",
       "      <td>1896</td>\n",
       "      <td>Athens</td>\n",
       "      <td>Aquatics</td>\n",
       "      <td>Swimming</td>\n",
       "      <td>DRIVAS, Dimitrios</td>\n",
       "      <td>GRE</td>\n",
       "      <td>Men</td>\n",
       "      <td>100M Freestyle For Sailors</td>\n",
       "      <td>Bronze</td>\n",
       "    </tr>\n",
       "    <tr>\n",
       "      <th>3</th>\n",
       "      <td>1896</td>\n",
       "      <td>Athens</td>\n",
       "      <td>Aquatics</td>\n",
       "      <td>Swimming</td>\n",
       "      <td>Malokinis, Ioannis</td>\n",
       "      <td>GRE</td>\n",
       "      <td>Men</td>\n",
       "      <td>100M Freestyle For Sailors</td>\n",
       "      <td>Gold Medal</td>\n",
       "    </tr>\n",
       "    <tr>\n",
       "      <th>4</th>\n",
       "      <td>1896</td>\n",
       "      <td>Athens</td>\n",
       "      <td>Aquatics</td>\n",
       "      <td>Swimming</td>\n",
       "      <td>Chasapis, Spiridon</td>\n",
       "      <td>GRE</td>\n",
       "      <td>Men</td>\n",
       "      <td>100M Freestyle For Sailors</td>\n",
       "      <td>Silver</td>\n",
       "    </tr>\n",
       "    <tr>\n",
       "      <th>5</th>\n",
       "      <td>1896</td>\n",
       "      <td>Athens</td>\n",
       "      <td>Aquatics</td>\n",
       "      <td>Swimming</td>\n",
       "      <td>Chorophas, Efstathios</td>\n",
       "      <td>GRE</td>\n",
       "      <td>Men</td>\n",
       "      <td>1200M Freestyle</td>\n",
       "      <td>Bronze</td>\n",
       "    </tr>\n",
       "    <tr>\n",
       "      <th>6</th>\n",
       "      <td>1896</td>\n",
       "      <td>Athens</td>\n",
       "      <td>Aquatics</td>\n",
       "      <td>Swimming</td>\n",
       "      <td>Hajos, Alfred</td>\n",
       "      <td>HUN</td>\n",
       "      <td>Men</td>\n",
       "      <td>1200M Freestyle</td>\n",
       "      <td>Gold Medal</td>\n",
       "    </tr>\n",
       "    <tr>\n",
       "      <th>7</th>\n",
       "      <td>1896</td>\n",
       "      <td>Athens</td>\n",
       "      <td>Aquatics</td>\n",
       "      <td>Swimming</td>\n",
       "      <td>Andreou, Joannis</td>\n",
       "      <td>GRE</td>\n",
       "      <td>Men</td>\n",
       "      <td>1200M Freestyle</td>\n",
       "      <td>Silver</td>\n",
       "    </tr>\n",
       "    <tr>\n",
       "      <th>8</th>\n",
       "      <td>1896</td>\n",
       "      <td>Athens</td>\n",
       "      <td>Aquatics</td>\n",
       "      <td>Swimming</td>\n",
       "      <td>Chorophas, Efstathios</td>\n",
       "      <td>GRE</td>\n",
       "      <td>Men</td>\n",
       "      <td>400M Freestyle</td>\n",
       "      <td>Bronze</td>\n",
       "    </tr>\n",
       "    <tr>\n",
       "      <th>9</th>\n",
       "      <td>1896</td>\n",
       "      <td>Athens</td>\n",
       "      <td>Aquatics</td>\n",
       "      <td>Swimming</td>\n",
       "      <td>Neumann, Paul</td>\n",
       "      <td>AUT</td>\n",
       "      <td>Men</td>\n",
       "      <td>400M Freestyle</td>\n",
       "      <td>Gold Medal</td>\n",
       "    </tr>\n",
       "    <tr>\n",
       "      <th>10</th>\n",
       "      <td>1896</td>\n",
       "      <td>Athens</td>\n",
       "      <td>Aquatics</td>\n",
       "      <td>Swimming</td>\n",
       "      <td>Pepanos, Antonios</td>\n",
       "      <td>GRE</td>\n",
       "      <td>Men</td>\n",
       "      <td>400M Freestyle</td>\n",
       "      <td>Silver</td>\n",
       "    </tr>\n",
       "    <tr>\n",
       "      <th>11</th>\n",
       "      <td>1896</td>\n",
       "      <td>Athens</td>\n",
       "      <td>Athletics</td>\n",
       "      <td>Athletics</td>\n",
       "      <td>Lane, Francis</td>\n",
       "      <td>USA</td>\n",
       "      <td>Men</td>\n",
       "      <td>100M</td>\n",
       "      <td>Bronze</td>\n",
       "    </tr>\n",
       "    <tr>\n",
       "      <th>12</th>\n",
       "      <td>1896</td>\n",
       "      <td>Athens</td>\n",
       "      <td>Athletics</td>\n",
       "      <td>Athletics</td>\n",
       "      <td>Szokolyi, Alajos</td>\n",
       "      <td>HUN</td>\n",
       "      <td>Men</td>\n",
       "      <td>100M</td>\n",
       "      <td>Bronze</td>\n",
       "    </tr>\n",
       "    <tr>\n",
       "      <th>13</th>\n",
       "      <td>1896</td>\n",
       "      <td>Athens</td>\n",
       "      <td>Athletics</td>\n",
       "      <td>Athletics</td>\n",
       "      <td>BURKE, Thomas</td>\n",
       "      <td>USA</td>\n",
       "      <td>Men</td>\n",
       "      <td>100M</td>\n",
       "      <td>Gold</td>\n",
       "    </tr>\n",
       "    <tr>\n",
       "      <th>14</th>\n",
       "      <td>1896</td>\n",
       "      <td>Athens</td>\n",
       "      <td>Athletics</td>\n",
       "      <td>Athletics</td>\n",
       "      <td>HOFMANN, Fritz</td>\n",
       "      <td>GER</td>\n",
       "      <td>Men</td>\n",
       "      <td>100M</td>\n",
       "      <td>Silver</td>\n",
       "    </tr>\n",
       "    <tr>\n",
       "      <th>15</th>\n",
       "      <td>1896</td>\n",
       "      <td>Athens</td>\n",
       "      <td>Athletics</td>\n",
       "      <td>Athletics</td>\n",
       "      <td>CURTIS, Thomas</td>\n",
       "      <td>USA</td>\n",
       "      <td>Men</td>\n",
       "      <td>110M Hurdles</td>\n",
       "      <td>Gold</td>\n",
       "    </tr>\n",
       "    <tr>\n",
       "      <th>16</th>\n",
       "      <td>1896</td>\n",
       "      <td>Athens</td>\n",
       "      <td>Athletics</td>\n",
       "      <td>Athletics</td>\n",
       "      <td>GOULDING, Grantley</td>\n",
       "      <td>GBR</td>\n",
       "      <td>Men</td>\n",
       "      <td>110M Hurdles</td>\n",
       "      <td>Silver</td>\n",
       "    </tr>\n",
       "    <tr>\n",
       "      <th>17</th>\n",
       "      <td>1896</td>\n",
       "      <td>Athens</td>\n",
       "      <td>Athletics</td>\n",
       "      <td>Athletics</td>\n",
       "      <td>LERMUSIAUX, Albin</td>\n",
       "      <td>FRA</td>\n",
       "      <td>Men</td>\n",
       "      <td>1500M</td>\n",
       "      <td>Bronze</td>\n",
       "    </tr>\n",
       "    <tr>\n",
       "      <th>18</th>\n",
       "      <td>1896</td>\n",
       "      <td>Athens</td>\n",
       "      <td>Athletics</td>\n",
       "      <td>Athletics</td>\n",
       "      <td>FLACK, Edwin</td>\n",
       "      <td>AUS</td>\n",
       "      <td>Men</td>\n",
       "      <td>1500M</td>\n",
       "      <td>Gold</td>\n",
       "    </tr>\n",
       "    <tr>\n",
       "      <th>19</th>\n",
       "      <td>1896</td>\n",
       "      <td>Athens</td>\n",
       "      <td>Athletics</td>\n",
       "      <td>Athletics</td>\n",
       "      <td>BLAKE, Arthur</td>\n",
       "      <td>USA</td>\n",
       "      <td>Men</td>\n",
       "      <td>1500M</td>\n",
       "      <td>Silver</td>\n",
       "    </tr>\n",
       "  </tbody>\n",
       "</table>\n",
       "</div>"
      ],
      "text/plain": [
       "    Year    City      Sport Discipline             Athlete_Name Country  \\\n",
       "0   1896  Athens   Aquatics   Swimming           HAJOS, Alfred      HUN   \n",
       "1   1896  Athens   Aquatics   Swimming        HERSCHMANN, Otto      AUT   \n",
       "2   1896  Athens   Aquatics   Swimming       DRIVAS, Dimitrios      GRE   \n",
       "3   1896  Athens   Aquatics   Swimming      Malokinis, Ioannis      GRE   \n",
       "4   1896  Athens   Aquatics   Swimming      Chasapis, Spiridon      GRE   \n",
       "5   1896  Athens   Aquatics   Swimming   Chorophas, Efstathios      GRE   \n",
       "6   1896  Athens   Aquatics   Swimming           Hajos, Alfred      HUN   \n",
       "7   1896  Athens   Aquatics   Swimming        Andreou, Joannis      GRE   \n",
       "8   1896  Athens   Aquatics   Swimming   Chorophas, Efstathios      GRE   \n",
       "9   1896  Athens   Aquatics   Swimming           Neumann, Paul      AUT   \n",
       "10  1896  Athens   Aquatics   Swimming       Pepanos, Antonios      GRE   \n",
       "11  1896  Athens  Athletics  Athletics           Lane, Francis      USA   \n",
       "12  1896  Athens  Athletics  Athletics        Szokolyi, Alajos      HUN   \n",
       "13  1896  Athens  Athletics  Athletics           BURKE, Thomas      USA   \n",
       "14  1896  Athens  Athletics  Athletics          HOFMANN, Fritz      GER   \n",
       "15  1896  Athens  Athletics  Athletics          CURTIS, Thomas      USA   \n",
       "16  1896  Athens  Athletics  Athletics      GOULDING, Grantley      GBR   \n",
       "17  1896  Athens  Athletics  Athletics       LERMUSIAUX, Albin      FRA   \n",
       "18  1896  Athens  Athletics  Athletics            FLACK, Edwin      AUS   \n",
       "19  1896  Athens  Athletics  Athletics           BLAKE, Arthur      USA   \n",
       "\n",
       "   Gender                       Event       Medal  \n",
       "0     Men              100M Freestyle  Gold Medal  \n",
       "1     Men              100M Freestyle      Silver  \n",
       "2     Men  100M Freestyle For Sailors      Bronze  \n",
       "3     Men  100M Freestyle For Sailors  Gold Medal  \n",
       "4     Men  100M Freestyle For Sailors      Silver  \n",
       "5     Men             1200M Freestyle      Bronze  \n",
       "6     Men             1200M Freestyle  Gold Medal  \n",
       "7     Men             1200M Freestyle      Silver  \n",
       "8     Men              400M Freestyle      Bronze  \n",
       "9     Men              400M Freestyle  Gold Medal  \n",
       "10    Men              400M Freestyle      Silver  \n",
       "11    Men                        100M      Bronze  \n",
       "12    Men                        100M      Bronze  \n",
       "13    Men                        100M        Gold  \n",
       "14    Men                        100M      Silver  \n",
       "15    Men                110M Hurdles        Gold  \n",
       "16    Men                110M Hurdles      Silver  \n",
       "17    Men                       1500M      Bronze  \n",
       "18    Men                       1500M        Gold  \n",
       "19    Men                       1500M      Silver  "
      ]
     },
     "execution_count": 27,
     "metadata": {},
     "output_type": "execute_result"
    }
   ],
   "source": [
    "summer.head(20)"
   ]
  },
  {
   "cell_type": "code",
   "execution_count": 47,
   "id": "14f36579",
   "metadata": {
    "ExecuteTime": {
     "end_time": "2022-10-01T11:45:22.172294Z",
     "start_time": "2022-10-01T11:45:22.153294Z"
    }
   },
   "outputs": [
    {
     "data": {
      "text/plain": [
       "Gold      10487\n",
       "Bronze    10372\n",
       "Silver    10311\n",
       "Name: Medal, dtype: int64"
      ]
     },
     "execution_count": 47,
     "metadata": {},
     "output_type": "execute_result"
    }
   ],
   "source": [
    "summer.Medal.value_counts()"
   ]
  },
  {
   "cell_type": "code",
   "execution_count": 48,
   "id": "5d4a30c8",
   "metadata": {
    "ExecuteTime": {
     "end_time": "2022-10-01T11:45:24.060078Z",
     "start_time": "2022-10-01T11:45:24.050830Z"
    }
   },
   "outputs": [],
   "source": [
    "# 명목형 통일\n",
    "summer.Medal.replace(to_replace=\"Gold Medal\", value=\"Gold\", inplace=True)"
   ]
  },
  {
   "cell_type": "code",
   "execution_count": 49,
   "id": "5291eecb",
   "metadata": {
    "ExecuteTime": {
     "end_time": "2022-10-01T11:45:25.312393Z",
     "start_time": "2022-10-01T11:45:25.225490Z"
    }
   },
   "outputs": [
    {
     "data": {
      "text/html": [
       "<div>\n",
       "<style scoped>\n",
       "    .dataframe tbody tr th:only-of-type {\n",
       "        vertical-align: middle;\n",
       "    }\n",
       "\n",
       "    .dataframe tbody tr th {\n",
       "        vertical-align: top;\n",
       "    }\n",
       "\n",
       "    .dataframe thead th {\n",
       "        text-align: right;\n",
       "    }\n",
       "</style>\n",
       "<table border=\"1\" class=\"dataframe\">\n",
       "  <thead>\n",
       "    <tr style=\"text-align: right;\">\n",
       "      <th></th>\n",
       "      <th>City</th>\n",
       "      <th>Sport</th>\n",
       "      <th>Discipline</th>\n",
       "      <th>Athlete_Name</th>\n",
       "      <th>Country</th>\n",
       "      <th>Gender</th>\n",
       "      <th>Event</th>\n",
       "      <th>Medal</th>\n",
       "    </tr>\n",
       "  </thead>\n",
       "  <tbody>\n",
       "    <tr>\n",
       "      <th>count</th>\n",
       "      <td>31170</td>\n",
       "      <td>31170</td>\n",
       "      <td>31170</td>\n",
       "      <td>31170</td>\n",
       "      <td>31166</td>\n",
       "      <td>31170</td>\n",
       "      <td>31170</td>\n",
       "      <td>31170</td>\n",
       "    </tr>\n",
       "    <tr>\n",
       "      <th>unique</th>\n",
       "      <td>22</td>\n",
       "      <td>43</td>\n",
       "      <td>67</td>\n",
       "      <td>22761</td>\n",
       "      <td>147</td>\n",
       "      <td>2</td>\n",
       "      <td>666</td>\n",
       "      <td>3</td>\n",
       "    </tr>\n",
       "    <tr>\n",
       "      <th>top</th>\n",
       "      <td>London</td>\n",
       "      <td>Aquatics</td>\n",
       "      <td>Athletics</td>\n",
       "      <td>Phelps, Michael</td>\n",
       "      <td>USA</td>\n",
       "      <td>Men</td>\n",
       "      <td>Football</td>\n",
       "      <td>Gold</td>\n",
       "    </tr>\n",
       "    <tr>\n",
       "      <th>freq</th>\n",
       "      <td>3567</td>\n",
       "      <td>4170</td>\n",
       "      <td>3639</td>\n",
       "      <td>22</td>\n",
       "      <td>4586</td>\n",
       "      <td>22751</td>\n",
       "      <td>1497</td>\n",
       "      <td>10487</td>\n",
       "    </tr>\n",
       "  </tbody>\n",
       "</table>\n",
       "</div>"
      ],
      "text/plain": [
       "          City     Sport Discipline     Athlete_Name Country Gender     Event  \\\n",
       "count    31170     31170      31170            31170   31166  31170     31170   \n",
       "unique      22        43         67            22761     147      2       666   \n",
       "top     London  Aquatics  Athletics  Phelps, Michael     USA    Men  Football   \n",
       "freq      3567      4170       3639               22    4586  22751      1497   \n",
       "\n",
       "        Medal  \n",
       "count   31170  \n",
       "unique      3  \n",
       "top      Gold  \n",
       "freq    10487  "
      ]
     },
     "execution_count": 49,
     "metadata": {},
     "output_type": "execute_result"
    }
   ],
   "source": [
    "summer.iloc[:, 1:].describe()"
   ]
  },
  {
   "cell_type": "markdown",
   "id": "427f67f7",
   "metadata": {},
   "source": [
    "#### 이름의 첫 글자 대문자로"
   ]
  },
  {
   "cell_type": "markdown",
   "id": "01e5169b",
   "metadata": {
    "ExecuteTime": {
     "end_time": "2022-10-01T11:45:27.919093Z",
     "start_time": "2022-10-01T11:45:27.893092Z"
    }
   },
   "source": [
    "summer.Athlete_Name = summer.Athlete_Name.str.title()"
   ]
  },
  {
   "cell_type": "code",
   "execution_count": 51,
   "id": "301935b6",
   "metadata": {
    "ExecuteTime": {
     "end_time": "2022-10-01T11:45:28.883249Z",
     "start_time": "2022-10-01T11:45:28.859605Z"
    }
   },
   "outputs": [
    {
     "data": {
      "text/html": [
       "<div>\n",
       "<style scoped>\n",
       "    .dataframe tbody tr th:only-of-type {\n",
       "        vertical-align: middle;\n",
       "    }\n",
       "\n",
       "    .dataframe tbody tr th {\n",
       "        vertical-align: top;\n",
       "    }\n",
       "\n",
       "    .dataframe thead th {\n",
       "        text-align: right;\n",
       "    }\n",
       "</style>\n",
       "<table border=\"1\" class=\"dataframe\">\n",
       "  <thead>\n",
       "    <tr style=\"text-align: right;\">\n",
       "      <th></th>\n",
       "      <th>Year</th>\n",
       "      <th>City</th>\n",
       "      <th>Sport</th>\n",
       "      <th>Discipline</th>\n",
       "      <th>Athlete_Name</th>\n",
       "      <th>Country</th>\n",
       "      <th>Gender</th>\n",
       "      <th>Event</th>\n",
       "      <th>Medal</th>\n",
       "    </tr>\n",
       "  </thead>\n",
       "  <tbody>\n",
       "    <tr>\n",
       "      <th>0</th>\n",
       "      <td>1896</td>\n",
       "      <td>Athens</td>\n",
       "      <td>Aquatics</td>\n",
       "      <td>Swimming</td>\n",
       "      <td>Hajos, Alfred</td>\n",
       "      <td>HUN</td>\n",
       "      <td>Men</td>\n",
       "      <td>100M Freestyle</td>\n",
       "      <td>Gold</td>\n",
       "    </tr>\n",
       "    <tr>\n",
       "      <th>1</th>\n",
       "      <td>1896</td>\n",
       "      <td>Athens</td>\n",
       "      <td>Aquatics</td>\n",
       "      <td>Swimming</td>\n",
       "      <td>Herschmann, Otto</td>\n",
       "      <td>AUT</td>\n",
       "      <td>Men</td>\n",
       "      <td>100M Freestyle</td>\n",
       "      <td>Silver</td>\n",
       "    </tr>\n",
       "    <tr>\n",
       "      <th>2</th>\n",
       "      <td>1896</td>\n",
       "      <td>Athens</td>\n",
       "      <td>Aquatics</td>\n",
       "      <td>Swimming</td>\n",
       "      <td>Drivas, Dimitrios</td>\n",
       "      <td>GRE</td>\n",
       "      <td>Men</td>\n",
       "      <td>100M Freestyle For Sailors</td>\n",
       "      <td>Bronze</td>\n",
       "    </tr>\n",
       "    <tr>\n",
       "      <th>3</th>\n",
       "      <td>1896</td>\n",
       "      <td>Athens</td>\n",
       "      <td>Aquatics</td>\n",
       "      <td>Swimming</td>\n",
       "      <td>Malokinis, Ioannis</td>\n",
       "      <td>GRE</td>\n",
       "      <td>Men</td>\n",
       "      <td>100M Freestyle For Sailors</td>\n",
       "      <td>Gold</td>\n",
       "    </tr>\n",
       "    <tr>\n",
       "      <th>4</th>\n",
       "      <td>1896</td>\n",
       "      <td>Athens</td>\n",
       "      <td>Aquatics</td>\n",
       "      <td>Swimming</td>\n",
       "      <td>Chasapis, Spiridon</td>\n",
       "      <td>GRE</td>\n",
       "      <td>Men</td>\n",
       "      <td>100M Freestyle For Sailors</td>\n",
       "      <td>Silver</td>\n",
       "    </tr>\n",
       "  </tbody>\n",
       "</table>\n",
       "</div>"
      ],
      "text/plain": [
       "   Year    City     Sport Discipline        Athlete_Name Country Gender  \\\n",
       "0  1896  Athens  Aquatics   Swimming       Hajos, Alfred     HUN    Men   \n",
       "1  1896  Athens  Aquatics   Swimming    Herschmann, Otto     AUT    Men   \n",
       "2  1896  Athens  Aquatics   Swimming   Drivas, Dimitrios     GRE    Men   \n",
       "3  1896  Athens  Aquatics   Swimming  Malokinis, Ioannis     GRE    Men   \n",
       "4  1896  Athens  Aquatics   Swimming  Chasapis, Spiridon     GRE    Men   \n",
       "\n",
       "                        Event   Medal  \n",
       "0              100M Freestyle    Gold  \n",
       "1              100M Freestyle  Silver  \n",
       "2  100M Freestyle For Sailors  Bronze  \n",
       "3  100M Freestyle For Sailors    Gold  \n",
       "4  100M Freestyle For Sailors  Silver  "
      ]
     },
     "execution_count": 51,
     "metadata": {},
     "output_type": "execute_result"
    }
   ],
   "source": [
    "summer.head()"
   ]
  },
  {
   "cell_type": "code",
   "execution_count": 52,
   "id": "58b3ab1d",
   "metadata": {
    "ExecuteTime": {
     "end_time": "2022-10-01T11:45:30.719746Z",
     "start_time": "2022-10-01T11:45:30.689732Z"
    }
   },
   "outputs": [
    {
     "data": {
      "text/html": [
       "<div>\n",
       "<style scoped>\n",
       "    .dataframe tbody tr th:only-of-type {\n",
       "        vertical-align: middle;\n",
       "    }\n",
       "\n",
       "    .dataframe tbody tr th {\n",
       "        vertical-align: top;\n",
       "    }\n",
       "\n",
       "    .dataframe thead th {\n",
       "        text-align: right;\n",
       "    }\n",
       "</style>\n",
       "<table border=\"1\" class=\"dataframe\">\n",
       "  <thead>\n",
       "    <tr style=\"text-align: right;\">\n",
       "      <th></th>\n",
       "      <th>Year</th>\n",
       "      <th>City</th>\n",
       "      <th>Sport</th>\n",
       "      <th>Discipline</th>\n",
       "      <th>Athlete_Name</th>\n",
       "      <th>Country</th>\n",
       "      <th>Gender</th>\n",
       "      <th>Event</th>\n",
       "      <th>Medal</th>\n",
       "    </tr>\n",
       "  </thead>\n",
       "  <tbody>\n",
       "    <tr>\n",
       "      <th>0</th>\n",
       "      <td>1896</td>\n",
       "      <td>Athens</td>\n",
       "      <td>Aquatics</td>\n",
       "      <td>Swimming</td>\n",
       "      <td>Hajos, Alfred</td>\n",
       "      <td>HUN</td>\n",
       "      <td>Men</td>\n",
       "      <td>100M Freestyle</td>\n",
       "      <td>Gold</td>\n",
       "    </tr>\n",
       "    <tr>\n",
       "      <th>6</th>\n",
       "      <td>1896</td>\n",
       "      <td>Athens</td>\n",
       "      <td>Aquatics</td>\n",
       "      <td>Swimming</td>\n",
       "      <td>Hajos, Alfred</td>\n",
       "      <td>HUN</td>\n",
       "      <td>Men</td>\n",
       "      <td>1200M Freestyle</td>\n",
       "      <td>Gold</td>\n",
       "    </tr>\n",
       "  </tbody>\n",
       "</table>\n",
       "</div>"
      ],
      "text/plain": [
       "   Year    City     Sport Discipline   Athlete_Name Country Gender  \\\n",
       "0  1896  Athens  Aquatics   Swimming  Hajos, Alfred     HUN    Men   \n",
       "6  1896  Athens  Aquatics   Swimming  Hajos, Alfred     HUN    Men   \n",
       "\n",
       "             Event Medal  \n",
       "0   100M Freestyle  Gold  \n",
       "6  1200M Freestyle  Gold  "
      ]
     },
     "execution_count": 52,
     "metadata": {},
     "output_type": "execute_result"
    }
   ],
   "source": [
    "summer.loc[summer.Athlete_Name == \"Hajos, Alfred\"]"
   ]
  },
  {
   "cell_type": "markdown",
   "id": "83fd2bc2",
   "metadata": {},
   "source": [
    "왜 없다고 나올까??\n",
    "--> 공백이 들어가 있음"
   ]
  },
  {
   "cell_type": "code",
   "execution_count": 53,
   "id": "05c8368a",
   "metadata": {
    "ExecuteTime": {
     "end_time": "2022-10-01T11:45:34.038059Z",
     "start_time": "2022-10-01T11:45:34.017058Z"
    }
   },
   "outputs": [
    {
     "data": {
      "text/plain": [
       "'Hajos, Alfred'"
      ]
     },
     "execution_count": 53,
     "metadata": {},
     "output_type": "execute_result"
    }
   ],
   "source": [
    "summer.iloc[0,4]"
   ]
  },
  {
   "cell_type": "code",
   "execution_count": 54,
   "id": "de31ce77",
   "metadata": {
    "ExecuteTime": {
     "end_time": "2022-10-01T11:45:39.753609Z",
     "start_time": "2022-10-01T11:45:39.721607Z"
    }
   },
   "outputs": [
    {
     "data": {
      "text/plain": [
       "0                    Hajos, Alfred\n",
       "1                 Herschmann, Otto\n",
       "2                Drivas, Dimitrios\n",
       "3               Malokinis, Ioannis\n",
       "4               Chasapis, Spiridon\n",
       "                   ...            \n",
       "31165           Janikowski, Damian\n",
       "31166    Rezaei, Ghasem Gholamreza\n",
       "31167               Totrov, Rustam\n",
       "31168            Aleksanyan, Artur\n",
       "31169               Lidberg, Jimmy\n",
       "Name: Athlete_Name, Length: 31170, dtype: object"
      ]
     },
     "execution_count": 54,
     "metadata": {},
     "output_type": "execute_result"
    }
   ],
   "source": [
    "summer.Athlete_Name.str.strip()"
   ]
  },
  {
   "cell_type": "code",
   "execution_count": 56,
   "id": "8bd573f3",
   "metadata": {
    "ExecuteTime": {
     "end_time": "2022-10-01T11:47:35.057750Z",
     "start_time": "2022-10-01T11:47:35.022058Z"
    }
   },
   "outputs": [
    {
     "data": {
      "text/html": [
       "<div>\n",
       "<style scoped>\n",
       "    .dataframe tbody tr th:only-of-type {\n",
       "        vertical-align: middle;\n",
       "    }\n",
       "\n",
       "    .dataframe tbody tr th {\n",
       "        vertical-align: top;\n",
       "    }\n",
       "\n",
       "    .dataframe thead th {\n",
       "        text-align: right;\n",
       "    }\n",
       "</style>\n",
       "<table border=\"1\" class=\"dataframe\">\n",
       "  <thead>\n",
       "    <tr style=\"text-align: right;\">\n",
       "      <th></th>\n",
       "      <th>Year</th>\n",
       "      <th>City</th>\n",
       "      <th>Sport</th>\n",
       "      <th>Discipline</th>\n",
       "      <th>Athlete_Name</th>\n",
       "      <th>Country</th>\n",
       "      <th>Gender</th>\n",
       "      <th>Event</th>\n",
       "      <th>Medal</th>\n",
       "    </tr>\n",
       "  </thead>\n",
       "  <tbody>\n",
       "    <tr>\n",
       "      <th>0</th>\n",
       "      <td>1896</td>\n",
       "      <td>Athens</td>\n",
       "      <td>Aquatics</td>\n",
       "      <td>Swimming</td>\n",
       "      <td>Hajos, Alfred</td>\n",
       "      <td>HUN</td>\n",
       "      <td>Men</td>\n",
       "      <td>100M Freestyle</td>\n",
       "      <td>Gold</td>\n",
       "    </tr>\n",
       "    <tr>\n",
       "      <th>6</th>\n",
       "      <td>1896</td>\n",
       "      <td>Athens</td>\n",
       "      <td>Aquatics</td>\n",
       "      <td>Swimming</td>\n",
       "      <td>Hajos, Alfred</td>\n",
       "      <td>HUN</td>\n",
       "      <td>Men</td>\n",
       "      <td>1200M Freestyle</td>\n",
       "      <td>Gold</td>\n",
       "    </tr>\n",
       "  </tbody>\n",
       "</table>\n",
       "</div>"
      ],
      "text/plain": [
       "   Year    City     Sport Discipline   Athlete_Name Country Gender  \\\n",
       "0  1896  Athens  Aquatics   Swimming  Hajos, Alfred     HUN    Men   \n",
       "6  1896  Athens  Aquatics   Swimming  Hajos, Alfred     HUN    Men   \n",
       "\n",
       "             Event Medal  \n",
       "0   100M Freestyle  Gold  \n",
       "6  1200M Freestyle  Gold  "
      ]
     },
     "execution_count": 56,
     "metadata": {},
     "output_type": "execute_result"
    }
   ],
   "source": [
    "# 정확히 필터링하는 대신 contain 메소드를 사용할 수 있음\n",
    "summer.loc[summer.Athlete_Name.str.contains(\"Hajos, Alfred\")]"
   ]
  },
  {
   "cell_type": "markdown",
   "id": "88ca235a",
   "metadata": {},
   "source": [
    "#### 이름에서 공백 제거"
   ]
  },
  {
   "cell_type": "code",
   "execution_count": 57,
   "id": "9b773f55",
   "metadata": {
    "ExecuteTime": {
     "end_time": "2022-10-01T11:48:16.628215Z",
     "start_time": "2022-10-01T11:48:16.603920Z"
    }
   },
   "outputs": [],
   "source": [
    "summer.Athlete_Name = summer.Athlete_Name.str.strip()"
   ]
  },
  {
   "cell_type": "code",
   "execution_count": 58,
   "id": "7cb91ae9",
   "metadata": {
    "ExecuteTime": {
     "end_time": "2022-10-01T11:48:30.899312Z",
     "start_time": "2022-10-01T11:48:30.878692Z"
    }
   },
   "outputs": [
    {
     "data": {
      "text/html": [
       "<div>\n",
       "<style scoped>\n",
       "    .dataframe tbody tr th:only-of-type {\n",
       "        vertical-align: middle;\n",
       "    }\n",
       "\n",
       "    .dataframe tbody tr th {\n",
       "        vertical-align: top;\n",
       "    }\n",
       "\n",
       "    .dataframe thead th {\n",
       "        text-align: right;\n",
       "    }\n",
       "</style>\n",
       "<table border=\"1\" class=\"dataframe\">\n",
       "  <thead>\n",
       "    <tr style=\"text-align: right;\">\n",
       "      <th></th>\n",
       "      <th>Year</th>\n",
       "      <th>City</th>\n",
       "      <th>Sport</th>\n",
       "      <th>Discipline</th>\n",
       "      <th>Athlete_Name</th>\n",
       "      <th>Country</th>\n",
       "      <th>Gender</th>\n",
       "      <th>Event</th>\n",
       "      <th>Medal</th>\n",
       "    </tr>\n",
       "  </thead>\n",
       "  <tbody>\n",
       "    <tr>\n",
       "      <th>0</th>\n",
       "      <td>1896</td>\n",
       "      <td>Athens</td>\n",
       "      <td>Aquatics</td>\n",
       "      <td>Swimming</td>\n",
       "      <td>Hajos, Alfred</td>\n",
       "      <td>HUN</td>\n",
       "      <td>Men</td>\n",
       "      <td>100M Freestyle</td>\n",
       "      <td>Gold</td>\n",
       "    </tr>\n",
       "    <tr>\n",
       "      <th>6</th>\n",
       "      <td>1896</td>\n",
       "      <td>Athens</td>\n",
       "      <td>Aquatics</td>\n",
       "      <td>Swimming</td>\n",
       "      <td>Hajos, Alfred</td>\n",
       "      <td>HUN</td>\n",
       "      <td>Men</td>\n",
       "      <td>1200M Freestyle</td>\n",
       "      <td>Gold</td>\n",
       "    </tr>\n",
       "  </tbody>\n",
       "</table>\n",
       "</div>"
      ],
      "text/plain": [
       "   Year    City     Sport Discipline   Athlete_Name Country Gender  \\\n",
       "0  1896  Athens  Aquatics   Swimming  Hajos, Alfred     HUN    Men   \n",
       "6  1896  Athens  Aquatics   Swimming  Hajos, Alfred     HUN    Men   \n",
       "\n",
       "             Event Medal  \n",
       "0   100M Freestyle  Gold  \n",
       "6  1200M Freestyle  Gold  "
      ]
     },
     "execution_count": 58,
     "metadata": {},
     "output_type": "execute_result"
    }
   ],
   "source": [
    "summer.loc[summer.Athlete_Name == \"Hajos, Alfred\"]"
   ]
  },
  {
   "cell_type": "code",
   "execution_count": 83,
   "id": "897a14d2",
   "metadata": {
    "ExecuteTime": {
     "end_time": "2022-10-01T12:01:26.505682Z",
     "start_time": "2022-10-01T12:01:26.431077Z"
    }
   },
   "outputs": [
    {
     "name": "stdout",
     "output_type": "stream",
     "text": [
      "<class 'pandas.core.frame.DataFrame'>\n",
      "RangeIndex: 31170 entries, 0 to 31169\n",
      "Data columns (total 9 columns):\n",
      " #   Column        Non-Null Count  Dtype \n",
      "---  ------        --------------  ----- \n",
      " 0   Year          31170 non-null  int64 \n",
      " 1   City          31170 non-null  object\n",
      " 2   Sport         31170 non-null  object\n",
      " 3   Discipline    31170 non-null  object\n",
      " 4   Athlete_Name  31170 non-null  object\n",
      " 5   Country       31166 non-null  object\n",
      " 6   Gender        31170 non-null  object\n",
      " 7   Event         31170 non-null  object\n",
      " 8   Medal         31170 non-null  object\n",
      "dtypes: int64(1), object(8)\n",
      "memory usage: 2.1+ MB\n"
     ]
    }
   ],
   "source": [
    "summer.info()"
   ]
  },
  {
   "cell_type": "markdown",
   "id": "28482cfd",
   "metadata": {},
   "source": [
    "#### 결측값 다루기"
   ]
  },
  {
   "cell_type": "code",
   "execution_count": 124,
   "id": "e8f3a290",
   "metadata": {
    "ExecuteTime": {
     "end_time": "2022-10-01T12:27:15.201696Z",
     "start_time": "2022-10-01T12:27:15.139697Z"
    }
   },
   "outputs": [
    {
     "data": {
      "text/html": [
       "<div>\n",
       "<style scoped>\n",
       "    .dataframe tbody tr th:only-of-type {\n",
       "        vertical-align: middle;\n",
       "    }\n",
       "\n",
       "    .dataframe tbody tr th {\n",
       "        vertical-align: top;\n",
       "    }\n",
       "\n",
       "    .dataframe thead th {\n",
       "        text-align: right;\n",
       "    }\n",
       "</style>\n",
       "<table border=\"1\" class=\"dataframe\">\n",
       "  <thead>\n",
       "    <tr style=\"text-align: right;\">\n",
       "      <th></th>\n",
       "      <th>Year</th>\n",
       "      <th>City</th>\n",
       "      <th>Sport</th>\n",
       "      <th>Discipline</th>\n",
       "      <th>Athlete_Name</th>\n",
       "      <th>Country</th>\n",
       "      <th>Gender</th>\n",
       "      <th>Event</th>\n",
       "      <th>Medal</th>\n",
       "    </tr>\n",
       "  </thead>\n",
       "  <tbody>\n",
       "    <tr>\n",
       "      <th>29608</th>\n",
       "      <td>2012</td>\n",
       "      <td>London</td>\n",
       "      <td>Athletics</td>\n",
       "      <td>Athletics</td>\n",
       "      <td>Pending</td>\n",
       "      <td>NaN</td>\n",
       "      <td>Women</td>\n",
       "      <td>1500M</td>\n",
       "      <td>Gold</td>\n",
       "    </tr>\n",
       "    <tr>\n",
       "      <th>31077</th>\n",
       "      <td>2012</td>\n",
       "      <td>London</td>\n",
       "      <td>Weightlifting</td>\n",
       "      <td>Weightlifting</td>\n",
       "      <td>Pending</td>\n",
       "      <td>NaN</td>\n",
       "      <td>Women</td>\n",
       "      <td>63KG</td>\n",
       "      <td>Gold</td>\n",
       "    </tr>\n",
       "    <tr>\n",
       "      <th>31096</th>\n",
       "      <td>2012</td>\n",
       "      <td>London</td>\n",
       "      <td>Weightlifting</td>\n",
       "      <td>Weightlifting</td>\n",
       "      <td>Pending</td>\n",
       "      <td>NaN</td>\n",
       "      <td>Men</td>\n",
       "      <td>94KG</td>\n",
       "      <td>Silver</td>\n",
       "    </tr>\n",
       "    <tr>\n",
       "      <th>31115</th>\n",
       "      <td>2012</td>\n",
       "      <td>London</td>\n",
       "      <td>Wrestling</td>\n",
       "      <td>Wrestling Freestyle</td>\n",
       "      <td>Kudukhov, Besik</td>\n",
       "      <td>NaN</td>\n",
       "      <td>Men</td>\n",
       "      <td>Wf 60 KG</td>\n",
       "      <td>Silver</td>\n",
       "    </tr>\n",
       "  </tbody>\n",
       "</table>\n",
       "</div>"
      ],
      "text/plain": [
       "       Year    City          Sport           Discipline     Athlete_Name  \\\n",
       "29608  2012  London      Athletics            Athletics          Pending   \n",
       "31077  2012  London  Weightlifting        Weightlifting          Pending   \n",
       "31096  2012  London  Weightlifting        Weightlifting          Pending   \n",
       "31115  2012  London      Wrestling  Wrestling Freestyle  Kudukhov, Besik   \n",
       "\n",
       "      Country Gender     Event   Medal  \n",
       "29608     NaN  Women     1500M    Gold  \n",
       "31077     NaN  Women      63KG    Gold  \n",
       "31096     NaN    Men      94KG  Silver  \n",
       "31115     NaN    Men  Wf 60 KG  Silver  "
      ]
     },
     "execution_count": 124,
     "metadata": {},
     "output_type": "execute_result"
    }
   ],
   "source": [
    "summer[summer.isna().any(axis = 1)]"
   ]
  },
  {
   "cell_type": "code",
   "execution_count": 148,
   "id": "919fd379",
   "metadata": {
    "ExecuteTime": {
     "end_time": "2022-10-01T12:44:31.795890Z",
     "start_time": "2022-10-01T12:44:31.734822Z"
    }
   },
   "outputs": [],
   "source": [
    "summer.dropna(inplace= True)"
   ]
  },
  {
   "cell_type": "code",
   "execution_count": 149,
   "id": "02493468",
   "metadata": {
    "ExecuteTime": {
     "end_time": "2022-10-01T12:44:39.022073Z",
     "start_time": "2022-10-01T12:44:38.958966Z"
    }
   },
   "outputs": [
    {
     "name": "stdout",
     "output_type": "stream",
     "text": [
      "<class 'pandas.core.frame.DataFrame'>\n",
      "Int64Index: 31166 entries, 0 to 31169\n",
      "Data columns (total 9 columns):\n",
      " #   Column        Non-Null Count  Dtype \n",
      "---  ------        --------------  ----- \n",
      " 0   Year          31166 non-null  int64 \n",
      " 1   City          31166 non-null  object\n",
      " 2   Sport         31166 non-null  object\n",
      " 3   Discipline    31166 non-null  object\n",
      " 4   Athlete_Name  31166 non-null  object\n",
      " 5   Country       31166 non-null  object\n",
      " 6   Gender        31166 non-null  object\n",
      " 7   Event         31166 non-null  object\n",
      " 8   Medal         31166 non-null  object\n",
      "dtypes: int64(1), object(8)\n",
      "memory usage: 2.4+ MB\n"
     ]
    }
   ],
   "source": [
    "summer.info()"
   ]
  },
  {
   "cell_type": "markdown",
   "id": "9bd65520",
   "metadata": {},
   "source": [
    "#### 중복값 다루기"
   ]
  },
  {
   "cell_type": "code",
   "execution_count": 164,
   "id": "1ba3ee54",
   "metadata": {
    "ExecuteTime": {
     "end_time": "2022-10-01T13:05:06.330873Z",
     "start_time": "2022-10-01T13:05:06.274093Z"
    }
   },
   "outputs": [
    {
     "name": "stdout",
     "output_type": "stream",
     "text": [
      "<class 'pandas.core.frame.DataFrame'>\n",
      "Int64Index: 31166 entries, 0 to 31169\n",
      "Data columns (total 9 columns):\n",
      " #   Column        Non-Null Count  Dtype \n",
      "---  ------        --------------  ----- \n",
      " 0   Year          31166 non-null  int64 \n",
      " 1   City          31166 non-null  object\n",
      " 2   Sport         31166 non-null  object\n",
      " 3   Discipline    31166 non-null  object\n",
      " 4   Athlete_Name  31166 non-null  object\n",
      " 5   Country       31166 non-null  object\n",
      " 6   Gender        31166 non-null  object\n",
      " 7   Event         31166 non-null  object\n",
      " 8   Medal         31166 non-null  object\n",
      "dtypes: int64(1), object(8)\n",
      "memory usage: 2.4+ MB\n"
     ]
    }
   ],
   "source": [
    "summer.info()"
   ]
  },
  {
   "cell_type": "code",
   "execution_count": 165,
   "id": "e2f876c8",
   "metadata": {
    "ExecuteTime": {
     "end_time": "2022-10-01T13:05:28.624217Z",
     "start_time": "2022-10-01T13:05:28.581753Z"
    }
   },
   "outputs": [
    {
     "data": {
      "text/plain": [
       "7"
      ]
     },
     "execution_count": 165,
     "metadata": {},
     "output_type": "execute_result"
    }
   ],
   "source": [
    "summer.duplicated(keep=\"first\").sum()"
   ]
  },
  {
   "cell_type": "code",
   "execution_count": 168,
   "id": "3deacb08",
   "metadata": {
    "ExecuteTime": {
     "end_time": "2022-10-01T13:07:06.262441Z",
     "start_time": "2022-10-01T13:07:06.220374Z"
    }
   },
   "outputs": [
    {
     "data": {
      "text/html": [
       "<div>\n",
       "<style scoped>\n",
       "    .dataframe tbody tr th:only-of-type {\n",
       "        vertical-align: middle;\n",
       "    }\n",
       "\n",
       "    .dataframe tbody tr th {\n",
       "        vertical-align: top;\n",
       "    }\n",
       "\n",
       "    .dataframe thead th {\n",
       "        text-align: right;\n",
       "    }\n",
       "</style>\n",
       "<table border=\"1\" class=\"dataframe\">\n",
       "  <thead>\n",
       "    <tr style=\"text-align: right;\">\n",
       "      <th></th>\n",
       "      <th>Year</th>\n",
       "      <th>City</th>\n",
       "      <th>Sport</th>\n",
       "      <th>Discipline</th>\n",
       "      <th>Athlete_Name</th>\n",
       "      <th>Country</th>\n",
       "      <th>Gender</th>\n",
       "      <th>Event</th>\n",
       "      <th>Medal</th>\n",
       "    </tr>\n",
       "  </thead>\n",
       "  <tbody>\n",
       "    <tr>\n",
       "      <th>2068</th>\n",
       "      <td>1912</td>\n",
       "      <td>Stockholm</td>\n",
       "      <td>Athletics</td>\n",
       "      <td>Athletics</td>\n",
       "      <td>Lelong, Charles Louis</td>\n",
       "      <td>FRA</td>\n",
       "      <td>Men</td>\n",
       "      <td>4X400M Relay</td>\n",
       "      <td>Silver</td>\n",
       "    </tr>\n",
       "    <tr>\n",
       "      <th>2069</th>\n",
       "      <td>1912</td>\n",
       "      <td>Stockholm</td>\n",
       "      <td>Athletics</td>\n",
       "      <td>Athletics</td>\n",
       "      <td>Lelong, Charles Louis</td>\n",
       "      <td>FRA</td>\n",
       "      <td>Men</td>\n",
       "      <td>4X400M Relay</td>\n",
       "      <td>Silver</td>\n",
       "    </tr>\n",
       "    <tr>\n",
       "      <th>12252</th>\n",
       "      <td>1968</td>\n",
       "      <td>Mexico</td>\n",
       "      <td>Fencing</td>\n",
       "      <td>Fencing</td>\n",
       "      <td>Kalmar, Janos</td>\n",
       "      <td>HUN</td>\n",
       "      <td>Men</td>\n",
       "      <td>Sabre Team</td>\n",
       "      <td>Bronze</td>\n",
       "    </tr>\n",
       "    <tr>\n",
       "      <th>12253</th>\n",
       "      <td>1968</td>\n",
       "      <td>Mexico</td>\n",
       "      <td>Fencing</td>\n",
       "      <td>Fencing</td>\n",
       "      <td>Kalmar, Janos</td>\n",
       "      <td>HUN</td>\n",
       "      <td>Men</td>\n",
       "      <td>Sabre Team</td>\n",
       "      <td>Bronze</td>\n",
       "    </tr>\n",
       "    <tr>\n",
       "      <th>15595</th>\n",
       "      <td>1980</td>\n",
       "      <td>Moscow</td>\n",
       "      <td>Boxing</td>\n",
       "      <td>Boxing</td>\n",
       "      <td>Mustafov, Ismail</td>\n",
       "      <td>BUL</td>\n",
       "      <td>Men</td>\n",
       "      <td>- 48KG (Light-Flyweight)</td>\n",
       "      <td>Bronze</td>\n",
       "    </tr>\n",
       "    <tr>\n",
       "      <th>15596</th>\n",
       "      <td>1980</td>\n",
       "      <td>Moscow</td>\n",
       "      <td>Boxing</td>\n",
       "      <td>Boxing</td>\n",
       "      <td>Mustafov, Ismail</td>\n",
       "      <td>BUL</td>\n",
       "      <td>Men</td>\n",
       "      <td>- 48KG (Light-Flyweight)</td>\n",
       "      <td>Bronze</td>\n",
       "    </tr>\n",
       "    <tr>\n",
       "      <th>16101</th>\n",
       "      <td>1980</td>\n",
       "      <td>Moscow</td>\n",
       "      <td>Hockey</td>\n",
       "      <td>Hockey</td>\n",
       "      <td>Singh, Singh</td>\n",
       "      <td>IND</td>\n",
       "      <td>Men</td>\n",
       "      <td>Hockey</td>\n",
       "      <td>Gold</td>\n",
       "    </tr>\n",
       "    <tr>\n",
       "      <th>16102</th>\n",
       "      <td>1980</td>\n",
       "      <td>Moscow</td>\n",
       "      <td>Hockey</td>\n",
       "      <td>Hockey</td>\n",
       "      <td>Singh, Singh</td>\n",
       "      <td>IND</td>\n",
       "      <td>Men</td>\n",
       "      <td>Hockey</td>\n",
       "      <td>Gold</td>\n",
       "    </tr>\n",
       "    <tr>\n",
       "      <th>21832</th>\n",
       "      <td>1996</td>\n",
       "      <td>Atlanta</td>\n",
       "      <td>Baseball</td>\n",
       "      <td>Baseball</td>\n",
       "      <td>Scull, Antonio</td>\n",
       "      <td>CUB</td>\n",
       "      <td>Men</td>\n",
       "      <td>Baseball</td>\n",
       "      <td>Gold</td>\n",
       "    </tr>\n",
       "    <tr>\n",
       "      <th>21833</th>\n",
       "      <td>1996</td>\n",
       "      <td>Atlanta</td>\n",
       "      <td>Baseball</td>\n",
       "      <td>Baseball</td>\n",
       "      <td>Scull, Antonio</td>\n",
       "      <td>CUB</td>\n",
       "      <td>Men</td>\n",
       "      <td>Baseball</td>\n",
       "      <td>Gold</td>\n",
       "    </tr>\n",
       "    <tr>\n",
       "      <th>28677</th>\n",
       "      <td>2008</td>\n",
       "      <td>Beijing</td>\n",
       "      <td>Rowing</td>\n",
       "      <td>Rowing</td>\n",
       "      <td>Volpenhein, Bryan</td>\n",
       "      <td>USA</td>\n",
       "      <td>Men</td>\n",
       "      <td>Eight With Coxswain (8+)</td>\n",
       "      <td>Bronze</td>\n",
       "    </tr>\n",
       "    <tr>\n",
       "      <th>28678</th>\n",
       "      <td>2008</td>\n",
       "      <td>Beijing</td>\n",
       "      <td>Rowing</td>\n",
       "      <td>Rowing</td>\n",
       "      <td>Volpenhein, Bryan</td>\n",
       "      <td>USA</td>\n",
       "      <td>Men</td>\n",
       "      <td>Eight With Coxswain (8+)</td>\n",
       "      <td>Bronze</td>\n",
       "    </tr>\n",
       "    <tr>\n",
       "      <th>29784</th>\n",
       "      <td>2012</td>\n",
       "      <td>London</td>\n",
       "      <td>Badminton</td>\n",
       "      <td>Badminton</td>\n",
       "      <td>Zhao, Yunlei</td>\n",
       "      <td>CHN</td>\n",
       "      <td>Women</td>\n",
       "      <td>Doubles</td>\n",
       "      <td>Gold</td>\n",
       "    </tr>\n",
       "    <tr>\n",
       "      <th>29790</th>\n",
       "      <td>2012</td>\n",
       "      <td>London</td>\n",
       "      <td>Badminton</td>\n",
       "      <td>Badminton</td>\n",
       "      <td>Zhao, Yunlei</td>\n",
       "      <td>CHN</td>\n",
       "      <td>Women</td>\n",
       "      <td>Doubles</td>\n",
       "      <td>Gold</td>\n",
       "    </tr>\n",
       "  </tbody>\n",
       "</table>\n",
       "</div>"
      ],
      "text/plain": [
       "       Year       City      Sport Discipline           Athlete_Name Country  \\\n",
       "2068   1912  Stockholm  Athletics  Athletics  Lelong, Charles Louis     FRA   \n",
       "2069   1912  Stockholm  Athletics  Athletics  Lelong, Charles Louis     FRA   \n",
       "12252  1968     Mexico    Fencing    Fencing          Kalmar, Janos     HUN   \n",
       "12253  1968     Mexico    Fencing    Fencing          Kalmar, Janos     HUN   \n",
       "15595  1980     Moscow     Boxing     Boxing       Mustafov, Ismail     BUL   \n",
       "15596  1980     Moscow     Boxing     Boxing       Mustafov, Ismail     BUL   \n",
       "16101  1980     Moscow     Hockey     Hockey           Singh, Singh     IND   \n",
       "16102  1980     Moscow     Hockey     Hockey           Singh, Singh     IND   \n",
       "21832  1996    Atlanta   Baseball   Baseball         Scull, Antonio     CUB   \n",
       "21833  1996    Atlanta   Baseball   Baseball         Scull, Antonio     CUB   \n",
       "28677  2008    Beijing     Rowing     Rowing      Volpenhein, Bryan     USA   \n",
       "28678  2008    Beijing     Rowing     Rowing      Volpenhein, Bryan     USA   \n",
       "29784  2012     London  Badminton  Badminton           Zhao, Yunlei     CHN   \n",
       "29790  2012     London  Badminton  Badminton           Zhao, Yunlei     CHN   \n",
       "\n",
       "      Gender                     Event   Medal  \n",
       "2068     Men              4X400M Relay  Silver  \n",
       "2069     Men              4X400M Relay  Silver  \n",
       "12252    Men                Sabre Team  Bronze  \n",
       "12253    Men                Sabre Team  Bronze  \n",
       "15595    Men  - 48KG (Light-Flyweight)  Bronze  \n",
       "15596    Men  - 48KG (Light-Flyweight)  Bronze  \n",
       "16101    Men                    Hockey    Gold  \n",
       "16102    Men                    Hockey    Gold  \n",
       "21832    Men                  Baseball    Gold  \n",
       "21833    Men                  Baseball    Gold  \n",
       "28677    Men  Eight With Coxswain (8+)  Bronze  \n",
       "28678    Men  Eight With Coxswain (8+)  Bronze  \n",
       "29784  Women                   Doubles    Gold  \n",
       "29790  Women                   Doubles    Gold  "
      ]
     },
     "execution_count": 168,
     "metadata": {},
     "output_type": "execute_result"
    }
   ],
   "source": [
    "# 중복행 확인\n",
    "summer[summer.duplicated(keep=False)]"
   ]
  },
  {
   "cell_type": "code",
   "execution_count": 173,
   "id": "84b0ccd7",
   "metadata": {
    "ExecuteTime": {
     "end_time": "2022-10-01T13:15:23.436288Z",
     "start_time": "2022-10-01T13:15:23.425288Z"
    }
   },
   "outputs": [],
   "source": [
    "summer.drop(index=[2068,12253,15596,21833,28677], inplace=True)"
   ]
  },
  {
   "cell_type": "code",
   "execution_count": 174,
   "id": "c6c90dc5",
   "metadata": {
    "ExecuteTime": {
     "end_time": "2022-10-01T13:15:44.632109Z",
     "start_time": "2022-10-01T13:15:44.590316Z"
    }
   },
   "outputs": [
    {
     "data": {
      "text/html": [
       "<div>\n",
       "<style scoped>\n",
       "    .dataframe tbody tr th:only-of-type {\n",
       "        vertical-align: middle;\n",
       "    }\n",
       "\n",
       "    .dataframe tbody tr th {\n",
       "        vertical-align: top;\n",
       "    }\n",
       "\n",
       "    .dataframe thead th {\n",
       "        text-align: right;\n",
       "    }\n",
       "</style>\n",
       "<table border=\"1\" class=\"dataframe\">\n",
       "  <thead>\n",
       "    <tr style=\"text-align: right;\">\n",
       "      <th></th>\n",
       "      <th>Year</th>\n",
       "      <th>City</th>\n",
       "      <th>Sport</th>\n",
       "      <th>Discipline</th>\n",
       "      <th>Athlete_Name</th>\n",
       "      <th>Country</th>\n",
       "      <th>Gender</th>\n",
       "      <th>Event</th>\n",
       "      <th>Medal</th>\n",
       "    </tr>\n",
       "  </thead>\n",
       "  <tbody>\n",
       "    <tr>\n",
       "      <th>16101</th>\n",
       "      <td>1980</td>\n",
       "      <td>Moscow</td>\n",
       "      <td>Hockey</td>\n",
       "      <td>Hockey</td>\n",
       "      <td>Singh, Singh</td>\n",
       "      <td>IND</td>\n",
       "      <td>Men</td>\n",
       "      <td>Hockey</td>\n",
       "      <td>Gold</td>\n",
       "    </tr>\n",
       "    <tr>\n",
       "      <th>16102</th>\n",
       "      <td>1980</td>\n",
       "      <td>Moscow</td>\n",
       "      <td>Hockey</td>\n",
       "      <td>Hockey</td>\n",
       "      <td>Singh, Singh</td>\n",
       "      <td>IND</td>\n",
       "      <td>Men</td>\n",
       "      <td>Hockey</td>\n",
       "      <td>Gold</td>\n",
       "    </tr>\n",
       "    <tr>\n",
       "      <th>29784</th>\n",
       "      <td>2012</td>\n",
       "      <td>London</td>\n",
       "      <td>Badminton</td>\n",
       "      <td>Badminton</td>\n",
       "      <td>Zhao, Yunlei</td>\n",
       "      <td>CHN</td>\n",
       "      <td>Women</td>\n",
       "      <td>Doubles</td>\n",
       "      <td>Gold</td>\n",
       "    </tr>\n",
       "    <tr>\n",
       "      <th>29790</th>\n",
       "      <td>2012</td>\n",
       "      <td>London</td>\n",
       "      <td>Badminton</td>\n",
       "      <td>Badminton</td>\n",
       "      <td>Zhao, Yunlei</td>\n",
       "      <td>CHN</td>\n",
       "      <td>Women</td>\n",
       "      <td>Doubles</td>\n",
       "      <td>Gold</td>\n",
       "    </tr>\n",
       "  </tbody>\n",
       "</table>\n",
       "</div>"
      ],
      "text/plain": [
       "       Year    City      Sport Discipline  Athlete_Name Country Gender  \\\n",
       "16101  1980  Moscow     Hockey     Hockey  Singh, Singh     IND    Men   \n",
       "16102  1980  Moscow     Hockey     Hockey  Singh, Singh     IND    Men   \n",
       "29784  2012  London  Badminton  Badminton  Zhao, Yunlei     CHN  Women   \n",
       "29790  2012  London  Badminton  Badminton  Zhao, Yunlei     CHN  Women   \n",
       "\n",
       "         Event Medal  \n",
       "16101   Hockey  Gold  \n",
       "16102   Hockey  Gold  \n",
       "29784  Doubles  Gold  \n",
       "29790  Doubles  Gold  "
      ]
     },
     "execution_count": 174,
     "metadata": {},
     "output_type": "execute_result"
    }
   ],
   "source": [
    "summer[summer.duplicated(keep=False)]"
   ]
  },
  {
   "cell_type": "code",
   "execution_count": 175,
   "id": "f014ef17",
   "metadata": {
    "ExecuteTime": {
     "end_time": "2022-10-01T13:17:11.854733Z",
     "start_time": "2022-10-01T13:17:11.823734Z"
    }
   },
   "outputs": [
    {
     "data": {
      "text/html": [
       "<div>\n",
       "<style scoped>\n",
       "    .dataframe tbody tr th:only-of-type {\n",
       "        vertical-align: middle;\n",
       "    }\n",
       "\n",
       "    .dataframe tbody tr th {\n",
       "        vertical-align: top;\n",
       "    }\n",
       "\n",
       "    .dataframe thead th {\n",
       "        text-align: right;\n",
       "    }\n",
       "</style>\n",
       "<table border=\"1\" class=\"dataframe\">\n",
       "  <thead>\n",
       "    <tr style=\"text-align: right;\">\n",
       "      <th></th>\n",
       "      <th>Year</th>\n",
       "      <th>City</th>\n",
       "      <th>Sport</th>\n",
       "      <th>Discipline</th>\n",
       "      <th>Athlete_Name</th>\n",
       "      <th>Country</th>\n",
       "      <th>Gender</th>\n",
       "      <th>Event</th>\n",
       "      <th>Medal</th>\n",
       "    </tr>\n",
       "  </thead>\n",
       "  <tbody>\n",
       "    <tr>\n",
       "      <th>16085</th>\n",
       "      <td>1980</td>\n",
       "      <td>Moscow</td>\n",
       "      <td>Hockey</td>\n",
       "      <td>Hockey</td>\n",
       "      <td>Pleshakov, Sergei</td>\n",
       "      <td>URS</td>\n",
       "      <td>Men</td>\n",
       "      <td>Hockey</td>\n",
       "      <td>Bronze</td>\n",
       "    </tr>\n",
       "    <tr>\n",
       "      <th>16086</th>\n",
       "      <td>1980</td>\n",
       "      <td>Moscow</td>\n",
       "      <td>Hockey</td>\n",
       "      <td>Hockey</td>\n",
       "      <td>Pleshakov, Vladimir</td>\n",
       "      <td>URS</td>\n",
       "      <td>Men</td>\n",
       "      <td>Hockey</td>\n",
       "      <td>Bronze</td>\n",
       "    </tr>\n",
       "    <tr>\n",
       "      <th>16087</th>\n",
       "      <td>1980</td>\n",
       "      <td>Moscow</td>\n",
       "      <td>Hockey</td>\n",
       "      <td>Hockey</td>\n",
       "      <td>Sychev, Aleksandr</td>\n",
       "      <td>URS</td>\n",
       "      <td>Men</td>\n",
       "      <td>Hockey</td>\n",
       "      <td>Bronze</td>\n",
       "    </tr>\n",
       "    <tr>\n",
       "      <th>16088</th>\n",
       "      <td>1980</td>\n",
       "      <td>Moscow</td>\n",
       "      <td>Hockey</td>\n",
       "      <td>Hockey</td>\n",
       "      <td>Zagorodnev, Oleg</td>\n",
       "      <td>URS</td>\n",
       "      <td>Men</td>\n",
       "      <td>Hockey</td>\n",
       "      <td>Bronze</td>\n",
       "    </tr>\n",
       "    <tr>\n",
       "      <th>16089</th>\n",
       "      <td>1980</td>\n",
       "      <td>Moscow</td>\n",
       "      <td>Hockey</td>\n",
       "      <td>Hockey</td>\n",
       "      <td>Zigangirov, Farit</td>\n",
       "      <td>URS</td>\n",
       "      <td>Men</td>\n",
       "      <td>Hockey</td>\n",
       "      <td>Bronze</td>\n",
       "    </tr>\n",
       "    <tr>\n",
       "      <th>16090</th>\n",
       "      <td>1980</td>\n",
       "      <td>Moscow</td>\n",
       "      <td>Hockey</td>\n",
       "      <td>Hockey</td>\n",
       "      <td>Allan, Schofield</td>\n",
       "      <td>IND</td>\n",
       "      <td>Men</td>\n",
       "      <td>Hockey</td>\n",
       "      <td>Gold</td>\n",
       "    </tr>\n",
       "    <tr>\n",
       "      <th>16091</th>\n",
       "      <td>1980</td>\n",
       "      <td>Moscow</td>\n",
       "      <td>Hockey</td>\n",
       "      <td>Hockey</td>\n",
       "      <td>Amarjit Rana, Singh</td>\n",
       "      <td>IND</td>\n",
       "      <td>Men</td>\n",
       "      <td>Hockey</td>\n",
       "      <td>Gold</td>\n",
       "    </tr>\n",
       "    <tr>\n",
       "      <th>16092</th>\n",
       "      <td>1980</td>\n",
       "      <td>Moscow</td>\n",
       "      <td>Hockey</td>\n",
       "      <td>Hockey</td>\n",
       "      <td>Baskaran, Baskaran</td>\n",
       "      <td>IND</td>\n",
       "      <td>Men</td>\n",
       "      <td>Hockey</td>\n",
       "      <td>Gold</td>\n",
       "    </tr>\n",
       "    <tr>\n",
       "      <th>16093</th>\n",
       "      <td>1980</td>\n",
       "      <td>Moscow</td>\n",
       "      <td>Hockey</td>\n",
       "      <td>Hockey</td>\n",
       "      <td>Chettri, Chettri</td>\n",
       "      <td>IND</td>\n",
       "      <td>Men</td>\n",
       "      <td>Hockey</td>\n",
       "      <td>Gold</td>\n",
       "    </tr>\n",
       "    <tr>\n",
       "      <th>16094</th>\n",
       "      <td>1980</td>\n",
       "      <td>Moscow</td>\n",
       "      <td>Hockey</td>\n",
       "      <td>Hockey</td>\n",
       "      <td>Deavinder, Singh</td>\n",
       "      <td>IND</td>\n",
       "      <td>Men</td>\n",
       "      <td>Hockey</td>\n",
       "      <td>Gold</td>\n",
       "    </tr>\n",
       "    <tr>\n",
       "      <th>16095</th>\n",
       "      <td>1980</td>\n",
       "      <td>Moscow</td>\n",
       "      <td>Hockey</td>\n",
       "      <td>Hockey</td>\n",
       "      <td>Fernandes, Mervyn</td>\n",
       "      <td>IND</td>\n",
       "      <td>Men</td>\n",
       "      <td>Hockey</td>\n",
       "      <td>Gold</td>\n",
       "    </tr>\n",
       "    <tr>\n",
       "      <th>16096</th>\n",
       "      <td>1980</td>\n",
       "      <td>Moscow</td>\n",
       "      <td>Hockey</td>\n",
       "      <td>Hockey</td>\n",
       "      <td>Gurmail, Singh</td>\n",
       "      <td>IND</td>\n",
       "      <td>Men</td>\n",
       "      <td>Hockey</td>\n",
       "      <td>Gold</td>\n",
       "    </tr>\n",
       "    <tr>\n",
       "      <th>16097</th>\n",
       "      <td>1980</td>\n",
       "      <td>Moscow</td>\n",
       "      <td>Hockey</td>\n",
       "      <td>Hockey</td>\n",
       "      <td>Kaushik, Maharaj Krishon</td>\n",
       "      <td>IND</td>\n",
       "      <td>Men</td>\n",
       "      <td>Hockey</td>\n",
       "      <td>Gold</td>\n",
       "    </tr>\n",
       "    <tr>\n",
       "      <th>16098</th>\n",
       "      <td>1980</td>\n",
       "      <td>Moscow</td>\n",
       "      <td>Hockey</td>\n",
       "      <td>Hockey</td>\n",
       "      <td>Kumar, Charanjit</td>\n",
       "      <td>IND</td>\n",
       "      <td>Men</td>\n",
       "      <td>Hockey</td>\n",
       "      <td>Gold</td>\n",
       "    </tr>\n",
       "    <tr>\n",
       "      <th>16099</th>\n",
       "      <td>1980</td>\n",
       "      <td>Moscow</td>\n",
       "      <td>Hockey</td>\n",
       "      <td>Hockey</td>\n",
       "      <td>Maneypanda, Somaya</td>\n",
       "      <td>IND</td>\n",
       "      <td>Men</td>\n",
       "      <td>Hockey</td>\n",
       "      <td>Gold</td>\n",
       "    </tr>\n",
       "    <tr>\n",
       "      <th>16100</th>\n",
       "      <td>1980</td>\n",
       "      <td>Moscow</td>\n",
       "      <td>Hockey</td>\n",
       "      <td>Hockey</td>\n",
       "      <td>Mohammad, Shahid</td>\n",
       "      <td>IND</td>\n",
       "      <td>Men</td>\n",
       "      <td>Hockey</td>\n",
       "      <td>Gold</td>\n",
       "    </tr>\n",
       "    <tr>\n",
       "      <th>16101</th>\n",
       "      <td>1980</td>\n",
       "      <td>Moscow</td>\n",
       "      <td>Hockey</td>\n",
       "      <td>Hockey</td>\n",
       "      <td>Singh, Singh</td>\n",
       "      <td>IND</td>\n",
       "      <td>Men</td>\n",
       "      <td>Hockey</td>\n",
       "      <td>Gold</td>\n",
       "    </tr>\n",
       "    <tr>\n",
       "      <th>16102</th>\n",
       "      <td>1980</td>\n",
       "      <td>Moscow</td>\n",
       "      <td>Hockey</td>\n",
       "      <td>Hockey</td>\n",
       "      <td>Singh, Singh</td>\n",
       "      <td>IND</td>\n",
       "      <td>Men</td>\n",
       "      <td>Hockey</td>\n",
       "      <td>Gold</td>\n",
       "    </tr>\n",
       "    <tr>\n",
       "      <th>16103</th>\n",
       "      <td>1980</td>\n",
       "      <td>Moscow</td>\n",
       "      <td>Hockey</td>\n",
       "      <td>Hockey</td>\n",
       "      <td>Surinder, Singh</td>\n",
       "      <td>IND</td>\n",
       "      <td>Men</td>\n",
       "      <td>Hockey</td>\n",
       "      <td>Gold</td>\n",
       "    </tr>\n",
       "    <tr>\n",
       "      <th>16104</th>\n",
       "      <td>1980</td>\n",
       "      <td>Moscow</td>\n",
       "      <td>Hockey</td>\n",
       "      <td>Hockey</td>\n",
       "      <td>Sylvanus, Dung Dung</td>\n",
       "      <td>IND</td>\n",
       "      <td>Men</td>\n",
       "      <td>Hockey</td>\n",
       "      <td>Gold</td>\n",
       "    </tr>\n",
       "    <tr>\n",
       "      <th>16105</th>\n",
       "      <td>1980</td>\n",
       "      <td>Moscow</td>\n",
       "      <td>Hockey</td>\n",
       "      <td>Hockey</td>\n",
       "      <td>Zafar, Zafar</td>\n",
       "      <td>IND</td>\n",
       "      <td>Men</td>\n",
       "      <td>Hockey</td>\n",
       "      <td>Gold</td>\n",
       "    </tr>\n",
       "    <tr>\n",
       "      <th>16106</th>\n",
       "      <td>1980</td>\n",
       "      <td>Moscow</td>\n",
       "      <td>Hockey</td>\n",
       "      <td>Hockey</td>\n",
       "      <td>Amat Fontanals, Juan</td>\n",
       "      <td>ESP</td>\n",
       "      <td>Men</td>\n",
       "      <td>Hockey</td>\n",
       "      <td>Silver</td>\n",
       "    </tr>\n",
       "    <tr>\n",
       "      <th>16107</th>\n",
       "      <td>1980</td>\n",
       "      <td>Moscow</td>\n",
       "      <td>Hockey</td>\n",
       "      <td>Hockey</td>\n",
       "      <td>Arbos Perarnau, Juan</td>\n",
       "      <td>ESP</td>\n",
       "      <td>Men</td>\n",
       "      <td>Hockey</td>\n",
       "      <td>Silver</td>\n",
       "    </tr>\n",
       "    <tr>\n",
       "      <th>16108</th>\n",
       "      <td>1980</td>\n",
       "      <td>Moscow</td>\n",
       "      <td>Hockey</td>\n",
       "      <td>Hockey</td>\n",
       "      <td>Arbos Serra, Jaime</td>\n",
       "      <td>ESP</td>\n",
       "      <td>Men</td>\n",
       "      <td>Hockey</td>\n",
       "      <td>Silver</td>\n",
       "    </tr>\n",
       "    <tr>\n",
       "      <th>16109</th>\n",
       "      <td>1980</td>\n",
       "      <td>Moscow</td>\n",
       "      <td>Hockey</td>\n",
       "      <td>Hockey</td>\n",
       "      <td>Cabot Duran, Javier</td>\n",
       "      <td>ESP</td>\n",
       "      <td>Men</td>\n",
       "      <td>Hockey</td>\n",
       "      <td>Silver</td>\n",
       "    </tr>\n",
       "    <tr>\n",
       "      <th>16110</th>\n",
       "      <td>1980</td>\n",
       "      <td>Moscow</td>\n",
       "      <td>Hockey</td>\n",
       "      <td>Hockey</td>\n",
       "      <td>Cabot Duran, Ricardo</td>\n",
       "      <td>ESP</td>\n",
       "      <td>Men</td>\n",
       "      <td>Hockey</td>\n",
       "      <td>Silver</td>\n",
       "    </tr>\n",
       "  </tbody>\n",
       "</table>\n",
       "</div>"
      ],
      "text/plain": [
       "       Year    City   Sport Discipline              Athlete_Name Country  \\\n",
       "16085  1980  Moscow  Hockey     Hockey         Pleshakov, Sergei     URS   \n",
       "16086  1980  Moscow  Hockey     Hockey       Pleshakov, Vladimir     URS   \n",
       "16087  1980  Moscow  Hockey     Hockey         Sychev, Aleksandr     URS   \n",
       "16088  1980  Moscow  Hockey     Hockey          Zagorodnev, Oleg     URS   \n",
       "16089  1980  Moscow  Hockey     Hockey         Zigangirov, Farit     URS   \n",
       "16090  1980  Moscow  Hockey     Hockey          Allan, Schofield     IND   \n",
       "16091  1980  Moscow  Hockey     Hockey       Amarjit Rana, Singh     IND   \n",
       "16092  1980  Moscow  Hockey     Hockey        Baskaran, Baskaran     IND   \n",
       "16093  1980  Moscow  Hockey     Hockey          Chettri, Chettri     IND   \n",
       "16094  1980  Moscow  Hockey     Hockey          Deavinder, Singh     IND   \n",
       "16095  1980  Moscow  Hockey     Hockey         Fernandes, Mervyn     IND   \n",
       "16096  1980  Moscow  Hockey     Hockey            Gurmail, Singh     IND   \n",
       "16097  1980  Moscow  Hockey     Hockey  Kaushik, Maharaj Krishon     IND   \n",
       "16098  1980  Moscow  Hockey     Hockey          Kumar, Charanjit     IND   \n",
       "16099  1980  Moscow  Hockey     Hockey        Maneypanda, Somaya     IND   \n",
       "16100  1980  Moscow  Hockey     Hockey          Mohammad, Shahid     IND   \n",
       "16101  1980  Moscow  Hockey     Hockey              Singh, Singh     IND   \n",
       "16102  1980  Moscow  Hockey     Hockey              Singh, Singh     IND   \n",
       "16103  1980  Moscow  Hockey     Hockey           Surinder, Singh     IND   \n",
       "16104  1980  Moscow  Hockey     Hockey       Sylvanus, Dung Dung     IND   \n",
       "16105  1980  Moscow  Hockey     Hockey              Zafar, Zafar     IND   \n",
       "16106  1980  Moscow  Hockey     Hockey      Amat Fontanals, Juan     ESP   \n",
       "16107  1980  Moscow  Hockey     Hockey      Arbos Perarnau, Juan     ESP   \n",
       "16108  1980  Moscow  Hockey     Hockey        Arbos Serra, Jaime     ESP   \n",
       "16109  1980  Moscow  Hockey     Hockey       Cabot Duran, Javier     ESP   \n",
       "16110  1980  Moscow  Hockey     Hockey      Cabot Duran, Ricardo     ESP   \n",
       "\n",
       "      Gender   Event   Medal  \n",
       "16085    Men  Hockey  Bronze  \n",
       "16086    Men  Hockey  Bronze  \n",
       "16087    Men  Hockey  Bronze  \n",
       "16088    Men  Hockey  Bronze  \n",
       "16089    Men  Hockey  Bronze  \n",
       "16090    Men  Hockey    Gold  \n",
       "16091    Men  Hockey    Gold  \n",
       "16092    Men  Hockey    Gold  \n",
       "16093    Men  Hockey    Gold  \n",
       "16094    Men  Hockey    Gold  \n",
       "16095    Men  Hockey    Gold  \n",
       "16096    Men  Hockey    Gold  \n",
       "16097    Men  Hockey    Gold  \n",
       "16098    Men  Hockey    Gold  \n",
       "16099    Men  Hockey    Gold  \n",
       "16100    Men  Hockey    Gold  \n",
       "16101    Men  Hockey    Gold  \n",
       "16102    Men  Hockey    Gold  \n",
       "16103    Men  Hockey    Gold  \n",
       "16104    Men  Hockey    Gold  \n",
       "16105    Men  Hockey    Gold  \n",
       "16106    Men  Hockey  Silver  \n",
       "16107    Men  Hockey  Silver  \n",
       "16108    Men  Hockey  Silver  \n",
       "16109    Men  Hockey  Silver  \n",
       "16110    Men  Hockey  Silver  "
      ]
     },
     "execution_count": 175,
     "metadata": {},
     "output_type": "execute_result"
    }
   ],
   "source": [
    "# Singh, Singh는 동명이인\n",
    "summer.loc[16085:16110]"
   ]
  },
  {
   "cell_type": "code",
   "execution_count": 176,
   "id": "b5d1763f",
   "metadata": {
    "ExecuteTime": {
     "end_time": "2022-10-01T13:18:05.856771Z",
     "start_time": "2022-10-01T13:18:05.834769Z"
    }
   },
   "outputs": [
    {
     "data": {
      "text/html": [
       "<div>\n",
       "<style scoped>\n",
       "    .dataframe tbody tr th:only-of-type {\n",
       "        vertical-align: middle;\n",
       "    }\n",
       "\n",
       "    .dataframe tbody tr th {\n",
       "        vertical-align: top;\n",
       "    }\n",
       "\n",
       "    .dataframe thead th {\n",
       "        text-align: right;\n",
       "    }\n",
       "</style>\n",
       "<table border=\"1\" class=\"dataframe\">\n",
       "  <thead>\n",
       "    <tr style=\"text-align: right;\">\n",
       "      <th></th>\n",
       "      <th>Year</th>\n",
       "      <th>City</th>\n",
       "      <th>Sport</th>\n",
       "      <th>Discipline</th>\n",
       "      <th>Athlete_Name</th>\n",
       "      <th>Country</th>\n",
       "      <th>Gender</th>\n",
       "      <th>Event</th>\n",
       "      <th>Medal</th>\n",
       "    </tr>\n",
       "  </thead>\n",
       "  <tbody>\n",
       "    <tr>\n",
       "      <th>29780</th>\n",
       "      <td>2012</td>\n",
       "      <td>London</td>\n",
       "      <td>Badminton</td>\n",
       "      <td>Badminton</td>\n",
       "      <td>Mogensen, Carsten</td>\n",
       "      <td>DEN</td>\n",
       "      <td>Men</td>\n",
       "      <td>Doubles</td>\n",
       "      <td>Silver</td>\n",
       "    </tr>\n",
       "    <tr>\n",
       "      <th>29781</th>\n",
       "      <td>2012</td>\n",
       "      <td>London</td>\n",
       "      <td>Badminton</td>\n",
       "      <td>Badminton</td>\n",
       "      <td>Chung, Jaesung</td>\n",
       "      <td>KOR</td>\n",
       "      <td>Men</td>\n",
       "      <td>Doubles</td>\n",
       "      <td>Bronze</td>\n",
       "    </tr>\n",
       "    <tr>\n",
       "      <th>29782</th>\n",
       "      <td>2012</td>\n",
       "      <td>London</td>\n",
       "      <td>Badminton</td>\n",
       "      <td>Badminton</td>\n",
       "      <td>Lee, Yong Dae</td>\n",
       "      <td>KOR</td>\n",
       "      <td>Men</td>\n",
       "      <td>Doubles</td>\n",
       "      <td>Bronze</td>\n",
       "    </tr>\n",
       "    <tr>\n",
       "      <th>29783</th>\n",
       "      <td>2012</td>\n",
       "      <td>London</td>\n",
       "      <td>Badminton</td>\n",
       "      <td>Badminton</td>\n",
       "      <td>Tian, Qing</td>\n",
       "      <td>CHN</td>\n",
       "      <td>Women</td>\n",
       "      <td>Doubles</td>\n",
       "      <td>Gold</td>\n",
       "    </tr>\n",
       "    <tr>\n",
       "      <th>29784</th>\n",
       "      <td>2012</td>\n",
       "      <td>London</td>\n",
       "      <td>Badminton</td>\n",
       "      <td>Badminton</td>\n",
       "      <td>Zhao, Yunlei</td>\n",
       "      <td>CHN</td>\n",
       "      <td>Women</td>\n",
       "      <td>Doubles</td>\n",
       "      <td>Gold</td>\n",
       "    </tr>\n",
       "    <tr>\n",
       "      <th>29785</th>\n",
       "      <td>2012</td>\n",
       "      <td>London</td>\n",
       "      <td>Badminton</td>\n",
       "      <td>Badminton</td>\n",
       "      <td>Fujii, Mizuki</td>\n",
       "      <td>JPN</td>\n",
       "      <td>Women</td>\n",
       "      <td>Doubles</td>\n",
       "      <td>Silver</td>\n",
       "    </tr>\n",
       "    <tr>\n",
       "      <th>29786</th>\n",
       "      <td>2012</td>\n",
       "      <td>London</td>\n",
       "      <td>Badminton</td>\n",
       "      <td>Badminton</td>\n",
       "      <td>Kakiiwa, Reika</td>\n",
       "      <td>JPN</td>\n",
       "      <td>Women</td>\n",
       "      <td>Doubles</td>\n",
       "      <td>Silver</td>\n",
       "    </tr>\n",
       "    <tr>\n",
       "      <th>29787</th>\n",
       "      <td>2012</td>\n",
       "      <td>London</td>\n",
       "      <td>Badminton</td>\n",
       "      <td>Badminton</td>\n",
       "      <td>Sorokina, Valeria</td>\n",
       "      <td>RUS</td>\n",
       "      <td>Women</td>\n",
       "      <td>Doubles</td>\n",
       "      <td>Bronze</td>\n",
       "    </tr>\n",
       "    <tr>\n",
       "      <th>29788</th>\n",
       "      <td>2012</td>\n",
       "      <td>London</td>\n",
       "      <td>Badminton</td>\n",
       "      <td>Badminton</td>\n",
       "      <td>Vislova, Nina</td>\n",
       "      <td>RUS</td>\n",
       "      <td>Women</td>\n",
       "      <td>Doubles</td>\n",
       "      <td>Bronze</td>\n",
       "    </tr>\n",
       "    <tr>\n",
       "      <th>29789</th>\n",
       "      <td>2012</td>\n",
       "      <td>London</td>\n",
       "      <td>Badminton</td>\n",
       "      <td>Badminton</td>\n",
       "      <td>Zhang, Nan</td>\n",
       "      <td>CHN</td>\n",
       "      <td>Men</td>\n",
       "      <td>Doubles</td>\n",
       "      <td>Gold</td>\n",
       "    </tr>\n",
       "    <tr>\n",
       "      <th>29790</th>\n",
       "      <td>2012</td>\n",
       "      <td>London</td>\n",
       "      <td>Badminton</td>\n",
       "      <td>Badminton</td>\n",
       "      <td>Zhao, Yunlei</td>\n",
       "      <td>CHN</td>\n",
       "      <td>Women</td>\n",
       "      <td>Doubles</td>\n",
       "      <td>Gold</td>\n",
       "    </tr>\n",
       "    <tr>\n",
       "      <th>29791</th>\n",
       "      <td>2012</td>\n",
       "      <td>London</td>\n",
       "      <td>Badminton</td>\n",
       "      <td>Badminton</td>\n",
       "      <td>Ma, Jin</td>\n",
       "      <td>CHN</td>\n",
       "      <td>Women</td>\n",
       "      <td>Doubles</td>\n",
       "      <td>Silver</td>\n",
       "    </tr>\n",
       "    <tr>\n",
       "      <th>29792</th>\n",
       "      <td>2012</td>\n",
       "      <td>London</td>\n",
       "      <td>Badminton</td>\n",
       "      <td>Badminton</td>\n",
       "      <td>Xu, Chen</td>\n",
       "      <td>CHN</td>\n",
       "      <td>Men</td>\n",
       "      <td>Doubles</td>\n",
       "      <td>Silver</td>\n",
       "    </tr>\n",
       "    <tr>\n",
       "      <th>29793</th>\n",
       "      <td>2012</td>\n",
       "      <td>London</td>\n",
       "      <td>Badminton</td>\n",
       "      <td>Badminton</td>\n",
       "      <td>Fischer, Joachim</td>\n",
       "      <td>DEN</td>\n",
       "      <td>Men</td>\n",
       "      <td>Doubles</td>\n",
       "      <td>Bronze</td>\n",
       "    </tr>\n",
       "    <tr>\n",
       "      <th>29794</th>\n",
       "      <td>2012</td>\n",
       "      <td>London</td>\n",
       "      <td>Badminton</td>\n",
       "      <td>Badminton</td>\n",
       "      <td>Pedersen, Christinna</td>\n",
       "      <td>DEN</td>\n",
       "      <td>Women</td>\n",
       "      <td>Doubles</td>\n",
       "      <td>Bronze</td>\n",
       "    </tr>\n",
       "    <tr>\n",
       "      <th>29795</th>\n",
       "      <td>2012</td>\n",
       "      <td>London</td>\n",
       "      <td>Badminton</td>\n",
       "      <td>Badminton</td>\n",
       "      <td>Lin, Dan</td>\n",
       "      <td>CHN</td>\n",
       "      <td>Men</td>\n",
       "      <td>Singles</td>\n",
       "      <td>Gold</td>\n",
       "    </tr>\n",
       "  </tbody>\n",
       "</table>\n",
       "</div>"
      ],
      "text/plain": [
       "       Year    City      Sport Discipline          Athlete_Name Country  \\\n",
       "29780  2012  London  Badminton  Badminton     Mogensen, Carsten     DEN   \n",
       "29781  2012  London  Badminton  Badminton        Chung, Jaesung     KOR   \n",
       "29782  2012  London  Badminton  Badminton         Lee, Yong Dae     KOR   \n",
       "29783  2012  London  Badminton  Badminton            Tian, Qing     CHN   \n",
       "29784  2012  London  Badminton  Badminton          Zhao, Yunlei     CHN   \n",
       "29785  2012  London  Badminton  Badminton         Fujii, Mizuki     JPN   \n",
       "29786  2012  London  Badminton  Badminton        Kakiiwa, Reika     JPN   \n",
       "29787  2012  London  Badminton  Badminton     Sorokina, Valeria     RUS   \n",
       "29788  2012  London  Badminton  Badminton         Vislova, Nina     RUS   \n",
       "29789  2012  London  Badminton  Badminton            Zhang, Nan     CHN   \n",
       "29790  2012  London  Badminton  Badminton          Zhao, Yunlei     CHN   \n",
       "29791  2012  London  Badminton  Badminton               Ma, Jin     CHN   \n",
       "29792  2012  London  Badminton  Badminton              Xu, Chen     CHN   \n",
       "29793  2012  London  Badminton  Badminton      Fischer, Joachim     DEN   \n",
       "29794  2012  London  Badminton  Badminton  Pedersen, Christinna     DEN   \n",
       "29795  2012  London  Badminton  Badminton              Lin, Dan     CHN   \n",
       "\n",
       "      Gender    Event   Medal  \n",
       "29780    Men  Doubles  Silver  \n",
       "29781    Men  Doubles  Bronze  \n",
       "29782    Men  Doubles  Bronze  \n",
       "29783  Women  Doubles    Gold  \n",
       "29784  Women  Doubles    Gold  \n",
       "29785  Women  Doubles  Silver  \n",
       "29786  Women  Doubles  Silver  \n",
       "29787  Women  Doubles  Bronze  \n",
       "29788  Women  Doubles  Bronze  \n",
       "29789    Men  Doubles    Gold  \n",
       "29790  Women  Doubles    Gold  \n",
       "29791  Women  Doubles  Silver  \n",
       "29792    Men  Doubles  Silver  \n",
       "29793    Men  Doubles  Bronze  \n",
       "29794  Women  Doubles  Bronze  \n",
       "29795    Men  Singles    Gold  "
      ]
     },
     "execution_count": 176,
     "metadata": {},
     "output_type": "execute_result"
    }
   ],
   "source": [
    "# Zhao, Yunle선수는 서로 다른 대회에 출전에서 상을 탐\n",
    "summer.loc[29780:29795]"
   ]
  },
  {
   "cell_type": "markdown",
   "id": "81abcf63",
   "metadata": {},
   "source": [
    "중복값은 무조건 삭제하는 것이 아닌 추가 정보를 확인해서 처리해야한다."
   ]
  },
  {
   "cell_type": "markdown",
   "id": "e567a140",
   "metadata": {},
   "source": [
    "#### Categorical Data"
   ]
  },
  {
   "cell_type": "code",
   "execution_count": 209,
   "id": "0f757839",
   "metadata": {
    "ExecuteTime": {
     "end_time": "2022-10-01T13:51:25.358787Z",
     "start_time": "2022-10-01T13:51:25.305787Z"
    }
   },
   "outputs": [
    {
     "name": "stdout",
     "output_type": "stream",
     "text": [
      "<class 'pandas.core.frame.DataFrame'>\n",
      "Int64Index: 31161 entries, 0 to 31169\n",
      "Data columns (total 9 columns):\n",
      " #   Column        Non-Null Count  Dtype \n",
      "---  ------        --------------  ----- \n",
      " 0   Year          31161 non-null  int64 \n",
      " 1   City          31161 non-null  object\n",
      " 2   Sport         31161 non-null  object\n",
      " 3   Discipline    31161 non-null  object\n",
      " 4   Athlete_Name  31161 non-null  object\n",
      " 5   Country       31161 non-null  object\n",
      " 6   Gender        31161 non-null  object\n",
      " 7   Event         31161 non-null  object\n",
      " 8   Medal         31161 non-null  object\n",
      "dtypes: int64(1), object(8)\n",
      "memory usage: 3.4+ MB\n"
     ]
    }
   ],
   "source": [
    "summer.info()"
   ]
  },
  {
   "cell_type": "code",
   "execution_count": 211,
   "id": "3eaf462d",
   "metadata": {
    "ExecuteTime": {
     "end_time": "2022-10-01T13:52:14.077828Z",
     "start_time": "2022-10-01T13:52:14.015829Z"
    }
   },
   "outputs": [
    {
     "data": {
      "text/html": [
       "<div>\n",
       "<style scoped>\n",
       "    .dataframe tbody tr th:only-of-type {\n",
       "        vertical-align: middle;\n",
       "    }\n",
       "\n",
       "    .dataframe tbody tr th {\n",
       "        vertical-align: top;\n",
       "    }\n",
       "\n",
       "    .dataframe thead th {\n",
       "        text-align: right;\n",
       "    }\n",
       "</style>\n",
       "<table border=\"1\" class=\"dataframe\">\n",
       "  <thead>\n",
       "    <tr style=\"text-align: right;\">\n",
       "      <th></th>\n",
       "      <th>City</th>\n",
       "      <th>Sport</th>\n",
       "      <th>Discipline</th>\n",
       "      <th>Athlete_Name</th>\n",
       "      <th>Country</th>\n",
       "      <th>Gender</th>\n",
       "      <th>Event</th>\n",
       "      <th>Medal</th>\n",
       "    </tr>\n",
       "  </thead>\n",
       "  <tbody>\n",
       "    <tr>\n",
       "      <th>count</th>\n",
       "      <td>31161</td>\n",
       "      <td>31161</td>\n",
       "      <td>31161</td>\n",
       "      <td>31161</td>\n",
       "      <td>31161</td>\n",
       "      <td>31161</td>\n",
       "      <td>31161</td>\n",
       "      <td>31161</td>\n",
       "    </tr>\n",
       "    <tr>\n",
       "      <th>unique</th>\n",
       "      <td>22</td>\n",
       "      <td>43</td>\n",
       "      <td>67</td>\n",
       "      <td>22760</td>\n",
       "      <td>147</td>\n",
       "      <td>2</td>\n",
       "      <td>666</td>\n",
       "      <td>3</td>\n",
       "    </tr>\n",
       "    <tr>\n",
       "      <th>top</th>\n",
       "      <td>London</td>\n",
       "      <td>Aquatics</td>\n",
       "      <td>Athletics</td>\n",
       "      <td>Phelps, Michael</td>\n",
       "      <td>USA</td>\n",
       "      <td>Men</td>\n",
       "      <td>Football</td>\n",
       "      <td>Gold</td>\n",
       "    </tr>\n",
       "    <tr>\n",
       "      <th>freq</th>\n",
       "      <td>3563</td>\n",
       "      <td>4170</td>\n",
       "      <td>3637</td>\n",
       "      <td>22</td>\n",
       "      <td>4585</td>\n",
       "      <td>22744</td>\n",
       "      <td>1497</td>\n",
       "      <td>10484</td>\n",
       "    </tr>\n",
       "  </tbody>\n",
       "</table>\n",
       "</div>"
      ],
      "text/plain": [
       "          City     Sport Discipline     Athlete_Name Country Gender     Event  \\\n",
       "count    31161     31161      31161            31161   31161  31161     31161   \n",
       "unique      22        43         67            22760     147      2       666   \n",
       "top     London  Aquatics  Athletics  Phelps, Michael     USA    Men  Football   \n",
       "freq      3563      4170       3637               22    4585  22744      1497   \n",
       "\n",
       "        Medal  \n",
       "count   31161  \n",
       "unique      3  \n",
       "top      Gold  \n",
       "freq    10484  "
      ]
     },
     "execution_count": 211,
     "metadata": {},
     "output_type": "execute_result"
    }
   ],
   "source": [
    "summer.describe(include=[\"O\"]) #Object"
   ]
  },
  {
   "cell_type": "code",
   "execution_count": 212,
   "id": "fe18bbaa",
   "metadata": {
    "ExecuteTime": {
     "end_time": "2022-10-01T13:52:52.054347Z",
     "start_time": "2022-10-01T13:52:52.014346Z"
    }
   },
   "outputs": [
    {
     "data": {
      "text/plain": [
       "Year               27\n",
       "City               22\n",
       "Sport              43\n",
       "Discipline         67\n",
       "Athlete_Name    22760\n",
       "Country           147\n",
       "Gender              2\n",
       "Event             666\n",
       "Medal               3\n",
       "dtype: int64"
      ]
     },
     "execution_count": 212,
     "metadata": {},
     "output_type": "execute_result"
    }
   ],
   "source": [
    "summer.nunique()"
   ]
  },
  {
   "cell_type": "code",
   "execution_count": 215,
   "id": "84b3a988",
   "metadata": {
    "ExecuteTime": {
     "end_time": "2022-10-01T13:54:08.837921Z",
     "start_time": "2022-10-01T13:54:08.827915Z"
    }
   },
   "outputs": [],
   "source": [
    "summer.City = summer.City.astype(\"category\")"
   ]
  },
  {
   "cell_type": "code",
   "execution_count": 216,
   "id": "83ef73a4",
   "metadata": {
    "ExecuteTime": {
     "end_time": "2022-10-01T13:54:10.083154Z",
     "start_time": "2022-10-01T13:54:10.067154Z"
    }
   },
   "outputs": [],
   "source": [
    "summer.Sport = summer.Sport.astype(\"category\")"
   ]
  },
  {
   "cell_type": "code",
   "execution_count": 217,
   "id": "9d917ef3",
   "metadata": {
    "ExecuteTime": {
     "end_time": "2022-10-01T13:54:30.219122Z",
     "start_time": "2022-10-01T13:54:30.199119Z"
    }
   },
   "outputs": [],
   "source": [
    "summer.Discipline = summer.Discipline.astype(\"category\")"
   ]
  },
  {
   "cell_type": "code",
   "execution_count": 218,
   "id": "5bb4552b",
   "metadata": {
    "ExecuteTime": {
     "end_time": "2022-10-01T13:54:49.571647Z",
     "start_time": "2022-10-01T13:54:49.558651Z"
    }
   },
   "outputs": [],
   "source": [
    "summer.Gender = summer.Gender.astype(\"category\")"
   ]
  },
  {
   "cell_type": "code",
   "execution_count": 219,
   "id": "d21b4574",
   "metadata": {
    "ExecuteTime": {
     "end_time": "2022-10-01T13:55:02.293318Z",
     "start_time": "2022-10-01T13:55:02.282320Z"
    }
   },
   "outputs": [],
   "source": [
    "summer.Medal = summer.Medal.astype(\"category\")"
   ]
  },
  {
   "cell_type": "code",
   "execution_count": 220,
   "id": "f4516008",
   "metadata": {
    "ExecuteTime": {
     "end_time": "2022-10-01T13:55:11.730853Z",
     "start_time": "2022-10-01T13:55:11.695851Z"
    }
   },
   "outputs": [
    {
     "name": "stdout",
     "output_type": "stream",
     "text": [
      "<class 'pandas.core.frame.DataFrame'>\n",
      "Int64Index: 31161 entries, 0 to 31169\n",
      "Data columns (total 9 columns):\n",
      " #   Column        Non-Null Count  Dtype   \n",
      "---  ------        --------------  -----   \n",
      " 0   Year          31161 non-null  int64   \n",
      " 1   City          31161 non-null  category\n",
      " 2   Sport         31161 non-null  category\n",
      " 3   Discipline    31161 non-null  category\n",
      " 4   Athlete_Name  31161 non-null  object  \n",
      " 5   Country       31161 non-null  object  \n",
      " 6   Gender        31161 non-null  category\n",
      " 7   Event         31161 non-null  object  \n",
      " 8   Medal         31161 non-null  category\n",
      "dtypes: category(5), int64(1), object(3)\n",
      "memory usage: 2.3+ MB\n"
     ]
    }
   ],
   "source": [
    "summer.info()"
   ]
  },
  {
   "cell_type": "markdown",
   "id": "633b19d2",
   "metadata": {},
   "source": [
    "#### 결측값 다루기"
   ]
  },
  {
   "cell_type": "code",
   "execution_count": 84,
   "id": "6de9993b",
   "metadata": {
    "ExecuteTime": {
     "end_time": "2022-10-01T12:04:04.595782Z",
     "start_time": "2022-10-01T12:04:04.580866Z"
    }
   },
   "outputs": [],
   "source": [
    "import numpy as np"
   ]
  },
  {
   "cell_type": "code",
   "execution_count": 93,
   "id": "9bb44e44",
   "metadata": {
    "ExecuteTime": {
     "end_time": "2022-10-01T12:06:47.913126Z",
     "start_time": "2022-10-01T12:06:47.894350Z"
    }
   },
   "outputs": [],
   "source": [
    "sales = pd.read_csv(\"./Course_Materials_Part2/Course_Materials_Part2/Video_Lecture_NBs/sales.csv\", index_col=0)"
   ]
  },
  {
   "cell_type": "code",
   "execution_count": 94,
   "id": "ff85765c",
   "metadata": {
    "ExecuteTime": {
     "end_time": "2022-10-01T12:06:48.455546Z",
     "start_time": "2022-10-01T12:06:48.444546Z"
    }
   },
   "outputs": [
    {
     "data": {
      "text/html": [
       "<div>\n",
       "<style scoped>\n",
       "    .dataframe tbody tr th:only-of-type {\n",
       "        vertical-align: middle;\n",
       "    }\n",
       "\n",
       "    .dataframe tbody tr th {\n",
       "        vertical-align: top;\n",
       "    }\n",
       "\n",
       "    .dataframe thead th {\n",
       "        text-align: right;\n",
       "    }\n",
       "</style>\n",
       "<table border=\"1\" class=\"dataframe\">\n",
       "  <thead>\n",
       "    <tr style=\"text-align: right;\">\n",
       "      <th></th>\n",
       "      <th>Mon</th>\n",
       "      <th>Tue</th>\n",
       "      <th>Wed</th>\n",
       "      <th>Thu</th>\n",
       "      <th>Fri</th>\n",
       "    </tr>\n",
       "  </thead>\n",
       "  <tbody>\n",
       "    <tr>\n",
       "      <th>Steven</th>\n",
       "      <td>34</td>\n",
       "      <td>27</td>\n",
       "      <td>15</td>\n",
       "      <td>NaN</td>\n",
       "      <td>33</td>\n",
       "    </tr>\n",
       "    <tr>\n",
       "      <th>Mike</th>\n",
       "      <td>45</td>\n",
       "      <td>9</td>\n",
       "      <td>74</td>\n",
       "      <td>87.0</td>\n",
       "      <td>12</td>\n",
       "    </tr>\n",
       "    <tr>\n",
       "      <th>Andi</th>\n",
       "      <td>17</td>\n",
       "      <td>33</td>\n",
       "      <td>54</td>\n",
       "      <td>8.0</td>\n",
       "      <td>29</td>\n",
       "    </tr>\n",
       "    <tr>\n",
       "      <th>Paul</th>\n",
       "      <td>87</td>\n",
       "      <td>67</td>\n",
       "      <td>27</td>\n",
       "      <td>45.0</td>\n",
       "      <td>7</td>\n",
       "    </tr>\n",
       "  </tbody>\n",
       "</table>\n",
       "</div>"
      ],
      "text/plain": [
       "        Mon  Tue  Wed   Thu  Fri\n",
       "Steven   34   27   15   NaN   33\n",
       "Mike     45    9   74  87.0   12\n",
       "Andi     17   33   54   8.0   29\n",
       "Paul     87   67   27  45.0    7"
      ]
     },
     "execution_count": 94,
     "metadata": {},
     "output_type": "execute_result"
    }
   ],
   "source": [
    "sales"
   ]
  },
  {
   "cell_type": "code",
   "execution_count": 95,
   "id": "804add07",
   "metadata": {
    "ExecuteTime": {
     "end_time": "2022-10-01T12:06:49.192921Z",
     "start_time": "2022-10-01T12:06:49.170921Z"
    }
   },
   "outputs": [
    {
     "name": "stdout",
     "output_type": "stream",
     "text": [
      "<class 'pandas.core.frame.DataFrame'>\n",
      "Index: 4 entries, Steven to Paul\n",
      "Data columns (total 5 columns):\n",
      " #   Column  Non-Null Count  Dtype  \n",
      "---  ------  --------------  -----  \n",
      " 0   Mon     4 non-null      int64  \n",
      " 1   Tue     4 non-null      int64  \n",
      " 2   Wed     4 non-null      int64  \n",
      " 3   Thu     3 non-null      float64\n",
      " 4   Fri     4 non-null      int64  \n",
      "dtypes: float64(1), int64(4)\n",
      "memory usage: 192.0+ bytes\n"
     ]
    }
   ],
   "source": [
    "sales.info()"
   ]
  },
  {
   "cell_type": "code",
   "execution_count": 96,
   "id": "bcf5dbf8",
   "metadata": {
    "ExecuteTime": {
     "end_time": "2022-10-01T12:07:25.203986Z",
     "start_time": "2022-10-01T12:07:25.188904Z"
    }
   },
   "outputs": [
    {
     "data": {
      "text/plain": [
       "nan"
      ]
     },
     "execution_count": 96,
     "metadata": {},
     "output_type": "execute_result"
    }
   ],
   "source": [
    "sales.loc[\"Steven\", \"Thu\"]"
   ]
  },
  {
   "cell_type": "code",
   "execution_count": 97,
   "id": "2c5e9c55",
   "metadata": {
    "ExecuteTime": {
     "end_time": "2022-10-01T12:08:35.477198Z",
     "start_time": "2022-10-01T12:08:35.464255Z"
    }
   },
   "outputs": [],
   "source": [
    "sales.iloc[1,1] = None"
   ]
  },
  {
   "cell_type": "code",
   "execution_count": 98,
   "id": "4d18b362",
   "metadata": {
    "ExecuteTime": {
     "end_time": "2022-10-01T12:08:38.610469Z",
     "start_time": "2022-10-01T12:08:38.598470Z"
    }
   },
   "outputs": [
    {
     "data": {
      "text/html": [
       "<div>\n",
       "<style scoped>\n",
       "    .dataframe tbody tr th:only-of-type {\n",
       "        vertical-align: middle;\n",
       "    }\n",
       "\n",
       "    .dataframe tbody tr th {\n",
       "        vertical-align: top;\n",
       "    }\n",
       "\n",
       "    .dataframe thead th {\n",
       "        text-align: right;\n",
       "    }\n",
       "</style>\n",
       "<table border=\"1\" class=\"dataframe\">\n",
       "  <thead>\n",
       "    <tr style=\"text-align: right;\">\n",
       "      <th></th>\n",
       "      <th>Mon</th>\n",
       "      <th>Tue</th>\n",
       "      <th>Wed</th>\n",
       "      <th>Thu</th>\n",
       "      <th>Fri</th>\n",
       "    </tr>\n",
       "  </thead>\n",
       "  <tbody>\n",
       "    <tr>\n",
       "      <th>Steven</th>\n",
       "      <td>34</td>\n",
       "      <td>27.0</td>\n",
       "      <td>15</td>\n",
       "      <td>NaN</td>\n",
       "      <td>33</td>\n",
       "    </tr>\n",
       "    <tr>\n",
       "      <th>Mike</th>\n",
       "      <td>45</td>\n",
       "      <td>NaN</td>\n",
       "      <td>74</td>\n",
       "      <td>87.0</td>\n",
       "      <td>12</td>\n",
       "    </tr>\n",
       "    <tr>\n",
       "      <th>Andi</th>\n",
       "      <td>17</td>\n",
       "      <td>33.0</td>\n",
       "      <td>54</td>\n",
       "      <td>8.0</td>\n",
       "      <td>29</td>\n",
       "    </tr>\n",
       "    <tr>\n",
       "      <th>Paul</th>\n",
       "      <td>87</td>\n",
       "      <td>67.0</td>\n",
       "      <td>27</td>\n",
       "      <td>45.0</td>\n",
       "      <td>7</td>\n",
       "    </tr>\n",
       "  </tbody>\n",
       "</table>\n",
       "</div>"
      ],
      "text/plain": [
       "        Mon   Tue  Wed   Thu  Fri\n",
       "Steven   34  27.0   15   NaN   33\n",
       "Mike     45   NaN   74  87.0   12\n",
       "Andi     17  33.0   54   8.0   29\n",
       "Paul     87  67.0   27  45.0    7"
      ]
     },
     "execution_count": 98,
     "metadata": {},
     "output_type": "execute_result"
    }
   ],
   "source": [
    "sales"
   ]
  },
  {
   "cell_type": "code",
   "execution_count": 100,
   "id": "11989095",
   "metadata": {
    "ExecuteTime": {
     "end_time": "2022-10-01T12:09:06.059149Z",
     "start_time": "2022-10-01T12:09:06.041781Z"
    }
   },
   "outputs": [],
   "source": [
    "sales.iloc[2,2] = np.nan"
   ]
  },
  {
   "cell_type": "code",
   "execution_count": 101,
   "id": "4c61b45a",
   "metadata": {
    "ExecuteTime": {
     "end_time": "2022-10-01T12:09:10.637409Z",
     "start_time": "2022-10-01T12:09:10.612602Z"
    }
   },
   "outputs": [
    {
     "data": {
      "text/html": [
       "<div>\n",
       "<style scoped>\n",
       "    .dataframe tbody tr th:only-of-type {\n",
       "        vertical-align: middle;\n",
       "    }\n",
       "\n",
       "    .dataframe tbody tr th {\n",
       "        vertical-align: top;\n",
       "    }\n",
       "\n",
       "    .dataframe thead th {\n",
       "        text-align: right;\n",
       "    }\n",
       "</style>\n",
       "<table border=\"1\" class=\"dataframe\">\n",
       "  <thead>\n",
       "    <tr style=\"text-align: right;\">\n",
       "      <th></th>\n",
       "      <th>Mon</th>\n",
       "      <th>Tue</th>\n",
       "      <th>Wed</th>\n",
       "      <th>Thu</th>\n",
       "      <th>Fri</th>\n",
       "    </tr>\n",
       "  </thead>\n",
       "  <tbody>\n",
       "    <tr>\n",
       "      <th>Steven</th>\n",
       "      <td>34</td>\n",
       "      <td>27.0</td>\n",
       "      <td>15.0</td>\n",
       "      <td>NaN</td>\n",
       "      <td>33</td>\n",
       "    </tr>\n",
       "    <tr>\n",
       "      <th>Mike</th>\n",
       "      <td>45</td>\n",
       "      <td>NaN</td>\n",
       "      <td>74.0</td>\n",
       "      <td>87.0</td>\n",
       "      <td>12</td>\n",
       "    </tr>\n",
       "    <tr>\n",
       "      <th>Andi</th>\n",
       "      <td>17</td>\n",
       "      <td>33.0</td>\n",
       "      <td>NaN</td>\n",
       "      <td>8.0</td>\n",
       "      <td>29</td>\n",
       "    </tr>\n",
       "    <tr>\n",
       "      <th>Paul</th>\n",
       "      <td>87</td>\n",
       "      <td>67.0</td>\n",
       "      <td>27.0</td>\n",
       "      <td>45.0</td>\n",
       "      <td>7</td>\n",
       "    </tr>\n",
       "  </tbody>\n",
       "</table>\n",
       "</div>"
      ],
      "text/plain": [
       "        Mon   Tue   Wed   Thu  Fri\n",
       "Steven   34  27.0  15.0   NaN   33\n",
       "Mike     45   NaN  74.0  87.0   12\n",
       "Andi     17  33.0   NaN   8.0   29\n",
       "Paul     87  67.0  27.0  45.0    7"
      ]
     },
     "execution_count": 101,
     "metadata": {},
     "output_type": "execute_result"
    }
   ],
   "source": [
    "sales"
   ]
  },
  {
   "cell_type": "code",
   "execution_count": 103,
   "id": "a5d06b03",
   "metadata": {
    "ExecuteTime": {
     "end_time": "2022-10-01T12:09:54.830594Z",
     "start_time": "2022-10-01T12:09:54.807567Z"
    }
   },
   "outputs": [
    {
     "name": "stdout",
     "output_type": "stream",
     "text": [
      "<class 'pandas.core.frame.DataFrame'>\n",
      "Index: 4 entries, Steven to Paul\n",
      "Data columns (total 5 columns):\n",
      " #   Column  Non-Null Count  Dtype  \n",
      "---  ------  --------------  -----  \n",
      " 0   Mon     4 non-null      int64  \n",
      " 1   Tue     3 non-null      float64\n",
      " 2   Wed     3 non-null      float64\n",
      " 3   Thu     3 non-null      float64\n",
      " 4   Fri     4 non-null      int64  \n",
      "dtypes: float64(3), int64(2)\n",
      "memory usage: 364.0+ bytes\n"
     ]
    }
   ],
   "source": [
    "sales.info()"
   ]
  },
  {
   "cell_type": "code",
   "execution_count": null,
   "id": "0f7c841e",
   "metadata": {},
   "outputs": [],
   "source": [
    "sales"
   ]
  },
  {
   "cell_type": "markdown",
   "id": "3231adba",
   "metadata": {},
   "source": [
    "### Detection of Duplicates"
   ]
  },
  {
   "cell_type": "code",
   "execution_count": 177,
   "id": "0092b20a",
   "metadata": {
    "ExecuteTime": {
     "end_time": "2022-10-01T13:23:03.861496Z",
     "start_time": "2022-10-01T13:23:03.855494Z"
    }
   },
   "outputs": [],
   "source": [
    "import pandas as pd"
   ]
  },
  {
   "cell_type": "code",
   "execution_count": 178,
   "id": "35536a95",
   "metadata": {
    "ExecuteTime": {
     "end_time": "2022-10-01T13:23:07.305548Z",
     "start_time": "2022-10-01T13:23:07.293550Z"
    }
   },
   "outputs": [],
   "source": [
    "alphabet = pd.DataFrame([\"a\", \"b\", \"c\", \"c\", \"d\", \"e\", \"f\", \"g\", \"g\", \"g\"], columns = [\"Alphabet\"])"
   ]
  },
  {
   "cell_type": "code",
   "execution_count": 179,
   "id": "af74f2a8",
   "metadata": {
    "ExecuteTime": {
     "end_time": "2022-10-01T13:23:27.719243Z",
     "start_time": "2022-10-01T13:23:27.705246Z"
    }
   },
   "outputs": [
    {
     "data": {
      "text/html": [
       "<div>\n",
       "<style scoped>\n",
       "    .dataframe tbody tr th:only-of-type {\n",
       "        vertical-align: middle;\n",
       "    }\n",
       "\n",
       "    .dataframe tbody tr th {\n",
       "        vertical-align: top;\n",
       "    }\n",
       "\n",
       "    .dataframe thead th {\n",
       "        text-align: right;\n",
       "    }\n",
       "</style>\n",
       "<table border=\"1\" class=\"dataframe\">\n",
       "  <thead>\n",
       "    <tr style=\"text-align: right;\">\n",
       "      <th></th>\n",
       "      <th>Alphabet</th>\n",
       "    </tr>\n",
       "  </thead>\n",
       "  <tbody>\n",
       "    <tr>\n",
       "      <th>0</th>\n",
       "      <td>a</td>\n",
       "    </tr>\n",
       "    <tr>\n",
       "      <th>1</th>\n",
       "      <td>b</td>\n",
       "    </tr>\n",
       "    <tr>\n",
       "      <th>2</th>\n",
       "      <td>c</td>\n",
       "    </tr>\n",
       "    <tr>\n",
       "      <th>3</th>\n",
       "      <td>c</td>\n",
       "    </tr>\n",
       "    <tr>\n",
       "      <th>4</th>\n",
       "      <td>d</td>\n",
       "    </tr>\n",
       "    <tr>\n",
       "      <th>5</th>\n",
       "      <td>e</td>\n",
       "    </tr>\n",
       "    <tr>\n",
       "      <th>6</th>\n",
       "      <td>f</td>\n",
       "    </tr>\n",
       "    <tr>\n",
       "      <th>7</th>\n",
       "      <td>g</td>\n",
       "    </tr>\n",
       "    <tr>\n",
       "      <th>8</th>\n",
       "      <td>g</td>\n",
       "    </tr>\n",
       "    <tr>\n",
       "      <th>9</th>\n",
       "      <td>g</td>\n",
       "    </tr>\n",
       "  </tbody>\n",
       "</table>\n",
       "</div>"
      ],
      "text/plain": [
       "  Alphabet\n",
       "0        a\n",
       "1        b\n",
       "2        c\n",
       "3        c\n",
       "4        d\n",
       "5        e\n",
       "6        f\n",
       "7        g\n",
       "8        g\n",
       "9        g"
      ]
     },
     "execution_count": 179,
     "metadata": {},
     "output_type": "execute_result"
    }
   ],
   "source": [
    "alphabet"
   ]
  },
  {
   "cell_type": "code",
   "execution_count": 181,
   "id": "85190458",
   "metadata": {
    "ExecuteTime": {
     "end_time": "2022-10-01T13:24:18.933825Z",
     "start_time": "2022-10-01T13:24:18.919826Z"
    }
   },
   "outputs": [
    {
     "data": {
      "text/html": [
       "<div>\n",
       "<style scoped>\n",
       "    .dataframe tbody tr th:only-of-type {\n",
       "        vertical-align: middle;\n",
       "    }\n",
       "\n",
       "    .dataframe tbody tr th {\n",
       "        vertical-align: top;\n",
       "    }\n",
       "\n",
       "    .dataframe thead th {\n",
       "        text-align: right;\n",
       "    }\n",
       "</style>\n",
       "<table border=\"1\" class=\"dataframe\">\n",
       "  <thead>\n",
       "    <tr style=\"text-align: right;\">\n",
       "      <th></th>\n",
       "      <th>Alphabet</th>\n",
       "    </tr>\n",
       "  </thead>\n",
       "  <tbody>\n",
       "    <tr>\n",
       "      <th>0</th>\n",
       "      <td>a</td>\n",
       "    </tr>\n",
       "    <tr>\n",
       "      <th>1</th>\n",
       "      <td>b</td>\n",
       "    </tr>\n",
       "    <tr>\n",
       "      <th>2</th>\n",
       "      <td>c</td>\n",
       "    </tr>\n",
       "    <tr>\n",
       "      <th>4</th>\n",
       "      <td>d</td>\n",
       "    </tr>\n",
       "    <tr>\n",
       "      <th>5</th>\n",
       "      <td>e</td>\n",
       "    </tr>\n",
       "    <tr>\n",
       "      <th>6</th>\n",
       "      <td>f</td>\n",
       "    </tr>\n",
       "    <tr>\n",
       "      <th>7</th>\n",
       "      <td>g</td>\n",
       "    </tr>\n",
       "  </tbody>\n",
       "</table>\n",
       "</div>"
      ],
      "text/plain": [
       "  Alphabet\n",
       "0        a\n",
       "1        b\n",
       "2        c\n",
       "4        d\n",
       "5        e\n",
       "6        f\n",
       "7        g"
      ]
     },
     "execution_count": 181,
     "metadata": {},
     "output_type": "execute_result"
    }
   ],
   "source": [
    "alphabet.drop_duplicates()\n",
    "# index는 유지됨"
   ]
  },
  {
   "cell_type": "code",
   "execution_count": 182,
   "id": "c291706c",
   "metadata": {
    "ExecuteTime": {
     "end_time": "2022-10-01T13:25:03.517474Z",
     "start_time": "2022-10-01T13:25:03.501474Z"
    }
   },
   "outputs": [
    {
     "data": {
      "text/html": [
       "<div>\n",
       "<style scoped>\n",
       "    .dataframe tbody tr th:only-of-type {\n",
       "        vertical-align: middle;\n",
       "    }\n",
       "\n",
       "    .dataframe tbody tr th {\n",
       "        vertical-align: top;\n",
       "    }\n",
       "\n",
       "    .dataframe thead th {\n",
       "        text-align: right;\n",
       "    }\n",
       "</style>\n",
       "<table border=\"1\" class=\"dataframe\">\n",
       "  <thead>\n",
       "    <tr style=\"text-align: right;\">\n",
       "      <th></th>\n",
       "      <th>Alphabet</th>\n",
       "    </tr>\n",
       "  </thead>\n",
       "  <tbody>\n",
       "    <tr>\n",
       "      <th>0</th>\n",
       "      <td>a</td>\n",
       "    </tr>\n",
       "    <tr>\n",
       "      <th>1</th>\n",
       "      <td>b</td>\n",
       "    </tr>\n",
       "    <tr>\n",
       "      <th>2</th>\n",
       "      <td>c</td>\n",
       "    </tr>\n",
       "    <tr>\n",
       "      <th>3</th>\n",
       "      <td>d</td>\n",
       "    </tr>\n",
       "    <tr>\n",
       "      <th>4</th>\n",
       "      <td>e</td>\n",
       "    </tr>\n",
       "    <tr>\n",
       "      <th>5</th>\n",
       "      <td>f</td>\n",
       "    </tr>\n",
       "    <tr>\n",
       "      <th>6</th>\n",
       "      <td>g</td>\n",
       "    </tr>\n",
       "  </tbody>\n",
       "</table>\n",
       "</div>"
      ],
      "text/plain": [
       "  Alphabet\n",
       "0        a\n",
       "1        b\n",
       "2        c\n",
       "3        d\n",
       "4        e\n",
       "5        f\n",
       "6        g"
      ]
     },
     "execution_count": 182,
     "metadata": {},
     "output_type": "execute_result"
    }
   ],
   "source": [
    "alphabet.drop_duplicates(ignore_index=True)"
   ]
  },
  {
   "cell_type": "code",
   "execution_count": null,
   "id": "1d3895d4",
   "metadata": {},
   "outputs": [],
   "source": []
  }
 ],
 "metadata": {
  "kernelspec": {
   "display_name": "Python 3 (ipykernel)",
   "language": "python",
   "name": "python3"
  },
  "language_info": {
   "codemirror_mode": {
    "name": "ipython",
    "version": 3
   },
   "file_extension": ".py",
   "mimetype": "text/x-python",
   "name": "python",
   "nbconvert_exporter": "python",
   "pygments_lexer": "ipython3",
   "version": "3.9.12"
  },
  "toc": {
   "base_numbering": 1,
   "nav_menu": {},
   "number_sections": false,
   "sideBar": true,
   "skip_h1_title": false,
   "title_cell": "Table of Contents",
   "title_sidebar": "Contents",
   "toc_cell": false,
   "toc_position": {},
   "toc_section_display": true,
   "toc_window_display": false
  },
  "varInspector": {
   "cols": {
    "lenName": 16,
    "lenType": 16,
    "lenVar": 40
   },
   "kernels_config": {
    "python": {
     "delete_cmd_postfix": "",
     "delete_cmd_prefix": "del ",
     "library": "var_list.py",
     "varRefreshCmd": "print(var_dic_list())"
    },
    "r": {
     "delete_cmd_postfix": ") ",
     "delete_cmd_prefix": "rm(",
     "library": "var_list.r",
     "varRefreshCmd": "cat(var_dic_list()) "
    }
   },
   "types_to_exclude": [
    "module",
    "function",
    "builtin_function_or_method",
    "instance",
    "_Feature"
   ],
   "window_display": false
  }
 },
 "nbformat": 4,
 "nbformat_minor": 5
}
