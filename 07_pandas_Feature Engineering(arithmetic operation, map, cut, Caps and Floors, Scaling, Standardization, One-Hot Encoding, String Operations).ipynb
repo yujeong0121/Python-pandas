{
 "cells": [
  {
   "cell_type": "markdown",
   "id": "3734578e",
   "metadata": {},
   "source": [
    "### Data Preparation and Feature Creation"
   ]
  },
  {
   "cell_type": "code",
   "execution_count": 427,
   "id": "f1211f7b",
   "metadata": {
    "ExecuteTime": {
     "end_time": "2022-10-03T14:33:24.396421Z",
     "start_time": "2022-10-03T14:33:24.384421Z"
    }
   },
   "outputs": [],
   "source": [
    "import pandas as pd\n",
    "import numpy as np"
   ]
  },
  {
   "cell_type": "code",
   "execution_count": 428,
   "id": "bc270a62",
   "metadata": {
    "ExecuteTime": {
     "end_time": "2022-10-03T14:33:24.411539Z",
     "start_time": "2022-10-03T14:33:24.401426Z"
    }
   },
   "outputs": [],
   "source": [
    "titanic = pd.read_csv(\"./Course_Materials_Part2/Course_Materials_Part2/Video_Lecture_NBs/titanic.csv\")"
   ]
  },
  {
   "cell_type": "code",
   "execution_count": 429,
   "id": "4f9cd897",
   "metadata": {
    "ExecuteTime": {
     "end_time": "2022-10-03T14:33:24.441422Z",
     "start_time": "2022-10-03T14:33:24.414473Z"
    }
   },
   "outputs": [
    {
     "data": {
      "text/html": [
       "<div>\n",
       "<style scoped>\n",
       "    .dataframe tbody tr th:only-of-type {\n",
       "        vertical-align: middle;\n",
       "    }\n",
       "\n",
       "    .dataframe tbody tr th {\n",
       "        vertical-align: top;\n",
       "    }\n",
       "\n",
       "    .dataframe thead th {\n",
       "        text-align: right;\n",
       "    }\n",
       "</style>\n",
       "<table border=\"1\" class=\"dataframe\">\n",
       "  <thead>\n",
       "    <tr style=\"text-align: right;\">\n",
       "      <th></th>\n",
       "      <th>survived</th>\n",
       "      <th>pclass</th>\n",
       "      <th>sex</th>\n",
       "      <th>age</th>\n",
       "      <th>sibsp</th>\n",
       "      <th>parch</th>\n",
       "      <th>fare</th>\n",
       "      <th>embarked</th>\n",
       "      <th>deck</th>\n",
       "    </tr>\n",
       "  </thead>\n",
       "  <tbody>\n",
       "    <tr>\n",
       "      <th>0</th>\n",
       "      <td>0</td>\n",
       "      <td>3</td>\n",
       "      <td>male</td>\n",
       "      <td>22.0</td>\n",
       "      <td>1</td>\n",
       "      <td>0</td>\n",
       "      <td>7.2500</td>\n",
       "      <td>S</td>\n",
       "      <td>NaN</td>\n",
       "    </tr>\n",
       "    <tr>\n",
       "      <th>1</th>\n",
       "      <td>1</td>\n",
       "      <td>1</td>\n",
       "      <td>female</td>\n",
       "      <td>38.0</td>\n",
       "      <td>1</td>\n",
       "      <td>0</td>\n",
       "      <td>71.2833</td>\n",
       "      <td>C</td>\n",
       "      <td>C</td>\n",
       "    </tr>\n",
       "    <tr>\n",
       "      <th>2</th>\n",
       "      <td>1</td>\n",
       "      <td>3</td>\n",
       "      <td>female</td>\n",
       "      <td>26.0</td>\n",
       "      <td>0</td>\n",
       "      <td>0</td>\n",
       "      <td>7.9250</td>\n",
       "      <td>S</td>\n",
       "      <td>NaN</td>\n",
       "    </tr>\n",
       "    <tr>\n",
       "      <th>3</th>\n",
       "      <td>1</td>\n",
       "      <td>1</td>\n",
       "      <td>female</td>\n",
       "      <td>35.0</td>\n",
       "      <td>1</td>\n",
       "      <td>0</td>\n",
       "      <td>53.1000</td>\n",
       "      <td>S</td>\n",
       "      <td>C</td>\n",
       "    </tr>\n",
       "    <tr>\n",
       "      <th>4</th>\n",
       "      <td>0</td>\n",
       "      <td>3</td>\n",
       "      <td>male</td>\n",
       "      <td>35.0</td>\n",
       "      <td>0</td>\n",
       "      <td>0</td>\n",
       "      <td>8.0500</td>\n",
       "      <td>S</td>\n",
       "      <td>NaN</td>\n",
       "    </tr>\n",
       "  </tbody>\n",
       "</table>\n",
       "</div>"
      ],
      "text/plain": [
       "   survived  pclass     sex   age  sibsp  parch     fare embarked deck\n",
       "0         0       3    male  22.0      1      0   7.2500        S  NaN\n",
       "1         1       1  female  38.0      1      0  71.2833        C    C\n",
       "2         1       3  female  26.0      0      0   7.9250        S  NaN\n",
       "3         1       1  female  35.0      1      0  53.1000        S    C\n",
       "4         0       3    male  35.0      0      0   8.0500        S  NaN"
      ]
     },
     "execution_count": 429,
     "metadata": {},
     "output_type": "execute_result"
    }
   ],
   "source": [
    "titanic.head()"
   ]
  },
  {
   "cell_type": "code",
   "execution_count": 430,
   "id": "ae237a15",
   "metadata": {
    "ExecuteTime": {
     "end_time": "2022-10-03T14:33:24.471353Z",
     "start_time": "2022-10-03T14:33:24.445424Z"
    }
   },
   "outputs": [
    {
     "name": "stdout",
     "output_type": "stream",
     "text": [
      "<class 'pandas.core.frame.DataFrame'>\n",
      "RangeIndex: 891 entries, 0 to 890\n",
      "Data columns (total 9 columns):\n",
      " #   Column    Non-Null Count  Dtype  \n",
      "---  ------    --------------  -----  \n",
      " 0   survived  891 non-null    int64  \n",
      " 1   pclass    891 non-null    int64  \n",
      " 2   sex       891 non-null    object \n",
      " 3   age       714 non-null    float64\n",
      " 4   sibsp     891 non-null    int64  \n",
      " 5   parch     891 non-null    int64  \n",
      " 6   fare      891 non-null    float64\n",
      " 7   embarked  889 non-null    object \n",
      " 8   deck      203 non-null    object \n",
      "dtypes: float64(2), int64(4), object(3)\n",
      "memory usage: 62.8+ KB\n"
     ]
    }
   ],
   "source": [
    "titanic.info()"
   ]
  },
  {
   "cell_type": "code",
   "execution_count": 431,
   "id": "36ecb0e2",
   "metadata": {
    "ExecuteTime": {
     "end_time": "2022-10-03T14:33:24.486355Z",
     "start_time": "2022-10-03T14:33:24.474471Z"
    }
   },
   "outputs": [],
   "source": [
    "titanic.age.fillna(titanic.age.mean(), inplace=True)"
   ]
  },
  {
   "cell_type": "code",
   "execution_count": 432,
   "id": "0d19de4d",
   "metadata": {
    "ExecuteTime": {
     "end_time": "2022-10-03T14:33:24.516417Z",
     "start_time": "2022-10-03T14:33:24.489355Z"
    }
   },
   "outputs": [
    {
     "data": {
      "text/html": [
       "<div>\n",
       "<style scoped>\n",
       "    .dataframe tbody tr th:only-of-type {\n",
       "        vertical-align: middle;\n",
       "    }\n",
       "\n",
       "    .dataframe tbody tr th {\n",
       "        vertical-align: top;\n",
       "    }\n",
       "\n",
       "    .dataframe thead th {\n",
       "        text-align: right;\n",
       "    }\n",
       "</style>\n",
       "<table border=\"1\" class=\"dataframe\">\n",
       "  <thead>\n",
       "    <tr style=\"text-align: right;\">\n",
       "      <th></th>\n",
       "      <th>survived</th>\n",
       "      <th>pclass</th>\n",
       "      <th>sex</th>\n",
       "      <th>age</th>\n",
       "      <th>sibsp</th>\n",
       "      <th>parch</th>\n",
       "      <th>fare</th>\n",
       "      <th>embarked</th>\n",
       "      <th>deck</th>\n",
       "    </tr>\n",
       "  </thead>\n",
       "  <tbody>\n",
       "    <tr>\n",
       "      <th>0</th>\n",
       "      <td>0</td>\n",
       "      <td>3</td>\n",
       "      <td>male</td>\n",
       "      <td>22.000000</td>\n",
       "      <td>1</td>\n",
       "      <td>0</td>\n",
       "      <td>7.2500</td>\n",
       "      <td>S</td>\n",
       "      <td>NaN</td>\n",
       "    </tr>\n",
       "    <tr>\n",
       "      <th>1</th>\n",
       "      <td>1</td>\n",
       "      <td>1</td>\n",
       "      <td>female</td>\n",
       "      <td>38.000000</td>\n",
       "      <td>1</td>\n",
       "      <td>0</td>\n",
       "      <td>71.2833</td>\n",
       "      <td>C</td>\n",
       "      <td>C</td>\n",
       "    </tr>\n",
       "    <tr>\n",
       "      <th>2</th>\n",
       "      <td>1</td>\n",
       "      <td>3</td>\n",
       "      <td>female</td>\n",
       "      <td>26.000000</td>\n",
       "      <td>0</td>\n",
       "      <td>0</td>\n",
       "      <td>7.9250</td>\n",
       "      <td>S</td>\n",
       "      <td>NaN</td>\n",
       "    </tr>\n",
       "    <tr>\n",
       "      <th>3</th>\n",
       "      <td>1</td>\n",
       "      <td>1</td>\n",
       "      <td>female</td>\n",
       "      <td>35.000000</td>\n",
       "      <td>1</td>\n",
       "      <td>0</td>\n",
       "      <td>53.1000</td>\n",
       "      <td>S</td>\n",
       "      <td>C</td>\n",
       "    </tr>\n",
       "    <tr>\n",
       "      <th>4</th>\n",
       "      <td>0</td>\n",
       "      <td>3</td>\n",
       "      <td>male</td>\n",
       "      <td>35.000000</td>\n",
       "      <td>0</td>\n",
       "      <td>0</td>\n",
       "      <td>8.0500</td>\n",
       "      <td>S</td>\n",
       "      <td>NaN</td>\n",
       "    </tr>\n",
       "    <tr>\n",
       "      <th>5</th>\n",
       "      <td>0</td>\n",
       "      <td>3</td>\n",
       "      <td>male</td>\n",
       "      <td>29.699118</td>\n",
       "      <td>0</td>\n",
       "      <td>0</td>\n",
       "      <td>8.4583</td>\n",
       "      <td>Q</td>\n",
       "      <td>NaN</td>\n",
       "    </tr>\n",
       "    <tr>\n",
       "      <th>6</th>\n",
       "      <td>0</td>\n",
       "      <td>1</td>\n",
       "      <td>male</td>\n",
       "      <td>54.000000</td>\n",
       "      <td>0</td>\n",
       "      <td>0</td>\n",
       "      <td>51.8625</td>\n",
       "      <td>S</td>\n",
       "      <td>E</td>\n",
       "    </tr>\n",
       "    <tr>\n",
       "      <th>7</th>\n",
       "      <td>0</td>\n",
       "      <td>3</td>\n",
       "      <td>male</td>\n",
       "      <td>2.000000</td>\n",
       "      <td>3</td>\n",
       "      <td>1</td>\n",
       "      <td>21.0750</td>\n",
       "      <td>S</td>\n",
       "      <td>NaN</td>\n",
       "    </tr>\n",
       "    <tr>\n",
       "      <th>8</th>\n",
       "      <td>1</td>\n",
       "      <td>3</td>\n",
       "      <td>female</td>\n",
       "      <td>27.000000</td>\n",
       "      <td>0</td>\n",
       "      <td>2</td>\n",
       "      <td>11.1333</td>\n",
       "      <td>S</td>\n",
       "      <td>NaN</td>\n",
       "    </tr>\n",
       "    <tr>\n",
       "      <th>9</th>\n",
       "      <td>1</td>\n",
       "      <td>2</td>\n",
       "      <td>female</td>\n",
       "      <td>14.000000</td>\n",
       "      <td>1</td>\n",
       "      <td>0</td>\n",
       "      <td>30.0708</td>\n",
       "      <td>C</td>\n",
       "      <td>NaN</td>\n",
       "    </tr>\n",
       "  </tbody>\n",
       "</table>\n",
       "</div>"
      ],
      "text/plain": [
       "   survived  pclass     sex        age  sibsp  parch     fare embarked deck\n",
       "0         0       3    male  22.000000      1      0   7.2500        S  NaN\n",
       "1         1       1  female  38.000000      1      0  71.2833        C    C\n",
       "2         1       3  female  26.000000      0      0   7.9250        S  NaN\n",
       "3         1       1  female  35.000000      1      0  53.1000        S    C\n",
       "4         0       3    male  35.000000      0      0   8.0500        S  NaN\n",
       "5         0       3    male  29.699118      0      0   8.4583        Q  NaN\n",
       "6         0       1    male  54.000000      0      0  51.8625        S    E\n",
       "7         0       3    male   2.000000      3      1  21.0750        S  NaN\n",
       "8         1       3  female  27.000000      0      2  11.1333        S  NaN\n",
       "9         1       2  female  14.000000      1      0  30.0708        C  NaN"
      ]
     },
     "execution_count": 432,
     "metadata": {},
     "output_type": "execute_result"
    }
   ],
   "source": [
    "titanic.head(10)"
   ]
  },
  {
   "cell_type": "markdown",
   "id": "0405be8b",
   "metadata": {},
   "source": [
    "#### Add/Sub/Mul/Div of Columns"
   ]
  },
  {
   "cell_type": "markdown",
   "id": "b4c29f1d",
   "metadata": {},
   "source": [
    "얼마나 많은 가족이 함께 탑승했을까?"
   ]
  },
  {
   "cell_type": "code",
   "execution_count": 433,
   "id": "fca1ed92",
   "metadata": {
    "ExecuteTime": {
     "end_time": "2022-10-03T14:33:24.531049Z",
     "start_time": "2022-10-03T14:33:24.519355Z"
    }
   },
   "outputs": [
    {
     "data": {
      "text/plain": [
       "0      1\n",
       "1      1\n",
       "2      0\n",
       "3      1\n",
       "4      0\n",
       "      ..\n",
       "886    0\n",
       "887    0\n",
       "888    3\n",
       "889    0\n",
       "890    0\n",
       "Length: 891, dtype: int64"
      ]
     },
     "execution_count": 433,
     "metadata": {},
     "output_type": "execute_result"
    }
   ],
   "source": [
    "titanic.sibsp + titanic.parch"
   ]
  },
  {
   "cell_type": "code",
   "execution_count": 434,
   "id": "912f1215",
   "metadata": {
    "ExecuteTime": {
     "end_time": "2022-10-03T14:33:24.546353Z",
     "start_time": "2022-10-03T14:33:24.534354Z"
    }
   },
   "outputs": [
    {
     "data": {
      "text/plain": [
       "0      1\n",
       "1      1\n",
       "2      0\n",
       "3      1\n",
       "4      0\n",
       "      ..\n",
       "886    0\n",
       "887    0\n",
       "888    3\n",
       "889    0\n",
       "890    0\n",
       "Length: 891, dtype: int64"
      ]
     },
     "execution_count": 434,
     "metadata": {},
     "output_type": "execute_result"
    }
   ],
   "source": [
    "titanic.sibsp.add(titanic.parch)"
   ]
  },
  {
   "cell_type": "code",
   "execution_count": 435,
   "id": "254d77e4",
   "metadata": {
    "ExecuteTime": {
     "end_time": "2022-10-03T14:33:24.561431Z",
     "start_time": "2022-10-03T14:33:24.549356Z"
    }
   },
   "outputs": [],
   "source": [
    "titanic[\"no_relat\"] = titanic.sibsp.add(titanic.parch)"
   ]
  },
  {
   "cell_type": "code",
   "execution_count": 436,
   "id": "af57867b",
   "metadata": {
    "ExecuteTime": {
     "end_time": "2022-10-03T14:33:24.591429Z",
     "start_time": "2022-10-03T14:33:24.566356Z"
    }
   },
   "outputs": [
    {
     "data": {
      "text/html": [
       "<div>\n",
       "<style scoped>\n",
       "    .dataframe tbody tr th:only-of-type {\n",
       "        vertical-align: middle;\n",
       "    }\n",
       "\n",
       "    .dataframe tbody tr th {\n",
       "        vertical-align: top;\n",
       "    }\n",
       "\n",
       "    .dataframe thead th {\n",
       "        text-align: right;\n",
       "    }\n",
       "</style>\n",
       "<table border=\"1\" class=\"dataframe\">\n",
       "  <thead>\n",
       "    <tr style=\"text-align: right;\">\n",
       "      <th></th>\n",
       "      <th>survived</th>\n",
       "      <th>pclass</th>\n",
       "      <th>sex</th>\n",
       "      <th>age</th>\n",
       "      <th>sibsp</th>\n",
       "      <th>parch</th>\n",
       "      <th>fare</th>\n",
       "      <th>embarked</th>\n",
       "      <th>deck</th>\n",
       "      <th>no_relat</th>\n",
       "    </tr>\n",
       "  </thead>\n",
       "  <tbody>\n",
       "    <tr>\n",
       "      <th>0</th>\n",
       "      <td>0</td>\n",
       "      <td>3</td>\n",
       "      <td>male</td>\n",
       "      <td>22.0</td>\n",
       "      <td>1</td>\n",
       "      <td>0</td>\n",
       "      <td>7.2500</td>\n",
       "      <td>S</td>\n",
       "      <td>NaN</td>\n",
       "      <td>1</td>\n",
       "    </tr>\n",
       "    <tr>\n",
       "      <th>1</th>\n",
       "      <td>1</td>\n",
       "      <td>1</td>\n",
       "      <td>female</td>\n",
       "      <td>38.0</td>\n",
       "      <td>1</td>\n",
       "      <td>0</td>\n",
       "      <td>71.2833</td>\n",
       "      <td>C</td>\n",
       "      <td>C</td>\n",
       "      <td>1</td>\n",
       "    </tr>\n",
       "    <tr>\n",
       "      <th>2</th>\n",
       "      <td>1</td>\n",
       "      <td>3</td>\n",
       "      <td>female</td>\n",
       "      <td>26.0</td>\n",
       "      <td>0</td>\n",
       "      <td>0</td>\n",
       "      <td>7.9250</td>\n",
       "      <td>S</td>\n",
       "      <td>NaN</td>\n",
       "      <td>0</td>\n",
       "    </tr>\n",
       "    <tr>\n",
       "      <th>3</th>\n",
       "      <td>1</td>\n",
       "      <td>1</td>\n",
       "      <td>female</td>\n",
       "      <td>35.0</td>\n",
       "      <td>1</td>\n",
       "      <td>0</td>\n",
       "      <td>53.1000</td>\n",
       "      <td>S</td>\n",
       "      <td>C</td>\n",
       "      <td>1</td>\n",
       "    </tr>\n",
       "    <tr>\n",
       "      <th>4</th>\n",
       "      <td>0</td>\n",
       "      <td>3</td>\n",
       "      <td>male</td>\n",
       "      <td>35.0</td>\n",
       "      <td>0</td>\n",
       "      <td>0</td>\n",
       "      <td>8.0500</td>\n",
       "      <td>S</td>\n",
       "      <td>NaN</td>\n",
       "      <td>0</td>\n",
       "    </tr>\n",
       "  </tbody>\n",
       "</table>\n",
       "</div>"
      ],
      "text/plain": [
       "   survived  pclass     sex   age  sibsp  parch     fare embarked deck  \\\n",
       "0         0       3    male  22.0      1      0   7.2500        S  NaN   \n",
       "1         1       1  female  38.0      1      0  71.2833        C    C   \n",
       "2         1       3  female  26.0      0      0   7.9250        S  NaN   \n",
       "3         1       1  female  35.0      1      0  53.1000        S    C   \n",
       "4         0       3    male  35.0      0      0   8.0500        S  NaN   \n",
       "\n",
       "   no_relat  \n",
       "0         1  \n",
       "1         1  \n",
       "2         0  \n",
       "3         1  \n",
       "4         0  "
      ]
     },
     "execution_count": 436,
     "metadata": {},
     "output_type": "execute_result"
    }
   ],
   "source": [
    "titanic.head()"
   ]
  },
  {
   "cell_type": "code",
   "execution_count": 437,
   "id": "46f9dc01",
   "metadata": {
    "ExecuteTime": {
     "end_time": "2022-10-03T14:33:24.606353Z",
     "start_time": "2022-10-03T14:33:24.594357Z"
    }
   },
   "outputs": [],
   "source": [
    "sales = pd.read_csv(\"./Course_Materials_Part2/Course_Materials_Part2/Video_Lecture_NBs/sales.csv\", index_col=0)"
   ]
  },
  {
   "cell_type": "code",
   "execution_count": 438,
   "id": "cc371eb4",
   "metadata": {
    "ExecuteTime": {
     "end_time": "2022-10-03T14:33:24.621412Z",
     "start_time": "2022-10-03T14:33:24.609354Z"
    }
   },
   "outputs": [
    {
     "data": {
      "text/html": [
       "<div>\n",
       "<style scoped>\n",
       "    .dataframe tbody tr th:only-of-type {\n",
       "        vertical-align: middle;\n",
       "    }\n",
       "\n",
       "    .dataframe tbody tr th {\n",
       "        vertical-align: top;\n",
       "    }\n",
       "\n",
       "    .dataframe thead th {\n",
       "        text-align: right;\n",
       "    }\n",
       "</style>\n",
       "<table border=\"1\" class=\"dataframe\">\n",
       "  <thead>\n",
       "    <tr style=\"text-align: right;\">\n",
       "      <th></th>\n",
       "      <th>Mon</th>\n",
       "      <th>Tue</th>\n",
       "      <th>Wed</th>\n",
       "      <th>Thu</th>\n",
       "      <th>Fri</th>\n",
       "    </tr>\n",
       "  </thead>\n",
       "  <tbody>\n",
       "    <tr>\n",
       "      <th>Steven</th>\n",
       "      <td>34</td>\n",
       "      <td>27</td>\n",
       "      <td>15</td>\n",
       "      <td>NaN</td>\n",
       "      <td>33</td>\n",
       "    </tr>\n",
       "    <tr>\n",
       "      <th>Mike</th>\n",
       "      <td>45</td>\n",
       "      <td>9</td>\n",
       "      <td>74</td>\n",
       "      <td>87.0</td>\n",
       "      <td>12</td>\n",
       "    </tr>\n",
       "    <tr>\n",
       "      <th>Andi</th>\n",
       "      <td>17</td>\n",
       "      <td>33</td>\n",
       "      <td>54</td>\n",
       "      <td>8.0</td>\n",
       "      <td>29</td>\n",
       "    </tr>\n",
       "    <tr>\n",
       "      <th>Paul</th>\n",
       "      <td>87</td>\n",
       "      <td>67</td>\n",
       "      <td>27</td>\n",
       "      <td>45.0</td>\n",
       "      <td>7</td>\n",
       "    </tr>\n",
       "  </tbody>\n",
       "</table>\n",
       "</div>"
      ],
      "text/plain": [
       "        Mon  Tue  Wed   Thu  Fri\n",
       "Steven   34   27   15   NaN   33\n",
       "Mike     45    9   74  87.0   12\n",
       "Andi     17   33   54   8.0   29\n",
       "Paul     87   67   27  45.0    7"
      ]
     },
     "execution_count": 438,
     "metadata": {},
     "output_type": "execute_result"
    }
   ],
   "source": [
    "sales "
   ]
  },
  {
   "cell_type": "code",
   "execution_count": 439,
   "id": "c6518a2d",
   "metadata": {
    "ExecuteTime": {
     "end_time": "2022-10-03T14:33:24.636353Z",
     "start_time": "2022-10-03T14:33:24.624391Z"
    }
   },
   "outputs": [
    {
     "data": {
      "text/plain": [
       "Steven      NaN\n",
       "Mike      132.0\n",
       "Andi       25.0\n",
       "Paul      132.0\n",
       "dtype: float64"
      ]
     },
     "execution_count": 439,
     "metadata": {},
     "output_type": "execute_result"
    }
   ],
   "source": [
    "sales.Mon + sales.Thu"
   ]
  },
  {
   "cell_type": "markdown",
   "id": "c9216559",
   "metadata": {},
   "source": [
    "결측값을 더하면 결과도 결측값이 결과로 나온다. add를 사용하면 결측값을 채울 수 있다. 한문장으로 해결 가능!"
   ]
  },
  {
   "cell_type": "code",
   "execution_count": 440,
   "id": "20ef8c7f",
   "metadata": {
    "ExecuteTime": {
     "end_time": "2022-10-03T14:33:24.651353Z",
     "start_time": "2022-10-03T14:33:24.639354Z"
    }
   },
   "outputs": [
    {
     "data": {
      "text/plain": [
       "Steven     34.0\n",
       "Mike      132.0\n",
       "Andi       25.0\n",
       "Paul      132.0\n",
       "dtype: float64"
      ]
     },
     "execution_count": 440,
     "metadata": {},
     "output_type": "execute_result"
    }
   ],
   "source": [
    "sales.Mon.add(sales.Thu, fill_value=0)"
   ]
  },
  {
   "cell_type": "code",
   "execution_count": 441,
   "id": "9ba40ea2",
   "metadata": {
    "ExecuteTime": {
     "end_time": "2022-10-03T14:33:24.666519Z",
     "start_time": "2022-10-03T14:33:24.654355Z"
    }
   },
   "outputs": [],
   "source": [
    "sales[\"perc_Bonus\"] = [0.12,0.15,0.10,0.20]"
   ]
  },
  {
   "cell_type": "code",
   "execution_count": 442,
   "id": "48014e8a",
   "metadata": {
    "ExecuteTime": {
     "end_time": "2022-10-03T14:33:24.681457Z",
     "start_time": "2022-10-03T14:33:24.669492Z"
    }
   },
   "outputs": [
    {
     "data": {
      "text/html": [
       "<div>\n",
       "<style scoped>\n",
       "    .dataframe tbody tr th:only-of-type {\n",
       "        vertical-align: middle;\n",
       "    }\n",
       "\n",
       "    .dataframe tbody tr th {\n",
       "        vertical-align: top;\n",
       "    }\n",
       "\n",
       "    .dataframe thead th {\n",
       "        text-align: right;\n",
       "    }\n",
       "</style>\n",
       "<table border=\"1\" class=\"dataframe\">\n",
       "  <thead>\n",
       "    <tr style=\"text-align: right;\">\n",
       "      <th></th>\n",
       "      <th>Mon</th>\n",
       "      <th>Tue</th>\n",
       "      <th>Wed</th>\n",
       "      <th>Thu</th>\n",
       "      <th>Fri</th>\n",
       "      <th>perc_Bonus</th>\n",
       "    </tr>\n",
       "  </thead>\n",
       "  <tbody>\n",
       "    <tr>\n",
       "      <th>Steven</th>\n",
       "      <td>34</td>\n",
       "      <td>27</td>\n",
       "      <td>15</td>\n",
       "      <td>NaN</td>\n",
       "      <td>33</td>\n",
       "      <td>0.12</td>\n",
       "    </tr>\n",
       "    <tr>\n",
       "      <th>Mike</th>\n",
       "      <td>45</td>\n",
       "      <td>9</td>\n",
       "      <td>74</td>\n",
       "      <td>87.0</td>\n",
       "      <td>12</td>\n",
       "      <td>0.15</td>\n",
       "    </tr>\n",
       "    <tr>\n",
       "      <th>Andi</th>\n",
       "      <td>17</td>\n",
       "      <td>33</td>\n",
       "      <td>54</td>\n",
       "      <td>8.0</td>\n",
       "      <td>29</td>\n",
       "      <td>0.10</td>\n",
       "    </tr>\n",
       "    <tr>\n",
       "      <th>Paul</th>\n",
       "      <td>87</td>\n",
       "      <td>67</td>\n",
       "      <td>27</td>\n",
       "      <td>45.0</td>\n",
       "      <td>7</td>\n",
       "      <td>0.20</td>\n",
       "    </tr>\n",
       "  </tbody>\n",
       "</table>\n",
       "</div>"
      ],
      "text/plain": [
       "        Mon  Tue  Wed   Thu  Fri  perc_Bonus\n",
       "Steven   34   27   15   NaN   33        0.12\n",
       "Mike     45    9   74  87.0   12        0.15\n",
       "Andi     17   33   54   8.0   29        0.10\n",
       "Paul     87   67   27  45.0    7        0.20"
      ]
     },
     "execution_count": 442,
     "metadata": {},
     "output_type": "execute_result"
    }
   ],
   "source": [
    "sales"
   ]
  },
  {
   "cell_type": "code",
   "execution_count": 443,
   "id": "9b2aaacf",
   "metadata": {
    "ExecuteTime": {
     "end_time": "2022-10-03T14:33:24.696454Z",
     "start_time": "2022-10-03T14:33:24.684457Z"
    }
   },
   "outputs": [
    {
     "data": {
      "text/plain": [
       "Steven      NaN\n",
       "Mike      13.05\n",
       "Andi       0.80\n",
       "Paul       9.00\n",
       "dtype: float64"
      ]
     },
     "execution_count": 443,
     "metadata": {},
     "output_type": "execute_result"
    }
   ],
   "source": [
    "sales.Thu * sales.perc_Bonus"
   ]
  },
  {
   "cell_type": "code",
   "execution_count": 444,
   "id": "7c730d12",
   "metadata": {
    "ExecuteTime": {
     "end_time": "2022-10-03T14:33:24.711540Z",
     "start_time": "2022-10-03T14:33:24.699517Z"
    }
   },
   "outputs": [
    {
     "data": {
      "text/plain": [
       "Steven     0.00\n",
       "Mike      13.05\n",
       "Andi       0.80\n",
       "Paul       9.00\n",
       "dtype: float64"
      ]
     },
     "execution_count": 444,
     "metadata": {},
     "output_type": "execute_result"
    }
   ],
   "source": [
    "sales.Thu.mul(sales.perc_Bonus, fill_value = 0)"
   ]
  },
  {
   "cell_type": "code",
   "execution_count": 445,
   "id": "f30e18b0",
   "metadata": {
    "ExecuteTime": {
     "end_time": "2022-10-03T14:33:24.726455Z",
     "start_time": "2022-10-03T14:33:24.714458Z"
    }
   },
   "outputs": [
    {
     "data": {
      "text/plain": [
       "Steven     9.12\n",
       "Mike      32.25\n",
       "Andi      11.20\n",
       "Paul      45.20\n",
       "dtype: float64"
      ]
     },
     "execution_count": 445,
     "metadata": {},
     "output_type": "execute_result"
    }
   ],
   "source": [
    "sales.iloc[:, :-2].sum(axis = 1).mul(sales.perc_Bonus)"
   ]
  },
  {
   "cell_type": "code",
   "execution_count": 446,
   "id": "001b3b81",
   "metadata": {
    "ExecuteTime": {
     "end_time": "2022-10-03T14:33:24.741455Z",
     "start_time": "2022-10-03T14:33:24.728457Z"
    }
   },
   "outputs": [],
   "source": [
    "sales[\"Bonus\"] = sales.iloc[:, :-2].sum(axis = 1).mul(sales.perc_Bonus)"
   ]
  },
  {
   "cell_type": "code",
   "execution_count": 447,
   "id": "858768c2",
   "metadata": {
    "ExecuteTime": {
     "end_time": "2022-10-03T14:33:24.771535Z",
     "start_time": "2022-10-03T14:33:24.744457Z"
    }
   },
   "outputs": [
    {
     "data": {
      "text/html": [
       "<div>\n",
       "<style scoped>\n",
       "    .dataframe tbody tr th:only-of-type {\n",
       "        vertical-align: middle;\n",
       "    }\n",
       "\n",
       "    .dataframe tbody tr th {\n",
       "        vertical-align: top;\n",
       "    }\n",
       "\n",
       "    .dataframe thead th {\n",
       "        text-align: right;\n",
       "    }\n",
       "</style>\n",
       "<table border=\"1\" class=\"dataframe\">\n",
       "  <thead>\n",
       "    <tr style=\"text-align: right;\">\n",
       "      <th></th>\n",
       "      <th>Mon</th>\n",
       "      <th>Tue</th>\n",
       "      <th>Wed</th>\n",
       "      <th>Thu</th>\n",
       "      <th>Fri</th>\n",
       "      <th>perc_Bonus</th>\n",
       "      <th>Bonus</th>\n",
       "    </tr>\n",
       "  </thead>\n",
       "  <tbody>\n",
       "    <tr>\n",
       "      <th>Steven</th>\n",
       "      <td>34</td>\n",
       "      <td>27</td>\n",
       "      <td>15</td>\n",
       "      <td>NaN</td>\n",
       "      <td>33</td>\n",
       "      <td>0.12</td>\n",
       "      <td>9.12</td>\n",
       "    </tr>\n",
       "    <tr>\n",
       "      <th>Mike</th>\n",
       "      <td>45</td>\n",
       "      <td>9</td>\n",
       "      <td>74</td>\n",
       "      <td>87.0</td>\n",
       "      <td>12</td>\n",
       "      <td>0.15</td>\n",
       "      <td>32.25</td>\n",
       "    </tr>\n",
       "    <tr>\n",
       "      <th>Andi</th>\n",
       "      <td>17</td>\n",
       "      <td>33</td>\n",
       "      <td>54</td>\n",
       "      <td>8.0</td>\n",
       "      <td>29</td>\n",
       "      <td>0.10</td>\n",
       "      <td>11.20</td>\n",
       "    </tr>\n",
       "    <tr>\n",
       "      <th>Paul</th>\n",
       "      <td>87</td>\n",
       "      <td>67</td>\n",
       "      <td>27</td>\n",
       "      <td>45.0</td>\n",
       "      <td>7</td>\n",
       "      <td>0.20</td>\n",
       "      <td>45.20</td>\n",
       "    </tr>\n",
       "  </tbody>\n",
       "</table>\n",
       "</div>"
      ],
      "text/plain": [
       "        Mon  Tue  Wed   Thu  Fri  perc_Bonus  Bonus\n",
       "Steven   34   27   15   NaN   33        0.12   9.12\n",
       "Mike     45    9   74  87.0   12        0.15  32.25\n",
       "Andi     17   33   54   8.0   29        0.10  11.20\n",
       "Paul     87   67   27  45.0    7        0.20  45.20"
      ]
     },
     "execution_count": 447,
     "metadata": {},
     "output_type": "execute_result"
    }
   ],
   "source": [
    "sales"
   ]
  },
  {
   "cell_type": "markdown",
   "id": "43203cee",
   "metadata": {},
   "source": [
    "#### Add/Sub/Mul with Scaler Value"
   ]
  },
  {
   "cell_type": "code",
   "execution_count": 448,
   "id": "aa9b3cf8",
   "metadata": {
    "ExecuteTime": {
     "end_time": "2022-10-03T14:33:24.801456Z",
     "start_time": "2022-10-03T14:33:24.774568Z"
    }
   },
   "outputs": [
    {
     "data": {
      "text/html": [
       "<div>\n",
       "<style scoped>\n",
       "    .dataframe tbody tr th:only-of-type {\n",
       "        vertical-align: middle;\n",
       "    }\n",
       "\n",
       "    .dataframe tbody tr th {\n",
       "        vertical-align: top;\n",
       "    }\n",
       "\n",
       "    .dataframe thead th {\n",
       "        text-align: right;\n",
       "    }\n",
       "</style>\n",
       "<table border=\"1\" class=\"dataframe\">\n",
       "  <thead>\n",
       "    <tr style=\"text-align: right;\">\n",
       "      <th></th>\n",
       "      <th>survived</th>\n",
       "      <th>pclass</th>\n",
       "      <th>sex</th>\n",
       "      <th>age</th>\n",
       "      <th>sibsp</th>\n",
       "      <th>parch</th>\n",
       "      <th>fare</th>\n",
       "      <th>embarked</th>\n",
       "      <th>deck</th>\n",
       "      <th>no_relat</th>\n",
       "    </tr>\n",
       "  </thead>\n",
       "  <tbody>\n",
       "    <tr>\n",
       "      <th>0</th>\n",
       "      <td>0</td>\n",
       "      <td>3</td>\n",
       "      <td>male</td>\n",
       "      <td>22.0</td>\n",
       "      <td>1</td>\n",
       "      <td>0</td>\n",
       "      <td>7.2500</td>\n",
       "      <td>S</td>\n",
       "      <td>NaN</td>\n",
       "      <td>1</td>\n",
       "    </tr>\n",
       "    <tr>\n",
       "      <th>1</th>\n",
       "      <td>1</td>\n",
       "      <td>1</td>\n",
       "      <td>female</td>\n",
       "      <td>38.0</td>\n",
       "      <td>1</td>\n",
       "      <td>0</td>\n",
       "      <td>71.2833</td>\n",
       "      <td>C</td>\n",
       "      <td>C</td>\n",
       "      <td>1</td>\n",
       "    </tr>\n",
       "    <tr>\n",
       "      <th>2</th>\n",
       "      <td>1</td>\n",
       "      <td>3</td>\n",
       "      <td>female</td>\n",
       "      <td>26.0</td>\n",
       "      <td>0</td>\n",
       "      <td>0</td>\n",
       "      <td>7.9250</td>\n",
       "      <td>S</td>\n",
       "      <td>NaN</td>\n",
       "      <td>0</td>\n",
       "    </tr>\n",
       "    <tr>\n",
       "      <th>3</th>\n",
       "      <td>1</td>\n",
       "      <td>1</td>\n",
       "      <td>female</td>\n",
       "      <td>35.0</td>\n",
       "      <td>1</td>\n",
       "      <td>0</td>\n",
       "      <td>53.1000</td>\n",
       "      <td>S</td>\n",
       "      <td>C</td>\n",
       "      <td>1</td>\n",
       "    </tr>\n",
       "    <tr>\n",
       "      <th>4</th>\n",
       "      <td>0</td>\n",
       "      <td>3</td>\n",
       "      <td>male</td>\n",
       "      <td>35.0</td>\n",
       "      <td>0</td>\n",
       "      <td>0</td>\n",
       "      <td>8.0500</td>\n",
       "      <td>S</td>\n",
       "      <td>NaN</td>\n",
       "      <td>0</td>\n",
       "    </tr>\n",
       "  </tbody>\n",
       "</table>\n",
       "</div>"
      ],
      "text/plain": [
       "   survived  pclass     sex   age  sibsp  parch     fare embarked deck  \\\n",
       "0         0       3    male  22.0      1      0   7.2500        S  NaN   \n",
       "1         1       1  female  38.0      1      0  71.2833        C    C   \n",
       "2         1       3  female  26.0      0      0   7.9250        S  NaN   \n",
       "3         1       1  female  35.0      1      0  53.1000        S    C   \n",
       "4         0       3    male  35.0      0      0   8.0500        S  NaN   \n",
       "\n",
       "   no_relat  \n",
       "0         1  \n",
       "1         1  \n",
       "2         0  \n",
       "3         1  \n",
       "4         0  "
      ]
     },
     "execution_count": 448,
     "metadata": {},
     "output_type": "execute_result"
    }
   ],
   "source": [
    "titanic.head()"
   ]
  },
  {
   "cell_type": "code",
   "execution_count": 449,
   "id": "aca1456b",
   "metadata": {
    "ExecuteTime": {
     "end_time": "2022-10-03T14:33:24.816456Z",
     "start_time": "2022-10-03T14:33:24.803457Z"
    }
   },
   "outputs": [
    {
     "data": {
      "text/plain": [
       "0      1890.000000\n",
       "1      1874.000000\n",
       "2      1886.000000\n",
       "3      1877.000000\n",
       "4      1877.000000\n",
       "          ...     \n",
       "886    1885.000000\n",
       "887    1893.000000\n",
       "888    1882.300882\n",
       "889    1886.000000\n",
       "890    1880.000000\n",
       "Name: age, Length: 891, dtype: float64"
      ]
     },
     "execution_count": 449,
     "metadata": {},
     "output_type": "execute_result"
    }
   ],
   "source": [
    "1912 - titanic.age"
   ]
  },
  {
   "cell_type": "code",
   "execution_count": 450,
   "id": "72b78116",
   "metadata": {
    "ExecuteTime": {
     "end_time": "2022-10-03T14:33:24.831457Z",
     "start_time": "2022-10-03T14:33:24.819459Z"
    }
   },
   "outputs": [],
   "source": [
    "titanic[\"YoB\"] = titanic.age.sub(1912, fill_value=None).mul(-1) # 음수를 양수로 바꾸기 위해 -1"
   ]
  },
  {
   "cell_type": "code",
   "execution_count": 451,
   "id": "90da392b",
   "metadata": {
    "ExecuteTime": {
     "end_time": "2022-10-03T14:33:24.861454Z",
     "start_time": "2022-10-03T14:33:24.833457Z"
    }
   },
   "outputs": [
    {
     "data": {
      "text/html": [
       "<div>\n",
       "<style scoped>\n",
       "    .dataframe tbody tr th:only-of-type {\n",
       "        vertical-align: middle;\n",
       "    }\n",
       "\n",
       "    .dataframe tbody tr th {\n",
       "        vertical-align: top;\n",
       "    }\n",
       "\n",
       "    .dataframe thead th {\n",
       "        text-align: right;\n",
       "    }\n",
       "</style>\n",
       "<table border=\"1\" class=\"dataframe\">\n",
       "  <thead>\n",
       "    <tr style=\"text-align: right;\">\n",
       "      <th></th>\n",
       "      <th>survived</th>\n",
       "      <th>pclass</th>\n",
       "      <th>sex</th>\n",
       "      <th>age</th>\n",
       "      <th>sibsp</th>\n",
       "      <th>parch</th>\n",
       "      <th>fare</th>\n",
       "      <th>embarked</th>\n",
       "      <th>deck</th>\n",
       "      <th>no_relat</th>\n",
       "      <th>YoB</th>\n",
       "    </tr>\n",
       "  </thead>\n",
       "  <tbody>\n",
       "    <tr>\n",
       "      <th>0</th>\n",
       "      <td>0</td>\n",
       "      <td>3</td>\n",
       "      <td>male</td>\n",
       "      <td>22.0</td>\n",
       "      <td>1</td>\n",
       "      <td>0</td>\n",
       "      <td>7.2500</td>\n",
       "      <td>S</td>\n",
       "      <td>NaN</td>\n",
       "      <td>1</td>\n",
       "      <td>1890.0</td>\n",
       "    </tr>\n",
       "    <tr>\n",
       "      <th>1</th>\n",
       "      <td>1</td>\n",
       "      <td>1</td>\n",
       "      <td>female</td>\n",
       "      <td>38.0</td>\n",
       "      <td>1</td>\n",
       "      <td>0</td>\n",
       "      <td>71.2833</td>\n",
       "      <td>C</td>\n",
       "      <td>C</td>\n",
       "      <td>1</td>\n",
       "      <td>1874.0</td>\n",
       "    </tr>\n",
       "    <tr>\n",
       "      <th>2</th>\n",
       "      <td>1</td>\n",
       "      <td>3</td>\n",
       "      <td>female</td>\n",
       "      <td>26.0</td>\n",
       "      <td>0</td>\n",
       "      <td>0</td>\n",
       "      <td>7.9250</td>\n",
       "      <td>S</td>\n",
       "      <td>NaN</td>\n",
       "      <td>0</td>\n",
       "      <td>1886.0</td>\n",
       "    </tr>\n",
       "    <tr>\n",
       "      <th>3</th>\n",
       "      <td>1</td>\n",
       "      <td>1</td>\n",
       "      <td>female</td>\n",
       "      <td>35.0</td>\n",
       "      <td>1</td>\n",
       "      <td>0</td>\n",
       "      <td>53.1000</td>\n",
       "      <td>S</td>\n",
       "      <td>C</td>\n",
       "      <td>1</td>\n",
       "      <td>1877.0</td>\n",
       "    </tr>\n",
       "    <tr>\n",
       "      <th>4</th>\n",
       "      <td>0</td>\n",
       "      <td>3</td>\n",
       "      <td>male</td>\n",
       "      <td>35.0</td>\n",
       "      <td>0</td>\n",
       "      <td>0</td>\n",
       "      <td>8.0500</td>\n",
       "      <td>S</td>\n",
       "      <td>NaN</td>\n",
       "      <td>0</td>\n",
       "      <td>1877.0</td>\n",
       "    </tr>\n",
       "  </tbody>\n",
       "</table>\n",
       "</div>"
      ],
      "text/plain": [
       "   survived  pclass     sex   age  sibsp  parch     fare embarked deck  \\\n",
       "0         0       3    male  22.0      1      0   7.2500        S  NaN   \n",
       "1         1       1  female  38.0      1      0  71.2833        C    C   \n",
       "2         1       3  female  26.0      0      0   7.9250        S  NaN   \n",
       "3         1       1  female  35.0      1      0  53.1000        S    C   \n",
       "4         0       3    male  35.0      0      0   8.0500        S  NaN   \n",
       "\n",
       "   no_relat     YoB  \n",
       "0         1  1890.0  \n",
       "1         1  1874.0  \n",
       "2         0  1886.0  \n",
       "3         1  1877.0  \n",
       "4         0  1877.0  "
      ]
     },
     "execution_count": 451,
     "metadata": {},
     "output_type": "execute_result"
    }
   ],
   "source": [
    "titanic.head()"
   ]
  },
  {
   "cell_type": "code",
   "execution_count": 452,
   "id": "9911875b",
   "metadata": {
    "ExecuteTime": {
     "end_time": "2022-10-03T14:33:24.876454Z",
     "start_time": "2022-10-03T14:33:24.864457Z"
    }
   },
   "outputs": [],
   "source": [
    "fx_rate = 1.1"
   ]
  },
  {
   "cell_type": "code",
   "execution_count": 453,
   "id": "281ad0b4",
   "metadata": {
    "ExecuteTime": {
     "end_time": "2022-10-03T14:33:24.891357Z",
     "start_time": "2022-10-03T14:33:24.879286Z"
    }
   },
   "outputs": [],
   "source": [
    "titanic[\"EUR_fare\"] = titanic.fare.div(fx_rate)"
   ]
  },
  {
   "cell_type": "code",
   "execution_count": 454,
   "id": "bdd1297d",
   "metadata": {
    "ExecuteTime": {
     "end_time": "2022-10-03T14:33:24.921331Z",
     "start_time": "2022-10-03T14:33:24.901181Z"
    }
   },
   "outputs": [
    {
     "data": {
      "text/html": [
       "<div>\n",
       "<style scoped>\n",
       "    .dataframe tbody tr th:only-of-type {\n",
       "        vertical-align: middle;\n",
       "    }\n",
       "\n",
       "    .dataframe tbody tr th {\n",
       "        vertical-align: top;\n",
       "    }\n",
       "\n",
       "    .dataframe thead th {\n",
       "        text-align: right;\n",
       "    }\n",
       "</style>\n",
       "<table border=\"1\" class=\"dataframe\">\n",
       "  <thead>\n",
       "    <tr style=\"text-align: right;\">\n",
       "      <th></th>\n",
       "      <th>survived</th>\n",
       "      <th>pclass</th>\n",
       "      <th>sex</th>\n",
       "      <th>age</th>\n",
       "      <th>sibsp</th>\n",
       "      <th>parch</th>\n",
       "      <th>fare</th>\n",
       "      <th>embarked</th>\n",
       "      <th>deck</th>\n",
       "      <th>no_relat</th>\n",
       "      <th>YoB</th>\n",
       "      <th>EUR_fare</th>\n",
       "    </tr>\n",
       "  </thead>\n",
       "  <tbody>\n",
       "    <tr>\n",
       "      <th>0</th>\n",
       "      <td>0</td>\n",
       "      <td>3</td>\n",
       "      <td>male</td>\n",
       "      <td>22.0</td>\n",
       "      <td>1</td>\n",
       "      <td>0</td>\n",
       "      <td>7.2500</td>\n",
       "      <td>S</td>\n",
       "      <td>NaN</td>\n",
       "      <td>1</td>\n",
       "      <td>1890.0</td>\n",
       "      <td>6.590909</td>\n",
       "    </tr>\n",
       "    <tr>\n",
       "      <th>1</th>\n",
       "      <td>1</td>\n",
       "      <td>1</td>\n",
       "      <td>female</td>\n",
       "      <td>38.0</td>\n",
       "      <td>1</td>\n",
       "      <td>0</td>\n",
       "      <td>71.2833</td>\n",
       "      <td>C</td>\n",
       "      <td>C</td>\n",
       "      <td>1</td>\n",
       "      <td>1874.0</td>\n",
       "      <td>64.803000</td>\n",
       "    </tr>\n",
       "    <tr>\n",
       "      <th>2</th>\n",
       "      <td>1</td>\n",
       "      <td>3</td>\n",
       "      <td>female</td>\n",
       "      <td>26.0</td>\n",
       "      <td>0</td>\n",
       "      <td>0</td>\n",
       "      <td>7.9250</td>\n",
       "      <td>S</td>\n",
       "      <td>NaN</td>\n",
       "      <td>0</td>\n",
       "      <td>1886.0</td>\n",
       "      <td>7.204545</td>\n",
       "    </tr>\n",
       "    <tr>\n",
       "      <th>3</th>\n",
       "      <td>1</td>\n",
       "      <td>1</td>\n",
       "      <td>female</td>\n",
       "      <td>35.0</td>\n",
       "      <td>1</td>\n",
       "      <td>0</td>\n",
       "      <td>53.1000</td>\n",
       "      <td>S</td>\n",
       "      <td>C</td>\n",
       "      <td>1</td>\n",
       "      <td>1877.0</td>\n",
       "      <td>48.272727</td>\n",
       "    </tr>\n",
       "    <tr>\n",
       "      <th>4</th>\n",
       "      <td>0</td>\n",
       "      <td>3</td>\n",
       "      <td>male</td>\n",
       "      <td>35.0</td>\n",
       "      <td>0</td>\n",
       "      <td>0</td>\n",
       "      <td>8.0500</td>\n",
       "      <td>S</td>\n",
       "      <td>NaN</td>\n",
       "      <td>0</td>\n",
       "      <td>1877.0</td>\n",
       "      <td>7.318182</td>\n",
       "    </tr>\n",
       "  </tbody>\n",
       "</table>\n",
       "</div>"
      ],
      "text/plain": [
       "   survived  pclass     sex   age  sibsp  parch     fare embarked deck  \\\n",
       "0         0       3    male  22.0      1      0   7.2500        S  NaN   \n",
       "1         1       1  female  38.0      1      0  71.2833        C    C   \n",
       "2         1       3  female  26.0      0      0   7.9250        S  NaN   \n",
       "3         1       1  female  35.0      1      0  53.1000        S    C   \n",
       "4         0       3    male  35.0      0      0   8.0500        S  NaN   \n",
       "\n",
       "   no_relat     YoB   EUR_fare  \n",
       "0         1  1890.0   6.590909  \n",
       "1         1  1874.0  64.803000  \n",
       "2         0  1886.0   7.204545  \n",
       "3         1  1877.0  48.272727  \n",
       "4         0  1877.0   7.318182  "
      ]
     },
     "execution_count": 454,
     "metadata": {},
     "output_type": "execute_result"
    }
   ],
   "source": [
    "titanic.head()"
   ]
  },
  {
   "cell_type": "code",
   "execution_count": 455,
   "id": "44897961",
   "metadata": {
    "ExecuteTime": {
     "end_time": "2022-10-03T14:33:24.936520Z",
     "start_time": "2022-10-03T14:33:24.924437Z"
    }
   },
   "outputs": [],
   "source": [
    "titanic.drop(columns=[\"sibsp\", \"parch\", \"deck\", \"YoB\", \"EUR_fare\"], inplace=True)"
   ]
  },
  {
   "cell_type": "code",
   "execution_count": 456,
   "id": "ac764434",
   "metadata": {
    "ExecuteTime": {
     "end_time": "2022-10-03T14:33:24.966552Z",
     "start_time": "2022-10-03T14:33:24.939520Z"
    }
   },
   "outputs": [
    {
     "data": {
      "text/html": [
       "<div>\n",
       "<style scoped>\n",
       "    .dataframe tbody tr th:only-of-type {\n",
       "        vertical-align: middle;\n",
       "    }\n",
       "\n",
       "    .dataframe tbody tr th {\n",
       "        vertical-align: top;\n",
       "    }\n",
       "\n",
       "    .dataframe thead th {\n",
       "        text-align: right;\n",
       "    }\n",
       "</style>\n",
       "<table border=\"1\" class=\"dataframe\">\n",
       "  <thead>\n",
       "    <tr style=\"text-align: right;\">\n",
       "      <th></th>\n",
       "      <th>survived</th>\n",
       "      <th>pclass</th>\n",
       "      <th>sex</th>\n",
       "      <th>age</th>\n",
       "      <th>fare</th>\n",
       "      <th>embarked</th>\n",
       "      <th>no_relat</th>\n",
       "    </tr>\n",
       "  </thead>\n",
       "  <tbody>\n",
       "    <tr>\n",
       "      <th>0</th>\n",
       "      <td>0</td>\n",
       "      <td>3</td>\n",
       "      <td>male</td>\n",
       "      <td>22.0</td>\n",
       "      <td>7.2500</td>\n",
       "      <td>S</td>\n",
       "      <td>1</td>\n",
       "    </tr>\n",
       "    <tr>\n",
       "      <th>1</th>\n",
       "      <td>1</td>\n",
       "      <td>1</td>\n",
       "      <td>female</td>\n",
       "      <td>38.0</td>\n",
       "      <td>71.2833</td>\n",
       "      <td>C</td>\n",
       "      <td>1</td>\n",
       "    </tr>\n",
       "    <tr>\n",
       "      <th>2</th>\n",
       "      <td>1</td>\n",
       "      <td>3</td>\n",
       "      <td>female</td>\n",
       "      <td>26.0</td>\n",
       "      <td>7.9250</td>\n",
       "      <td>S</td>\n",
       "      <td>0</td>\n",
       "    </tr>\n",
       "    <tr>\n",
       "      <th>3</th>\n",
       "      <td>1</td>\n",
       "      <td>1</td>\n",
       "      <td>female</td>\n",
       "      <td>35.0</td>\n",
       "      <td>53.1000</td>\n",
       "      <td>S</td>\n",
       "      <td>1</td>\n",
       "    </tr>\n",
       "    <tr>\n",
       "      <th>4</th>\n",
       "      <td>0</td>\n",
       "      <td>3</td>\n",
       "      <td>male</td>\n",
       "      <td>35.0</td>\n",
       "      <td>8.0500</td>\n",
       "      <td>S</td>\n",
       "      <td>0</td>\n",
       "    </tr>\n",
       "  </tbody>\n",
       "</table>\n",
       "</div>"
      ],
      "text/plain": [
       "   survived  pclass     sex   age     fare embarked  no_relat\n",
       "0         0       3    male  22.0   7.2500        S         1\n",
       "1         1       1  female  38.0  71.2833        C         1\n",
       "2         1       3  female  26.0   7.9250        S         0\n",
       "3         1       1  female  35.0  53.1000        S         1\n",
       "4         0       3    male  35.0   8.0500        S         0"
      ]
     },
     "execution_count": 456,
     "metadata": {},
     "output_type": "execute_result"
    }
   ],
   "source": [
    "titanic.head()"
   ]
  },
  {
   "cell_type": "code",
   "execution_count": 457,
   "id": "cd9d95cc",
   "metadata": {
    "ExecuteTime": {
     "end_time": "2022-10-03T14:33:24.996551Z",
     "start_time": "2022-10-03T14:33:24.969775Z"
    }
   },
   "outputs": [
    {
     "data": {
      "text/html": [
       "<div>\n",
       "<style scoped>\n",
       "    .dataframe tbody tr th:only-of-type {\n",
       "        vertical-align: middle;\n",
       "    }\n",
       "\n",
       "    .dataframe tbody tr th {\n",
       "        vertical-align: top;\n",
       "    }\n",
       "\n",
       "    .dataframe thead th {\n",
       "        text-align: right;\n",
       "    }\n",
       "</style>\n",
       "<table border=\"1\" class=\"dataframe\">\n",
       "  <thead>\n",
       "    <tr style=\"text-align: right;\">\n",
       "      <th></th>\n",
       "      <th>Mon</th>\n",
       "      <th>Tue</th>\n",
       "      <th>Wed</th>\n",
       "      <th>Thu</th>\n",
       "      <th>Fri</th>\n",
       "      <th>perc_Bonus</th>\n",
       "      <th>Bonus</th>\n",
       "    </tr>\n",
       "  </thead>\n",
       "  <tbody>\n",
       "    <tr>\n",
       "      <th>Steven</th>\n",
       "      <td>34</td>\n",
       "      <td>27</td>\n",
       "      <td>15</td>\n",
       "      <td>NaN</td>\n",
       "      <td>33</td>\n",
       "      <td>0.12</td>\n",
       "      <td>9.12</td>\n",
       "    </tr>\n",
       "    <tr>\n",
       "      <th>Mike</th>\n",
       "      <td>45</td>\n",
       "      <td>9</td>\n",
       "      <td>74</td>\n",
       "      <td>87.0</td>\n",
       "      <td>12</td>\n",
       "      <td>0.15</td>\n",
       "      <td>32.25</td>\n",
       "    </tr>\n",
       "    <tr>\n",
       "      <th>Andi</th>\n",
       "      <td>17</td>\n",
       "      <td>33</td>\n",
       "      <td>54</td>\n",
       "      <td>8.0</td>\n",
       "      <td>29</td>\n",
       "      <td>0.10</td>\n",
       "      <td>11.20</td>\n",
       "    </tr>\n",
       "    <tr>\n",
       "      <th>Paul</th>\n",
       "      <td>87</td>\n",
       "      <td>67</td>\n",
       "      <td>27</td>\n",
       "      <td>45.0</td>\n",
       "      <td>7</td>\n",
       "      <td>0.20</td>\n",
       "      <td>45.20</td>\n",
       "    </tr>\n",
       "  </tbody>\n",
       "</table>\n",
       "</div>"
      ],
      "text/plain": [
       "        Mon  Tue  Wed   Thu  Fri  perc_Bonus  Bonus\n",
       "Steven   34   27   15   NaN   33        0.12   9.12\n",
       "Mike     45    9   74  87.0   12        0.15  32.25\n",
       "Andi     17   33   54   8.0   29        0.10  11.20\n",
       "Paul     87   67   27  45.0    7        0.20  45.20"
      ]
     },
     "execution_count": 457,
     "metadata": {},
     "output_type": "execute_result"
    }
   ],
   "source": [
    "sales"
   ]
  },
  {
   "cell_type": "code",
   "execution_count": 458,
   "id": "62a7996b",
   "metadata": {
    "ExecuteTime": {
     "end_time": "2022-10-03T14:33:25.011551Z",
     "start_time": "2022-10-03T14:33:24.999842Z"
    }
   },
   "outputs": [],
   "source": [
    "fixed_costs = 5"
   ]
  },
  {
   "cell_type": "code",
   "execution_count": 459,
   "id": "2bff74c5",
   "metadata": {
    "ExecuteTime": {
     "end_time": "2022-10-03T14:33:25.026552Z",
     "start_time": "2022-10-03T14:33:25.014553Z"
    }
   },
   "outputs": [
    {
     "data": {
      "text/html": [
       "<div>\n",
       "<style scoped>\n",
       "    .dataframe tbody tr th:only-of-type {\n",
       "        vertical-align: middle;\n",
       "    }\n",
       "\n",
       "    .dataframe tbody tr th {\n",
       "        vertical-align: top;\n",
       "    }\n",
       "\n",
       "    .dataframe thead th {\n",
       "        text-align: right;\n",
       "    }\n",
       "</style>\n",
       "<table border=\"1\" class=\"dataframe\">\n",
       "  <thead>\n",
       "    <tr style=\"text-align: right;\">\n",
       "      <th></th>\n",
       "      <th>Mon</th>\n",
       "      <th>Tue</th>\n",
       "      <th>Wed</th>\n",
       "      <th>Thu</th>\n",
       "      <th>Fri</th>\n",
       "    </tr>\n",
       "  </thead>\n",
       "  <tbody>\n",
       "    <tr>\n",
       "      <th>Steven</th>\n",
       "      <td>29</td>\n",
       "      <td>22</td>\n",
       "      <td>10</td>\n",
       "      <td>-5.0</td>\n",
       "      <td>28</td>\n",
       "    </tr>\n",
       "    <tr>\n",
       "      <th>Mike</th>\n",
       "      <td>40</td>\n",
       "      <td>4</td>\n",
       "      <td>69</td>\n",
       "      <td>82.0</td>\n",
       "      <td>7</td>\n",
       "    </tr>\n",
       "    <tr>\n",
       "      <th>Andi</th>\n",
       "      <td>12</td>\n",
       "      <td>28</td>\n",
       "      <td>49</td>\n",
       "      <td>3.0</td>\n",
       "      <td>24</td>\n",
       "    </tr>\n",
       "    <tr>\n",
       "      <th>Paul</th>\n",
       "      <td>82</td>\n",
       "      <td>62</td>\n",
       "      <td>22</td>\n",
       "      <td>40.0</td>\n",
       "      <td>2</td>\n",
       "    </tr>\n",
       "  </tbody>\n",
       "</table>\n",
       "</div>"
      ],
      "text/plain": [
       "        Mon  Tue  Wed   Thu  Fri\n",
       "Steven   29   22   10  -5.0   28\n",
       "Mike     40    4   69  82.0    7\n",
       "Andi     12   28   49   3.0   24\n",
       "Paul     82   62   22  40.0    2"
      ]
     },
     "execution_count": 459,
     "metadata": {},
     "output_type": "execute_result"
    }
   ],
   "source": [
    "sales.iloc[:, :-2].sub(fixed_costs, fill_value = 0)"
   ]
  },
  {
   "cell_type": "code",
   "execution_count": 460,
   "id": "8624546a",
   "metadata": {
    "ExecuteTime": {
     "end_time": "2022-10-03T14:33:25.041554Z",
     "start_time": "2022-10-03T14:33:25.029553Z"
    }
   },
   "outputs": [],
   "source": [
    "perc_Bonus = 0.1"
   ]
  },
  {
   "cell_type": "code",
   "execution_count": 461,
   "id": "2e7b0feb",
   "metadata": {
    "ExecuteTime": {
     "end_time": "2022-10-03T14:33:25.071553Z",
     "start_time": "2022-10-03T14:33:25.044668Z"
    }
   },
   "outputs": [
    {
     "data": {
      "text/html": [
       "<div>\n",
       "<style scoped>\n",
       "    .dataframe tbody tr th:only-of-type {\n",
       "        vertical-align: middle;\n",
       "    }\n",
       "\n",
       "    .dataframe tbody tr th {\n",
       "        vertical-align: top;\n",
       "    }\n",
       "\n",
       "    .dataframe thead th {\n",
       "        text-align: right;\n",
       "    }\n",
       "</style>\n",
       "<table border=\"1\" class=\"dataframe\">\n",
       "  <thead>\n",
       "    <tr style=\"text-align: right;\">\n",
       "      <th></th>\n",
       "      <th>Mon</th>\n",
       "      <th>Tue</th>\n",
       "      <th>Wed</th>\n",
       "      <th>Thu</th>\n",
       "      <th>Fri</th>\n",
       "    </tr>\n",
       "  </thead>\n",
       "  <tbody>\n",
       "    <tr>\n",
       "      <th>Steven</th>\n",
       "      <td>3.4</td>\n",
       "      <td>2.7</td>\n",
       "      <td>1.5</td>\n",
       "      <td>0.0</td>\n",
       "      <td>3.3</td>\n",
       "    </tr>\n",
       "    <tr>\n",
       "      <th>Mike</th>\n",
       "      <td>4.5</td>\n",
       "      <td>0.9</td>\n",
       "      <td>7.4</td>\n",
       "      <td>8.7</td>\n",
       "      <td>1.2</td>\n",
       "    </tr>\n",
       "    <tr>\n",
       "      <th>Andi</th>\n",
       "      <td>1.7</td>\n",
       "      <td>3.3</td>\n",
       "      <td>5.4</td>\n",
       "      <td>0.8</td>\n",
       "      <td>2.9</td>\n",
       "    </tr>\n",
       "    <tr>\n",
       "      <th>Paul</th>\n",
       "      <td>8.7</td>\n",
       "      <td>6.7</td>\n",
       "      <td>2.7</td>\n",
       "      <td>4.5</td>\n",
       "      <td>0.7</td>\n",
       "    </tr>\n",
       "  </tbody>\n",
       "</table>\n",
       "</div>"
      ],
      "text/plain": [
       "        Mon  Tue  Wed  Thu  Fri\n",
       "Steven  3.4  2.7  1.5  0.0  3.3\n",
       "Mike    4.5  0.9  7.4  8.7  1.2\n",
       "Andi    1.7  3.3  5.4  0.8  2.9\n",
       "Paul    8.7  6.7  2.7  4.5  0.7"
      ]
     },
     "execution_count": 461,
     "metadata": {},
     "output_type": "execute_result"
    }
   ],
   "source": [
    "sales.iloc[:, :-2].mul(perc_Bonus, fill_value = 0)"
   ]
  },
  {
   "cell_type": "code",
   "execution_count": 462,
   "id": "37d0cae3",
   "metadata": {
    "ExecuteTime": {
     "end_time": "2022-10-03T14:33:25.086555Z",
     "start_time": "2022-10-03T14:33:25.074552Z"
    }
   },
   "outputs": [
    {
     "data": {
      "text/html": [
       "<div>\n",
       "<style scoped>\n",
       "    .dataframe tbody tr th:only-of-type {\n",
       "        vertical-align: middle;\n",
       "    }\n",
       "\n",
       "    .dataframe tbody tr th {\n",
       "        vertical-align: top;\n",
       "    }\n",
       "\n",
       "    .dataframe thead th {\n",
       "        text-align: right;\n",
       "    }\n",
       "</style>\n",
       "<table border=\"1\" class=\"dataframe\">\n",
       "  <thead>\n",
       "    <tr style=\"text-align: right;\">\n",
       "      <th></th>\n",
       "      <th>Mon</th>\n",
       "      <th>Tue</th>\n",
       "      <th>Wed</th>\n",
       "      <th>Thu</th>\n",
       "      <th>Fri</th>\n",
       "    </tr>\n",
       "  </thead>\n",
       "  <tbody>\n",
       "    <tr>\n",
       "      <th>Steven</th>\n",
       "      <td>34</td>\n",
       "      <td>27</td>\n",
       "      <td>15</td>\n",
       "      <td>NaN</td>\n",
       "      <td>33</td>\n",
       "    </tr>\n",
       "    <tr>\n",
       "      <th>Mike</th>\n",
       "      <td>45</td>\n",
       "      <td>9</td>\n",
       "      <td>74</td>\n",
       "      <td>87.0</td>\n",
       "      <td>12</td>\n",
       "    </tr>\n",
       "    <tr>\n",
       "      <th>Andi</th>\n",
       "      <td>17</td>\n",
       "      <td>33</td>\n",
       "      <td>54</td>\n",
       "      <td>8.0</td>\n",
       "      <td>29</td>\n",
       "    </tr>\n",
       "    <tr>\n",
       "      <th>Paul</th>\n",
       "      <td>87</td>\n",
       "      <td>67</td>\n",
       "      <td>27</td>\n",
       "      <td>45.0</td>\n",
       "      <td>7</td>\n",
       "    </tr>\n",
       "  </tbody>\n",
       "</table>\n",
       "</div>"
      ],
      "text/plain": [
       "        Mon  Tue  Wed   Thu  Fri\n",
       "Steven   34   27   15   NaN   33\n",
       "Mike     45    9   74  87.0   12\n",
       "Andi     17   33   54   8.0   29\n",
       "Paul     87   67   27  45.0    7"
      ]
     },
     "execution_count": 462,
     "metadata": {},
     "output_type": "execute_result"
    }
   ],
   "source": [
    "sales.iloc[:, :-2]"
   ]
  },
  {
   "cell_type": "code",
   "execution_count": 463,
   "id": "463fcd1a",
   "metadata": {
    "ExecuteTime": {
     "end_time": "2022-10-03T14:33:25.101680Z",
     "start_time": "2022-10-03T14:33:25.089552Z"
    }
   },
   "outputs": [],
   "source": [
    "# 10달러씩 판매할 때마다 1.25달러의 보너스를 받을 수 있다고 설정\n",
    "lot_size = 10\n",
    "bonus_per_lot = 1.25"
   ]
  },
  {
   "cell_type": "code",
   "execution_count": 464,
   "id": "eb361964",
   "metadata": {
    "ExecuteTime": {
     "end_time": "2022-10-03T14:33:25.131553Z",
     "start_time": "2022-10-03T14:33:25.105552Z"
    }
   },
   "outputs": [
    {
     "data": {
      "text/html": [
       "<div>\n",
       "<style scoped>\n",
       "    .dataframe tbody tr th:only-of-type {\n",
       "        vertical-align: middle;\n",
       "    }\n",
       "\n",
       "    .dataframe tbody tr th {\n",
       "        vertical-align: top;\n",
       "    }\n",
       "\n",
       "    .dataframe thead th {\n",
       "        text-align: right;\n",
       "    }\n",
       "</style>\n",
       "<table border=\"1\" class=\"dataframe\">\n",
       "  <thead>\n",
       "    <tr style=\"text-align: right;\">\n",
       "      <th></th>\n",
       "      <th>Mon</th>\n",
       "      <th>Tue</th>\n",
       "      <th>Wed</th>\n",
       "      <th>Thu</th>\n",
       "      <th>Fri</th>\n",
       "    </tr>\n",
       "  </thead>\n",
       "  <tbody>\n",
       "    <tr>\n",
       "      <th>Steven</th>\n",
       "      <td>3</td>\n",
       "      <td>2</td>\n",
       "      <td>1</td>\n",
       "      <td>0.0</td>\n",
       "      <td>3</td>\n",
       "    </tr>\n",
       "    <tr>\n",
       "      <th>Mike</th>\n",
       "      <td>4</td>\n",
       "      <td>0</td>\n",
       "      <td>7</td>\n",
       "      <td>8.0</td>\n",
       "      <td>1</td>\n",
       "    </tr>\n",
       "    <tr>\n",
       "      <th>Andi</th>\n",
       "      <td>1</td>\n",
       "      <td>3</td>\n",
       "      <td>5</td>\n",
       "      <td>0.0</td>\n",
       "      <td>2</td>\n",
       "    </tr>\n",
       "    <tr>\n",
       "      <th>Paul</th>\n",
       "      <td>8</td>\n",
       "      <td>6</td>\n",
       "      <td>2</td>\n",
       "      <td>4.0</td>\n",
       "      <td>0</td>\n",
       "    </tr>\n",
       "  </tbody>\n",
       "</table>\n",
       "</div>"
      ],
      "text/plain": [
       "        Mon  Tue  Wed  Thu  Fri\n",
       "Steven    3    2    1  0.0    3\n",
       "Mike      4    0    7  8.0    1\n",
       "Andi      1    3    5  0.0    2\n",
       "Paul      8    6    2  4.0    0"
      ]
     },
     "execution_count": 464,
     "metadata": {},
     "output_type": "execute_result"
    }
   ],
   "source": [
    "# 소수점이하는 버림\n",
    "sales.iloc[:, :-2].floordiv(lot_size, fill_value = 0)"
   ]
  },
  {
   "cell_type": "code",
   "execution_count": 465,
   "id": "26110ff5",
   "metadata": {
    "ExecuteTime": {
     "end_time": "2022-10-03T14:33:25.146554Z",
     "start_time": "2022-10-03T14:33:25.135553Z"
    }
   },
   "outputs": [
    {
     "data": {
      "text/plain": [
       "Steven    11.25\n",
       "Mike      25.00\n",
       "Andi      13.75\n",
       "Paul      25.00\n",
       "dtype: float64"
      ]
     },
     "execution_count": 465,
     "metadata": {},
     "output_type": "execute_result"
    }
   ],
   "source": [
    "sales.iloc[:, :-2].floordiv(lot_size, fill_value = 0).mul(bonus_per_lot).sum(axis=1)"
   ]
  },
  {
   "cell_type": "markdown",
   "id": "da0bb862",
   "metadata": {},
   "source": [
    "#### Transformation / Mapping"
   ]
  },
  {
   "cell_type": "code",
   "execution_count": 466,
   "id": "60b219c1",
   "metadata": {
    "ExecuteTime": {
     "end_time": "2022-10-03T14:33:25.236473Z",
     "start_time": "2022-10-03T14:33:25.150158Z"
    }
   },
   "outputs": [],
   "source": [
    "summer = pd.read_csv(\"./Course_Materials_Part2/Course_Materials_Part2/Video_Lecture_NBs/summer.csv\")"
   ]
  },
  {
   "cell_type": "code",
   "execution_count": 467,
   "id": "347844b9",
   "metadata": {
    "ExecuteTime": {
     "end_time": "2022-10-03T14:33:25.266596Z",
     "start_time": "2022-10-03T14:33:25.239474Z"
    }
   },
   "outputs": [
    {
     "data": {
      "text/html": [
       "<div>\n",
       "<style scoped>\n",
       "    .dataframe tbody tr th:only-of-type {\n",
       "        vertical-align: middle;\n",
       "    }\n",
       "\n",
       "    .dataframe tbody tr th {\n",
       "        vertical-align: top;\n",
       "    }\n",
       "\n",
       "    .dataframe thead th {\n",
       "        text-align: right;\n",
       "    }\n",
       "</style>\n",
       "<table border=\"1\" class=\"dataframe\">\n",
       "  <thead>\n",
       "    <tr style=\"text-align: right;\">\n",
       "      <th></th>\n",
       "      <th>Year</th>\n",
       "      <th>City</th>\n",
       "      <th>Sport</th>\n",
       "      <th>Discipline</th>\n",
       "      <th>Athlete</th>\n",
       "      <th>Country</th>\n",
       "      <th>Gender</th>\n",
       "      <th>Event</th>\n",
       "      <th>Medal</th>\n",
       "    </tr>\n",
       "  </thead>\n",
       "  <tbody>\n",
       "    <tr>\n",
       "      <th>0</th>\n",
       "      <td>1896</td>\n",
       "      <td>Athens</td>\n",
       "      <td>Aquatics</td>\n",
       "      <td>Swimming</td>\n",
       "      <td>HAJOS, Alfred</td>\n",
       "      <td>HUN</td>\n",
       "      <td>Men</td>\n",
       "      <td>100M Freestyle</td>\n",
       "      <td>Gold</td>\n",
       "    </tr>\n",
       "    <tr>\n",
       "      <th>1</th>\n",
       "      <td>1896</td>\n",
       "      <td>Athens</td>\n",
       "      <td>Aquatics</td>\n",
       "      <td>Swimming</td>\n",
       "      <td>HERSCHMANN, Otto</td>\n",
       "      <td>AUT</td>\n",
       "      <td>Men</td>\n",
       "      <td>100M Freestyle</td>\n",
       "      <td>Silver</td>\n",
       "    </tr>\n",
       "    <tr>\n",
       "      <th>2</th>\n",
       "      <td>1896</td>\n",
       "      <td>Athens</td>\n",
       "      <td>Aquatics</td>\n",
       "      <td>Swimming</td>\n",
       "      <td>DRIVAS, Dimitrios</td>\n",
       "      <td>GRE</td>\n",
       "      <td>Men</td>\n",
       "      <td>100M Freestyle For Sailors</td>\n",
       "      <td>Bronze</td>\n",
       "    </tr>\n",
       "    <tr>\n",
       "      <th>3</th>\n",
       "      <td>1896</td>\n",
       "      <td>Athens</td>\n",
       "      <td>Aquatics</td>\n",
       "      <td>Swimming</td>\n",
       "      <td>MALOKINIS, Ioannis</td>\n",
       "      <td>GRE</td>\n",
       "      <td>Men</td>\n",
       "      <td>100M Freestyle For Sailors</td>\n",
       "      <td>Gold</td>\n",
       "    </tr>\n",
       "    <tr>\n",
       "      <th>4</th>\n",
       "      <td>1896</td>\n",
       "      <td>Athens</td>\n",
       "      <td>Aquatics</td>\n",
       "      <td>Swimming</td>\n",
       "      <td>CHASAPIS, Spiridon</td>\n",
       "      <td>GRE</td>\n",
       "      <td>Men</td>\n",
       "      <td>100M Freestyle For Sailors</td>\n",
       "      <td>Silver</td>\n",
       "    </tr>\n",
       "  </tbody>\n",
       "</table>\n",
       "</div>"
      ],
      "text/plain": [
       "   Year    City     Sport Discipline             Athlete Country Gender  \\\n",
       "0  1896  Athens  Aquatics   Swimming       HAJOS, Alfred     HUN    Men   \n",
       "1  1896  Athens  Aquatics   Swimming    HERSCHMANN, Otto     AUT    Men   \n",
       "2  1896  Athens  Aquatics   Swimming   DRIVAS, Dimitrios     GRE    Men   \n",
       "3  1896  Athens  Aquatics   Swimming  MALOKINIS, Ioannis     GRE    Men   \n",
       "4  1896  Athens  Aquatics   Swimming  CHASAPIS, Spiridon     GRE    Men   \n",
       "\n",
       "                        Event   Medal  \n",
       "0              100M Freestyle    Gold  \n",
       "1              100M Freestyle  Silver  \n",
       "2  100M Freestyle For Sailors  Bronze  \n",
       "3  100M Freestyle For Sailors    Gold  \n",
       "4  100M Freestyle For Sailors  Silver  "
      ]
     },
     "execution_count": 467,
     "metadata": {},
     "output_type": "execute_result"
    }
   ],
   "source": [
    "summer.head()"
   ]
  },
  {
   "cell_type": "code",
   "execution_count": 468,
   "id": "f39b9284",
   "metadata": {
    "ExecuteTime": {
     "end_time": "2022-10-03T14:33:25.281470Z",
     "start_time": "2022-10-03T14:33:25.270472Z"
    }
   },
   "outputs": [],
   "source": [
    "sample = summer.sample(n = 7, random_state = 123).sort_values(by = \"Year\")"
   ]
  },
  {
   "cell_type": "code",
   "execution_count": 469,
   "id": "d6d648a2",
   "metadata": {
    "ExecuteTime": {
     "end_time": "2022-10-03T14:33:25.311568Z",
     "start_time": "2022-10-03T14:33:25.284474Z"
    }
   },
   "outputs": [
    {
     "data": {
      "text/html": [
       "<div>\n",
       "<style scoped>\n",
       "    .dataframe tbody tr th:only-of-type {\n",
       "        vertical-align: middle;\n",
       "    }\n",
       "\n",
       "    .dataframe tbody tr th {\n",
       "        vertical-align: top;\n",
       "    }\n",
       "\n",
       "    .dataframe thead th {\n",
       "        text-align: right;\n",
       "    }\n",
       "</style>\n",
       "<table border=\"1\" class=\"dataframe\">\n",
       "  <thead>\n",
       "    <tr style=\"text-align: right;\">\n",
       "      <th></th>\n",
       "      <th>Year</th>\n",
       "      <th>City</th>\n",
       "      <th>Sport</th>\n",
       "      <th>Discipline</th>\n",
       "      <th>Athlete</th>\n",
       "      <th>Country</th>\n",
       "      <th>Gender</th>\n",
       "      <th>Event</th>\n",
       "      <th>Medal</th>\n",
       "    </tr>\n",
       "  </thead>\n",
       "  <tbody>\n",
       "    <tr>\n",
       "      <th>4196</th>\n",
       "      <td>1924</td>\n",
       "      <td>Paris</td>\n",
       "      <td>Aquatics</td>\n",
       "      <td>Water polo</td>\n",
       "      <td>AUSTIN, Arthur</td>\n",
       "      <td>USA</td>\n",
       "      <td>Men</td>\n",
       "      <td>Water Polo</td>\n",
       "      <td>Bronze</td>\n",
       "    </tr>\n",
       "    <tr>\n",
       "      <th>11961</th>\n",
       "      <td>1968</td>\n",
       "      <td>Mexico</td>\n",
       "      <td>Athletics</td>\n",
       "      <td>Athletics</td>\n",
       "      <td>FOSBURY, Richard Douglas</td>\n",
       "      <td>USA</td>\n",
       "      <td>Men</td>\n",
       "      <td>High Jump</td>\n",
       "      <td>Gold</td>\n",
       "    </tr>\n",
       "    <tr>\n",
       "      <th>11742</th>\n",
       "      <td>1968</td>\n",
       "      <td>Mexico</td>\n",
       "      <td>Aquatics</td>\n",
       "      <td>Swimming</td>\n",
       "      <td>WENDEN, Michael Vincent</td>\n",
       "      <td>AUS</td>\n",
       "      <td>Men</td>\n",
       "      <td>200M Freestyle</td>\n",
       "      <td>Gold</td>\n",
       "    </tr>\n",
       "    <tr>\n",
       "      <th>13996</th>\n",
       "      <td>1976</td>\n",
       "      <td>Montreal</td>\n",
       "      <td>Aquatics</td>\n",
       "      <td>Swimming</td>\n",
       "      <td>MAC DONALD, Gary</td>\n",
       "      <td>CAN</td>\n",
       "      <td>Men</td>\n",
       "      <td>4X100M Medley Relay</td>\n",
       "      <td>Silver</td>\n",
       "    </tr>\n",
       "    <tr>\n",
       "      <th>16229</th>\n",
       "      <td>1980</td>\n",
       "      <td>Moscow</td>\n",
       "      <td>Rowing</td>\n",
       "      <td>Rowing</td>\n",
       "      <td>DMITRIENKO, Grigori</td>\n",
       "      <td>URS</td>\n",
       "      <td>Men</td>\n",
       "      <td>Eight With Coxswain (8+)</td>\n",
       "      <td>Bronze</td>\n",
       "    </tr>\n",
       "    <tr>\n",
       "      <th>19728</th>\n",
       "      <td>1992</td>\n",
       "      <td>Barcelona</td>\n",
       "      <td>Aquatics</td>\n",
       "      <td>Swimming</td>\n",
       "      <td>KULIKOV, Vladislav</td>\n",
       "      <td>EUN</td>\n",
       "      <td>Men</td>\n",
       "      <td>4X100M Medley Relay</td>\n",
       "      <td>Silver</td>\n",
       "    </tr>\n",
       "    <tr>\n",
       "      <th>25901</th>\n",
       "      <td>2004</td>\n",
       "      <td>Athens</td>\n",
       "      <td>Boxing</td>\n",
       "      <td>Boxing</td>\n",
       "      <td>YELEUOV, Serik</td>\n",
       "      <td>KAZ</td>\n",
       "      <td>Men</td>\n",
       "      <td>57 - 60KG (Lightweight)</td>\n",
       "      <td>Bronze</td>\n",
       "    </tr>\n",
       "  </tbody>\n",
       "</table>\n",
       "</div>"
      ],
      "text/plain": [
       "       Year       City      Sport  Discipline                   Athlete  \\\n",
       "4196   1924      Paris   Aquatics  Water polo            AUSTIN, Arthur   \n",
       "11961  1968     Mexico  Athletics   Athletics  FOSBURY, Richard Douglas   \n",
       "11742  1968     Mexico   Aquatics    Swimming   WENDEN, Michael Vincent   \n",
       "13996  1976   Montreal   Aquatics    Swimming          MAC DONALD, Gary   \n",
       "16229  1980     Moscow     Rowing      Rowing       DMITRIENKO, Grigori   \n",
       "19728  1992  Barcelona   Aquatics    Swimming        KULIKOV, Vladislav   \n",
       "25901  2004     Athens     Boxing      Boxing            YELEUOV, Serik   \n",
       "\n",
       "      Country Gender                     Event   Medal  \n",
       "4196      USA    Men                Water Polo  Bronze  \n",
       "11961     USA    Men                 High Jump    Gold  \n",
       "11742     AUS    Men            200M Freestyle    Gold  \n",
       "13996     CAN    Men       4X100M Medley Relay  Silver  \n",
       "16229     URS    Men  Eight With Coxswain (8+)  Bronze  \n",
       "19728     EUN    Men       4X100M Medley Relay  Silver  \n",
       "25901     KAZ    Men   57 - 60KG (Lightweight)  Bronze  "
      ]
     },
     "execution_count": 469,
     "metadata": {},
     "output_type": "execute_result"
    }
   ],
   "source": [
    "sample"
   ]
  },
  {
   "cell_type": "code",
   "execution_count": 470,
   "id": "b2981605",
   "metadata": {
    "ExecuteTime": {
     "end_time": "2022-10-03T14:33:25.326565Z",
     "start_time": "2022-10-03T14:33:25.314473Z"
    }
   },
   "outputs": [],
   "source": [
    "city_country = {\"Paris\":\"France\", \"Mexico\":\"Mexico\", \"Montreal\":\"Canada\", \"Moscow\":\"Russia\", \"Barcelona\":\"Spain\", \"Athens\": \"Greece\"}"
   ]
  },
  {
   "cell_type": "code",
   "execution_count": 471,
   "id": "2e244834",
   "metadata": {
    "ExecuteTime": {
     "end_time": "2022-10-03T14:33:25.341470Z",
     "start_time": "2022-10-03T14:33:25.329473Z"
    }
   },
   "outputs": [
    {
     "data": {
      "text/plain": [
       "{'Paris': 'France',\n",
       " 'Mexico': 'Mexico',\n",
       " 'Montreal': 'Canada',\n",
       " 'Moscow': 'Russia',\n",
       " 'Barcelona': 'Spain',\n",
       " 'Athens': 'Greece'}"
      ]
     },
     "execution_count": 471,
     "metadata": {},
     "output_type": "execute_result"
    }
   ],
   "source": [
    "city_country"
   ]
  },
  {
   "cell_type": "code",
   "execution_count": 472,
   "id": "036464ad",
   "metadata": {
    "ExecuteTime": {
     "end_time": "2022-10-03T14:33:25.356471Z",
     "start_time": "2022-10-03T14:33:25.344473Z"
    }
   },
   "outputs": [
    {
     "data": {
      "text/plain": [
       "4196     France\n",
       "11961    Mexico\n",
       "11742    Mexico\n",
       "13996    Canada\n",
       "16229    Russia\n",
       "19728     Spain\n",
       "25901    Greece\n",
       "Name: City, dtype: object"
      ]
     },
     "execution_count": 472,
     "metadata": {},
     "output_type": "execute_result"
    }
   ],
   "source": [
    "sample.City.map(city_country)"
   ]
  },
  {
   "cell_type": "code",
   "execution_count": 473,
   "id": "07d42530",
   "metadata": {
    "ExecuteTime": {
     "end_time": "2022-10-03T14:33:25.371527Z",
     "start_time": "2022-10-03T14:33:25.359470Z"
    }
   },
   "outputs": [],
   "source": [
    "sample[\"Host_Country\"] = sample.City.map(city_country)"
   ]
  },
  {
   "cell_type": "code",
   "execution_count": 474,
   "id": "efc7d838",
   "metadata": {
    "ExecuteTime": {
     "end_time": "2022-10-03T14:33:25.401525Z",
     "start_time": "2022-10-03T14:33:25.374529Z"
    }
   },
   "outputs": [
    {
     "data": {
      "text/html": [
       "<div>\n",
       "<style scoped>\n",
       "    .dataframe tbody tr th:only-of-type {\n",
       "        vertical-align: middle;\n",
       "    }\n",
       "\n",
       "    .dataframe tbody tr th {\n",
       "        vertical-align: top;\n",
       "    }\n",
       "\n",
       "    .dataframe thead th {\n",
       "        text-align: right;\n",
       "    }\n",
       "</style>\n",
       "<table border=\"1\" class=\"dataframe\">\n",
       "  <thead>\n",
       "    <tr style=\"text-align: right;\">\n",
       "      <th></th>\n",
       "      <th>Year</th>\n",
       "      <th>City</th>\n",
       "      <th>Sport</th>\n",
       "      <th>Discipline</th>\n",
       "      <th>Athlete</th>\n",
       "      <th>Country</th>\n",
       "      <th>Gender</th>\n",
       "      <th>Event</th>\n",
       "      <th>Medal</th>\n",
       "      <th>Host_Country</th>\n",
       "    </tr>\n",
       "  </thead>\n",
       "  <tbody>\n",
       "    <tr>\n",
       "      <th>4196</th>\n",
       "      <td>1924</td>\n",
       "      <td>Paris</td>\n",
       "      <td>Aquatics</td>\n",
       "      <td>Water polo</td>\n",
       "      <td>AUSTIN, Arthur</td>\n",
       "      <td>USA</td>\n",
       "      <td>Men</td>\n",
       "      <td>Water Polo</td>\n",
       "      <td>Bronze</td>\n",
       "      <td>France</td>\n",
       "    </tr>\n",
       "    <tr>\n",
       "      <th>11961</th>\n",
       "      <td>1968</td>\n",
       "      <td>Mexico</td>\n",
       "      <td>Athletics</td>\n",
       "      <td>Athletics</td>\n",
       "      <td>FOSBURY, Richard Douglas</td>\n",
       "      <td>USA</td>\n",
       "      <td>Men</td>\n",
       "      <td>High Jump</td>\n",
       "      <td>Gold</td>\n",
       "      <td>Mexico</td>\n",
       "    </tr>\n",
       "    <tr>\n",
       "      <th>11742</th>\n",
       "      <td>1968</td>\n",
       "      <td>Mexico</td>\n",
       "      <td>Aquatics</td>\n",
       "      <td>Swimming</td>\n",
       "      <td>WENDEN, Michael Vincent</td>\n",
       "      <td>AUS</td>\n",
       "      <td>Men</td>\n",
       "      <td>200M Freestyle</td>\n",
       "      <td>Gold</td>\n",
       "      <td>Mexico</td>\n",
       "    </tr>\n",
       "    <tr>\n",
       "      <th>13996</th>\n",
       "      <td>1976</td>\n",
       "      <td>Montreal</td>\n",
       "      <td>Aquatics</td>\n",
       "      <td>Swimming</td>\n",
       "      <td>MAC DONALD, Gary</td>\n",
       "      <td>CAN</td>\n",
       "      <td>Men</td>\n",
       "      <td>4X100M Medley Relay</td>\n",
       "      <td>Silver</td>\n",
       "      <td>Canada</td>\n",
       "    </tr>\n",
       "    <tr>\n",
       "      <th>16229</th>\n",
       "      <td>1980</td>\n",
       "      <td>Moscow</td>\n",
       "      <td>Rowing</td>\n",
       "      <td>Rowing</td>\n",
       "      <td>DMITRIENKO, Grigori</td>\n",
       "      <td>URS</td>\n",
       "      <td>Men</td>\n",
       "      <td>Eight With Coxswain (8+)</td>\n",
       "      <td>Bronze</td>\n",
       "      <td>Russia</td>\n",
       "    </tr>\n",
       "    <tr>\n",
       "      <th>19728</th>\n",
       "      <td>1992</td>\n",
       "      <td>Barcelona</td>\n",
       "      <td>Aquatics</td>\n",
       "      <td>Swimming</td>\n",
       "      <td>KULIKOV, Vladislav</td>\n",
       "      <td>EUN</td>\n",
       "      <td>Men</td>\n",
       "      <td>4X100M Medley Relay</td>\n",
       "      <td>Silver</td>\n",
       "      <td>Spain</td>\n",
       "    </tr>\n",
       "    <tr>\n",
       "      <th>25901</th>\n",
       "      <td>2004</td>\n",
       "      <td>Athens</td>\n",
       "      <td>Boxing</td>\n",
       "      <td>Boxing</td>\n",
       "      <td>YELEUOV, Serik</td>\n",
       "      <td>KAZ</td>\n",
       "      <td>Men</td>\n",
       "      <td>57 - 60KG (Lightweight)</td>\n",
       "      <td>Bronze</td>\n",
       "      <td>Greece</td>\n",
       "    </tr>\n",
       "  </tbody>\n",
       "</table>\n",
       "</div>"
      ],
      "text/plain": [
       "       Year       City      Sport  Discipline                   Athlete  \\\n",
       "4196   1924      Paris   Aquatics  Water polo            AUSTIN, Arthur   \n",
       "11961  1968     Mexico  Athletics   Athletics  FOSBURY, Richard Douglas   \n",
       "11742  1968     Mexico   Aquatics    Swimming   WENDEN, Michael Vincent   \n",
       "13996  1976   Montreal   Aquatics    Swimming          MAC DONALD, Gary   \n",
       "16229  1980     Moscow     Rowing      Rowing       DMITRIENKO, Grigori   \n",
       "19728  1992  Barcelona   Aquatics    Swimming        KULIKOV, Vladislav   \n",
       "25901  2004     Athens     Boxing      Boxing            YELEUOV, Serik   \n",
       "\n",
       "      Country Gender                     Event   Medal Host_Country  \n",
       "4196      USA    Men                Water Polo  Bronze       France  \n",
       "11961     USA    Men                 High Jump    Gold       Mexico  \n",
       "11742     AUS    Men            200M Freestyle    Gold       Mexico  \n",
       "13996     CAN    Men       4X100M Medley Relay  Silver       Canada  \n",
       "16229     URS    Men  Eight With Coxswain (8+)  Bronze       Russia  \n",
       "19728     EUN    Men       4X100M Medley Relay  Silver        Spain  \n",
       "25901     KAZ    Men   57 - 60KG (Lightweight)  Bronze       Greece  "
      ]
     },
     "execution_count": 474,
     "metadata": {},
     "output_type": "execute_result"
    }
   ],
   "source": [
    "sample"
   ]
  },
  {
   "cell_type": "code",
   "execution_count": 475,
   "id": "a72f2c9b",
   "metadata": {
    "ExecuteTime": {
     "end_time": "2022-10-03T14:33:25.431525Z",
     "start_time": "2022-10-03T14:33:25.404598Z"
    }
   },
   "outputs": [
    {
     "data": {
      "text/html": [
       "<div>\n",
       "<style scoped>\n",
       "    .dataframe tbody tr th:only-of-type {\n",
       "        vertical-align: middle;\n",
       "    }\n",
       "\n",
       "    .dataframe tbody tr th {\n",
       "        vertical-align: top;\n",
       "    }\n",
       "\n",
       "    .dataframe thead th {\n",
       "        text-align: right;\n",
       "    }\n",
       "</style>\n",
       "<table border=\"1\" class=\"dataframe\">\n",
       "  <thead>\n",
       "    <tr style=\"text-align: right;\">\n",
       "      <th></th>\n",
       "      <th>survived</th>\n",
       "      <th>pclass</th>\n",
       "      <th>sex</th>\n",
       "      <th>age</th>\n",
       "      <th>fare</th>\n",
       "      <th>embarked</th>\n",
       "      <th>no_relat</th>\n",
       "    </tr>\n",
       "  </thead>\n",
       "  <tbody>\n",
       "    <tr>\n",
       "      <th>0</th>\n",
       "      <td>0</td>\n",
       "      <td>3</td>\n",
       "      <td>male</td>\n",
       "      <td>22.0</td>\n",
       "      <td>7.2500</td>\n",
       "      <td>S</td>\n",
       "      <td>1</td>\n",
       "    </tr>\n",
       "    <tr>\n",
       "      <th>1</th>\n",
       "      <td>1</td>\n",
       "      <td>1</td>\n",
       "      <td>female</td>\n",
       "      <td>38.0</td>\n",
       "      <td>71.2833</td>\n",
       "      <td>C</td>\n",
       "      <td>1</td>\n",
       "    </tr>\n",
       "    <tr>\n",
       "      <th>2</th>\n",
       "      <td>1</td>\n",
       "      <td>3</td>\n",
       "      <td>female</td>\n",
       "      <td>26.0</td>\n",
       "      <td>7.9250</td>\n",
       "      <td>S</td>\n",
       "      <td>0</td>\n",
       "    </tr>\n",
       "    <tr>\n",
       "      <th>3</th>\n",
       "      <td>1</td>\n",
       "      <td>1</td>\n",
       "      <td>female</td>\n",
       "      <td>35.0</td>\n",
       "      <td>53.1000</td>\n",
       "      <td>S</td>\n",
       "      <td>1</td>\n",
       "    </tr>\n",
       "    <tr>\n",
       "      <th>4</th>\n",
       "      <td>0</td>\n",
       "      <td>3</td>\n",
       "      <td>male</td>\n",
       "      <td>35.0</td>\n",
       "      <td>8.0500</td>\n",
       "      <td>S</td>\n",
       "      <td>0</td>\n",
       "    </tr>\n",
       "  </tbody>\n",
       "</table>\n",
       "</div>"
      ],
      "text/plain": [
       "   survived  pclass     sex   age     fare embarked  no_relat\n",
       "0         0       3    male  22.0   7.2500        S         1\n",
       "1         1       1  female  38.0  71.2833        C         1\n",
       "2         1       3  female  26.0   7.9250        S         0\n",
       "3         1       1  female  35.0  53.1000        S         1\n",
       "4         0       3    male  35.0   8.0500        S         0"
      ]
     },
     "execution_count": 475,
     "metadata": {},
     "output_type": "execute_result"
    }
   ],
   "source": [
    "titanic.head()"
   ]
  },
  {
   "cell_type": "code",
   "execution_count": 476,
   "id": "82b61b10",
   "metadata": {
    "ExecuteTime": {
     "end_time": "2022-10-03T14:33:25.446595Z",
     "start_time": "2022-10-03T14:33:25.433593Z"
    }
   },
   "outputs": [],
   "source": [
    "mapper = {1:\"First\", 2:\"Second\", 3:\"Third\"}"
   ]
  },
  {
   "cell_type": "code",
   "execution_count": 477,
   "id": "cc0a21db",
   "metadata": {
    "ExecuteTime": {
     "end_time": "2022-10-03T14:33:25.461589Z",
     "start_time": "2022-10-03T14:33:25.448528Z"
    }
   },
   "outputs": [
    {
     "data": {
      "text/plain": [
       "0       Third\n",
       "1       First\n",
       "2       Third\n",
       "3       First\n",
       "4       Third\n",
       "        ...  \n",
       "886    Second\n",
       "887     First\n",
       "888     Third\n",
       "889     First\n",
       "890     Third\n",
       "Name: pclass, Length: 891, dtype: object"
      ]
     },
     "execution_count": 477,
     "metadata": {},
     "output_type": "execute_result"
    }
   ],
   "source": [
    "titanic.pclass.map(mapper)"
   ]
  },
  {
   "cell_type": "code",
   "execution_count": 478,
   "id": "e2363494",
   "metadata": {
    "ExecuteTime": {
     "end_time": "2022-10-03T14:33:25.476973Z",
     "start_time": "2022-10-03T14:33:25.464531Z"
    }
   },
   "outputs": [],
   "source": [
    "titanic.pclass = titanic.pclass.map(mapper)"
   ]
  },
  {
   "cell_type": "code",
   "execution_count": 479,
   "id": "fb69ccaa",
   "metadata": {
    "ExecuteTime": {
     "end_time": "2022-10-03T14:33:25.507069Z",
     "start_time": "2022-10-03T14:33:25.479802Z"
    }
   },
   "outputs": [
    {
     "data": {
      "text/html": [
       "<div>\n",
       "<style scoped>\n",
       "    .dataframe tbody tr th:only-of-type {\n",
       "        vertical-align: middle;\n",
       "    }\n",
       "\n",
       "    .dataframe tbody tr th {\n",
       "        vertical-align: top;\n",
       "    }\n",
       "\n",
       "    .dataframe thead th {\n",
       "        text-align: right;\n",
       "    }\n",
       "</style>\n",
       "<table border=\"1\" class=\"dataframe\">\n",
       "  <thead>\n",
       "    <tr style=\"text-align: right;\">\n",
       "      <th></th>\n",
       "      <th>survived</th>\n",
       "      <th>pclass</th>\n",
       "      <th>sex</th>\n",
       "      <th>age</th>\n",
       "      <th>fare</th>\n",
       "      <th>embarked</th>\n",
       "      <th>no_relat</th>\n",
       "    </tr>\n",
       "  </thead>\n",
       "  <tbody>\n",
       "    <tr>\n",
       "      <th>0</th>\n",
       "      <td>0</td>\n",
       "      <td>Third</td>\n",
       "      <td>male</td>\n",
       "      <td>22.0</td>\n",
       "      <td>7.2500</td>\n",
       "      <td>S</td>\n",
       "      <td>1</td>\n",
       "    </tr>\n",
       "    <tr>\n",
       "      <th>1</th>\n",
       "      <td>1</td>\n",
       "      <td>First</td>\n",
       "      <td>female</td>\n",
       "      <td>38.0</td>\n",
       "      <td>71.2833</td>\n",
       "      <td>C</td>\n",
       "      <td>1</td>\n",
       "    </tr>\n",
       "    <tr>\n",
       "      <th>2</th>\n",
       "      <td>1</td>\n",
       "      <td>Third</td>\n",
       "      <td>female</td>\n",
       "      <td>26.0</td>\n",
       "      <td>7.9250</td>\n",
       "      <td>S</td>\n",
       "      <td>0</td>\n",
       "    </tr>\n",
       "    <tr>\n",
       "      <th>3</th>\n",
       "      <td>1</td>\n",
       "      <td>First</td>\n",
       "      <td>female</td>\n",
       "      <td>35.0</td>\n",
       "      <td>53.1000</td>\n",
       "      <td>S</td>\n",
       "      <td>1</td>\n",
       "    </tr>\n",
       "    <tr>\n",
       "      <th>4</th>\n",
       "      <td>0</td>\n",
       "      <td>Third</td>\n",
       "      <td>male</td>\n",
       "      <td>35.0</td>\n",
       "      <td>8.0500</td>\n",
       "      <td>S</td>\n",
       "      <td>0</td>\n",
       "    </tr>\n",
       "  </tbody>\n",
       "</table>\n",
       "</div>"
      ],
      "text/plain": [
       "   survived pclass     sex   age     fare embarked  no_relat\n",
       "0         0  Third    male  22.0   7.2500        S         1\n",
       "1         1  First  female  38.0  71.2833        C         1\n",
       "2         1  Third  female  26.0   7.9250        S         0\n",
       "3         1  First  female  35.0  53.1000        S         1\n",
       "4         0  Third    male  35.0   8.0500        S         0"
      ]
     },
     "execution_count": 479,
     "metadata": {},
     "output_type": "execute_result"
    }
   ],
   "source": [
    "titanic.head()"
   ]
  },
  {
   "cell_type": "markdown",
   "id": "cc3e93b5",
   "metadata": {},
   "source": [
    "#### Conditional Transformation"
   ]
  },
  {
   "cell_type": "code",
   "execution_count": 480,
   "id": "c25d1d25",
   "metadata": {
    "ExecuteTime": {
     "end_time": "2022-10-03T14:33:25.536850Z",
     "start_time": "2022-10-03T14:33:25.510496Z"
    }
   },
   "outputs": [
    {
     "data": {
      "text/html": [
       "<div>\n",
       "<style scoped>\n",
       "    .dataframe tbody tr th:only-of-type {\n",
       "        vertical-align: middle;\n",
       "    }\n",
       "\n",
       "    .dataframe tbody tr th {\n",
       "        vertical-align: top;\n",
       "    }\n",
       "\n",
       "    .dataframe thead th {\n",
       "        text-align: right;\n",
       "    }\n",
       "</style>\n",
       "<table border=\"1\" class=\"dataframe\">\n",
       "  <thead>\n",
       "    <tr style=\"text-align: right;\">\n",
       "      <th></th>\n",
       "      <th>survived</th>\n",
       "      <th>pclass</th>\n",
       "      <th>sex</th>\n",
       "      <th>age</th>\n",
       "      <th>fare</th>\n",
       "      <th>embarked</th>\n",
       "      <th>no_relat</th>\n",
       "    </tr>\n",
       "  </thead>\n",
       "  <tbody>\n",
       "    <tr>\n",
       "      <th>0</th>\n",
       "      <td>0</td>\n",
       "      <td>Third</td>\n",
       "      <td>male</td>\n",
       "      <td>22.000000</td>\n",
       "      <td>7.2500</td>\n",
       "      <td>S</td>\n",
       "      <td>1</td>\n",
       "    </tr>\n",
       "    <tr>\n",
       "      <th>1</th>\n",
       "      <td>1</td>\n",
       "      <td>First</td>\n",
       "      <td>female</td>\n",
       "      <td>38.000000</td>\n",
       "      <td>71.2833</td>\n",
       "      <td>C</td>\n",
       "      <td>1</td>\n",
       "    </tr>\n",
       "    <tr>\n",
       "      <th>2</th>\n",
       "      <td>1</td>\n",
       "      <td>Third</td>\n",
       "      <td>female</td>\n",
       "      <td>26.000000</td>\n",
       "      <td>7.9250</td>\n",
       "      <td>S</td>\n",
       "      <td>0</td>\n",
       "    </tr>\n",
       "    <tr>\n",
       "      <th>3</th>\n",
       "      <td>1</td>\n",
       "      <td>First</td>\n",
       "      <td>female</td>\n",
       "      <td>35.000000</td>\n",
       "      <td>53.1000</td>\n",
       "      <td>S</td>\n",
       "      <td>1</td>\n",
       "    </tr>\n",
       "    <tr>\n",
       "      <th>4</th>\n",
       "      <td>0</td>\n",
       "      <td>Third</td>\n",
       "      <td>male</td>\n",
       "      <td>35.000000</td>\n",
       "      <td>8.0500</td>\n",
       "      <td>S</td>\n",
       "      <td>0</td>\n",
       "    </tr>\n",
       "    <tr>\n",
       "      <th>5</th>\n",
       "      <td>0</td>\n",
       "      <td>Third</td>\n",
       "      <td>male</td>\n",
       "      <td>29.699118</td>\n",
       "      <td>8.4583</td>\n",
       "      <td>Q</td>\n",
       "      <td>0</td>\n",
       "    </tr>\n",
       "    <tr>\n",
       "      <th>6</th>\n",
       "      <td>0</td>\n",
       "      <td>First</td>\n",
       "      <td>male</td>\n",
       "      <td>54.000000</td>\n",
       "      <td>51.8625</td>\n",
       "      <td>S</td>\n",
       "      <td>0</td>\n",
       "    </tr>\n",
       "    <tr>\n",
       "      <th>7</th>\n",
       "      <td>0</td>\n",
       "      <td>Third</td>\n",
       "      <td>male</td>\n",
       "      <td>2.000000</td>\n",
       "      <td>21.0750</td>\n",
       "      <td>S</td>\n",
       "      <td>4</td>\n",
       "    </tr>\n",
       "    <tr>\n",
       "      <th>8</th>\n",
       "      <td>1</td>\n",
       "      <td>Third</td>\n",
       "      <td>female</td>\n",
       "      <td>27.000000</td>\n",
       "      <td>11.1333</td>\n",
       "      <td>S</td>\n",
       "      <td>2</td>\n",
       "    </tr>\n",
       "    <tr>\n",
       "      <th>9</th>\n",
       "      <td>1</td>\n",
       "      <td>Second</td>\n",
       "      <td>female</td>\n",
       "      <td>14.000000</td>\n",
       "      <td>30.0708</td>\n",
       "      <td>C</td>\n",
       "      <td>1</td>\n",
       "    </tr>\n",
       "  </tbody>\n",
       "</table>\n",
       "</div>"
      ],
      "text/plain": [
       "   survived  pclass     sex        age     fare embarked  no_relat\n",
       "0         0   Third    male  22.000000   7.2500        S         1\n",
       "1         1   First  female  38.000000  71.2833        C         1\n",
       "2         1   Third  female  26.000000   7.9250        S         0\n",
       "3         1   First  female  35.000000  53.1000        S         1\n",
       "4         0   Third    male  35.000000   8.0500        S         0\n",
       "5         0   Third    male  29.699118   8.4583        Q         0\n",
       "6         0   First    male  54.000000  51.8625        S         0\n",
       "7         0   Third    male   2.000000  21.0750        S         4\n",
       "8         1   Third  female  27.000000  11.1333        S         2\n",
       "9         1  Second  female  14.000000  30.0708        C         1"
      ]
     },
     "execution_count": 480,
     "metadata": {},
     "output_type": "execute_result"
    }
   ],
   "source": [
    "titanic.head(10)"
   ]
  },
  {
   "cell_type": "code",
   "execution_count": 481,
   "id": "e15ceb7b",
   "metadata": {
    "ExecuteTime": {
     "end_time": "2022-10-03T14:33:25.551897Z",
     "start_time": "2022-10-03T14:33:25.540296Z"
    }
   },
   "outputs": [
    {
     "data": {
      "text/plain": [
       "0      False\n",
       "1      False\n",
       "2       True\n",
       "3      False\n",
       "4       True\n",
       "       ...  \n",
       "886     True\n",
       "887     True\n",
       "888    False\n",
       "889     True\n",
       "890     True\n",
       "Name: no_relat, Length: 891, dtype: bool"
      ]
     },
     "execution_count": 481,
     "metadata": {},
     "output_type": "execute_result"
    }
   ],
   "source": [
    "titanic.no_relat == 0"
   ]
  },
  {
   "cell_type": "code",
   "execution_count": 482,
   "id": "d5a1c0b9",
   "metadata": {
    "ExecuteTime": {
     "end_time": "2022-10-03T14:33:25.581950Z",
     "start_time": "2022-10-03T14:33:25.554899Z"
    }
   },
   "outputs": [
    {
     "data": {
      "text/plain": [
       "array(['No', 'No', 'Yes', 'No', 'Yes', 'Yes', 'Yes', 'No', 'No', 'No',\n",
       "       'No', 'Yes', 'Yes', 'No', 'Yes', 'Yes', 'No', 'Yes', 'No', 'Yes',\n",
       "       'Yes', 'Yes', 'Yes', 'Yes', 'No', 'No', 'Yes', 'No', 'Yes', 'Yes',\n",
       "       'Yes', 'No', 'Yes', 'Yes', 'No', 'No', 'Yes', 'Yes', 'No', 'No',\n",
       "       'No', 'No', 'Yes', 'No', 'Yes', 'Yes', 'No', 'Yes', 'No', 'No',\n",
       "       'No', 'Yes', 'No', 'No', 'No', 'Yes', 'Yes', 'Yes', 'No', 'No',\n",
       "       'Yes', 'Yes', 'No', 'No', 'Yes', 'No', 'Yes', 'Yes', 'No', 'No',\n",
       "       'Yes', 'No', 'Yes', 'No', 'Yes', 'Yes', 'Yes', 'Yes', 'No', 'Yes',\n",
       "       'Yes', 'Yes', 'Yes', 'Yes', 'Yes', 'No', 'No', 'Yes', 'No', 'Yes',\n",
       "       'Yes', 'Yes', 'No', 'No', 'Yes', 'Yes', 'Yes', 'No', 'No', 'No',\n",
       "       'Yes', 'Yes', 'No', 'Yes', 'No', 'Yes', 'Yes', 'Yes', 'Yes', 'No',\n",
       "       'Yes', 'No', 'Yes', 'No', 'Yes', 'Yes', 'Yes', 'No', 'No', 'No',\n",
       "       'No', 'Yes', 'No', 'Yes', 'No', 'No', 'Yes', 'Yes', 'No', 'Yes',\n",
       "       'Yes', 'Yes', 'No', 'No', 'Yes', 'Yes', 'No', 'No', 'Yes', 'Yes',\n",
       "       'No', 'Yes', 'No', 'Yes', 'Yes', 'No', 'Yes', 'No', 'No', 'Yes',\n",
       "       'Yes', 'No', 'Yes', 'No', 'Yes', 'No', 'Yes', 'Yes', 'Yes', 'No',\n",
       "       'No', 'Yes', 'Yes', 'Yes', 'No', 'No', 'No', 'No', 'Yes', 'Yes',\n",
       "       'Yes', 'No', 'No', 'Yes', 'Yes', 'No', 'No', 'Yes', 'Yes', 'Yes',\n",
       "       'No', 'Yes', 'No', 'No', 'No', 'Yes', 'No', 'Yes', 'No', 'Yes',\n",
       "       'Yes', 'Yes', 'No', 'No', 'Yes', 'Yes', 'Yes', 'No', 'Yes', 'Yes',\n",
       "       'Yes', 'No', 'Yes', 'Yes', 'Yes', 'No', 'No', 'Yes', 'Yes', 'Yes',\n",
       "       'Yes', 'Yes', 'Yes', 'Yes', 'No', 'No', 'Yes', 'No', 'Yes', 'Yes',\n",
       "       'Yes', 'Yes', 'Yes', 'Yes', 'No', 'Yes', 'Yes', 'Yes', 'Yes', 'No',\n",
       "       'No', 'Yes', 'Yes', 'No', 'Yes', 'Yes', 'No', 'No', 'Yes', 'Yes',\n",
       "       'No', 'No', 'Yes', 'Yes', 'Yes', 'No', 'Yes', 'No', 'No', 'No',\n",
       "       'Yes', 'No', 'Yes', 'No', 'No', 'No', 'Yes', 'Yes', 'Yes', 'No',\n",
       "       'Yes', 'No', 'No', 'Yes', 'Yes', 'Yes', 'No', 'No', 'No', 'Yes',\n",
       "       'Yes', 'Yes', 'No', 'No', 'Yes', 'No', 'Yes', 'Yes', 'No', 'No',\n",
       "       'Yes', 'Yes', 'Yes', 'Yes', 'Yes', 'Yes', 'Yes', 'Yes', 'Yes',\n",
       "       'Yes', 'Yes', 'No', 'Yes', 'Yes', 'Yes', 'Yes', 'Yes', 'No', 'Yes',\n",
       "       'No', 'Yes', 'No', 'Yes', 'Yes', 'Yes', 'No', 'Yes', 'No', 'No',\n",
       "       'Yes', 'Yes', 'No', 'No', 'Yes', 'No', 'Yes', 'No', 'Yes', 'No',\n",
       "       'No', 'Yes', 'Yes', 'Yes', 'No', 'No', 'Yes', 'Yes', 'Yes', 'No',\n",
       "       'No', 'No', 'Yes', 'No', 'No', 'No', 'Yes', 'No', 'Yes', 'Yes',\n",
       "       'Yes', 'No', 'No', 'Yes', 'Yes', 'Yes', 'Yes', 'Yes', 'No', 'No',\n",
       "       'Yes', 'Yes', 'Yes', 'No', 'No', 'Yes', 'Yes', 'No', 'Yes', 'Yes',\n",
       "       'Yes', 'No', 'No', 'No', 'Yes', 'No', 'Yes', 'No', 'Yes', 'Yes',\n",
       "       'Yes', 'No', 'No', 'Yes', 'Yes', 'No', 'No', 'Yes', 'No', 'Yes',\n",
       "       'Yes', 'Yes', 'No', 'Yes', 'No', 'Yes', 'Yes', 'No', 'Yes', 'Yes',\n",
       "       'Yes', 'No', 'Yes', 'No', 'No', 'No', 'Yes', 'Yes', 'Yes', 'Yes',\n",
       "       'Yes', 'Yes', 'Yes', 'No', 'No', 'Yes', 'No', 'Yes', 'No', 'Yes',\n",
       "       'No', 'Yes', 'Yes', 'No', 'Yes', 'Yes', 'Yes', 'No', 'No', 'Yes',\n",
       "       'No', 'Yes', 'Yes', 'Yes', 'No', 'No', 'Yes', 'No', 'Yes', 'Yes',\n",
       "       'Yes', 'Yes', 'No', 'No', 'Yes', 'No', 'No', 'No', 'No', 'No',\n",
       "       'Yes', 'No', 'Yes', 'No', 'Yes', 'Yes', 'No', 'No', 'Yes', 'No',\n",
       "       'Yes', 'No', 'No', 'Yes', 'No', 'Yes', 'Yes', 'Yes', 'No', 'Yes',\n",
       "       'Yes', 'Yes', 'Yes', 'Yes', 'Yes', 'Yes', 'Yes', 'Yes', 'Yes',\n",
       "       'Yes', 'No', 'Yes', 'Yes', 'No', 'Yes', 'Yes', 'Yes', 'No', 'No',\n",
       "       'Yes', 'No', 'No', 'Yes', 'Yes', 'Yes', 'No', 'No', 'No', 'Yes',\n",
       "       'Yes', 'No', 'No', 'Yes', 'Yes', 'Yes', 'Yes', 'Yes', 'No', 'Yes',\n",
       "       'No', 'Yes', 'Yes', 'Yes', 'Yes', 'Yes', 'Yes', 'No', 'No', 'Yes',\n",
       "       'Yes', 'Yes', 'Yes', 'Yes', 'Yes', 'No', 'Yes', 'Yes', 'Yes',\n",
       "       'Yes', 'No', 'Yes', 'Yes', 'Yes', 'Yes', 'No', 'Yes', 'Yes', 'Yes',\n",
       "       'Yes', 'Yes', 'No', 'No', 'Yes', 'No', 'No', 'Yes', 'No', 'Yes',\n",
       "       'Yes', 'Yes', 'No', 'No', 'No', 'No', 'No', 'No', 'Yes', 'No',\n",
       "       'Yes', 'No', 'No', 'No', 'Yes', 'Yes', 'Yes', 'Yes', 'Yes', 'No',\n",
       "       'Yes', 'No', 'No', 'Yes', 'Yes', 'Yes', 'Yes', 'Yes', 'No', 'Yes',\n",
       "       'No', 'Yes', 'Yes', 'Yes', 'No', 'Yes', 'Yes', 'Yes', 'Yes', 'Yes',\n",
       "       'No', 'No', 'Yes', 'No', 'No', 'Yes', 'Yes', 'Yes', 'No', 'Yes',\n",
       "       'No', 'Yes', 'Yes', 'Yes', 'No', 'Yes', 'No', 'No', 'No', 'Yes',\n",
       "       'Yes', 'Yes', 'No', 'No', 'Yes', 'Yes', 'Yes', 'Yes', 'No', 'Yes',\n",
       "       'Yes', 'No', 'Yes', 'No', 'Yes', 'No', 'Yes', 'Yes', 'No', 'No',\n",
       "       'No', 'No', 'Yes', 'No', 'No', 'No', 'Yes', 'Yes', 'Yes', 'Yes',\n",
       "       'Yes', 'Yes', 'Yes', 'Yes', 'Yes', 'Yes', 'Yes', 'No', 'Yes',\n",
       "       'Yes', 'No', 'No', 'No', 'Yes', 'Yes', 'No', 'Yes', 'No', 'No',\n",
       "       'Yes', 'Yes', 'Yes', 'Yes', 'Yes', 'No', 'Yes', 'Yes', 'Yes', 'No',\n",
       "       'Yes', 'No', 'Yes', 'No', 'No', 'Yes', 'Yes', 'Yes', 'No', 'No',\n",
       "       'Yes', 'Yes', 'Yes', 'No', 'No', 'No', 'Yes', 'Yes', 'Yes', 'Yes',\n",
       "       'Yes', 'Yes', 'No', 'No', 'Yes', 'Yes', 'Yes', 'No', 'No', 'No',\n",
       "       'No', 'Yes', 'Yes', 'No', 'No', 'No', 'Yes', 'Yes', 'Yes', 'Yes',\n",
       "       'Yes', 'Yes', 'No', 'Yes', 'No', 'Yes', 'No', 'Yes', 'No', 'Yes',\n",
       "       'Yes', 'Yes', 'Yes', 'No', 'Yes', 'Yes', 'No', 'Yes', 'Yes', 'Yes',\n",
       "       'Yes', 'Yes', 'Yes', 'Yes', 'No', 'No', 'Yes', 'Yes', 'No', 'Yes',\n",
       "       'No', 'Yes', 'No', 'No', 'Yes', 'Yes', 'Yes', 'Yes', 'Yes', 'Yes',\n",
       "       'No', 'Yes', 'Yes', 'Yes', 'Yes', 'No', 'No', 'No', 'Yes', 'No',\n",
       "       'No', 'Yes', 'No', 'Yes', 'No', 'No', 'Yes', 'Yes', 'No', 'No',\n",
       "       'Yes', 'Yes', 'Yes', 'Yes', 'Yes', 'Yes', 'Yes', 'No', 'Yes', 'No',\n",
       "       'Yes', 'Yes', 'No', 'Yes', 'Yes', 'Yes', 'Yes', 'Yes', 'No', 'Yes',\n",
       "       'Yes', 'Yes', 'Yes', 'No', 'Yes', 'No', 'Yes', 'No', 'Yes', 'Yes',\n",
       "       'Yes', 'No', 'No', 'Yes', 'Yes', 'Yes', 'No', 'Yes', 'Yes', 'Yes',\n",
       "       'Yes', 'Yes', 'Yes', 'No', 'Yes', 'No', 'No', 'No', 'Yes', 'Yes',\n",
       "       'Yes', 'Yes', 'Yes', 'No', 'Yes', 'Yes', 'Yes', 'No', 'Yes', 'Yes',\n",
       "       'Yes', 'No', 'Yes', 'No', 'No', 'Yes', 'Yes', 'No', 'No', 'Yes',\n",
       "       'Yes', 'No', 'Yes', 'Yes', 'No', 'No', 'Yes', 'Yes', 'Yes', 'No',\n",
       "       'Yes', 'Yes', 'Yes', 'Yes', 'Yes', 'Yes', 'Yes', 'Yes', 'Yes',\n",
       "       'Yes', 'No', 'Yes', 'No', 'No', 'No', 'Yes', 'No', 'No', 'No',\n",
       "       'No', 'No', 'Yes', 'No', 'Yes', 'No', 'No', 'Yes', 'No', 'Yes',\n",
       "       'Yes', 'No', 'Yes', 'Yes', 'No', 'Yes', 'No', 'Yes', 'Yes', 'No',\n",
       "       'Yes', 'Yes', 'Yes', 'Yes', 'No', 'No', 'Yes', 'Yes', 'Yes', 'Yes',\n",
       "       'No', 'Yes', 'Yes', 'No', 'Yes', 'Yes'], dtype='<U3')"
      ]
     },
     "execution_count": 482,
     "metadata": {},
     "output_type": "execute_result"
    }
   ],
   "source": [
    "np.where(titanic.no_relat == 0, \"Yes\", \"No\")"
   ]
  },
  {
   "cell_type": "code",
   "execution_count": 483,
   "id": "404b447e",
   "metadata": {
    "ExecuteTime": {
     "end_time": "2022-10-03T14:33:25.597262Z",
     "start_time": "2022-10-03T14:33:25.584948Z"
    }
   },
   "outputs": [],
   "source": [
    "titanic[\"alone\"] = pd.Series(np.where(titanic.no_relat == 0, \"Yes\", \"No\"))"
   ]
  },
  {
   "cell_type": "code",
   "execution_count": 484,
   "id": "331ed5a4",
   "metadata": {
    "ExecuteTime": {
     "end_time": "2022-10-03T14:33:25.627064Z",
     "start_time": "2022-10-03T14:33:25.601116Z"
    }
   },
   "outputs": [
    {
     "data": {
      "text/html": [
       "<div>\n",
       "<style scoped>\n",
       "    .dataframe tbody tr th:only-of-type {\n",
       "        vertical-align: middle;\n",
       "    }\n",
       "\n",
       "    .dataframe tbody tr th {\n",
       "        vertical-align: top;\n",
       "    }\n",
       "\n",
       "    .dataframe thead th {\n",
       "        text-align: right;\n",
       "    }\n",
       "</style>\n",
       "<table border=\"1\" class=\"dataframe\">\n",
       "  <thead>\n",
       "    <tr style=\"text-align: right;\">\n",
       "      <th></th>\n",
       "      <th>survived</th>\n",
       "      <th>pclass</th>\n",
       "      <th>sex</th>\n",
       "      <th>age</th>\n",
       "      <th>fare</th>\n",
       "      <th>embarked</th>\n",
       "      <th>no_relat</th>\n",
       "      <th>alone</th>\n",
       "    </tr>\n",
       "  </thead>\n",
       "  <tbody>\n",
       "    <tr>\n",
       "      <th>0</th>\n",
       "      <td>0</td>\n",
       "      <td>Third</td>\n",
       "      <td>male</td>\n",
       "      <td>22.0</td>\n",
       "      <td>7.2500</td>\n",
       "      <td>S</td>\n",
       "      <td>1</td>\n",
       "      <td>No</td>\n",
       "    </tr>\n",
       "    <tr>\n",
       "      <th>1</th>\n",
       "      <td>1</td>\n",
       "      <td>First</td>\n",
       "      <td>female</td>\n",
       "      <td>38.0</td>\n",
       "      <td>71.2833</td>\n",
       "      <td>C</td>\n",
       "      <td>1</td>\n",
       "      <td>No</td>\n",
       "    </tr>\n",
       "    <tr>\n",
       "      <th>2</th>\n",
       "      <td>1</td>\n",
       "      <td>Third</td>\n",
       "      <td>female</td>\n",
       "      <td>26.0</td>\n",
       "      <td>7.9250</td>\n",
       "      <td>S</td>\n",
       "      <td>0</td>\n",
       "      <td>Yes</td>\n",
       "    </tr>\n",
       "    <tr>\n",
       "      <th>3</th>\n",
       "      <td>1</td>\n",
       "      <td>First</td>\n",
       "      <td>female</td>\n",
       "      <td>35.0</td>\n",
       "      <td>53.1000</td>\n",
       "      <td>S</td>\n",
       "      <td>1</td>\n",
       "      <td>No</td>\n",
       "    </tr>\n",
       "    <tr>\n",
       "      <th>4</th>\n",
       "      <td>0</td>\n",
       "      <td>Third</td>\n",
       "      <td>male</td>\n",
       "      <td>35.0</td>\n",
       "      <td>8.0500</td>\n",
       "      <td>S</td>\n",
       "      <td>0</td>\n",
       "      <td>Yes</td>\n",
       "    </tr>\n",
       "  </tbody>\n",
       "</table>\n",
       "</div>"
      ],
      "text/plain": [
       "   survived pclass     sex   age     fare embarked  no_relat alone\n",
       "0         0  Third    male  22.0   7.2500        S         1    No\n",
       "1         1  First  female  38.0  71.2833        C         1    No\n",
       "2         1  Third  female  26.0   7.9250        S         0   Yes\n",
       "3         1  First  female  35.0  53.1000        S         1    No\n",
       "4         0  Third    male  35.0   8.0500        S         0   Yes"
      ]
     },
     "execution_count": 484,
     "metadata": {},
     "output_type": "execute_result"
    }
   ],
   "source": [
    "titanic.head()"
   ]
  },
  {
   "cell_type": "code",
   "execution_count": 485,
   "id": "ef372be9",
   "metadata": {
    "ExecuteTime": {
     "end_time": "2022-10-03T14:33:25.642417Z",
     "start_time": "2022-10-03T14:33:25.632318Z"
    }
   },
   "outputs": [],
   "source": [
    "titanic[\"child\"] = pd.Series(np.where(titanic.age < 18, \"Yes\", \"No\"))"
   ]
  },
  {
   "cell_type": "code",
   "execution_count": 486,
   "id": "a52d80da",
   "metadata": {
    "ExecuteTime": {
     "end_time": "2022-10-03T14:33:25.687590Z",
     "start_time": "2022-10-03T14:33:25.647327Z"
    }
   },
   "outputs": [
    {
     "data": {
      "text/html": [
       "<div>\n",
       "<style scoped>\n",
       "    .dataframe tbody tr th:only-of-type {\n",
       "        vertical-align: middle;\n",
       "    }\n",
       "\n",
       "    .dataframe tbody tr th {\n",
       "        vertical-align: top;\n",
       "    }\n",
       "\n",
       "    .dataframe thead th {\n",
       "        text-align: right;\n",
       "    }\n",
       "</style>\n",
       "<table border=\"1\" class=\"dataframe\">\n",
       "  <thead>\n",
       "    <tr style=\"text-align: right;\">\n",
       "      <th></th>\n",
       "      <th>survived</th>\n",
       "      <th>pclass</th>\n",
       "      <th>sex</th>\n",
       "      <th>age</th>\n",
       "      <th>fare</th>\n",
       "      <th>embarked</th>\n",
       "      <th>no_relat</th>\n",
       "      <th>alone</th>\n",
       "      <th>child</th>\n",
       "    </tr>\n",
       "  </thead>\n",
       "  <tbody>\n",
       "    <tr>\n",
       "      <th>0</th>\n",
       "      <td>0</td>\n",
       "      <td>Third</td>\n",
       "      <td>male</td>\n",
       "      <td>22.000000</td>\n",
       "      <td>7.2500</td>\n",
       "      <td>S</td>\n",
       "      <td>1</td>\n",
       "      <td>No</td>\n",
       "      <td>No</td>\n",
       "    </tr>\n",
       "    <tr>\n",
       "      <th>1</th>\n",
       "      <td>1</td>\n",
       "      <td>First</td>\n",
       "      <td>female</td>\n",
       "      <td>38.000000</td>\n",
       "      <td>71.2833</td>\n",
       "      <td>C</td>\n",
       "      <td>1</td>\n",
       "      <td>No</td>\n",
       "      <td>No</td>\n",
       "    </tr>\n",
       "    <tr>\n",
       "      <th>2</th>\n",
       "      <td>1</td>\n",
       "      <td>Third</td>\n",
       "      <td>female</td>\n",
       "      <td>26.000000</td>\n",
       "      <td>7.9250</td>\n",
       "      <td>S</td>\n",
       "      <td>0</td>\n",
       "      <td>Yes</td>\n",
       "      <td>No</td>\n",
       "    </tr>\n",
       "    <tr>\n",
       "      <th>3</th>\n",
       "      <td>1</td>\n",
       "      <td>First</td>\n",
       "      <td>female</td>\n",
       "      <td>35.000000</td>\n",
       "      <td>53.1000</td>\n",
       "      <td>S</td>\n",
       "      <td>1</td>\n",
       "      <td>No</td>\n",
       "      <td>No</td>\n",
       "    </tr>\n",
       "    <tr>\n",
       "      <th>4</th>\n",
       "      <td>0</td>\n",
       "      <td>Third</td>\n",
       "      <td>male</td>\n",
       "      <td>35.000000</td>\n",
       "      <td>8.0500</td>\n",
       "      <td>S</td>\n",
       "      <td>0</td>\n",
       "      <td>Yes</td>\n",
       "      <td>No</td>\n",
       "    </tr>\n",
       "    <tr>\n",
       "      <th>5</th>\n",
       "      <td>0</td>\n",
       "      <td>Third</td>\n",
       "      <td>male</td>\n",
       "      <td>29.699118</td>\n",
       "      <td>8.4583</td>\n",
       "      <td>Q</td>\n",
       "      <td>0</td>\n",
       "      <td>Yes</td>\n",
       "      <td>No</td>\n",
       "    </tr>\n",
       "    <tr>\n",
       "      <th>6</th>\n",
       "      <td>0</td>\n",
       "      <td>First</td>\n",
       "      <td>male</td>\n",
       "      <td>54.000000</td>\n",
       "      <td>51.8625</td>\n",
       "      <td>S</td>\n",
       "      <td>0</td>\n",
       "      <td>Yes</td>\n",
       "      <td>No</td>\n",
       "    </tr>\n",
       "    <tr>\n",
       "      <th>7</th>\n",
       "      <td>0</td>\n",
       "      <td>Third</td>\n",
       "      <td>male</td>\n",
       "      <td>2.000000</td>\n",
       "      <td>21.0750</td>\n",
       "      <td>S</td>\n",
       "      <td>4</td>\n",
       "      <td>No</td>\n",
       "      <td>Yes</td>\n",
       "    </tr>\n",
       "    <tr>\n",
       "      <th>8</th>\n",
       "      <td>1</td>\n",
       "      <td>Third</td>\n",
       "      <td>female</td>\n",
       "      <td>27.000000</td>\n",
       "      <td>11.1333</td>\n",
       "      <td>S</td>\n",
       "      <td>2</td>\n",
       "      <td>No</td>\n",
       "      <td>No</td>\n",
       "    </tr>\n",
       "    <tr>\n",
       "      <th>9</th>\n",
       "      <td>1</td>\n",
       "      <td>Second</td>\n",
       "      <td>female</td>\n",
       "      <td>14.000000</td>\n",
       "      <td>30.0708</td>\n",
       "      <td>C</td>\n",
       "      <td>1</td>\n",
       "      <td>No</td>\n",
       "      <td>Yes</td>\n",
       "    </tr>\n",
       "  </tbody>\n",
       "</table>\n",
       "</div>"
      ],
      "text/plain": [
       "   survived  pclass     sex        age     fare embarked  no_relat alone child\n",
       "0         0   Third    male  22.000000   7.2500        S         1    No    No\n",
       "1         1   First  female  38.000000  71.2833        C         1    No    No\n",
       "2         1   Third  female  26.000000   7.9250        S         0   Yes    No\n",
       "3         1   First  female  35.000000  53.1000        S         1    No    No\n",
       "4         0   Third    male  35.000000   8.0500        S         0   Yes    No\n",
       "5         0   Third    male  29.699118   8.4583        Q         0   Yes    No\n",
       "6         0   First    male  54.000000  51.8625        S         0   Yes    No\n",
       "7         0   Third    male   2.000000  21.0750        S         4    No   Yes\n",
       "8         1   Third  female  27.000000  11.1333        S         2    No    No\n",
       "9         1  Second  female  14.000000  30.0708        C         1    No   Yes"
      ]
     },
     "execution_count": 486,
     "metadata": {},
     "output_type": "execute_result"
    }
   ],
   "source": [
    "titanic.head(10)"
   ]
  },
  {
   "cell_type": "markdown",
   "id": "f2fbe75c",
   "metadata": {},
   "source": [
    "#### Discretization and Binning with pd.cut() - 연속적인 데이터를 특정 구간으로 나누기"
   ]
  },
  {
   "cell_type": "code",
   "execution_count": 487,
   "id": "676de038",
   "metadata": {
    "ExecuteTime": {
     "end_time": "2022-10-03T14:33:25.732323Z",
     "start_time": "2022-10-03T14:33:25.692322Z"
    }
   },
   "outputs": [
    {
     "data": {
      "text/html": [
       "<div>\n",
       "<style scoped>\n",
       "    .dataframe tbody tr th:only-of-type {\n",
       "        vertical-align: middle;\n",
       "    }\n",
       "\n",
       "    .dataframe tbody tr th {\n",
       "        vertical-align: top;\n",
       "    }\n",
       "\n",
       "    .dataframe thead th {\n",
       "        text-align: right;\n",
       "    }\n",
       "</style>\n",
       "<table border=\"1\" class=\"dataframe\">\n",
       "  <thead>\n",
       "    <tr style=\"text-align: right;\">\n",
       "      <th></th>\n",
       "      <th>survived</th>\n",
       "      <th>pclass</th>\n",
       "      <th>sex</th>\n",
       "      <th>age</th>\n",
       "      <th>fare</th>\n",
       "      <th>embarked</th>\n",
       "      <th>no_relat</th>\n",
       "      <th>alone</th>\n",
       "      <th>child</th>\n",
       "    </tr>\n",
       "  </thead>\n",
       "  <tbody>\n",
       "    <tr>\n",
       "      <th>0</th>\n",
       "      <td>0</td>\n",
       "      <td>Third</td>\n",
       "      <td>male</td>\n",
       "      <td>22.0</td>\n",
       "      <td>7.2500</td>\n",
       "      <td>S</td>\n",
       "      <td>1</td>\n",
       "      <td>No</td>\n",
       "      <td>No</td>\n",
       "    </tr>\n",
       "    <tr>\n",
       "      <th>1</th>\n",
       "      <td>1</td>\n",
       "      <td>First</td>\n",
       "      <td>female</td>\n",
       "      <td>38.0</td>\n",
       "      <td>71.2833</td>\n",
       "      <td>C</td>\n",
       "      <td>1</td>\n",
       "      <td>No</td>\n",
       "      <td>No</td>\n",
       "    </tr>\n",
       "    <tr>\n",
       "      <th>2</th>\n",
       "      <td>1</td>\n",
       "      <td>Third</td>\n",
       "      <td>female</td>\n",
       "      <td>26.0</td>\n",
       "      <td>7.9250</td>\n",
       "      <td>S</td>\n",
       "      <td>0</td>\n",
       "      <td>Yes</td>\n",
       "      <td>No</td>\n",
       "    </tr>\n",
       "    <tr>\n",
       "      <th>3</th>\n",
       "      <td>1</td>\n",
       "      <td>First</td>\n",
       "      <td>female</td>\n",
       "      <td>35.0</td>\n",
       "      <td>53.1000</td>\n",
       "      <td>S</td>\n",
       "      <td>1</td>\n",
       "      <td>No</td>\n",
       "      <td>No</td>\n",
       "    </tr>\n",
       "    <tr>\n",
       "      <th>4</th>\n",
       "      <td>0</td>\n",
       "      <td>Third</td>\n",
       "      <td>male</td>\n",
       "      <td>35.0</td>\n",
       "      <td>8.0500</td>\n",
       "      <td>S</td>\n",
       "      <td>0</td>\n",
       "      <td>Yes</td>\n",
       "      <td>No</td>\n",
       "    </tr>\n",
       "  </tbody>\n",
       "</table>\n",
       "</div>"
      ],
      "text/plain": [
       "   survived pclass     sex   age     fare embarked  no_relat alone child\n",
       "0         0  Third    male  22.0   7.2500        S         1    No    No\n",
       "1         1  First  female  38.0  71.2833        C         1    No    No\n",
       "2         1  Third  female  26.0   7.9250        S         0   Yes    No\n",
       "3         1  First  female  35.0  53.1000        S         1    No    No\n",
       "4         0  Third    male  35.0   8.0500        S         0   Yes    No"
      ]
     },
     "execution_count": 487,
     "metadata": {},
     "output_type": "execute_result"
    }
   ],
   "source": [
    "titanic.head()"
   ]
  },
  {
   "cell_type": "code",
   "execution_count": 488,
   "id": "ae4454c6",
   "metadata": {
    "ExecuteTime": {
     "end_time": "2022-10-03T14:33:25.747322Z",
     "start_time": "2022-10-03T14:33:25.737324Z"
    }
   },
   "outputs": [],
   "source": [
    "age_bins = [0, 10, 18, 30, 55, 100]"
   ]
  },
  {
   "cell_type": "code",
   "execution_count": 489,
   "id": "6cd4d041",
   "metadata": {
    "ExecuteTime": {
     "end_time": "2022-10-03T14:33:25.777459Z",
     "start_time": "2022-10-03T14:33:25.752314Z"
    }
   },
   "outputs": [
    {
     "data": {
      "text/plain": [
       "0      [18, 30)\n",
       "1      [30, 55)\n",
       "2      [18, 30)\n",
       "3      [30, 55)\n",
       "4      [30, 55)\n",
       "         ...   \n",
       "886    [18, 30)\n",
       "887    [18, 30)\n",
       "888    [18, 30)\n",
       "889    [18, 30)\n",
       "890    [30, 55)\n",
       "Name: age, Length: 891, dtype: category\n",
       "Categories (5, interval[int64, left]): [[0, 10) < [10, 18) < [18, 30) < [30, 55) < [55, 100)]"
      ]
     },
     "execution_count": 489,
     "metadata": {},
     "output_type": "execute_result"
    }
   ],
   "source": [
    "pd.cut(titanic.age,age_bins, right=False) # 극우값 제외\n",
    "# 0~9, 10~17, 18~29 ..."
   ]
  },
  {
   "cell_type": "code",
   "execution_count": 490,
   "id": "7288f2d3",
   "metadata": {
    "ExecuteTime": {
     "end_time": "2022-10-03T14:33:25.807507Z",
     "start_time": "2022-10-03T14:33:25.782579Z"
    }
   },
   "outputs": [],
   "source": [
    "cats = pd.cut(titanic.age,age_bins, right=False)"
   ]
  },
  {
   "cell_type": "code",
   "execution_count": 491,
   "id": "7f363b20",
   "metadata": {
    "ExecuteTime": {
     "end_time": "2022-10-03T14:33:25.837316Z",
     "start_time": "2022-10-03T14:33:25.812318Z"
    }
   },
   "outputs": [
    {
     "data": {
      "text/plain": [
       "[18, 30)     448\n",
       "[30, 55)     288\n",
       "[0, 10)       62\n",
       "[10, 18)      51\n",
       "[55, 100)     42\n",
       "Name: age, dtype: int64"
      ]
     },
     "execution_count": 491,
     "metadata": {},
     "output_type": "execute_result"
    }
   ],
   "source": [
    "cats.value_counts()"
   ]
  },
  {
   "cell_type": "code",
   "execution_count": 492,
   "id": "d9588412",
   "metadata": {
    "ExecuteTime": {
     "end_time": "2022-10-03T14:33:25.852319Z",
     "start_time": "2022-10-03T14:33:25.842555Z"
    }
   },
   "outputs": [],
   "source": [
    "titanic[\"age_cat\"] = cats"
   ]
  },
  {
   "cell_type": "code",
   "execution_count": 493,
   "id": "d5895332",
   "metadata": {
    "ExecuteTime": {
     "end_time": "2022-10-03T14:33:25.897318Z",
     "start_time": "2022-10-03T14:33:25.858318Z"
    }
   },
   "outputs": [
    {
     "data": {
      "text/html": [
       "<div>\n",
       "<style scoped>\n",
       "    .dataframe tbody tr th:only-of-type {\n",
       "        vertical-align: middle;\n",
       "    }\n",
       "\n",
       "    .dataframe tbody tr th {\n",
       "        vertical-align: top;\n",
       "    }\n",
       "\n",
       "    .dataframe thead th {\n",
       "        text-align: right;\n",
       "    }\n",
       "</style>\n",
       "<table border=\"1\" class=\"dataframe\">\n",
       "  <thead>\n",
       "    <tr style=\"text-align: right;\">\n",
       "      <th></th>\n",
       "      <th>survived</th>\n",
       "      <th>pclass</th>\n",
       "      <th>sex</th>\n",
       "      <th>age</th>\n",
       "      <th>fare</th>\n",
       "      <th>embarked</th>\n",
       "      <th>no_relat</th>\n",
       "      <th>alone</th>\n",
       "      <th>child</th>\n",
       "      <th>age_cat</th>\n",
       "    </tr>\n",
       "  </thead>\n",
       "  <tbody>\n",
       "    <tr>\n",
       "      <th>0</th>\n",
       "      <td>0</td>\n",
       "      <td>Third</td>\n",
       "      <td>male</td>\n",
       "      <td>22.0</td>\n",
       "      <td>7.2500</td>\n",
       "      <td>S</td>\n",
       "      <td>1</td>\n",
       "      <td>No</td>\n",
       "      <td>No</td>\n",
       "      <td>[18, 30)</td>\n",
       "    </tr>\n",
       "    <tr>\n",
       "      <th>1</th>\n",
       "      <td>1</td>\n",
       "      <td>First</td>\n",
       "      <td>female</td>\n",
       "      <td>38.0</td>\n",
       "      <td>71.2833</td>\n",
       "      <td>C</td>\n",
       "      <td>1</td>\n",
       "      <td>No</td>\n",
       "      <td>No</td>\n",
       "      <td>[30, 55)</td>\n",
       "    </tr>\n",
       "    <tr>\n",
       "      <th>2</th>\n",
       "      <td>1</td>\n",
       "      <td>Third</td>\n",
       "      <td>female</td>\n",
       "      <td>26.0</td>\n",
       "      <td>7.9250</td>\n",
       "      <td>S</td>\n",
       "      <td>0</td>\n",
       "      <td>Yes</td>\n",
       "      <td>No</td>\n",
       "      <td>[18, 30)</td>\n",
       "    </tr>\n",
       "    <tr>\n",
       "      <th>3</th>\n",
       "      <td>1</td>\n",
       "      <td>First</td>\n",
       "      <td>female</td>\n",
       "      <td>35.0</td>\n",
       "      <td>53.1000</td>\n",
       "      <td>S</td>\n",
       "      <td>1</td>\n",
       "      <td>No</td>\n",
       "      <td>No</td>\n",
       "      <td>[30, 55)</td>\n",
       "    </tr>\n",
       "    <tr>\n",
       "      <th>4</th>\n",
       "      <td>0</td>\n",
       "      <td>Third</td>\n",
       "      <td>male</td>\n",
       "      <td>35.0</td>\n",
       "      <td>8.0500</td>\n",
       "      <td>S</td>\n",
       "      <td>0</td>\n",
       "      <td>Yes</td>\n",
       "      <td>No</td>\n",
       "      <td>[30, 55)</td>\n",
       "    </tr>\n",
       "  </tbody>\n",
       "</table>\n",
       "</div>"
      ],
      "text/plain": [
       "   survived pclass     sex   age     fare embarked  no_relat alone child  \\\n",
       "0         0  Third    male  22.0   7.2500        S         1    No    No   \n",
       "1         1  First  female  38.0  71.2833        C         1    No    No   \n",
       "2         1  Third  female  26.0   7.9250        S         0   Yes    No   \n",
       "3         1  First  female  35.0  53.1000        S         1    No    No   \n",
       "4         0  Third    male  35.0   8.0500        S         0   Yes    No   \n",
       "\n",
       "    age_cat  \n",
       "0  [18, 30)  \n",
       "1  [30, 55)  \n",
       "2  [18, 30)  \n",
       "3  [30, 55)  \n",
       "4  [30, 55)  "
      ]
     },
     "execution_count": 493,
     "metadata": {},
     "output_type": "execute_result"
    }
   ],
   "source": [
    "titanic.head()"
   ]
  },
  {
   "cell_type": "code",
   "execution_count": 494,
   "id": "cdac517d",
   "metadata": {
    "ExecuteTime": {
     "end_time": "2022-10-03T14:33:25.927155Z",
     "start_time": "2022-10-03T14:33:25.902319Z"
    }
   },
   "outputs": [
    {
     "data": {
      "text/plain": [
       "age_cat\n",
       "[0, 10)      0.612903\n",
       "[10, 18)     0.450980\n",
       "[18, 30)     0.328125\n",
       "[30, 55)     0.420139\n",
       "[55, 100)    0.309524\n",
       "Name: survived, dtype: float64"
      ]
     },
     "execution_count": 494,
     "metadata": {},
     "output_type": "execute_result"
    }
   ],
   "source": [
    "titanic.groupby(\"age_cat\").survived.mean()"
   ]
  },
  {
   "cell_type": "code",
   "execution_count": 495,
   "id": "cad7b523",
   "metadata": {
    "ExecuteTime": {
     "end_time": "2022-10-03T14:33:25.942311Z",
     "start_time": "2022-10-03T14:33:25.930311Z"
    }
   },
   "outputs": [],
   "source": [
    "group_names = [\"child\", \"teenager\", \"young_adult\", \"adult\", \"elderly\"]"
   ]
  },
  {
   "cell_type": "code",
   "execution_count": 496,
   "id": "261d2c4a",
   "metadata": {
    "ExecuteTime": {
     "end_time": "2022-10-03T14:33:25.957384Z",
     "start_time": "2022-10-03T14:33:25.945394Z"
    }
   },
   "outputs": [],
   "source": [
    "titanic[\"age_cat\"] = pd.cut(titanic.age, age_bins, right=False, labels=group_names)"
   ]
  },
  {
   "cell_type": "code",
   "execution_count": 497,
   "id": "15ddf49f",
   "metadata": {
    "ExecuteTime": {
     "end_time": "2022-10-03T14:33:25.972421Z",
     "start_time": "2022-10-03T14:33:25.960314Z"
    }
   },
   "outputs": [
    {
     "data": {
      "text/plain": [
       "0      young_adult\n",
       "1            adult\n",
       "2      young_adult\n",
       "3            adult\n",
       "4            adult\n",
       "          ...     \n",
       "886    young_adult\n",
       "887    young_adult\n",
       "888    young_adult\n",
       "889    young_adult\n",
       "890          adult\n",
       "Name: age_cat, Length: 891, dtype: category\n",
       "Categories (5, object): ['child' < 'teenager' < 'young_adult' < 'adult' < 'elderly']"
      ]
     },
     "execution_count": 497,
     "metadata": {},
     "output_type": "execute_result"
    }
   ],
   "source": [
    "titanic.age_cat"
   ]
  },
  {
   "cell_type": "markdown",
   "id": "cde77835",
   "metadata": {},
   "source": [
    "####  Discretization and Binning with pd.qcut() - 구간을 정하기 어려운 경우"
   ]
  },
  {
   "cell_type": "code",
   "execution_count": 498,
   "id": "e70a4b52",
   "metadata": {
    "ExecuteTime": {
     "end_time": "2022-10-03T14:33:25.987407Z",
     "start_time": "2022-10-03T14:33:25.975247Z"
    }
   },
   "outputs": [
    {
     "data": {
      "text/plain": [
       "0       7.2500\n",
       "1      71.2833\n",
       "2       7.9250\n",
       "3      53.1000\n",
       "4       8.0500\n",
       "        ...   \n",
       "886    13.0000\n",
       "887    30.0000\n",
       "888    23.4500\n",
       "889    30.0000\n",
       "890     7.7500\n",
       "Name: fare, Length: 891, dtype: float64"
      ]
     },
     "execution_count": 498,
     "metadata": {},
     "output_type": "execute_result"
    }
   ],
   "source": [
    "titanic.fare"
   ]
  },
  {
   "cell_type": "code",
   "execution_count": 499,
   "id": "bbe0959c",
   "metadata": {
    "ExecuteTime": {
     "end_time": "2022-10-03T14:33:26.002313Z",
     "start_time": "2022-10-03T14:33:25.990430Z"
    }
   },
   "outputs": [
    {
     "data": {
      "text/plain": [
       "0      (-1.0, 102.0]\n",
       "1      (-1.0, 102.0]\n",
       "2      (-1.0, 102.0]\n",
       "3      (-1.0, 102.0]\n",
       "4      (-1.0, 102.0]\n",
       "           ...      \n",
       "886    (-1.0, 102.0]\n",
       "887    (-1.0, 102.0]\n",
       "888    (-1.0, 102.0]\n",
       "889    (-1.0, 102.0]\n",
       "890    (-1.0, 102.0]\n",
       "Name: fare, Length: 891, dtype: category\n",
       "Categories (5, interval[float64, right]): [(-1.0, 102.0] < (102.0, 205.0] < (205.0, 307.0] < (307.0, 410.0] < (410.0, 512.0]]"
      ]
     },
     "execution_count": 499,
     "metadata": {},
     "output_type": "execute_result"
    }
   ],
   "source": [
    "# 막대의 개수 정하기\n",
    "pd.cut(titanic.fare, 5, precision=0)"
   ]
  },
  {
   "cell_type": "code",
   "execution_count": 500,
   "id": "1c0dfbf6",
   "metadata": {
    "ExecuteTime": {
     "end_time": "2022-10-03T14:33:26.017428Z",
     "start_time": "2022-10-03T14:33:26.005501Z"
    }
   },
   "outputs": [],
   "source": [
    "titanic[\"fare_cat\"] = pd.cut(titanic.fare,5,precision=0)"
   ]
  },
  {
   "cell_type": "code",
   "execution_count": 501,
   "id": "69eacc85",
   "metadata": {
    "ExecuteTime": {
     "end_time": "2022-10-03T14:33:26.047312Z",
     "start_time": "2022-10-03T14:33:26.020315Z"
    }
   },
   "outputs": [
    {
     "data": {
      "text/html": [
       "<div>\n",
       "<style scoped>\n",
       "    .dataframe tbody tr th:only-of-type {\n",
       "        vertical-align: middle;\n",
       "    }\n",
       "\n",
       "    .dataframe tbody tr th {\n",
       "        vertical-align: top;\n",
       "    }\n",
       "\n",
       "    .dataframe thead th {\n",
       "        text-align: right;\n",
       "    }\n",
       "</style>\n",
       "<table border=\"1\" class=\"dataframe\">\n",
       "  <thead>\n",
       "    <tr style=\"text-align: right;\">\n",
       "      <th></th>\n",
       "      <th>survived</th>\n",
       "      <th>pclass</th>\n",
       "      <th>sex</th>\n",
       "      <th>age</th>\n",
       "      <th>fare</th>\n",
       "      <th>embarked</th>\n",
       "      <th>no_relat</th>\n",
       "      <th>alone</th>\n",
       "      <th>child</th>\n",
       "      <th>age_cat</th>\n",
       "      <th>fare_cat</th>\n",
       "    </tr>\n",
       "  </thead>\n",
       "  <tbody>\n",
       "    <tr>\n",
       "      <th>0</th>\n",
       "      <td>0</td>\n",
       "      <td>Third</td>\n",
       "      <td>male</td>\n",
       "      <td>22.0</td>\n",
       "      <td>7.2500</td>\n",
       "      <td>S</td>\n",
       "      <td>1</td>\n",
       "      <td>No</td>\n",
       "      <td>No</td>\n",
       "      <td>young_adult</td>\n",
       "      <td>(-1.0, 102.0]</td>\n",
       "    </tr>\n",
       "    <tr>\n",
       "      <th>1</th>\n",
       "      <td>1</td>\n",
       "      <td>First</td>\n",
       "      <td>female</td>\n",
       "      <td>38.0</td>\n",
       "      <td>71.2833</td>\n",
       "      <td>C</td>\n",
       "      <td>1</td>\n",
       "      <td>No</td>\n",
       "      <td>No</td>\n",
       "      <td>adult</td>\n",
       "      <td>(-1.0, 102.0]</td>\n",
       "    </tr>\n",
       "    <tr>\n",
       "      <th>2</th>\n",
       "      <td>1</td>\n",
       "      <td>Third</td>\n",
       "      <td>female</td>\n",
       "      <td>26.0</td>\n",
       "      <td>7.9250</td>\n",
       "      <td>S</td>\n",
       "      <td>0</td>\n",
       "      <td>Yes</td>\n",
       "      <td>No</td>\n",
       "      <td>young_adult</td>\n",
       "      <td>(-1.0, 102.0]</td>\n",
       "    </tr>\n",
       "    <tr>\n",
       "      <th>3</th>\n",
       "      <td>1</td>\n",
       "      <td>First</td>\n",
       "      <td>female</td>\n",
       "      <td>35.0</td>\n",
       "      <td>53.1000</td>\n",
       "      <td>S</td>\n",
       "      <td>1</td>\n",
       "      <td>No</td>\n",
       "      <td>No</td>\n",
       "      <td>adult</td>\n",
       "      <td>(-1.0, 102.0]</td>\n",
       "    </tr>\n",
       "    <tr>\n",
       "      <th>4</th>\n",
       "      <td>0</td>\n",
       "      <td>Third</td>\n",
       "      <td>male</td>\n",
       "      <td>35.0</td>\n",
       "      <td>8.0500</td>\n",
       "      <td>S</td>\n",
       "      <td>0</td>\n",
       "      <td>Yes</td>\n",
       "      <td>No</td>\n",
       "      <td>adult</td>\n",
       "      <td>(-1.0, 102.0]</td>\n",
       "    </tr>\n",
       "  </tbody>\n",
       "</table>\n",
       "</div>"
      ],
      "text/plain": [
       "   survived pclass     sex   age     fare embarked  no_relat alone child  \\\n",
       "0         0  Third    male  22.0   7.2500        S         1    No    No   \n",
       "1         1  First  female  38.0  71.2833        C         1    No    No   \n",
       "2         1  Third  female  26.0   7.9250        S         0   Yes    No   \n",
       "3         1  First  female  35.0  53.1000        S         1    No    No   \n",
       "4         0  Third    male  35.0   8.0500        S         0   Yes    No   \n",
       "\n",
       "       age_cat       fare_cat  \n",
       "0  young_adult  (-1.0, 102.0]  \n",
       "1        adult  (-1.0, 102.0]  \n",
       "2  young_adult  (-1.0, 102.0]  \n",
       "3        adult  (-1.0, 102.0]  \n",
       "4        adult  (-1.0, 102.0]  "
      ]
     },
     "execution_count": 501,
     "metadata": {},
     "output_type": "execute_result"
    }
   ],
   "source": [
    "titanic.head()"
   ]
  },
  {
   "cell_type": "code",
   "execution_count": 502,
   "id": "3bd769f0",
   "metadata": {
    "ExecuteTime": {
     "end_time": "2022-10-03T14:33:26.062313Z",
     "start_time": "2022-10-03T14:33:26.050317Z"
    }
   },
   "outputs": [
    {
     "data": {
      "text/plain": [
       "(-1.0, 102.0]     838\n",
       "(102.0, 205.0]     33\n",
       "(205.0, 307.0]     17\n",
       "(410.0, 512.0]      3\n",
       "(307.0, 410.0]      0\n",
       "Name: fare_cat, dtype: int64"
      ]
     },
     "execution_count": 502,
     "metadata": {},
     "output_type": "execute_result"
    }
   ],
   "source": [
    "titanic.fare_cat.value_counts()"
   ]
  },
  {
   "cell_type": "markdown",
   "id": "3783e01b",
   "metadata": {},
   "source": [
    "(307.0, 410.0] 사이에는 한 사람도 포함되지 않음 -> 5구간으로 나눌 필요가 없었음 -> qcut() 사용"
   ]
  },
  {
   "cell_type": "code",
   "execution_count": 503,
   "id": "5b43576d",
   "metadata": {
    "ExecuteTime": {
     "end_time": "2022-10-03T14:33:26.092314Z",
     "start_time": "2022-10-03T14:33:26.065315Z"
    }
   },
   "outputs": [
    {
     "data": {
      "text/html": [
       "<div>\n",
       "<style scoped>\n",
       "    .dataframe tbody tr th:only-of-type {\n",
       "        vertical-align: middle;\n",
       "    }\n",
       "\n",
       "    .dataframe tbody tr th {\n",
       "        vertical-align: top;\n",
       "    }\n",
       "\n",
       "    .dataframe thead th {\n",
       "        text-align: right;\n",
       "    }\n",
       "</style>\n",
       "<table border=\"1\" class=\"dataframe\">\n",
       "  <thead>\n",
       "    <tr style=\"text-align: right;\">\n",
       "      <th></th>\n",
       "      <th>survived</th>\n",
       "      <th>pclass</th>\n",
       "      <th>sex</th>\n",
       "      <th>age</th>\n",
       "      <th>fare</th>\n",
       "      <th>embarked</th>\n",
       "      <th>no_relat</th>\n",
       "      <th>alone</th>\n",
       "      <th>child</th>\n",
       "      <th>age_cat</th>\n",
       "      <th>fare_cat</th>\n",
       "    </tr>\n",
       "  </thead>\n",
       "  <tbody>\n",
       "    <tr>\n",
       "      <th>0</th>\n",
       "      <td>0</td>\n",
       "      <td>Third</td>\n",
       "      <td>male</td>\n",
       "      <td>22.0</td>\n",
       "      <td>7.2500</td>\n",
       "      <td>S</td>\n",
       "      <td>1</td>\n",
       "      <td>No</td>\n",
       "      <td>No</td>\n",
       "      <td>young_adult</td>\n",
       "      <td>(-1.0, 102.0]</td>\n",
       "    </tr>\n",
       "    <tr>\n",
       "      <th>1</th>\n",
       "      <td>1</td>\n",
       "      <td>First</td>\n",
       "      <td>female</td>\n",
       "      <td>38.0</td>\n",
       "      <td>71.2833</td>\n",
       "      <td>C</td>\n",
       "      <td>1</td>\n",
       "      <td>No</td>\n",
       "      <td>No</td>\n",
       "      <td>adult</td>\n",
       "      <td>(-1.0, 102.0]</td>\n",
       "    </tr>\n",
       "    <tr>\n",
       "      <th>2</th>\n",
       "      <td>1</td>\n",
       "      <td>Third</td>\n",
       "      <td>female</td>\n",
       "      <td>26.0</td>\n",
       "      <td>7.9250</td>\n",
       "      <td>S</td>\n",
       "      <td>0</td>\n",
       "      <td>Yes</td>\n",
       "      <td>No</td>\n",
       "      <td>young_adult</td>\n",
       "      <td>(-1.0, 102.0]</td>\n",
       "    </tr>\n",
       "    <tr>\n",
       "      <th>3</th>\n",
       "      <td>1</td>\n",
       "      <td>First</td>\n",
       "      <td>female</td>\n",
       "      <td>35.0</td>\n",
       "      <td>53.1000</td>\n",
       "      <td>S</td>\n",
       "      <td>1</td>\n",
       "      <td>No</td>\n",
       "      <td>No</td>\n",
       "      <td>adult</td>\n",
       "      <td>(-1.0, 102.0]</td>\n",
       "    </tr>\n",
       "    <tr>\n",
       "      <th>4</th>\n",
       "      <td>0</td>\n",
       "      <td>Third</td>\n",
       "      <td>male</td>\n",
       "      <td>35.0</td>\n",
       "      <td>8.0500</td>\n",
       "      <td>S</td>\n",
       "      <td>0</td>\n",
       "      <td>Yes</td>\n",
       "      <td>No</td>\n",
       "      <td>adult</td>\n",
       "      <td>(-1.0, 102.0]</td>\n",
       "    </tr>\n",
       "  </tbody>\n",
       "</table>\n",
       "</div>"
      ],
      "text/plain": [
       "   survived pclass     sex   age     fare embarked  no_relat alone child  \\\n",
       "0         0  Third    male  22.0   7.2500        S         1    No    No   \n",
       "1         1  First  female  38.0  71.2833        C         1    No    No   \n",
       "2         1  Third  female  26.0   7.9250        S         0   Yes    No   \n",
       "3         1  First  female  35.0  53.1000        S         1    No    No   \n",
       "4         0  Third    male  35.0   8.0500        S         0   Yes    No   \n",
       "\n",
       "       age_cat       fare_cat  \n",
       "0  young_adult  (-1.0, 102.0]  \n",
       "1        adult  (-1.0, 102.0]  \n",
       "2  young_adult  (-1.0, 102.0]  \n",
       "3        adult  (-1.0, 102.0]  \n",
       "4        adult  (-1.0, 102.0]  "
      ]
     },
     "execution_count": 503,
     "metadata": {},
     "output_type": "execute_result"
    }
   ],
   "source": [
    "titanic.head()"
   ]
  },
  {
   "cell_type": "code",
   "execution_count": 504,
   "id": "8ca3e9db",
   "metadata": {
    "ExecuteTime": {
     "end_time": "2022-10-03T14:33:26.122317Z",
     "start_time": "2022-10-03T14:33:26.097353Z"
    }
   },
   "outputs": [
    {
     "data": {
      "text/plain": [
       "0        (-0.001, 7.854]\n",
       "1      (39.688, 512.329]\n",
       "2          (7.854, 10.5]\n",
       "3      (39.688, 512.329]\n",
       "4          (7.854, 10.5]\n",
       "             ...        \n",
       "886       (10.5, 21.679]\n",
       "887     (21.679, 39.688]\n",
       "888     (21.679, 39.688]\n",
       "889     (21.679, 39.688]\n",
       "890      (-0.001, 7.854]\n",
       "Name: fare, Length: 891, dtype: category\n",
       "Categories (5, interval[float64, right]): [(-0.001, 7.854] < (7.854, 10.5] < (10.5, 21.679] < (21.679, 39.688] < (39.688, 512.329]]"
      ]
     },
     "execution_count": 504,
     "metadata": {},
     "output_type": "execute_result"
    }
   ],
   "source": [
    "pd.qcut(titanic.fare,5) # 5개의 구간에 20%씩 배분"
   ]
  },
  {
   "cell_type": "code",
   "execution_count": 505,
   "id": "985a4526",
   "metadata": {
    "ExecuteTime": {
     "end_time": "2022-10-03T14:33:26.137318Z",
     "start_time": "2022-10-03T14:33:26.126566Z"
    }
   },
   "outputs": [],
   "source": [
    "titanic[\"fare_cat\"] = pd.qcut(titanic.fare, 5) "
   ]
  },
  {
   "cell_type": "code",
   "execution_count": 506,
   "id": "af9861a0",
   "metadata": {
    "ExecuteTime": {
     "end_time": "2022-10-03T14:33:26.167317Z",
     "start_time": "2022-10-03T14:33:26.140316Z"
    }
   },
   "outputs": [
    {
     "data": {
      "text/plain": [
       "(7.854, 10.5]        184\n",
       "(21.679, 39.688]     180\n",
       "(-0.001, 7.854]      179\n",
       "(39.688, 512.329]    176\n",
       "(10.5, 21.679]       172\n",
       "Name: fare_cat, dtype: int64"
      ]
     },
     "execution_count": 506,
     "metadata": {},
     "output_type": "execute_result"
    }
   ],
   "source": [
    "titanic.fare_cat.value_counts()"
   ]
  },
  {
   "cell_type": "code",
   "execution_count": 507,
   "id": "11e3a9af",
   "metadata": {
    "ExecuteTime": {
     "end_time": "2022-10-03T14:33:26.197312Z",
     "start_time": "2022-10-03T14:33:26.172502Z"
    }
   },
   "outputs": [
    {
     "data": {
      "text/plain": [
       "0       (-0.1, 7.6]\n",
       "1      (14.5, 78.0]\n",
       "2       (7.9, 14.5]\n",
       "3      (14.5, 78.0]\n",
       "4       (7.9, 14.5]\n",
       "           ...     \n",
       "886     (7.9, 14.5]\n",
       "887    (14.5, 78.0]\n",
       "888    (14.5, 78.0]\n",
       "889    (14.5, 78.0]\n",
       "890      (7.6, 7.9]\n",
       "Name: fare, Length: 891, dtype: category\n",
       "Categories (5, interval[float64, right]): [(-0.1, 7.6] < (7.6, 7.9] < (7.9, 14.5] < (14.5, 78.0] < (78.0, 512.3]]"
      ]
     },
     "execution_count": 507,
     "metadata": {},
     "output_type": "execute_result"
    }
   ],
   "source": [
    "# 구간 간격 지정 가능, precision = 0으로 지정해서 소수점 한자리 수까지\n",
    "pd.qcut(titanic.fare, [0, 0.1, 0.25, 0.5, 0.9, 1], precision = 0) "
   ]
  },
  {
   "cell_type": "code",
   "execution_count": 508,
   "id": "b8460ba2",
   "metadata": {
    "ExecuteTime": {
     "end_time": "2022-10-03T14:33:26.257495Z",
     "start_time": "2022-10-03T14:33:26.236318Z"
    }
   },
   "outputs": [],
   "source": [
    "titanic[\"fare_cat\"] = pd.qcut(titanic.fare, [0, 0.1, 0.25, 0.5, 0.9, 1], precision = 0) "
   ]
  },
  {
   "cell_type": "code",
   "execution_count": 509,
   "id": "6f0f23e3",
   "metadata": {
    "ExecuteTime": {
     "end_time": "2022-10-03T14:33:26.302322Z",
     "start_time": "2022-10-03T14:33:26.262577Z"
    }
   },
   "outputs": [
    {
     "data": {
      "text/html": [
       "<div>\n",
       "<style scoped>\n",
       "    .dataframe tbody tr th:only-of-type {\n",
       "        vertical-align: middle;\n",
       "    }\n",
       "\n",
       "    .dataframe tbody tr th {\n",
       "        vertical-align: top;\n",
       "    }\n",
       "\n",
       "    .dataframe thead th {\n",
       "        text-align: right;\n",
       "    }\n",
       "</style>\n",
       "<table border=\"1\" class=\"dataframe\">\n",
       "  <thead>\n",
       "    <tr style=\"text-align: right;\">\n",
       "      <th></th>\n",
       "      <th>survived</th>\n",
       "      <th>pclass</th>\n",
       "      <th>sex</th>\n",
       "      <th>age</th>\n",
       "      <th>fare</th>\n",
       "      <th>embarked</th>\n",
       "      <th>no_relat</th>\n",
       "      <th>alone</th>\n",
       "      <th>child</th>\n",
       "      <th>age_cat</th>\n",
       "      <th>fare_cat</th>\n",
       "    </tr>\n",
       "  </thead>\n",
       "  <tbody>\n",
       "    <tr>\n",
       "      <th>0</th>\n",
       "      <td>0</td>\n",
       "      <td>Third</td>\n",
       "      <td>male</td>\n",
       "      <td>22.0</td>\n",
       "      <td>7.2500</td>\n",
       "      <td>S</td>\n",
       "      <td>1</td>\n",
       "      <td>No</td>\n",
       "      <td>No</td>\n",
       "      <td>young_adult</td>\n",
       "      <td>(-0.1, 7.6]</td>\n",
       "    </tr>\n",
       "    <tr>\n",
       "      <th>1</th>\n",
       "      <td>1</td>\n",
       "      <td>First</td>\n",
       "      <td>female</td>\n",
       "      <td>38.0</td>\n",
       "      <td>71.2833</td>\n",
       "      <td>C</td>\n",
       "      <td>1</td>\n",
       "      <td>No</td>\n",
       "      <td>No</td>\n",
       "      <td>adult</td>\n",
       "      <td>(14.5, 78.0]</td>\n",
       "    </tr>\n",
       "    <tr>\n",
       "      <th>2</th>\n",
       "      <td>1</td>\n",
       "      <td>Third</td>\n",
       "      <td>female</td>\n",
       "      <td>26.0</td>\n",
       "      <td>7.9250</td>\n",
       "      <td>S</td>\n",
       "      <td>0</td>\n",
       "      <td>Yes</td>\n",
       "      <td>No</td>\n",
       "      <td>young_adult</td>\n",
       "      <td>(7.9, 14.5]</td>\n",
       "    </tr>\n",
       "    <tr>\n",
       "      <th>3</th>\n",
       "      <td>1</td>\n",
       "      <td>First</td>\n",
       "      <td>female</td>\n",
       "      <td>35.0</td>\n",
       "      <td>53.1000</td>\n",
       "      <td>S</td>\n",
       "      <td>1</td>\n",
       "      <td>No</td>\n",
       "      <td>No</td>\n",
       "      <td>adult</td>\n",
       "      <td>(14.5, 78.0]</td>\n",
       "    </tr>\n",
       "    <tr>\n",
       "      <th>4</th>\n",
       "      <td>0</td>\n",
       "      <td>Third</td>\n",
       "      <td>male</td>\n",
       "      <td>35.0</td>\n",
       "      <td>8.0500</td>\n",
       "      <td>S</td>\n",
       "      <td>0</td>\n",
       "      <td>Yes</td>\n",
       "      <td>No</td>\n",
       "      <td>adult</td>\n",
       "      <td>(7.9, 14.5]</td>\n",
       "    </tr>\n",
       "  </tbody>\n",
       "</table>\n",
       "</div>"
      ],
      "text/plain": [
       "   survived pclass     sex   age     fare embarked  no_relat alone child  \\\n",
       "0         0  Third    male  22.0   7.2500        S         1    No    No   \n",
       "1         1  First  female  38.0  71.2833        C         1    No    No   \n",
       "2         1  Third  female  26.0   7.9250        S         0   Yes    No   \n",
       "3         1  First  female  35.0  53.1000        S         1    No    No   \n",
       "4         0  Third    male  35.0   8.0500        S         0   Yes    No   \n",
       "\n",
       "       age_cat      fare_cat  \n",
       "0  young_adult   (-0.1, 7.6]  \n",
       "1        adult  (14.5, 78.0]  \n",
       "2  young_adult   (7.9, 14.5]  \n",
       "3        adult  (14.5, 78.0]  \n",
       "4        adult   (7.9, 14.5]  "
      ]
     },
     "execution_count": 509,
     "metadata": {},
     "output_type": "execute_result"
    }
   ],
   "source": [
    "titanic.head()"
   ]
  },
  {
   "cell_type": "code",
   "execution_count": 510,
   "id": "dce045d1",
   "metadata": {
    "ExecuteTime": {
     "end_time": "2022-10-03T14:33:26.332322Z",
     "start_time": "2022-10-03T14:33:26.307369Z"
    }
   },
   "outputs": [
    {
     "data": {
      "text/plain": [
       "(14.5, 78.0]     357\n",
       "(7.9, 14.5]      224\n",
       "(7.6, 7.9]       131\n",
       "(-0.1, 7.6]       92\n",
       "(78.0, 512.3]     87\n",
       "Name: fare_cat, dtype: int64"
      ]
     },
     "execution_count": 510,
     "metadata": {},
     "output_type": "execute_result"
    }
   ],
   "source": [
    "titanic.fare_cat.value_counts()"
   ]
  },
  {
   "cell_type": "code",
   "execution_count": 511,
   "id": "175b7636",
   "metadata": {
    "ExecuteTime": {
     "end_time": "2022-10-03T14:33:26.347451Z",
     "start_time": "2022-10-03T14:33:26.337315Z"
    }
   },
   "outputs": [],
   "source": [
    "fare_labels =[\"very_cheap\", \"cheap\", \"moderate\", \"exp\", \"very_exp\"]"
   ]
  },
  {
   "cell_type": "code",
   "execution_count": 512,
   "id": "8632a31f",
   "metadata": {
    "ExecuteTime": {
     "end_time": "2022-10-03T14:33:26.377192Z",
     "start_time": "2022-10-03T14:33:26.352318Z"
    }
   },
   "outputs": [],
   "source": [
    "titanic[\"fare_cat\"] =  pd.qcut(titanic.fare, [0, 0.1, 0.25, 0.5, 0.9, 1], precision = 0, labels = fare_labels) "
   ]
  },
  {
   "cell_type": "code",
   "execution_count": 513,
   "id": "12248300",
   "metadata": {
    "ExecuteTime": {
     "end_time": "2022-10-03T14:33:26.407197Z",
     "start_time": "2022-10-03T14:33:26.382331Z"
    }
   },
   "outputs": [
    {
     "data": {
      "text/html": [
       "<div>\n",
       "<style scoped>\n",
       "    .dataframe tbody tr th:only-of-type {\n",
       "        vertical-align: middle;\n",
       "    }\n",
       "\n",
       "    .dataframe tbody tr th {\n",
       "        vertical-align: top;\n",
       "    }\n",
       "\n",
       "    .dataframe thead th {\n",
       "        text-align: right;\n",
       "    }\n",
       "</style>\n",
       "<table border=\"1\" class=\"dataframe\">\n",
       "  <thead>\n",
       "    <tr style=\"text-align: right;\">\n",
       "      <th></th>\n",
       "      <th>survived</th>\n",
       "      <th>pclass</th>\n",
       "      <th>sex</th>\n",
       "      <th>age</th>\n",
       "      <th>fare</th>\n",
       "      <th>embarked</th>\n",
       "      <th>no_relat</th>\n",
       "      <th>alone</th>\n",
       "      <th>child</th>\n",
       "      <th>age_cat</th>\n",
       "      <th>fare_cat</th>\n",
       "    </tr>\n",
       "  </thead>\n",
       "  <tbody>\n",
       "    <tr>\n",
       "      <th>0</th>\n",
       "      <td>0</td>\n",
       "      <td>Third</td>\n",
       "      <td>male</td>\n",
       "      <td>22.0</td>\n",
       "      <td>7.2500</td>\n",
       "      <td>S</td>\n",
       "      <td>1</td>\n",
       "      <td>No</td>\n",
       "      <td>No</td>\n",
       "      <td>young_adult</td>\n",
       "      <td>very_cheap</td>\n",
       "    </tr>\n",
       "    <tr>\n",
       "      <th>1</th>\n",
       "      <td>1</td>\n",
       "      <td>First</td>\n",
       "      <td>female</td>\n",
       "      <td>38.0</td>\n",
       "      <td>71.2833</td>\n",
       "      <td>C</td>\n",
       "      <td>1</td>\n",
       "      <td>No</td>\n",
       "      <td>No</td>\n",
       "      <td>adult</td>\n",
       "      <td>exp</td>\n",
       "    </tr>\n",
       "    <tr>\n",
       "      <th>2</th>\n",
       "      <td>1</td>\n",
       "      <td>Third</td>\n",
       "      <td>female</td>\n",
       "      <td>26.0</td>\n",
       "      <td>7.9250</td>\n",
       "      <td>S</td>\n",
       "      <td>0</td>\n",
       "      <td>Yes</td>\n",
       "      <td>No</td>\n",
       "      <td>young_adult</td>\n",
       "      <td>moderate</td>\n",
       "    </tr>\n",
       "    <tr>\n",
       "      <th>3</th>\n",
       "      <td>1</td>\n",
       "      <td>First</td>\n",
       "      <td>female</td>\n",
       "      <td>35.0</td>\n",
       "      <td>53.1000</td>\n",
       "      <td>S</td>\n",
       "      <td>1</td>\n",
       "      <td>No</td>\n",
       "      <td>No</td>\n",
       "      <td>adult</td>\n",
       "      <td>exp</td>\n",
       "    </tr>\n",
       "    <tr>\n",
       "      <th>4</th>\n",
       "      <td>0</td>\n",
       "      <td>Third</td>\n",
       "      <td>male</td>\n",
       "      <td>35.0</td>\n",
       "      <td>8.0500</td>\n",
       "      <td>S</td>\n",
       "      <td>0</td>\n",
       "      <td>Yes</td>\n",
       "      <td>No</td>\n",
       "      <td>adult</td>\n",
       "      <td>moderate</td>\n",
       "    </tr>\n",
       "  </tbody>\n",
       "</table>\n",
       "</div>"
      ],
      "text/plain": [
       "   survived pclass     sex   age     fare embarked  no_relat alone child  \\\n",
       "0         0  Third    male  22.0   7.2500        S         1    No    No   \n",
       "1         1  First  female  38.0  71.2833        C         1    No    No   \n",
       "2         1  Third  female  26.0   7.9250        S         0   Yes    No   \n",
       "3         1  First  female  35.0  53.1000        S         1    No    No   \n",
       "4         0  Third    male  35.0   8.0500        S         0   Yes    No   \n",
       "\n",
       "       age_cat    fare_cat  \n",
       "0  young_adult  very_cheap  \n",
       "1        adult         exp  \n",
       "2  young_adult    moderate  \n",
       "3        adult         exp  \n",
       "4        adult    moderate  "
      ]
     },
     "execution_count": 513,
     "metadata": {},
     "output_type": "execute_result"
    }
   ],
   "source": [
    "titanic.head()"
   ]
  },
  {
   "cell_type": "code",
   "execution_count": 514,
   "id": "1e7cc6c7",
   "metadata": {
    "ExecuteTime": {
     "end_time": "2022-10-03T14:33:26.422192Z",
     "start_time": "2022-10-03T14:33:26.410232Z"
    }
   },
   "outputs": [
    {
     "data": {
      "text/plain": [
       "exp           357\n",
       "moderate      224\n",
       "cheap         131\n",
       "very_cheap     92\n",
       "very_exp       87\n",
       "Name: fare_cat, dtype: int64"
      ]
     },
     "execution_count": 514,
     "metadata": {},
     "output_type": "execute_result"
    }
   ],
   "source": [
    "titanic.fare_cat.value_counts()"
   ]
  },
  {
   "cell_type": "code",
   "execution_count": 515,
   "id": "e4be5c0f",
   "metadata": {
    "ExecuteTime": {
     "end_time": "2022-10-03T14:33:26.452195Z",
     "start_time": "2022-10-03T14:33:26.425772Z"
    }
   },
   "outputs": [
    {
     "data": {
      "text/html": [
       "<div>\n",
       "<style scoped>\n",
       "    .dataframe tbody tr th:only-of-type {\n",
       "        vertical-align: middle;\n",
       "    }\n",
       "\n",
       "    .dataframe tbody tr th {\n",
       "        vertical-align: top;\n",
       "    }\n",
       "\n",
       "    .dataframe thead th {\n",
       "        text-align: right;\n",
       "    }\n",
       "</style>\n",
       "<table border=\"1\" class=\"dataframe\">\n",
       "  <thead>\n",
       "    <tr style=\"text-align: right;\">\n",
       "      <th>fare_cat</th>\n",
       "      <th>very_cheap</th>\n",
       "      <th>cheap</th>\n",
       "      <th>moderate</th>\n",
       "      <th>exp</th>\n",
       "      <th>very_exp</th>\n",
       "    </tr>\n",
       "    <tr>\n",
       "      <th>age_cat</th>\n",
       "      <th></th>\n",
       "      <th></th>\n",
       "      <th></th>\n",
       "      <th></th>\n",
       "      <th></th>\n",
       "    </tr>\n",
       "  </thead>\n",
       "  <tbody>\n",
       "    <tr>\n",
       "      <th>child</th>\n",
       "      <td>NaN</td>\n",
       "      <td>NaN</td>\n",
       "      <td>0.875000</td>\n",
       "      <td>0.568627</td>\n",
       "      <td>0.666667</td>\n",
       "    </tr>\n",
       "    <tr>\n",
       "      <th>teenager</th>\n",
       "      <td>0.333333</td>\n",
       "      <td>0.500000</td>\n",
       "      <td>0.500000</td>\n",
       "      <td>0.263158</td>\n",
       "      <td>1.000000</td>\n",
       "    </tr>\n",
       "    <tr>\n",
       "      <th>young_adult</th>\n",
       "      <td>0.180328</td>\n",
       "      <td>0.269231</td>\n",
       "      <td>0.228070</td>\n",
       "      <td>0.450000</td>\n",
       "      <td>0.655172</td>\n",
       "    </tr>\n",
       "    <tr>\n",
       "      <th>adult</th>\n",
       "      <td>0.000000</td>\n",
       "      <td>0.050000</td>\n",
       "      <td>0.320513</td>\n",
       "      <td>0.488000</td>\n",
       "      <td>0.809524</td>\n",
       "    </tr>\n",
       "    <tr>\n",
       "      <th>elderly</th>\n",
       "      <td>0.000000</td>\n",
       "      <td>0.000000</td>\n",
       "      <td>0.250000</td>\n",
       "      <td>0.272727</td>\n",
       "      <td>0.714286</td>\n",
       "    </tr>\n",
       "  </tbody>\n",
       "</table>\n",
       "</div>"
      ],
      "text/plain": [
       "fare_cat     very_cheap     cheap  moderate       exp  very_exp\n",
       "age_cat                                                        \n",
       "child               NaN       NaN  0.875000  0.568627  0.666667\n",
       "teenager       0.333333  0.500000  0.500000  0.263158  1.000000\n",
       "young_adult    0.180328  0.269231  0.228070  0.450000  0.655172\n",
       "adult          0.000000  0.050000  0.320513  0.488000  0.809524\n",
       "elderly        0.000000  0.000000  0.250000  0.272727  0.714286"
      ]
     },
     "execution_count": 515,
     "metadata": {},
     "output_type": "execute_result"
    }
   ],
   "source": [
    "titanic.groupby([\"age_cat\", \"fare_cat\"]).survived.mean().unstack()"
   ]
  },
  {
   "cell_type": "markdown",
   "id": "3c01fb8d",
   "metadata": {},
   "source": [
    "나이가 든 승객일수록, 싼 티켓을 구입한 승객일수록 생존율이 낮음\n",
    "=> 어린이나 청년 승객이 많이 살아남았고 비싼 티켓을 구입한 부유한 승객들이 많이 살아남았다."
   ]
  },
  {
   "cell_type": "markdown",
   "id": "be35799f",
   "metadata": {},
   "source": [
    "#### Caps and Floors(상한값과 하한값) -아웃라이어 제거\n",
    "머신러닝에서 아웃라이어로 인해 결과가 왜곡되는 등 부정적인 영향을 받는다. 아웃라이어가 있는 전체 행을 제거해도 되지만 그렇게 하면 다른 열에 영향을 미치는 데이터가 모두 삭제되어 버린다."
   ]
  },
  {
   "cell_type": "code",
   "execution_count": 516,
   "id": "24cbcc05",
   "metadata": {
    "ExecuteTime": {
     "end_time": "2022-10-03T14:33:26.467191Z",
     "start_time": "2022-10-03T14:33:26.455194Z"
    }
   },
   "outputs": [],
   "source": [
    "import matplotlib.pyplot as plt"
   ]
  },
  {
   "cell_type": "code",
   "execution_count": 517,
   "id": "db5e4f24",
   "metadata": {
    "ExecuteTime": {
     "end_time": "2022-10-03T14:33:26.663191Z",
     "start_time": "2022-10-03T14:33:26.470194Z"
    }
   },
   "outputs": [
    {
     "data": {
      "image/png": "[encoded data removed]",
      "text/plain": [
       "<Figure size 864x576 with 1 Axes>"
      ]
     },
     "metadata": {
      "needs_background": "light"
     },
     "output_type": "display_data"
    }
   ],
   "source": [
    "titanic.fare.plot(figsize = (12, 8))\n",
    "plt.show()"
   ]
  },
  {
   "cell_type": "code",
   "execution_count": 518,
   "id": "2a01a87c",
   "metadata": {
    "ExecuteTime": {
     "end_time": "2022-10-03T14:33:26.677889Z",
     "start_time": "2022-10-03T14:33:26.666566Z"
    }
   },
   "outputs": [
    {
     "data": {
      "text/plain": [
       "count    891.000000\n",
       "mean      32.204208\n",
       "std       49.693429\n",
       "min        0.000000\n",
       "25%        7.910400\n",
       "50%       14.454200\n",
       "75%       31.000000\n",
       "max      512.329200\n",
       "Name: fare, dtype: float64"
      ]
     },
     "execution_count": 518,
     "metadata": {},
     "output_type": "execute_result"
    }
   ],
   "source": [
    "titanic.fare.describe()"
   ]
  },
  {
   "cell_type": "code",
   "execution_count": 519,
   "id": "ec343bd5",
   "metadata": {
    "ExecuteTime": {
     "end_time": "2022-10-03T14:33:26.692594Z",
     "start_time": "2022-10-03T14:33:26.681433Z"
    }
   },
   "outputs": [
    {
     "data": {
      "text/plain": [
       "258    512.3292\n",
       "737    512.3292\n",
       "679    512.3292\n",
       "88     263.0000\n",
       "27     263.0000\n",
       "         ...   \n",
       "633      0.0000\n",
       "413      0.0000\n",
       "822      0.0000\n",
       "732      0.0000\n",
       "674      0.0000\n",
       "Name: fare, Length: 891, dtype: float64"
      ]
     },
     "execution_count": 519,
     "metadata": {},
     "output_type": "execute_result"
    }
   ],
   "source": [
    "titanic.fare.sort_values(ascending=False)\n",
    "# 512달러, 263달러, 247달러를 낸 승객들 모두 부자"
   ]
  },
  {
   "cell_type": "code",
   "execution_count": 520,
   "id": "84410cf9",
   "metadata": {
    "ExecuteTime": {
     "end_time": "2022-10-03T14:33:26.707557Z",
     "start_time": "2022-10-03T14:33:26.695198Z"
    }
   },
   "outputs": [],
   "source": [
    "# 상한값 지정, 250달러 이상의 티켓을 산 승객은 모두 부자\n",
    "fare_cap = 250"
   ]
  },
  {
   "cell_type": "code",
   "execution_count": 521,
   "id": "2d9d78e2",
   "metadata": {
    "ExecuteTime": {
     "end_time": "2022-10-03T14:33:26.722201Z",
     "start_time": "2022-10-03T14:33:26.712194Z"
    }
   },
   "outputs": [],
   "source": [
    "# 250보다 높은 값을 선택해서 새 값으로 대체(250)\n",
    "titanic.loc[titanic.fare > fare_cap, \"fare\"] = fare_cap"
   ]
  },
  {
   "cell_type": "code",
   "execution_count": 522,
   "id": "03b0e672",
   "metadata": {
    "ExecuteTime": {
     "end_time": "2022-10-03T14:33:26.737202Z",
     "start_time": "2022-10-03T14:33:26.726197Z"
    }
   },
   "outputs": [],
   "source": [
    "fare_floor = 5"
   ]
  },
  {
   "cell_type": "code",
   "execution_count": 523,
   "id": "7d3fe398",
   "metadata": {
    "ExecuteTime": {
     "end_time": "2022-10-03T14:33:26.753194Z",
     "start_time": "2022-10-03T14:33:26.741233Z"
    }
   },
   "outputs": [],
   "source": [
    "# 5달러보다 낮은 값들은 모두 5로 대체\n",
    "titanic.loc[titanic.fare < fare_floor, \"fare\"] = fare_floor"
   ]
  },
  {
   "cell_type": "code",
   "execution_count": 524,
   "id": "6fedd1f8",
   "metadata": {
    "ExecuteTime": {
     "end_time": "2022-10-03T14:33:26.963384Z",
     "start_time": "2022-10-03T14:33:26.758390Z"
    }
   },
   "outputs": [
    {
     "data": {
      "image/png": "[encoded data removed]",
      "text/plain": [
       "<Figure size 864x576 with 1 Axes>"
      ]
     },
     "metadata": {
      "needs_background": "light"
     },
     "output_type": "display_data"
    }
   ],
   "source": [
    "titanic.fare.plot(figsize = (12, 8))\n",
    "plt.show()"
   ]
  },
  {
   "cell_type": "code",
   "execution_count": 525,
   "id": "cd426d1f",
   "metadata": {
    "ExecuteTime": {
     "end_time": "2022-10-03T14:33:26.978390Z",
     "start_time": "2022-10-03T14:33:26.966388Z"
    }
   },
   "outputs": [
    {
     "data": {
      "text/plain": [
       "count    891.000000\n",
       "mean      31.320089\n",
       "std       42.517981\n",
       "min        5.000000\n",
       "25%        7.910400\n",
       "50%       14.454200\n",
       "75%       31.000000\n",
       "max      250.000000\n",
       "Name: fare, dtype: float64"
      ]
     },
     "execution_count": 525,
     "metadata": {},
     "output_type": "execute_result"
    }
   ],
   "source": [
    "titanic.fare.describe()# 표준편차가 많이 낮아짐"
   ]
  },
  {
   "cell_type": "markdown",
   "id": "0a9e46ad",
   "metadata": {},
   "source": [
    "이렇게 함으로써 추후에 이루어질 통계와 머신 러닝 분석의 결과에 대한 신뢰도를 높일 수 있다."
   ]
  },
  {
   "cell_type": "markdown",
   "id": "40d42931",
   "metadata": {},
   "source": [
    "#### Scaling / Standardization\n",
    "머신러닝과 통계 분석에 사용되는 알고리즘들은 스케일에 매우 민감하다.  데이터셋을 같은 스케일로 바꿔줘야 한다."
   ]
  },
  {
   "cell_type": "code",
   "execution_count": 526,
   "id": "565791cc",
   "metadata": {
    "ExecuteTime": {
     "end_time": "2022-10-03T14:33:27.023396Z",
     "start_time": "2022-10-03T14:33:26.982687Z"
    }
   },
   "outputs": [
    {
     "data": {
      "text/html": [
       "<div>\n",
       "<style scoped>\n",
       "    .dataframe tbody tr th:only-of-type {\n",
       "        vertical-align: middle;\n",
       "    }\n",
       "\n",
       "    .dataframe tbody tr th {\n",
       "        vertical-align: top;\n",
       "    }\n",
       "\n",
       "    .dataframe thead th {\n",
       "        text-align: right;\n",
       "    }\n",
       "</style>\n",
       "<table border=\"1\" class=\"dataframe\">\n",
       "  <thead>\n",
       "    <tr style=\"text-align: right;\">\n",
       "      <th></th>\n",
       "      <th>survived</th>\n",
       "      <th>pclass</th>\n",
       "      <th>sex</th>\n",
       "      <th>age</th>\n",
       "      <th>fare</th>\n",
       "      <th>embarked</th>\n",
       "      <th>no_relat</th>\n",
       "      <th>alone</th>\n",
       "      <th>child</th>\n",
       "      <th>age_cat</th>\n",
       "      <th>fare_cat</th>\n",
       "    </tr>\n",
       "  </thead>\n",
       "  <tbody>\n",
       "    <tr>\n",
       "      <th>0</th>\n",
       "      <td>0</td>\n",
       "      <td>Third</td>\n",
       "      <td>male</td>\n",
       "      <td>22.0</td>\n",
       "      <td>7.2500</td>\n",
       "      <td>S</td>\n",
       "      <td>1</td>\n",
       "      <td>No</td>\n",
       "      <td>No</td>\n",
       "      <td>young_adult</td>\n",
       "      <td>very_cheap</td>\n",
       "    </tr>\n",
       "    <tr>\n",
       "      <th>1</th>\n",
       "      <td>1</td>\n",
       "      <td>First</td>\n",
       "      <td>female</td>\n",
       "      <td>38.0</td>\n",
       "      <td>71.2833</td>\n",
       "      <td>C</td>\n",
       "      <td>1</td>\n",
       "      <td>No</td>\n",
       "      <td>No</td>\n",
       "      <td>adult</td>\n",
       "      <td>exp</td>\n",
       "    </tr>\n",
       "    <tr>\n",
       "      <th>2</th>\n",
       "      <td>1</td>\n",
       "      <td>Third</td>\n",
       "      <td>female</td>\n",
       "      <td>26.0</td>\n",
       "      <td>7.9250</td>\n",
       "      <td>S</td>\n",
       "      <td>0</td>\n",
       "      <td>Yes</td>\n",
       "      <td>No</td>\n",
       "      <td>young_adult</td>\n",
       "      <td>moderate</td>\n",
       "    </tr>\n",
       "    <tr>\n",
       "      <th>3</th>\n",
       "      <td>1</td>\n",
       "      <td>First</td>\n",
       "      <td>female</td>\n",
       "      <td>35.0</td>\n",
       "      <td>53.1000</td>\n",
       "      <td>S</td>\n",
       "      <td>1</td>\n",
       "      <td>No</td>\n",
       "      <td>No</td>\n",
       "      <td>adult</td>\n",
       "      <td>exp</td>\n",
       "    </tr>\n",
       "    <tr>\n",
       "      <th>4</th>\n",
       "      <td>0</td>\n",
       "      <td>Third</td>\n",
       "      <td>male</td>\n",
       "      <td>35.0</td>\n",
       "      <td>8.0500</td>\n",
       "      <td>S</td>\n",
       "      <td>0</td>\n",
       "      <td>Yes</td>\n",
       "      <td>No</td>\n",
       "      <td>adult</td>\n",
       "      <td>moderate</td>\n",
       "    </tr>\n",
       "  </tbody>\n",
       "</table>\n",
       "</div>"
      ],
      "text/plain": [
       "   survived pclass     sex   age     fare embarked  no_relat alone child  \\\n",
       "0         0  Third    male  22.0   7.2500        S         1    No    No   \n",
       "1         1  First  female  38.0  71.2833        C         1    No    No   \n",
       "2         1  Third  female  26.0   7.9250        S         0   Yes    No   \n",
       "3         1  First  female  35.0  53.1000        S         1    No    No   \n",
       "4         0  Third    male  35.0   8.0500        S         0   Yes    No   \n",
       "\n",
       "       age_cat    fare_cat  \n",
       "0  young_adult  very_cheap  \n",
       "1        adult         exp  \n",
       "2  young_adult    moderate  \n",
       "3        adult         exp  \n",
       "4        adult    moderate  "
      ]
     },
     "execution_count": 526,
     "metadata": {},
     "output_type": "execute_result"
    }
   ],
   "source": [
    "titanic.head()"
   ]
  },
  {
   "cell_type": "code",
   "execution_count": 527,
   "id": "ec3c669f",
   "metadata": {
    "ExecuteTime": {
     "end_time": "2022-10-03T14:33:27.098389Z",
     "start_time": "2022-10-03T14:33:27.032391Z"
    }
   },
   "outputs": [
    {
     "data": {
      "text/html": [
       "<div>\n",
       "<style scoped>\n",
       "    .dataframe tbody tr th:only-of-type {\n",
       "        vertical-align: middle;\n",
       "    }\n",
       "\n",
       "    .dataframe tbody tr th {\n",
       "        vertical-align: top;\n",
       "    }\n",
       "\n",
       "    .dataframe thead th {\n",
       "        text-align: right;\n",
       "    }\n",
       "</style>\n",
       "<table border=\"1\" class=\"dataframe\">\n",
       "  <thead>\n",
       "    <tr style=\"text-align: right;\">\n",
       "      <th></th>\n",
       "      <th>survived</th>\n",
       "      <th>age</th>\n",
       "      <th>fare</th>\n",
       "      <th>no_relat</th>\n",
       "    </tr>\n",
       "  </thead>\n",
       "  <tbody>\n",
       "    <tr>\n",
       "      <th>count</th>\n",
       "      <td>891.000000</td>\n",
       "      <td>891.000000</td>\n",
       "      <td>891.000000</td>\n",
       "      <td>891.000000</td>\n",
       "    </tr>\n",
       "    <tr>\n",
       "      <th>mean</th>\n",
       "      <td>0.383838</td>\n",
       "      <td>29.699118</td>\n",
       "      <td>31.320089</td>\n",
       "      <td>0.904602</td>\n",
       "    </tr>\n",
       "    <tr>\n",
       "      <th>std</th>\n",
       "      <td>0.486592</td>\n",
       "      <td>13.002015</td>\n",
       "      <td>42.517981</td>\n",
       "      <td>1.613459</td>\n",
       "    </tr>\n",
       "    <tr>\n",
       "      <th>min</th>\n",
       "      <td>0.000000</td>\n",
       "      <td>0.420000</td>\n",
       "      <td>5.000000</td>\n",
       "      <td>0.000000</td>\n",
       "    </tr>\n",
       "    <tr>\n",
       "      <th>25%</th>\n",
       "      <td>0.000000</td>\n",
       "      <td>22.000000</td>\n",
       "      <td>7.910400</td>\n",
       "      <td>0.000000</td>\n",
       "    </tr>\n",
       "    <tr>\n",
       "      <th>50%</th>\n",
       "      <td>0.000000</td>\n",
       "      <td>29.699118</td>\n",
       "      <td>14.454200</td>\n",
       "      <td>0.000000</td>\n",
       "    </tr>\n",
       "    <tr>\n",
       "      <th>75%</th>\n",
       "      <td>1.000000</td>\n",
       "      <td>35.000000</td>\n",
       "      <td>31.000000</td>\n",
       "      <td>1.000000</td>\n",
       "    </tr>\n",
       "    <tr>\n",
       "      <th>max</th>\n",
       "      <td>1.000000</td>\n",
       "      <td>80.000000</td>\n",
       "      <td>250.000000</td>\n",
       "      <td>10.000000</td>\n",
       "    </tr>\n",
       "  </tbody>\n",
       "</table>\n",
       "</div>"
      ],
      "text/plain": [
       "         survived         age        fare    no_relat\n",
       "count  891.000000  891.000000  891.000000  891.000000\n",
       "mean     0.383838   29.699118   31.320089    0.904602\n",
       "std      0.486592   13.002015   42.517981    1.613459\n",
       "min      0.000000    0.420000    5.000000    0.000000\n",
       "25%      0.000000   22.000000    7.910400    0.000000\n",
       "50%      0.000000   29.699118   14.454200    0.000000\n",
       "75%      1.000000   35.000000   31.000000    1.000000\n",
       "max      1.000000   80.000000  250.000000   10.000000"
      ]
     },
     "execution_count": 527,
     "metadata": {},
     "output_type": "execute_result"
    }
   ],
   "source": [
    "titanic.describe()\n",
    "# 나이와 운송 요금의 평균은 비슷하지만 표준 편차 차이가 있다."
   ]
  },
  {
   "cell_type": "code",
   "execution_count": 528,
   "id": "74b6aae8",
   "metadata": {
    "ExecuteTime": {
     "end_time": "2022-10-03T14:33:27.128391Z",
     "start_time": "2022-10-03T14:33:27.108026Z"
    }
   },
   "outputs": [],
   "source": [
    "import matplotlib.pyplot as plt"
   ]
  },
  {
   "cell_type": "code",
   "execution_count": 529,
   "id": "eeba3d23",
   "metadata": {
    "ExecuteTime": {
     "end_time": "2022-10-03T14:33:27.488514Z",
     "start_time": "2022-10-03T14:33:27.135393Z"
    }
   },
   "outputs": [
    {
     "data": {
      "image/png": "[encoded data removed]",
      "text/plain": [
       "<Figure size 864x576 with 1 Axes>"
      ]
     },
     "metadata": {
      "needs_background": "light"
     },
     "output_type": "display_data"
    }
   ],
   "source": [
    "titanic.fare.plot(figsize = (12,8))\n",
    "titanic.age.plot(figsize = (12,8))\n",
    "plt.show()\n",
    "# 두 열의 평균값이 거의 비슷하게 보였지만, 실제로 이 두 열의 스케일은 꽤 큰 차이가 있다."
   ]
  },
  {
   "cell_type": "code",
   "execution_count": 530,
   "id": "b4b486ba",
   "metadata": {
    "ExecuteTime": {
     "end_time": "2022-10-03T14:33:27.503523Z",
     "start_time": "2022-10-03T14:33:27.492385Z"
    }
   },
   "outputs": [],
   "source": [
    "mean_age = titanic.age.mean()\n",
    "mean_fare = titanic.fare.mean()"
   ]
  },
  {
   "cell_type": "code",
   "execution_count": 531,
   "id": "9e10c7f9",
   "metadata": {
    "ExecuteTime": {
     "end_time": "2022-10-03T14:33:27.518388Z",
     "start_time": "2022-10-03T14:33:27.508392Z"
    }
   },
   "outputs": [],
   "source": [
    "std_age = titanic.age.std()\n",
    "std_fare = titanic.fare.std()"
   ]
  },
  {
   "cell_type": "code",
   "execution_count": 532,
   "id": "db52eeb0",
   "metadata": {
    "ExecuteTime": {
     "end_time": "2022-10-03T14:33:27.548386Z",
     "start_time": "2022-10-03T14:33:27.524386Z"
    }
   },
   "outputs": [],
   "source": [
    "# 각 값에서 평균값을 빼고 그 결과를 표준 편차로 나눈다.\n",
    "titanic[\"age_z\"] = round((titanic.age-mean_age) / std_age,2)\n",
    "titanic[\"fare_z\"] = round((titanic.fare- mean_fare) / std_fare,2)\n",
    "# 값이 0이면 표준 편차가 0이라는 뜻이고 그 말은 이 승객의 실제 나이가 평균 나이와 같다는 말"
   ]
  },
  {
   "cell_type": "code",
   "execution_count": 533,
   "id": "a2827bbd",
   "metadata": {
    "ExecuteTime": {
     "end_time": "2022-10-03T14:33:27.593690Z",
     "start_time": "2022-10-03T14:33:27.552631Z"
    }
   },
   "outputs": [
    {
     "data": {
      "text/html": [
       "<div>\n",
       "<style scoped>\n",
       "    .dataframe tbody tr th:only-of-type {\n",
       "        vertical-align: middle;\n",
       "    }\n",
       "\n",
       "    .dataframe tbody tr th {\n",
       "        vertical-align: top;\n",
       "    }\n",
       "\n",
       "    .dataframe thead th {\n",
       "        text-align: right;\n",
       "    }\n",
       "</style>\n",
       "<table border=\"1\" class=\"dataframe\">\n",
       "  <thead>\n",
       "    <tr style=\"text-align: right;\">\n",
       "      <th></th>\n",
       "      <th>survived</th>\n",
       "      <th>pclass</th>\n",
       "      <th>sex</th>\n",
       "      <th>age</th>\n",
       "      <th>fare</th>\n",
       "      <th>embarked</th>\n",
       "      <th>no_relat</th>\n",
       "      <th>alone</th>\n",
       "      <th>child</th>\n",
       "      <th>age_cat</th>\n",
       "      <th>fare_cat</th>\n",
       "      <th>age_z</th>\n",
       "      <th>fare_z</th>\n",
       "    </tr>\n",
       "  </thead>\n",
       "  <tbody>\n",
       "    <tr>\n",
       "      <th>0</th>\n",
       "      <td>0</td>\n",
       "      <td>Third</td>\n",
       "      <td>male</td>\n",
       "      <td>22.0</td>\n",
       "      <td>7.2500</td>\n",
       "      <td>S</td>\n",
       "      <td>1</td>\n",
       "      <td>No</td>\n",
       "      <td>No</td>\n",
       "      <td>young_adult</td>\n",
       "      <td>very_cheap</td>\n",
       "      <td>-0.59</td>\n",
       "      <td>-0.57</td>\n",
       "    </tr>\n",
       "    <tr>\n",
       "      <th>1</th>\n",
       "      <td>1</td>\n",
       "      <td>First</td>\n",
       "      <td>female</td>\n",
       "      <td>38.0</td>\n",
       "      <td>71.2833</td>\n",
       "      <td>C</td>\n",
       "      <td>1</td>\n",
       "      <td>No</td>\n",
       "      <td>No</td>\n",
       "      <td>adult</td>\n",
       "      <td>exp</td>\n",
       "      <td>0.64</td>\n",
       "      <td>0.94</td>\n",
       "    </tr>\n",
       "    <tr>\n",
       "      <th>2</th>\n",
       "      <td>1</td>\n",
       "      <td>Third</td>\n",
       "      <td>female</td>\n",
       "      <td>26.0</td>\n",
       "      <td>7.9250</td>\n",
       "      <td>S</td>\n",
       "      <td>0</td>\n",
       "      <td>Yes</td>\n",
       "      <td>No</td>\n",
       "      <td>young_adult</td>\n",
       "      <td>moderate</td>\n",
       "      <td>-0.28</td>\n",
       "      <td>-0.55</td>\n",
       "    </tr>\n",
       "    <tr>\n",
       "      <th>3</th>\n",
       "      <td>1</td>\n",
       "      <td>First</td>\n",
       "      <td>female</td>\n",
       "      <td>35.0</td>\n",
       "      <td>53.1000</td>\n",
       "      <td>S</td>\n",
       "      <td>1</td>\n",
       "      <td>No</td>\n",
       "      <td>No</td>\n",
       "      <td>adult</td>\n",
       "      <td>exp</td>\n",
       "      <td>0.41</td>\n",
       "      <td>0.51</td>\n",
       "    </tr>\n",
       "    <tr>\n",
       "      <th>4</th>\n",
       "      <td>0</td>\n",
       "      <td>Third</td>\n",
       "      <td>male</td>\n",
       "      <td>35.0</td>\n",
       "      <td>8.0500</td>\n",
       "      <td>S</td>\n",
       "      <td>0</td>\n",
       "      <td>Yes</td>\n",
       "      <td>No</td>\n",
       "      <td>adult</td>\n",
       "      <td>moderate</td>\n",
       "      <td>0.41</td>\n",
       "      <td>-0.55</td>\n",
       "    </tr>\n",
       "  </tbody>\n",
       "</table>\n",
       "</div>"
      ],
      "text/plain": [
       "   survived pclass     sex   age     fare embarked  no_relat alone child  \\\n",
       "0         0  Third    male  22.0   7.2500        S         1    No    No   \n",
       "1         1  First  female  38.0  71.2833        C         1    No    No   \n",
       "2         1  Third  female  26.0   7.9250        S         0   Yes    No   \n",
       "3         1  First  female  35.0  53.1000        S         1    No    No   \n",
       "4         0  Third    male  35.0   8.0500        S         0   Yes    No   \n",
       "\n",
       "       age_cat    fare_cat  age_z  fare_z  \n",
       "0  young_adult  very_cheap  -0.59   -0.57  \n",
       "1        adult         exp   0.64    0.94  \n",
       "2  young_adult    moderate  -0.28   -0.55  \n",
       "3        adult         exp   0.41    0.51  \n",
       "4        adult    moderate   0.41   -0.55  "
      ]
     },
     "execution_count": 533,
     "metadata": {},
     "output_type": "execute_result"
    }
   ],
   "source": [
    "titanic.head()"
   ]
  },
  {
   "cell_type": "code",
   "execution_count": 534,
   "id": "22801ff7",
   "metadata": {
    "ExecuteTime": {
     "end_time": "2022-10-03T14:33:27.668693Z",
     "start_time": "2022-10-03T14:33:27.599689Z"
    }
   },
   "outputs": [
    {
     "data": {
      "text/html": [
       "<div>\n",
       "<style scoped>\n",
       "    .dataframe tbody tr th:only-of-type {\n",
       "        vertical-align: middle;\n",
       "    }\n",
       "\n",
       "    .dataframe tbody tr th {\n",
       "        vertical-align: top;\n",
       "    }\n",
       "\n",
       "    .dataframe thead th {\n",
       "        text-align: right;\n",
       "    }\n",
       "</style>\n",
       "<table border=\"1\" class=\"dataframe\">\n",
       "  <thead>\n",
       "    <tr style=\"text-align: right;\">\n",
       "      <th></th>\n",
       "      <th>survived</th>\n",
       "      <th>age</th>\n",
       "      <th>fare</th>\n",
       "      <th>no_relat</th>\n",
       "      <th>age_z</th>\n",
       "      <th>fare_z</th>\n",
       "    </tr>\n",
       "  </thead>\n",
       "  <tbody>\n",
       "    <tr>\n",
       "      <th>count</th>\n",
       "      <td>891.00</td>\n",
       "      <td>891.00</td>\n",
       "      <td>891.00</td>\n",
       "      <td>891.00</td>\n",
       "      <td>891.00</td>\n",
       "      <td>891.00</td>\n",
       "    </tr>\n",
       "    <tr>\n",
       "      <th>mean</th>\n",
       "      <td>0.38</td>\n",
       "      <td>29.70</td>\n",
       "      <td>31.32</td>\n",
       "      <td>0.90</td>\n",
       "      <td>0.00</td>\n",
       "      <td>0.00</td>\n",
       "    </tr>\n",
       "    <tr>\n",
       "      <th>std</th>\n",
       "      <td>0.49</td>\n",
       "      <td>13.00</td>\n",
       "      <td>42.52</td>\n",
       "      <td>1.61</td>\n",
       "      <td>1.00</td>\n",
       "      <td>1.00</td>\n",
       "    </tr>\n",
       "    <tr>\n",
       "      <th>min</th>\n",
       "      <td>0.00</td>\n",
       "      <td>0.42</td>\n",
       "      <td>5.00</td>\n",
       "      <td>0.00</td>\n",
       "      <td>-2.25</td>\n",
       "      <td>-0.62</td>\n",
       "    </tr>\n",
       "    <tr>\n",
       "      <th>25%</th>\n",
       "      <td>0.00</td>\n",
       "      <td>22.00</td>\n",
       "      <td>7.91</td>\n",
       "      <td>0.00</td>\n",
       "      <td>-0.59</td>\n",
       "      <td>-0.55</td>\n",
       "    </tr>\n",
       "    <tr>\n",
       "      <th>50%</th>\n",
       "      <td>0.00</td>\n",
       "      <td>29.70</td>\n",
       "      <td>14.45</td>\n",
       "      <td>0.00</td>\n",
       "      <td>0.00</td>\n",
       "      <td>-0.40</td>\n",
       "    </tr>\n",
       "    <tr>\n",
       "      <th>75%</th>\n",
       "      <td>1.00</td>\n",
       "      <td>35.00</td>\n",
       "      <td>31.00</td>\n",
       "      <td>1.00</td>\n",
       "      <td>0.41</td>\n",
       "      <td>-0.01</td>\n",
       "    </tr>\n",
       "    <tr>\n",
       "      <th>max</th>\n",
       "      <td>1.00</td>\n",
       "      <td>80.00</td>\n",
       "      <td>250.00</td>\n",
       "      <td>10.00</td>\n",
       "      <td>3.87</td>\n",
       "      <td>5.14</td>\n",
       "    </tr>\n",
       "  </tbody>\n",
       "</table>\n",
       "</div>"
      ],
      "text/plain": [
       "       survived     age    fare  no_relat   age_z  fare_z\n",
       "count    891.00  891.00  891.00    891.00  891.00  891.00\n",
       "mean       0.38   29.70   31.32      0.90    0.00    0.00\n",
       "std        0.49   13.00   42.52      1.61    1.00    1.00\n",
       "min        0.00    0.42    5.00      0.00   -2.25   -0.62\n",
       "25%        0.00   22.00    7.91      0.00   -0.59   -0.55\n",
       "50%        0.00   29.70   14.45      0.00    0.00   -0.40\n",
       "75%        1.00   35.00   31.00      1.00    0.41   -0.01\n",
       "max        1.00   80.00  250.00     10.00    3.87    5.14"
      ]
     },
     "execution_count": 534,
     "metadata": {},
     "output_type": "execute_result"
    }
   ],
   "source": [
    "round(titanic.describe(),2)"
   ]
  },
  {
   "cell_type": "code",
   "execution_count": 535,
   "id": "bb2d0373",
   "metadata": {
    "ExecuteTime": {
     "end_time": "2022-10-03T14:33:28.043435Z",
     "start_time": "2022-10-03T14:33:27.674691Z"
    }
   },
   "outputs": [
    {
     "data": {
      "image/png": "[encoded data removed]",
      "text/plain": [
       "<Figure size 864x576 with 1 Axes>"
      ]
     },
     "metadata": {
      "needs_background": "light"
     },
     "output_type": "display_data"
    }
   ],
   "source": [
    "titanic.fare_z.plot(figsize = (12,8))\n",
    "titanic.age_z.plot(figsize = (12,8))\n",
    "plt.show()"
   ]
  },
  {
   "cell_type": "markdown",
   "id": "68c76f03",
   "metadata": {},
   "source": [
    "#### Creating Dummy Variables(One-Hot Encoding)\n",
    "머신러닝은 수치형 데이터로 변환된 형태만 처리할 수 있으로 범주형 변수를 변환된 형태로 처리해줘야 한다."
   ]
  },
  {
   "cell_type": "code",
   "execution_count": 536,
   "id": "e606ed16",
   "metadata": {
    "ExecuteTime": {
     "end_time": "2022-10-03T14:33:28.058763Z",
     "start_time": "2022-10-03T14:33:28.046690Z"
    }
   },
   "outputs": [],
   "source": [
    "titanic.drop(labels = [\"age\", \"alone\", \"child\", \"age_z\", \"fare_z\", \"fare_cat\"], axis = 1, inplace = True)"
   ]
  },
  {
   "cell_type": "code",
   "execution_count": 537,
   "id": "721d5740",
   "metadata": {
    "ExecuteTime": {
     "end_time": "2022-10-03T14:33:28.088687Z",
     "start_time": "2022-10-03T14:33:28.061690Z"
    }
   },
   "outputs": [
    {
     "data": {
      "text/html": [
       "<div>\n",
       "<style scoped>\n",
       "    .dataframe tbody tr th:only-of-type {\n",
       "        vertical-align: middle;\n",
       "    }\n",
       "\n",
       "    .dataframe tbody tr th {\n",
       "        vertical-align: top;\n",
       "    }\n",
       "\n",
       "    .dataframe thead th {\n",
       "        text-align: right;\n",
       "    }\n",
       "</style>\n",
       "<table border=\"1\" class=\"dataframe\">\n",
       "  <thead>\n",
       "    <tr style=\"text-align: right;\">\n",
       "      <th></th>\n",
       "      <th>survived</th>\n",
       "      <th>pclass</th>\n",
       "      <th>sex</th>\n",
       "      <th>fare</th>\n",
       "      <th>embarked</th>\n",
       "      <th>no_relat</th>\n",
       "      <th>age_cat</th>\n",
       "    </tr>\n",
       "  </thead>\n",
       "  <tbody>\n",
       "    <tr>\n",
       "      <th>0</th>\n",
       "      <td>0</td>\n",
       "      <td>Third</td>\n",
       "      <td>male</td>\n",
       "      <td>7.2500</td>\n",
       "      <td>S</td>\n",
       "      <td>1</td>\n",
       "      <td>young_adult</td>\n",
       "    </tr>\n",
       "    <tr>\n",
       "      <th>1</th>\n",
       "      <td>1</td>\n",
       "      <td>First</td>\n",
       "      <td>female</td>\n",
       "      <td>71.2833</td>\n",
       "      <td>C</td>\n",
       "      <td>1</td>\n",
       "      <td>adult</td>\n",
       "    </tr>\n",
       "    <tr>\n",
       "      <th>2</th>\n",
       "      <td>1</td>\n",
       "      <td>Third</td>\n",
       "      <td>female</td>\n",
       "      <td>7.9250</td>\n",
       "      <td>S</td>\n",
       "      <td>0</td>\n",
       "      <td>young_adult</td>\n",
       "    </tr>\n",
       "    <tr>\n",
       "      <th>3</th>\n",
       "      <td>1</td>\n",
       "      <td>First</td>\n",
       "      <td>female</td>\n",
       "      <td>53.1000</td>\n",
       "      <td>S</td>\n",
       "      <td>1</td>\n",
       "      <td>adult</td>\n",
       "    </tr>\n",
       "    <tr>\n",
       "      <th>4</th>\n",
       "      <td>0</td>\n",
       "      <td>Third</td>\n",
       "      <td>male</td>\n",
       "      <td>8.0500</td>\n",
       "      <td>S</td>\n",
       "      <td>0</td>\n",
       "      <td>adult</td>\n",
       "    </tr>\n",
       "    <tr>\n",
       "      <th>...</th>\n",
       "      <td>...</td>\n",
       "      <td>...</td>\n",
       "      <td>...</td>\n",
       "      <td>...</td>\n",
       "      <td>...</td>\n",
       "      <td>...</td>\n",
       "      <td>...</td>\n",
       "    </tr>\n",
       "    <tr>\n",
       "      <th>886</th>\n",
       "      <td>0</td>\n",
       "      <td>Second</td>\n",
       "      <td>male</td>\n",
       "      <td>13.0000</td>\n",
       "      <td>S</td>\n",
       "      <td>0</td>\n",
       "      <td>young_adult</td>\n",
       "    </tr>\n",
       "    <tr>\n",
       "      <th>887</th>\n",
       "      <td>1</td>\n",
       "      <td>First</td>\n",
       "      <td>female</td>\n",
       "      <td>30.0000</td>\n",
       "      <td>S</td>\n",
       "      <td>0</td>\n",
       "      <td>young_adult</td>\n",
       "    </tr>\n",
       "    <tr>\n",
       "      <th>888</th>\n",
       "      <td>0</td>\n",
       "      <td>Third</td>\n",
       "      <td>female</td>\n",
       "      <td>23.4500</td>\n",
       "      <td>S</td>\n",
       "      <td>3</td>\n",
       "      <td>young_adult</td>\n",
       "    </tr>\n",
       "    <tr>\n",
       "      <th>889</th>\n",
       "      <td>1</td>\n",
       "      <td>First</td>\n",
       "      <td>male</td>\n",
       "      <td>30.0000</td>\n",
       "      <td>C</td>\n",
       "      <td>0</td>\n",
       "      <td>young_adult</td>\n",
       "    </tr>\n",
       "    <tr>\n",
       "      <th>890</th>\n",
       "      <td>0</td>\n",
       "      <td>Third</td>\n",
       "      <td>male</td>\n",
       "      <td>7.7500</td>\n",
       "      <td>Q</td>\n",
       "      <td>0</td>\n",
       "      <td>adult</td>\n",
       "    </tr>\n",
       "  </tbody>\n",
       "</table>\n",
       "<p>891 rows × 7 columns</p>\n",
       "</div>"
      ],
      "text/plain": [
       "     survived  pclass     sex     fare embarked  no_relat      age_cat\n",
       "0           0   Third    male   7.2500        S         1  young_adult\n",
       "1           1   First  female  71.2833        C         1        adult\n",
       "2           1   Third  female   7.9250        S         0  young_adult\n",
       "3           1   First  female  53.1000        S         1        adult\n",
       "4           0   Third    male   8.0500        S         0        adult\n",
       "..        ...     ...     ...      ...      ...       ...          ...\n",
       "886         0  Second    male  13.0000        S         0  young_adult\n",
       "887         1   First  female  30.0000        S         0  young_adult\n",
       "888         0   Third  female  23.4500        S         3  young_adult\n",
       "889         1   First    male  30.0000        C         0  young_adult\n",
       "890         0   Third    male   7.7500        Q         0        adult\n",
       "\n",
       "[891 rows x 7 columns]"
      ]
     },
     "execution_count": 537,
     "metadata": {},
     "output_type": "execute_result"
    }
   ],
   "source": [
    "titanic"
   ]
  },
  {
   "cell_type": "code",
   "execution_count": 539,
   "id": "24fe259e",
   "metadata": {
    "ExecuteTime": {
     "end_time": "2022-10-03T14:37:23.089815Z",
     "start_time": "2022-10-03T14:37:23.062144Z"
    }
   },
   "outputs": [
    {
     "data": {
      "text/html": [
       "<div>\n",
       "<style scoped>\n",
       "    .dataframe tbody tr th:only-of-type {\n",
       "        vertical-align: middle;\n",
       "    }\n",
       "\n",
       "    .dataframe tbody tr th {\n",
       "        vertical-align: top;\n",
       "    }\n",
       "\n",
       "    .dataframe thead th {\n",
       "        text-align: right;\n",
       "    }\n",
       "</style>\n",
       "<table border=\"1\" class=\"dataframe\">\n",
       "  <thead>\n",
       "    <tr style=\"text-align: right;\">\n",
       "      <th></th>\n",
       "      <th>survived</th>\n",
       "      <th>fare</th>\n",
       "      <th>embarked</th>\n",
       "      <th>no_relat</th>\n",
       "      <th>age_cat</th>\n",
       "      <th>sex_female</th>\n",
       "      <th>sex_male</th>\n",
       "      <th>pclass_First</th>\n",
       "      <th>pclass_Second</th>\n",
       "      <th>pclass_Third</th>\n",
       "    </tr>\n",
       "  </thead>\n",
       "  <tbody>\n",
       "    <tr>\n",
       "      <th>0</th>\n",
       "      <td>0</td>\n",
       "      <td>7.2500</td>\n",
       "      <td>S</td>\n",
       "      <td>1</td>\n",
       "      <td>young_adult</td>\n",
       "      <td>0</td>\n",
       "      <td>1</td>\n",
       "      <td>0</td>\n",
       "      <td>0</td>\n",
       "      <td>1</td>\n",
       "    </tr>\n",
       "    <tr>\n",
       "      <th>1</th>\n",
       "      <td>1</td>\n",
       "      <td>71.2833</td>\n",
       "      <td>C</td>\n",
       "      <td>1</td>\n",
       "      <td>adult</td>\n",
       "      <td>1</td>\n",
       "      <td>0</td>\n",
       "      <td>1</td>\n",
       "      <td>0</td>\n",
       "      <td>0</td>\n",
       "    </tr>\n",
       "    <tr>\n",
       "      <th>2</th>\n",
       "      <td>1</td>\n",
       "      <td>7.9250</td>\n",
       "      <td>S</td>\n",
       "      <td>0</td>\n",
       "      <td>young_adult</td>\n",
       "      <td>1</td>\n",
       "      <td>0</td>\n",
       "      <td>0</td>\n",
       "      <td>0</td>\n",
       "      <td>1</td>\n",
       "    </tr>\n",
       "    <tr>\n",
       "      <th>3</th>\n",
       "      <td>1</td>\n",
       "      <td>53.1000</td>\n",
       "      <td>S</td>\n",
       "      <td>1</td>\n",
       "      <td>adult</td>\n",
       "      <td>1</td>\n",
       "      <td>0</td>\n",
       "      <td>1</td>\n",
       "      <td>0</td>\n",
       "      <td>0</td>\n",
       "    </tr>\n",
       "    <tr>\n",
       "      <th>4</th>\n",
       "      <td>0</td>\n",
       "      <td>8.0500</td>\n",
       "      <td>S</td>\n",
       "      <td>0</td>\n",
       "      <td>adult</td>\n",
       "      <td>0</td>\n",
       "      <td>1</td>\n",
       "      <td>0</td>\n",
       "      <td>0</td>\n",
       "      <td>1</td>\n",
       "    </tr>\n",
       "    <tr>\n",
       "      <th>...</th>\n",
       "      <td>...</td>\n",
       "      <td>...</td>\n",
       "      <td>...</td>\n",
       "      <td>...</td>\n",
       "      <td>...</td>\n",
       "      <td>...</td>\n",
       "      <td>...</td>\n",
       "      <td>...</td>\n",
       "      <td>...</td>\n",
       "      <td>...</td>\n",
       "    </tr>\n",
       "    <tr>\n",
       "      <th>886</th>\n",
       "      <td>0</td>\n",
       "      <td>13.0000</td>\n",
       "      <td>S</td>\n",
       "      <td>0</td>\n",
       "      <td>young_adult</td>\n",
       "      <td>0</td>\n",
       "      <td>1</td>\n",
       "      <td>0</td>\n",
       "      <td>1</td>\n",
       "      <td>0</td>\n",
       "    </tr>\n",
       "    <tr>\n",
       "      <th>887</th>\n",
       "      <td>1</td>\n",
       "      <td>30.0000</td>\n",
       "      <td>S</td>\n",
       "      <td>0</td>\n",
       "      <td>young_adult</td>\n",
       "      <td>1</td>\n",
       "      <td>0</td>\n",
       "      <td>1</td>\n",
       "      <td>0</td>\n",
       "      <td>0</td>\n",
       "    </tr>\n",
       "    <tr>\n",
       "      <th>888</th>\n",
       "      <td>0</td>\n",
       "      <td>23.4500</td>\n",
       "      <td>S</td>\n",
       "      <td>3</td>\n",
       "      <td>young_adult</td>\n",
       "      <td>1</td>\n",
       "      <td>0</td>\n",
       "      <td>0</td>\n",
       "      <td>0</td>\n",
       "      <td>1</td>\n",
       "    </tr>\n",
       "    <tr>\n",
       "      <th>889</th>\n",
       "      <td>1</td>\n",
       "      <td>30.0000</td>\n",
       "      <td>C</td>\n",
       "      <td>0</td>\n",
       "      <td>young_adult</td>\n",
       "      <td>0</td>\n",
       "      <td>1</td>\n",
       "      <td>1</td>\n",
       "      <td>0</td>\n",
       "      <td>0</td>\n",
       "    </tr>\n",
       "    <tr>\n",
       "      <th>890</th>\n",
       "      <td>0</td>\n",
       "      <td>7.7500</td>\n",
       "      <td>Q</td>\n",
       "      <td>0</td>\n",
       "      <td>adult</td>\n",
       "      <td>0</td>\n",
       "      <td>1</td>\n",
       "      <td>0</td>\n",
       "      <td>0</td>\n",
       "      <td>1</td>\n",
       "    </tr>\n",
       "  </tbody>\n",
       "</table>\n",
       "<p>891 rows × 10 columns</p>\n",
       "</div>"
      ],
      "text/plain": [
       "     survived     fare embarked  no_relat      age_cat  sex_female  sex_male  \\\n",
       "0           0   7.2500        S         1  young_adult           0         1   \n",
       "1           1  71.2833        C         1        adult           1         0   \n",
       "2           1   7.9250        S         0  young_adult           1         0   \n",
       "3           1  53.1000        S         1        adult           1         0   \n",
       "4           0   8.0500        S         0        adult           0         1   \n",
       "..        ...      ...      ...       ...          ...         ...       ...   \n",
       "886         0  13.0000        S         0  young_adult           0         1   \n",
       "887         1  30.0000        S         0  young_adult           1         0   \n",
       "888         0  23.4500        S         3  young_adult           1         0   \n",
       "889         1  30.0000        C         0  young_adult           0         1   \n",
       "890         0   7.7500        Q         0        adult           0         1   \n",
       "\n",
       "     pclass_First  pclass_Second  pclass_Third  \n",
       "0               0              0             1  \n",
       "1               1              0             0  \n",
       "2               0              0             1  \n",
       "3               1              0             0  \n",
       "4               0              0             1  \n",
       "..            ...            ...           ...  \n",
       "886             0              1             0  \n",
       "887             1              0             0  \n",
       "888             0              0             1  \n",
       "889             1              0             0  \n",
       "890             0              0             1  \n",
       "\n",
       "[891 rows x 10 columns]"
      ]
     },
     "execution_count": 539,
     "metadata": {},
     "output_type": "execute_result"
    }
   ],
   "source": [
    "# 가변수로 변환하려는 열을 매개변수에 입력\n",
    "pd.get_dummies(titanic, columns=[\"sex\", \"pclass\"])\n",
    "# 두 번 반복되는 정보는 왜곡된 결과를 도출 -> 하나의 열 삭제(k-1 변환)\n",
    "# -> 0과 1로 이루어진 범주형 열로 변환된 데이터는 하나를 제거하더라도 원하는 정보를 얻을 수 있다. "
   ]
  },
  {
   "cell_type": "code",
   "execution_count": 541,
   "id": "1b2026d8",
   "metadata": {
    "ExecuteTime": {
     "end_time": "2022-10-03T14:45:32.034394Z",
     "start_time": "2022-10-03T14:45:32.022713Z"
    }
   },
   "outputs": [],
   "source": [
    "titanic_d = pd.get_dummies(titanic, columns = [\"sex\", \"pclass\", \"embarked\", \"age_cat\"], drop_first=True)"
   ]
  },
  {
   "cell_type": "code",
   "execution_count": 542,
   "id": "de918385",
   "metadata": {
    "ExecuteTime": {
     "end_time": "2022-10-03T14:45:40.603175Z",
     "start_time": "2022-10-03T14:45:40.581360Z"
    }
   },
   "outputs": [
    {
     "data": {
      "text/html": [
       "<div>\n",
       "<style scoped>\n",
       "    .dataframe tbody tr th:only-of-type {\n",
       "        vertical-align: middle;\n",
       "    }\n",
       "\n",
       "    .dataframe tbody tr th {\n",
       "        vertical-align: top;\n",
       "    }\n",
       "\n",
       "    .dataframe thead th {\n",
       "        text-align: right;\n",
       "    }\n",
       "</style>\n",
       "<table border=\"1\" class=\"dataframe\">\n",
       "  <thead>\n",
       "    <tr style=\"text-align: right;\">\n",
       "      <th></th>\n",
       "      <th>survived</th>\n",
       "      <th>fare</th>\n",
       "      <th>no_relat</th>\n",
       "      <th>sex_male</th>\n",
       "      <th>pclass_Second</th>\n",
       "      <th>pclass_Third</th>\n",
       "      <th>embarked_Q</th>\n",
       "      <th>embarked_S</th>\n",
       "      <th>age_cat_teenager</th>\n",
       "      <th>age_cat_young_adult</th>\n",
       "      <th>age_cat_adult</th>\n",
       "      <th>age_cat_elderly</th>\n",
       "    </tr>\n",
       "  </thead>\n",
       "  <tbody>\n",
       "    <tr>\n",
       "      <th>0</th>\n",
       "      <td>0</td>\n",
       "      <td>7.2500</td>\n",
       "      <td>1</td>\n",
       "      <td>1</td>\n",
       "      <td>0</td>\n",
       "      <td>1</td>\n",
       "      <td>0</td>\n",
       "      <td>1</td>\n",
       "      <td>0</td>\n",
       "      <td>1</td>\n",
       "      <td>0</td>\n",
       "      <td>0</td>\n",
       "    </tr>\n",
       "    <tr>\n",
       "      <th>1</th>\n",
       "      <td>1</td>\n",
       "      <td>71.2833</td>\n",
       "      <td>1</td>\n",
       "      <td>0</td>\n",
       "      <td>0</td>\n",
       "      <td>0</td>\n",
       "      <td>0</td>\n",
       "      <td>0</td>\n",
       "      <td>0</td>\n",
       "      <td>0</td>\n",
       "      <td>1</td>\n",
       "      <td>0</td>\n",
       "    </tr>\n",
       "    <tr>\n",
       "      <th>2</th>\n",
       "      <td>1</td>\n",
       "      <td>7.9250</td>\n",
       "      <td>0</td>\n",
       "      <td>0</td>\n",
       "      <td>0</td>\n",
       "      <td>1</td>\n",
       "      <td>0</td>\n",
       "      <td>1</td>\n",
       "      <td>0</td>\n",
       "      <td>1</td>\n",
       "      <td>0</td>\n",
       "      <td>0</td>\n",
       "    </tr>\n",
       "    <tr>\n",
       "      <th>3</th>\n",
       "      <td>1</td>\n",
       "      <td>53.1000</td>\n",
       "      <td>1</td>\n",
       "      <td>0</td>\n",
       "      <td>0</td>\n",
       "      <td>0</td>\n",
       "      <td>0</td>\n",
       "      <td>1</td>\n",
       "      <td>0</td>\n",
       "      <td>0</td>\n",
       "      <td>1</td>\n",
       "      <td>0</td>\n",
       "    </tr>\n",
       "    <tr>\n",
       "      <th>4</th>\n",
       "      <td>0</td>\n",
       "      <td>8.0500</td>\n",
       "      <td>0</td>\n",
       "      <td>1</td>\n",
       "      <td>0</td>\n",
       "      <td>1</td>\n",
       "      <td>0</td>\n",
       "      <td>1</td>\n",
       "      <td>0</td>\n",
       "      <td>0</td>\n",
       "      <td>1</td>\n",
       "      <td>0</td>\n",
       "    </tr>\n",
       "  </tbody>\n",
       "</table>\n",
       "</div>"
      ],
      "text/plain": [
       "   survived     fare  no_relat  sex_male  pclass_Second  pclass_Third  \\\n",
       "0         0   7.2500         1         1              0             1   \n",
       "1         1  71.2833         1         0              0             0   \n",
       "2         1   7.9250         0         0              0             1   \n",
       "3         1  53.1000         1         0              0             0   \n",
       "4         0   8.0500         0         1              0             1   \n",
       "\n",
       "   embarked_Q  embarked_S  age_cat_teenager  age_cat_young_adult  \\\n",
       "0           0           1                 0                    1   \n",
       "1           0           0                 0                    0   \n",
       "2           0           1                 0                    1   \n",
       "3           0           1                 0                    0   \n",
       "4           0           1                 0                    0   \n",
       "\n",
       "   age_cat_adult  age_cat_elderly  \n",
       "0              0                0  \n",
       "1              1                0  \n",
       "2              0                0  \n",
       "3              1                0  \n",
       "4              1                0  "
      ]
     },
     "execution_count": 542,
     "metadata": {},
     "output_type": "execute_result"
    }
   ],
   "source": [
    "titanic_d.head()"
   ]
  },
  {
   "cell_type": "code",
   "execution_count": 543,
   "id": "f1471d58",
   "metadata": {
    "ExecuteTime": {
     "end_time": "2022-10-03T14:47:06.184171Z",
     "start_time": "2022-10-03T14:47:06.167187Z"
    }
   },
   "outputs": [
    {
     "name": "stdout",
     "output_type": "stream",
     "text": [
      "<class 'pandas.core.frame.DataFrame'>\n",
      "RangeIndex: 891 entries, 0 to 890\n",
      "Data columns (total 12 columns):\n",
      " #   Column               Non-Null Count  Dtype  \n",
      "---  ------               --------------  -----  \n",
      " 0   survived             891 non-null    int64  \n",
      " 1   fare                 891 non-null    float64\n",
      " 2   no_relat             891 non-null    int64  \n",
      " 3   sex_male             891 non-null    uint8  \n",
      " 4   pclass_Second        891 non-null    uint8  \n",
      " 5   pclass_Third         891 non-null    uint8  \n",
      " 6   embarked_Q           891 non-null    uint8  \n",
      " 7   embarked_S           891 non-null    uint8  \n",
      " 8   age_cat_teenager     891 non-null    uint8  \n",
      " 9   age_cat_young_adult  891 non-null    uint8  \n",
      " 10  age_cat_adult        891 non-null    uint8  \n",
      " 11  age_cat_elderly      891 non-null    uint8  \n",
      "dtypes: float64(1), int64(2), uint8(9)\n",
      "memory usage: 28.8 KB\n"
     ]
    }
   ],
   "source": [
    "# 행은 그대로, 열은 늘어남, 추가된 더미형 수는 정수형\n",
    "titanic_d.info()"
   ]
  },
  {
   "cell_type": "markdown",
   "id": "06823e89",
   "metadata": {},
   "source": [
    "#### String Operations"
   ]
  },
  {
   "cell_type": "code",
   "execution_count": 544,
   "id": "9df86657",
   "metadata": {
    "ExecuteTime": {
     "end_time": "2022-10-03T14:48:10.757852Z",
     "start_time": "2022-10-03T14:48:10.733930Z"
    }
   },
   "outputs": [
    {
     "data": {
      "text/html": [
       "<div>\n",
       "<style scoped>\n",
       "    .dataframe tbody tr th:only-of-type {\n",
       "        vertical-align: middle;\n",
       "    }\n",
       "\n",
       "    .dataframe tbody tr th {\n",
       "        vertical-align: top;\n",
       "    }\n",
       "\n",
       "    .dataframe thead th {\n",
       "        text-align: right;\n",
       "    }\n",
       "</style>\n",
       "<table border=\"1\" class=\"dataframe\">\n",
       "  <thead>\n",
       "    <tr style=\"text-align: right;\">\n",
       "      <th></th>\n",
       "      <th>Year</th>\n",
       "      <th>City</th>\n",
       "      <th>Sport</th>\n",
       "      <th>Discipline</th>\n",
       "      <th>Athlete</th>\n",
       "      <th>Country</th>\n",
       "      <th>Gender</th>\n",
       "      <th>Event</th>\n",
       "      <th>Medal</th>\n",
       "    </tr>\n",
       "  </thead>\n",
       "  <tbody>\n",
       "    <tr>\n",
       "      <th>0</th>\n",
       "      <td>1896</td>\n",
       "      <td>Athens</td>\n",
       "      <td>Aquatics</td>\n",
       "      <td>Swimming</td>\n",
       "      <td>HAJOS, Alfred</td>\n",
       "      <td>HUN</td>\n",
       "      <td>Men</td>\n",
       "      <td>100M Freestyle</td>\n",
       "      <td>Gold</td>\n",
       "    </tr>\n",
       "    <tr>\n",
       "      <th>1</th>\n",
       "      <td>1896</td>\n",
       "      <td>Athens</td>\n",
       "      <td>Aquatics</td>\n",
       "      <td>Swimming</td>\n",
       "      <td>HERSCHMANN, Otto</td>\n",
       "      <td>AUT</td>\n",
       "      <td>Men</td>\n",
       "      <td>100M Freestyle</td>\n",
       "      <td>Silver</td>\n",
       "    </tr>\n",
       "    <tr>\n",
       "      <th>2</th>\n",
       "      <td>1896</td>\n",
       "      <td>Athens</td>\n",
       "      <td>Aquatics</td>\n",
       "      <td>Swimming</td>\n",
       "      <td>DRIVAS, Dimitrios</td>\n",
       "      <td>GRE</td>\n",
       "      <td>Men</td>\n",
       "      <td>100M Freestyle For Sailors</td>\n",
       "      <td>Bronze</td>\n",
       "    </tr>\n",
       "    <tr>\n",
       "      <th>3</th>\n",
       "      <td>1896</td>\n",
       "      <td>Athens</td>\n",
       "      <td>Aquatics</td>\n",
       "      <td>Swimming</td>\n",
       "      <td>MALOKINIS, Ioannis</td>\n",
       "      <td>GRE</td>\n",
       "      <td>Men</td>\n",
       "      <td>100M Freestyle For Sailors</td>\n",
       "      <td>Gold</td>\n",
       "    </tr>\n",
       "    <tr>\n",
       "      <th>4</th>\n",
       "      <td>1896</td>\n",
       "      <td>Athens</td>\n",
       "      <td>Aquatics</td>\n",
       "      <td>Swimming</td>\n",
       "      <td>CHASAPIS, Spiridon</td>\n",
       "      <td>GRE</td>\n",
       "      <td>Men</td>\n",
       "      <td>100M Freestyle For Sailors</td>\n",
       "      <td>Silver</td>\n",
       "    </tr>\n",
       "  </tbody>\n",
       "</table>\n",
       "</div>"
      ],
      "text/plain": [
       "   Year    City     Sport Discipline             Athlete Country Gender  \\\n",
       "0  1896  Athens  Aquatics   Swimming       HAJOS, Alfred     HUN    Men   \n",
       "1  1896  Athens  Aquatics   Swimming    HERSCHMANN, Otto     AUT    Men   \n",
       "2  1896  Athens  Aquatics   Swimming   DRIVAS, Dimitrios     GRE    Men   \n",
       "3  1896  Athens  Aquatics   Swimming  MALOKINIS, Ioannis     GRE    Men   \n",
       "4  1896  Athens  Aquatics   Swimming  CHASAPIS, Spiridon     GRE    Men   \n",
       "\n",
       "                        Event   Medal  \n",
       "0              100M Freestyle    Gold  \n",
       "1              100M Freestyle  Silver  \n",
       "2  100M Freestyle For Sailors  Bronze  \n",
       "3  100M Freestyle For Sailors    Gold  \n",
       "4  100M Freestyle For Sailors  Silver  "
      ]
     },
     "execution_count": 544,
     "metadata": {},
     "output_type": "execute_result"
    }
   ],
   "source": [
    "summer.head()"
   ]
  },
  {
   "cell_type": "code",
   "execution_count": 545,
   "id": "421c49da",
   "metadata": {
    "ExecuteTime": {
     "end_time": "2022-10-03T14:49:33.876557Z",
     "start_time": "2022-10-03T14:49:33.849416Z"
    }
   },
   "outputs": [
    {
     "name": "stderr",
     "output_type": "stream",
     "text": [
      "C:\\Users\\skygg\\AppData\\Local\\Temp\\ipykernel_2836\\455228367.py:1: UserWarning: Pandas doesn't allow columns to be created via a new attribute name - see https://pandas.pydata.org/pandas-docs/stable/indexing.html#attribute-access\n",
      "  summer.Athleteh = summer.Athlete.str.title()\n"
     ]
    }
   ],
   "source": [
    "summer.Athleteh = summer.Athlete.str.title()"
   ]
  },
  {
   "cell_type": "code",
   "execution_count": 547,
   "id": "fa28da22",
   "metadata": {
    "ExecuteTime": {
     "end_time": "2022-10-03T14:51:27.883838Z",
     "start_time": "2022-10-03T14:51:27.802792Z"
    }
   },
   "outputs": [
    {
     "data": {
      "text/html": [
       "<div>\n",
       "<style scoped>\n",
       "    .dataframe tbody tr th:only-of-type {\n",
       "        vertical-align: middle;\n",
       "    }\n",
       "\n",
       "    .dataframe tbody tr th {\n",
       "        vertical-align: top;\n",
       "    }\n",
       "\n",
       "    .dataframe thead th {\n",
       "        text-align: right;\n",
       "    }\n",
       "</style>\n",
       "<table border=\"1\" class=\"dataframe\">\n",
       "  <thead>\n",
       "    <tr style=\"text-align: right;\">\n",
       "      <th></th>\n",
       "      <th>0</th>\n",
       "      <th>1</th>\n",
       "    </tr>\n",
       "  </thead>\n",
       "  <tbody>\n",
       "    <tr>\n",
       "      <th>0</th>\n",
       "      <td>HAJOS</td>\n",
       "      <td>Alfred</td>\n",
       "    </tr>\n",
       "    <tr>\n",
       "      <th>1</th>\n",
       "      <td>HERSCHMANN</td>\n",
       "      <td>Otto</td>\n",
       "    </tr>\n",
       "    <tr>\n",
       "      <th>2</th>\n",
       "      <td>DRIVAS</td>\n",
       "      <td>Dimitrios</td>\n",
       "    </tr>\n",
       "    <tr>\n",
       "      <th>3</th>\n",
       "      <td>MALOKINIS</td>\n",
       "      <td>Ioannis</td>\n",
       "    </tr>\n",
       "    <tr>\n",
       "      <th>4</th>\n",
       "      <td>CHASAPIS</td>\n",
       "      <td>Spiridon</td>\n",
       "    </tr>\n",
       "    <tr>\n",
       "      <th>...</th>\n",
       "      <td>...</td>\n",
       "      <td>...</td>\n",
       "    </tr>\n",
       "    <tr>\n",
       "      <th>31160</th>\n",
       "      <td>JANIKOWSKI</td>\n",
       "      <td>Damian</td>\n",
       "    </tr>\n",
       "    <tr>\n",
       "      <th>31161</th>\n",
       "      <td>REZAEI</td>\n",
       "      <td>Ghasem Gholamreza</td>\n",
       "    </tr>\n",
       "    <tr>\n",
       "      <th>31162</th>\n",
       "      <td>TOTROV</td>\n",
       "      <td>Rustam</td>\n",
       "    </tr>\n",
       "    <tr>\n",
       "      <th>31163</th>\n",
       "      <td>ALEKSANYAN</td>\n",
       "      <td>Artur</td>\n",
       "    </tr>\n",
       "    <tr>\n",
       "      <th>31164</th>\n",
       "      <td>LIDBERG</td>\n",
       "      <td>Jimmy</td>\n",
       "    </tr>\n",
       "  </tbody>\n",
       "</table>\n",
       "<p>31165 rows × 2 columns</p>\n",
       "</div>"
      ],
      "text/plain": [
       "                0                  1\n",
       "0           HAJOS             Alfred\n",
       "1      HERSCHMANN               Otto\n",
       "2          DRIVAS          Dimitrios\n",
       "3       MALOKINIS            Ioannis\n",
       "4        CHASAPIS           Spiridon\n",
       "...           ...                ...\n",
       "31160  JANIKOWSKI             Damian\n",
       "31161      REZAEI  Ghasem Gholamreza\n",
       "31162      TOTROV             Rustam\n",
       "31163  ALEKSANYAN              Artur\n",
       "31164     LIDBERG              Jimmy\n",
       "\n",
       "[31165 rows x 2 columns]"
      ]
     },
     "execution_count": 547,
     "metadata": {},
     "output_type": "execute_result"
    }
   ],
   "source": [
    "summer.Athlete.str.split(\", \", n=1, expand=True)"
   ]
  },
  {
   "cell_type": "code",
   "execution_count": 549,
   "id": "22823f04",
   "metadata": {
    "ExecuteTime": {
     "end_time": "2022-10-03T14:52:51.952544Z",
     "start_time": "2022-10-03T14:52:51.884123Z"
    }
   },
   "outputs": [],
   "source": [
    "summer[[\"Surname\", \"First_Name\"]] = summer.Athlete.str.split(\", \", n = 1, expand = True)"
   ]
  },
  {
   "cell_type": "code",
   "execution_count": 550,
   "id": "e5a2461b",
   "metadata": {
    "ExecuteTime": {
     "end_time": "2022-10-03T14:52:58.862607Z",
     "start_time": "2022-10-03T14:52:58.839610Z"
    }
   },
   "outputs": [
    {
     "data": {
      "text/html": [
       "<div>\n",
       "<style scoped>\n",
       "    .dataframe tbody tr th:only-of-type {\n",
       "        vertical-align: middle;\n",
       "    }\n",
       "\n",
       "    .dataframe tbody tr th {\n",
       "        vertical-align: top;\n",
       "    }\n",
       "\n",
       "    .dataframe thead th {\n",
       "        text-align: right;\n",
       "    }\n",
       "</style>\n",
       "<table border=\"1\" class=\"dataframe\">\n",
       "  <thead>\n",
       "    <tr style=\"text-align: right;\">\n",
       "      <th></th>\n",
       "      <th>Year</th>\n",
       "      <th>City</th>\n",
       "      <th>Sport</th>\n",
       "      <th>Discipline</th>\n",
       "      <th>Athlete</th>\n",
       "      <th>Country</th>\n",
       "      <th>Gender</th>\n",
       "      <th>Event</th>\n",
       "      <th>Medal</th>\n",
       "      <th>Surname</th>\n",
       "      <th>First_Name</th>\n",
       "    </tr>\n",
       "  </thead>\n",
       "  <tbody>\n",
       "    <tr>\n",
       "      <th>0</th>\n",
       "      <td>1896</td>\n",
       "      <td>Athens</td>\n",
       "      <td>Aquatics</td>\n",
       "      <td>Swimming</td>\n",
       "      <td>HAJOS, Alfred</td>\n",
       "      <td>HUN</td>\n",
       "      <td>Men</td>\n",
       "      <td>100M Freestyle</td>\n",
       "      <td>Gold</td>\n",
       "      <td>HAJOS</td>\n",
       "      <td>Alfred</td>\n",
       "    </tr>\n",
       "    <tr>\n",
       "      <th>1</th>\n",
       "      <td>1896</td>\n",
       "      <td>Athens</td>\n",
       "      <td>Aquatics</td>\n",
       "      <td>Swimming</td>\n",
       "      <td>HERSCHMANN, Otto</td>\n",
       "      <td>AUT</td>\n",
       "      <td>Men</td>\n",
       "      <td>100M Freestyle</td>\n",
       "      <td>Silver</td>\n",
       "      <td>HERSCHMANN</td>\n",
       "      <td>Otto</td>\n",
       "    </tr>\n",
       "    <tr>\n",
       "      <th>2</th>\n",
       "      <td>1896</td>\n",
       "      <td>Athens</td>\n",
       "      <td>Aquatics</td>\n",
       "      <td>Swimming</td>\n",
       "      <td>DRIVAS, Dimitrios</td>\n",
       "      <td>GRE</td>\n",
       "      <td>Men</td>\n",
       "      <td>100M Freestyle For Sailors</td>\n",
       "      <td>Bronze</td>\n",
       "      <td>DRIVAS</td>\n",
       "      <td>Dimitrios</td>\n",
       "    </tr>\n",
       "    <tr>\n",
       "      <th>3</th>\n",
       "      <td>1896</td>\n",
       "      <td>Athens</td>\n",
       "      <td>Aquatics</td>\n",
       "      <td>Swimming</td>\n",
       "      <td>MALOKINIS, Ioannis</td>\n",
       "      <td>GRE</td>\n",
       "      <td>Men</td>\n",
       "      <td>100M Freestyle For Sailors</td>\n",
       "      <td>Gold</td>\n",
       "      <td>MALOKINIS</td>\n",
       "      <td>Ioannis</td>\n",
       "    </tr>\n",
       "    <tr>\n",
       "      <th>4</th>\n",
       "      <td>1896</td>\n",
       "      <td>Athens</td>\n",
       "      <td>Aquatics</td>\n",
       "      <td>Swimming</td>\n",
       "      <td>CHASAPIS, Spiridon</td>\n",
       "      <td>GRE</td>\n",
       "      <td>Men</td>\n",
       "      <td>100M Freestyle For Sailors</td>\n",
       "      <td>Silver</td>\n",
       "      <td>CHASAPIS</td>\n",
       "      <td>Spiridon</td>\n",
       "    </tr>\n",
       "  </tbody>\n",
       "</table>\n",
       "</div>"
      ],
      "text/plain": [
       "   Year    City     Sport Discipline             Athlete Country Gender  \\\n",
       "0  1896  Athens  Aquatics   Swimming       HAJOS, Alfred     HUN    Men   \n",
       "1  1896  Athens  Aquatics   Swimming    HERSCHMANN, Otto     AUT    Men   \n",
       "2  1896  Athens  Aquatics   Swimming   DRIVAS, Dimitrios     GRE    Men   \n",
       "3  1896  Athens  Aquatics   Swimming  MALOKINIS, Ioannis     GRE    Men   \n",
       "4  1896  Athens  Aquatics   Swimming  CHASAPIS, Spiridon     GRE    Men   \n",
       "\n",
       "                        Event   Medal     Surname First_Name  \n",
       "0              100M Freestyle    Gold       HAJOS     Alfred  \n",
       "1              100M Freestyle  Silver  HERSCHMANN       Otto  \n",
       "2  100M Freestyle For Sailors  Bronze      DRIVAS  Dimitrios  \n",
       "3  100M Freestyle For Sailors    Gold   MALOKINIS    Ioannis  \n",
       "4  100M Freestyle For Sailors  Silver    CHASAPIS   Spiridon  "
      ]
     },
     "execution_count": 550,
     "metadata": {},
     "output_type": "execute_result"
    }
   ],
   "source": [
    "summer.head()"
   ]
  },
  {
   "cell_type": "code",
   "execution_count": 551,
   "id": "21c97137",
   "metadata": {
    "ExecuteTime": {
     "end_time": "2022-10-03T14:54:03.337267Z",
     "start_time": "2022-10-03T14:54:03.310277Z"
    }
   },
   "outputs": [],
   "source": [
    "summer[\"Surname\"] = summer.Surname.str.strip()"
   ]
  },
  {
   "cell_type": "code",
   "execution_count": 553,
   "id": "eb735392",
   "metadata": {
    "ExecuteTime": {
     "end_time": "2022-10-03T14:54:48.228457Z",
     "start_time": "2022-10-03T14:54:48.202827Z"
    }
   },
   "outputs": [],
   "source": [
    "summer[\"First_Name\"] = summer.First_Name.str.strip()"
   ]
  },
  {
   "cell_type": "code",
   "execution_count": 554,
   "id": "1714aa44",
   "metadata": {
    "ExecuteTime": {
     "end_time": "2022-10-03T14:55:13.420845Z",
     "start_time": "2022-10-03T14:55:13.394986Z"
    }
   },
   "outputs": [
    {
     "data": {
      "text/html": [
       "<div>\n",
       "<style scoped>\n",
       "    .dataframe tbody tr th:only-of-type {\n",
       "        vertical-align: middle;\n",
       "    }\n",
       "\n",
       "    .dataframe tbody tr th {\n",
       "        vertical-align: top;\n",
       "    }\n",
       "\n",
       "    .dataframe thead th {\n",
       "        text-align: right;\n",
       "    }\n",
       "</style>\n",
       "<table border=\"1\" class=\"dataframe\">\n",
       "  <thead>\n",
       "    <tr style=\"text-align: right;\">\n",
       "      <th></th>\n",
       "      <th>Year</th>\n",
       "      <th>City</th>\n",
       "      <th>Sport</th>\n",
       "      <th>Discipline</th>\n",
       "      <th>Country</th>\n",
       "      <th>Gender</th>\n",
       "      <th>Event</th>\n",
       "      <th>Medal</th>\n",
       "      <th>Surname</th>\n",
       "      <th>First_Name</th>\n",
       "    </tr>\n",
       "  </thead>\n",
       "  <tbody>\n",
       "    <tr>\n",
       "      <th>0</th>\n",
       "      <td>1896</td>\n",
       "      <td>Athens</td>\n",
       "      <td>Aquatics</td>\n",
       "      <td>Swimming</td>\n",
       "      <td>HUN</td>\n",
       "      <td>Men</td>\n",
       "      <td>100M Freestyle</td>\n",
       "      <td>Gold</td>\n",
       "      <td>HAJOS</td>\n",
       "      <td>Alfred</td>\n",
       "    </tr>\n",
       "    <tr>\n",
       "      <th>1</th>\n",
       "      <td>1896</td>\n",
       "      <td>Athens</td>\n",
       "      <td>Aquatics</td>\n",
       "      <td>Swimming</td>\n",
       "      <td>AUT</td>\n",
       "      <td>Men</td>\n",
       "      <td>100M Freestyle</td>\n",
       "      <td>Silver</td>\n",
       "      <td>HERSCHMANN</td>\n",
       "      <td>Otto</td>\n",
       "    </tr>\n",
       "    <tr>\n",
       "      <th>2</th>\n",
       "      <td>1896</td>\n",
       "      <td>Athens</td>\n",
       "      <td>Aquatics</td>\n",
       "      <td>Swimming</td>\n",
       "      <td>GRE</td>\n",
       "      <td>Men</td>\n",
       "      <td>100M Freestyle For Sailors</td>\n",
       "      <td>Bronze</td>\n",
       "      <td>DRIVAS</td>\n",
       "      <td>Dimitrios</td>\n",
       "    </tr>\n",
       "    <tr>\n",
       "      <th>3</th>\n",
       "      <td>1896</td>\n",
       "      <td>Athens</td>\n",
       "      <td>Aquatics</td>\n",
       "      <td>Swimming</td>\n",
       "      <td>GRE</td>\n",
       "      <td>Men</td>\n",
       "      <td>100M Freestyle For Sailors</td>\n",
       "      <td>Gold</td>\n",
       "      <td>MALOKINIS</td>\n",
       "      <td>Ioannis</td>\n",
       "    </tr>\n",
       "    <tr>\n",
       "      <th>4</th>\n",
       "      <td>1896</td>\n",
       "      <td>Athens</td>\n",
       "      <td>Aquatics</td>\n",
       "      <td>Swimming</td>\n",
       "      <td>GRE</td>\n",
       "      <td>Men</td>\n",
       "      <td>100M Freestyle For Sailors</td>\n",
       "      <td>Silver</td>\n",
       "      <td>CHASAPIS</td>\n",
       "      <td>Spiridon</td>\n",
       "    </tr>\n",
       "    <tr>\n",
       "      <th>...</th>\n",
       "      <td>...</td>\n",
       "      <td>...</td>\n",
       "      <td>...</td>\n",
       "      <td>...</td>\n",
       "      <td>...</td>\n",
       "      <td>...</td>\n",
       "      <td>...</td>\n",
       "      <td>...</td>\n",
       "      <td>...</td>\n",
       "      <td>...</td>\n",
       "    </tr>\n",
       "    <tr>\n",
       "      <th>31160</th>\n",
       "      <td>2012</td>\n",
       "      <td>London</td>\n",
       "      <td>Wrestling</td>\n",
       "      <td>Wrestling Freestyle</td>\n",
       "      <td>POL</td>\n",
       "      <td>Men</td>\n",
       "      <td>Wg 84 KG</td>\n",
       "      <td>Bronze</td>\n",
       "      <td>JANIKOWSKI</td>\n",
       "      <td>Damian</td>\n",
       "    </tr>\n",
       "    <tr>\n",
       "      <th>31161</th>\n",
       "      <td>2012</td>\n",
       "      <td>London</td>\n",
       "      <td>Wrestling</td>\n",
       "      <td>Wrestling Freestyle</td>\n",
       "      <td>IRI</td>\n",
       "      <td>Men</td>\n",
       "      <td>Wg 96 KG</td>\n",
       "      <td>Gold</td>\n",
       "      <td>REZAEI</td>\n",
       "      <td>Ghasem Gholamreza</td>\n",
       "    </tr>\n",
       "    <tr>\n",
       "      <th>31162</th>\n",
       "      <td>2012</td>\n",
       "      <td>London</td>\n",
       "      <td>Wrestling</td>\n",
       "      <td>Wrestling Freestyle</td>\n",
       "      <td>RUS</td>\n",
       "      <td>Men</td>\n",
       "      <td>Wg 96 KG</td>\n",
       "      <td>Silver</td>\n",
       "      <td>TOTROV</td>\n",
       "      <td>Rustam</td>\n",
       "    </tr>\n",
       "    <tr>\n",
       "      <th>31163</th>\n",
       "      <td>2012</td>\n",
       "      <td>London</td>\n",
       "      <td>Wrestling</td>\n",
       "      <td>Wrestling Freestyle</td>\n",
       "      <td>ARM</td>\n",
       "      <td>Men</td>\n",
       "      <td>Wg 96 KG</td>\n",
       "      <td>Bronze</td>\n",
       "      <td>ALEKSANYAN</td>\n",
       "      <td>Artur</td>\n",
       "    </tr>\n",
       "    <tr>\n",
       "      <th>31164</th>\n",
       "      <td>2012</td>\n",
       "      <td>London</td>\n",
       "      <td>Wrestling</td>\n",
       "      <td>Wrestling Freestyle</td>\n",
       "      <td>SWE</td>\n",
       "      <td>Men</td>\n",
       "      <td>Wg 96 KG</td>\n",
       "      <td>Bronze</td>\n",
       "      <td>LIDBERG</td>\n",
       "      <td>Jimmy</td>\n",
       "    </tr>\n",
       "  </tbody>\n",
       "</table>\n",
       "<p>31165 rows × 10 columns</p>\n",
       "</div>"
      ],
      "text/plain": [
       "       Year    City      Sport           Discipline Country Gender  \\\n",
       "0      1896  Athens   Aquatics             Swimming     HUN    Men   \n",
       "1      1896  Athens   Aquatics             Swimming     AUT    Men   \n",
       "2      1896  Athens   Aquatics             Swimming     GRE    Men   \n",
       "3      1896  Athens   Aquatics             Swimming     GRE    Men   \n",
       "4      1896  Athens   Aquatics             Swimming     GRE    Men   \n",
       "...     ...     ...        ...                  ...     ...    ...   \n",
       "31160  2012  London  Wrestling  Wrestling Freestyle     POL    Men   \n",
       "31161  2012  London  Wrestling  Wrestling Freestyle     IRI    Men   \n",
       "31162  2012  London  Wrestling  Wrestling Freestyle     RUS    Men   \n",
       "31163  2012  London  Wrestling  Wrestling Freestyle     ARM    Men   \n",
       "31164  2012  London  Wrestling  Wrestling Freestyle     SWE    Men   \n",
       "\n",
       "                            Event   Medal     Surname         First_Name  \n",
       "0                  100M Freestyle    Gold       HAJOS             Alfred  \n",
       "1                  100M Freestyle  Silver  HERSCHMANN               Otto  \n",
       "2      100M Freestyle For Sailors  Bronze      DRIVAS          Dimitrios  \n",
       "3      100M Freestyle For Sailors    Gold   MALOKINIS            Ioannis  \n",
       "4      100M Freestyle For Sailors  Silver    CHASAPIS           Spiridon  \n",
       "...                           ...     ...         ...                ...  \n",
       "31160                    Wg 84 KG  Bronze  JANIKOWSKI             Damian  \n",
       "31161                    Wg 96 KG    Gold      REZAEI  Ghasem Gholamreza  \n",
       "31162                    Wg 96 KG  Silver      TOTROV             Rustam  \n",
       "31163                    Wg 96 KG  Bronze  ALEKSANYAN              Artur  \n",
       "31164                    Wg 96 KG  Bronze     LIDBERG              Jimmy  \n",
       "\n",
       "[31165 rows x 10 columns]"
      ]
     },
     "execution_count": 554,
     "metadata": {},
     "output_type": "execute_result"
    }
   ],
   "source": [
    "summer.drop(columns=\"Athlete\")"
   ]
  },
  {
   "cell_type": "code",
   "execution_count": null,
   "id": "e7486d51",
   "metadata": {},
   "outputs": [],
   "source": []
  }
 ],
 "metadata": {
  "kernelspec": {
   "display_name": "Python 3 (ipykernel)",
   "language": "python",
   "name": "python3"
  },
  "language_info": {
   "codemirror_mode": {
    "name": "ipython",
    "version": 3
   },
   "file_extension": ".py",
   "mimetype": "text/x-python",
   "name": "python",
   "nbconvert_exporter": "python",
   "pygments_lexer": "ipython3",
   "version": "3.9.12"
  },
  "toc": {
   "base_numbering": 1,
   "nav_menu": {},
   "number_sections": true,
   "sideBar": true,
   "skip_h1_title": false,
   "title_cell": "Table of Contents",
   "title_sidebar": "Contents",
   "toc_cell": false,
   "toc_position": {
    "height": "calc(100% - 180px)",
    "left": "10px",
    "top": "150px",
    "width": "122.88px"
   },
   "toc_section_display": true,
   "toc_window_display": false
  },
  "varInspector": {
   "cols": {
    "lenName": 16,
    "lenType": 16,
    "lenVar": 40
   },
   "kernels_config": {
    "python": {
     "delete_cmd_postfix": "",
     "delete_cmd_prefix": "del ",
     "library": "var_list.py",
     "varRefreshCmd": "print(var_dic_list())"
    },
    "r": {
     "delete_cmd_postfix": ") ",
     "delete_cmd_prefix": "rm(",
     "library": "var_list.r",
     "varRefreshCmd": "cat(var_dic_list()) "
    }
   },
   "types_to_exclude": [
    "module",
    "function",
    "builtin_function_or_method",
    "instance",
    "_Feature"
   ],
   "window_display": false
  }
 },
 "nbformat": 4,
 "nbformat_minor": 5
}
