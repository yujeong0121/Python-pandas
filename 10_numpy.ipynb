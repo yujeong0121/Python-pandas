{
 "cells": [
  {
   "cell_type": "markdown",
   "id": "87a3b0f7",
   "metadata": {},
   "source": [
    "### The Numpy Package\n",
    "넘파이를 사용하면 벡터화 연산을 사용할 수 있고 for, if문 등을 사용할 필요가 없기 때문에 연산이 빠르다, 코드 길이도 줄일 수 있다."
   ]
  },
  {
   "cell_type": "markdown",
   "id": "6e036a85",
   "metadata": {},
   "source": [
    "#### Numpy Array Basics"
   ]
  },
  {
   "cell_type": "code",
   "execution_count": 2,
   "id": "901dc23a",
   "metadata": {
    "ExecuteTime": {
     "end_time": "2022-10-04T06:13:26.788933Z",
     "start_time": "2022-10-04T06:13:26.782934Z"
    }
   },
   "outputs": [],
   "source": [
    "import numpy as np"
   ]
  },
  {
   "cell_type": "code",
   "execution_count": 3,
   "id": "73bb36ad",
   "metadata": {
    "ExecuteTime": {
     "end_time": "2022-10-04T06:16:10.242285Z",
     "start_time": "2022-10-04T06:16:10.226285Z"
    }
   },
   "outputs": [],
   "source": [
    "l = list(range(1,11)) "
   ]
  },
  {
   "cell_type": "code",
   "execution_count": 8,
   "id": "a811ec1b",
   "metadata": {
    "ExecuteTime": {
     "end_time": "2022-10-04T06:18:23.235126Z",
     "start_time": "2022-10-04T06:18:23.219125Z"
    }
   },
   "outputs": [
    {
     "name": "stdout",
     "output_type": "stream",
     "text": [
      "[ 1  2  3  4  5  6  7  8  9 10]\n"
     ]
    }
   ],
   "source": [
    "# 넘파이 배열로 변환\n",
    "my_array = np.array(l)\n",
    "print(my_array)"
   ]
  },
  {
   "cell_type": "code",
   "execution_count": 9,
   "id": "fae95f43",
   "metadata": {
    "ExecuteTime": {
     "end_time": "2022-10-04T06:18:53.048131Z",
     "start_time": "2022-10-04T06:18:53.034130Z"
    }
   },
   "outputs": [
    {
     "data": {
      "text/plain": [
       "numpy.ndarray"
      ]
     },
     "execution_count": 9,
     "metadata": {},
     "output_type": "execute_result"
    }
   ],
   "source": [
    "type(my_array)"
   ]
  },
  {
   "cell_type": "code",
   "execution_count": 7,
   "id": "19696ab1",
   "metadata": {
    "ExecuteTime": {
     "end_time": "2022-10-04T06:17:25.217103Z",
     "start_time": "2022-10-04T06:17:25.199103Z"
    }
   },
   "outputs": [
    {
     "name": "stdout",
     "output_type": "stream",
     "text": [
      "1\n",
      "2\n",
      "3\n",
      "4\n",
      "5\n",
      "6\n",
      "7\n",
      "8\n",
      "9\n",
      "10\n"
     ]
    }
   ],
   "source": [
    "# 리스트와 동일하게 넘파이 배열은 원소를 포함하므로 반복할 수 있음\n",
    "for i in my_array:\n",
    "    print(i)"
   ]
  },
  {
   "cell_type": "code",
   "execution_count": 10,
   "id": "4345adbf",
   "metadata": {
    "ExecuteTime": {
     "end_time": "2022-10-04T06:22:10.252868Z",
     "start_time": "2022-10-04T06:22:10.242870Z"
    }
   },
   "outputs": [],
   "source": [
    "# 리스트는 다른 자료형 저장 가능\n",
    "l = [1, 2.5, \"Dog\", True]"
   ]
  },
  {
   "cell_type": "code",
   "execution_count": 11,
   "id": "c10d935b",
   "metadata": {
    "ExecuteTime": {
     "end_time": "2022-10-04T06:22:39.485230Z",
     "start_time": "2022-10-04T06:22:39.479230Z"
    }
   },
   "outputs": [
    {
     "name": "stdout",
     "output_type": "stream",
     "text": [
      "<class 'int'>\n",
      "<class 'float'>\n",
      "<class 'str'>\n",
      "<class 'bool'>\n"
     ]
    }
   ],
   "source": [
    "for i in l:\n",
    "    print(type(i))"
   ]
  },
  {
   "cell_type": "code",
   "execution_count": 12,
   "id": "35c96104",
   "metadata": {
    "ExecuteTime": {
     "end_time": "2022-10-04T06:22:54.258186Z",
     "start_time": "2022-10-04T06:22:54.246185Z"
    }
   },
   "outputs": [
    {
     "data": {
      "text/plain": [
       "array(['1', '2.5', 'Dog', 'True'], dtype='<U32')"
      ]
     },
     "execution_count": 12,
     "metadata": {},
     "output_type": "execute_result"
    }
   ],
   "source": [
    "a = np.array(l)\n",
    "a"
   ]
  },
  {
   "cell_type": "code",
   "execution_count": 15,
   "id": "c013eb5c",
   "metadata": {
    "ExecuteTime": {
     "end_time": "2022-10-04T06:23:59.274370Z",
     "start_time": "2022-10-04T06:23:59.257371Z"
    }
   },
   "outputs": [
    {
     "name": "stdout",
     "output_type": "stream",
     "text": [
      "<class 'numpy.str_'>\n",
      "<class 'numpy.str_'>\n",
      "<class 'numpy.str_'>\n",
      "<class 'numpy.str_'>\n"
     ]
    }
   ],
   "source": [
    "# 넘파이는 하나의 자료형만 저장 가능\n",
    "# 문자열은 다른 형으로 변환할 수는 없음\n",
    "for i in a:\n",
    "    print(type(i))"
   ]
  },
  {
   "cell_type": "code",
   "execution_count": 19,
   "id": "344d9206",
   "metadata": {
    "ExecuteTime": {
     "end_time": "2022-10-04T06:28:00.254038Z",
     "start_time": "2022-10-04T06:28:00.248036Z"
    }
   },
   "outputs": [
    {
     "data": {
      "text/plain": [
       "array([1., 2., 3.])"
      ]
     },
     "execution_count": 19,
     "metadata": {},
     "output_type": "execute_result"
    }
   ],
   "source": [
    "b = np.array([1.0,2,3])\n",
    "b"
   ]
  },
  {
   "cell_type": "code",
   "execution_count": 20,
   "id": "37fd0ec9",
   "metadata": {
    "ExecuteTime": {
     "end_time": "2022-10-04T06:28:02.583065Z",
     "start_time": "2022-10-04T06:28:02.566065Z"
    }
   },
   "outputs": [
    {
     "data": {
      "text/plain": [
       "numpy.ndarray"
      ]
     },
     "execution_count": 20,
     "metadata": {},
     "output_type": "execute_result"
    }
   ],
   "source": [
    "type(b)"
   ]
  },
  {
   "cell_type": "code",
   "execution_count": 21,
   "id": "1b22db8c",
   "metadata": {
    "ExecuteTime": {
     "end_time": "2022-10-04T06:28:03.005003Z",
     "start_time": "2022-10-04T06:28:02.989014Z"
    }
   },
   "outputs": [
    {
     "data": {
      "text/plain": [
       "dtype('float64')"
      ]
     },
     "execution_count": 21,
     "metadata": {},
     "output_type": "execute_result"
    }
   ],
   "source": [
    "b.dtype"
   ]
  },
  {
   "cell_type": "markdown",
   "id": "a8b4bf74",
   "metadata": {},
   "source": [
    "=> 넘파이는 단일 자료형으로만 구성된다."
   ]
  },
  {
   "cell_type": "markdown",
   "id": "0eb175ef",
   "metadata": {},
   "source": [
    "#### Numpy Array (element-wise operations / vectorization)"
   ]
  },
  {
   "cell_type": "code",
   "execution_count": 22,
   "id": "5efa1e5a",
   "metadata": {
    "ExecuteTime": {
     "end_time": "2022-10-04T06:32:57.673496Z",
     "start_time": "2022-10-04T06:32:57.658497Z"
    }
   },
   "outputs": [
    {
     "data": {
      "text/plain": [
       "array([ 1,  2,  3,  4,  5,  6,  7,  8,  9, 10])"
      ]
     },
     "execution_count": 22,
     "metadata": {},
     "output_type": "execute_result"
    }
   ],
   "source": [
    "np.arange(1,11)"
   ]
  },
  {
   "cell_type": "code",
   "execution_count": 23,
   "id": "eb0c94af",
   "metadata": {
    "ExecuteTime": {
     "end_time": "2022-10-04T06:33:04.984717Z",
     "start_time": "2022-10-04T06:33:04.977177Z"
    }
   },
   "outputs": [
    {
     "data": {
      "text/plain": [
       "array([1, 3, 5, 7, 9])"
      ]
     },
     "execution_count": 23,
     "metadata": {},
     "output_type": "execute_result"
    }
   ],
   "source": [
    "np.arange(1,11,2)"
   ]
  },
  {
   "cell_type": "code",
   "execution_count": 24,
   "id": "a2494bd8",
   "metadata": {
    "ExecuteTime": {
     "end_time": "2022-10-04T06:33:20.796799Z",
     "start_time": "2022-10-04T06:33:20.791799Z"
    }
   },
   "outputs": [
    {
     "data": {
      "text/plain": [
       "[1, 2, 3, 4]"
      ]
     },
     "execution_count": 24,
     "metadata": {},
     "output_type": "execute_result"
    }
   ],
   "source": [
    "l = [1,2,3,4]\n",
    "l"
   ]
  },
  {
   "cell_type": "code",
   "execution_count": 25,
   "id": "12ba75e3",
   "metadata": {
    "ExecuteTime": {
     "end_time": "2022-10-04T06:33:27.067181Z",
     "start_time": "2022-10-04T06:33:27.056181Z"
    }
   },
   "outputs": [
    {
     "data": {
      "text/plain": [
       "[1, 2, 3, 4, 1, 2, 3, 4]"
      ]
     },
     "execution_count": 25,
     "metadata": {},
     "output_type": "execute_result"
    }
   ],
   "source": [
    "# 리스트에 곱하기를 하면 리스트 자체를 반복함\n",
    "l*2"
   ]
  },
  {
   "cell_type": "code",
   "execution_count": 26,
   "id": "a28508b3",
   "metadata": {
    "ExecuteTime": {
     "end_time": "2022-10-04T06:42:50.463329Z",
     "start_time": "2022-10-04T06:42:50.447325Z"
    }
   },
   "outputs": [
    {
     "data": {
      "text/plain": [
       "[2, 4, 6, 8]"
      ]
     },
     "execution_count": 26,
     "metadata": {},
     "output_type": "execute_result"
    }
   ],
   "source": [
    "l1 = []\n",
    "for i in l:\n",
    "    l1.append(i*2)\n",
    "l1"
   ]
  },
  {
   "cell_type": "code",
   "execution_count": 27,
   "id": "21848130",
   "metadata": {
    "ExecuteTime": {
     "end_time": "2022-10-04T06:43:13.699546Z",
     "start_time": "2022-10-04T06:43:13.685545Z"
    }
   },
   "outputs": [
    {
     "ename": "TypeError",
     "evalue": "can only concatenate list (not \"int\") to list",
     "output_type": "error",
     "traceback": [
      "\u001b[1;31m---------------------------------------------------------------------------\u001b[0m",
      "\u001b[1;31mTypeError\u001b[0m                                 Traceback (most recent call last)",
      "\u001b[1;32m~\\AppData\\Local\\Temp/ipykernel_10984/384152985.py\u001b[0m in \u001b[0;36m<module>\u001b[1;34m\u001b[0m\n\u001b[1;32m----> 1\u001b[1;33m \u001b[0ml\u001b[0m\u001b[1;33m+\u001b[0m\u001b[1;36m2\u001b[0m\u001b[1;33m\u001b[0m\u001b[1;33m\u001b[0m\u001b[0m\n\u001b[0m",
      "\u001b[1;31mTypeError\u001b[0m: can only concatenate list (not \"int\") to list"
     ]
    }
   ],
   "source": [
    "# 리스트 요소에 더하기 불가\n",
    "l+2"
   ]
  },
  {
   "cell_type": "markdown",
   "id": "a3746b37",
   "metadata": {},
   "source": [
    "리스트에 연산을 하면 요소들을 직접 연산하지 않는다.\n",
    "=> 넘파이 배열은 가능!"
   ]
  },
  {
   "cell_type": "code",
   "execution_count": 28,
   "id": "2f2a3cd2",
   "metadata": {
    "ExecuteTime": {
     "end_time": "2022-10-04T06:45:16.433567Z",
     "start_time": "2022-10-04T06:45:16.421560Z"
    }
   },
   "outputs": [
    {
     "data": {
      "text/plain": [
       "array([1, 2, 3, 4])"
      ]
     },
     "execution_count": 28,
     "metadata": {},
     "output_type": "execute_result"
    }
   ],
   "source": [
    "a = np.arange(1,5)\n",
    "a"
   ]
  },
  {
   "cell_type": "code",
   "execution_count": 29,
   "id": "e7b1f6d3",
   "metadata": {
    "ExecuteTime": {
     "end_time": "2022-10-04T06:45:21.682375Z",
     "start_time": "2022-10-04T06:45:21.668365Z"
    }
   },
   "outputs": [
    {
     "data": {
      "text/plain": [
       "array([2, 4, 6, 8])"
      ]
     },
     "execution_count": 29,
     "metadata": {},
     "output_type": "execute_result"
    }
   ],
   "source": [
    "a*2"
   ]
  },
  {
   "cell_type": "code",
   "execution_count": 30,
   "id": "e5b7a6f6",
   "metadata": {
    "ExecuteTime": {
     "end_time": "2022-10-04T06:45:26.015564Z",
     "start_time": "2022-10-04T06:45:25.998563Z"
    }
   },
   "outputs": [
    {
     "data": {
      "text/plain": [
       "array([3, 4, 5, 6])"
      ]
     },
     "execution_count": 30,
     "metadata": {},
     "output_type": "execute_result"
    }
   ],
   "source": [
    "a+2"
   ]
  },
  {
   "cell_type": "code",
   "execution_count": 31,
   "id": "13bf4844",
   "metadata": {
    "ExecuteTime": {
     "end_time": "2022-10-04T06:45:32.786333Z",
     "start_time": "2022-10-04T06:45:32.769332Z"
    }
   },
   "outputs": [
    {
     "data": {
      "text/plain": [
       "array([ 1,  4,  9, 16], dtype=int32)"
      ]
     },
     "execution_count": 31,
     "metadata": {},
     "output_type": "execute_result"
    }
   ],
   "source": [
    "a**2"
   ]
  },
  {
   "cell_type": "code",
   "execution_count": 32,
   "id": "14c22b38",
   "metadata": {
    "ExecuteTime": {
     "end_time": "2022-10-04T06:45:52.876572Z",
     "start_time": "2022-10-04T06:45:52.865571Z"
    }
   },
   "outputs": [
    {
     "data": {
      "text/plain": [
       "array([ 2,  4,  8, 16], dtype=int32)"
      ]
     },
     "execution_count": 32,
     "metadata": {},
     "output_type": "execute_result"
    }
   ],
   "source": [
    "2**a"
   ]
  },
  {
   "cell_type": "code",
   "execution_count": 34,
   "id": "14f9eb11",
   "metadata": {
    "ExecuteTime": {
     "end_time": "2022-10-04T06:46:33.713362Z",
     "start_time": "2022-10-04T06:46:33.696362Z"
    }
   },
   "outputs": [
    {
     "data": {
      "text/plain": [
       "array([1.        , 1.41421356, 1.73205081, 2.        ])"
      ]
     },
     "execution_count": 34,
     "metadata": {},
     "output_type": "execute_result"
    }
   ],
   "source": [
    "# 제곱근\n",
    "np.sqrt(a)"
   ]
  },
  {
   "cell_type": "code",
   "execution_count": 36,
   "id": "5e62cd15",
   "metadata": {
    "ExecuteTime": {
     "end_time": "2022-10-04T06:53:22.189659Z",
     "start_time": "2022-10-04T06:53:22.182656Z"
    }
   },
   "outputs": [
    {
     "data": {
      "text/plain": [
       "array([ 2.71828183,  7.3890561 , 20.08553692, 54.59815003])"
      ]
     },
     "execution_count": 36,
     "metadata": {},
     "output_type": "execute_result"
    }
   ],
   "source": [
    "# 지수\n",
    "np.exp(a)"
   ]
  },
  {
   "cell_type": "code",
   "execution_count": 38,
   "id": "689b72bd",
   "metadata": {
    "ExecuteTime": {
     "end_time": "2022-10-04T06:53:52.441218Z",
     "start_time": "2022-10-04T06:53:52.420216Z"
    }
   },
   "outputs": [
    {
     "data": {
      "text/plain": [
       "array([0.        , 0.69314718, 1.09861229, 1.38629436])"
      ]
     },
     "execution_count": 38,
     "metadata": {},
     "output_type": "execute_result"
    }
   ],
   "source": [
    "# 로그\n",
    "np.log(a)"
   ]
  },
  {
   "cell_type": "code",
   "execution_count": 40,
   "id": "b139c724",
   "metadata": {
    "ExecuteTime": {
     "end_time": "2022-10-04T06:54:09.988567Z",
     "start_time": "2022-10-04T06:54:09.972568Z"
    }
   },
   "outputs": [
    {
     "data": {
      "text/plain": [
       "10"
      ]
     },
     "execution_count": 40,
     "metadata": {},
     "output_type": "execute_result"
    }
   ],
   "source": [
    "np.sum(a)"
   ]
  },
  {
   "cell_type": "code",
   "execution_count": 41,
   "id": "e16defd3",
   "metadata": {
    "ExecuteTime": {
     "end_time": "2022-10-04T06:54:17.137669Z",
     "start_time": "2022-10-04T06:54:17.121668Z"
    }
   },
   "outputs": [
    {
     "data": {
      "text/plain": [
       "10"
      ]
     },
     "execution_count": 41,
     "metadata": {},
     "output_type": "execute_result"
    }
   ],
   "source": [
    "sum(a)"
   ]
  },
  {
   "cell_type": "code",
   "execution_count": 42,
   "id": "cd8fa2d6",
   "metadata": {
    "ExecuteTime": {
     "end_time": "2022-10-04T06:54:28.785658Z",
     "start_time": "2022-10-04T06:54:28.775660Z"
    }
   },
   "outputs": [
    {
     "data": {
      "text/plain": [
       "4"
      ]
     },
     "execution_count": 42,
     "metadata": {},
     "output_type": "execute_result"
    }
   ],
   "source": [
    "a.size"
   ]
  },
  {
   "cell_type": "code",
   "execution_count": 43,
   "id": "ade2a965",
   "metadata": {
    "ExecuteTime": {
     "end_time": "2022-10-04T06:54:37.809432Z",
     "start_time": "2022-10-04T06:54:37.798440Z"
    }
   },
   "outputs": [
    {
     "data": {
      "text/plain": [
       "4"
      ]
     },
     "execution_count": 43,
     "metadata": {},
     "output_type": "execute_result"
    }
   ],
   "source": [
    "len(a)"
   ]
  },
  {
   "cell_type": "code",
   "execution_count": 44,
   "id": "b92c7343",
   "metadata": {
    "ExecuteTime": {
     "end_time": "2022-10-04T06:55:13.200671Z",
     "start_time": "2022-10-04T06:55:13.191670Z"
    }
   },
   "outputs": [
    {
     "data": {
      "text/plain": [
       "array([-2. , -1. , -0.5,  0. ,  1. ,  2. ,  3.5])"
      ]
     },
     "execution_count": 44,
     "metadata": {},
     "output_type": "execute_result"
    }
   ],
   "source": [
    "b = np.array([-2,-1,-0.5,0,1,2,3.5])\n",
    "b"
   ]
  },
  {
   "cell_type": "code",
   "execution_count": 45,
   "id": "1fc14c79",
   "metadata": {
    "ExecuteTime": {
     "end_time": "2022-10-04T06:55:23.389666Z",
     "start_time": "2022-10-04T06:55:23.378665Z"
    }
   },
   "outputs": [
    {
     "data": {
      "text/plain": [
       "array([2. , 1. , 0.5, 0. , 1. , 2. , 3.5])"
      ]
     },
     "execution_count": 45,
     "metadata": {},
     "output_type": "execute_result"
    }
   ],
   "source": [
    "np.abs(b)"
   ]
  },
  {
   "cell_type": "code",
   "execution_count": 47,
   "id": "14c868f7",
   "metadata": {
    "ExecuteTime": {
     "end_time": "2022-10-04T06:56:37.032444Z",
     "start_time": "2022-10-04T06:56:37.020452Z"
    }
   },
   "outputs": [
    {
     "data": {
      "text/plain": [
       "array([-1.7, -1.5, -0.2,  0.2,  1.5,  1.7,  2. ])"
      ]
     },
     "execution_count": 47,
     "metadata": {},
     "output_type": "execute_result"
    }
   ],
   "source": [
    "c = np.array([-1.7,-1.5,-0.2,0.2,1.5,1.7,2.0])\n",
    "c"
   ]
  },
  {
   "cell_type": "code",
   "execution_count": 48,
   "id": "5cf804e0",
   "metadata": {
    "ExecuteTime": {
     "end_time": "2022-10-04T06:56:50.369745Z",
     "start_time": "2022-10-04T06:56:50.353744Z"
    }
   },
   "outputs": [
    {
     "data": {
      "text/plain": [
       "array([-1., -1., -0.,  1.,  2.,  2.,  2.])"
      ]
     },
     "execution_count": 48,
     "metadata": {},
     "output_type": "execute_result"
    }
   ],
   "source": [
    "np.ceil(c)"
   ]
  },
  {
   "cell_type": "code",
   "execution_count": 49,
   "id": "1e2ba90a",
   "metadata": {
    "ExecuteTime": {
     "end_time": "2022-10-04T06:57:50.603677Z",
     "start_time": "2022-10-04T06:57:50.591674Z"
    }
   },
   "outputs": [
    {
     "data": {
      "text/plain": [
       "array([-2., -2., -1.,  0.,  1.,  1.,  2.])"
      ]
     },
     "execution_count": 49,
     "metadata": {},
     "output_type": "execute_result"
    }
   ],
   "source": [
    "np.floor(c)"
   ]
  },
  {
   "cell_type": "code",
   "execution_count": 50,
   "id": "f1e0a87d",
   "metadata": {
    "ExecuteTime": {
     "end_time": "2022-10-04T06:58:37.054726Z",
     "start_time": "2022-10-04T06:58:37.037725Z"
    }
   },
   "outputs": [
    {
     "data": {
      "text/plain": [
       "array([-3.2, -0.8,  1.4,  2.6])"
      ]
     },
     "execution_count": 50,
     "metadata": {},
     "output_type": "execute_result"
    }
   ],
   "source": [
    "np.around([-3.23,-0.76,1.44,2.65,],decimals=1)"
   ]
  },
  {
   "cell_type": "markdown",
   "id": "b68d0436",
   "metadata": {},
   "source": [
    "#### Numpy Array (Indexing and Slicing)"
   ]
  },
  {
   "cell_type": "code",
   "execution_count": 2,
   "id": "0de0bcfb",
   "metadata": {
    "ExecuteTime": {
     "end_time": "2022-10-04T07:10:56.339770Z",
     "start_time": "2022-10-04T07:10:56.323772Z"
    }
   },
   "outputs": [
    {
     "data": {
      "text/plain": [
       "array([ 1,  2,  3,  4,  5,  6,  7,  8,  9, 10])"
      ]
     },
     "execution_count": 2,
     "metadata": {},
     "output_type": "execute_result"
    }
   ],
   "source": [
    "a = np.arange(1,11)\n",
    "a"
   ]
  },
  {
   "cell_type": "code",
   "execution_count": 52,
   "id": "1a3299a0",
   "metadata": {
    "ExecuteTime": {
     "end_time": "2022-10-04T07:00:02.465735Z",
     "start_time": "2022-10-04T07:00:02.446732Z"
    }
   },
   "outputs": [
    {
     "data": {
      "text/plain": [
       "1"
      ]
     },
     "execution_count": 52,
     "metadata": {},
     "output_type": "execute_result"
    }
   ],
   "source": [
    "a[0]"
   ]
  },
  {
   "cell_type": "code",
   "execution_count": 53,
   "id": "a745193c",
   "metadata": {
    "ExecuteTime": {
     "end_time": "2022-10-04T07:00:05.560762Z",
     "start_time": "2022-10-04T07:00:05.542762Z"
    }
   },
   "outputs": [
    {
     "data": {
      "text/plain": [
       "2"
      ]
     },
     "execution_count": 53,
     "metadata": {},
     "output_type": "execute_result"
    }
   ],
   "source": [
    "a[1]"
   ]
  },
  {
   "cell_type": "code",
   "execution_count": 54,
   "id": "b125a340",
   "metadata": {
    "ExecuteTime": {
     "end_time": "2022-10-04T07:00:10.340801Z",
     "start_time": "2022-10-04T07:00:10.320805Z"
    }
   },
   "outputs": [
    {
     "data": {
      "text/plain": [
       "10"
      ]
     },
     "execution_count": 54,
     "metadata": {},
     "output_type": "execute_result"
    }
   ],
   "source": [
    "a[-1]"
   ]
  },
  {
   "cell_type": "code",
   "execution_count": 55,
   "id": "de5ed980",
   "metadata": {
    "ExecuteTime": {
     "end_time": "2022-10-04T07:00:51.608777Z",
     "start_time": "2022-10-04T07:00:51.591776Z"
    }
   },
   "outputs": [
    {
     "data": {
      "text/plain": [
       "[(0, 1),\n",
       " (1, 2),\n",
       " (2, 3),\n",
       " (3, 4),\n",
       " (4, 5),\n",
       " (5, 6),\n",
       " (6, 7),\n",
       " (7, 8),\n",
       " (8, 9),\n",
       " (9, 10)]"
      ]
     },
     "execution_count": 55,
     "metadata": {},
     "output_type": "execute_result"
    }
   ],
   "source": [
    "list(enumerate(a)) #(index, value)"
   ]
  },
  {
   "cell_type": "code",
   "execution_count": 56,
   "id": "2bfb6b85",
   "metadata": {
    "ExecuteTime": {
     "end_time": "2022-10-04T07:01:03.104573Z",
     "start_time": "2022-10-04T07:01:03.096573Z"
    }
   },
   "outputs": [
    {
     "data": {
      "text/plain": [
       "array([3, 4, 5, 6])"
      ]
     },
     "execution_count": 56,
     "metadata": {},
     "output_type": "execute_result"
    }
   ],
   "source": [
    "a[2:6]"
   ]
  },
  {
   "cell_type": "code",
   "execution_count": 57,
   "id": "f4c225e8",
   "metadata": {
    "ExecuteTime": {
     "end_time": "2022-10-04T07:01:05.892574Z",
     "start_time": "2022-10-04T07:01:05.873572Z"
    }
   },
   "outputs": [
    {
     "data": {
      "text/plain": [
       "array([ 1,  2,  3,  4,  5,  6,  7,  8,  9, 10])"
      ]
     },
     "execution_count": 57,
     "metadata": {},
     "output_type": "execute_result"
    }
   ],
   "source": [
    "a[:]"
   ]
  },
  {
   "cell_type": "code",
   "execution_count": 58,
   "id": "2e1f9844",
   "metadata": {
    "ExecuteTime": {
     "end_time": "2022-10-04T07:01:17.038717Z",
     "start_time": "2022-10-04T07:01:17.021709Z"
    }
   },
   "outputs": [
    {
     "data": {
      "text/plain": [
       "array([1, 2, 3, 4, 5])"
      ]
     },
     "execution_count": 58,
     "metadata": {},
     "output_type": "execute_result"
    }
   ],
   "source": [
    "a[:5]"
   ]
  },
  {
   "cell_type": "code",
   "execution_count": 59,
   "id": "c3688be0",
   "metadata": {
    "ExecuteTime": {
     "end_time": "2022-10-04T07:01:20.818747Z",
     "start_time": "2022-10-04T07:01:20.810748Z"
    }
   },
   "outputs": [
    {
     "data": {
      "text/plain": [
       "array([ 7,  8,  9, 10])"
      ]
     },
     "execution_count": 59,
     "metadata": {},
     "output_type": "execute_result"
    }
   ],
   "source": [
    "a[6:]"
   ]
  },
  {
   "cell_type": "code",
   "execution_count": 3,
   "id": "fbf09ca0",
   "metadata": {
    "ExecuteTime": {
     "end_time": "2022-10-04T07:10:58.720620Z",
     "start_time": "2022-10-04T07:10:58.704620Z"
    }
   },
   "outputs": [
    {
     "data": {
      "text/plain": [
       "array([1, 3, 5, 7, 9])"
      ]
     },
     "execution_count": 3,
     "metadata": {},
     "output_type": "execute_result"
    }
   ],
   "source": [
    "a[::2]"
   ]
  },
  {
   "cell_type": "code",
   "execution_count": 4,
   "id": "14db883c",
   "metadata": {
    "ExecuteTime": {
     "end_time": "2022-10-04T07:11:10.792401Z",
     "start_time": "2022-10-04T07:11:10.772403Z"
    }
   },
   "outputs": [
    {
     "data": {
      "text/plain": [
       "array([ 1,  4,  7, 10])"
      ]
     },
     "execution_count": 4,
     "metadata": {},
     "output_type": "execute_result"
    }
   ],
   "source": [
    "a[::3]"
   ]
  },
  {
   "cell_type": "code",
   "execution_count": 5,
   "id": "3d4b31ab",
   "metadata": {
    "ExecuteTime": {
     "end_time": "2022-10-04T07:11:19.253770Z",
     "start_time": "2022-10-04T07:11:19.243784Z"
    }
   },
   "outputs": [
    {
     "data": {
      "text/plain": [
       "array([3, 6, 9])"
      ]
     },
     "execution_count": 5,
     "metadata": {},
     "output_type": "execute_result"
    }
   ],
   "source": [
    "a[2::3]"
   ]
  },
  {
   "cell_type": "code",
   "execution_count": 7,
   "id": "7d384d7a",
   "metadata": {
    "ExecuteTime": {
     "end_time": "2022-10-04T07:11:33.845841Z",
     "start_time": "2022-10-04T07:11:33.834840Z"
    }
   },
   "outputs": [
    {
     "data": {
      "text/plain": [
       "array([100,   2,   3,   4,   5,   6,   7,   8,   9,  10])"
      ]
     },
     "execution_count": 7,
     "metadata": {},
     "output_type": "execute_result"
    }
   ],
   "source": [
    "a[0] = 100\n",
    "a"
   ]
  },
  {
   "cell_type": "code",
   "execution_count": 8,
   "id": "b0d2eade",
   "metadata": {
    "ExecuteTime": {
     "end_time": "2022-10-04T07:11:44.204760Z",
     "start_time": "2022-10-04T07:11:44.194761Z"
    }
   },
   "outputs": [
    {
     "data": {
      "text/plain": [
       "array([100,   2,   3,   4,   5,   6,   7,   8,   9, 101])"
      ]
     },
     "execution_count": 8,
     "metadata": {},
     "output_type": "execute_result"
    }
   ],
   "source": [
    "a[-1] = 101\n",
    "a"
   ]
  },
  {
   "cell_type": "code",
   "execution_count": 9,
   "id": "1aa77cb6",
   "metadata": {
    "ExecuteTime": {
     "end_time": "2022-10-04T07:11:53.554357Z",
     "start_time": "2022-10-04T07:11:53.544357Z"
    }
   },
   "outputs": [
    {
     "data": {
      "text/plain": [
       "array([100,   2,  50,  50,  50,   6,   7,   8,   9, 101])"
      ]
     },
     "execution_count": 9,
     "metadata": {},
     "output_type": "execute_result"
    }
   ],
   "source": [
    "a[2:5] = 50\n",
    "a"
   ]
  },
  {
   "cell_type": "code",
   "execution_count": 10,
   "id": "55bf5d86",
   "metadata": {
    "ExecuteTime": {
     "end_time": "2022-10-04T07:12:15.565768Z",
     "start_time": "2022-10-04T07:12:15.544768Z"
    }
   },
   "outputs": [
    {
     "data": {
      "text/plain": [
       "array([100,   2,  50,  51,  52,   6,   7,   8,   9, 101])"
      ]
     },
     "execution_count": 10,
     "metadata": {},
     "output_type": "execute_result"
    }
   ],
   "source": [
    "a[2:5] = [50,51,52]\n",
    "a"
   ]
  },
  {
   "cell_type": "code",
   "execution_count": 22,
   "id": "9bc150f2",
   "metadata": {
    "ExecuteTime": {
     "end_time": "2022-10-04T07:26:06.585621Z",
     "start_time": "2022-10-04T07:26:06.576623Z"
    }
   },
   "outputs": [
    {
     "data": {
      "text/plain": [
       "array([ 1,  2,  3,  4,  5,  6,  7,  8,  9, 10])"
      ]
     },
     "execution_count": 22,
     "metadata": {},
     "output_type": "execute_result"
    }
   ],
   "source": [
    "a= np.arange(1,11)\n",
    "a"
   ]
  },
  {
   "cell_type": "code",
   "execution_count": 23,
   "id": "67a76cdd",
   "metadata": {
    "ExecuteTime": {
     "end_time": "2022-10-04T07:26:07.125822Z",
     "start_time": "2022-10-04T07:26:07.114827Z"
    }
   },
   "outputs": [
    {
     "name": "stdout",
     "output_type": "stream",
     "text": [
      "[3 4 5 6 7 8]\n",
      "[3 4 5 6 7 8]\n"
     ]
    }
   ],
   "source": [
    "# 슬라이싱할 때 사본이 생성되지 않아 \n",
    "# b는 a의 슬라이싱된 복사본이 아닌 a 자체를 참조\n",
    "b = a[2:8]\n",
    "print(b)\n",
    "# 복사복을 만들고 싶은 경우\n",
    "b = a[2:8].copy()\n",
    "print(b)"
   ]
  },
  {
   "cell_type": "code",
   "execution_count": 14,
   "id": "eead2c5e",
   "metadata": {
    "ExecuteTime": {
     "end_time": "2022-10-04T07:13:08.345875Z",
     "start_time": "2022-10-04T07:13:08.335875Z"
    }
   },
   "outputs": [
    {
     "data": {
      "text/plain": [
       "array([100,   4,   5,   6,   7,   8])"
      ]
     },
     "execution_count": 14,
     "metadata": {},
     "output_type": "execute_result"
    }
   ],
   "source": [
    "b[0] = 100\n",
    "b"
   ]
  },
  {
   "cell_type": "code",
   "execution_count": 15,
   "id": "e5730683",
   "metadata": {
    "ExecuteTime": {
     "end_time": "2022-10-04T07:13:14.047738Z",
     "start_time": "2022-10-04T07:13:14.030739Z"
    }
   },
   "outputs": [
    {
     "data": {
      "text/plain": [
       "array([  1,   2, 100,   4,   5,   6,   7,   8,   9,  10])"
      ]
     },
     "execution_count": 15,
     "metadata": {},
     "output_type": "execute_result"
    }
   ],
   "source": [
    "a"
   ]
  },
  {
   "cell_type": "code",
   "execution_count": 16,
   "id": "f8b1e5c3",
   "metadata": {
    "ExecuteTime": {
     "end_time": "2022-10-04T07:17:17.594825Z",
     "start_time": "2022-10-04T07:17:17.585308Z"
    }
   },
   "outputs": [
    {
     "data": {
      "text/plain": [
       "[1, 2, 3, 4, 5, 6, 7, 8, 9, 10]"
      ]
     },
     "execution_count": 16,
     "metadata": {},
     "output_type": "execute_result"
    }
   ],
   "source": [
    "l =list(range(1,11))\n",
    "l"
   ]
  },
  {
   "cell_type": "code",
   "execution_count": 17,
   "id": "64b1a625",
   "metadata": {
    "ExecuteTime": {
     "end_time": "2022-10-04T07:17:34.099766Z",
     "start_time": "2022-10-04T07:17:34.084768Z"
    }
   },
   "outputs": [
    {
     "data": {
      "text/plain": [
       "[3, 4, 5, 6, 7, 8]"
      ]
     },
     "execution_count": 17,
     "metadata": {},
     "output_type": "execute_result"
    }
   ],
   "source": [
    "m = l[2:8]\n",
    "m"
   ]
  },
  {
   "cell_type": "code",
   "execution_count": 19,
   "id": "51e4e20c",
   "metadata": {
    "ExecuteTime": {
     "end_time": "2022-10-04T07:18:04.333773Z",
     "start_time": "2022-10-04T07:18:04.322767Z"
    }
   },
   "outputs": [
    {
     "data": {
      "text/plain": [
       "[100, 4, 5, 6, 7, 8]"
      ]
     },
     "execution_count": 19,
     "metadata": {},
     "output_type": "execute_result"
    }
   ],
   "source": [
    "m[0] = 100\n",
    "m"
   ]
  },
  {
   "cell_type": "code",
   "execution_count": 20,
   "id": "2a8cd7af",
   "metadata": {
    "ExecuteTime": {
     "end_time": "2022-10-04T07:18:14.070549Z",
     "start_time": "2022-10-04T07:18:14.057546Z"
    }
   },
   "outputs": [
    {
     "data": {
      "text/plain": [
       "[1, 2, 3, 4, 5, 6, 7, 8, 9, 10]"
      ]
     },
     "execution_count": 20,
     "metadata": {},
     "output_type": "execute_result"
    }
   ],
   "source": [
    "l"
   ]
  },
  {
   "cell_type": "markdown",
   "id": "9dfc83a8",
   "metadata": {},
   "source": [
    "#### Numpy Array (Shape and multiple Dimensions)"
   ]
  },
  {
   "cell_type": "code",
   "execution_count": 24,
   "id": "d4ddaa18",
   "metadata": {
    "ExecuteTime": {
     "end_time": "2022-10-04T07:27:24.117819Z",
     "start_time": "2022-10-04T07:27:24.106819Z"
    }
   },
   "outputs": [
    {
     "data": {
      "text/plain": [
       "array([ 1,  2,  3,  4,  5,  6,  7,  8,  9, 10, 11, 12])"
      ]
     },
     "execution_count": 24,
     "metadata": {},
     "output_type": "execute_result"
    }
   ],
   "source": [
    "a = np.arange(1, 13)\n",
    "a"
   ]
  },
  {
   "cell_type": "code",
   "execution_count": 25,
   "id": "46bdf803",
   "metadata": {
    "ExecuteTime": {
     "end_time": "2022-10-04T07:27:34.131768Z",
     "start_time": "2022-10-04T07:27:34.117771Z"
    }
   },
   "outputs": [
    {
     "data": {
      "text/plain": [
       "numpy.ndarray"
      ]
     },
     "execution_count": 25,
     "metadata": {},
     "output_type": "execute_result"
    }
   ],
   "source": [
    "type(a)"
   ]
  },
  {
   "cell_type": "code",
   "execution_count": 26,
   "id": "525c7ef4",
   "metadata": {
    "ExecuteTime": {
     "end_time": "2022-10-04T07:27:38.970770Z",
     "start_time": "2022-10-04T07:27:38.955771Z"
    }
   },
   "outputs": [
    {
     "data": {
      "text/plain": [
       "(12,)"
      ]
     },
     "execution_count": 26,
     "metadata": {},
     "output_type": "execute_result"
    }
   ],
   "source": [
    "a.shape"
   ]
  },
  {
   "cell_type": "code",
   "execution_count": 27,
   "id": "b54fae3d",
   "metadata": {
    "ExecuteTime": {
     "end_time": "2022-10-04T17:46:59.568804Z",
     "start_time": "2022-10-04T17:46:59.554767Z"
    }
   },
   "outputs": [],
   "source": [
    "a = a.reshape(2,6)"
   ]
  },
  {
   "cell_type": "code",
   "execution_count": 28,
   "id": "ecaa6efa",
   "metadata": {
    "ExecuteTime": {
     "end_time": "2022-10-04T17:47:02.407427Z",
     "start_time": "2022-10-04T17:47:02.393967Z"
    }
   },
   "outputs": [
    {
     "data": {
      "text/plain": [
       "array([[ 1,  2,  3,  4,  5,  6],\n",
       "       [ 7,  8,  9, 10, 11, 12]])"
      ]
     },
     "execution_count": 28,
     "metadata": {},
     "output_type": "execute_result"
    }
   ],
   "source": [
    "a"
   ]
  },
  {
   "cell_type": "code",
   "execution_count": 29,
   "id": "a618aa92",
   "metadata": {
    "ExecuteTime": {
     "end_time": "2022-10-04T17:47:51.280349Z",
     "start_time": "2022-10-04T17:47:51.268818Z"
    }
   },
   "outputs": [
    {
     "data": {
      "text/plain": [
       "(2, 6)"
      ]
     },
     "execution_count": 29,
     "metadata": {},
     "output_type": "execute_result"
    }
   ],
   "source": [
    "a.shape"
   ]
  },
  {
   "cell_type": "code",
   "execution_count": 30,
   "id": "4b7a2b84",
   "metadata": {
    "ExecuteTime": {
     "end_time": "2022-10-04T17:48:21.587144Z",
     "start_time": "2022-10-04T17:48:21.569148Z"
    }
   },
   "outputs": [
    {
     "data": {
      "text/plain": [
       "array([[ 1,  2],\n",
       "       [ 3,  4],\n",
       "       [ 5,  6],\n",
       "       [ 7,  8],\n",
       "       [ 9, 10],\n",
       "       [11, 12]])"
      ]
     },
     "execution_count": 30,
     "metadata": {},
     "output_type": "execute_result"
    }
   ],
   "source": [
    "a = a.reshape(6,2)\n",
    "a"
   ]
  },
  {
   "cell_type": "code",
   "execution_count": 31,
   "id": "f2f3675f",
   "metadata": {
    "ExecuteTime": {
     "end_time": "2022-10-04T17:48:35.841802Z",
     "start_time": "2022-10-04T17:48:35.829726Z"
    }
   },
   "outputs": [
    {
     "data": {
      "text/plain": [
       "(6, 2)"
      ]
     },
     "execution_count": 31,
     "metadata": {},
     "output_type": "execute_result"
    }
   ],
   "source": [
    "a.shape"
   ]
  },
  {
   "cell_type": "code",
   "execution_count": 32,
   "id": "cb971096",
   "metadata": {
    "ExecuteTime": {
     "end_time": "2022-10-04T17:48:42.931922Z",
     "start_time": "2022-10-04T17:48:42.909088Z"
    }
   },
   "outputs": [
    {
     "data": {
      "text/plain": [
       "array([[101, 102],\n",
       "       [103, 104],\n",
       "       [105, 106],\n",
       "       [107, 108],\n",
       "       [109, 110],\n",
       "       [111, 112]])"
      ]
     },
     "execution_count": 32,
     "metadata": {},
     "output_type": "execute_result"
    }
   ],
   "source": [
    "a + 100"
   ]
  },
  {
   "cell_type": "code",
   "execution_count": 33,
   "id": "f9f9ee98",
   "metadata": {
    "ExecuteTime": {
     "end_time": "2022-10-04T17:48:53.714046Z",
     "start_time": "2022-10-04T17:48:53.643905Z"
    }
   },
   "outputs": [
    {
     "ename": "ValueError",
     "evalue": "cannot reshape array of size 12 into shape (3,5)",
     "output_type": "error",
     "traceback": [
      "\u001b[1;31m---------------------------------------------------------------------------\u001b[0m",
      "\u001b[1;31mValueError\u001b[0m                                Traceback (most recent call last)",
      "Input \u001b[1;32mIn [33]\u001b[0m, in \u001b[0;36m<cell line: 1>\u001b[1;34m()\u001b[0m\n\u001b[1;32m----> 1\u001b[0m \u001b[43ma\u001b[49m\u001b[38;5;241;43m.\u001b[39;49m\u001b[43mreshape\u001b[49m\u001b[43m(\u001b[49m\u001b[38;5;241;43m3\u001b[39;49m\u001b[43m,\u001b[49m\u001b[38;5;241;43m5\u001b[39;49m\u001b[43m)\u001b[49m\n",
      "\u001b[1;31mValueError\u001b[0m: cannot reshape array of size 12 into shape (3,5)"
     ]
    }
   ],
   "source": [
    "a.reshape(3,5) # 원소의 개수가 안 맞아서 불가"
   ]
  },
  {
   "cell_type": "code",
   "execution_count": 34,
   "id": "da6a42f9",
   "metadata": {
    "ExecuteTime": {
     "end_time": "2022-10-04T17:50:10.613780Z",
     "start_time": "2022-10-04T17:50:10.607792Z"
    }
   },
   "outputs": [
    {
     "data": {
      "text/plain": [
       "array([[[ 1,  2,  3],\n",
       "        [ 4,  5,  6]],\n",
       "\n",
       "       [[ 7,  8,  9],\n",
       "        [10, 11, 12]]])"
      ]
     },
     "execution_count": 34,
     "metadata": {},
     "output_type": "execute_result"
    }
   ],
   "source": [
    "a = a.reshape(2,2,3)\n",
    "a"
   ]
  },
  {
   "cell_type": "code",
   "execution_count": 35,
   "id": "87fc1c59",
   "metadata": {
    "ExecuteTime": {
     "end_time": "2022-10-04T17:50:58.827810Z",
     "start_time": "2022-10-04T17:50:58.818814Z"
    }
   },
   "outputs": [
    {
     "data": {
      "text/plain": [
       "(2, 2, 3)"
      ]
     },
     "execution_count": 35,
     "metadata": {},
     "output_type": "execute_result"
    }
   ],
   "source": [
    "a.shape"
   ]
  },
  {
   "cell_type": "code",
   "execution_count": 36,
   "id": "95095409",
   "metadata": {
    "ExecuteTime": {
     "end_time": "2022-10-04T17:52:54.818069Z",
     "start_time": "2022-10-04T17:52:54.799229Z"
    }
   },
   "outputs": [
    {
     "data": {
      "text/plain": [
       "array([[  1,   2,   3,   4],\n",
       "       [  5,   6,   7,   8],\n",
       "       [  9,  10,  11,  12],\n",
       "       [ 13,  14,  15,  16],\n",
       "       [ 17,  18,  19,  20],\n",
       "       [ 21,  22,  23,  24],\n",
       "       [ 25,  26,  27,  28],\n",
       "       [ 29,  30,  31,  32],\n",
       "       [ 33,  34,  35,  36],\n",
       "       [ 37,  38,  39,  40],\n",
       "       [ 41,  42,  43,  44],\n",
       "       [ 45,  46,  47,  48],\n",
       "       [ 49,  50,  51,  52],\n",
       "       [ 53,  54,  55,  56],\n",
       "       [ 57,  58,  59,  60],\n",
       "       [ 61,  62,  63,  64],\n",
       "       [ 65,  66,  67,  68],\n",
       "       [ 69,  70,  71,  72],\n",
       "       [ 73,  74,  75,  76],\n",
       "       [ 77,  78,  79,  80],\n",
       "       [ 81,  82,  83,  84],\n",
       "       [ 85,  86,  87,  88],\n",
       "       [ 89,  90,  91,  92],\n",
       "       [ 93,  94,  95,  96],\n",
       "       [ 97,  98,  99, 100]])"
      ]
     },
     "execution_count": 36,
     "metadata": {},
     "output_type": "execute_result"
    }
   ],
   "source": [
    "b = np.arange(1,101).reshape(25,4)\n",
    "b"
   ]
  },
  {
   "cell_type": "markdown",
   "id": "f9f91378",
   "metadata": {},
   "source": [
    "####  Numpy Array (Indexing and Slicing multi - dimensional arrays)"
   ]
  },
  {
   "cell_type": "code",
   "execution_count": 40,
   "id": "38e66016",
   "metadata": {
    "ExecuteTime": {
     "end_time": "2022-10-04T17:55:40.122879Z",
     "start_time": "2022-10-04T17:55:40.115250Z"
    }
   },
   "outputs": [
    {
     "data": {
      "text/plain": [
       "array([ 1,  2,  3,  4,  5,  6,  7,  8,  9, 10, 11, 12])"
      ]
     },
     "execution_count": 40,
     "metadata": {},
     "output_type": "execute_result"
    }
   ],
   "source": [
    "a = np.arange(1,13)\n",
    "a"
   ]
  },
  {
   "cell_type": "code",
   "execution_count": 42,
   "id": "6155edd0",
   "metadata": {
    "ExecuteTime": {
     "end_time": "2022-10-04T17:55:44.161319Z",
     "start_time": "2022-10-04T17:55:44.148321Z"
    }
   },
   "outputs": [
    {
     "data": {
      "text/plain": [
       "array([[ 1,  2,  3,  4],\n",
       "       [ 5,  6,  7,  8],\n",
       "       [ 9, 10, 11, 12]])"
      ]
     },
     "execution_count": 42,
     "metadata": {},
     "output_type": "execute_result"
    }
   ],
   "source": [
    "a = a.reshape(3,4,order = \"F\") # oder = \"F\" (순서 바꾸기)\n",
    "a"
   ]
  },
  {
   "cell_type": "code",
   "execution_count": 41,
   "id": "14ca9a04",
   "metadata": {
    "ExecuteTime": {
     "end_time": "2022-10-04T17:55:41.795469Z",
     "start_time": "2022-10-04T17:55:41.787519Z"
    }
   },
   "outputs": [
    {
     "data": {
      "text/plain": [
       "1"
      ]
     },
     "execution_count": 41,
     "metadata": {},
     "output_type": "execute_result"
    }
   ],
   "source": [
    "a[0]"
   ]
  },
  {
   "cell_type": "code",
   "execution_count": 43,
   "id": "eba17171",
   "metadata": {
    "ExecuteTime": {
     "end_time": "2022-10-04T17:56:01.623980Z",
     "start_time": "2022-10-04T17:56:01.613986Z"
    }
   },
   "outputs": [
    {
     "data": {
      "text/plain": [
       "array([5, 6, 7, 8])"
      ]
     },
     "execution_count": 43,
     "metadata": {},
     "output_type": "execute_result"
    }
   ],
   "source": [
    "a[1]"
   ]
  },
  {
   "cell_type": "code",
   "execution_count": 44,
   "id": "a7dab1c1",
   "metadata": {
    "ExecuteTime": {
     "end_time": "2022-10-04T17:56:10.686473Z",
     "start_time": "2022-10-04T17:56:10.674476Z"
    }
   },
   "outputs": [
    {
     "data": {
      "text/plain": [
       "array([ 9, 10, 11, 12])"
      ]
     },
     "execution_count": 44,
     "metadata": {},
     "output_type": "execute_result"
    }
   ],
   "source": [
    "a[2]"
   ]
  },
  {
   "cell_type": "code",
   "execution_count": 45,
   "id": "a7e2d075",
   "metadata": {
    "ExecuteTime": {
     "end_time": "2022-10-04T17:56:15.743273Z",
     "start_time": "2022-10-04T17:56:15.726351Z"
    }
   },
   "outputs": [
    {
     "data": {
      "text/plain": [
       "array([ 9, 10, 11, 12])"
      ]
     },
     "execution_count": 45,
     "metadata": {},
     "output_type": "execute_result"
    }
   ],
   "source": [
    "a[-1]"
   ]
  },
  {
   "cell_type": "code",
   "execution_count": 47,
   "id": "2063e673",
   "metadata": {
    "ExecuteTime": {
     "end_time": "2022-10-04T17:57:38.873976Z",
     "start_time": "2022-10-04T17:57:38.856191Z"
    }
   },
   "outputs": [
    {
     "data": {
      "text/plain": [
       "6"
      ]
     },
     "execution_count": 47,
     "metadata": {},
     "output_type": "execute_result"
    }
   ],
   "source": [
    "a[1][1]"
   ]
  },
  {
   "cell_type": "code",
   "execution_count": 48,
   "id": "5f021e38",
   "metadata": {
    "ExecuteTime": {
     "end_time": "2022-10-04T17:57:58.449709Z",
     "start_time": "2022-10-04T17:57:58.431637Z"
    }
   },
   "outputs": [
    {
     "data": {
      "text/plain": [
       "6"
      ]
     },
     "execution_count": 48,
     "metadata": {},
     "output_type": "execute_result"
    }
   ],
   "source": [
    "a[1,1]"
   ]
  },
  {
   "cell_type": "code",
   "execution_count": 49,
   "id": "f25b9927",
   "metadata": {
    "ExecuteTime": {
     "end_time": "2022-10-04T17:58:14.768621Z",
     "start_time": "2022-10-04T17:58:14.749805Z"
    }
   },
   "outputs": [
    {
     "data": {
      "text/plain": [
       "12"
      ]
     },
     "execution_count": 49,
     "metadata": {},
     "output_type": "execute_result"
    }
   ],
   "source": [
    "a[2,-1]"
   ]
  },
  {
   "cell_type": "code",
   "execution_count": 50,
   "id": "3fd06c77",
   "metadata": {
    "ExecuteTime": {
     "end_time": "2022-10-04T17:58:21.917318Z",
     "start_time": "2022-10-04T17:58:21.900359Z"
    }
   },
   "outputs": [
    {
     "data": {
      "text/plain": [
       "array([1, 5, 9])"
      ]
     },
     "execution_count": 50,
     "metadata": {},
     "output_type": "execute_result"
    }
   ],
   "source": [
    "a[:,0]"
   ]
  },
  {
   "cell_type": "code",
   "execution_count": 51,
   "id": "ea41ab51",
   "metadata": {
    "ExecuteTime": {
     "end_time": "2022-10-04T17:58:46.434837Z",
     "start_time": "2022-10-04T17:58:46.417024Z"
    }
   },
   "outputs": [
    {
     "data": {
      "text/plain": [
       "array([ 2,  6, 10])"
      ]
     },
     "execution_count": 51,
     "metadata": {},
     "output_type": "execute_result"
    }
   ],
   "source": [
    "a[:,1]"
   ]
  },
  {
   "cell_type": "code",
   "execution_count": 52,
   "id": "fef90c97",
   "metadata": {
    "ExecuteTime": {
     "end_time": "2022-10-04T17:58:53.182202Z",
     "start_time": "2022-10-04T17:58:53.167298Z"
    }
   },
   "outputs": [
    {
     "data": {
      "text/plain": [
       "array([ 4,  8, 12])"
      ]
     },
     "execution_count": 52,
     "metadata": {},
     "output_type": "execute_result"
    }
   ],
   "source": [
    "a[:,-1]"
   ]
  },
  {
   "cell_type": "code",
   "execution_count": 53,
   "id": "c12ddf84",
   "metadata": {
    "ExecuteTime": {
     "end_time": "2022-10-04T17:59:06.325100Z",
     "start_time": "2022-10-04T17:59:06.308091Z"
    }
   },
   "outputs": [
    {
     "data": {
      "text/plain": [
       "array([[2, 3],\n",
       "       [6, 7]])"
      ]
     },
     "execution_count": 53,
     "metadata": {},
     "output_type": "execute_result"
    }
   ],
   "source": [
    "a[:2, 1:3]"
   ]
  },
  {
   "cell_type": "code",
   "execution_count": 54,
   "id": "7c753e98",
   "metadata": {
    "ExecuteTime": {
     "end_time": "2022-10-04T17:59:08.292310Z",
     "start_time": "2022-10-04T17:59:08.286311Z"
    }
   },
   "outputs": [
    {
     "data": {
      "text/plain": [
       "array([[ 1,  2,  3,  4],\n",
       "       [ 5,  6,  7,  8],\n",
       "       [ 9, 10, 11, 12]])"
      ]
     },
     "execution_count": 54,
     "metadata": {},
     "output_type": "execute_result"
    }
   ],
   "source": [
    "a"
   ]
  },
  {
   "cell_type": "code",
   "execution_count": 55,
   "id": "489d36ae",
   "metadata": {
    "ExecuteTime": {
     "end_time": "2022-10-04T18:01:32.096880Z",
     "start_time": "2022-10-04T18:01:32.087835Z"
    }
   },
   "outputs": [
    {
     "data": {
      "text/plain": [
       "array([[ 1,  5,  9],\n",
       "       [ 2,  6, 10],\n",
       "       [ 3,  7, 11],\n",
       "       [ 4,  8, 12]])"
      ]
     },
     "execution_count": 55,
     "metadata": {},
     "output_type": "execute_result"
    }
   ],
   "source": [
    "a.T"
   ]
  },
  {
   "cell_type": "code",
   "execution_count": 56,
   "id": "19e83cf1",
   "metadata": {
    "ExecuteTime": {
     "end_time": "2022-10-04T18:01:46.027164Z",
     "start_time": "2022-10-04T18:01:46.012060Z"
    }
   },
   "outputs": [
    {
     "data": {
      "text/plain": [
       "array([[ 1,  5,  9],\n",
       "       [ 2,  6, 10],\n",
       "       [ 3,  7, 11],\n",
       "       [ 4,  8, 12]])"
      ]
     },
     "execution_count": 56,
     "metadata": {},
     "output_type": "execute_result"
    }
   ],
   "source": [
    "a.transpose()"
   ]
  },
  {
   "cell_type": "code",
   "execution_count": 57,
   "id": "8062953e",
   "metadata": {
    "ExecuteTime": {
     "end_time": "2022-10-04T18:01:51.514689Z",
     "start_time": "2022-10-04T18:01:51.493841Z"
    }
   },
   "outputs": [
    {
     "data": {
      "text/plain": [
       "array([[ 1,  2,  3,  4],\n",
       "       [ 5,  6,  7,  8],\n",
       "       [ 9, 10, 11, 12]])"
      ]
     },
     "execution_count": 57,
     "metadata": {},
     "output_type": "execute_result"
    }
   ],
   "source": [
    "a"
   ]
  },
  {
   "cell_type": "code",
   "execution_count": 60,
   "id": "3501858b",
   "metadata": {
    "ExecuteTime": {
     "end_time": "2022-10-04T18:03:26.612224Z",
     "start_time": "2022-10-04T18:03:26.601336Z"
    }
   },
   "outputs": [],
   "source": [
    "a[:, -1] = a[:, -1] /4"
   ]
  },
  {
   "cell_type": "code",
   "execution_count": 61,
   "id": "e5ccd6ea",
   "metadata": {
    "ExecuteTime": {
     "end_time": "2022-10-04T18:03:30.686594Z",
     "start_time": "2022-10-04T18:03:30.679691Z"
    }
   },
   "outputs": [
    {
     "data": {
      "text/plain": [
       "array([[ 1,  2,  3,  1],\n",
       "       [ 5,  6,  7,  2],\n",
       "       [ 9, 10, 11,  3]])"
      ]
     },
     "execution_count": 61,
     "metadata": {},
     "output_type": "execute_result"
    }
   ],
   "source": [
    "a"
   ]
  },
  {
   "cell_type": "code",
   "execution_count": 63,
   "id": "b1b5df19",
   "metadata": {
    "ExecuteTime": {
     "end_time": "2022-10-04T18:04:35.627433Z",
     "start_time": "2022-10-04T18:04:35.608611Z"
    }
   },
   "outputs": [
    {
     "data": {
      "text/plain": [
       "array([[ 1,  2,  3,  4],\n",
       "       [ 5,  6,  7,  8],\n",
       "       [ 9, 10, 11, 12]])"
      ]
     },
     "execution_count": 63,
     "metadata": {},
     "output_type": "execute_result"
    }
   ],
   "source": [
    "a = np.arange(1, 13).reshape(3,4)\n",
    "a"
   ]
  },
  {
   "cell_type": "code",
   "execution_count": 64,
   "id": "a2ceac93",
   "metadata": {
    "ExecuteTime": {
     "end_time": "2022-10-04T18:04:42.069457Z",
     "start_time": "2022-10-04T18:04:42.051200Z"
    }
   },
   "outputs": [
    {
     "data": {
      "text/plain": [
       "78"
      ]
     },
     "execution_count": 64,
     "metadata": {},
     "output_type": "execute_result"
    }
   ],
   "source": [
    "a.sum()"
   ]
  },
  {
   "cell_type": "code",
   "execution_count": 70,
   "id": "ca41b9a3",
   "metadata": {
    "ExecuteTime": {
     "end_time": "2022-10-04T18:06:46.128315Z",
     "start_time": "2022-10-04T18:06:46.118771Z"
    }
   },
   "outputs": [
    {
     "data": {
      "text/plain": [
       "array([15, 18, 21, 24])"
      ]
     },
     "execution_count": 70,
     "metadata": {},
     "output_type": "execute_result"
    }
   ],
   "source": [
    "a.sum(axis = 0)"
   ]
  },
  {
   "cell_type": "code",
   "execution_count": 67,
   "id": "693c117e",
   "metadata": {
    "ExecuteTime": {
     "end_time": "2022-10-04T18:05:36.723434Z",
     "start_time": "2022-10-04T18:05:36.703780Z"
    }
   },
   "outputs": [
    {
     "data": {
      "text/plain": [
       "array([10, 26, 42])"
      ]
     },
     "execution_count": 67,
     "metadata": {},
     "output_type": "execute_result"
    }
   ],
   "source": [
    "a.sum(axis = 1)"
   ]
  },
  {
   "cell_type": "code",
   "execution_count": 69,
   "id": "019245a3",
   "metadata": {
    "ExecuteTime": {
     "end_time": "2022-10-04T18:06:17.724625Z",
     "start_time": "2022-10-04T18:06:17.708519Z"
    }
   },
   "outputs": [
    {
     "data": {
      "text/plain": [
       "array([ 1,  3,  6, 10, 15, 21, 28, 36, 45, 55, 66, 78])"
      ]
     },
     "execution_count": 69,
     "metadata": {},
     "output_type": "execute_result"
    }
   ],
   "source": [
    "a.cumsum() # 누적합"
   ]
  },
  {
   "cell_type": "code",
   "execution_count": 71,
   "id": "8cf23d86",
   "metadata": {
    "ExecuteTime": {
     "end_time": "2022-10-04T18:06:47.638221Z",
     "start_time": "2022-10-04T18:06:47.628226Z"
    }
   },
   "outputs": [
    {
     "data": {
      "text/plain": [
       "array([[ 1,  2,  3,  4],\n",
       "       [ 6,  8, 10, 12],\n",
       "       [15, 18, 21, 24]])"
      ]
     },
     "execution_count": 71,
     "metadata": {},
     "output_type": "execute_result"
    }
   ],
   "source": [
    "a.cumsum(axis = 0)"
   ]
  },
  {
   "cell_type": "code",
   "execution_count": 72,
   "id": "617fec5d",
   "metadata": {
    "ExecuteTime": {
     "end_time": "2022-10-04T18:06:59.005369Z",
     "start_time": "2022-10-04T18:06:58.989087Z"
    }
   },
   "outputs": [
    {
     "data": {
      "text/plain": [
       "array([[ 1,  3,  6, 10],\n",
       "       [ 5, 11, 18, 26],\n",
       "       [ 9, 19, 30, 42]])"
      ]
     },
     "execution_count": 72,
     "metadata": {},
     "output_type": "execute_result"
    }
   ],
   "source": [
    "a.cumsum(axis = 1)"
   ]
  },
  {
   "cell_type": "code",
   "execution_count": 73,
   "id": "772b5227",
   "metadata": {
    "ExecuteTime": {
     "end_time": "2022-10-04T18:07:26.093357Z",
     "start_time": "2022-10-04T18:07:26.079266Z"
    }
   },
   "outputs": [
    {
     "data": {
      "text/plain": [
       "479001600"
      ]
     },
     "execution_count": 73,
     "metadata": {},
     "output_type": "execute_result"
    }
   ],
   "source": [
    "a.prod() # 모든 원소 곱하기"
   ]
  },
  {
   "cell_type": "code",
   "execution_count": 74,
   "id": "94e3e48b",
   "metadata": {
    "ExecuteTime": {
     "end_time": "2022-10-04T18:07:39.065633Z",
     "start_time": "2022-10-04T18:07:39.046277Z"
    }
   },
   "outputs": [
    {
     "data": {
      "text/plain": [
       "array([ 45, 120, 231, 384])"
      ]
     },
     "execution_count": 74,
     "metadata": {},
     "output_type": "execute_result"
    }
   ],
   "source": [
    "a.prod(axis = 0)"
   ]
  },
  {
   "cell_type": "code",
   "execution_count": 75,
   "id": "aede68dc",
   "metadata": {
    "ExecuteTime": {
     "end_time": "2022-10-04T18:07:44.925438Z",
     "start_time": "2022-10-04T18:07:44.914436Z"
    }
   },
   "outputs": [
    {
     "data": {
      "text/plain": [
       "array([   24,  1680, 11880])"
      ]
     },
     "execution_count": 75,
     "metadata": {},
     "output_type": "execute_result"
    }
   ],
   "source": [
    "a.prod(axis = 1)"
   ]
  },
  {
   "cell_type": "markdown",
   "id": "9c855276",
   "metadata": {},
   "source": [
    "#### Boolean Indexing"
   ]
  },
  {
   "cell_type": "code",
   "execution_count": 76,
   "id": "b4c2b181",
   "metadata": {
    "ExecuteTime": {
     "end_time": "2022-10-04T18:08:43.913008Z",
     "start_time": "2022-10-04T18:08:43.891870Z"
    }
   },
   "outputs": [
    {
     "data": {
      "text/plain": [
       "array([ 1,  2,  3,  4,  5,  6,  7,  8,  9, 10])"
      ]
     },
     "execution_count": 76,
     "metadata": {},
     "output_type": "execute_result"
    }
   ],
   "source": [
    "a = np.arange(1,11)\n",
    "a"
   ]
  },
  {
   "cell_type": "code",
   "execution_count": 77,
   "id": "05bdaa4b",
   "metadata": {
    "ExecuteTime": {
     "end_time": "2022-10-04T18:09:05.360846Z",
     "start_time": "2022-10-04T18:09:05.348846Z"
    }
   },
   "outputs": [
    {
     "data": {
      "text/plain": [
       "array([False, False, False, False, False,  True,  True,  True,  True,\n",
       "        True])"
      ]
     },
     "execution_count": 77,
     "metadata": {},
     "output_type": "execute_result"
    }
   ],
   "source": [
    "mask1 = a > 5\n",
    "mask1"
   ]
  },
  {
   "cell_type": "code",
   "execution_count": 78,
   "id": "41d1b9f7",
   "metadata": {
    "ExecuteTime": {
     "end_time": "2022-10-04T18:09:25.382018Z",
     "start_time": "2022-10-04T18:09:25.366408Z"
    }
   },
   "outputs": [
    {
     "data": {
      "text/plain": [
       "array([ True,  True,  True,  True,  True,  True,  True, False, False,\n",
       "       False])"
      ]
     },
     "execution_count": 78,
     "metadata": {},
     "output_type": "execute_result"
    }
   ],
   "source": [
    "mask2 = a < 8\n",
    "mask2"
   ]
  },
  {
   "cell_type": "code",
   "execution_count": 80,
   "id": "1c64b1e0",
   "metadata": {
    "ExecuteTime": {
     "end_time": "2022-10-04T18:10:11.779558Z",
     "start_time": "2022-10-04T18:10:11.763446Z"
    }
   },
   "outputs": [
    {
     "data": {
      "text/plain": [
       "array([False, False, False, False, False,  True,  True, False, False,\n",
       "       False])"
      ]
     },
     "execution_count": 80,
     "metadata": {},
     "output_type": "execute_result"
    }
   ],
   "source": [
    "mask3 = (a > 5) & (a < 8)\n",
    "mask3"
   ]
  },
  {
   "cell_type": "code",
   "execution_count": 82,
   "id": "b9626848",
   "metadata": {
    "ExecuteTime": {
     "end_time": "2022-10-04T18:10:27.474730Z",
     "start_time": "2022-10-04T18:10:27.464855Z"
    }
   },
   "outputs": [
    {
     "data": {
      "text/plain": [
       "array([ True,  True,  True,  True,  True,  True,  True,  True,  True,\n",
       "        True])"
      ]
     },
     "execution_count": 82,
     "metadata": {},
     "output_type": "execute_result"
    }
   ],
   "source": [
    "mask4 = (a > 5) | (a < 8)\n",
    "mask4"
   ]
  },
  {
   "cell_type": "code",
   "execution_count": 83,
   "id": "b73f68b1",
   "metadata": {
    "ExecuteTime": {
     "end_time": "2022-10-04T18:10:59.428575Z",
     "start_time": "2022-10-04T18:10:59.411575Z"
    }
   },
   "outputs": [
    {
     "data": {
      "text/plain": [
       "array([ True,  True,  True,  True,  True, False, False,  True,  True,\n",
       "        True])"
      ]
     },
     "execution_count": 83,
     "metadata": {},
     "output_type": "execute_result"
    }
   ],
   "source": [
    "mask5 = ~((a > 5) & (a < 8))\n",
    "mask5 "
   ]
  },
  {
   "cell_type": "code",
   "execution_count": 84,
   "id": "e7c277fb",
   "metadata": {
    "ExecuteTime": {
     "end_time": "2022-10-04T18:11:20.478036Z",
     "start_time": "2022-10-04T18:11:20.465697Z"
    }
   },
   "outputs": [
    {
     "data": {
      "text/plain": [
       "array([ 6,  7,  8,  9, 10])"
      ]
     },
     "execution_count": 84,
     "metadata": {},
     "output_type": "execute_result"
    }
   ],
   "source": [
    "a[a>5]"
   ]
  },
  {
   "cell_type": "code",
   "execution_count": 85,
   "id": "7e215920",
   "metadata": {
    "ExecuteTime": {
     "end_time": "2022-10-04T18:11:28.373206Z",
     "start_time": "2022-10-04T18:11:28.354991Z"
    }
   },
   "outputs": [
    {
     "data": {
      "text/plain": [
       "array([ 6,  7,  8,  9, 10])"
      ]
     },
     "execution_count": 85,
     "metadata": {},
     "output_type": "execute_result"
    }
   ],
   "source": [
    "a[mask1]"
   ]
  },
  {
   "cell_type": "code",
   "execution_count": 86,
   "id": "48210f36",
   "metadata": {
    "ExecuteTime": {
     "end_time": "2022-10-04T18:11:30.814177Z",
     "start_time": "2022-10-04T18:11:30.796303Z"
    }
   },
   "outputs": [
    {
     "data": {
      "text/plain": [
       "array([1, 2, 3, 4, 5, 6, 7])"
      ]
     },
     "execution_count": 86,
     "metadata": {},
     "output_type": "execute_result"
    }
   ],
   "source": [
    "a[mask2]"
   ]
  },
  {
   "cell_type": "code",
   "execution_count": 87,
   "id": "5cdfa75c",
   "metadata": {
    "ExecuteTime": {
     "end_time": "2022-10-04T18:11:33.402025Z",
     "start_time": "2022-10-04T18:11:33.389317Z"
    }
   },
   "outputs": [
    {
     "data": {
      "text/plain": [
       "array([ 1,  2,  3,  4,  5,  6,  7,  8,  9, 10])"
      ]
     },
     "execution_count": 87,
     "metadata": {},
     "output_type": "execute_result"
    }
   ],
   "source": [
    "a[mask3]"
   ]
  },
  {
   "cell_type": "code",
   "execution_count": 88,
   "id": "9e52c93c",
   "metadata": {
    "ExecuteTime": {
     "end_time": "2022-10-04T18:11:36.807766Z",
     "start_time": "2022-10-04T18:11:36.796764Z"
    }
   },
   "outputs": [
    {
     "data": {
      "text/plain": [
       "array([ 1,  2,  3,  4,  5,  6,  7,  8,  9, 10])"
      ]
     },
     "execution_count": 88,
     "metadata": {},
     "output_type": "execute_result"
    }
   ],
   "source": [
    "a[mask4]"
   ]
  },
  {
   "cell_type": "code",
   "execution_count": 89,
   "id": "ea274ea1",
   "metadata": {
    "ExecuteTime": {
     "end_time": "2022-10-04T18:11:49.850707Z",
     "start_time": "2022-10-04T18:11:49.831908Z"
    }
   },
   "outputs": [
    {
     "data": {
      "text/plain": [
       "array([ 1,  2,  3,  4,  5,  8,  9, 10])"
      ]
     },
     "execution_count": 89,
     "metadata": {},
     "output_type": "execute_result"
    }
   ],
   "source": [
    "a[mask5]"
   ]
  },
  {
   "cell_type": "markdown",
   "id": "e6c2626a",
   "metadata": {},
   "source": [
    "#### Random Numbers"
   ]
  },
  {
   "cell_type": "code",
   "execution_count": 91,
   "id": "e397317a",
   "metadata": {
    "ExecuteTime": {
     "end_time": "2022-10-04T18:16:24.000118Z",
     "start_time": "2022-10-04T18:16:23.992977Z"
    }
   },
   "outputs": [
    {
     "data": {
      "text/plain": [
       "array([71, 38, 12, 96, 13, 95, 83, 78, 72, 50])"
      ]
     },
     "execution_count": 91,
     "metadata": {},
     "output_type": "execute_result"
    }
   ],
   "source": [
    "# 1 ~ 100 사이의 수 중에서 10개 랜덤 생성\n",
    "a = np.random.randint(1, 101, 10)\n",
    "a"
   ]
  },
  {
   "cell_type": "code",
   "execution_count": 92,
   "id": "72ba56e4",
   "metadata": {
    "ExecuteTime": {
     "end_time": "2022-10-04T18:17:22.402300Z",
     "start_time": "2022-10-04T18:17:22.394324Z"
    }
   },
   "outputs": [
    {
     "data": {
      "text/plain": [
       "array([67, 93, 99, 18, 84, 58, 87, 98, 97, 48])"
      ]
     },
     "execution_count": 92,
     "metadata": {},
     "output_type": "execute_result"
    }
   ],
   "source": [
    "# seed의 숫자를 설정하면 동일한 난수를 생성할 수 있음\n",
    "np.random.seed(123) \n",
    "a = np.random.randint(1, 101, 10)\n",
    "a"
   ]
  },
  {
   "cell_type": "code",
   "execution_count": 93,
   "id": "03300d15",
   "metadata": {
    "ExecuteTime": {
     "end_time": "2022-10-04T18:18:45.506372Z",
     "start_time": "2022-10-04T18:18:45.486821Z"
    }
   },
   "outputs": [
    {
     "data": {
      "text/plain": [
       "array([1.76139987, 2.77207117, 4.10511856, 8.33680322, 4.71325505,\n",
       "       3.7616182 , 3.46113306, 6.15349204, 5.25305184, 2.39702205])"
      ]
     },
     "execution_count": 93,
     "metadata": {},
     "output_type": "execute_result"
    }
   ],
   "source": [
    "# 정규분포 난수 생성\n",
    "# 평균은 5이고 표준편차가 2인 정규분포를 따르는 난수 10개\n",
    "np.random.normal(5,2,10)"
   ]
  },
  {
   "cell_type": "code",
   "execution_count": 95,
   "id": "5663f5d6",
   "metadata": {
    "ExecuteTime": {
     "end_time": "2022-10-04T18:20:41.725567Z",
     "start_time": "2022-10-04T18:20:41.718419Z"
    }
   },
   "outputs": [
    {
     "data": {
      "text/plain": [
       "array([  1,   2,   3,   4,   5,   6,   7,   8,   9,  10,  11,  12,  13,\n",
       "        14,  15,  16,  17,  18,  19,  20,  21,  22,  23,  24,  25,  26,\n",
       "        27,  28,  29,  30,  31,  32,  33,  34,  35,  36,  37,  38,  39,\n",
       "        40,  41,  42,  43,  44,  45,  46,  47,  48,  49,  50,  51,  52,\n",
       "        53,  54,  55,  56,  57,  58,  59,  60,  61,  62,  63,  64,  65,\n",
       "        66,  67,  68,  69,  70,  71,  72,  73,  74,  75,  76,  77,  78,\n",
       "        79,  80,  81,  82,  83,  84,  85,  86,  87,  88,  89,  90,  91,\n",
       "        92,  93,  94,  95,  96,  97,  98,  99, 100])"
      ]
     },
     "execution_count": 95,
     "metadata": {},
     "output_type": "execute_result"
    }
   ],
   "source": [
    "b = np.arange(1,101)\n",
    "b"
   ]
  },
  {
   "cell_type": "code",
   "execution_count": 105,
   "id": "dc4ca8f9",
   "metadata": {
    "ExecuteTime": {
     "end_time": "2022-10-04T18:22:23.696820Z",
     "start_time": "2022-10-04T18:22:23.689038Z"
    }
   },
   "outputs": [],
   "source": [
    "# 원소를 무작위로 섞음\n",
    "np.random.shuffle(b)"
   ]
  },
  {
   "cell_type": "code",
   "execution_count": 106,
   "id": "27cd3da1",
   "metadata": {
    "ExecuteTime": {
     "end_time": "2022-10-04T18:22:24.165877Z",
     "start_time": "2022-10-04T18:22:24.148164Z"
    }
   },
   "outputs": [
    {
     "data": {
      "text/plain": [
       "array([ 35,  58,  72,  21,  81,  48,  80,  23,  60,  93,  13,  43,  73,\n",
       "        20,   1,  86,  30,  69,  76,  16,  39,  32,  70,  44,  95,  49,\n",
       "        67,  17,  98,  31,   5,  33,  40,  22,  15,  53,  75,  82,  74,\n",
       "        62,  50,  11,  54,  88,  27,  12,  96,  65,  10,  55,  28,  56,\n",
       "        36,  46,  63,  19,   3,  38,  51,  34,   6,  24,  47,  25,  18,\n",
       "         4,  83,  57,  42,   2,  99,  91,  92,  26,  84,  90,  97,   7,\n",
       "        79,   9,  78,  59,  87,  41,  37,  85,  64,  29,  14,  71,  89,\n",
       "       100,  52,  45,  68,  77,  66,  61,  94,   8])"
      ]
     },
     "execution_count": 106,
     "metadata": {},
     "output_type": "execute_result"
    }
   ],
   "source": [
    "b"
   ]
  },
  {
   "cell_type": "code",
   "execution_count": 107,
   "id": "070d5ec5",
   "metadata": {
    "ExecuteTime": {
     "end_time": "2022-10-04T18:22:31.585003Z",
     "start_time": "2022-10-04T18:22:31.567788Z"
    }
   },
   "outputs": [],
   "source": [
    "b.sort() # 오름차순 정렬(내림차순 정렬은 지원하지 않음)"
   ]
  },
  {
   "cell_type": "code",
   "execution_count": 109,
   "id": "7b9791ec",
   "metadata": {
    "ExecuteTime": {
     "end_time": "2022-10-04T18:22:57.454256Z",
     "start_time": "2022-10-04T18:22:57.435255Z"
    }
   },
   "outputs": [
    {
     "data": {
      "text/plain": [
       "array([100,  99,  98,  97,  96,  95,  94,  93,  92,  91,  90,  89,  88,\n",
       "        87,  86,  85,  84,  83,  82,  81,  80,  79,  78,  77,  76,  75,\n",
       "        74,  73,  72,  71,  70,  69,  68,  67,  66,  65,  64,  63,  62,\n",
       "        61,  60,  59,  58,  57,  56,  55,  54,  53,  52,  51,  50,  49,\n",
       "        48,  47,  46,  45,  44,  43,  42,  41,  40,  39,  38,  37,  36,\n",
       "        35,  34,  33,  32,  31,  30,  29,  28,  27,  26,  25,  24,  23,\n",
       "        22,  21,  20,  19,  18,  17,  16,  15,  14,  13,  12,  11,  10,\n",
       "         9,   8,   7,   6,   5,   4,   3,   2,   1])"
      ]
     },
     "execution_count": 109,
     "metadata": {},
     "output_type": "execute_result"
    }
   ],
   "source": [
    "b[::-1] # 내림차순 정렬을 원할 시"
   ]
  },
  {
   "cell_type": "code",
   "execution_count": 108,
   "id": "7352202d",
   "metadata": {
    "ExecuteTime": {
     "end_time": "2022-10-04T18:22:49.462732Z",
     "start_time": "2022-10-04T18:22:49.444657Z"
    }
   },
   "outputs": [
    {
     "data": {
      "text/plain": [
       "array([  1,   2,   3,   4,   5,   6,   7,   8,   9,  10,  11,  12,  13,\n",
       "        14,  15,  16,  17,  18,  19,  20,  21,  22,  23,  24,  25,  26,\n",
       "        27,  28,  29,  30,  31,  32,  33,  34,  35,  36,  37,  38,  39,\n",
       "        40,  41,  42,  43,  44,  45,  46,  47,  48,  49,  50,  51,  52,\n",
       "        53,  54,  55,  56,  57,  58,  59,  60,  61,  62,  63,  64,  65,\n",
       "        66,  67,  68,  69,  70,  71,  72,  73,  74,  75,  76,  77,  78,\n",
       "        79,  80,  81,  82,  83,  84,  85,  86,  87,  88,  89,  90,  91,\n",
       "        92,  93,  94,  95,  96,  97,  98,  99, 100])"
      ]
     },
     "execution_count": 108,
     "metadata": {},
     "output_type": "execute_result"
    }
   ],
   "source": [
    "b"
   ]
  },
  {
   "cell_type": "code",
   "execution_count": 110,
   "id": "63b800b5",
   "metadata": {
    "ExecuteTime": {
     "end_time": "2022-10-04T18:24:54.432448Z",
     "start_time": "2022-10-04T18:24:54.411490Z"
    }
   },
   "outputs": [
    {
     "data": {
      "text/plain": [
       "array([ 67,  93,  99,  18,  84,  58,  87,  98,  97,  48,  74,  33,  47,\n",
       "        97,  26,  84,  79,  37,  97,  81,  69,  50,  56,  68,   3,  85,\n",
       "        40,  67,  85,  48,  62,  49,   8, 100,  93,  53,  98,  86,  95,\n",
       "        28,  35,  98,  77,  41,   4,  70,  65,  76,  35,  59,  11,  23,\n",
       "        78,  19,  16,  28,  31,  53,  71,  27,  81,   7,  15,  76,  55,\n",
       "        72,   2,  44,  59,  56,  26,  51,  85,  57,  50,  13,  19,  82,\n",
       "         2,  52,  45,  49,  57,  92,  50,  87,   4,  68,  12,  22,  90,\n",
       "        99,   4,  12,   4,  95,   7,  10,  88,  15])"
      ]
     },
     "execution_count": 110,
     "metadata": {},
     "output_type": "execute_result"
    }
   ],
   "source": [
    "np.random.seed(123)\n",
    "b1 = np.random.choice(b, 100, replace = True) # True(복원 추출)이면 1이 선택되고 또 1이 선택될 수 있다, False(비복원 추출)\n",
    "b1"
   ]
  },
  {
   "cell_type": "code",
   "execution_count": 111,
   "id": "a7b936f8",
   "metadata": {
    "ExecuteTime": {
     "end_time": "2022-10-04T18:27:20.896835Z",
     "start_time": "2022-10-04T18:27:20.882654Z"
    }
   },
   "outputs": [
    {
     "data": {
      "text/plain": [
       "array([  2,   2,   3,   4,   4,   4,   4,   7,   7,   8,  10,  11,  12,\n",
       "        12,  13,  15,  15,  16,  18,  19,  19,  22,  23,  26,  26,  27,\n",
       "        28,  28,  31,  33,  35,  35,  37,  40,  41,  44,  45,  47,  48,\n",
       "        48,  49,  49,  50,  50,  50,  51,  52,  53,  53,  55,  56,  56,\n",
       "        57,  57,  58,  59,  59,  62,  65,  67,  67,  68,  68,  69,  70,\n",
       "        71,  72,  74,  76,  76,  77,  78,  79,  81,  81,  82,  84,  84,\n",
       "        85,  85,  85,  86,  87,  87,  88,  90,  92,  93,  93,  95,  95,\n",
       "        97,  97,  97,  98,  98,  98,  99,  99, 100])"
      ]
     },
     "execution_count": 111,
     "metadata": {},
     "output_type": "execute_result"
    }
   ],
   "source": [
    "b1.sort()\n",
    "b1"
   ]
  },
  {
   "cell_type": "code",
   "execution_count": 112,
   "id": "feac7ece",
   "metadata": {
    "ExecuteTime": {
     "end_time": "2022-10-04T18:27:39.155753Z",
     "start_time": "2022-10-04T18:27:39.133749Z"
    }
   },
   "outputs": [
    {
     "data": {
      "text/plain": [
       "array([  2,   3,   4,   7,   8,  10,  11,  12,  13,  15,  16,  18,  19,\n",
       "        22,  23,  26,  27,  28,  31,  33,  35,  37,  40,  41,  44,  45,\n",
       "        47,  48,  49,  50,  51,  52,  53,  55,  56,  57,  58,  59,  62,\n",
       "        65,  67,  68,  69,  70,  71,  72,  74,  76,  77,  78,  79,  81,\n",
       "        82,  84,  85,  86,  87,  88,  90,  92,  93,  95,  97,  98,  99,\n",
       "       100])"
      ]
     },
     "execution_count": 112,
     "metadata": {},
     "output_type": "execute_result"
    }
   ],
   "source": [
    "np.unique(b1)"
   ]
  },
  {
   "cell_type": "code",
   "execution_count": 113,
   "id": "ca6ca477",
   "metadata": {
    "ExecuteTime": {
     "end_time": "2022-10-04T18:28:40.917288Z",
     "start_time": "2022-10-04T18:28:40.883554Z"
    }
   },
   "outputs": [
    {
     "data": {
      "text/plain": [
       "array([  2,   3,   4,   7,   8,  10,  11,  12,  13,  15,  16,  18,  19,\n",
       "        22,  23,  26,  27,  28,  31,  33,  35,  37,  40,  41,  44,  45,\n",
       "        47,  48,  49,  50,  51,  52,  53,  55,  56,  57,  58,  59,  62,\n",
       "        65,  67,  68,  69,  70,  71,  72,  74,  76,  77,  78,  79,  81,\n",
       "        82,  84,  85,  86,  87,  88,  90,  92,  93,  95,  97,  98,  99,\n",
       "       100])"
      ]
     },
     "execution_count": 113,
     "metadata": {},
     "output_type": "execute_result"
    }
   ],
   "source": [
    "np.array(list(set(b1))) # 집합 자료형으로 보면 중복 제거"
   ]
  },
  {
   "cell_type": "code",
   "execution_count": 114,
   "id": "062faf83",
   "metadata": {
    "ExecuteTime": {
     "end_time": "2022-10-04T18:29:16.917441Z",
     "start_time": "2022-10-04T18:29:16.904433Z"
    }
   },
   "outputs": [
    {
     "data": {
      "text/plain": [
       "66"
      ]
     },
     "execution_count": 114,
     "metadata": {},
     "output_type": "execute_result"
    }
   ],
   "source": [
    "np.unique(b1).size"
   ]
  },
  {
   "cell_type": "code",
   "execution_count": 115,
   "id": "7ab2a248",
   "metadata": {
    "ExecuteTime": {
     "end_time": "2022-10-04T18:29:56.346635Z",
     "start_time": "2022-10-04T18:29:56.329635Z"
    }
   },
   "outputs": [
    {
     "data": {
      "text/plain": [
       "(array([  2,   3,   4,   7,   8,  10,  11,  12,  13,  15,  16,  18,  19,\n",
       "         22,  23,  26,  27,  28,  31,  33,  35,  37,  40,  41,  44,  45,\n",
       "         47,  48,  49,  50,  51,  52,  53,  55,  56,  57,  58,  59,  62,\n",
       "         65,  67,  68,  69,  70,  71,  72,  74,  76,  77,  78,  79,  81,\n",
       "         82,  84,  85,  86,  87,  88,  90,  92,  93,  95,  97,  98,  99,\n",
       "        100]),\n",
       " array([ 0,  2,  3,  7,  9, 10, 11, 12, 14, 15, 17, 18, 19, 21, 22, 23, 25,\n",
       "        26, 28, 29, 30, 32, 33, 34, 35, 36, 37, 38, 40, 42, 45, 46, 47, 49,\n",
       "        50, 52, 54, 55, 57, 58, 59, 61, 63, 64, 65, 66, 67, 68, 70, 71, 72,\n",
       "        73, 75, 76, 78, 81, 82, 84, 85, 86, 87, 89, 91, 94, 97, 99],\n",
       "       dtype=int64),\n",
       " array([2, 1, 4, 2, 1, 1, 1, 2, 1, 2, 1, 1, 2, 1, 1, 2, 1, 2, 1, 1, 2, 1,\n",
       "        1, 1, 1, 1, 1, 2, 2, 3, 1, 1, 2, 1, 2, 2, 1, 2, 1, 1, 2, 2, 1, 1,\n",
       "        1, 1, 1, 2, 1, 1, 1, 2, 1, 2, 3, 1, 2, 1, 1, 1, 2, 2, 3, 3, 2, 1],\n",
       "       dtype=int64))"
      ]
     },
     "execution_count": 115,
     "metadata": {},
     "output_type": "execute_result"
    }
   ],
   "source": [
    "# 최초로 해당 숫자가 등장한 인덱스와 등장 횟수\n",
    "np.unique(b1, return_index=True, return_counts=True)"
   ]
  },
  {
   "cell_type": "markdown",
   "id": "c81e2741",
   "metadata": {},
   "source": [
    "#### Performance"
   ]
  },
  {
   "cell_type": "code",
   "execution_count": 129,
   "id": "8dc5d50c",
   "metadata": {
    "ExecuteTime": {
     "end_time": "2022-10-04T18:42:11.676717Z",
     "start_time": "2022-10-04T18:42:11.669731Z"
    }
   },
   "outputs": [],
   "source": [
    "size = 1000000"
   ]
  },
  {
   "cell_type": "code",
   "execution_count": 130,
   "id": "1b8d96c3",
   "metadata": {
    "ExecuteTime": {
     "end_time": "2022-10-04T18:42:12.596913Z",
     "start_time": "2022-10-04T18:42:12.582819Z"
    }
   },
   "outputs": [
    {
     "data": {
      "text/plain": [
       "1000000"
      ]
     },
     "execution_count": 130,
     "metadata": {},
     "output_type": "execute_result"
    }
   ],
   "source": [
    "a = np.arange(size)\n",
    "len(a)"
   ]
  },
  {
   "cell_type": "code",
   "execution_count": 131,
   "id": "0152ee11",
   "metadata": {
    "ExecuteTime": {
     "end_time": "2022-10-04T18:42:13.202869Z",
     "start_time": "2022-10-04T18:42:13.173803Z"
    }
   },
   "outputs": [
    {
     "data": {
      "text/plain": [
       "1000000"
      ]
     },
     "execution_count": 131,
     "metadata": {},
     "output_type": "execute_result"
    }
   ],
   "source": [
    "l = list(range(size))\n",
    "len(l)"
   ]
  },
  {
   "cell_type": "code",
   "execution_count": 132,
   "id": "79edbb7c",
   "metadata": {
    "ExecuteTime": {
     "end_time": "2022-10-04T18:42:16.273187Z",
     "start_time": "2022-10-04T18:42:14.381727Z"
    }
   },
   "outputs": [
    {
     "name": "stdout",
     "output_type": "stream",
     "text": [
      "2.19 ms ± 319 µs per loop (mean ± std. dev. of 7 runs, 100 loops each)\n"
     ]
    }
   ],
   "source": [
    "%timeit a+2"
   ]
  },
  {
   "cell_type": "code",
   "execution_count": 133,
   "id": "f8fce4e2",
   "metadata": {
    "ExecuteTime": {
     "end_time": "2022-10-04T18:42:27.253849Z",
     "start_time": "2022-10-04T18:42:17.122585Z"
    }
   },
   "outputs": [
    {
     "name": "stdout",
     "output_type": "stream",
     "text": [
      "124 ms ± 13.6 ms per loop (mean ± std. dev. of 7 runs, 10 loops each)\n"
     ]
    }
   ],
   "source": [
    "%timeit [i+2 for i in l]"
   ]
  },
  {
   "cell_type": "code",
   "execution_count": 134,
   "id": "a86aaefe",
   "metadata": {
    "ExecuteTime": {
     "end_time": "2022-10-04T18:42:30.434043Z",
     "start_time": "2022-10-04T18:42:28.253756Z"
    }
   },
   "outputs": [
    {
     "name": "stdout",
     "output_type": "stream",
     "text": [
      "2.61 ms ± 269 µs per loop (mean ± std. dev. of 7 runs, 100 loops each)\n"
     ]
    }
   ],
   "source": [
    "%timeit a*2"
   ]
  },
  {
   "cell_type": "code",
   "execution_count": 135,
   "id": "dd232d95",
   "metadata": {
    "ExecuteTime": {
     "end_time": "2022-10-04T18:42:42.060140Z",
     "start_time": "2022-10-04T18:42:31.676871Z"
    }
   },
   "outputs": [
    {
     "name": "stdout",
     "output_type": "stream",
     "text": [
      "127 ms ± 9.24 ms per loop (mean ± std. dev. of 7 runs, 10 loops each)\n"
     ]
    }
   ],
   "source": [
    "%timeit [i*2 for i in l]"
   ]
  },
  {
   "cell_type": "code",
   "execution_count": 136,
   "id": "ffa329a9",
   "metadata": {
    "ExecuteTime": {
     "end_time": "2022-10-04T18:42:44.931046Z",
     "start_time": "2022-10-04T18:42:42.894760Z"
    }
   },
   "outputs": [
    {
     "name": "stdout",
     "output_type": "stream",
     "text": [
      "2.5 ms ± 258 µs per loop (mean ± std. dev. of 7 runs, 100 loops each)\n"
     ]
    }
   ],
   "source": [
    "%timeit a**2"
   ]
  },
  {
   "cell_type": "code",
   "execution_count": 137,
   "id": "ffcfefa2",
   "metadata": {
    "ExecuteTime": {
     "end_time": "2022-10-04T18:42:49.380187Z",
     "start_time": "2022-10-04T18:42:46.036617Z"
    }
   },
   "outputs": [
    {
     "name": "stdout",
     "output_type": "stream",
     "text": [
      "422 ms ± 44.5 ms per loop (mean ± std. dev. of 7 runs, 1 loop each)\n"
     ]
    }
   ],
   "source": [
    "%timeit [i**2 for i in l]"
   ]
  },
  {
   "cell_type": "code",
   "execution_count": 138,
   "id": "d595e4a9",
   "metadata": {
    "ExecuteTime": {
     "end_time": "2022-10-04T18:42:54.040768Z",
     "start_time": "2022-10-04T18:42:50.259455Z"
    }
   },
   "outputs": [
    {
     "name": "stdout",
     "output_type": "stream",
     "text": [
      "4.67 ms ± 300 µs per loop (mean ± std. dev. of 7 runs, 100 loops each)\n"
     ]
    }
   ],
   "source": [
    "%timeit np.sqrt(a)"
   ]
  },
  {
   "cell_type": "code",
   "execution_count": 139,
   "id": "5750d918",
   "metadata": {
    "ExecuteTime": {
     "end_time": "2022-10-04T18:42:57.505129Z",
     "start_time": "2022-10-04T18:42:54.961181Z"
    }
   },
   "outputs": [
    {
     "name": "stdout",
     "output_type": "stream",
     "text": [
      "302 ms ± 29.5 ms per loop (mean ± std. dev. of 7 runs, 1 loop each)\n"
     ]
    }
   ],
   "source": [
    "%timeit [i**0.5 for i in l]"
   ]
  },
  {
   "cell_type": "markdown",
   "id": "c4af3e3d",
   "metadata": {},
   "source": [
    "속도는 연산의 유형과 관련이 있다. 규모가 아주 작은 연산의 경우 넘파이가 딱히 유리하지는 않다. -> 사이즈를 100만개로 올려서 돌려보면? -> 넘파이가 훨씬 빠름."
   ]
  },
  {
   "cell_type": "markdown",
   "id": "9c3c768c",
   "metadata": {},
   "source": [
    "#### Case Study Numpy vs Python Standard Library"
   ]
  },
  {
   "cell_type": "code",
   "execution_count": 142,
   "id": "cb17219d",
   "metadata": {
    "ExecuteTime": {
     "end_time": "2022-10-04T18:47:47.682808Z",
     "start_time": "2022-10-04T18:47:47.644165Z"
    }
   },
   "outputs": [
    {
     "data": {
      "text/plain": [
       "10.0239"
      ]
     },
     "execution_count": 142,
     "metadata": {},
     "output_type": "execute_result"
    }
   ],
   "source": [
    "np.random.seed(122)\n",
    "(np.random.randint(1,11,1000000).reshape(10000, 100) == 1).sum(axis = 1).mean()"
   ]
  },
  {
   "cell_type": "code",
   "execution_count": 145,
   "id": "4a3bbf99",
   "metadata": {
    "ExecuteTime": {
     "end_time": "2022-10-04T18:50:09.593776Z",
     "start_time": "2022-10-04T18:50:09.578152Z"
    }
   },
   "outputs": [
    {
     "data": {
      "text/plain": [
       "12"
      ]
     },
     "execution_count": 145,
     "metadata": {},
     "output_type": "execute_result"
    }
   ],
   "source": [
    "\n",
    "np.random.seed(122)\n",
    "(np.random.randint(1,11,10000*100) == 1).sum() # True=1, False=0"
   ]
  },
  {
   "cell_type": "code",
   "execution_count": 146,
   "id": "2bf79026",
   "metadata": {
    "ExecuteTime": {
     "end_time": "2022-10-04T18:53:27.702627Z",
     "start_time": "2022-10-04T18:53:25.638072Z"
    }
   },
   "outputs": [
    {
     "name": "stdout",
     "output_type": "stream",
     "text": [
      "25.1 ms ± 2.29 ms per loop (mean ± std. dev. of 7 runs, 10 loops each)\n"
     ]
    }
   ],
   "source": [
    "%timeit (np.random.randint(1,11,1000000).reshape(10000, 100) == 1).sum(axis = 1).mean()"
   ]
  },
  {
   "cell_type": "code",
   "execution_count": 147,
   "id": "4745e96c",
   "metadata": {
    "ExecuteTime": {
     "end_time": "2022-10-04T18:53:44.177478Z",
     "start_time": "2022-10-04T18:53:44.167479Z"
    }
   },
   "outputs": [],
   "source": [
    "import random"
   ]
  },
  {
   "cell_type": "code",
   "execution_count": 150,
   "id": "4ad07cee",
   "metadata": {
    "ExecuteTime": {
     "end_time": "2022-10-04T18:59:03.291648Z",
     "start_time": "2022-10-04T18:59:03.277895Z"
    }
   },
   "outputs": [],
   "source": [
    "def simulation():\n",
    "    results = []\n",
    "    for _ in range(10000):\n",
    "        l = []\n",
    "        for _ in range(100):\n",
    "            if random.randint(1,10) == 1:\n",
    "                l.append(True)\n",
    "            else:\n",
    "                l.append(False)\n",
    "        results.append(sum(l))\n",
    "    return (sum(results) / len(results))"
   ]
  },
  {
   "cell_type": "code",
   "execution_count": 151,
   "id": "77683224",
   "metadata": {
    "ExecuteTime": {
     "end_time": "2022-10-04T18:59:05.992829Z",
     "start_time": "2022-10-04T18:59:04.263068Z"
    }
   },
   "outputs": [
    {
     "data": {
      "text/plain": [
       "10.0234"
      ]
     },
     "execution_count": 151,
     "metadata": {},
     "output_type": "execute_result"
    }
   ],
   "source": [
    " simulation()"
   ]
  },
  {
   "cell_type": "code",
   "execution_count": 152,
   "id": "e9741499",
   "metadata": {
    "ExecuteTime": {
     "end_time": "2022-10-04T18:59:30.039702Z",
     "start_time": "2022-10-04T18:59:16.194365Z"
    }
   },
   "outputs": [
    {
     "name": "stdout",
     "output_type": "stream",
     "text": [
      "1.75 s ± 329 ms per loop (mean ± std. dev. of 7 runs, 1 loop each)\n"
     ]
    }
   ],
   "source": [
    "%timeit simulation()"
   ]
  },
  {
   "cell_type": "markdown",
   "id": "c9ad7965",
   "metadata": {},
   "source": [
    "#### Summary Statistics"
   ]
  },
  {
   "cell_type": "code",
   "execution_count": 153,
   "id": "6ba1245c",
   "metadata": {
    "ExecuteTime": {
     "end_time": "2022-10-04T19:01:33.181332Z",
     "start_time": "2022-10-04T19:01:33.163030Z"
    }
   },
   "outputs": [
    {
     "data": {
      "text/plain": [
       "array([67, 93, 99, 18, 84, 58, 87, 98, 97, 48, 74])"
      ]
     },
     "execution_count": 153,
     "metadata": {},
     "output_type": "execute_result"
    }
   ],
   "source": [
    "np.random.seed(123)\n",
    "a = np.random.randint(1, 101, 11)\n",
    "a"
   ]
  },
  {
   "cell_type": "code",
   "execution_count": 154,
   "id": "3879120e",
   "metadata": {
    "ExecuteTime": {
     "end_time": "2022-10-04T19:01:41.602063Z",
     "start_time": "2022-10-04T19:01:41.585064Z"
    }
   },
   "outputs": [
    {
     "data": {
      "text/plain": [
       "array([18, 48, 58, 67, 74, 84, 87, 93, 97, 98, 99])"
      ]
     },
     "execution_count": 154,
     "metadata": {},
     "output_type": "execute_result"
    }
   ],
   "source": [
    "a.sort()\n",
    "a"
   ]
  },
  {
   "cell_type": "code",
   "execution_count": 155,
   "id": "5f377aec",
   "metadata": {
    "ExecuteTime": {
     "end_time": "2022-10-04T19:01:48.503038Z",
     "start_time": "2022-10-04T19:01:48.483917Z"
    }
   },
   "outputs": [
    {
     "data": {
      "text/plain": [
       "99"
      ]
     },
     "execution_count": 155,
     "metadata": {},
     "output_type": "execute_result"
    }
   ],
   "source": [
    "a.max()"
   ]
  },
  {
   "cell_type": "code",
   "execution_count": 157,
   "id": "8701e80c",
   "metadata": {
    "ExecuteTime": {
     "end_time": "2022-10-04T19:02:02.479816Z",
     "start_time": "2022-10-04T19:02:02.458851Z"
    }
   },
   "outputs": [
    {
     "data": {
      "text/plain": [
       "99"
      ]
     },
     "execution_count": 157,
     "metadata": {},
     "output_type": "execute_result"
    }
   ],
   "source": [
    "np.max(a)"
   ]
  },
  {
   "cell_type": "code",
   "execution_count": 158,
   "id": "7548fa82",
   "metadata": {
    "ExecuteTime": {
     "end_time": "2022-10-04T19:02:50.249508Z",
     "start_time": "2022-10-04T19:02:50.242011Z"
    }
   },
   "outputs": [
    {
     "data": {
      "text/plain": [
       "99"
      ]
     },
     "execution_count": 158,
     "metadata": {},
     "output_type": "execute_result"
    }
   ],
   "source": [
    "max(a)"
   ]
  },
  {
   "cell_type": "code",
   "execution_count": 159,
   "id": "3bc4c428",
   "metadata": {
    "ExecuteTime": {
     "end_time": "2022-10-04T19:02:55.217145Z",
     "start_time": "2022-10-04T19:02:55.205062Z"
    }
   },
   "outputs": [
    {
     "data": {
      "text/plain": [
       "18"
      ]
     },
     "execution_count": 159,
     "metadata": {},
     "output_type": "execute_result"
    }
   ],
   "source": [
    "a.min()"
   ]
  },
  {
   "cell_type": "code",
   "execution_count": 160,
   "id": "c0465f41",
   "metadata": {
    "ExecuteTime": {
     "end_time": "2022-10-04T19:03:07.191493Z",
     "start_time": "2022-10-04T19:03:07.181498Z"
    }
   },
   "outputs": [
    {
     "data": {
      "text/plain": [
       "74.81818181818181"
      ]
     },
     "execution_count": 160,
     "metadata": {},
     "output_type": "execute_result"
    }
   ],
   "source": [
    "np.mean(a)"
   ]
  },
  {
   "cell_type": "code",
   "execution_count": 161,
   "id": "2bcff027",
   "metadata": {
    "ExecuteTime": {
     "end_time": "2022-10-04T19:03:11.091230Z",
     "start_time": "2022-10-04T19:03:11.074157Z"
    }
   },
   "outputs": [
    {
     "data": {
      "text/plain": [
       "74.81818181818181"
      ]
     },
     "execution_count": 161,
     "metadata": {},
     "output_type": "execute_result"
    }
   ],
   "source": [
    "a.mean()"
   ]
  },
  {
   "cell_type": "code",
   "execution_count": 162,
   "id": "882c930b",
   "metadata": {
    "ExecuteTime": {
     "end_time": "2022-10-04T19:03:32.152506Z",
     "start_time": "2022-10-04T19:03:32.139509Z"
    }
   },
   "outputs": [
    {
     "data": {
      "text/plain": [
       "84.0"
      ]
     },
     "execution_count": 162,
     "metadata": {},
     "output_type": "execute_result"
    }
   ],
   "source": [
    "np.median(a)"
   ]
  },
  {
   "cell_type": "code",
   "execution_count": 163,
   "id": "6d1ab898",
   "metadata": {
    "ExecuteTime": {
     "end_time": "2022-10-04T19:03:39.447523Z",
     "start_time": "2022-10-04T19:03:39.427479Z"
    }
   },
   "outputs": [
    {
     "data": {
      "text/plain": [
       "24.25177849829943"
      ]
     },
     "execution_count": 163,
     "metadata": {},
     "output_type": "execute_result"
    }
   ],
   "source": [
    "np.std(a)"
   ]
  },
  {
   "cell_type": "code",
   "execution_count": 164,
   "id": "b8bf4dab",
   "metadata": {
    "ExecuteTime": {
     "end_time": "2022-10-04T19:03:49.541141Z",
     "start_time": "2022-10-04T19:03:49.524142Z"
    }
   },
   "outputs": [
    {
     "data": {
      "text/plain": [
       "588.1487603305785"
      ]
     },
     "execution_count": 164,
     "metadata": {},
     "output_type": "execute_result"
    }
   ],
   "source": [
    "np.var(a)"
   ]
  },
  {
   "cell_type": "code",
   "execution_count": 165,
   "id": "f39bf0e1",
   "metadata": {
    "ExecuteTime": {
     "end_time": "2022-10-04T19:04:58.198082Z",
     "start_time": "2022-10-04T19:04:58.180086Z"
    }
   },
   "outputs": [
    {
     "data": {
      "text/plain": [
       "48.0"
      ]
     },
     "execution_count": 165,
     "metadata": {},
     "output_type": "execute_result"
    }
   ],
   "source": [
    "np.percentile(a,10) # 원소의 10%는 48보다 작고 90%는 48보다 큼"
   ]
  },
  {
   "cell_type": "code",
   "execution_count": 166,
   "id": "a00b9cd8",
   "metadata": {
    "ExecuteTime": {
     "end_time": "2022-10-04T19:05:07.325884Z",
     "start_time": "2022-10-04T19:05:07.305015Z"
    }
   },
   "outputs": [
    {
     "data": {
      "text/plain": [
       "98.0"
      ]
     },
     "execution_count": 166,
     "metadata": {},
     "output_type": "execute_result"
    }
   ],
   "source": [
    "np.percentile(a,90)"
   ]
  },
  {
   "cell_type": "code",
   "execution_count": 167,
   "id": "2e1eb406",
   "metadata": {
    "ExecuteTime": {
     "end_time": "2022-10-04T19:08:23.549738Z",
     "start_time": "2022-10-04T19:08:23.527739Z"
    }
   },
   "outputs": [
    {
     "data": {
      "text/plain": [
       "array([67, 93, 99, 18, 84, 58, 87, 98, 97, 48, 74])"
      ]
     },
     "execution_count": 167,
     "metadata": {},
     "output_type": "execute_result"
    }
   ],
   "source": [
    "np.random.seed(123)\n",
    "a = np.random.randint(1, 101, 11)\n",
    "a"
   ]
  },
  {
   "cell_type": "code",
   "execution_count": 168,
   "id": "54239e70",
   "metadata": {
    "ExecuteTime": {
     "end_time": "2022-10-04T19:08:38.191321Z",
     "start_time": "2022-10-04T19:08:38.178824Z"
    }
   },
   "outputs": [
    {
     "data": {
      "text/plain": [
       "array([85, 85, 85, 87, 20, 42, 67, 83, 41, 72, 58])"
      ]
     },
     "execution_count": 168,
     "metadata": {},
     "output_type": "execute_result"
    }
   ],
   "source": [
    "np.random.seed(111)\n",
    "b = np.random.randint(1, 101, 11)\n",
    "b"
   ]
  },
  {
   "cell_type": "code",
   "execution_count": 169,
   "id": "f33f780a",
   "metadata": {
    "ExecuteTime": {
     "end_time": "2022-10-04T19:09:43.113505Z",
     "start_time": "2022-10-04T19:09:43.094157Z"
    }
   },
   "outputs": [
    {
     "data": {
      "text/plain": [
       "array([[646.96363636, -85.81818182],\n",
       "       [-85.81818182, 523.09090909]])"
      ]
     },
     "execution_count": 169,
     "metadata": {},
     "output_type": "execute_result"
    }
   ],
   "source": [
    "# a와 b의 공분산(두 개의 숫자 시퀀스가 함께 얼마나 변화는지)\n",
    "np.cov(a,b)"
   ]
  },
  {
   "cell_type": "code",
   "execution_count": 170,
   "id": "b0931a8e",
   "metadata": {
    "ExecuteTime": {
     "end_time": "2022-10-04T19:10:36.376263Z",
     "start_time": "2022-10-04T19:10:36.368457Z"
    }
   },
   "outputs": [
    {
     "data": {
      "text/plain": [
       "array([[ 1.        , -0.14751996],\n",
       "       [-0.14751996,  1.        ]])"
      ]
     },
     "execution_count": 170,
     "metadata": {},
     "output_type": "execute_result"
    }
   ],
   "source": [
    "np.corrcoef(a,b)\n",
    "# a가 증가하면 b는 감소 경향을 보여줌"
   ]
  },
  {
   "cell_type": "markdown",
   "id": "64d583d4",
   "metadata": {},
   "source": [
    "#### Visualization and (Linear) Regresion"
   ]
  },
  {
   "cell_type": "code",
   "execution_count": 171,
   "id": "396aadac",
   "metadata": {
    "ExecuteTime": {
     "end_time": "2022-10-04T19:14:19.888977Z",
     "start_time": "2022-10-04T19:14:18.511164Z"
    }
   },
   "outputs": [],
   "source": [
    "import matplotlib.pyplot as plt\n",
    "%matplotlib inline\n",
    "plt.style.use(\"seaborn\")"
   ]
  },
  {
   "cell_type": "code",
   "execution_count": 172,
   "id": "d6d5e5a1",
   "metadata": {
    "ExecuteTime": {
     "end_time": "2022-10-04T19:14:39.902553Z",
     "start_time": "2022-10-04T19:14:39.894554Z"
    }
   },
   "outputs": [
    {
     "data": {
      "text/plain": [
       "array([7.26809201, 8.33546314, 5.87292657, ..., 2.18295016, 5.5678772 ,\n",
       "       2.29562492])"
      ]
     },
     "execution_count": 172,
     "metadata": {},
     "output_type": "execute_result"
    }
   ],
   "source": [
    "y = np.random.normal(5,2,10000)\n",
    "y"
   ]
  },
  {
   "cell_type": "code",
   "execution_count": 173,
   "id": "ebf08484",
   "metadata": {
    "ExecuteTime": {
     "end_time": "2022-10-04T19:17:07.118952Z",
     "start_time": "2022-10-04T19:17:06.582001Z"
    }
   },
   "outputs": [
    {
     "data": {
      "image/png": "[encoded data removed]",
      "text/plain": [
       "<Figure size 720x432 with 1 Axes>"
      ]
     },
     "metadata": {},
     "output_type": "display_data"
    }
   ],
   "source": [
    "plt.figure(figsize=(10,6))\n",
    "plt.hist(y, bins = 100, label=\"Data\")\n",
    "plt.title(\"Frequency Distribution of y\")\n",
    "plt.xlabel(\"y\")\n",
    "plt.ylabel(\"frequency\")\n",
    "plt.legend()\n",
    "plt.show()"
   ]
  },
  {
   "cell_type": "code",
   "execution_count": 175,
   "id": "5a4b0e7d",
   "metadata": {
    "ExecuteTime": {
     "end_time": "2022-10-04T19:19:02.794043Z",
     "start_time": "2022-10-04T19:19:02.774384Z"
    }
   },
   "outputs": [
    {
     "data": {
      "text/plain": [
       "array([ 1.,  2.,  3.,  4.,  5.,  6.,  7.,  8.,  9., 10.])"
      ]
     },
     "execution_count": 175,
     "metadata": {},
     "output_type": "execute_result"
    }
   ],
   "source": [
    "# 1 ~ 10 사이의 수 중에서 일정한 간격을 가지도록 난수 10개 생성\n",
    "np.linspace(1,10,10)"
   ]
  },
  {
   "cell_type": "code",
   "execution_count": 176,
   "id": "718639be",
   "metadata": {
    "ExecuteTime": {
     "end_time": "2022-10-04T19:19:53.568303Z",
     "start_time": "2022-10-04T19:19:53.542563Z"
    }
   },
   "outputs": [
    {
     "data": {
      "text/plain": [
       "array([-10.        ,  -9.97997998,  -9.95995996,  -9.93993994,\n",
       "        -9.91991992,  -9.8998999 ,  -9.87987988,  -9.85985986,\n",
       "        -9.83983984,  -9.81981982,  -9.7997998 ,  -9.77977978,\n",
       "        -9.75975976,  -9.73973974,  -9.71971972,  -9.6996997 ,\n",
       "        -9.67967968,  -9.65965966,  -9.63963964,  -9.61961962,\n",
       "        -9.5995996 ,  -9.57957958,  -9.55955956,  -9.53953954,\n",
       "        -9.51951952,  -9.4994995 ,  -9.47947948,  -9.45945946,\n",
       "        -9.43943944,  -9.41941942,  -9.3993994 ,  -9.37937938,\n",
       "        -9.35935936,  -9.33933934,  -9.31931932,  -9.2992993 ,\n",
       "        -9.27927928,  -9.25925926,  -9.23923924,  -9.21921922,\n",
       "        -9.1991992 ,  -9.17917918,  -9.15915916,  -9.13913914,\n",
       "        -9.11911912,  -9.0990991 ,  -9.07907908,  -9.05905906,\n",
       "        -9.03903904,  -9.01901902,  -8.998999  ,  -8.97897898,\n",
       "        -8.95895896,  -8.93893894,  -8.91891892,  -8.8988989 ,\n",
       "        -8.87887888,  -8.85885886,  -8.83883884,  -8.81881882,\n",
       "        -8.7987988 ,  -8.77877878,  -8.75875876,  -8.73873874,\n",
       "        -8.71871872,  -8.6986987 ,  -8.67867868,  -8.65865866,\n",
       "        -8.63863864,  -8.61861862,  -8.5985986 ,  -8.57857858,\n",
       "        -8.55855856,  -8.53853854,  -8.51851852,  -8.4984985 ,\n",
       "        -8.47847848,  -8.45845846,  -8.43843844,  -8.41841842,\n",
       "        -8.3983984 ,  -8.37837838,  -8.35835836,  -8.33833834,\n",
       "        -8.31831832,  -8.2982983 ,  -8.27827828,  -8.25825826,\n",
       "        -8.23823824,  -8.21821822,  -8.1981982 ,  -8.17817818,\n",
       "        -8.15815816,  -8.13813814,  -8.11811812,  -8.0980981 ,\n",
       "        -8.07807808,  -8.05805806,  -8.03803804,  -8.01801802,\n",
       "        -7.997998  ,  -7.97797798,  -7.95795796,  -7.93793794,\n",
       "        -7.91791792,  -7.8978979 ,  -7.87787788,  -7.85785786,\n",
       "        -7.83783784,  -7.81781782,  -7.7977978 ,  -7.77777778,\n",
       "        -7.75775776,  -7.73773774,  -7.71771772,  -7.6976977 ,\n",
       "        -7.67767768,  -7.65765766,  -7.63763764,  -7.61761762,\n",
       "        -7.5975976 ,  -7.57757758,  -7.55755756,  -7.53753754,\n",
       "        -7.51751752,  -7.4974975 ,  -7.47747748,  -7.45745746,\n",
       "        -7.43743744,  -7.41741742,  -7.3973974 ,  -7.37737738,\n",
       "        -7.35735736,  -7.33733734,  -7.31731732,  -7.2972973 ,\n",
       "        -7.27727728,  -7.25725726,  -7.23723724,  -7.21721722,\n",
       "        -7.1971972 ,  -7.17717718,  -7.15715716,  -7.13713714,\n",
       "        -7.11711712,  -7.0970971 ,  -7.07707708,  -7.05705706,\n",
       "        -7.03703704,  -7.01701702,  -6.996997  ,  -6.97697698,\n",
       "        -6.95695696,  -6.93693694,  -6.91691692,  -6.8968969 ,\n",
       "        -6.87687688,  -6.85685686,  -6.83683684,  -6.81681682,\n",
       "        -6.7967968 ,  -6.77677678,  -6.75675676,  -6.73673674,\n",
       "        -6.71671672,  -6.6966967 ,  -6.67667668,  -6.65665666,\n",
       "        -6.63663664,  -6.61661662,  -6.5965966 ,  -6.57657658,\n",
       "        -6.55655656,  -6.53653654,  -6.51651652,  -6.4964965 ,\n",
       "        -6.47647648,  -6.45645646,  -6.43643644,  -6.41641642,\n",
       "        -6.3963964 ,  -6.37637638,  -6.35635636,  -6.33633634,\n",
       "        -6.31631632,  -6.2962963 ,  -6.27627628,  -6.25625626,\n",
       "        -6.23623624,  -6.21621622,  -6.1961962 ,  -6.17617618,\n",
       "        -6.15615616,  -6.13613614,  -6.11611612,  -6.0960961 ,\n",
       "        -6.07607608,  -6.05605606,  -6.03603604,  -6.01601602,\n",
       "        -5.995996  ,  -5.97597598,  -5.95595596,  -5.93593594,\n",
       "        -5.91591592,  -5.8958959 ,  -5.87587588,  -5.85585586,\n",
       "        -5.83583584,  -5.81581582,  -5.7957958 ,  -5.77577578,\n",
       "        -5.75575576,  -5.73573574,  -5.71571572,  -5.6956957 ,\n",
       "        -5.67567568,  -5.65565566,  -5.63563564,  -5.61561562,\n",
       "        -5.5955956 ,  -5.57557558,  -5.55555556,  -5.53553554,\n",
       "        -5.51551552,  -5.4954955 ,  -5.47547548,  -5.45545546,\n",
       "        -5.43543544,  -5.41541542,  -5.3953954 ,  -5.37537538,\n",
       "        -5.35535536,  -5.33533534,  -5.31531532,  -5.2952953 ,\n",
       "        -5.27527528,  -5.25525526,  -5.23523524,  -5.21521522,\n",
       "        -5.1951952 ,  -5.17517518,  -5.15515516,  -5.13513514,\n",
       "        -5.11511512,  -5.0950951 ,  -5.07507508,  -5.05505506,\n",
       "        -5.03503504,  -5.01501502,  -4.99499499,  -4.97497497,\n",
       "        -4.95495495,  -4.93493493,  -4.91491491,  -4.89489489,\n",
       "        -4.87487487,  -4.85485485,  -4.83483483,  -4.81481481,\n",
       "        -4.79479479,  -4.77477477,  -4.75475475,  -4.73473473,\n",
       "        -4.71471471,  -4.69469469,  -4.67467467,  -4.65465465,\n",
       "        -4.63463463,  -4.61461461,  -4.59459459,  -4.57457457,\n",
       "        -4.55455455,  -4.53453453,  -4.51451451,  -4.49449449,\n",
       "        -4.47447447,  -4.45445445,  -4.43443443,  -4.41441441,\n",
       "        -4.39439439,  -4.37437437,  -4.35435435,  -4.33433433,\n",
       "        -4.31431431,  -4.29429429,  -4.27427427,  -4.25425425,\n",
       "        -4.23423423,  -4.21421421,  -4.19419419,  -4.17417417,\n",
       "        -4.15415415,  -4.13413413,  -4.11411411,  -4.09409409,\n",
       "        -4.07407407,  -4.05405405,  -4.03403403,  -4.01401401,\n",
       "        -3.99399399,  -3.97397397,  -3.95395395,  -3.93393393,\n",
       "        -3.91391391,  -3.89389389,  -3.87387387,  -3.85385385,\n",
       "        -3.83383383,  -3.81381381,  -3.79379379,  -3.77377377,\n",
       "        -3.75375375,  -3.73373373,  -3.71371371,  -3.69369369,\n",
       "        -3.67367367,  -3.65365365,  -3.63363363,  -3.61361361,\n",
       "        -3.59359359,  -3.57357357,  -3.55355355,  -3.53353353,\n",
       "        -3.51351351,  -3.49349349,  -3.47347347,  -3.45345345,\n",
       "        -3.43343343,  -3.41341341,  -3.39339339,  -3.37337337,\n",
       "        -3.35335335,  -3.33333333,  -3.31331331,  -3.29329329,\n",
       "        -3.27327327,  -3.25325325,  -3.23323323,  -3.21321321,\n",
       "        -3.19319319,  -3.17317317,  -3.15315315,  -3.13313313,\n",
       "        -3.11311311,  -3.09309309,  -3.07307307,  -3.05305305,\n",
       "        -3.03303303,  -3.01301301,  -2.99299299,  -2.97297297,\n",
       "        -2.95295295,  -2.93293293,  -2.91291291,  -2.89289289,\n",
       "        -2.87287287,  -2.85285285,  -2.83283283,  -2.81281281,\n",
       "        -2.79279279,  -2.77277277,  -2.75275275,  -2.73273273,\n",
       "        -2.71271271,  -2.69269269,  -2.67267267,  -2.65265265,\n",
       "        -2.63263263,  -2.61261261,  -2.59259259,  -2.57257257,\n",
       "        -2.55255255,  -2.53253253,  -2.51251251,  -2.49249249,\n",
       "        -2.47247247,  -2.45245245,  -2.43243243,  -2.41241241,\n",
       "        -2.39239239,  -2.37237237,  -2.35235235,  -2.33233233,\n",
       "        -2.31231231,  -2.29229229,  -2.27227227,  -2.25225225,\n",
       "        -2.23223223,  -2.21221221,  -2.19219219,  -2.17217217,\n",
       "        -2.15215215,  -2.13213213,  -2.11211211,  -2.09209209,\n",
       "        -2.07207207,  -2.05205205,  -2.03203203,  -2.01201201,\n",
       "        -1.99199199,  -1.97197197,  -1.95195195,  -1.93193193,\n",
       "        -1.91191191,  -1.89189189,  -1.87187187,  -1.85185185,\n",
       "        -1.83183183,  -1.81181181,  -1.79179179,  -1.77177177,\n",
       "        -1.75175175,  -1.73173173,  -1.71171171,  -1.69169169,\n",
       "        -1.67167167,  -1.65165165,  -1.63163163,  -1.61161161,\n",
       "        -1.59159159,  -1.57157157,  -1.55155155,  -1.53153153,\n",
       "        -1.51151151,  -1.49149149,  -1.47147147,  -1.45145145,\n",
       "        -1.43143143,  -1.41141141,  -1.39139139,  -1.37137137,\n",
       "        -1.35135135,  -1.33133133,  -1.31131131,  -1.29129129,\n",
       "        -1.27127127,  -1.25125125,  -1.23123123,  -1.21121121,\n",
       "        -1.19119119,  -1.17117117,  -1.15115115,  -1.13113113,\n",
       "        -1.11111111,  -1.09109109,  -1.07107107,  -1.05105105,\n",
       "        -1.03103103,  -1.01101101,  -0.99099099,  -0.97097097,\n",
       "        -0.95095095,  -0.93093093,  -0.91091091,  -0.89089089,\n",
       "        -0.87087087,  -0.85085085,  -0.83083083,  -0.81081081,\n",
       "        -0.79079079,  -0.77077077,  -0.75075075,  -0.73073073,\n",
       "        -0.71071071,  -0.69069069,  -0.67067067,  -0.65065065,\n",
       "        -0.63063063,  -0.61061061,  -0.59059059,  -0.57057057,\n",
       "        -0.55055055,  -0.53053053,  -0.51051051,  -0.49049049,\n",
       "        -0.47047047,  -0.45045045,  -0.43043043,  -0.41041041,\n",
       "        -0.39039039,  -0.37037037,  -0.35035035,  -0.33033033,\n",
       "        -0.31031031,  -0.29029029,  -0.27027027,  -0.25025025,\n",
       "        -0.23023023,  -0.21021021,  -0.19019019,  -0.17017017,\n",
       "        -0.15015015,  -0.13013013,  -0.11011011,  -0.09009009,\n",
       "        -0.07007007,  -0.05005005,  -0.03003003,  -0.01001001,\n",
       "         0.01001001,   0.03003003,   0.05005005,   0.07007007,\n",
       "         0.09009009,   0.11011011,   0.13013013,   0.15015015,\n",
       "         0.17017017,   0.19019019,   0.21021021,   0.23023023,\n",
       "         0.25025025,   0.27027027,   0.29029029,   0.31031031,\n",
       "         0.33033033,   0.35035035,   0.37037037,   0.39039039,\n",
       "         0.41041041,   0.43043043,   0.45045045,   0.47047047,\n",
       "         0.49049049,   0.51051051,   0.53053053,   0.55055055,\n",
       "         0.57057057,   0.59059059,   0.61061061,   0.63063063,\n",
       "         0.65065065,   0.67067067,   0.69069069,   0.71071071,\n",
       "         0.73073073,   0.75075075,   0.77077077,   0.79079079,\n",
       "         0.81081081,   0.83083083,   0.85085085,   0.87087087,\n",
       "         0.89089089,   0.91091091,   0.93093093,   0.95095095,\n",
       "         0.97097097,   0.99099099,   1.01101101,   1.03103103,\n",
       "         1.05105105,   1.07107107,   1.09109109,   1.11111111,\n",
       "         1.13113113,   1.15115115,   1.17117117,   1.19119119,\n",
       "         1.21121121,   1.23123123,   1.25125125,   1.27127127,\n",
       "         1.29129129,   1.31131131,   1.33133133,   1.35135135,\n",
       "         1.37137137,   1.39139139,   1.41141141,   1.43143143,\n",
       "         1.45145145,   1.47147147,   1.49149149,   1.51151151,\n",
       "         1.53153153,   1.55155155,   1.57157157,   1.59159159,\n",
       "         1.61161161,   1.63163163,   1.65165165,   1.67167167,\n",
       "         1.69169169,   1.71171171,   1.73173173,   1.75175175,\n",
       "         1.77177177,   1.79179179,   1.81181181,   1.83183183,\n",
       "         1.85185185,   1.87187187,   1.89189189,   1.91191191,\n",
       "         1.93193193,   1.95195195,   1.97197197,   1.99199199,\n",
       "         2.01201201,   2.03203203,   2.05205205,   2.07207207,\n",
       "         2.09209209,   2.11211211,   2.13213213,   2.15215215,\n",
       "         2.17217217,   2.19219219,   2.21221221,   2.23223223,\n",
       "         2.25225225,   2.27227227,   2.29229229,   2.31231231,\n",
       "         2.33233233,   2.35235235,   2.37237237,   2.39239239,\n",
       "         2.41241241,   2.43243243,   2.45245245,   2.47247247,\n",
       "         2.49249249,   2.51251251,   2.53253253,   2.55255255,\n",
       "         2.57257257,   2.59259259,   2.61261261,   2.63263263,\n",
       "         2.65265265,   2.67267267,   2.69269269,   2.71271271,\n",
       "         2.73273273,   2.75275275,   2.77277277,   2.79279279,\n",
       "         2.81281281,   2.83283283,   2.85285285,   2.87287287,\n",
       "         2.89289289,   2.91291291,   2.93293293,   2.95295295,\n",
       "         2.97297297,   2.99299299,   3.01301301,   3.03303303,\n",
       "         3.05305305,   3.07307307,   3.09309309,   3.11311311,\n",
       "         3.13313313,   3.15315315,   3.17317317,   3.19319319,\n",
       "         3.21321321,   3.23323323,   3.25325325,   3.27327327,\n",
       "         3.29329329,   3.31331331,   3.33333333,   3.35335335,\n",
       "         3.37337337,   3.39339339,   3.41341341,   3.43343343,\n",
       "         3.45345345,   3.47347347,   3.49349349,   3.51351351,\n",
       "         3.53353353,   3.55355355,   3.57357357,   3.59359359,\n",
       "         3.61361361,   3.63363363,   3.65365365,   3.67367367,\n",
       "         3.69369369,   3.71371371,   3.73373373,   3.75375375,\n",
       "         3.77377377,   3.79379379,   3.81381381,   3.83383383,\n",
       "         3.85385385,   3.87387387,   3.89389389,   3.91391391,\n",
       "         3.93393393,   3.95395395,   3.97397397,   3.99399399,\n",
       "         4.01401401,   4.03403403,   4.05405405,   4.07407407,\n",
       "         4.09409409,   4.11411411,   4.13413413,   4.15415415,\n",
       "         4.17417417,   4.19419419,   4.21421421,   4.23423423,\n",
       "         4.25425425,   4.27427427,   4.29429429,   4.31431431,\n",
       "         4.33433433,   4.35435435,   4.37437437,   4.39439439,\n",
       "         4.41441441,   4.43443443,   4.45445445,   4.47447447,\n",
       "         4.49449449,   4.51451451,   4.53453453,   4.55455455,\n",
       "         4.57457457,   4.59459459,   4.61461461,   4.63463463,\n",
       "         4.65465465,   4.67467467,   4.69469469,   4.71471471,\n",
       "         4.73473473,   4.75475475,   4.77477477,   4.79479479,\n",
       "         4.81481481,   4.83483483,   4.85485485,   4.87487487,\n",
       "         4.89489489,   4.91491491,   4.93493493,   4.95495495,\n",
       "         4.97497497,   4.99499499,   5.01501502,   5.03503504,\n",
       "         5.05505506,   5.07507508,   5.0950951 ,   5.11511512,\n",
       "         5.13513514,   5.15515516,   5.17517518,   5.1951952 ,\n",
       "         5.21521522,   5.23523524,   5.25525526,   5.27527528,\n",
       "         5.2952953 ,   5.31531532,   5.33533534,   5.35535536,\n",
       "         5.37537538,   5.3953954 ,   5.41541542,   5.43543544,\n",
       "         5.45545546,   5.47547548,   5.4954955 ,   5.51551552,\n",
       "         5.53553554,   5.55555556,   5.57557558,   5.5955956 ,\n",
       "         5.61561562,   5.63563564,   5.65565566,   5.67567568,\n",
       "         5.6956957 ,   5.71571572,   5.73573574,   5.75575576,\n",
       "         5.77577578,   5.7957958 ,   5.81581582,   5.83583584,\n",
       "         5.85585586,   5.87587588,   5.8958959 ,   5.91591592,\n",
       "         5.93593594,   5.95595596,   5.97597598,   5.995996  ,\n",
       "         6.01601602,   6.03603604,   6.05605606,   6.07607608,\n",
       "         6.0960961 ,   6.11611612,   6.13613614,   6.15615616,\n",
       "         6.17617618,   6.1961962 ,   6.21621622,   6.23623624,\n",
       "         6.25625626,   6.27627628,   6.2962963 ,   6.31631632,\n",
       "         6.33633634,   6.35635636,   6.37637638,   6.3963964 ,\n",
       "         6.41641642,   6.43643644,   6.45645646,   6.47647648,\n",
       "         6.4964965 ,   6.51651652,   6.53653654,   6.55655656,\n",
       "         6.57657658,   6.5965966 ,   6.61661662,   6.63663664,\n",
       "         6.65665666,   6.67667668,   6.6966967 ,   6.71671672,\n",
       "         6.73673674,   6.75675676,   6.77677678,   6.7967968 ,\n",
       "         6.81681682,   6.83683684,   6.85685686,   6.87687688,\n",
       "         6.8968969 ,   6.91691692,   6.93693694,   6.95695696,\n",
       "         6.97697698,   6.996997  ,   7.01701702,   7.03703704,\n",
       "         7.05705706,   7.07707708,   7.0970971 ,   7.11711712,\n",
       "         7.13713714,   7.15715716,   7.17717718,   7.1971972 ,\n",
       "         7.21721722,   7.23723724,   7.25725726,   7.27727728,\n",
       "         7.2972973 ,   7.31731732,   7.33733734,   7.35735736,\n",
       "         7.37737738,   7.3973974 ,   7.41741742,   7.43743744,\n",
       "         7.45745746,   7.47747748,   7.4974975 ,   7.51751752,\n",
       "         7.53753754,   7.55755756,   7.57757758,   7.5975976 ,\n",
       "         7.61761762,   7.63763764,   7.65765766,   7.67767768,\n",
       "         7.6976977 ,   7.71771772,   7.73773774,   7.75775776,\n",
       "         7.77777778,   7.7977978 ,   7.81781782,   7.83783784,\n",
       "         7.85785786,   7.87787788,   7.8978979 ,   7.91791792,\n",
       "         7.93793794,   7.95795796,   7.97797798,   7.997998  ,\n",
       "         8.01801802,   8.03803804,   8.05805806,   8.07807808,\n",
       "         8.0980981 ,   8.11811812,   8.13813814,   8.15815816,\n",
       "         8.17817818,   8.1981982 ,   8.21821822,   8.23823824,\n",
       "         8.25825826,   8.27827828,   8.2982983 ,   8.31831832,\n",
       "         8.33833834,   8.35835836,   8.37837838,   8.3983984 ,\n",
       "         8.41841842,   8.43843844,   8.45845846,   8.47847848,\n",
       "         8.4984985 ,   8.51851852,   8.53853854,   8.55855856,\n",
       "         8.57857858,   8.5985986 ,   8.61861862,   8.63863864,\n",
       "         8.65865866,   8.67867868,   8.6986987 ,   8.71871872,\n",
       "         8.73873874,   8.75875876,   8.77877878,   8.7987988 ,\n",
       "         8.81881882,   8.83883884,   8.85885886,   8.87887888,\n",
       "         8.8988989 ,   8.91891892,   8.93893894,   8.95895896,\n",
       "         8.97897898,   8.998999  ,   9.01901902,   9.03903904,\n",
       "         9.05905906,   9.07907908,   9.0990991 ,   9.11911912,\n",
       "         9.13913914,   9.15915916,   9.17917918,   9.1991992 ,\n",
       "         9.21921922,   9.23923924,   9.25925926,   9.27927928,\n",
       "         9.2992993 ,   9.31931932,   9.33933934,   9.35935936,\n",
       "         9.37937938,   9.3993994 ,   9.41941942,   9.43943944,\n",
       "         9.45945946,   9.47947948,   9.4994995 ,   9.51951952,\n",
       "         9.53953954,   9.55955956,   9.57957958,   9.5995996 ,\n",
       "         9.61961962,   9.63963964,   9.65965966,   9.67967968,\n",
       "         9.6996997 ,   9.71971972,   9.73973974,   9.75975976,\n",
       "         9.77977978,   9.7997998 ,   9.81981982,   9.83983984,\n",
       "         9.85985986,   9.87987988,   9.8998999 ,   9.91991992,\n",
       "         9.93993994,   9.95995996,   9.97997998,  10.        ])"
      ]
     },
     "execution_count": 176,
     "metadata": {},
     "output_type": "execute_result"
    }
   ],
   "source": [
    "x = np.linspace(-10,10,1000)\n",
    "x"
   ]
  },
  {
   "cell_type": "code",
   "execution_count": 182,
   "id": "aa635389",
   "metadata": {
    "ExecuteTime": {
     "end_time": "2022-10-04T19:27:47.429449Z",
     "start_time": "2022-10-04T19:27:47.413449Z"
    }
   },
   "outputs": [
    {
     "data": {
      "text/plain": [
       "array([-3.25500000e+03, -3.23611793e+03, -3.21730946e+03, -3.19857446e+03,\n",
       "       -3.17991276e+03, -3.16132424e+03, -3.14280874e+03, -3.12436612e+03,\n",
       "       -3.10599624e+03, -3.08769895e+03, -3.06947411e+03, -3.05132157e+03,\n",
       "       -3.03324119e+03, -3.01523282e+03, -2.99729633e+03, -2.97943156e+03,\n",
       "       -2.96163837e+03, -2.94391661e+03, -2.92626615e+03, -2.90868684e+03,\n",
       "       -2.89117853e+03, -2.87374108e+03, -2.85637434e+03, -2.83907817e+03,\n",
       "       -2.82185243e+03, -2.80469697e+03, -2.78761164e+03, -2.77059631e+03,\n",
       "       -2.75365083e+03, -2.73677505e+03, -2.71996882e+03, -2.70323202e+03,\n",
       "       -2.68656448e+03, -2.66996607e+03, -2.65343663e+03, -2.63697604e+03,\n",
       "       -2.62058414e+03, -2.60426078e+03, -2.58800583e+03, -2.57181914e+03,\n",
       "       -2.55570056e+03, -2.53964996e+03, -2.52366717e+03, -2.50775207e+03,\n",
       "       -2.49190451e+03, -2.47612434e+03, -2.46041142e+03, -2.44476560e+03,\n",
       "       -2.42918673e+03, -2.41367469e+03, -2.39822931e+03, -2.38285046e+03,\n",
       "       -2.36753799e+03, -2.35229176e+03, -2.33711162e+03, -2.32199743e+03,\n",
       "       -2.30694904e+03, -2.29196631e+03, -2.27704910e+03, -2.26219726e+03,\n",
       "       -2.24741064e+03, -2.23268910e+03, -2.21803250e+03, -2.20344070e+03,\n",
       "       -2.18891354e+03, -2.17445088e+03, -2.16005259e+03, -2.14571851e+03,\n",
       "       -2.13144850e+03, -2.11724241e+03, -2.10310011e+03, -2.08902145e+03,\n",
       "       -2.07500627e+03, -2.06105445e+03, -2.04716583e+03, -2.03334027e+03,\n",
       "       -2.01957762e+03, -2.00587774e+03, -1.99224050e+03, -1.97866573e+03,\n",
       "       -1.96515330e+03, -1.95170306e+03, -1.93831487e+03, -1.92498858e+03,\n",
       "       -1.91172406e+03, -1.89852115e+03, -1.88537970e+03, -1.87229959e+03,\n",
       "       -1.85928066e+03, -1.84632276e+03, -1.83342576e+03, -1.82058951e+03,\n",
       "       -1.80781386e+03, -1.79509867e+03, -1.78244379e+03, -1.76984909e+03,\n",
       "       -1.75731441e+03, -1.74483961e+03, -1.73242455e+03, -1.72006909e+03,\n",
       "       -1.70777307e+03, -1.69553636e+03, -1.68335880e+03, -1.67124026e+03,\n",
       "       -1.65918060e+03, -1.64717966e+03, -1.63523730e+03, -1.62335338e+03,\n",
       "       -1.61152775e+03, -1.59976027e+03, -1.58805079e+03, -1.57639918e+03,\n",
       "       -1.56480528e+03, -1.55326895e+03, -1.54179004e+03, -1.53036842e+03,\n",
       "       -1.51900394e+03, -1.50769645e+03, -1.49644581e+03, -1.48525187e+03,\n",
       "       -1.47411450e+03, -1.46303354e+03, -1.45200884e+03, -1.44104028e+03,\n",
       "       -1.43012770e+03, -1.41927096e+03, -1.40846991e+03, -1.39772440e+03,\n",
       "       -1.38703431e+03, -1.37639947e+03, -1.36581975e+03, -1.35529500e+03,\n",
       "       -1.34482507e+03, -1.33440983e+03, -1.32404913e+03, -1.31374282e+03,\n",
       "       -1.30349076e+03, -1.29329280e+03, -1.28314880e+03, -1.27305862e+03,\n",
       "       -1.26302211e+03, -1.25303913e+03, -1.24310953e+03, -1.23323317e+03,\n",
       "       -1.22340990e+03, -1.21363958e+03, -1.20392207e+03, -1.19425721e+03,\n",
       "       -1.18464487e+03, -1.17508490e+03, -1.16557716e+03, -1.15612150e+03,\n",
       "       -1.14671778e+03, -1.13736586e+03, -1.12806558e+03, -1.11881681e+03,\n",
       "       -1.10961939e+03, -1.10047320e+03, -1.09137807e+03, -1.08233388e+03,\n",
       "       -1.07334046e+03, -1.06439768e+03, -1.05550540e+03, -1.04666347e+03,\n",
       "       -1.03787174e+03, -1.02913007e+03, -1.02043831e+03, -1.01179633e+03,\n",
       "       -1.00320398e+03, -9.94661107e+02, -9.86167574e+02, -9.77723235e+02,\n",
       "       -9.69327945e+02, -9.60981560e+02, -9.52683935e+02, -9.44434927e+02,\n",
       "       -9.36234390e+02, -9.28082180e+02, -9.19978154e+02, -9.11922165e+02,\n",
       "       -9.03914071e+02, -8.95953726e+02, -8.88040986e+02, -8.80175707e+02,\n",
       "       -8.72357744e+02, -8.64586953e+02, -8.56863189e+02, -8.49186308e+02,\n",
       "       -8.41556166e+02, -8.33972618e+02, -8.26435519e+02, -8.18944725e+02,\n",
       "       -8.11500092e+02, -8.04101476e+02, -7.96748731e+02, -7.89441714e+02,\n",
       "       -7.82180280e+02, -7.74964284e+02, -7.67793582e+02, -7.60668031e+02,\n",
       "       -7.53587484e+02, -7.46551799e+02, -7.39560829e+02, -7.32614432e+02,\n",
       "       -7.25712462e+02, -7.18854776e+02, -7.12041228e+02, -7.05271674e+02,\n",
       "       -6.98545970e+02, -6.91863972e+02, -6.85225534e+02, -6.78630513e+02,\n",
       "       -6.72078764e+02, -6.65570143e+02, -6.59104505e+02, -6.52681706e+02,\n",
       "       -6.46301601e+02, -6.39964046e+02, -6.33668897e+02, -6.27416008e+02,\n",
       "       -6.21205236e+02, -6.15036437e+02, -6.08909465e+02, -6.02824177e+02,\n",
       "       -5.96780427e+02, -5.90778072e+02, -5.84816967e+02, -5.78896967e+02,\n",
       "       -5.73017929e+02, -5.67179707e+02, -5.61382158e+02, -5.55625136e+02,\n",
       "       -5.49908498e+02, -5.44232099e+02, -5.38595794e+02, -5.32999440e+02,\n",
       "       -5.27442891e+02, -5.21926004e+02, -5.16448633e+02, -5.11010635e+02,\n",
       "       -5.05611865e+02, -5.00252178e+02, -4.94931431e+02, -4.89649478e+02,\n",
       "       -4.84406175e+02, -4.79201378e+02, -4.74034943e+02, -4.68906724e+02,\n",
       "       -4.63816578e+02, -4.58764360e+02, -4.53749926e+02, -4.48773131e+02,\n",
       "       -4.43833830e+02, -4.38931880e+02, -4.34067136e+02, -4.29239453e+02,\n",
       "       -4.24448688e+02, -4.19694695e+02, -4.14977330e+02, -4.10296449e+02,\n",
       "       -4.05651907e+02, -4.01043560e+02, -3.96471264e+02, -3.91934873e+02,\n",
       "       -3.87434244e+02, -3.82969232e+02, -3.78539693e+02, -3.74145483e+02,\n",
       "       -3.69786456e+02, -3.65462468e+02, -3.61173376e+02, -3.56919034e+02,\n",
       "       -3.52699298e+02, -3.48514024e+02, -3.44363067e+02, -3.40246283e+02,\n",
       "       -3.36163527e+02, -3.32114655e+02, -3.28099523e+02, -3.24117986e+02,\n",
       "       -3.20169899e+02, -3.16255119e+02, -3.12373500e+02, -3.08524899e+02,\n",
       "       -3.04709171e+02, -3.00926171e+02, -2.97175756e+02, -2.93457780e+02,\n",
       "       -2.89772099e+02, -2.86118568e+02, -2.82497045e+02, -2.78907383e+02,\n",
       "       -2.75349438e+02, -2.71823067e+02, -2.68328124e+02, -2.64864465e+02,\n",
       "       -2.61431946e+02, -2.58030423e+02, -2.54659750e+02, -2.51319783e+02,\n",
       "       -2.48010379e+02, -2.44731392e+02, -2.41482679e+02, -2.38264094e+02,\n",
       "       -2.35075493e+02, -2.31916732e+02, -2.28787666e+02, -2.25688152e+02,\n",
       "       -2.22618044e+02, -2.19577198e+02, -2.16565470e+02, -2.13582715e+02,\n",
       "       -2.10628788e+02, -2.07703547e+02, -2.04806845e+02, -2.01938538e+02,\n",
       "       -1.99098483e+02, -1.96286534e+02, -1.93502548e+02, -1.90746379e+02,\n",
       "       -1.88017884e+02, -1.85316917e+02, -1.82643335e+02, -1.79996993e+02,\n",
       "       -1.77377747e+02, -1.74785451e+02, -1.72219963e+02, -1.69681137e+02,\n",
       "       -1.67168828e+02, -1.64682894e+02, -1.62223188e+02, -1.59789567e+02,\n",
       "       -1.57381885e+02, -1.55000000e+02, -1.52643766e+02, -1.50313039e+02,\n",
       "       -1.48007674e+02, -1.45727527e+02, -1.43472453e+02, -1.41242309e+02,\n",
       "       -1.39036950e+02, -1.36856230e+02, -1.34700007e+02, -1.32568135e+02,\n",
       "       -1.30460470e+02, -1.28376867e+02, -1.26317182e+02, -1.24281271e+02,\n",
       "       -1.22268990e+02, -1.20280193e+02, -1.18314736e+02, -1.16372475e+02,\n",
       "       -1.14453266e+02, -1.12556964e+02, -1.10683425e+02, -1.08832503e+02,\n",
       "       -1.07004056e+02, -1.05197938e+02, -1.03414004e+02, -1.01652111e+02,\n",
       "       -9.99121145e+01, -9.81938692e+01, -9.64972310e+01, -9.48220556e+01,\n",
       "       -9.31681985e+01, -9.15355153e+01, -8.99238614e+01, -8.83330926e+01,\n",
       "       -8.67630643e+01, -8.52136322e+01, -8.36846517e+01, -8.21759785e+01,\n",
       "       -8.06874682e+01, -7.92189762e+01, -7.77703582e+01, -7.63414697e+01,\n",
       "       -7.49321663e+01, -7.35423036e+01, -7.21717371e+01, -7.08203224e+01,\n",
       "       -6.94879151e+01, -6.81743707e+01, -6.68795448e+01, -6.56032930e+01,\n",
       "       -6.43454708e+01, -6.31059338e+01, -6.18845376e+01, -6.06811377e+01,\n",
       "       -5.94955897e+01, -5.83277492e+01, -5.71774717e+01, -5.60446128e+01,\n",
       "       -5.49290281e+01, -5.38305731e+01, -5.27491035e+01, -5.16844747e+01,\n",
       "       -5.06365423e+01, -4.96051620e+01, -4.85901892e+01, -4.75914796e+01,\n",
       "       -4.66088886e+01, -4.56422720e+01, -4.46914852e+01, -4.37563838e+01,\n",
       "       -4.28368233e+01, -4.19326595e+01, -4.10437477e+01, -4.01699436e+01,\n",
       "       -3.93111028e+01, -3.84670807e+01, -3.76377331e+01, -3.68229154e+01,\n",
       "       -3.60224832e+01, -3.52362920e+01, -3.44641976e+01, -3.37060553e+01,\n",
       "       -3.29617209e+01, -3.22310497e+01, -3.15138975e+01, -3.08101198e+01,\n",
       "       -3.01195721e+01, -2.94421101e+01, -2.87775892e+01, -2.81258651e+01,\n",
       "       -2.74867933e+01, -2.68602294e+01, -2.62460289e+01, -2.56440475e+01,\n",
       "       -2.50541406e+01, -2.44761639e+01, -2.39099730e+01, -2.33554233e+01,\n",
       "       -2.28123704e+01, -2.22806700e+01, -2.17601776e+01, -2.12507488e+01,\n",
       "       -2.07522390e+01, -2.02645040e+01, -1.97873992e+01, -1.93207802e+01,\n",
       "       -1.88645027e+01, -1.84184221e+01, -1.79823940e+01, -1.75562740e+01,\n",
       "       -1.71399177e+01, -1.67331806e+01, -1.63359183e+01, -1.59479864e+01,\n",
       "       -1.55692404e+01, -1.51995359e+01, -1.48387284e+01, -1.44866736e+01,\n",
       "       -1.41432270e+01, -1.38082442e+01, -1.34815807e+01, -1.31630920e+01,\n",
       "       -1.28526339e+01, -1.25500618e+01, -1.22552313e+01, -1.19679979e+01,\n",
       "       -1.16882173e+01, -1.14157450e+01, -1.11504366e+01, -1.08921476e+01,\n",
       "       -1.06407336e+01, -1.03960502e+01, -1.01579529e+01, -9.92629737e+00,\n",
       "       -9.70093907e+00, -9.48173361e+00, -9.26853656e+00, -9.06120348e+00,\n",
       "       -8.85958994e+00, -8.66355152e+00, -8.47294377e+00, -8.28762226e+00,\n",
       "       -8.10744256e+00, -7.93226024e+00, -7.76193086e+00, -7.59630999e+00,\n",
       "       -7.43525321e+00, -7.27861606e+00, -7.12625414e+00, -6.97802299e+00,\n",
       "       -6.83377819e+00, -6.69337530e+00, -6.55666989e+00, -6.42351753e+00,\n",
       "       -6.29377379e+00, -6.16729423e+00, -6.04393442e+00, -5.92354993e+00,\n",
       "       -5.80599632e+00, -5.69112916e+00, -5.57880403e+00, -5.46887647e+00,\n",
       "       -5.36120207e+00, -5.25563639e+00, -5.15203500e+00, -5.05025346e+00,\n",
       "       -4.95014734e+00, -4.85157221e+00, -4.75438364e+00, -4.65843719e+00,\n",
       "       -4.56358842e+00, -4.46969292e+00, -4.37660624e+00, -4.28418395e+00,\n",
       "       -4.19228162e+00, -4.10075481e+00, -4.00945910e+00, -3.91825004e+00,\n",
       "       -3.82698322e+00, -3.73551418e+00, -3.64369851e+00, -3.55139177e+00,\n",
       "       -3.45844952e+00, -3.36472734e+00, -3.27008078e+00, -3.17436542e+00,\n",
       "       -3.07743683e+00, -2.97915056e+00, -2.87936220e+00, -2.77792730e+00,\n",
       "       -2.67470143e+00, -2.56954016e+00, -2.46229906e+00, -2.35283369e+00,\n",
       "       -2.24099962e+00, -2.12665242e+00, -2.00964766e+00, -1.88984090e+00,\n",
       "       -1.76708771e+00, -1.64124365e+00, -1.51216430e+00, -1.37970522e+00,\n",
       "       -1.24372198e+00, -1.10407014e+00, -9.60605280e-01, -8.13182955e-01,\n",
       "       -6.61658737e-01, -5.05888192e-01, -3.45726889e-01, -1.81030393e-01,\n",
       "       -1.16542729e-02,  1.62545905e-01,  3.41714574e-01,  5.25996166e-01,\n",
       "        7.15535114e-01,  9.10475852e-01,  1.11096281e+00,  1.31714043e+00,\n",
       "        1.52915313e+00,  1.74714535e+00,  1.97126153e+00,  2.20164609e+00,\n",
       "        2.43844347e+00,  2.68179811e+00,  2.93185443e+00,  3.18875686e+00,\n",
       "        3.45264985e+00,  3.72367782e+00,  4.00198521e+00,  4.28771645e+00,\n",
       "        4.58101596e+00,  4.88202820e+00,  5.19089758e+00,  5.50776854e+00,\n",
       "        5.83278552e+00,  6.16609294e+00,  6.50783524e+00,  6.85815686e+00,\n",
       "        7.21720222e+00,  7.58511575e+00,  7.96204190e+00,  8.34812509e+00,\n",
       "        8.74350976e+00,  9.14834034e+00,  9.56276126e+00,  9.98691696e+00,\n",
       "        1.04209519e+01,  1.08650104e+01,  1.13192370e+01,  1.17837761e+01,\n",
       "        1.22587722e+01,  1.27443696e+01,  1.32407129e+01,  1.37479464e+01,\n",
       "        1.42662145e+01,  1.47956618e+01,  1.53364326e+01,  1.58886713e+01,\n",
       "        1.64525225e+01,  1.70281305e+01,  1.76156397e+01,  1.82151947e+01,\n",
       "        1.88269398e+01,  1.94510195e+01,  2.00875781e+01,  2.07367602e+01,\n",
       "        2.13987102e+01,  2.20735725e+01,  2.27614915e+01,  2.34626116e+01,\n",
       "        2.41770774e+01,  2.49050332e+01,  2.56466234e+01,  2.64019926e+01,\n",
       "        2.71712850e+01,  2.79546453e+01,  2.87522177e+01,  2.95641467e+01,\n",
       "        3.03905768e+01,  3.12316524e+01,  3.20875180e+01,  3.29583179e+01,\n",
       "        3.38441965e+01,  3.47452984e+01,  3.56617680e+01,  3.65937497e+01,\n",
       "        3.75413878e+01,  3.85048270e+01,  3.94842115e+01,  4.04796858e+01,\n",
       "        4.14913944e+01,  4.25194817e+01,  4.35640921e+01,  4.46253700e+01,\n",
       "        4.57034600e+01,  4.67985063e+01,  4.79106535e+01,  4.90400460e+01,\n",
       "        5.01868282e+01,  5.13511446e+01,  5.25331395e+01,  5.37329575e+01,\n",
       "        5.49507429e+01,  5.61866402e+01,  5.74407938e+01,  5.87133481e+01,\n",
       "        6.00044476e+01,  6.13142368e+01,  6.26428600e+01,  6.39904616e+01,\n",
       "        6.53571862e+01,  6.67431781e+01,  6.81485818e+01,  6.95735417e+01,\n",
       "        7.10182023e+01,  7.24827079e+01,  7.39672030e+01,  7.54718321e+01,\n",
       "        7.69967396e+01,  7.85420698e+01,  8.01079673e+01,  8.16945765e+01,\n",
       "        8.33020418e+01,  8.49305076e+01,  8.65801184e+01,  8.82510185e+01,\n",
       "        8.99433526e+01,  9.16572649e+01,  9.33928999e+01,  9.51504020e+01,\n",
       "        9.69299157e+01,  9.87315854e+01,  1.00555556e+02,  1.02401971e+02,\n",
       "        1.04270975e+02,  1.06162713e+02,  1.08077329e+02,  1.10014968e+02,\n",
       "        1.11975774e+02,  1.13959891e+02,  1.15967464e+02,  1.17998638e+02,\n",
       "        1.20053556e+02,  1.22132364e+02,  1.24235205e+02,  1.26362224e+02,\n",
       "        1.28513566e+02,  1.30689374e+02,  1.32889794e+02,  1.35114970e+02,\n",
       "        1.37365046e+02,  1.39640166e+02,  1.41940476e+02,  1.44266119e+02,\n",
       "        1.46617241e+02,  1.48993984e+02,  1.51396495e+02,  1.53824916e+02,\n",
       "        1.56279394e+02,  1.58760071e+02,  1.61267093e+02,  1.63800604e+02,\n",
       "        1.66360749e+02,  1.68947671e+02,  1.71561516e+02,  1.74202427e+02,\n",
       "        1.76870549e+02,  1.79566028e+02,  1.82289006e+02,  1.85039628e+02,\n",
       "        1.87818040e+02,  1.90624384e+02,  1.93458807e+02,  1.96321451e+02,\n",
       "        1.99212463e+02,  2.02131985e+02,  2.05080163e+02,  2.08057140e+02,\n",
       "        2.11063062e+02,  2.14098073e+02,  2.17162317e+02,  2.20255939e+02,\n",
       "        2.23379083e+02,  2.26531893e+02,  2.29714514e+02,  2.32927091e+02,\n",
       "        2.36169767e+02,  2.39442688e+02,  2.42745997e+02,  2.46079840e+02,\n",
       "        2.49444360e+02,  2.52839702e+02,  2.56266010e+02,  2.59723429e+02,\n",
       "        2.63212104e+02,  2.66732178e+02,  2.70283796e+02,  2.73867103e+02,\n",
       "        2.77482243e+02,  2.81129360e+02,  2.84808599e+02,  2.88520105e+02,\n",
       "        2.92264021e+02,  2.96040492e+02,  2.99849663e+02,  3.03691678e+02,\n",
       "        3.07566682e+02,  3.11474818e+02,  3.15416232e+02,  3.19391068e+02,\n",
       "        3.23399469e+02,  3.27441582e+02,  3.31517549e+02,  3.35627516e+02,\n",
       "        3.39771627e+02,  3.43950026e+02,  3.48162858e+02,  3.52410267e+02,\n",
       "        3.56692398e+02,  3.61009395e+02,  3.65361402e+02,  3.69748565e+02,\n",
       "        3.74171026e+02,  3.78628932e+02,  3.83122426e+02,  3.87651653e+02,\n",
       "        3.92216756e+02,  3.96817882e+02,  4.01455173e+02,  4.06128774e+02,\n",
       "        4.10838831e+02,  4.15585487e+02,  4.20368886e+02,  4.25189174e+02,\n",
       "        4.30046494e+02,  4.34940992e+02,  4.39872811e+02,  4.44842095e+02,\n",
       "        4.49848990e+02,  4.54893640e+02,  4.59976189e+02,  4.65096781e+02,\n",
       "        4.70255562e+02,  4.75452675e+02,  4.80688265e+02,  4.85962476e+02,\n",
       "        4.91275453e+02,  4.96627341e+02,  5.02018283e+02,  5.07448424e+02,\n",
       "        5.12917908e+02,  5.18426881e+02,  5.23975486e+02,  5.29563867e+02,\n",
       "        5.35192170e+02,  5.40860539e+02,  5.46569117e+02,  5.52318051e+02,\n",
       "        5.58107483e+02,  5.63937559e+02,  5.69808422e+02,  5.75720218e+02,\n",
       "        5.81673090e+02,  5.87667184e+02,  5.93702643e+02,  5.99779612e+02,\n",
       "        6.05898236e+02,  6.12058658e+02,  6.18261024e+02,  6.24505478e+02,\n",
       "        6.30792163e+02,  6.37121226e+02,  6.43492809e+02,  6.49907058e+02,\n",
       "        6.56364117e+02,  6.62864130e+02,  6.69407241e+02,  6.75993596e+02,\n",
       "        6.82623339e+02,  6.89296614e+02,  6.96013565e+02,  7.02774337e+02,\n",
       "        7.09579075e+02,  7.16427922e+02,  7.23321023e+02,  7.30258524e+02,\n",
       "        7.37240567e+02,  7.44267298e+02,  7.51338861e+02,  7.58455400e+02,\n",
       "        7.65617060e+02,  7.72823985e+02,  7.80076320e+02,  7.87374209e+02,\n",
       "        7.94717797e+02,  8.02107227e+02,  8.09542645e+02,  8.17024195e+02,\n",
       "        8.24552021e+02,  8.32126268e+02,  8.39747080e+02,  8.47414602e+02,\n",
       "        8.55128978e+02,  8.62890352e+02,  8.70698869e+02,  8.78554673e+02,\n",
       "        8.86457909e+02,  8.94408722e+02,  9.02407255e+02,  9.10453653e+02,\n",
       "        9.18548060e+02,  9.26690621e+02,  9.34881481e+02,  9.43120784e+02,\n",
       "        9.51408673e+02,  9.59745295e+02,  9.68130792e+02,  9.76565310e+02,\n",
       "        9.85048993e+02,  9.93581985e+02,  1.00216443e+03,  1.01079648e+03,\n",
       "        1.01947826e+03,  1.02820994e+03,  1.03699164e+03,  1.04582352e+03,\n",
       "        1.05470573e+03,  1.06363839e+03,  1.07262167e+03,  1.08165570e+03,\n",
       "        1.09074063e+03,  1.09987660e+03,  1.10906376e+03,  1.11830224e+03,\n",
       "        1.12759221e+03,  1.13693379e+03,  1.14632714e+03,  1.15577240e+03,\n",
       "        1.16526972e+03,  1.17481923e+03,  1.18442108e+03,  1.19407542e+03,\n",
       "        1.20378239e+03,  1.21354214e+03,  1.22335481e+03,  1.23322054e+03,\n",
       "        1.24313948e+03,  1.25311178e+03,  1.26313757e+03,  1.27321700e+03,\n",
       "        1.28335022e+03,  1.29353738e+03,  1.30377861e+03,  1.31407406e+03,\n",
       "        1.32442387e+03,  1.33482819e+03,  1.34528717e+03,  1.35580094e+03,\n",
       "        1.36636966e+03,  1.37699346e+03,  1.38767249e+03,  1.39840690e+03,\n",
       "        1.40919683e+03,  1.42004242e+03,  1.43094383e+03,  1.44190118e+03,\n",
       "        1.45291463e+03,  1.46398433e+03,  1.47511041e+03,  1.48629303e+03,\n",
       "        1.49753231e+03,  1.50882842e+03,  1.52018150e+03,  1.53159168e+03,\n",
       "        1.54305911e+03,  1.55458394e+03,  1.56616632e+03,  1.57780638e+03,\n",
       "        1.58950427e+03,  1.60126014e+03,  1.61307413e+03,  1.62494638e+03,\n",
       "        1.63687704e+03,  1.64886625e+03,  1.66091416e+03,  1.67302091e+03,\n",
       "        1.68518665e+03,  1.69741152e+03,  1.70969567e+03,  1.72203923e+03,\n",
       "        1.73444236e+03,  1.74690520e+03,  1.75942789e+03,  1.77201058e+03,\n",
       "        1.78465340e+03,  1.79735652e+03,  1.81012007e+03,  1.82294419e+03,\n",
       "        1.83582903e+03,  1.84877473e+03,  1.86178145e+03,  1.87484932e+03,\n",
       "        1.88797848e+03,  1.90116908e+03,  1.91442128e+03,  1.92773520e+03,\n",
       "        1.94111100e+03,  1.95454881e+03,  1.96804879e+03,  1.98161108e+03,\n",
       "        1.99523582e+03,  2.00892316e+03,  2.02267324e+03,  2.03648621e+03,\n",
       "        2.05036221e+03,  2.06430138e+03,  2.07830387e+03,  2.09236983e+03,\n",
       "        2.10649939e+03,  2.12069271e+03,  2.13494992e+03,  2.14927118e+03,\n",
       "        2.16365662e+03,  2.17810639e+03,  2.19262063e+03,  2.20719950e+03,\n",
       "        2.22184313e+03,  2.23655167e+03,  2.25132526e+03,  2.26616404e+03,\n",
       "        2.28106817e+03,  2.29603778e+03,  2.31107303e+03,  2.32617405e+03,\n",
       "        2.34134099e+03,  2.35657399e+03,  2.37187320e+03,  2.38723876e+03,\n",
       "        2.40267082e+03,  2.41816952e+03,  2.43373501e+03,  2.44936742e+03,\n",
       "        2.46506691e+03,  2.48083362e+03,  2.49666770e+03,  2.51256928e+03,\n",
       "        2.52853851e+03,  2.54457554e+03,  2.56068052e+03,  2.57685357e+03,\n",
       "        2.59309486e+03,  2.60940452e+03,  2.62578270e+03,  2.64222955e+03,\n",
       "        2.65874520e+03,  2.67532981e+03,  2.69198351e+03,  2.70870645e+03,\n",
       "        2.72549878e+03,  2.74236063e+03,  2.75929217e+03,  2.77629352e+03,\n",
       "        2.79336483e+03,  2.81050625e+03,  2.82771793e+03,  2.84500000e+03])"
      ]
     },
     "execution_count": 182,
     "metadata": {},
     "output_type": "execute_result"
    }
   ],
   "source": [
    "y = 3 * x**3 - 2* x**2 +5*x -5\n",
    "y"
   ]
  },
  {
   "cell_type": "code",
   "execution_count": 183,
   "id": "a8bc8167",
   "metadata": {
    "ExecuteTime": {
     "end_time": "2022-10-04T19:27:48.240115Z",
     "start_time": "2022-10-04T19:27:48.227117Z"
    }
   },
   "outputs": [],
   "source": [
    "y = np.sin(x)"
   ]
  },
  {
   "cell_type": "code",
   "execution_count": 184,
   "id": "9b0cd118",
   "metadata": {
    "ExecuteTime": {
     "end_time": "2022-10-04T19:27:49.111190Z",
     "start_time": "2022-10-04T19:27:48.932189Z"
    }
   },
   "outputs": [
    {
     "data": {
      "image/png": "[encoded data removed]",
      "text/plain": [
       "<Figure size 720x432 with 1 Axes>"
      ]
     },
     "metadata": {},
     "output_type": "display_data"
    }
   ],
   "source": [
    "plt.figure(figsize=(10,6))\n",
    "plt.plot(x,y)\n",
    "plt.xlabel(\"x\")\n",
    "plt.ylabel(\"y\")\n",
    "plt.show()"
   ]
  },
  {
   "cell_type": "code",
   "execution_count": 185,
   "id": "a9555db6",
   "metadata": {
    "ExecuteTime": {
     "end_time": "2022-10-04T19:29:30.344410Z",
     "start_time": "2022-10-04T19:29:30.327413Z"
    }
   },
   "outputs": [
    {
     "data": {
      "text/plain": [
       "array([[ 7.82873879, 11.99469089, 10.565957  ,  6.98741057,  8.8427995 ,\n",
       "        13.30287307,  5.14664151,  9.14217474, 12.53187252,  8.2665192 ],\n",
       "       [ 8.6422277 ,  9.81058206, 12.98277925,  8.72219601,  9.11203608,\n",
       "         9.13129745, 14.41186017, 14.37357218, 12.0081078 , 10.7723728 ]])"
      ]
     },
     "execution_count": 185,
     "metadata": {},
     "output_type": "execute_result"
    }
   ],
   "source": [
    "np.random.seed(123)\n",
    "m = np.random.normal(10,2,20).reshape(2,10)\n",
    "m"
   ]
  },
  {
   "cell_type": "code",
   "execution_count": 186,
   "id": "e9240fa1",
   "metadata": {
    "ExecuteTime": {
     "end_time": "2022-10-04T19:29:52.225617Z",
     "start_time": "2022-10-04T19:29:52.214618Z"
    }
   },
   "outputs": [
    {
     "data": {
      "text/plain": [
       "array([ 7.82873879, 11.99469089, 10.565957  ,  6.98741057,  8.8427995 ,\n",
       "       13.30287307,  5.14664151,  9.14217474, 12.53187252,  8.2665192 ])"
      ]
     },
     "execution_count": 186,
     "metadata": {},
     "output_type": "execute_result"
    }
   ],
   "source": [
    "a = m[0]\n",
    "a"
   ]
  },
  {
   "cell_type": "code",
   "execution_count": 187,
   "id": "2503aa43",
   "metadata": {
    "ExecuteTime": {
     "end_time": "2022-10-04T19:30:08.118975Z",
     "start_time": "2022-10-04T19:30:08.105976Z"
    }
   },
   "outputs": [
    {
     "data": {
      "text/plain": [
       "array([ 8.6422277 ,  9.81058206, 12.98277925,  8.72219601,  9.11203608,\n",
       "        9.13129745, 14.41186017, 14.37357218, 12.0081078 , 10.7723728 ])"
      ]
     },
     "execution_count": 187,
     "metadata": {},
     "output_type": "execute_result"
    }
   ],
   "source": [
    "b = m[1]\n",
    "b"
   ]
  },
  {
   "cell_type": "code",
   "execution_count": null,
   "id": "cd825259",
   "metadata": {},
   "outputs": [],
   "source": [
    "plt.figure(figsize=(10,6))\n",
    "plt.scatter(a,b)\n",
    "plt.show()"
   ]
  },
  {
   "cell_type": "code",
   "execution_count": 188,
   "id": "dad028e8",
   "metadata": {
    "ExecuteTime": {
     "end_time": "2022-10-04T19:32:32.754434Z",
     "start_time": "2022-10-04T19:32:32.737435Z"
    }
   },
   "outputs": [
    {
     "data": {
      "text/plain": [
       "array([-0.15996536, 12.51013026])"
      ]
     },
     "execution_count": 188,
     "metadata": {},
     "output_type": "execute_result"
    }
   ],
   "source": [
    "reg1 = np.polyfit(a,b,1) # 차수선정 1은 1차, 2는 이차\n",
    "reg1 # b = 12.51 - 0.1599*a"
   ]
  },
  {
   "cell_type": "code",
   "execution_count": 189,
   "id": "f1e6a3a6",
   "metadata": {
    "ExecuteTime": {
     "end_time": "2022-10-04T19:36:18.372997Z",
     "start_time": "2022-10-04T19:36:18.366998Z"
    }
   },
   "outputs": [],
   "source": [
    "x = np.linspace(min(a), max(a), num = 100)\n",
    "y = np.polyval(reg1,x)"
   ]
  },
  {
   "cell_type": "code",
   "execution_count": 190,
   "id": "a92de269",
   "metadata": {
    "ExecuteTime": {
     "end_time": "2022-10-04T19:38:36.630604Z",
     "start_time": "2022-10-04T19:38:36.424604Z"
    }
   },
   "outputs": [
    {
     "data": {
      "image/png": "[encoded data removed]",
      "text/plain": [
       "<Figure size 720x432 with 1 Axes>"
      ]
     },
     "metadata": {},
     "output_type": "display_data"
    }
   ],
   "source": [
    "plt.figure(figsize=(10,6))\n",
    "plt.scatter(a,b, label = \"Data\")\n",
    "plt.plot(x,y,\"b--\", label=\"linear\")\n",
    "plt.legend()\n",
    "plt.show()"
   ]
  },
  {
   "cell_type": "code",
   "execution_count": 191,
   "id": "4b08ad8c",
   "metadata": {
    "ExecuteTime": {
     "end_time": "2022-10-04T19:39:51.813991Z",
     "start_time": "2022-10-04T19:39:51.797993Z"
    }
   },
   "outputs": [
    {
     "data": {
      "text/plain": [
       "array([ 0.05351443, -1.17389453, 16.98563353])"
      ]
     },
     "execution_count": 191,
     "metadata": {},
     "output_type": "execute_result"
    }
   ],
   "source": [
    "reg2 = np.polyfit(a,b,2) \n",
    "reg2 # b = 16.986 + 0.0535*a**2 -1.1738*a"
   ]
  },
  {
   "cell_type": "code",
   "execution_count": 193,
   "id": "93aea1c1",
   "metadata": {
    "ExecuteTime": {
     "end_time": "2022-10-04T19:42:55.748735Z",
     "start_time": "2022-10-04T19:42:55.727744Z"
    }
   },
   "outputs": [
    {
     "data": {
      "text/plain": [
       "array([ -0.11789918,   3.26781029, -28.89966458,  92.25500598])"
      ]
     },
     "execution_count": 193,
     "metadata": {},
     "output_type": "execute_result"
    }
   ],
   "source": [
    "reg3 = np.polyfit(a,b,3) \n",
    "reg3 # b = 92.25 + -0.1178*a**3 + 3.267*a**2 -28.899*a"
   ]
  },
  {
   "cell_type": "code",
   "execution_count": 195,
   "id": "a8a4b234",
   "metadata": {
    "ExecuteTime": {
     "end_time": "2022-10-04T19:46:34.124508Z",
     "start_time": "2022-10-04T19:46:33.926508Z"
    }
   },
   "outputs": [
    {
     "data": {
      "image/png": "[encoded data removed]",
      "text/plain": [
       "<Figure size 720x432 with 1 Axes>"
      ]
     },
     "metadata": {},
     "output_type": "display_data"
    }
   ],
   "source": [
    "plt.figure(figsize=(10,6))\n",
    "plt.scatter(a,b, label = \"Data\")\n",
    "plt.plot(x,y,\"b--\", label=\"linear\")\n",
    "plt.plot(x, np.polyval(reg2, x), 'm-.', label = \"quadratic\")\n",
    "plt.plot(x, np.polyval(reg3, x), 'g.', label = \"cubic\")\n",
    "plt.legend()\n",
    "plt.show()"
   ]
  },
  {
   "cell_type": "code",
   "execution_count": 196,
   "id": "96ee6a1d",
   "metadata": {
    "ExecuteTime": {
     "end_time": "2022-10-04T19:48:16.179020Z",
     "start_time": "2022-10-04T19:48:16.165023Z"
    }
   },
   "outputs": [
    {
     "data": {
      "text/plain": [
       "array([ 4.04592027e-02, -3.47144109e+00,  1.31150678e+02, -2.86261989e+03,\n",
       "        3.97689790e+04, -3.64546782e+05,  2.20403879e+06, -8.47134034e+06,\n",
       "        1.87725346e+07, -1.82621324e+07])"
      ]
     },
     "execution_count": 196,
     "metadata": {},
     "output_type": "execute_result"
    }
   ],
   "source": [
    "reg_perfect = np.polyfit(a,b, len(a)-1)\n",
    "reg_perfect"
   ]
  },
  {
   "cell_type": "code",
   "execution_count": 200,
   "id": "f5e78aba",
   "metadata": {
    "ExecuteTime": {
     "end_time": "2022-10-04T19:52:22.918770Z",
     "start_time": "2022-10-04T19:52:22.723772Z"
    }
   },
   "outputs": [
    {
     "data": {
      "image/png": "[encoded data removed]",
      "text/plain": [
       "<Figure size 720x432 with 1 Axes>"
      ]
     },
     "metadata": {},
     "output_type": "display_data"
    }
   ],
   "source": [
    "plt.figure(figsize=(10,6))\n",
    "plt.scatter(a,b,label = \"Data\")\n",
    "plt.plot(x,np.polyval(reg_perfect,x), 'b--', label = 'perfect')\n",
    "plt.legend()\n",
    "plt.ylim(min(b)-0.5, max(b)+0.5)\n",
    "plt.show()"
   ]
  },
  {
   "cell_type": "code",
   "execution_count": null,
   "id": "16ad4067",
   "metadata": {},
   "outputs": [],
   "source": []
  }
 ],
 "metadata": {
  "kernelspec": {
   "display_name": "Python 3 (ipykernel)",
   "language": "python",
   "name": "python3"
  },
  "language_info": {
   "codemirror_mode": {
    "name": "ipython",
    "version": 3
   },
   "file_extension": ".py",
   "mimetype": "text/x-python",
   "name": "python",
   "nbconvert_exporter": "python",
   "pygments_lexer": "ipython3",
   "version": "3.9.12"
  },
  "toc": {
   "base_numbering": 1,
   "nav_menu": {},
   "number_sections": true,
   "sideBar": true,
   "skip_h1_title": false,
   "title_cell": "Table of Contents",
   "title_sidebar": "Contents",
   "toc_cell": false,
   "toc_position": {},
   "toc_section_display": true,
   "toc_window_display": false
  },
  "varInspector": {
   "cols": {
    "lenName": 16,
    "lenType": 16,
    "lenVar": 40
   },
   "kernels_config": {
    "python": {
     "delete_cmd_postfix": "",
     "delete_cmd_prefix": "del ",
     "library": "var_list.py",
     "varRefreshCmd": "print(var_dic_list())"
    },
    "r": {
     "delete_cmd_postfix": ") ",
     "delete_cmd_prefix": "rm(",
     "library": "var_list.r",
     "varRefreshCmd": "cat(var_dic_list()) "
    }
   },
   "types_to_exclude": [
    "module",
    "function",
    "builtin_function_or_method",
    "instance",
    "_Feature"
   ],
   "window_display": false
  }
 },
 "nbformat": 4,
 "nbformat_minor": 5
}
