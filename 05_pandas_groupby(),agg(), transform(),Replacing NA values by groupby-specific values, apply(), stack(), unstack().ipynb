{
 "cells": [
  {
   "cell_type": "markdown",
   "id": "811ec9ab",
   "metadata": {},
   "source": [
    "### split - apply - combine explained"
   ]
  },
  {
   "cell_type": "code",
   "execution_count": 1,
   "id": "838c9e22",
   "metadata": {
    "ExecuteTime": {
     "end_time": "2022-10-03T06:21:33.265076Z",
     "start_time": "2022-10-03T06:21:30.698745Z"
    }
   },
   "outputs": [],
   "source": [
    "import pandas as pd"
   ]
  },
  {
   "cell_type": "code",
   "execution_count": 2,
   "id": "8b91e8d2",
   "metadata": {
    "ExecuteTime": {
     "end_time": "2022-10-03T06:22:05.584039Z",
     "start_time": "2022-10-03T06:22:05.566890Z"
    }
   },
   "outputs": [],
   "source": [
    "titanic = pd.read_csv(\"./Course_Materials_Part2/Course_Materials_Part2/Video_Lecture_NBs/titanic.csv\")"
   ]
  },
  {
   "cell_type": "code",
   "execution_count": 3,
   "id": "0b30e46e",
   "metadata": {
    "ExecuteTime": {
     "end_time": "2022-10-03T06:22:29.007464Z",
     "start_time": "2022-10-03T06:22:28.988818Z"
    }
   },
   "outputs": [],
   "source": [
    "titanic_silce = titanic.iloc[:10, [2,3]]"
   ]
  },
  {
   "cell_type": "code",
   "execution_count": 4,
   "id": "68fd90b7",
   "metadata": {
    "ExecuteTime": {
     "end_time": "2022-10-03T06:22:35.398702Z",
     "start_time": "2022-10-03T06:22:35.367699Z"
    }
   },
   "outputs": [
    {
     "data": {
      "text/html": [
       "<div>\n",
       "<style scoped>\n",
       "    .dataframe tbody tr th:only-of-type {\n",
       "        vertical-align: middle;\n",
       "    }\n",
       "\n",
       "    .dataframe tbody tr th {\n",
       "        vertical-align: top;\n",
       "    }\n",
       "\n",
       "    .dataframe thead th {\n",
       "        text-align: right;\n",
       "    }\n",
       "</style>\n",
       "<table border=\"1\" class=\"dataframe\">\n",
       "  <thead>\n",
       "    <tr style=\"text-align: right;\">\n",
       "      <th></th>\n",
       "      <th>sex</th>\n",
       "      <th>age</th>\n",
       "    </tr>\n",
       "  </thead>\n",
       "  <tbody>\n",
       "    <tr>\n",
       "      <th>0</th>\n",
       "      <td>male</td>\n",
       "      <td>22.0</td>\n",
       "    </tr>\n",
       "    <tr>\n",
       "      <th>1</th>\n",
       "      <td>female</td>\n",
       "      <td>38.0</td>\n",
       "    </tr>\n",
       "    <tr>\n",
       "      <th>2</th>\n",
       "      <td>female</td>\n",
       "      <td>26.0</td>\n",
       "    </tr>\n",
       "    <tr>\n",
       "      <th>3</th>\n",
       "      <td>female</td>\n",
       "      <td>35.0</td>\n",
       "    </tr>\n",
       "    <tr>\n",
       "      <th>4</th>\n",
       "      <td>male</td>\n",
       "      <td>35.0</td>\n",
       "    </tr>\n",
       "    <tr>\n",
       "      <th>5</th>\n",
       "      <td>male</td>\n",
       "      <td>NaN</td>\n",
       "    </tr>\n",
       "    <tr>\n",
       "      <th>6</th>\n",
       "      <td>male</td>\n",
       "      <td>54.0</td>\n",
       "    </tr>\n",
       "    <tr>\n",
       "      <th>7</th>\n",
       "      <td>male</td>\n",
       "      <td>2.0</td>\n",
       "    </tr>\n",
       "    <tr>\n",
       "      <th>8</th>\n",
       "      <td>female</td>\n",
       "      <td>27.0</td>\n",
       "    </tr>\n",
       "    <tr>\n",
       "      <th>9</th>\n",
       "      <td>female</td>\n",
       "      <td>14.0</td>\n",
       "    </tr>\n",
       "  </tbody>\n",
       "</table>\n",
       "</div>"
      ],
      "text/plain": [
       "      sex   age\n",
       "0    male  22.0\n",
       "1  female  38.0\n",
       "2  female  26.0\n",
       "3  female  35.0\n",
       "4    male  35.0\n",
       "5    male   NaN\n",
       "6    male  54.0\n",
       "7    male   2.0\n",
       "8  female  27.0\n",
       "9  female  14.0"
      ]
     },
     "execution_count": 4,
     "metadata": {},
     "output_type": "execute_result"
    }
   ],
   "source": [
    "titanic_silce"
   ]
  },
  {
   "cell_type": "code",
   "execution_count": 10,
   "id": "cc5f8689",
   "metadata": {
    "ExecuteTime": {
     "end_time": "2022-10-03T06:24:18.092357Z",
     "start_time": "2022-10-03T06:24:18.068397Z"
    }
   },
   "outputs": [
    {
     "data": {
      "text/html": [
       "<div>\n",
       "<style scoped>\n",
       "    .dataframe tbody tr th:only-of-type {\n",
       "        vertical-align: middle;\n",
       "    }\n",
       "\n",
       "    .dataframe tbody tr th {\n",
       "        vertical-align: top;\n",
       "    }\n",
       "\n",
       "    .dataframe thead th {\n",
       "        text-align: right;\n",
       "    }\n",
       "</style>\n",
       "<table border=\"1\" class=\"dataframe\">\n",
       "  <thead>\n",
       "    <tr style=\"text-align: right;\">\n",
       "      <th></th>\n",
       "      <th>sex</th>\n",
       "      <th>age</th>\n",
       "    </tr>\n",
       "  </thead>\n",
       "  <tbody>\n",
       "    <tr>\n",
       "      <th>1</th>\n",
       "      <td>female</td>\n",
       "      <td>38.0</td>\n",
       "    </tr>\n",
       "    <tr>\n",
       "      <th>2</th>\n",
       "      <td>female</td>\n",
       "      <td>26.0</td>\n",
       "    </tr>\n",
       "    <tr>\n",
       "      <th>3</th>\n",
       "      <td>female</td>\n",
       "      <td>35.0</td>\n",
       "    </tr>\n",
       "    <tr>\n",
       "      <th>8</th>\n",
       "      <td>female</td>\n",
       "      <td>27.0</td>\n",
       "    </tr>\n",
       "    <tr>\n",
       "      <th>9</th>\n",
       "      <td>female</td>\n",
       "      <td>14.0</td>\n",
       "    </tr>\n",
       "  </tbody>\n",
       "</table>\n",
       "</div>"
      ],
      "text/plain": [
       "      sex   age\n",
       "1  female  38.0\n",
       "2  female  26.0\n",
       "3  female  35.0\n",
       "8  female  27.0\n",
       "9  female  14.0"
      ]
     },
     "execution_count": 10,
     "metadata": {},
     "output_type": "execute_result"
    }
   ],
   "source": [
    "list(titanic_silce.groupby(\"sex\"))[0][1]"
   ]
  },
  {
   "cell_type": "code",
   "execution_count": 11,
   "id": "9124ae9f",
   "metadata": {
    "ExecuteTime": {
     "end_time": "2022-10-03T06:24:37.276344Z",
     "start_time": "2022-10-03T06:24:37.254744Z"
    }
   },
   "outputs": [
    {
     "data": {
      "text/html": [
       "<div>\n",
       "<style scoped>\n",
       "    .dataframe tbody tr th:only-of-type {\n",
       "        vertical-align: middle;\n",
       "    }\n",
       "\n",
       "    .dataframe tbody tr th {\n",
       "        vertical-align: top;\n",
       "    }\n",
       "\n",
       "    .dataframe thead th {\n",
       "        text-align: right;\n",
       "    }\n",
       "</style>\n",
       "<table border=\"1\" class=\"dataframe\">\n",
       "  <thead>\n",
       "    <tr style=\"text-align: right;\">\n",
       "      <th></th>\n",
       "      <th>sex</th>\n",
       "      <th>age</th>\n",
       "    </tr>\n",
       "  </thead>\n",
       "  <tbody>\n",
       "    <tr>\n",
       "      <th>0</th>\n",
       "      <td>male</td>\n",
       "      <td>22.0</td>\n",
       "    </tr>\n",
       "    <tr>\n",
       "      <th>4</th>\n",
       "      <td>male</td>\n",
       "      <td>35.0</td>\n",
       "    </tr>\n",
       "    <tr>\n",
       "      <th>5</th>\n",
       "      <td>male</td>\n",
       "      <td>NaN</td>\n",
       "    </tr>\n",
       "    <tr>\n",
       "      <th>6</th>\n",
       "      <td>male</td>\n",
       "      <td>54.0</td>\n",
       "    </tr>\n",
       "    <tr>\n",
       "      <th>7</th>\n",
       "      <td>male</td>\n",
       "      <td>2.0</td>\n",
       "    </tr>\n",
       "  </tbody>\n",
       "</table>\n",
       "</div>"
      ],
      "text/plain": [
       "    sex   age\n",
       "0  male  22.0\n",
       "4  male  35.0\n",
       "5  male   NaN\n",
       "6  male  54.0\n",
       "7  male   2.0"
      ]
     },
     "execution_count": 11,
     "metadata": {},
     "output_type": "execute_result"
    }
   ],
   "source": [
    "list(titanic_silce.groupby(\"sex\"))[1][1]"
   ]
  },
  {
   "cell_type": "code",
   "execution_count": 13,
   "id": "69a6bdff",
   "metadata": {
    "ExecuteTime": {
     "end_time": "2022-10-03T07:08:05.236977Z",
     "start_time": "2022-10-03T07:08:05.220026Z"
    }
   },
   "outputs": [
    {
     "data": {
      "text/html": [
       "<div>\n",
       "<style scoped>\n",
       "    .dataframe tbody tr th:only-of-type {\n",
       "        vertical-align: middle;\n",
       "    }\n",
       "\n",
       "    .dataframe tbody tr th {\n",
       "        vertical-align: top;\n",
       "    }\n",
       "\n",
       "    .dataframe thead th {\n",
       "        text-align: right;\n",
       "    }\n",
       "</style>\n",
       "<table border=\"1\" class=\"dataframe\">\n",
       "  <thead>\n",
       "    <tr style=\"text-align: right;\">\n",
       "      <th></th>\n",
       "      <th>age</th>\n",
       "    </tr>\n",
       "    <tr>\n",
       "      <th>sex</th>\n",
       "      <th></th>\n",
       "    </tr>\n",
       "  </thead>\n",
       "  <tbody>\n",
       "    <tr>\n",
       "      <th>female</th>\n",
       "      <td>28.00</td>\n",
       "    </tr>\n",
       "    <tr>\n",
       "      <th>male</th>\n",
       "      <td>28.25</td>\n",
       "    </tr>\n",
       "  </tbody>\n",
       "</table>\n",
       "</div>"
      ],
      "text/plain": [
       "          age\n",
       "sex          \n",
       "female  28.00\n",
       "male    28.25"
      ]
     },
     "execution_count": 13,
     "metadata": {},
     "output_type": "execute_result"
    }
   ],
   "source": [
    "titanic_silce.groupby(\"sex\").mean()"
   ]
  },
  {
   "cell_type": "code",
   "execution_count": 16,
   "id": "c739ffb1",
   "metadata": {
    "ExecuteTime": {
     "end_time": "2022-10-03T07:15:16.529533Z",
     "start_time": "2022-10-03T07:15:16.512529Z"
    }
   },
   "outputs": [
    {
     "data": {
      "text/plain": [
       "sex\n",
       "female    233\n",
       "male      109\n",
       "Name: survived, dtype: int64"
      ]
     },
     "execution_count": 16,
     "metadata": {},
     "output_type": "execute_result"
    }
   ],
   "source": [
    "titanic.groupby(\"sex\").survived.sum()"
   ]
  },
  {
   "cell_type": "code",
   "execution_count": 15,
   "id": "2eb9bdf1",
   "metadata": {
    "ExecuteTime": {
     "end_time": "2022-10-03T07:14:37.996575Z",
     "start_time": "2022-10-03T07:14:37.975666Z"
    }
   },
   "outputs": [
    {
     "data": {
      "text/html": [
       "<div>\n",
       "<style scoped>\n",
       "    .dataframe tbody tr th:only-of-type {\n",
       "        vertical-align: middle;\n",
       "    }\n",
       "\n",
       "    .dataframe tbody tr th {\n",
       "        vertical-align: top;\n",
       "    }\n",
       "\n",
       "    .dataframe thead th {\n",
       "        text-align: right;\n",
       "    }\n",
       "</style>\n",
       "<table border=\"1\" class=\"dataframe\">\n",
       "  <thead>\n",
       "    <tr style=\"text-align: right;\">\n",
       "      <th></th>\n",
       "      <th>fare</th>\n",
       "      <th>age</th>\n",
       "    </tr>\n",
       "    <tr>\n",
       "      <th>sex</th>\n",
       "      <th></th>\n",
       "      <th></th>\n",
       "    </tr>\n",
       "  </thead>\n",
       "  <tbody>\n",
       "    <tr>\n",
       "      <th>female</th>\n",
       "      <td>512.3292</td>\n",
       "      <td>63.0</td>\n",
       "    </tr>\n",
       "    <tr>\n",
       "      <th>male</th>\n",
       "      <td>512.3292</td>\n",
       "      <td>80.0</td>\n",
       "    </tr>\n",
       "  </tbody>\n",
       "</table>\n",
       "</div>"
      ],
      "text/plain": [
       "            fare   age\n",
       "sex                   \n",
       "female  512.3292  63.0\n",
       "male    512.3292  80.0"
      ]
     },
     "execution_count": 15,
     "metadata": {},
     "output_type": "execute_result"
    }
   ],
   "source": [
    "titanic.groupby(\"sex\")[[\"fare\", \"age\"]].max()"
   ]
  },
  {
   "cell_type": "code",
   "execution_count": 17,
   "id": "5cfc8744",
   "metadata": {
    "ExecuteTime": {
     "end_time": "2022-10-03T07:16:14.078708Z",
     "start_time": "2022-10-03T07:16:14.059812Z"
    }
   },
   "outputs": [],
   "source": [
    "new_df = titanic.groupby(\"sex\").mean()"
   ]
  },
  {
   "cell_type": "code",
   "execution_count": 18,
   "id": "62617573",
   "metadata": {
    "ExecuteTime": {
     "end_time": "2022-10-03T07:16:16.721502Z",
     "start_time": "2022-10-03T07:16:16.700306Z"
    }
   },
   "outputs": [
    {
     "data": {
      "text/html": [
       "<div>\n",
       "<style scoped>\n",
       "    .dataframe tbody tr th:only-of-type {\n",
       "        vertical-align: middle;\n",
       "    }\n",
       "\n",
       "    .dataframe tbody tr th {\n",
       "        vertical-align: top;\n",
       "    }\n",
       "\n",
       "    .dataframe thead th {\n",
       "        text-align: right;\n",
       "    }\n",
       "</style>\n",
       "<table border=\"1\" class=\"dataframe\">\n",
       "  <thead>\n",
       "    <tr style=\"text-align: right;\">\n",
       "      <th></th>\n",
       "      <th>survived</th>\n",
       "      <th>pclass</th>\n",
       "      <th>age</th>\n",
       "      <th>sibsp</th>\n",
       "      <th>parch</th>\n",
       "      <th>fare</th>\n",
       "    </tr>\n",
       "    <tr>\n",
       "      <th>sex</th>\n",
       "      <th></th>\n",
       "      <th></th>\n",
       "      <th></th>\n",
       "      <th></th>\n",
       "      <th></th>\n",
       "      <th></th>\n",
       "    </tr>\n",
       "  </thead>\n",
       "  <tbody>\n",
       "    <tr>\n",
       "      <th>female</th>\n",
       "      <td>0.742038</td>\n",
       "      <td>2.159236</td>\n",
       "      <td>27.915709</td>\n",
       "      <td>0.694268</td>\n",
       "      <td>0.649682</td>\n",
       "      <td>44.479818</td>\n",
       "    </tr>\n",
       "    <tr>\n",
       "      <th>male</th>\n",
       "      <td>0.188908</td>\n",
       "      <td>2.389948</td>\n",
       "      <td>30.726645</td>\n",
       "      <td>0.429809</td>\n",
       "      <td>0.235702</td>\n",
       "      <td>25.523893</td>\n",
       "    </tr>\n",
       "  </tbody>\n",
       "</table>\n",
       "</div>"
      ],
      "text/plain": [
       "        survived    pclass        age     sibsp     parch       fare\n",
       "sex                                                                 \n",
       "female  0.742038  2.159236  27.915709  0.694268  0.649682  44.479818\n",
       "male    0.188908  2.389948  30.726645  0.429809  0.235702  25.523893"
      ]
     },
     "execution_count": 18,
     "metadata": {},
     "output_type": "execute_result"
    }
   ],
   "source": [
    "new_df"
   ]
  },
  {
   "cell_type": "markdown",
   "id": "db5313a9",
   "metadata": {},
   "source": [
    "여성의 평균 생존률이 더 높고, 좌석 등급은 크게 차이나지 않지만 남성이 더 높다. 요금은 여성이 더 많이 지불했다."
   ]
  },
  {
   "cell_type": "code",
   "execution_count": 19,
   "id": "9fd386da",
   "metadata": {
    "ExecuteTime": {
     "end_time": "2022-10-03T07:19:11.904693Z",
     "start_time": "2022-10-03T07:19:11.688326Z"
    }
   },
   "outputs": [],
   "source": [
    "%matplotlib inline\n",
    "import matplotlib.pyplot as plt\n",
    "plt.style.use(\"seaborn\")"
   ]
  },
  {
   "cell_type": "code",
   "execution_count": 21,
   "id": "3f04982f",
   "metadata": {
    "ExecuteTime": {
     "end_time": "2022-10-03T07:21:09.384321Z",
     "start_time": "2022-10-03T07:21:08.472397Z"
    }
   },
   "outputs": [
    {
     "data": {
      "image/png": "[encoded data removed]",
      "text/plain": [
       "<Figure size 576x1080 with 6 Axes>"
      ]
     },
     "metadata": {},
     "output_type": "display_data"
    }
   ],
   "source": [
    "new_df.plot(kind = \"bar\", subplots = True, figsize = (8,15), fontsize = 13, rot = 0)\n",
    "plt.show()"
   ]
  },
  {
   "cell_type": "markdown",
   "id": "2648a198",
   "metadata": {},
   "source": [
    "### split - apply - combine applied"
   ]
  },
  {
   "cell_type": "markdown",
   "id": "bae33b89",
   "metadata": {},
   "source": [
    "#### summer Dateset"
   ]
  },
  {
   "cell_type": "code",
   "execution_count": 22,
   "id": "9595e99c",
   "metadata": {
    "ExecuteTime": {
     "end_time": "2022-10-03T07:22:16.721982Z",
     "start_time": "2022-10-03T07:22:16.715562Z"
    }
   },
   "outputs": [],
   "source": [
    "import pandas as pd"
   ]
  },
  {
   "cell_type": "code",
   "execution_count": 23,
   "id": "c52afcc2",
   "metadata": {
    "ExecuteTime": {
     "end_time": "2022-10-03T07:22:52.516649Z",
     "start_time": "2022-10-03T07:22:52.435953Z"
    }
   },
   "outputs": [],
   "source": [
    "summer = pd.read_csv(\"./Course_Materials_Part2/Course_Materials_Part2/Video_Lecture_NBs/summer.csv\")"
   ]
  },
  {
   "cell_type": "code",
   "execution_count": 24,
   "id": "2f7bd4c4",
   "metadata": {
    "ExecuteTime": {
     "end_time": "2022-10-03T07:22:58.184763Z",
     "start_time": "2022-10-03T07:22:58.171761Z"
    }
   },
   "outputs": [
    {
     "data": {
      "text/html": [
       "<div>\n",
       "<style scoped>\n",
       "    .dataframe tbody tr th:only-of-type {\n",
       "        vertical-align: middle;\n",
       "    }\n",
       "\n",
       "    .dataframe tbody tr th {\n",
       "        vertical-align: top;\n",
       "    }\n",
       "\n",
       "    .dataframe thead th {\n",
       "        text-align: right;\n",
       "    }\n",
       "</style>\n",
       "<table border=\"1\" class=\"dataframe\">\n",
       "  <thead>\n",
       "    <tr style=\"text-align: right;\">\n",
       "      <th></th>\n",
       "      <th>Year</th>\n",
       "      <th>City</th>\n",
       "      <th>Sport</th>\n",
       "      <th>Discipline</th>\n",
       "      <th>Athlete</th>\n",
       "      <th>Country</th>\n",
       "      <th>Gender</th>\n",
       "      <th>Event</th>\n",
       "      <th>Medal</th>\n",
       "    </tr>\n",
       "  </thead>\n",
       "  <tbody>\n",
       "    <tr>\n",
       "      <th>0</th>\n",
       "      <td>1896</td>\n",
       "      <td>Athens</td>\n",
       "      <td>Aquatics</td>\n",
       "      <td>Swimming</td>\n",
       "      <td>HAJOS, Alfred</td>\n",
       "      <td>HUN</td>\n",
       "      <td>Men</td>\n",
       "      <td>100M Freestyle</td>\n",
       "      <td>Gold</td>\n",
       "    </tr>\n",
       "    <tr>\n",
       "      <th>1</th>\n",
       "      <td>1896</td>\n",
       "      <td>Athens</td>\n",
       "      <td>Aquatics</td>\n",
       "      <td>Swimming</td>\n",
       "      <td>HERSCHMANN, Otto</td>\n",
       "      <td>AUT</td>\n",
       "      <td>Men</td>\n",
       "      <td>100M Freestyle</td>\n",
       "      <td>Silver</td>\n",
       "    </tr>\n",
       "    <tr>\n",
       "      <th>2</th>\n",
       "      <td>1896</td>\n",
       "      <td>Athens</td>\n",
       "      <td>Aquatics</td>\n",
       "      <td>Swimming</td>\n",
       "      <td>DRIVAS, Dimitrios</td>\n",
       "      <td>GRE</td>\n",
       "      <td>Men</td>\n",
       "      <td>100M Freestyle For Sailors</td>\n",
       "      <td>Bronze</td>\n",
       "    </tr>\n",
       "    <tr>\n",
       "      <th>3</th>\n",
       "      <td>1896</td>\n",
       "      <td>Athens</td>\n",
       "      <td>Aquatics</td>\n",
       "      <td>Swimming</td>\n",
       "      <td>MALOKINIS, Ioannis</td>\n",
       "      <td>GRE</td>\n",
       "      <td>Men</td>\n",
       "      <td>100M Freestyle For Sailors</td>\n",
       "      <td>Gold</td>\n",
       "    </tr>\n",
       "    <tr>\n",
       "      <th>4</th>\n",
       "      <td>1896</td>\n",
       "      <td>Athens</td>\n",
       "      <td>Aquatics</td>\n",
       "      <td>Swimming</td>\n",
       "      <td>CHASAPIS, Spiridon</td>\n",
       "      <td>GRE</td>\n",
       "      <td>Men</td>\n",
       "      <td>100M Freestyle For Sailors</td>\n",
       "      <td>Silver</td>\n",
       "    </tr>\n",
       "  </tbody>\n",
       "</table>\n",
       "</div>"
      ],
      "text/plain": [
       "   Year    City     Sport Discipline             Athlete Country Gender  \\\n",
       "0  1896  Athens  Aquatics   Swimming       HAJOS, Alfred     HUN    Men   \n",
       "1  1896  Athens  Aquatics   Swimming    HERSCHMANN, Otto     AUT    Men   \n",
       "2  1896  Athens  Aquatics   Swimming   DRIVAS, Dimitrios     GRE    Men   \n",
       "3  1896  Athens  Aquatics   Swimming  MALOKINIS, Ioannis     GRE    Men   \n",
       "4  1896  Athens  Aquatics   Swimming  CHASAPIS, Spiridon     GRE    Men   \n",
       "\n",
       "                        Event   Medal  \n",
       "0              100M Freestyle    Gold  \n",
       "1              100M Freestyle  Silver  \n",
       "2  100M Freestyle For Sailors  Bronze  \n",
       "3  100M Freestyle For Sailors    Gold  \n",
       "4  100M Freestyle For Sailors  Silver  "
      ]
     },
     "execution_count": 24,
     "metadata": {},
     "output_type": "execute_result"
    }
   ],
   "source": [
    "summer.head()"
   ]
  },
  {
   "cell_type": "code",
   "execution_count": 25,
   "id": "9ad4f8d4",
   "metadata": {
    "ExecuteTime": {
     "end_time": "2022-10-03T07:23:32.391694Z",
     "start_time": "2022-10-03T07:23:32.332599Z"
    }
   },
   "outputs": [
    {
     "name": "stdout",
     "output_type": "stream",
     "text": [
      "<class 'pandas.core.frame.DataFrame'>\n",
      "RangeIndex: 31165 entries, 0 to 31164\n",
      "Data columns (total 9 columns):\n",
      " #   Column      Non-Null Count  Dtype \n",
      "---  ------      --------------  ----- \n",
      " 0   Year        31165 non-null  int64 \n",
      " 1   City        31165 non-null  object\n",
      " 2   Sport       31165 non-null  object\n",
      " 3   Discipline  31165 non-null  object\n",
      " 4   Athlete     31165 non-null  object\n",
      " 5   Country     31161 non-null  object\n",
      " 6   Gender      31165 non-null  object\n",
      " 7   Event       31165 non-null  object\n",
      " 8   Medal       31165 non-null  object\n",
      "dtypes: int64(1), object(8)\n",
      "memory usage: 2.1+ MB\n"
     ]
    }
   ],
   "source": [
    "summer.info()"
   ]
  },
  {
   "cell_type": "code",
   "execution_count": 28,
   "id": "ca9f5aaa",
   "metadata": {
    "ExecuteTime": {
     "end_time": "2022-10-03T07:24:58.684372Z",
     "start_time": "2022-10-03T07:24:58.653376Z"
    }
   },
   "outputs": [
    {
     "data": {
      "text/plain": [
       "Country\n",
       "USA    4585\n",
       "URS    2049\n",
       "GBR    1720\n",
       "FRA    1396\n",
       "GER    1305\n",
       "ITA    1296\n",
       "AUS    1189\n",
       "HUN    1079\n",
       "SWE    1044\n",
       "NED     851\n",
       "GDR     825\n",
       "CHN     807\n",
       "JPN     788\n",
       "RUS     768\n",
       "CAN     649\n",
       "ROU     640\n",
       "NOR     554\n",
       "KOR     529\n",
       "POL     511\n",
       "DEN     507\n",
       "Name: Medal, dtype: int64"
      ]
     },
     "execution_count": 28,
     "metadata": {},
     "output_type": "execute_result"
    }
   ],
   "source": [
    "medals_per_country = summer.groupby(\"Country\").Medal.count().nlargest(n=20)\n",
    "medals_per_country"
   ]
  },
  {
   "cell_type": "code",
   "execution_count": 29,
   "id": "e21acfad",
   "metadata": {
    "ExecuteTime": {
     "end_time": "2022-10-03T07:25:15.732421Z",
     "start_time": "2022-10-03T07:25:15.722371Z"
    }
   },
   "outputs": [],
   "source": [
    "%matplotlib inline\n",
    "import matplotlib.pyplot as plt\n",
    "plt.style.use(\"seaborn\")"
   ]
  },
  {
   "cell_type": "code",
   "execution_count": 30,
   "id": "33f97fef",
   "metadata": {
    "ExecuteTime": {
     "end_time": "2022-10-03T07:27:42.003172Z",
     "start_time": "2022-10-03T07:27:41.698972Z"
    }
   },
   "outputs": [
    {
     "data": {
      "image/png": "[encoded data removed]",
      "text/plain": [
       "<Figure size 1008x576 with 1 Axes>"
      ]
     },
     "metadata": {},
     "output_type": "display_data"
    }
   ],
   "source": [
    "medals_per_country.plot(kind = \"bar\", figsize = (14,8), fontsize = 14, rot = 0)\n",
    "plt.xlabel(\"Country\", fontsize = 13)\n",
    "plt.ylabel(\"No.of Medals\", fontsize = 13)\n",
    "plt.title(\"Summer Olympic Games (Total Medals per Country)\", fontsize = 16)\n",
    "plt.show()"
   ]
  },
  {
   "cell_type": "markdown",
   "id": "fe72d8c7",
   "metadata": {},
   "source": [
    "#### titanic Dateset"
   ]
  },
  {
   "cell_type": "code",
   "execution_count": 33,
   "id": "dc7d9d84",
   "metadata": {
    "ExecuteTime": {
     "end_time": "2022-10-03T07:31:11.001168Z",
     "start_time": "2022-10-03T07:31:10.960496Z"
    }
   },
   "outputs": [
    {
     "data": {
      "text/html": [
       "<div>\n",
       "<style scoped>\n",
       "    .dataframe tbody tr th:only-of-type {\n",
       "        vertical-align: middle;\n",
       "    }\n",
       "\n",
       "    .dataframe tbody tr th {\n",
       "        vertical-align: top;\n",
       "    }\n",
       "\n",
       "    .dataframe thead th {\n",
       "        text-align: right;\n",
       "    }\n",
       "</style>\n",
       "<table border=\"1\" class=\"dataframe\">\n",
       "  <thead>\n",
       "    <tr style=\"text-align: right;\">\n",
       "      <th></th>\n",
       "      <th>survived</th>\n",
       "      <th>pclass</th>\n",
       "      <th>age</th>\n",
       "      <th>sibsp</th>\n",
       "      <th>parch</th>\n",
       "      <th>fare</th>\n",
       "    </tr>\n",
       "  </thead>\n",
       "  <tbody>\n",
       "    <tr>\n",
       "      <th>count</th>\n",
       "      <td>891.000000</td>\n",
       "      <td>891.000000</td>\n",
       "      <td>714.000000</td>\n",
       "      <td>891.000000</td>\n",
       "      <td>891.000000</td>\n",
       "      <td>891.000000</td>\n",
       "    </tr>\n",
       "    <tr>\n",
       "      <th>mean</th>\n",
       "      <td>0.383838</td>\n",
       "      <td>2.308642</td>\n",
       "      <td>29.699118</td>\n",
       "      <td>0.523008</td>\n",
       "      <td>0.381594</td>\n",
       "      <td>32.204208</td>\n",
       "    </tr>\n",
       "    <tr>\n",
       "      <th>std</th>\n",
       "      <td>0.486592</td>\n",
       "      <td>0.836071</td>\n",
       "      <td>14.526497</td>\n",
       "      <td>1.102743</td>\n",
       "      <td>0.806057</td>\n",
       "      <td>49.693429</td>\n",
       "    </tr>\n",
       "    <tr>\n",
       "      <th>min</th>\n",
       "      <td>0.000000</td>\n",
       "      <td>1.000000</td>\n",
       "      <td>0.420000</td>\n",
       "      <td>0.000000</td>\n",
       "      <td>0.000000</td>\n",
       "      <td>0.000000</td>\n",
       "    </tr>\n",
       "    <tr>\n",
       "      <th>25%</th>\n",
       "      <td>0.000000</td>\n",
       "      <td>2.000000</td>\n",
       "      <td>20.125000</td>\n",
       "      <td>0.000000</td>\n",
       "      <td>0.000000</td>\n",
       "      <td>7.910400</td>\n",
       "    </tr>\n",
       "    <tr>\n",
       "      <th>50%</th>\n",
       "      <td>0.000000</td>\n",
       "      <td>3.000000</td>\n",
       "      <td>28.000000</td>\n",
       "      <td>0.000000</td>\n",
       "      <td>0.000000</td>\n",
       "      <td>14.454200</td>\n",
       "    </tr>\n",
       "    <tr>\n",
       "      <th>75%</th>\n",
       "      <td>1.000000</td>\n",
       "      <td>3.000000</td>\n",
       "      <td>38.000000</td>\n",
       "      <td>1.000000</td>\n",
       "      <td>0.000000</td>\n",
       "      <td>31.000000</td>\n",
       "    </tr>\n",
       "    <tr>\n",
       "      <th>max</th>\n",
       "      <td>1.000000</td>\n",
       "      <td>3.000000</td>\n",
       "      <td>80.000000</td>\n",
       "      <td>8.000000</td>\n",
       "      <td>6.000000</td>\n",
       "      <td>512.329200</td>\n",
       "    </tr>\n",
       "  </tbody>\n",
       "</table>\n",
       "</div>"
      ],
      "text/plain": [
       "         survived      pclass         age       sibsp       parch        fare\n",
       "count  891.000000  891.000000  714.000000  891.000000  891.000000  891.000000\n",
       "mean     0.383838    2.308642   29.699118    0.523008    0.381594   32.204208\n",
       "std      0.486592    0.836071   14.526497    1.102743    0.806057   49.693429\n",
       "min      0.000000    1.000000    0.420000    0.000000    0.000000    0.000000\n",
       "25%      0.000000    2.000000   20.125000    0.000000    0.000000    7.910400\n",
       "50%      0.000000    3.000000   28.000000    0.000000    0.000000   14.454200\n",
       "75%      1.000000    3.000000   38.000000    1.000000    0.000000   31.000000\n",
       "max      1.000000    3.000000   80.000000    8.000000    6.000000  512.329200"
      ]
     },
     "execution_count": 33,
     "metadata": {},
     "output_type": "execute_result"
    }
   ],
   "source": [
    "titanic.describe()"
   ]
  },
  {
   "cell_type": "code",
   "execution_count": 31,
   "id": "78b1e247",
   "metadata": {
    "ExecuteTime": {
     "end_time": "2022-10-03T07:30:41.173462Z",
     "start_time": "2022-10-03T07:30:41.152327Z"
    }
   },
   "outputs": [
    {
     "data": {
      "text/plain": [
       "32.204207968574636"
      ]
     },
     "execution_count": 31,
     "metadata": {},
     "output_type": "execute_result"
    }
   ],
   "source": [
    "titanic.fare.mean()"
   ]
  },
  {
   "cell_type": "code",
   "execution_count": 34,
   "id": "cf101ec1",
   "metadata": {
    "ExecuteTime": {
     "end_time": "2022-10-03T07:31:34.841822Z",
     "start_time": "2022-10-03T07:31:34.820902Z"
    }
   },
   "outputs": [
    {
     "data": {
      "text/plain": [
       "pclass\n",
       "1    84.154687\n",
       "2    20.662183\n",
       "3    13.675550\n",
       "Name: fare, dtype: float64"
      ]
     },
     "execution_count": 34,
     "metadata": {},
     "output_type": "execute_result"
    }
   ],
   "source": [
    "titanic.groupby(\"pclass\").fare.mean()"
   ]
  },
  {
   "cell_type": "code",
   "execution_count": 36,
   "id": "71c03e16",
   "metadata": {
    "ExecuteTime": {
     "end_time": "2022-10-03T07:32:29.838698Z",
     "start_time": "2022-10-03T07:32:29.826616Z"
    }
   },
   "outputs": [
    {
     "data": {
      "text/plain": [
       "342"
      ]
     },
     "execution_count": 36,
     "metadata": {},
     "output_type": "execute_result"
    }
   ],
   "source": [
    "titanic.survived.sum() # 342명이 생존했으며"
   ]
  },
  {
   "cell_type": "code",
   "execution_count": 37,
   "id": "9dab4489",
   "metadata": {
    "ExecuteTime": {
     "end_time": "2022-10-03T07:32:58.896043Z",
     "start_time": "2022-10-03T07:32:58.884043Z"
    }
   },
   "outputs": [
    {
     "data": {
      "text/plain": [
       "0.3838383838383838"
      ]
     },
     "execution_count": 37,
     "metadata": {},
     "output_type": "execute_result"
    }
   ],
   "source": [
    "titanic.survived.mean()# 38%의 승객만이 사고에서 살아남았음"
   ]
  },
  {
   "cell_type": "markdown",
   "id": "69d7d62d",
   "metadata": {},
   "source": [
    "구명보트에는 여성과 아이가 먼저 탑승했음을 이미 알고 있으므로, 실제로 이 규칙이 지켜졌는지 확인할 수도 있다."
   ]
  },
  {
   "cell_type": "markdown",
   "id": "92d1ec19",
   "metadata": {},
   "source": [
    "- 성별에 따른 생존율"
   ]
  },
  {
   "cell_type": "code",
   "execution_count": 40,
   "id": "f5d02942",
   "metadata": {
    "ExecuteTime": {
     "end_time": "2022-10-03T07:37:07.122140Z",
     "start_time": "2022-10-03T07:37:07.108142Z"
    }
   },
   "outputs": [
    {
     "data": {
      "text/plain": [
       "sex\n",
       "female    0.742038\n",
       "male      0.188908\n",
       "Name: survived, dtype: float64"
      ]
     },
     "execution_count": 40,
     "metadata": {},
     "output_type": "execute_result"
    }
   ],
   "source": [
    "# 전체 생존율은 38%에 불과하나, 여성 승객의 생존율은 높다.\n",
    "titanic.groupby(\"sex\").survived.mean()"
   ]
  },
  {
   "cell_type": "markdown",
   "id": "3cc9f2ca",
   "metadata": {},
   "source": [
    "- 등급별 생존율"
   ]
  },
  {
   "cell_type": "code",
   "execution_count": 41,
   "id": "b2bc48d1",
   "metadata": {
    "ExecuteTime": {
     "end_time": "2022-10-03T07:37:18.765464Z",
     "start_time": "2022-10-03T07:37:18.748463Z"
    }
   },
   "outputs": [
    {
     "data": {
      "text/plain": [
       "pclass\n",
       "1    0.629630\n",
       "2    0.472826\n",
       "3    0.242363\n",
       "Name: survived, dtype: float64"
      ]
     },
     "execution_count": 41,
     "metadata": {},
     "output_type": "execute_result"
    }
   ],
   "source": [
    "# 등급이 높을 수록 상대적으로 높은 생존율을 보인다\n",
    "titanic.groupby(\"pclass\").survived.mean()"
   ]
  },
  {
   "cell_type": "markdown",
   "id": "4bca8391",
   "metadata": {},
   "source": [
    "- 연령별 생존율   \n",
    "연령에 대한 열을 만들어서 구하기"
   ]
  },
  {
   "cell_type": "code",
   "execution_count": 43,
   "id": "498daf74",
   "metadata": {
    "ExecuteTime": {
     "end_time": "2022-10-03T07:39:07.508184Z",
     "start_time": "2022-10-03T07:39:07.502185Z"
    }
   },
   "outputs": [],
   "source": [
    "titanic[\"ad_chi\"] = \"adult\""
   ]
  },
  {
   "cell_type": "code",
   "execution_count": 46,
   "id": "78c1eedd",
   "metadata": {
    "ExecuteTime": {
     "end_time": "2022-10-03T07:40:26.331712Z",
     "start_time": "2022-10-03T07:40:26.319713Z"
    }
   },
   "outputs": [],
   "source": [
    "titanic.loc[titanic.age < 18, \"ad_chi\"] = \"child\""
   ]
  },
  {
   "cell_type": "code",
   "execution_count": 49,
   "id": "c727d63e",
   "metadata": {
    "ExecuteTime": {
     "end_time": "2022-10-03T07:42:58.267700Z",
     "start_time": "2022-10-03T07:42:58.248613Z"
    }
   },
   "outputs": [
    {
     "data": {
      "text/plain": [
       "adult    778\n",
       "child    113\n",
       "Name: ad_chi, dtype: int64"
      ]
     },
     "execution_count": 49,
     "metadata": {},
     "output_type": "execute_result"
    }
   ],
   "source": [
    "titanic.ad_chi.value_counts()"
   ]
  },
  {
   "cell_type": "code",
   "execution_count": 51,
   "id": "501c7f5c",
   "metadata": {
    "ExecuteTime": {
     "end_time": "2022-10-03T07:44:04.916495Z",
     "start_time": "2022-10-03T07:44:04.904430Z"
    }
   },
   "outputs": [
    {
     "data": {
      "text/plain": [
       "ad_chi\n",
       "adult    0.361183\n",
       "child    0.539823\n",
       "Name: survived, dtype: float64"
      ]
     },
     "execution_count": 51,
     "metadata": {},
     "output_type": "execute_result"
    }
   ],
   "source": [
    "# 어릴수록 생존확률이 높다.\n",
    "titanic.groupby(\"ad_chi\").survived.mean()"
   ]
  },
  {
   "cell_type": "code",
   "execution_count": 52,
   "id": "3abd36cf",
   "metadata": {
    "ExecuteTime": {
     "end_time": "2022-10-03T07:53:49.668971Z",
     "start_time": "2022-10-03T07:53:49.648922Z"
    }
   },
   "outputs": [
    {
     "data": {
      "text/plain": [
       "sex     ad_chi\n",
       "female  adult     259\n",
       "        child      55\n",
       "male    adult     519\n",
       "        child      58\n",
       "Name: survived, dtype: int64"
      ]
     },
     "execution_count": 52,
     "metadata": {},
     "output_type": "execute_result"
    }
   ],
   "source": [
    "titanic.groupby([\"sex\", \"ad_chi\"]).survived.count()"
   ]
  },
  {
   "cell_type": "code",
   "execution_count": 53,
   "id": "c8004ee9",
   "metadata": {
    "ExecuteTime": {
     "end_time": "2022-10-03T07:54:38.958487Z",
     "start_time": "2022-10-03T07:54:38.936487Z"
    }
   },
   "outputs": [
    {
     "data": {
      "text/plain": [
       "sex     ad_chi\n",
       "female  adult     0.752896\n",
       "        child     0.690909\n",
       "male    child     0.396552\n",
       "        adult     0.165703\n",
       "Name: survived, dtype: float64"
      ]
     },
     "execution_count": 53,
     "metadata": {},
     "output_type": "execute_result"
    }
   ],
   "source": [
    "# 여성의 생존율이 높고, 남성 성인의 생존율은 확실히 낮음\n",
    "titanic.groupby([\"sex\", \"ad_chi\"]).survived.mean().sort_values(ascending = False)"
   ]
  },
  {
   "cell_type": "code",
   "execution_count": 54,
   "id": "1f73ada5",
   "metadata": {
    "ExecuteTime": {
     "end_time": "2022-10-03T07:56:38.417710Z",
     "start_time": "2022-10-03T07:56:38.407769Z"
    }
   },
   "outputs": [],
   "source": [
    "w_and_c_first = titanic.groupby([\"sex\", \"ad_chi\"]).survived.mean().sort_values(ascending = False)"
   ]
  },
  {
   "cell_type": "code",
   "execution_count": 56,
   "id": "6e3448e3",
   "metadata": {
    "ExecuteTime": {
     "end_time": "2022-10-03T08:00:00.201278Z",
     "start_time": "2022-10-03T07:59:59.860699Z"
    }
   },
   "outputs": [
    {
     "data": {
      "image/png": "[encoded data removed]",
      "text/plain": [
       "<Figure size 1008x576 with 1 Axes>"
      ]
     },
     "metadata": {},
     "output_type": "display_data"
    }
   ],
   "source": [
    "w_and_c_first.plot(kind = \"bar\", figsize =(14,8), fontsize = 14)\n",
    "plt.xlabel(\"Groups\", fontsize = 13)\n",
    "plt.ylabel(\"Survival Rate\", fontsize = 13)\n",
    "plt.title(\"Titanic Survival Rate by Sex/Age-Groups\", fontsize = 16)\n",
    "plt.show()"
   ]
  },
  {
   "cell_type": "markdown",
   "id": "d0e91b70",
   "metadata": {},
   "source": [
    "### Advanced Aggregation with agg()"
   ]
  },
  {
   "cell_type": "code",
   "execution_count": 57,
   "id": "8a1dc935",
   "metadata": {
    "ExecuteTime": {
     "end_time": "2022-10-03T08:07:50.110343Z",
     "start_time": "2022-10-03T08:07:50.100464Z"
    }
   },
   "outputs": [],
   "source": [
    "titanic = pd.read_csv(\"./Course_Materials_Part2/Course_Materials_Part2/Video_Lecture_NBs/titanic.csv\", usecols=[\"survived\", \"pclass\", \"sex\", \"age\", \"fare\"])"
   ]
  },
  {
   "cell_type": "code",
   "execution_count": 58,
   "id": "f632d68a",
   "metadata": {
    "ExecuteTime": {
     "end_time": "2022-10-03T08:08:00.329379Z",
     "start_time": "2022-10-03T08:08:00.313841Z"
    }
   },
   "outputs": [
    {
     "data": {
      "text/html": [
       "<div>\n",
       "<style scoped>\n",
       "    .dataframe tbody tr th:only-of-type {\n",
       "        vertical-align: middle;\n",
       "    }\n",
       "\n",
       "    .dataframe tbody tr th {\n",
       "        vertical-align: top;\n",
       "    }\n",
       "\n",
       "    .dataframe thead th {\n",
       "        text-align: right;\n",
       "    }\n",
       "</style>\n",
       "<table border=\"1\" class=\"dataframe\">\n",
       "  <thead>\n",
       "    <tr style=\"text-align: right;\">\n",
       "      <th></th>\n",
       "      <th>survived</th>\n",
       "      <th>pclass</th>\n",
       "      <th>sex</th>\n",
       "      <th>age</th>\n",
       "      <th>fare</th>\n",
       "    </tr>\n",
       "  </thead>\n",
       "  <tbody>\n",
       "    <tr>\n",
       "      <th>0</th>\n",
       "      <td>0</td>\n",
       "      <td>3</td>\n",
       "      <td>male</td>\n",
       "      <td>22.0</td>\n",
       "      <td>7.2500</td>\n",
       "    </tr>\n",
       "    <tr>\n",
       "      <th>1</th>\n",
       "      <td>1</td>\n",
       "      <td>1</td>\n",
       "      <td>female</td>\n",
       "      <td>38.0</td>\n",
       "      <td>71.2833</td>\n",
       "    </tr>\n",
       "    <tr>\n",
       "      <th>2</th>\n",
       "      <td>1</td>\n",
       "      <td>3</td>\n",
       "      <td>female</td>\n",
       "      <td>26.0</td>\n",
       "      <td>7.9250</td>\n",
       "    </tr>\n",
       "    <tr>\n",
       "      <th>3</th>\n",
       "      <td>1</td>\n",
       "      <td>1</td>\n",
       "      <td>female</td>\n",
       "      <td>35.0</td>\n",
       "      <td>53.1000</td>\n",
       "    </tr>\n",
       "    <tr>\n",
       "      <th>4</th>\n",
       "      <td>0</td>\n",
       "      <td>3</td>\n",
       "      <td>male</td>\n",
       "      <td>35.0</td>\n",
       "      <td>8.0500</td>\n",
       "    </tr>\n",
       "  </tbody>\n",
       "</table>\n",
       "</div>"
      ],
      "text/plain": [
       "   survived  pclass     sex   age     fare\n",
       "0         0       3    male  22.0   7.2500\n",
       "1         1       1  female  38.0  71.2833\n",
       "2         1       3  female  26.0   7.9250\n",
       "3         1       1  female  35.0  53.1000\n",
       "4         0       3    male  35.0   8.0500"
      ]
     },
     "execution_count": 58,
     "metadata": {},
     "output_type": "execute_result"
    }
   ],
   "source": [
    "titanic.head()"
   ]
  },
  {
   "cell_type": "code",
   "execution_count": 59,
   "id": "fe622e1a",
   "metadata": {
    "ExecuteTime": {
     "end_time": "2022-10-03T08:08:40.391716Z",
     "start_time": "2022-10-03T08:08:40.365720Z"
    }
   },
   "outputs": [
    {
     "data": {
      "text/html": [
       "<div>\n",
       "<style scoped>\n",
       "    .dataframe tbody tr th:only-of-type {\n",
       "        vertical-align: middle;\n",
       "    }\n",
       "\n",
       "    .dataframe tbody tr th {\n",
       "        vertical-align: top;\n",
       "    }\n",
       "\n",
       "    .dataframe thead th {\n",
       "        text-align: right;\n",
       "    }\n",
       "</style>\n",
       "<table border=\"1\" class=\"dataframe\">\n",
       "  <thead>\n",
       "    <tr style=\"text-align: right;\">\n",
       "      <th></th>\n",
       "      <th>survived</th>\n",
       "      <th>pclass</th>\n",
       "      <th>age</th>\n",
       "      <th>fare</th>\n",
       "    </tr>\n",
       "    <tr>\n",
       "      <th>sex</th>\n",
       "      <th></th>\n",
       "      <th></th>\n",
       "      <th></th>\n",
       "      <th></th>\n",
       "    </tr>\n",
       "  </thead>\n",
       "  <tbody>\n",
       "    <tr>\n",
       "      <th>female</th>\n",
       "      <td>0.742038</td>\n",
       "      <td>2.159236</td>\n",
       "      <td>27.915709</td>\n",
       "      <td>44.479818</td>\n",
       "    </tr>\n",
       "    <tr>\n",
       "      <th>male</th>\n",
       "      <td>0.188908</td>\n",
       "      <td>2.389948</td>\n",
       "      <td>30.726645</td>\n",
       "      <td>25.523893</td>\n",
       "    </tr>\n",
       "  </tbody>\n",
       "</table>\n",
       "</div>"
      ],
      "text/plain": [
       "        survived    pclass        age       fare\n",
       "sex                                             \n",
       "female  0.742038  2.159236  27.915709  44.479818\n",
       "male    0.188908  2.389948  30.726645  25.523893"
      ]
     },
     "execution_count": 59,
     "metadata": {},
     "output_type": "execute_result"
    }
   ],
   "source": [
    "titanic.groupby(\"sex\").mean()"
   ]
  },
  {
   "cell_type": "code",
   "execution_count": 60,
   "id": "5bba1403",
   "metadata": {
    "ExecuteTime": {
     "end_time": "2022-10-03T08:08:49.361065Z",
     "start_time": "2022-10-03T08:08:49.335196Z"
    }
   },
   "outputs": [
    {
     "data": {
      "text/html": [
       "<div>\n",
       "<style scoped>\n",
       "    .dataframe tbody tr th:only-of-type {\n",
       "        vertical-align: middle;\n",
       "    }\n",
       "\n",
       "    .dataframe tbody tr th {\n",
       "        vertical-align: top;\n",
       "    }\n",
       "\n",
       "    .dataframe thead th {\n",
       "        text-align: right;\n",
       "    }\n",
       "</style>\n",
       "<table border=\"1\" class=\"dataframe\">\n",
       "  <thead>\n",
       "    <tr style=\"text-align: right;\">\n",
       "      <th></th>\n",
       "      <th>survived</th>\n",
       "      <th>pclass</th>\n",
       "      <th>age</th>\n",
       "      <th>fare</th>\n",
       "    </tr>\n",
       "    <tr>\n",
       "      <th>sex</th>\n",
       "      <th></th>\n",
       "      <th></th>\n",
       "      <th></th>\n",
       "      <th></th>\n",
       "    </tr>\n",
       "  </thead>\n",
       "  <tbody>\n",
       "    <tr>\n",
       "      <th>female</th>\n",
       "      <td>233</td>\n",
       "      <td>678</td>\n",
       "      <td>7286.00</td>\n",
       "      <td>13966.6628</td>\n",
       "    </tr>\n",
       "    <tr>\n",
       "      <th>male</th>\n",
       "      <td>109</td>\n",
       "      <td>1379</td>\n",
       "      <td>13919.17</td>\n",
       "      <td>14727.2865</td>\n",
       "    </tr>\n",
       "  </tbody>\n",
       "</table>\n",
       "</div>"
      ],
      "text/plain": [
       "        survived  pclass       age        fare\n",
       "sex                                           \n",
       "female       233     678   7286.00  13966.6628\n",
       "male         109    1379  13919.17  14727.2865"
      ]
     },
     "execution_count": 60,
     "metadata": {},
     "output_type": "execute_result"
    }
   ],
   "source": [
    "titanic.groupby(\"sex\").sum()"
   ]
  },
  {
   "cell_type": "code",
   "execution_count": 63,
   "id": "6009ad09",
   "metadata": {
    "ExecuteTime": {
     "end_time": "2022-10-03T08:09:40.535265Z",
     "start_time": "2022-10-03T08:09:40.499249Z"
    }
   },
   "outputs": [
    {
     "data": {
      "text/html": [
       "<div>\n",
       "<style scoped>\n",
       "    .dataframe tbody tr th:only-of-type {\n",
       "        vertical-align: middle;\n",
       "    }\n",
       "\n",
       "    .dataframe tbody tr th {\n",
       "        vertical-align: top;\n",
       "    }\n",
       "\n",
       "    .dataframe thead tr th {\n",
       "        text-align: left;\n",
       "    }\n",
       "\n",
       "    .dataframe thead tr:last-of-type th {\n",
       "        text-align: right;\n",
       "    }\n",
       "</style>\n",
       "<table border=\"1\" class=\"dataframe\">\n",
       "  <thead>\n",
       "    <tr>\n",
       "      <th></th>\n",
       "      <th colspan=\"4\" halign=\"left\">survived</th>\n",
       "      <th colspan=\"4\" halign=\"left\">pclass</th>\n",
       "      <th colspan=\"4\" halign=\"left\">age</th>\n",
       "      <th colspan=\"4\" halign=\"left\">fare</th>\n",
       "    </tr>\n",
       "    <tr>\n",
       "      <th></th>\n",
       "      <th>mean</th>\n",
       "      <th>sum</th>\n",
       "      <th>min</th>\n",
       "      <th>max</th>\n",
       "      <th>mean</th>\n",
       "      <th>sum</th>\n",
       "      <th>min</th>\n",
       "      <th>max</th>\n",
       "      <th>mean</th>\n",
       "      <th>sum</th>\n",
       "      <th>min</th>\n",
       "      <th>max</th>\n",
       "      <th>mean</th>\n",
       "      <th>sum</th>\n",
       "      <th>min</th>\n",
       "      <th>max</th>\n",
       "    </tr>\n",
       "    <tr>\n",
       "      <th>sex</th>\n",
       "      <th></th>\n",
       "      <th></th>\n",
       "      <th></th>\n",
       "      <th></th>\n",
       "      <th></th>\n",
       "      <th></th>\n",
       "      <th></th>\n",
       "      <th></th>\n",
       "      <th></th>\n",
       "      <th></th>\n",
       "      <th></th>\n",
       "      <th></th>\n",
       "      <th></th>\n",
       "      <th></th>\n",
       "      <th></th>\n",
       "      <th></th>\n",
       "    </tr>\n",
       "  </thead>\n",
       "  <tbody>\n",
       "    <tr>\n",
       "      <th>female</th>\n",
       "      <td>0.742038</td>\n",
       "      <td>233</td>\n",
       "      <td>0</td>\n",
       "      <td>1</td>\n",
       "      <td>2.159236</td>\n",
       "      <td>678</td>\n",
       "      <td>1</td>\n",
       "      <td>3</td>\n",
       "      <td>27.915709</td>\n",
       "      <td>7286.00</td>\n",
       "      <td>0.75</td>\n",
       "      <td>63.0</td>\n",
       "      <td>44.479818</td>\n",
       "      <td>13966.6628</td>\n",
       "      <td>6.75</td>\n",
       "      <td>512.3292</td>\n",
       "    </tr>\n",
       "    <tr>\n",
       "      <th>male</th>\n",
       "      <td>0.188908</td>\n",
       "      <td>109</td>\n",
       "      <td>0</td>\n",
       "      <td>1</td>\n",
       "      <td>2.389948</td>\n",
       "      <td>1379</td>\n",
       "      <td>1</td>\n",
       "      <td>3</td>\n",
       "      <td>30.726645</td>\n",
       "      <td>13919.17</td>\n",
       "      <td>0.42</td>\n",
       "      <td>80.0</td>\n",
       "      <td>25.523893</td>\n",
       "      <td>14727.2865</td>\n",
       "      <td>0.00</td>\n",
       "      <td>512.3292</td>\n",
       "    </tr>\n",
       "  </tbody>\n",
       "</table>\n",
       "</div>"
      ],
      "text/plain": [
       "        survived                 pclass                      age            \\\n",
       "            mean  sum min max      mean   sum min max       mean       sum   \n",
       "sex                                                                          \n",
       "female  0.742038  233   0   1  2.159236   678   1   3  27.915709   7286.00   \n",
       "male    0.188908  109   0   1  2.389948  1379   1   3  30.726645  13919.17   \n",
       "\n",
       "                         fare                              \n",
       "         min   max       mean         sum   min       max  \n",
       "sex                                                        \n",
       "female  0.75  63.0  44.479818  13966.6628  6.75  512.3292  \n",
       "male    0.42  80.0  25.523893  14727.2865  0.00  512.3292  "
      ]
     },
     "execution_count": 63,
     "metadata": {},
     "output_type": "execute_result"
    }
   ],
   "source": [
    "# 필요한 집계결과를 한번에 보는데 칼럼별로 동일하게\n",
    "titanic.groupby(\"sex\").agg([\"mean\", \"sum\", \"min\", \"max\"])"
   ]
  },
  {
   "cell_type": "code",
   "execution_count": 65,
   "id": "68899f3f",
   "metadata": {
    "ExecuteTime": {
     "end_time": "2022-10-03T08:13:15.667866Z",
     "start_time": "2022-10-03T08:13:15.643866Z"
    }
   },
   "outputs": [
    {
     "data": {
      "text/html": [
       "<div>\n",
       "<style scoped>\n",
       "    .dataframe tbody tr th:only-of-type {\n",
       "        vertical-align: middle;\n",
       "    }\n",
       "\n",
       "    .dataframe tbody tr th {\n",
       "        vertical-align: top;\n",
       "    }\n",
       "\n",
       "    .dataframe thead tr th {\n",
       "        text-align: left;\n",
       "    }\n",
       "\n",
       "    .dataframe thead tr:last-of-type th {\n",
       "        text-align: right;\n",
       "    }\n",
       "</style>\n",
       "<table border=\"1\" class=\"dataframe\">\n",
       "  <thead>\n",
       "    <tr>\n",
       "      <th></th>\n",
       "      <th colspan=\"2\" halign=\"left\">survived</th>\n",
       "      <th>pclass</th>\n",
       "      <th colspan=\"2\" halign=\"left\">age</th>\n",
       "      <th>fare</th>\n",
       "    </tr>\n",
       "    <tr>\n",
       "      <th></th>\n",
       "      <th>sum</th>\n",
       "      <th>mean</th>\n",
       "      <th>mean</th>\n",
       "      <th>mean</th>\n",
       "      <th>median</th>\n",
       "      <th>max</th>\n",
       "    </tr>\n",
       "    <tr>\n",
       "      <th>sex</th>\n",
       "      <th></th>\n",
       "      <th></th>\n",
       "      <th></th>\n",
       "      <th></th>\n",
       "      <th></th>\n",
       "      <th></th>\n",
       "    </tr>\n",
       "  </thead>\n",
       "  <tbody>\n",
       "    <tr>\n",
       "      <th>female</th>\n",
       "      <td>233</td>\n",
       "      <td>0.742038</td>\n",
       "      <td>2.159236</td>\n",
       "      <td>27.915709</td>\n",
       "      <td>27.0</td>\n",
       "      <td>512.3292</td>\n",
       "    </tr>\n",
       "    <tr>\n",
       "      <th>male</th>\n",
       "      <td>109</td>\n",
       "      <td>0.188908</td>\n",
       "      <td>2.389948</td>\n",
       "      <td>30.726645</td>\n",
       "      <td>29.0</td>\n",
       "      <td>512.3292</td>\n",
       "    </tr>\n",
       "  </tbody>\n",
       "</table>\n",
       "</div>"
      ],
      "text/plain": [
       "       survived              pclass        age             fare\n",
       "            sum      mean      mean       mean median       max\n",
       "sex                                                            \n",
       "female      233  0.742038  2.159236  27.915709   27.0  512.3292\n",
       "male        109  0.188908  2.389948  30.726645   29.0  512.3292"
      ]
     },
     "execution_count": 65,
     "metadata": {},
     "output_type": "execute_result"
    }
   ],
   "source": [
    "# 필요한 집계결과를 한번에 보는데 칼럼별로 다르게\n",
    "titanic.groupby(\"sex\").agg({\"survived\": [\"sum\", \"mean\"], \"pclass\": \"mean\", \"age\": [\"mean\", \"median\"], \"fare\":\"max\"})"
   ]
  },
  {
   "cell_type": "markdown",
   "id": "8953e0ad",
   "metadata": {},
   "source": [
    "#### 재레이블링(열이름 변경)"
   ]
  },
  {
   "cell_type": "code",
   "execution_count": 66,
   "id": "b04f1507",
   "metadata": {
    "ExecuteTime": {
     "end_time": "2022-10-03T08:15:57.987032Z",
     "start_time": "2022-10-03T08:15:57.968942Z"
    }
   },
   "outputs": [
    {
     "data": {
      "text/html": [
       "<div>\n",
       "<style scoped>\n",
       "    .dataframe tbody tr th:only-of-type {\n",
       "        vertical-align: middle;\n",
       "    }\n",
       "\n",
       "    .dataframe tbody tr th {\n",
       "        vertical-align: top;\n",
       "    }\n",
       "\n",
       "    .dataframe thead th {\n",
       "        text-align: right;\n",
       "    }\n",
       "</style>\n",
       "<table border=\"1\" class=\"dataframe\">\n",
       "  <thead>\n",
       "    <tr style=\"text-align: right;\">\n",
       "      <th></th>\n",
       "      <th>survival_rate</th>\n",
       "    </tr>\n",
       "    <tr>\n",
       "      <th>sex</th>\n",
       "      <th></th>\n",
       "    </tr>\n",
       "  </thead>\n",
       "  <tbody>\n",
       "    <tr>\n",
       "      <th>female</th>\n",
       "      <td>0.742038</td>\n",
       "    </tr>\n",
       "    <tr>\n",
       "      <th>male</th>\n",
       "      <td>0.188908</td>\n",
       "    </tr>\n",
       "  </tbody>\n",
       "</table>\n",
       "</div>"
      ],
      "text/plain": [
       "        survival_rate\n",
       "sex                  \n",
       "female       0.742038\n",
       "male         0.188908"
      ]
     },
     "execution_count": 66,
     "metadata": {},
     "output_type": "execute_result"
    }
   ],
   "source": [
    "titanic.groupby(\"sex\").agg(survival_rate = (\"survived\", \"mean\"))"
   ]
  },
  {
   "cell_type": "code",
   "execution_count": 67,
   "id": "c3500b2d",
   "metadata": {
    "ExecuteTime": {
     "end_time": "2022-10-03T08:17:49.783751Z",
     "start_time": "2022-10-03T08:17:49.766665Z"
    }
   },
   "outputs": [
    {
     "data": {
      "text/html": [
       "<div>\n",
       "<style scoped>\n",
       "    .dataframe tbody tr th:only-of-type {\n",
       "        vertical-align: middle;\n",
       "    }\n",
       "\n",
       "    .dataframe tbody tr th {\n",
       "        vertical-align: top;\n",
       "    }\n",
       "\n",
       "    .dataframe thead tr th {\n",
       "        text-align: left;\n",
       "    }\n",
       "\n",
       "    .dataframe thead tr:last-of-type th {\n",
       "        text-align: right;\n",
       "    }\n",
       "</style>\n",
       "<table border=\"1\" class=\"dataframe\">\n",
       "  <thead>\n",
       "    <tr>\n",
       "      <th></th>\n",
       "      <th colspan=\"2\" halign=\"left\">survived</th>\n",
       "      <th>age</th>\n",
       "    </tr>\n",
       "    <tr>\n",
       "      <th></th>\n",
       "      <th>sum</th>\n",
       "      <th>mean</th>\n",
       "      <th>mean</th>\n",
       "    </tr>\n",
       "    <tr>\n",
       "      <th>sex</th>\n",
       "      <th></th>\n",
       "      <th></th>\n",
       "      <th></th>\n",
       "    </tr>\n",
       "  </thead>\n",
       "  <tbody>\n",
       "    <tr>\n",
       "      <th>female</th>\n",
       "      <td>233</td>\n",
       "      <td>0.742038</td>\n",
       "      <td>27.915709</td>\n",
       "    </tr>\n",
       "    <tr>\n",
       "      <th>male</th>\n",
       "      <td>109</td>\n",
       "      <td>0.188908</td>\n",
       "      <td>30.726645</td>\n",
       "    </tr>\n",
       "  </tbody>\n",
       "</table>\n",
       "</div>"
      ],
      "text/plain": [
       "       survived                  age\n",
       "            sum      mean       mean\n",
       "sex                                 \n",
       "female      233  0.742038  27.915709\n",
       "male        109  0.188908  30.726645"
      ]
     },
     "execution_count": 67,
     "metadata": {},
     "output_type": "execute_result"
    }
   ],
   "source": [
    "titanic.groupby(\"sex\").agg({\"survived\":[\"sum\", \"mean\"], \"age\":[\"mean\"]})"
   ]
  },
  {
   "cell_type": "code",
   "execution_count": 68,
   "id": "ccf322b8",
   "metadata": {
    "ExecuteTime": {
     "end_time": "2022-10-03T08:19:25.121293Z",
     "start_time": "2022-10-03T08:19:25.098560Z"
    }
   },
   "outputs": [
    {
     "data": {
      "text/html": [
       "<div>\n",
       "<style scoped>\n",
       "    .dataframe tbody tr th:only-of-type {\n",
       "        vertical-align: middle;\n",
       "    }\n",
       "\n",
       "    .dataframe tbody tr th {\n",
       "        vertical-align: top;\n",
       "    }\n",
       "\n",
       "    .dataframe thead th {\n",
       "        text-align: right;\n",
       "    }\n",
       "</style>\n",
       "<table border=\"1\" class=\"dataframe\">\n",
       "  <thead>\n",
       "    <tr style=\"text-align: right;\">\n",
       "      <th></th>\n",
       "      <th>survival_total</th>\n",
       "      <th>survival_rate</th>\n",
       "      <th>mean_age</th>\n",
       "    </tr>\n",
       "    <tr>\n",
       "      <th>sex</th>\n",
       "      <th></th>\n",
       "      <th></th>\n",
       "      <th></th>\n",
       "    </tr>\n",
       "  </thead>\n",
       "  <tbody>\n",
       "    <tr>\n",
       "      <th>female</th>\n",
       "      <td>233</td>\n",
       "      <td>0.742038</td>\n",
       "      <td>27.915709</td>\n",
       "    </tr>\n",
       "    <tr>\n",
       "      <th>male</th>\n",
       "      <td>109</td>\n",
       "      <td>0.188908</td>\n",
       "      <td>30.726645</td>\n",
       "    </tr>\n",
       "  </tbody>\n",
       "</table>\n",
       "</div>"
      ],
      "text/plain": [
       "        survival_total  survival_rate   mean_age\n",
       "sex                                             \n",
       "female             233       0.742038  27.915709\n",
       "male               109       0.188908  30.726645"
      ]
     },
     "execution_count": 68,
     "metadata": {},
     "output_type": "execute_result"
    }
   ],
   "source": [
    "titanic.groupby(\"sex\").agg(survival_total = (\"survived\", \"sum\"),survival_rate = (\"survived\", \"mean\"), mean_age = (\"age\", \"mean\") )"
   ]
  },
  {
   "cell_type": "code",
   "execution_count": 69,
   "id": "a18d263d",
   "metadata": {
    "ExecuteTime": {
     "end_time": "2022-10-03T08:21:29.009900Z",
     "start_time": "2022-10-03T08:21:28.997817Z"
    }
   },
   "outputs": [
    {
     "data": {
      "text/plain": [
       "sex     pclass\n",
       "female  1         0.968085\n",
       "        2         0.921053\n",
       "        3         0.500000\n",
       "male    1         0.368852\n",
       "        2         0.157407\n",
       "        3         0.135447\n",
       "Name: survived, dtype: float64"
      ]
     },
     "execution_count": 69,
     "metadata": {},
     "output_type": "execute_result"
    }
   ],
   "source": [
    "titanic.groupby([\"sex\", \"pclass\"]).survived.mean()"
   ]
  },
  {
   "cell_type": "code",
   "execution_count": 71,
   "id": "8b296030",
   "metadata": {
    "ExecuteTime": {
     "end_time": "2022-10-03T08:22:31.885184Z",
     "start_time": "2022-10-03T08:22:31.876709Z"
    }
   },
   "outputs": [],
   "source": [
    "# 각 승객이 속한 그룹의 생존율 칼럼 생성\n",
    "titanic[\"group_surv_rate\"] = titanic.groupby([\"sex\", \"pclass\"]).survived.transform(\"mean\")"
   ]
  },
  {
   "cell_type": "code",
   "execution_count": 72,
   "id": "485ab49b",
   "metadata": {
    "ExecuteTime": {
     "end_time": "2022-10-03T08:28:31.108449Z",
     "start_time": "2022-10-03T08:28:31.078815Z"
    }
   },
   "outputs": [
    {
     "data": {
      "text/html": [
       "<div>\n",
       "<style scoped>\n",
       "    .dataframe tbody tr th:only-of-type {\n",
       "        vertical-align: middle;\n",
       "    }\n",
       "\n",
       "    .dataframe tbody tr th {\n",
       "        vertical-align: top;\n",
       "    }\n",
       "\n",
       "    .dataframe thead th {\n",
       "        text-align: right;\n",
       "    }\n",
       "</style>\n",
       "<table border=\"1\" class=\"dataframe\">\n",
       "  <thead>\n",
       "    <tr style=\"text-align: right;\">\n",
       "      <th></th>\n",
       "      <th>survived</th>\n",
       "      <th>pclass</th>\n",
       "      <th>sex</th>\n",
       "      <th>age</th>\n",
       "      <th>fare</th>\n",
       "      <th>group_surv_rate</th>\n",
       "    </tr>\n",
       "  </thead>\n",
       "  <tbody>\n",
       "    <tr>\n",
       "      <th>0</th>\n",
       "      <td>0</td>\n",
       "      <td>3</td>\n",
       "      <td>male</td>\n",
       "      <td>22.0</td>\n",
       "      <td>7.2500</td>\n",
       "      <td>0.135447</td>\n",
       "    </tr>\n",
       "    <tr>\n",
       "      <th>1</th>\n",
       "      <td>1</td>\n",
       "      <td>1</td>\n",
       "      <td>female</td>\n",
       "      <td>38.0</td>\n",
       "      <td>71.2833</td>\n",
       "      <td>0.968085</td>\n",
       "    </tr>\n",
       "    <tr>\n",
       "      <th>2</th>\n",
       "      <td>1</td>\n",
       "      <td>3</td>\n",
       "      <td>female</td>\n",
       "      <td>26.0</td>\n",
       "      <td>7.9250</td>\n",
       "      <td>0.500000</td>\n",
       "    </tr>\n",
       "    <tr>\n",
       "      <th>3</th>\n",
       "      <td>1</td>\n",
       "      <td>1</td>\n",
       "      <td>female</td>\n",
       "      <td>35.0</td>\n",
       "      <td>53.1000</td>\n",
       "      <td>0.968085</td>\n",
       "    </tr>\n",
       "    <tr>\n",
       "      <th>4</th>\n",
       "      <td>0</td>\n",
       "      <td>3</td>\n",
       "      <td>male</td>\n",
       "      <td>35.0</td>\n",
       "      <td>8.0500</td>\n",
       "      <td>0.135447</td>\n",
       "    </tr>\n",
       "    <tr>\n",
       "      <th>...</th>\n",
       "      <td>...</td>\n",
       "      <td>...</td>\n",
       "      <td>...</td>\n",
       "      <td>...</td>\n",
       "      <td>...</td>\n",
       "      <td>...</td>\n",
       "    </tr>\n",
       "    <tr>\n",
       "      <th>886</th>\n",
       "      <td>0</td>\n",
       "      <td>2</td>\n",
       "      <td>male</td>\n",
       "      <td>27.0</td>\n",
       "      <td>13.0000</td>\n",
       "      <td>0.157407</td>\n",
       "    </tr>\n",
       "    <tr>\n",
       "      <th>887</th>\n",
       "      <td>1</td>\n",
       "      <td>1</td>\n",
       "      <td>female</td>\n",
       "      <td>19.0</td>\n",
       "      <td>30.0000</td>\n",
       "      <td>0.968085</td>\n",
       "    </tr>\n",
       "    <tr>\n",
       "      <th>888</th>\n",
       "      <td>0</td>\n",
       "      <td>3</td>\n",
       "      <td>female</td>\n",
       "      <td>NaN</td>\n",
       "      <td>23.4500</td>\n",
       "      <td>0.500000</td>\n",
       "    </tr>\n",
       "    <tr>\n",
       "      <th>889</th>\n",
       "      <td>1</td>\n",
       "      <td>1</td>\n",
       "      <td>male</td>\n",
       "      <td>26.0</td>\n",
       "      <td>30.0000</td>\n",
       "      <td>0.368852</td>\n",
       "    </tr>\n",
       "    <tr>\n",
       "      <th>890</th>\n",
       "      <td>0</td>\n",
       "      <td>3</td>\n",
       "      <td>male</td>\n",
       "      <td>32.0</td>\n",
       "      <td>7.7500</td>\n",
       "      <td>0.135447</td>\n",
       "    </tr>\n",
       "  </tbody>\n",
       "</table>\n",
       "<p>891 rows × 6 columns</p>\n",
       "</div>"
      ],
      "text/plain": [
       "     survived  pclass     sex   age     fare  group_surv_rate\n",
       "0           0       3    male  22.0   7.2500         0.135447\n",
       "1           1       1  female  38.0  71.2833         0.968085\n",
       "2           1       3  female  26.0   7.9250         0.500000\n",
       "3           1       1  female  35.0  53.1000         0.968085\n",
       "4           0       3    male  35.0   8.0500         0.135447\n",
       "..        ...     ...     ...   ...      ...              ...\n",
       "886         0       2    male  27.0  13.0000         0.157407\n",
       "887         1       1  female  19.0  30.0000         0.968085\n",
       "888         0       3  female   NaN  23.4500         0.500000\n",
       "889         1       1    male  26.0  30.0000         0.368852\n",
       "890         0       3    male  32.0   7.7500         0.135447\n",
       "\n",
       "[891 rows x 6 columns]"
      ]
     },
     "execution_count": 72,
     "metadata": {},
     "output_type": "execute_result"
    }
   ],
   "source": [
    "titanic"
   ]
  },
  {
   "cell_type": "code",
   "execution_count": 75,
   "id": "308da9f4",
   "metadata": {
    "ExecuteTime": {
     "end_time": "2022-10-03T08:31:42.501230Z",
     "start_time": "2022-10-03T08:31:42.483223Z"
    }
   },
   "outputs": [],
   "source": [
    "# 생존여부 - 생존율\n",
    "titanic[\"outliers\"] = abs(titanic.survived - titanic.group_surv_rate)"
   ]
  },
  {
   "cell_type": "code",
   "execution_count": 76,
   "id": "abba4f2a",
   "metadata": {
    "ExecuteTime": {
     "end_time": "2022-10-03T08:32:46.537263Z",
     "start_time": "2022-10-03T08:32:46.517229Z"
    }
   },
   "outputs": [
    {
     "data": {
      "text/html": [
       "<div>\n",
       "<style scoped>\n",
       "    .dataframe tbody tr th:only-of-type {\n",
       "        vertical-align: middle;\n",
       "    }\n",
       "\n",
       "    .dataframe tbody tr th {\n",
       "        vertical-align: top;\n",
       "    }\n",
       "\n",
       "    .dataframe thead th {\n",
       "        text-align: right;\n",
       "    }\n",
       "</style>\n",
       "<table border=\"1\" class=\"dataframe\">\n",
       "  <thead>\n",
       "    <tr style=\"text-align: right;\">\n",
       "      <th></th>\n",
       "      <th>survived</th>\n",
       "      <th>pclass</th>\n",
       "      <th>sex</th>\n",
       "      <th>age</th>\n",
       "      <th>fare</th>\n",
       "      <th>group_surv_rate</th>\n",
       "      <th>outliers</th>\n",
       "    </tr>\n",
       "  </thead>\n",
       "  <tbody>\n",
       "    <tr>\n",
       "      <th>0</th>\n",
       "      <td>0</td>\n",
       "      <td>3</td>\n",
       "      <td>male</td>\n",
       "      <td>22.0</td>\n",
       "      <td>7.2500</td>\n",
       "      <td>0.135447</td>\n",
       "      <td>0.135447</td>\n",
       "    </tr>\n",
       "    <tr>\n",
       "      <th>1</th>\n",
       "      <td>1</td>\n",
       "      <td>1</td>\n",
       "      <td>female</td>\n",
       "      <td>38.0</td>\n",
       "      <td>71.2833</td>\n",
       "      <td>0.968085</td>\n",
       "      <td>0.031915</td>\n",
       "    </tr>\n",
       "    <tr>\n",
       "      <th>2</th>\n",
       "      <td>1</td>\n",
       "      <td>3</td>\n",
       "      <td>female</td>\n",
       "      <td>26.0</td>\n",
       "      <td>7.9250</td>\n",
       "      <td>0.500000</td>\n",
       "      <td>0.500000</td>\n",
       "    </tr>\n",
       "    <tr>\n",
       "      <th>3</th>\n",
       "      <td>1</td>\n",
       "      <td>1</td>\n",
       "      <td>female</td>\n",
       "      <td>35.0</td>\n",
       "      <td>53.1000</td>\n",
       "      <td>0.968085</td>\n",
       "      <td>0.031915</td>\n",
       "    </tr>\n",
       "    <tr>\n",
       "      <th>4</th>\n",
       "      <td>0</td>\n",
       "      <td>3</td>\n",
       "      <td>male</td>\n",
       "      <td>35.0</td>\n",
       "      <td>8.0500</td>\n",
       "      <td>0.135447</td>\n",
       "      <td>0.135447</td>\n",
       "    </tr>\n",
       "    <tr>\n",
       "      <th>...</th>\n",
       "      <td>...</td>\n",
       "      <td>...</td>\n",
       "      <td>...</td>\n",
       "      <td>...</td>\n",
       "      <td>...</td>\n",
       "      <td>...</td>\n",
       "      <td>...</td>\n",
       "    </tr>\n",
       "    <tr>\n",
       "      <th>886</th>\n",
       "      <td>0</td>\n",
       "      <td>2</td>\n",
       "      <td>male</td>\n",
       "      <td>27.0</td>\n",
       "      <td>13.0000</td>\n",
       "      <td>0.157407</td>\n",
       "      <td>0.157407</td>\n",
       "    </tr>\n",
       "    <tr>\n",
       "      <th>887</th>\n",
       "      <td>1</td>\n",
       "      <td>1</td>\n",
       "      <td>female</td>\n",
       "      <td>19.0</td>\n",
       "      <td>30.0000</td>\n",
       "      <td>0.968085</td>\n",
       "      <td>0.031915</td>\n",
       "    </tr>\n",
       "    <tr>\n",
       "      <th>888</th>\n",
       "      <td>0</td>\n",
       "      <td>3</td>\n",
       "      <td>female</td>\n",
       "      <td>NaN</td>\n",
       "      <td>23.4500</td>\n",
       "      <td>0.500000</td>\n",
       "      <td>0.500000</td>\n",
       "    </tr>\n",
       "    <tr>\n",
       "      <th>889</th>\n",
       "      <td>1</td>\n",
       "      <td>1</td>\n",
       "      <td>male</td>\n",
       "      <td>26.0</td>\n",
       "      <td>30.0000</td>\n",
       "      <td>0.368852</td>\n",
       "      <td>0.631148</td>\n",
       "    </tr>\n",
       "    <tr>\n",
       "      <th>890</th>\n",
       "      <td>0</td>\n",
       "      <td>3</td>\n",
       "      <td>male</td>\n",
       "      <td>32.0</td>\n",
       "      <td>7.7500</td>\n",
       "      <td>0.135447</td>\n",
       "      <td>0.135447</td>\n",
       "    </tr>\n",
       "  </tbody>\n",
       "</table>\n",
       "<p>891 rows × 7 columns</p>\n",
       "</div>"
      ],
      "text/plain": [
       "     survived  pclass     sex   age     fare  group_surv_rate  outliers\n",
       "0           0       3    male  22.0   7.2500         0.135447  0.135447\n",
       "1           1       1  female  38.0  71.2833         0.968085  0.031915\n",
       "2           1       3  female  26.0   7.9250         0.500000  0.500000\n",
       "3           1       1  female  35.0  53.1000         0.968085  0.031915\n",
       "4           0       3    male  35.0   8.0500         0.135447  0.135447\n",
       "..        ...     ...     ...   ...      ...              ...       ...\n",
       "886         0       2    male  27.0  13.0000         0.157407  0.157407\n",
       "887         1       1  female  19.0  30.0000         0.968085  0.031915\n",
       "888         0       3  female   NaN  23.4500         0.500000  0.500000\n",
       "889         1       1    male  26.0  30.0000         0.368852  0.631148\n",
       "890         0       3    male  32.0   7.7500         0.135447  0.135447\n",
       "\n",
       "[891 rows x 7 columns]"
      ]
     },
     "execution_count": 76,
     "metadata": {},
     "output_type": "execute_result"
    }
   ],
   "source": [
    "#outliers의 값이 낮을수록 해당 승객이 속한 그룹의 생존율과 승객의 실제 생존율이 비슷해진다\n",
    "# outliers 값이 높을수록 특이한 승객이라는 것\n",
    "# 그룹의 생존율은 높은데 승객이 사망했거나 그 반대인 경우\n",
    "titanic"
   ]
  },
  {
   "cell_type": "code",
   "execution_count": 78,
   "id": "e098428e",
   "metadata": {
    "ExecuteTime": {
     "end_time": "2022-10-03T08:37:21.183211Z",
     "start_time": "2022-10-03T08:37:21.147210Z"
    }
   },
   "outputs": [
    {
     "data": {
      "text/html": [
       "<div>\n",
       "<style scoped>\n",
       "    .dataframe tbody tr th:only-of-type {\n",
       "        vertical-align: middle;\n",
       "    }\n",
       "\n",
       "    .dataframe tbody tr th {\n",
       "        vertical-align: top;\n",
       "    }\n",
       "\n",
       "    .dataframe thead th {\n",
       "        text-align: right;\n",
       "    }\n",
       "</style>\n",
       "<table border=\"1\" class=\"dataframe\">\n",
       "  <thead>\n",
       "    <tr style=\"text-align: right;\">\n",
       "      <th></th>\n",
       "      <th>survived</th>\n",
       "      <th>pclass</th>\n",
       "      <th>sex</th>\n",
       "      <th>age</th>\n",
       "      <th>fare</th>\n",
       "      <th>group_surv_rate</th>\n",
       "      <th>outliers</th>\n",
       "    </tr>\n",
       "  </thead>\n",
       "  <tbody>\n",
       "    <tr>\n",
       "      <th>36</th>\n",
       "      <td>1</td>\n",
       "      <td>3</td>\n",
       "      <td>male</td>\n",
       "      <td>NaN</td>\n",
       "      <td>7.2292</td>\n",
       "      <td>0.135447</td>\n",
       "      <td>0.864553</td>\n",
       "    </tr>\n",
       "    <tr>\n",
       "      <th>41</th>\n",
       "      <td>0</td>\n",
       "      <td>2</td>\n",
       "      <td>female</td>\n",
       "      <td>27.00</td>\n",
       "      <td>21.0000</td>\n",
       "      <td>0.921053</td>\n",
       "      <td>0.921053</td>\n",
       "    </tr>\n",
       "    <tr>\n",
       "      <th>65</th>\n",
       "      <td>1</td>\n",
       "      <td>3</td>\n",
       "      <td>male</td>\n",
       "      <td>NaN</td>\n",
       "      <td>15.2458</td>\n",
       "      <td>0.135447</td>\n",
       "      <td>0.864553</td>\n",
       "    </tr>\n",
       "    <tr>\n",
       "      <th>74</th>\n",
       "      <td>1</td>\n",
       "      <td>3</td>\n",
       "      <td>male</td>\n",
       "      <td>32.00</td>\n",
       "      <td>56.4958</td>\n",
       "      <td>0.135447</td>\n",
       "      <td>0.864553</td>\n",
       "    </tr>\n",
       "    <tr>\n",
       "      <th>81</th>\n",
       "      <td>1</td>\n",
       "      <td>3</td>\n",
       "      <td>male</td>\n",
       "      <td>29.00</td>\n",
       "      <td>9.5000</td>\n",
       "      <td>0.135447</td>\n",
       "      <td>0.864553</td>\n",
       "    </tr>\n",
       "    <tr>\n",
       "      <th>107</th>\n",
       "      <td>1</td>\n",
       "      <td>3</td>\n",
       "      <td>male</td>\n",
       "      <td>NaN</td>\n",
       "      <td>7.7750</td>\n",
       "      <td>0.135447</td>\n",
       "      <td>0.864553</td>\n",
       "    </tr>\n",
       "    <tr>\n",
       "      <th>125</th>\n",
       "      <td>1</td>\n",
       "      <td>3</td>\n",
       "      <td>male</td>\n",
       "      <td>12.00</td>\n",
       "      <td>11.2417</td>\n",
       "      <td>0.135447</td>\n",
       "      <td>0.864553</td>\n",
       "    </tr>\n",
       "    <tr>\n",
       "      <th>127</th>\n",
       "      <td>1</td>\n",
       "      <td>3</td>\n",
       "      <td>male</td>\n",
       "      <td>24.00</td>\n",
       "      <td>7.1417</td>\n",
       "      <td>0.135447</td>\n",
       "      <td>0.864553</td>\n",
       "    </tr>\n",
       "    <tr>\n",
       "      <th>146</th>\n",
       "      <td>1</td>\n",
       "      <td>3</td>\n",
       "      <td>male</td>\n",
       "      <td>27.00</td>\n",
       "      <td>7.7958</td>\n",
       "      <td>0.135447</td>\n",
       "      <td>0.864553</td>\n",
       "    </tr>\n",
       "    <tr>\n",
       "      <th>165</th>\n",
       "      <td>1</td>\n",
       "      <td>3</td>\n",
       "      <td>male</td>\n",
       "      <td>9.00</td>\n",
       "      <td>20.5250</td>\n",
       "      <td>0.135447</td>\n",
       "      <td>0.864553</td>\n",
       "    </tr>\n",
       "    <tr>\n",
       "      <th>177</th>\n",
       "      <td>0</td>\n",
       "      <td>1</td>\n",
       "      <td>female</td>\n",
       "      <td>50.00</td>\n",
       "      <td>28.7125</td>\n",
       "      <td>0.968085</td>\n",
       "      <td>0.968085</td>\n",
       "    </tr>\n",
       "    <tr>\n",
       "      <th>199</th>\n",
       "      <td>0</td>\n",
       "      <td>2</td>\n",
       "      <td>female</td>\n",
       "      <td>24.00</td>\n",
       "      <td>13.0000</td>\n",
       "      <td>0.921053</td>\n",
       "      <td>0.921053</td>\n",
       "    </tr>\n",
       "    <tr>\n",
       "      <th>204</th>\n",
       "      <td>1</td>\n",
       "      <td>3</td>\n",
       "      <td>male</td>\n",
       "      <td>18.00</td>\n",
       "      <td>8.0500</td>\n",
       "      <td>0.135447</td>\n",
       "      <td>0.864553</td>\n",
       "    </tr>\n",
       "    <tr>\n",
       "      <th>207</th>\n",
       "      <td>1</td>\n",
       "      <td>3</td>\n",
       "      <td>male</td>\n",
       "      <td>26.00</td>\n",
       "      <td>18.7875</td>\n",
       "      <td>0.135447</td>\n",
       "      <td>0.864553</td>\n",
       "    </tr>\n",
       "    <tr>\n",
       "      <th>220</th>\n",
       "      <td>1</td>\n",
       "      <td>3</td>\n",
       "      <td>male</td>\n",
       "      <td>16.00</td>\n",
       "      <td>8.0500</td>\n",
       "      <td>0.135447</td>\n",
       "      <td>0.864553</td>\n",
       "    </tr>\n",
       "    <tr>\n",
       "      <th>261</th>\n",
       "      <td>1</td>\n",
       "      <td>3</td>\n",
       "      <td>male</td>\n",
       "      <td>3.00</td>\n",
       "      <td>31.3875</td>\n",
       "      <td>0.135447</td>\n",
       "      <td>0.864553</td>\n",
       "    </tr>\n",
       "    <tr>\n",
       "      <th>267</th>\n",
       "      <td>1</td>\n",
       "      <td>3</td>\n",
       "      <td>male</td>\n",
       "      <td>25.00</td>\n",
       "      <td>7.7750</td>\n",
       "      <td>0.135447</td>\n",
       "      <td>0.864553</td>\n",
       "    </tr>\n",
       "    <tr>\n",
       "      <th>271</th>\n",
       "      <td>1</td>\n",
       "      <td>3</td>\n",
       "      <td>male</td>\n",
       "      <td>25.00</td>\n",
       "      <td>0.0000</td>\n",
       "      <td>0.135447</td>\n",
       "      <td>0.864553</td>\n",
       "    </tr>\n",
       "    <tr>\n",
       "      <th>283</th>\n",
       "      <td>1</td>\n",
       "      <td>3</td>\n",
       "      <td>male</td>\n",
       "      <td>19.00</td>\n",
       "      <td>8.0500</td>\n",
       "      <td>0.135447</td>\n",
       "      <td>0.864553</td>\n",
       "    </tr>\n",
       "    <tr>\n",
       "      <th>286</th>\n",
       "      <td>1</td>\n",
       "      <td>3</td>\n",
       "      <td>male</td>\n",
       "      <td>30.00</td>\n",
       "      <td>9.5000</td>\n",
       "      <td>0.135447</td>\n",
       "      <td>0.864553</td>\n",
       "    </tr>\n",
       "    <tr>\n",
       "      <th>297</th>\n",
       "      <td>0</td>\n",
       "      <td>1</td>\n",
       "      <td>female</td>\n",
       "      <td>2.00</td>\n",
       "      <td>151.5500</td>\n",
       "      <td>0.968085</td>\n",
       "      <td>0.968085</td>\n",
       "    </tr>\n",
       "    <tr>\n",
       "      <th>301</th>\n",
       "      <td>1</td>\n",
       "      <td>3</td>\n",
       "      <td>male</td>\n",
       "      <td>NaN</td>\n",
       "      <td>23.2500</td>\n",
       "      <td>0.135447</td>\n",
       "      <td>0.864553</td>\n",
       "    </tr>\n",
       "    <tr>\n",
       "      <th>312</th>\n",
       "      <td>0</td>\n",
       "      <td>2</td>\n",
       "      <td>female</td>\n",
       "      <td>26.00</td>\n",
       "      <td>26.0000</td>\n",
       "      <td>0.921053</td>\n",
       "      <td>0.921053</td>\n",
       "    </tr>\n",
       "    <tr>\n",
       "      <th>338</th>\n",
       "      <td>1</td>\n",
       "      <td>3</td>\n",
       "      <td>male</td>\n",
       "      <td>45.00</td>\n",
       "      <td>8.0500</td>\n",
       "      <td>0.135447</td>\n",
       "      <td>0.864553</td>\n",
       "    </tr>\n",
       "    <tr>\n",
       "      <th>348</th>\n",
       "      <td>1</td>\n",
       "      <td>3</td>\n",
       "      <td>male</td>\n",
       "      <td>3.00</td>\n",
       "      <td>15.9000</td>\n",
       "      <td>0.135447</td>\n",
       "      <td>0.864553</td>\n",
       "    </tr>\n",
       "    <tr>\n",
       "      <th>357</th>\n",
       "      <td>0</td>\n",
       "      <td>2</td>\n",
       "      <td>female</td>\n",
       "      <td>38.00</td>\n",
       "      <td>13.0000</td>\n",
       "      <td>0.921053</td>\n",
       "      <td>0.921053</td>\n",
       "    </tr>\n",
       "    <tr>\n",
       "      <th>391</th>\n",
       "      <td>1</td>\n",
       "      <td>3</td>\n",
       "      <td>male</td>\n",
       "      <td>21.00</td>\n",
       "      <td>7.7958</td>\n",
       "      <td>0.135447</td>\n",
       "      <td>0.864553</td>\n",
       "    </tr>\n",
       "    <tr>\n",
       "      <th>400</th>\n",
       "      <td>1</td>\n",
       "      <td>3</td>\n",
       "      <td>male</td>\n",
       "      <td>39.00</td>\n",
       "      <td>7.9250</td>\n",
       "      <td>0.135447</td>\n",
       "      <td>0.864553</td>\n",
       "    </tr>\n",
       "    <tr>\n",
       "      <th>414</th>\n",
       "      <td>1</td>\n",
       "      <td>3</td>\n",
       "      <td>male</td>\n",
       "      <td>44.00</td>\n",
       "      <td>7.9250</td>\n",
       "      <td>0.135447</td>\n",
       "      <td>0.864553</td>\n",
       "    </tr>\n",
       "    <tr>\n",
       "      <th>429</th>\n",
       "      <td>1</td>\n",
       "      <td>3</td>\n",
       "      <td>male</td>\n",
       "      <td>32.00</td>\n",
       "      <td>8.0500</td>\n",
       "      <td>0.135447</td>\n",
       "      <td>0.864553</td>\n",
       "    </tr>\n",
       "    <tr>\n",
       "      <th>444</th>\n",
       "      <td>1</td>\n",
       "      <td>3</td>\n",
       "      <td>male</td>\n",
       "      <td>NaN</td>\n",
       "      <td>8.1125</td>\n",
       "      <td>0.135447</td>\n",
       "      <td>0.864553</td>\n",
       "    </tr>\n",
       "    <tr>\n",
       "      <th>455</th>\n",
       "      <td>1</td>\n",
       "      <td>3</td>\n",
       "      <td>male</td>\n",
       "      <td>29.00</td>\n",
       "      <td>7.8958</td>\n",
       "      <td>0.135447</td>\n",
       "      <td>0.864553</td>\n",
       "    </tr>\n",
       "    <tr>\n",
       "      <th>489</th>\n",
       "      <td>1</td>\n",
       "      <td>3</td>\n",
       "      <td>male</td>\n",
       "      <td>9.00</td>\n",
       "      <td>15.9000</td>\n",
       "      <td>0.135447</td>\n",
       "      <td>0.864553</td>\n",
       "    </tr>\n",
       "    <tr>\n",
       "      <th>498</th>\n",
       "      <td>0</td>\n",
       "      <td>1</td>\n",
       "      <td>female</td>\n",
       "      <td>25.00</td>\n",
       "      <td>151.5500</td>\n",
       "      <td>0.968085</td>\n",
       "      <td>0.968085</td>\n",
       "    </tr>\n",
       "    <tr>\n",
       "      <th>509</th>\n",
       "      <td>1</td>\n",
       "      <td>3</td>\n",
       "      <td>male</td>\n",
       "      <td>26.00</td>\n",
       "      <td>56.4958</td>\n",
       "      <td>0.135447</td>\n",
       "      <td>0.864553</td>\n",
       "    </tr>\n",
       "    <tr>\n",
       "      <th>510</th>\n",
       "      <td>1</td>\n",
       "      <td>3</td>\n",
       "      <td>male</td>\n",
       "      <td>29.00</td>\n",
       "      <td>7.7500</td>\n",
       "      <td>0.135447</td>\n",
       "      <td>0.864553</td>\n",
       "    </tr>\n",
       "    <tr>\n",
       "      <th>553</th>\n",
       "      <td>1</td>\n",
       "      <td>3</td>\n",
       "      <td>male</td>\n",
       "      <td>22.00</td>\n",
       "      <td>7.2250</td>\n",
       "      <td>0.135447</td>\n",
       "      <td>0.864553</td>\n",
       "    </tr>\n",
       "    <tr>\n",
       "      <th>569</th>\n",
       "      <td>1</td>\n",
       "      <td>3</td>\n",
       "      <td>male</td>\n",
       "      <td>32.00</td>\n",
       "      <td>7.8542</td>\n",
       "      <td>0.135447</td>\n",
       "      <td>0.864553</td>\n",
       "    </tr>\n",
       "    <tr>\n",
       "      <th>579</th>\n",
       "      <td>1</td>\n",
       "      <td>3</td>\n",
       "      <td>male</td>\n",
       "      <td>32.00</td>\n",
       "      <td>7.9250</td>\n",
       "      <td>0.135447</td>\n",
       "      <td>0.864553</td>\n",
       "    </tr>\n",
       "    <tr>\n",
       "      <th>622</th>\n",
       "      <td>1</td>\n",
       "      <td>3</td>\n",
       "      <td>male</td>\n",
       "      <td>20.00</td>\n",
       "      <td>15.7417</td>\n",
       "      <td>0.135447</td>\n",
       "      <td>0.864553</td>\n",
       "    </tr>\n",
       "    <tr>\n",
       "      <th>643</th>\n",
       "      <td>1</td>\n",
       "      <td>3</td>\n",
       "      <td>male</td>\n",
       "      <td>NaN</td>\n",
       "      <td>56.4958</td>\n",
       "      <td>0.135447</td>\n",
       "      <td>0.864553</td>\n",
       "    </tr>\n",
       "    <tr>\n",
       "      <th>664</th>\n",
       "      <td>1</td>\n",
       "      <td>3</td>\n",
       "      <td>male</td>\n",
       "      <td>20.00</td>\n",
       "      <td>7.9250</td>\n",
       "      <td>0.135447</td>\n",
       "      <td>0.864553</td>\n",
       "    </tr>\n",
       "    <tr>\n",
       "      <th>692</th>\n",
       "      <td>1</td>\n",
       "      <td>3</td>\n",
       "      <td>male</td>\n",
       "      <td>NaN</td>\n",
       "      <td>56.4958</td>\n",
       "      <td>0.135447</td>\n",
       "      <td>0.864553</td>\n",
       "    </tr>\n",
       "    <tr>\n",
       "      <th>709</th>\n",
       "      <td>1</td>\n",
       "      <td>3</td>\n",
       "      <td>male</td>\n",
       "      <td>NaN</td>\n",
       "      <td>15.2458</td>\n",
       "      <td>0.135447</td>\n",
       "      <td>0.864553</td>\n",
       "    </tr>\n",
       "    <tr>\n",
       "      <th>744</th>\n",
       "      <td>1</td>\n",
       "      <td>3</td>\n",
       "      <td>male</td>\n",
       "      <td>31.00</td>\n",
       "      <td>7.9250</td>\n",
       "      <td>0.135447</td>\n",
       "      <td>0.864553</td>\n",
       "    </tr>\n",
       "    <tr>\n",
       "      <th>751</th>\n",
       "      <td>1</td>\n",
       "      <td>3</td>\n",
       "      <td>male</td>\n",
       "      <td>6.00</td>\n",
       "      <td>12.4750</td>\n",
       "      <td>0.135447</td>\n",
       "      <td>0.864553</td>\n",
       "    </tr>\n",
       "    <tr>\n",
       "      <th>762</th>\n",
       "      <td>1</td>\n",
       "      <td>3</td>\n",
       "      <td>male</td>\n",
       "      <td>20.00</td>\n",
       "      <td>7.2292</td>\n",
       "      <td>0.135447</td>\n",
       "      <td>0.864553</td>\n",
       "    </tr>\n",
       "    <tr>\n",
       "      <th>772</th>\n",
       "      <td>0</td>\n",
       "      <td>2</td>\n",
       "      <td>female</td>\n",
       "      <td>57.00</td>\n",
       "      <td>10.5000</td>\n",
       "      <td>0.921053</td>\n",
       "      <td>0.921053</td>\n",
       "    </tr>\n",
       "    <tr>\n",
       "      <th>788</th>\n",
       "      <td>1</td>\n",
       "      <td>3</td>\n",
       "      <td>male</td>\n",
       "      <td>1.00</td>\n",
       "      <td>20.5750</td>\n",
       "      <td>0.135447</td>\n",
       "      <td>0.864553</td>\n",
       "    </tr>\n",
       "    <tr>\n",
       "      <th>803</th>\n",
       "      <td>1</td>\n",
       "      <td>3</td>\n",
       "      <td>male</td>\n",
       "      <td>0.42</td>\n",
       "      <td>8.5167</td>\n",
       "      <td>0.135447</td>\n",
       "      <td>0.864553</td>\n",
       "    </tr>\n",
       "    <tr>\n",
       "      <th>804</th>\n",
       "      <td>1</td>\n",
       "      <td>3</td>\n",
       "      <td>male</td>\n",
       "      <td>27.00</td>\n",
       "      <td>6.9750</td>\n",
       "      <td>0.135447</td>\n",
       "      <td>0.864553</td>\n",
       "    </tr>\n",
       "    <tr>\n",
       "      <th>821</th>\n",
       "      <td>1</td>\n",
       "      <td>3</td>\n",
       "      <td>male</td>\n",
       "      <td>27.00</td>\n",
       "      <td>8.6625</td>\n",
       "      <td>0.135447</td>\n",
       "      <td>0.864553</td>\n",
       "    </tr>\n",
       "    <tr>\n",
       "      <th>828</th>\n",
       "      <td>1</td>\n",
       "      <td>3</td>\n",
       "      <td>male</td>\n",
       "      <td>NaN</td>\n",
       "      <td>7.7500</td>\n",
       "      <td>0.135447</td>\n",
       "      <td>0.864553</td>\n",
       "    </tr>\n",
       "    <tr>\n",
       "      <th>838</th>\n",
       "      <td>1</td>\n",
       "      <td>3</td>\n",
       "      <td>male</td>\n",
       "      <td>32.00</td>\n",
       "      <td>56.4958</td>\n",
       "      <td>0.135447</td>\n",
       "      <td>0.864553</td>\n",
       "    </tr>\n",
       "    <tr>\n",
       "      <th>854</th>\n",
       "      <td>0</td>\n",
       "      <td>2</td>\n",
       "      <td>female</td>\n",
       "      <td>44.00</td>\n",
       "      <td>26.0000</td>\n",
       "      <td>0.921053</td>\n",
       "      <td>0.921053</td>\n",
       "    </tr>\n",
       "    <tr>\n",
       "      <th>869</th>\n",
       "      <td>1</td>\n",
       "      <td>3</td>\n",
       "      <td>male</td>\n",
       "      <td>4.00</td>\n",
       "      <td>11.1333</td>\n",
       "      <td>0.135447</td>\n",
       "      <td>0.864553</td>\n",
       "    </tr>\n",
       "  </tbody>\n",
       "</table>\n",
       "</div>"
      ],
      "text/plain": [
       "     survived  pclass     sex    age      fare  group_surv_rate  outliers\n",
       "36          1       3    male    NaN    7.2292         0.135447  0.864553\n",
       "41          0       2  female  27.00   21.0000         0.921053  0.921053\n",
       "65          1       3    male    NaN   15.2458         0.135447  0.864553\n",
       "74          1       3    male  32.00   56.4958         0.135447  0.864553\n",
       "81          1       3    male  29.00    9.5000         0.135447  0.864553\n",
       "107         1       3    male    NaN    7.7750         0.135447  0.864553\n",
       "125         1       3    male  12.00   11.2417         0.135447  0.864553\n",
       "127         1       3    male  24.00    7.1417         0.135447  0.864553\n",
       "146         1       3    male  27.00    7.7958         0.135447  0.864553\n",
       "165         1       3    male   9.00   20.5250         0.135447  0.864553\n",
       "177         0       1  female  50.00   28.7125         0.968085  0.968085\n",
       "199         0       2  female  24.00   13.0000         0.921053  0.921053\n",
       "204         1       3    male  18.00    8.0500         0.135447  0.864553\n",
       "207         1       3    male  26.00   18.7875         0.135447  0.864553\n",
       "220         1       3    male  16.00    8.0500         0.135447  0.864553\n",
       "261         1       3    male   3.00   31.3875         0.135447  0.864553\n",
       "267         1       3    male  25.00    7.7750         0.135447  0.864553\n",
       "271         1       3    male  25.00    0.0000         0.135447  0.864553\n",
       "283         1       3    male  19.00    8.0500         0.135447  0.864553\n",
       "286         1       3    male  30.00    9.5000         0.135447  0.864553\n",
       "297         0       1  female   2.00  151.5500         0.968085  0.968085\n",
       "301         1       3    male    NaN   23.2500         0.135447  0.864553\n",
       "312         0       2  female  26.00   26.0000         0.921053  0.921053\n",
       "338         1       3    male  45.00    8.0500         0.135447  0.864553\n",
       "348         1       3    male   3.00   15.9000         0.135447  0.864553\n",
       "357         0       2  female  38.00   13.0000         0.921053  0.921053\n",
       "391         1       3    male  21.00    7.7958         0.135447  0.864553\n",
       "400         1       3    male  39.00    7.9250         0.135447  0.864553\n",
       "414         1       3    male  44.00    7.9250         0.135447  0.864553\n",
       "429         1       3    male  32.00    8.0500         0.135447  0.864553\n",
       "444         1       3    male    NaN    8.1125         0.135447  0.864553\n",
       "455         1       3    male  29.00    7.8958         0.135447  0.864553\n",
       "489         1       3    male   9.00   15.9000         0.135447  0.864553\n",
       "498         0       1  female  25.00  151.5500         0.968085  0.968085\n",
       "509         1       3    male  26.00   56.4958         0.135447  0.864553\n",
       "510         1       3    male  29.00    7.7500         0.135447  0.864553\n",
       "553         1       3    male  22.00    7.2250         0.135447  0.864553\n",
       "569         1       3    male  32.00    7.8542         0.135447  0.864553\n",
       "579         1       3    male  32.00    7.9250         0.135447  0.864553\n",
       "622         1       3    male  20.00   15.7417         0.135447  0.864553\n",
       "643         1       3    male    NaN   56.4958         0.135447  0.864553\n",
       "664         1       3    male  20.00    7.9250         0.135447  0.864553\n",
       "692         1       3    male    NaN   56.4958         0.135447  0.864553\n",
       "709         1       3    male    NaN   15.2458         0.135447  0.864553\n",
       "744         1       3    male  31.00    7.9250         0.135447  0.864553\n",
       "751         1       3    male   6.00   12.4750         0.135447  0.864553\n",
       "762         1       3    male  20.00    7.2292         0.135447  0.864553\n",
       "772         0       2  female  57.00   10.5000         0.921053  0.921053\n",
       "788         1       3    male   1.00   20.5750         0.135447  0.864553\n",
       "803         1       3    male   0.42    8.5167         0.135447  0.864553\n",
       "804         1       3    male  27.00    6.9750         0.135447  0.864553\n",
       "821         1       3    male  27.00    8.6625         0.135447  0.864553\n",
       "828         1       3    male    NaN    7.7500         0.135447  0.864553\n",
       "838         1       3    male  32.00   56.4958         0.135447  0.864553\n",
       "854         0       2  female  44.00   26.0000         0.921053  0.921053\n",
       "869         1       3    male   4.00   11.1333         0.135447  0.864553"
      ]
     },
     "execution_count": 78,
     "metadata": {},
     "output_type": "execute_result"
    }
   ],
   "source": [
    "# 그룹의 생존율은 13%인데 살아남음. (남성 3등급 그룹의 생존율은 낮음)\n",
    "titanic[titanic.outliers > 0.85]"
   ]
  },
  {
   "cell_type": "markdown",
   "id": "cdbade3f",
   "metadata": {},
   "source": [
    "### Replacing NA values by groupby-specific values"
   ]
  },
  {
   "cell_type": "code",
   "execution_count": 79,
   "id": "ec967e7e",
   "metadata": {
    "ExecuteTime": {
     "end_time": "2022-10-03T08:50:03.937199Z",
     "start_time": "2022-10-03T08:50:03.926200Z"
    }
   },
   "outputs": [
    {
     "data": {
      "text/plain": [
       "29.69911764705882"
      ]
     },
     "execution_count": 79,
     "metadata": {},
     "output_type": "execute_result"
    }
   ],
   "source": [
    "mean_age = titanic.age.mean()\n",
    "mean_age"
   ]
  },
  {
   "cell_type": "code",
   "execution_count": 80,
   "id": "e44522bb",
   "metadata": {
    "ExecuteTime": {
     "end_time": "2022-10-03T08:50:45.230494Z",
     "start_time": "2022-10-03T08:50:45.216497Z"
    }
   },
   "outputs": [
    {
     "data": {
      "text/plain": [
       "0      22.000000\n",
       "1      38.000000\n",
       "2      26.000000\n",
       "3      35.000000\n",
       "4      35.000000\n",
       "         ...    \n",
       "886    27.000000\n",
       "887    19.000000\n",
       "888    29.699118\n",
       "889    26.000000\n",
       "890    32.000000\n",
       "Name: age, Length: 891, dtype: float64"
      ]
     },
     "execution_count": 80,
     "metadata": {},
     "output_type": "execute_result"
    }
   ],
   "source": [
    "titanic.age.fillna(mean_age)"
   ]
  },
  {
   "cell_type": "code",
   "execution_count": 82,
   "id": "5f2d36c5",
   "metadata": {
    "ExecuteTime": {
     "end_time": "2022-10-03T08:59:29.863733Z",
     "start_time": "2022-10-03T08:59:29.855730Z"
    }
   },
   "outputs": [
    {
     "data": {
      "text/plain": [
       "0      22.000000\n",
       "1      38.000000\n",
       "2      26.000000\n",
       "3      35.000000\n",
       "4      35.000000\n",
       "         ...    \n",
       "886    27.000000\n",
       "887    19.000000\n",
       "888    29.699118\n",
       "889    26.000000\n",
       "890    32.000000\n",
       "Name: age, Length: 891, dtype: float64"
      ]
     },
     "execution_count": 82,
     "metadata": {},
     "output_type": "execute_result"
    }
   ],
   "source": [
    "titanic.age.fillna(mean_age)"
   ]
  },
  {
   "cell_type": "code",
   "execution_count": 83,
   "id": "9bceca53",
   "metadata": {
    "ExecuteTime": {
     "end_time": "2022-10-03T09:03:41.797312Z",
     "start_time": "2022-10-03T09:03:41.775315Z"
    }
   },
   "outputs": [
    {
     "data": {
      "text/plain": [
       "sex     pclass\n",
       "female  1         34.611765\n",
       "        2         28.722973\n",
       "        3         21.750000\n",
       "male    1         41.281386\n",
       "        2         30.740707\n",
       "        3         26.507589\n",
       "Name: age, dtype: float64"
      ]
     },
     "execution_count": 83,
     "metadata": {},
     "output_type": "execute_result"
    }
   ],
   "source": [
    "titanic.groupby([\"sex\", \"pclass\"]).age.mean()"
   ]
  },
  {
   "cell_type": "code",
   "execution_count": 84,
   "id": "2dd7d871",
   "metadata": {
    "ExecuteTime": {
     "end_time": "2022-10-03T09:05:04.332570Z",
     "start_time": "2022-10-03T09:05:04.320571Z"
    }
   },
   "outputs": [],
   "source": [
    "titanic[\"group_mean_age\"] = titanic.groupby([\"sex\", \"pclass\"]).age.transform(\"mean\")"
   ]
  },
  {
   "cell_type": "code",
   "execution_count": 85,
   "id": "6ad46b92",
   "metadata": {
    "ExecuteTime": {
     "end_time": "2022-10-03T09:05:17.648943Z",
     "start_time": "2022-10-03T09:05:17.621944Z"
    }
   },
   "outputs": [
    {
     "data": {
      "text/html": [
       "<div>\n",
       "<style scoped>\n",
       "    .dataframe tbody tr th:only-of-type {\n",
       "        vertical-align: middle;\n",
       "    }\n",
       "\n",
       "    .dataframe tbody tr th {\n",
       "        vertical-align: top;\n",
       "    }\n",
       "\n",
       "    .dataframe thead th {\n",
       "        text-align: right;\n",
       "    }\n",
       "</style>\n",
       "<table border=\"1\" class=\"dataframe\">\n",
       "  <thead>\n",
       "    <tr style=\"text-align: right;\">\n",
       "      <th></th>\n",
       "      <th>survived</th>\n",
       "      <th>pclass</th>\n",
       "      <th>sex</th>\n",
       "      <th>age</th>\n",
       "      <th>fare</th>\n",
       "      <th>group_surv_rate</th>\n",
       "      <th>outliers</th>\n",
       "      <th>group_mean_age</th>\n",
       "    </tr>\n",
       "  </thead>\n",
       "  <tbody>\n",
       "    <tr>\n",
       "      <th>0</th>\n",
       "      <td>0</td>\n",
       "      <td>3</td>\n",
       "      <td>male</td>\n",
       "      <td>22.0</td>\n",
       "      <td>7.2500</td>\n",
       "      <td>0.135447</td>\n",
       "      <td>0.135447</td>\n",
       "      <td>26.507589</td>\n",
       "    </tr>\n",
       "    <tr>\n",
       "      <th>1</th>\n",
       "      <td>1</td>\n",
       "      <td>1</td>\n",
       "      <td>female</td>\n",
       "      <td>38.0</td>\n",
       "      <td>71.2833</td>\n",
       "      <td>0.968085</td>\n",
       "      <td>0.031915</td>\n",
       "      <td>34.611765</td>\n",
       "    </tr>\n",
       "    <tr>\n",
       "      <th>2</th>\n",
       "      <td>1</td>\n",
       "      <td>3</td>\n",
       "      <td>female</td>\n",
       "      <td>26.0</td>\n",
       "      <td>7.9250</td>\n",
       "      <td>0.500000</td>\n",
       "      <td>0.500000</td>\n",
       "      <td>21.750000</td>\n",
       "    </tr>\n",
       "    <tr>\n",
       "      <th>3</th>\n",
       "      <td>1</td>\n",
       "      <td>1</td>\n",
       "      <td>female</td>\n",
       "      <td>35.0</td>\n",
       "      <td>53.1000</td>\n",
       "      <td>0.968085</td>\n",
       "      <td>0.031915</td>\n",
       "      <td>34.611765</td>\n",
       "    </tr>\n",
       "    <tr>\n",
       "      <th>4</th>\n",
       "      <td>0</td>\n",
       "      <td>3</td>\n",
       "      <td>male</td>\n",
       "      <td>35.0</td>\n",
       "      <td>8.0500</td>\n",
       "      <td>0.135447</td>\n",
       "      <td>0.135447</td>\n",
       "      <td>26.507589</td>\n",
       "    </tr>\n",
       "    <tr>\n",
       "      <th>5</th>\n",
       "      <td>0</td>\n",
       "      <td>3</td>\n",
       "      <td>male</td>\n",
       "      <td>NaN</td>\n",
       "      <td>8.4583</td>\n",
       "      <td>0.135447</td>\n",
       "      <td>0.135447</td>\n",
       "      <td>26.507589</td>\n",
       "    </tr>\n",
       "    <tr>\n",
       "      <th>6</th>\n",
       "      <td>0</td>\n",
       "      <td>1</td>\n",
       "      <td>male</td>\n",
       "      <td>54.0</td>\n",
       "      <td>51.8625</td>\n",
       "      <td>0.368852</td>\n",
       "      <td>0.368852</td>\n",
       "      <td>41.281386</td>\n",
       "    </tr>\n",
       "    <tr>\n",
       "      <th>7</th>\n",
       "      <td>0</td>\n",
       "      <td>3</td>\n",
       "      <td>male</td>\n",
       "      <td>2.0</td>\n",
       "      <td>21.0750</td>\n",
       "      <td>0.135447</td>\n",
       "      <td>0.135447</td>\n",
       "      <td>26.507589</td>\n",
       "    </tr>\n",
       "    <tr>\n",
       "      <th>8</th>\n",
       "      <td>1</td>\n",
       "      <td>3</td>\n",
       "      <td>female</td>\n",
       "      <td>27.0</td>\n",
       "      <td>11.1333</td>\n",
       "      <td>0.500000</td>\n",
       "      <td>0.500000</td>\n",
       "      <td>21.750000</td>\n",
       "    </tr>\n",
       "    <tr>\n",
       "      <th>9</th>\n",
       "      <td>1</td>\n",
       "      <td>2</td>\n",
       "      <td>female</td>\n",
       "      <td>14.0</td>\n",
       "      <td>30.0708</td>\n",
       "      <td>0.921053</td>\n",
       "      <td>0.078947</td>\n",
       "      <td>28.722973</td>\n",
       "    </tr>\n",
       "    <tr>\n",
       "      <th>10</th>\n",
       "      <td>1</td>\n",
       "      <td>3</td>\n",
       "      <td>female</td>\n",
       "      <td>4.0</td>\n",
       "      <td>16.7000</td>\n",
       "      <td>0.500000</td>\n",
       "      <td>0.500000</td>\n",
       "      <td>21.750000</td>\n",
       "    </tr>\n",
       "    <tr>\n",
       "      <th>11</th>\n",
       "      <td>1</td>\n",
       "      <td>1</td>\n",
       "      <td>female</td>\n",
       "      <td>58.0</td>\n",
       "      <td>26.5500</td>\n",
       "      <td>0.968085</td>\n",
       "      <td>0.031915</td>\n",
       "      <td>34.611765</td>\n",
       "    </tr>\n",
       "    <tr>\n",
       "      <th>12</th>\n",
       "      <td>0</td>\n",
       "      <td>3</td>\n",
       "      <td>male</td>\n",
       "      <td>20.0</td>\n",
       "      <td>8.0500</td>\n",
       "      <td>0.135447</td>\n",
       "      <td>0.135447</td>\n",
       "      <td>26.507589</td>\n",
       "    </tr>\n",
       "    <tr>\n",
       "      <th>13</th>\n",
       "      <td>0</td>\n",
       "      <td>3</td>\n",
       "      <td>male</td>\n",
       "      <td>39.0</td>\n",
       "      <td>31.2750</td>\n",
       "      <td>0.135447</td>\n",
       "      <td>0.135447</td>\n",
       "      <td>26.507589</td>\n",
       "    </tr>\n",
       "    <tr>\n",
       "      <th>14</th>\n",
       "      <td>0</td>\n",
       "      <td>3</td>\n",
       "      <td>female</td>\n",
       "      <td>14.0</td>\n",
       "      <td>7.8542</td>\n",
       "      <td>0.500000</td>\n",
       "      <td>0.500000</td>\n",
       "      <td>21.750000</td>\n",
       "    </tr>\n",
       "    <tr>\n",
       "      <th>15</th>\n",
       "      <td>1</td>\n",
       "      <td>2</td>\n",
       "      <td>female</td>\n",
       "      <td>55.0</td>\n",
       "      <td>16.0000</td>\n",
       "      <td>0.921053</td>\n",
       "      <td>0.078947</td>\n",
       "      <td>28.722973</td>\n",
       "    </tr>\n",
       "    <tr>\n",
       "      <th>16</th>\n",
       "      <td>0</td>\n",
       "      <td>3</td>\n",
       "      <td>male</td>\n",
       "      <td>2.0</td>\n",
       "      <td>29.1250</td>\n",
       "      <td>0.135447</td>\n",
       "      <td>0.135447</td>\n",
       "      <td>26.507589</td>\n",
       "    </tr>\n",
       "    <tr>\n",
       "      <th>17</th>\n",
       "      <td>1</td>\n",
       "      <td>2</td>\n",
       "      <td>male</td>\n",
       "      <td>NaN</td>\n",
       "      <td>13.0000</td>\n",
       "      <td>0.157407</td>\n",
       "      <td>0.842593</td>\n",
       "      <td>30.740707</td>\n",
       "    </tr>\n",
       "    <tr>\n",
       "      <th>18</th>\n",
       "      <td>0</td>\n",
       "      <td>3</td>\n",
       "      <td>female</td>\n",
       "      <td>31.0</td>\n",
       "      <td>18.0000</td>\n",
       "      <td>0.500000</td>\n",
       "      <td>0.500000</td>\n",
       "      <td>21.750000</td>\n",
       "    </tr>\n",
       "    <tr>\n",
       "      <th>19</th>\n",
       "      <td>1</td>\n",
       "      <td>3</td>\n",
       "      <td>female</td>\n",
       "      <td>NaN</td>\n",
       "      <td>7.2250</td>\n",
       "      <td>0.500000</td>\n",
       "      <td>0.500000</td>\n",
       "      <td>21.750000</td>\n",
       "    </tr>\n",
       "  </tbody>\n",
       "</table>\n",
       "</div>"
      ],
      "text/plain": [
       "    survived  pclass     sex   age     fare  group_surv_rate  outliers  \\\n",
       "0          0       3    male  22.0   7.2500         0.135447  0.135447   \n",
       "1          1       1  female  38.0  71.2833         0.968085  0.031915   \n",
       "2          1       3  female  26.0   7.9250         0.500000  0.500000   \n",
       "3          1       1  female  35.0  53.1000         0.968085  0.031915   \n",
       "4          0       3    male  35.0   8.0500         0.135447  0.135447   \n",
       "5          0       3    male   NaN   8.4583         0.135447  0.135447   \n",
       "6          0       1    male  54.0  51.8625         0.368852  0.368852   \n",
       "7          0       3    male   2.0  21.0750         0.135447  0.135447   \n",
       "8          1       3  female  27.0  11.1333         0.500000  0.500000   \n",
       "9          1       2  female  14.0  30.0708         0.921053  0.078947   \n",
       "10         1       3  female   4.0  16.7000         0.500000  0.500000   \n",
       "11         1       1  female  58.0  26.5500         0.968085  0.031915   \n",
       "12         0       3    male  20.0   8.0500         0.135447  0.135447   \n",
       "13         0       3    male  39.0  31.2750         0.135447  0.135447   \n",
       "14         0       3  female  14.0   7.8542         0.500000  0.500000   \n",
       "15         1       2  female  55.0  16.0000         0.921053  0.078947   \n",
       "16         0       3    male   2.0  29.1250         0.135447  0.135447   \n",
       "17         1       2    male   NaN  13.0000         0.157407  0.842593   \n",
       "18         0       3  female  31.0  18.0000         0.500000  0.500000   \n",
       "19         1       3  female   NaN   7.2250         0.500000  0.500000   \n",
       "\n",
       "    group_mean_age  \n",
       "0        26.507589  \n",
       "1        34.611765  \n",
       "2        21.750000  \n",
       "3        34.611765  \n",
       "4        26.507589  \n",
       "5        26.507589  \n",
       "6        41.281386  \n",
       "7        26.507589  \n",
       "8        21.750000  \n",
       "9        28.722973  \n",
       "10       21.750000  \n",
       "11       34.611765  \n",
       "12       26.507589  \n",
       "13       26.507589  \n",
       "14       21.750000  \n",
       "15       28.722973  \n",
       "16       26.507589  \n",
       "17       30.740707  \n",
       "18       21.750000  \n",
       "19       21.750000  "
      ]
     },
     "execution_count": 85,
     "metadata": {},
     "output_type": "execute_result"
    }
   ],
   "source": [
    "titanic.head(20)"
   ]
  },
  {
   "cell_type": "code",
   "execution_count": 86,
   "id": "7ae34f13",
   "metadata": {
    "ExecuteTime": {
     "end_time": "2022-10-03T09:15:55.377529Z",
     "start_time": "2022-10-03T09:15:55.362454Z"
    }
   },
   "outputs": [],
   "source": [
    "titanic.age.fillna(titanic.group_mean_age, inplace=True)"
   ]
  },
  {
   "cell_type": "code",
   "execution_count": 87,
   "id": "e4a6cd2f",
   "metadata": {
    "ExecuteTime": {
     "end_time": "2022-10-03T09:16:00.581779Z",
     "start_time": "2022-10-03T09:16:00.552155Z"
    }
   },
   "outputs": [
    {
     "data": {
      "text/html": [
       "<div>\n",
       "<style scoped>\n",
       "    .dataframe tbody tr th:only-of-type {\n",
       "        vertical-align: middle;\n",
       "    }\n",
       "\n",
       "    .dataframe tbody tr th {\n",
       "        vertical-align: top;\n",
       "    }\n",
       "\n",
       "    .dataframe thead th {\n",
       "        text-align: right;\n",
       "    }\n",
       "</style>\n",
       "<table border=\"1\" class=\"dataframe\">\n",
       "  <thead>\n",
       "    <tr style=\"text-align: right;\">\n",
       "      <th></th>\n",
       "      <th>survived</th>\n",
       "      <th>pclass</th>\n",
       "      <th>sex</th>\n",
       "      <th>age</th>\n",
       "      <th>fare</th>\n",
       "      <th>group_surv_rate</th>\n",
       "      <th>outliers</th>\n",
       "      <th>group_mean_age</th>\n",
       "    </tr>\n",
       "  </thead>\n",
       "  <tbody>\n",
       "    <tr>\n",
       "      <th>0</th>\n",
       "      <td>0</td>\n",
       "      <td>3</td>\n",
       "      <td>male</td>\n",
       "      <td>22.00</td>\n",
       "      <td>7.2500</td>\n",
       "      <td>0.135447</td>\n",
       "      <td>0.135447</td>\n",
       "      <td>26.507589</td>\n",
       "    </tr>\n",
       "    <tr>\n",
       "      <th>1</th>\n",
       "      <td>1</td>\n",
       "      <td>1</td>\n",
       "      <td>female</td>\n",
       "      <td>38.00</td>\n",
       "      <td>71.2833</td>\n",
       "      <td>0.968085</td>\n",
       "      <td>0.031915</td>\n",
       "      <td>34.611765</td>\n",
       "    </tr>\n",
       "    <tr>\n",
       "      <th>2</th>\n",
       "      <td>1</td>\n",
       "      <td>3</td>\n",
       "      <td>female</td>\n",
       "      <td>26.00</td>\n",
       "      <td>7.9250</td>\n",
       "      <td>0.500000</td>\n",
       "      <td>0.500000</td>\n",
       "      <td>21.750000</td>\n",
       "    </tr>\n",
       "    <tr>\n",
       "      <th>3</th>\n",
       "      <td>1</td>\n",
       "      <td>1</td>\n",
       "      <td>female</td>\n",
       "      <td>35.00</td>\n",
       "      <td>53.1000</td>\n",
       "      <td>0.968085</td>\n",
       "      <td>0.031915</td>\n",
       "      <td>34.611765</td>\n",
       "    </tr>\n",
       "    <tr>\n",
       "      <th>4</th>\n",
       "      <td>0</td>\n",
       "      <td>3</td>\n",
       "      <td>male</td>\n",
       "      <td>35.00</td>\n",
       "      <td>8.0500</td>\n",
       "      <td>0.135447</td>\n",
       "      <td>0.135447</td>\n",
       "      <td>26.507589</td>\n",
       "    </tr>\n",
       "    <tr>\n",
       "      <th>...</th>\n",
       "      <td>...</td>\n",
       "      <td>...</td>\n",
       "      <td>...</td>\n",
       "      <td>...</td>\n",
       "      <td>...</td>\n",
       "      <td>...</td>\n",
       "      <td>...</td>\n",
       "      <td>...</td>\n",
       "    </tr>\n",
       "    <tr>\n",
       "      <th>886</th>\n",
       "      <td>0</td>\n",
       "      <td>2</td>\n",
       "      <td>male</td>\n",
       "      <td>27.00</td>\n",
       "      <td>13.0000</td>\n",
       "      <td>0.157407</td>\n",
       "      <td>0.157407</td>\n",
       "      <td>30.740707</td>\n",
       "    </tr>\n",
       "    <tr>\n",
       "      <th>887</th>\n",
       "      <td>1</td>\n",
       "      <td>1</td>\n",
       "      <td>female</td>\n",
       "      <td>19.00</td>\n",
       "      <td>30.0000</td>\n",
       "      <td>0.968085</td>\n",
       "      <td>0.031915</td>\n",
       "      <td>34.611765</td>\n",
       "    </tr>\n",
       "    <tr>\n",
       "      <th>888</th>\n",
       "      <td>0</td>\n",
       "      <td>3</td>\n",
       "      <td>female</td>\n",
       "      <td>21.75</td>\n",
       "      <td>23.4500</td>\n",
       "      <td>0.500000</td>\n",
       "      <td>0.500000</td>\n",
       "      <td>21.750000</td>\n",
       "    </tr>\n",
       "    <tr>\n",
       "      <th>889</th>\n",
       "      <td>1</td>\n",
       "      <td>1</td>\n",
       "      <td>male</td>\n",
       "      <td>26.00</td>\n",
       "      <td>30.0000</td>\n",
       "      <td>0.368852</td>\n",
       "      <td>0.631148</td>\n",
       "      <td>41.281386</td>\n",
       "    </tr>\n",
       "    <tr>\n",
       "      <th>890</th>\n",
       "      <td>0</td>\n",
       "      <td>3</td>\n",
       "      <td>male</td>\n",
       "      <td>32.00</td>\n",
       "      <td>7.7500</td>\n",
       "      <td>0.135447</td>\n",
       "      <td>0.135447</td>\n",
       "      <td>26.507589</td>\n",
       "    </tr>\n",
       "  </tbody>\n",
       "</table>\n",
       "<p>891 rows × 8 columns</p>\n",
       "</div>"
      ],
      "text/plain": [
       "     survived  pclass     sex    age     fare  group_surv_rate  outliers  \\\n",
       "0           0       3    male  22.00   7.2500         0.135447  0.135447   \n",
       "1           1       1  female  38.00  71.2833         0.968085  0.031915   \n",
       "2           1       3  female  26.00   7.9250         0.500000  0.500000   \n",
       "3           1       1  female  35.00  53.1000         0.968085  0.031915   \n",
       "4           0       3    male  35.00   8.0500         0.135447  0.135447   \n",
       "..        ...     ...     ...    ...      ...              ...       ...   \n",
       "886         0       2    male  27.00  13.0000         0.157407  0.157407   \n",
       "887         1       1  female  19.00  30.0000         0.968085  0.031915   \n",
       "888         0       3  female  21.75  23.4500         0.500000  0.500000   \n",
       "889         1       1    male  26.00  30.0000         0.368852  0.631148   \n",
       "890         0       3    male  32.00   7.7500         0.135447  0.135447   \n",
       "\n",
       "     group_mean_age  \n",
       "0         26.507589  \n",
       "1         34.611765  \n",
       "2         21.750000  \n",
       "3         34.611765  \n",
       "4         26.507589  \n",
       "..              ...  \n",
       "886       30.740707  \n",
       "887       34.611765  \n",
       "888       21.750000  \n",
       "889       41.281386  \n",
       "890       26.507589  \n",
       "\n",
       "[891 rows x 8 columns]"
      ]
     },
     "execution_count": 87,
     "metadata": {},
     "output_type": "execute_result"
    }
   ],
   "source": [
    "titanic"
   ]
  },
  {
   "cell_type": "code",
   "execution_count": 88,
   "id": "6c869511",
   "metadata": {
    "ExecuteTime": {
     "end_time": "2022-10-03T09:16:10.901856Z",
     "start_time": "2022-10-03T09:16:10.882557Z"
    }
   },
   "outputs": [
    {
     "name": "stdout",
     "output_type": "stream",
     "text": [
      "<class 'pandas.core.frame.DataFrame'>\n",
      "RangeIndex: 891 entries, 0 to 890\n",
      "Data columns (total 8 columns):\n",
      " #   Column           Non-Null Count  Dtype  \n",
      "---  ------           --------------  -----  \n",
      " 0   survived         891 non-null    int64  \n",
      " 1   pclass           891 non-null    int64  \n",
      " 2   sex              891 non-null    object \n",
      " 3   age              891 non-null    float64\n",
      " 4   fare             891 non-null    float64\n",
      " 5   group_surv_rate  891 non-null    float64\n",
      " 6   outliers         891 non-null    float64\n",
      " 7   group_mean_age   891 non-null    float64\n",
      "dtypes: float64(5), int64(2), object(1)\n",
      "memory usage: 55.8+ KB\n"
     ]
    }
   ],
   "source": [
    "titanic.info()"
   ]
  },
  {
   "cell_type": "markdown",
   "id": "2e9c3d8f",
   "metadata": {},
   "source": [
    "#### Generalizing split-apply-combine with apply() - 직접 함수를 정의해서 사용하기"
   ]
  },
  {
   "cell_type": "code",
   "execution_count": 95,
   "id": "0346b558",
   "metadata": {
    "ExecuteTime": {
     "end_time": "2022-10-03T09:23:38.999331Z",
     "start_time": "2022-10-03T09:23:38.983228Z"
    }
   },
   "outputs": [],
   "source": [
    "import pandas as pd"
   ]
  },
  {
   "cell_type": "code",
   "execution_count": 96,
   "id": "3ea31598",
   "metadata": {
    "ExecuteTime": {
     "end_time": "2022-10-03T09:23:39.815520Z",
     "start_time": "2022-10-03T09:23:39.805448Z"
    }
   },
   "outputs": [],
   "source": [
    "titanic = pd.read_csv(\"./Course_Materials_Part2/Course_Materials_Part2/Video_Lecture_NBs/titanic.csv\", usecols=[\"survived\", \"pclass\", \"sex\", \"age\", \"fare\"])"
   ]
  },
  {
   "cell_type": "code",
   "execution_count": 97,
   "id": "df65dcc1",
   "metadata": {
    "ExecuteTime": {
     "end_time": "2022-10-03T09:23:40.918300Z",
     "start_time": "2022-10-03T09:23:40.895587Z"
    }
   },
   "outputs": [
    {
     "data": {
      "text/html": [
       "<div>\n",
       "<style scoped>\n",
       "    .dataframe tbody tr th:only-of-type {\n",
       "        vertical-align: middle;\n",
       "    }\n",
       "\n",
       "    .dataframe tbody tr th {\n",
       "        vertical-align: top;\n",
       "    }\n",
       "\n",
       "    .dataframe thead th {\n",
       "        text-align: right;\n",
       "    }\n",
       "</style>\n",
       "<table border=\"1\" class=\"dataframe\">\n",
       "  <thead>\n",
       "    <tr style=\"text-align: right;\">\n",
       "      <th></th>\n",
       "      <th>survived</th>\n",
       "      <th>pclass</th>\n",
       "      <th>sex</th>\n",
       "      <th>age</th>\n",
       "      <th>fare</th>\n",
       "    </tr>\n",
       "  </thead>\n",
       "  <tbody>\n",
       "    <tr>\n",
       "      <th>0</th>\n",
       "      <td>0</td>\n",
       "      <td>3</td>\n",
       "      <td>male</td>\n",
       "      <td>22.0</td>\n",
       "      <td>7.2500</td>\n",
       "    </tr>\n",
       "    <tr>\n",
       "      <th>1</th>\n",
       "      <td>1</td>\n",
       "      <td>1</td>\n",
       "      <td>female</td>\n",
       "      <td>38.0</td>\n",
       "      <td>71.2833</td>\n",
       "    </tr>\n",
       "    <tr>\n",
       "      <th>2</th>\n",
       "      <td>1</td>\n",
       "      <td>3</td>\n",
       "      <td>female</td>\n",
       "      <td>26.0</td>\n",
       "      <td>7.9250</td>\n",
       "    </tr>\n",
       "    <tr>\n",
       "      <th>3</th>\n",
       "      <td>1</td>\n",
       "      <td>1</td>\n",
       "      <td>female</td>\n",
       "      <td>35.0</td>\n",
       "      <td>53.1000</td>\n",
       "    </tr>\n",
       "    <tr>\n",
       "      <th>4</th>\n",
       "      <td>0</td>\n",
       "      <td>3</td>\n",
       "      <td>male</td>\n",
       "      <td>35.0</td>\n",
       "      <td>8.0500</td>\n",
       "    </tr>\n",
       "  </tbody>\n",
       "</table>\n",
       "</div>"
      ],
      "text/plain": [
       "   survived  pclass     sex   age     fare\n",
       "0         0       3    male  22.0   7.2500\n",
       "1         1       1  female  38.0  71.2833\n",
       "2         1       3  female  26.0   7.9250\n",
       "3         1       1  female  35.0  53.1000\n",
       "4         0       3    male  35.0   8.0500"
      ]
     },
     "execution_count": 97,
     "metadata": {},
     "output_type": "execute_result"
    }
   ],
   "source": [
    "titanic.head()"
   ]
  },
  {
   "cell_type": "code",
   "execution_count": 98,
   "id": "5b711cef",
   "metadata": {
    "ExecuteTime": {
     "end_time": "2022-10-03T09:23:42.261501Z",
     "start_time": "2022-10-03T09:23:42.247470Z"
    }
   },
   "outputs": [
    {
     "data": {
      "text/html": [
       "<div>\n",
       "<style scoped>\n",
       "    .dataframe tbody tr th:only-of-type {\n",
       "        vertical-align: middle;\n",
       "    }\n",
       "\n",
       "    .dataframe tbody tr th {\n",
       "        vertical-align: top;\n",
       "    }\n",
       "\n",
       "    .dataframe thead th {\n",
       "        text-align: right;\n",
       "    }\n",
       "</style>\n",
       "<table border=\"1\" class=\"dataframe\">\n",
       "  <thead>\n",
       "    <tr style=\"text-align: right;\">\n",
       "      <th></th>\n",
       "      <th>survived</th>\n",
       "      <th>pclass</th>\n",
       "      <th>age</th>\n",
       "      <th>fare</th>\n",
       "    </tr>\n",
       "    <tr>\n",
       "      <th>sex</th>\n",
       "      <th></th>\n",
       "      <th></th>\n",
       "      <th></th>\n",
       "      <th></th>\n",
       "    </tr>\n",
       "  </thead>\n",
       "  <tbody>\n",
       "    <tr>\n",
       "      <th>female</th>\n",
       "      <td>0.742038</td>\n",
       "      <td>2.159236</td>\n",
       "      <td>27.915709</td>\n",
       "      <td>44.479818</td>\n",
       "    </tr>\n",
       "    <tr>\n",
       "      <th>male</th>\n",
       "      <td>0.188908</td>\n",
       "      <td>2.389948</td>\n",
       "      <td>30.726645</td>\n",
       "      <td>25.523893</td>\n",
       "    </tr>\n",
       "  </tbody>\n",
       "</table>\n",
       "</div>"
      ],
      "text/plain": [
       "        survived    pclass        age       fare\n",
       "sex                                             \n",
       "female  0.742038  2.159236  27.915709  44.479818\n",
       "male    0.188908  2.389948  30.726645  25.523893"
      ]
     },
     "execution_count": 98,
     "metadata": {},
     "output_type": "execute_result"
    }
   ],
   "source": [
    "titanic.groupby(\"sex\").mean()"
   ]
  },
  {
   "cell_type": "code",
   "execution_count": 99,
   "id": "5688f102",
   "metadata": {
    "ExecuteTime": {
     "end_time": "2022-10-03T09:23:42.818361Z",
     "start_time": "2022-10-03T09:23:42.797361Z"
    }
   },
   "outputs": [
    {
     "data": {
      "text/html": [
       "<div>\n",
       "<style scoped>\n",
       "    .dataframe tbody tr th:only-of-type {\n",
       "        vertical-align: middle;\n",
       "    }\n",
       "\n",
       "    .dataframe tbody tr th {\n",
       "        vertical-align: top;\n",
       "    }\n",
       "\n",
       "    .dataframe thead th {\n",
       "        text-align: right;\n",
       "    }\n",
       "</style>\n",
       "<table border=\"1\" class=\"dataframe\">\n",
       "  <thead>\n",
       "    <tr style=\"text-align: right;\">\n",
       "      <th></th>\n",
       "      <th>survived</th>\n",
       "      <th>pclass</th>\n",
       "      <th>sex</th>\n",
       "      <th>age</th>\n",
       "      <th>fare</th>\n",
       "    </tr>\n",
       "  </thead>\n",
       "  <tbody>\n",
       "    <tr>\n",
       "      <th>1</th>\n",
       "      <td>1</td>\n",
       "      <td>1</td>\n",
       "      <td>female</td>\n",
       "      <td>38.0</td>\n",
       "      <td>71.2833</td>\n",
       "    </tr>\n",
       "    <tr>\n",
       "      <th>2</th>\n",
       "      <td>1</td>\n",
       "      <td>3</td>\n",
       "      <td>female</td>\n",
       "      <td>26.0</td>\n",
       "      <td>7.9250</td>\n",
       "    </tr>\n",
       "    <tr>\n",
       "      <th>3</th>\n",
       "      <td>1</td>\n",
       "      <td>1</td>\n",
       "      <td>female</td>\n",
       "      <td>35.0</td>\n",
       "      <td>53.1000</td>\n",
       "    </tr>\n",
       "    <tr>\n",
       "      <th>8</th>\n",
       "      <td>1</td>\n",
       "      <td>3</td>\n",
       "      <td>female</td>\n",
       "      <td>27.0</td>\n",
       "      <td>11.1333</td>\n",
       "    </tr>\n",
       "    <tr>\n",
       "      <th>9</th>\n",
       "      <td>1</td>\n",
       "      <td>2</td>\n",
       "      <td>female</td>\n",
       "      <td>14.0</td>\n",
       "      <td>30.0708</td>\n",
       "    </tr>\n",
       "    <tr>\n",
       "      <th>...</th>\n",
       "      <td>...</td>\n",
       "      <td>...</td>\n",
       "      <td>...</td>\n",
       "      <td>...</td>\n",
       "      <td>...</td>\n",
       "    </tr>\n",
       "    <tr>\n",
       "      <th>880</th>\n",
       "      <td>1</td>\n",
       "      <td>2</td>\n",
       "      <td>female</td>\n",
       "      <td>25.0</td>\n",
       "      <td>26.0000</td>\n",
       "    </tr>\n",
       "    <tr>\n",
       "      <th>882</th>\n",
       "      <td>0</td>\n",
       "      <td>3</td>\n",
       "      <td>female</td>\n",
       "      <td>22.0</td>\n",
       "      <td>10.5167</td>\n",
       "    </tr>\n",
       "    <tr>\n",
       "      <th>885</th>\n",
       "      <td>0</td>\n",
       "      <td>3</td>\n",
       "      <td>female</td>\n",
       "      <td>39.0</td>\n",
       "      <td>29.1250</td>\n",
       "    </tr>\n",
       "    <tr>\n",
       "      <th>887</th>\n",
       "      <td>1</td>\n",
       "      <td>1</td>\n",
       "      <td>female</td>\n",
       "      <td>19.0</td>\n",
       "      <td>30.0000</td>\n",
       "    </tr>\n",
       "    <tr>\n",
       "      <th>888</th>\n",
       "      <td>0</td>\n",
       "      <td>3</td>\n",
       "      <td>female</td>\n",
       "      <td>NaN</td>\n",
       "      <td>23.4500</td>\n",
       "    </tr>\n",
       "  </tbody>\n",
       "</table>\n",
       "<p>314 rows × 5 columns</p>\n",
       "</div>"
      ],
      "text/plain": [
       "     survived  pclass     sex   age     fare\n",
       "1           1       1  female  38.0  71.2833\n",
       "2           1       3  female  26.0   7.9250\n",
       "3           1       1  female  35.0  53.1000\n",
       "8           1       3  female  27.0  11.1333\n",
       "9           1       2  female  14.0  30.0708\n",
       "..        ...     ...     ...   ...      ...\n",
       "880         1       2  female  25.0  26.0000\n",
       "882         0       3  female  22.0  10.5167\n",
       "885         0       3  female  39.0  29.1250\n",
       "887         1       1  female  19.0  30.0000\n",
       "888         0       3  female   NaN  23.4500\n",
       "\n",
       "[314 rows x 5 columns]"
      ]
     },
     "execution_count": 99,
     "metadata": {},
     "output_type": "execute_result"
    }
   ],
   "source": [
    "female_group = list(titanic.groupby(\"sex\"))[0][1]\n",
    "female_group"
   ]
  },
  {
   "cell_type": "code",
   "execution_count": 100,
   "id": "3c6b4460",
   "metadata": {
    "ExecuteTime": {
     "end_time": "2022-10-03T09:25:03.415200Z",
     "start_time": "2022-10-03T09:25:03.396200Z"
    }
   },
   "outputs": [
    {
     "name": "stderr",
     "output_type": "stream",
     "text": [
      "C:\\Users\\skygg\\AppData\\Local\\Temp\\ipykernel_19340\\92614746.py:1: FutureWarning: Dropping of nuisance columns in DataFrame reductions (with 'numeric_only=None') is deprecated; in a future version this will raise TypeError.  Select only valid columns before calling the reduction.\n",
      "  female_group.mean()\n"
     ]
    },
    {
     "data": {
      "text/plain": [
       "survived     0.742038\n",
       "pclass       2.159236\n",
       "age         27.915709\n",
       "fare        44.479818\n",
       "dtype: float64"
      ]
     },
     "execution_count": 100,
     "metadata": {},
     "output_type": "execute_result"
    }
   ],
   "source": [
    "female_group.mean()"
   ]
  },
  {
   "cell_type": "code",
   "execution_count": 101,
   "id": "ff166bfe",
   "metadata": {
    "ExecuteTime": {
     "end_time": "2022-10-03T09:26:28.396276Z",
     "start_time": "2022-10-03T09:26:28.383229Z"
    }
   },
   "outputs": [],
   "source": [
    "def group_mean(group):\n",
    "    return group.mean()"
   ]
  },
  {
   "cell_type": "code",
   "execution_count": 102,
   "id": "3318508c",
   "metadata": {
    "ExecuteTime": {
     "end_time": "2022-10-03T09:26:47.642325Z",
     "start_time": "2022-10-03T09:26:47.620326Z"
    }
   },
   "outputs": [
    {
     "name": "stderr",
     "output_type": "stream",
     "text": [
      "C:\\Users\\skygg\\AppData\\Local\\Temp\\ipykernel_19340\\359042690.py:2: FutureWarning: Dropping of nuisance columns in DataFrame reductions (with 'numeric_only=None') is deprecated; in a future version this will raise TypeError.  Select only valid columns before calling the reduction.\n",
      "  return group.mean()\n"
     ]
    },
    {
     "data": {
      "text/plain": [
       "survived     0.742038\n",
       "pclass       2.159236\n",
       "age         27.915709\n",
       "fare        44.479818\n",
       "dtype: float64"
      ]
     },
     "execution_count": 102,
     "metadata": {},
     "output_type": "execute_result"
    }
   ],
   "source": [
    "group_mean(female_group)"
   ]
  },
  {
   "cell_type": "code",
   "execution_count": 103,
   "id": "1ce47cae",
   "metadata": {
    "ExecuteTime": {
     "end_time": "2022-10-03T09:30:10.201150Z",
     "start_time": "2022-10-03T09:30:10.181237Z"
    }
   },
   "outputs": [
    {
     "name": "stderr",
     "output_type": "stream",
     "text": [
      "C:\\Users\\skygg\\AppData\\Local\\Temp\\ipykernel_19340\\359042690.py:2: FutureWarning: Dropping of nuisance columns in DataFrame reductions (with 'numeric_only=None') is deprecated; in a future version this will raise TypeError.  Select only valid columns before calling the reduction.\n",
      "  return group.mean()\n"
     ]
    },
    {
     "data": {
      "text/html": [
       "<div>\n",
       "<style scoped>\n",
       "    .dataframe tbody tr th:only-of-type {\n",
       "        vertical-align: middle;\n",
       "    }\n",
       "\n",
       "    .dataframe tbody tr th {\n",
       "        vertical-align: top;\n",
       "    }\n",
       "\n",
       "    .dataframe thead th {\n",
       "        text-align: right;\n",
       "    }\n",
       "</style>\n",
       "<table border=\"1\" class=\"dataframe\">\n",
       "  <thead>\n",
       "    <tr style=\"text-align: right;\">\n",
       "      <th></th>\n",
       "      <th>survived</th>\n",
       "      <th>pclass</th>\n",
       "      <th>age</th>\n",
       "      <th>fare</th>\n",
       "    </tr>\n",
       "    <tr>\n",
       "      <th>sex</th>\n",
       "      <th></th>\n",
       "      <th></th>\n",
       "      <th></th>\n",
       "      <th></th>\n",
       "    </tr>\n",
       "  </thead>\n",
       "  <tbody>\n",
       "    <tr>\n",
       "      <th>female</th>\n",
       "      <td>0.742038</td>\n",
       "      <td>2.159236</td>\n",
       "      <td>27.915709</td>\n",
       "      <td>44.479818</td>\n",
       "    </tr>\n",
       "    <tr>\n",
       "      <th>male</th>\n",
       "      <td>0.188908</td>\n",
       "      <td>2.389948</td>\n",
       "      <td>30.726645</td>\n",
       "      <td>25.523893</td>\n",
       "    </tr>\n",
       "  </tbody>\n",
       "</table>\n",
       "</div>"
      ],
      "text/plain": [
       "        survived    pclass        age       fare\n",
       "sex                                             \n",
       "female  0.742038  2.159236  27.915709  44.479818\n",
       "male    0.188908  2.389948  30.726645  25.523893"
      ]
     },
     "execution_count": 103,
     "metadata": {},
     "output_type": "execute_result"
    }
   ],
   "source": [
    "titanic.groupby(\"sex\").apply(group_mean)"
   ]
  },
  {
   "cell_type": "code",
   "execution_count": 104,
   "id": "e5f8ad29",
   "metadata": {
    "ExecuteTime": {
     "end_time": "2022-10-03T09:31:36.958357Z",
     "start_time": "2022-10-03T09:31:36.939360Z"
    }
   },
   "outputs": [
    {
     "data": {
      "text/html": [
       "<div>\n",
       "<style scoped>\n",
       "    .dataframe tbody tr th:only-of-type {\n",
       "        vertical-align: middle;\n",
       "    }\n",
       "\n",
       "    .dataframe tbody tr th {\n",
       "        vertical-align: top;\n",
       "    }\n",
       "\n",
       "    .dataframe thead th {\n",
       "        text-align: right;\n",
       "    }\n",
       "</style>\n",
       "<table border=\"1\" class=\"dataframe\">\n",
       "  <thead>\n",
       "    <tr style=\"text-align: right;\">\n",
       "      <th></th>\n",
       "      <th>survived</th>\n",
       "      <th>pclass</th>\n",
       "      <th>sex</th>\n",
       "      <th>age</th>\n",
       "      <th>fare</th>\n",
       "    </tr>\n",
       "  </thead>\n",
       "  <tbody>\n",
       "    <tr>\n",
       "      <th>630</th>\n",
       "      <td>1</td>\n",
       "      <td>1</td>\n",
       "      <td>male</td>\n",
       "      <td>80.0</td>\n",
       "      <td>30.0000</td>\n",
       "    </tr>\n",
       "    <tr>\n",
       "      <th>851</th>\n",
       "      <td>0</td>\n",
       "      <td>3</td>\n",
       "      <td>male</td>\n",
       "      <td>74.0</td>\n",
       "      <td>7.7750</td>\n",
       "    </tr>\n",
       "    <tr>\n",
       "      <th>96</th>\n",
       "      <td>0</td>\n",
       "      <td>1</td>\n",
       "      <td>male</td>\n",
       "      <td>71.0</td>\n",
       "      <td>34.6542</td>\n",
       "    </tr>\n",
       "    <tr>\n",
       "      <th>493</th>\n",
       "      <td>0</td>\n",
       "      <td>1</td>\n",
       "      <td>male</td>\n",
       "      <td>71.0</td>\n",
       "      <td>49.5042</td>\n",
       "    </tr>\n",
       "    <tr>\n",
       "      <th>116</th>\n",
       "      <td>0</td>\n",
       "      <td>3</td>\n",
       "      <td>male</td>\n",
       "      <td>70.5</td>\n",
       "      <td>7.7500</td>\n",
       "    </tr>\n",
       "  </tbody>\n",
       "</table>\n",
       "</div>"
      ],
      "text/plain": [
       "     survived  pclass   sex   age     fare\n",
       "630         1       1  male  80.0  30.0000\n",
       "851         0       3  male  74.0   7.7750\n",
       "96          0       1  male  71.0  34.6542\n",
       "493         0       1  male  71.0  49.5042\n",
       "116         0       3  male  70.5   7.7500"
      ]
     },
     "execution_count": 104,
     "metadata": {},
     "output_type": "execute_result"
    }
   ],
   "source": [
    "titanic.nlargest(5, \"age\")"
   ]
  },
  {
   "cell_type": "code",
   "execution_count": 107,
   "id": "92da98cf",
   "metadata": {
    "ExecuteTime": {
     "end_time": "2022-10-03T09:34:47.003686Z",
     "start_time": "2022-10-03T09:34:46.993584Z"
    }
   },
   "outputs": [],
   "source": [
    "def five_oldest_surv(group):\n",
    "    return group[group.survived == 1].nlargest(5, \"age\")"
   ]
  },
  {
   "cell_type": "code",
   "execution_count": 108,
   "id": "f9de44ea",
   "metadata": {
    "ExecuteTime": {
     "end_time": "2022-10-03T09:34:47.442572Z",
     "start_time": "2022-10-03T09:34:47.409573Z"
    }
   },
   "outputs": [
    {
     "data": {
      "text/html": [
       "<div>\n",
       "<style scoped>\n",
       "    .dataframe tbody tr th:only-of-type {\n",
       "        vertical-align: middle;\n",
       "    }\n",
       "\n",
       "    .dataframe tbody tr th {\n",
       "        vertical-align: top;\n",
       "    }\n",
       "\n",
       "    .dataframe thead th {\n",
       "        text-align: right;\n",
       "    }\n",
       "</style>\n",
       "<table border=\"1\" class=\"dataframe\">\n",
       "  <thead>\n",
       "    <tr style=\"text-align: right;\">\n",
       "      <th></th>\n",
       "      <th></th>\n",
       "      <th>survived</th>\n",
       "      <th>pclass</th>\n",
       "      <th>sex</th>\n",
       "      <th>age</th>\n",
       "      <th>fare</th>\n",
       "    </tr>\n",
       "    <tr>\n",
       "      <th>sex</th>\n",
       "      <th></th>\n",
       "      <th></th>\n",
       "      <th></th>\n",
       "      <th></th>\n",
       "      <th></th>\n",
       "      <th></th>\n",
       "    </tr>\n",
       "  </thead>\n",
       "  <tbody>\n",
       "    <tr>\n",
       "      <th rowspan=\"5\" valign=\"top\">female</th>\n",
       "      <th>275</th>\n",
       "      <td>1</td>\n",
       "      <td>1</td>\n",
       "      <td>female</td>\n",
       "      <td>63.0</td>\n",
       "      <td>77.9583</td>\n",
       "    </tr>\n",
       "    <tr>\n",
       "      <th>483</th>\n",
       "      <td>1</td>\n",
       "      <td>3</td>\n",
       "      <td>female</td>\n",
       "      <td>63.0</td>\n",
       "      <td>9.5875</td>\n",
       "    </tr>\n",
       "    <tr>\n",
       "      <th>829</th>\n",
       "      <td>1</td>\n",
       "      <td>1</td>\n",
       "      <td>female</td>\n",
       "      <td>62.0</td>\n",
       "      <td>80.0000</td>\n",
       "    </tr>\n",
       "    <tr>\n",
       "      <th>366</th>\n",
       "      <td>1</td>\n",
       "      <td>1</td>\n",
       "      <td>female</td>\n",
       "      <td>60.0</td>\n",
       "      <td>75.2500</td>\n",
       "    </tr>\n",
       "    <tr>\n",
       "      <th>11</th>\n",
       "      <td>1</td>\n",
       "      <td>1</td>\n",
       "      <td>female</td>\n",
       "      <td>58.0</td>\n",
       "      <td>26.5500</td>\n",
       "    </tr>\n",
       "    <tr>\n",
       "      <th rowspan=\"5\" valign=\"top\">male</th>\n",
       "      <th>630</th>\n",
       "      <td>1</td>\n",
       "      <td>1</td>\n",
       "      <td>male</td>\n",
       "      <td>80.0</td>\n",
       "      <td>30.0000</td>\n",
       "    </tr>\n",
       "    <tr>\n",
       "      <th>570</th>\n",
       "      <td>1</td>\n",
       "      <td>2</td>\n",
       "      <td>male</td>\n",
       "      <td>62.0</td>\n",
       "      <td>10.5000</td>\n",
       "    </tr>\n",
       "    <tr>\n",
       "      <th>587</th>\n",
       "      <td>1</td>\n",
       "      <td>1</td>\n",
       "      <td>male</td>\n",
       "      <td>60.0</td>\n",
       "      <td>79.2000</td>\n",
       "    </tr>\n",
       "    <tr>\n",
       "      <th>647</th>\n",
       "      <td>1</td>\n",
       "      <td>1</td>\n",
       "      <td>male</td>\n",
       "      <td>56.0</td>\n",
       "      <td>35.5000</td>\n",
       "    </tr>\n",
       "    <tr>\n",
       "      <th>449</th>\n",
       "      <td>1</td>\n",
       "      <td>1</td>\n",
       "      <td>male</td>\n",
       "      <td>52.0</td>\n",
       "      <td>30.5000</td>\n",
       "    </tr>\n",
       "  </tbody>\n",
       "</table>\n",
       "</div>"
      ],
      "text/plain": [
       "            survived  pclass     sex   age     fare\n",
       "sex                                                \n",
       "female 275         1       1  female  63.0  77.9583\n",
       "       483         1       3  female  63.0   9.5875\n",
       "       829         1       1  female  62.0  80.0000\n",
       "       366         1       1  female  60.0  75.2500\n",
       "       11          1       1  female  58.0  26.5500\n",
       "male   630         1       1    male  80.0  30.0000\n",
       "       570         1       2    male  62.0  10.5000\n",
       "       587         1       1    male  60.0  79.2000\n",
       "       647         1       1    male  56.0  35.5000\n",
       "       449         1       1    male  52.0  30.5000"
      ]
     },
     "execution_count": 108,
     "metadata": {},
     "output_type": "execute_result"
    }
   ],
   "source": [
    "titanic.groupby(\"sex\").apply(five_oldest_surv)"
   ]
  },
  {
   "cell_type": "markdown",
   "id": "d30e4739",
   "metadata": {},
   "source": [
    "#### 계층 인덱스"
   ]
  },
  {
   "cell_type": "code",
   "execution_count": 109,
   "id": "39845a0f",
   "metadata": {
    "ExecuteTime": {
     "end_time": "2022-10-03T10:01:58.857362Z",
     "start_time": "2022-10-03T10:01:58.842243Z"
    }
   },
   "outputs": [],
   "source": [
    "titanic = pd.read_csv(\"./Course_Materials_Part2/Course_Materials_Part2/Video_Lecture_NBs/titanic.csv\", usecols=[\"survived\", \"pclass\", \"sex\", \"age\", \"fare\"])"
   ]
  },
  {
   "cell_type": "code",
   "execution_count": 110,
   "id": "36fa172c",
   "metadata": {
    "ExecuteTime": {
     "end_time": "2022-10-03T10:02:07.069281Z",
     "start_time": "2022-10-03T10:02:07.051292Z"
    }
   },
   "outputs": [
    {
     "data": {
      "text/html": [
       "<div>\n",
       "<style scoped>\n",
       "    .dataframe tbody tr th:only-of-type {\n",
       "        vertical-align: middle;\n",
       "    }\n",
       "\n",
       "    .dataframe tbody tr th {\n",
       "        vertical-align: top;\n",
       "    }\n",
       "\n",
       "    .dataframe thead th {\n",
       "        text-align: right;\n",
       "    }\n",
       "</style>\n",
       "<table border=\"1\" class=\"dataframe\">\n",
       "  <thead>\n",
       "    <tr style=\"text-align: right;\">\n",
       "      <th></th>\n",
       "      <th>survived</th>\n",
       "      <th>pclass</th>\n",
       "      <th>sex</th>\n",
       "      <th>age</th>\n",
       "      <th>fare</th>\n",
       "    </tr>\n",
       "  </thead>\n",
       "  <tbody>\n",
       "    <tr>\n",
       "      <th>0</th>\n",
       "      <td>0</td>\n",
       "      <td>3</td>\n",
       "      <td>male</td>\n",
       "      <td>22.0</td>\n",
       "      <td>7.2500</td>\n",
       "    </tr>\n",
       "    <tr>\n",
       "      <th>1</th>\n",
       "      <td>1</td>\n",
       "      <td>1</td>\n",
       "      <td>female</td>\n",
       "      <td>38.0</td>\n",
       "      <td>71.2833</td>\n",
       "    </tr>\n",
       "    <tr>\n",
       "      <th>2</th>\n",
       "      <td>1</td>\n",
       "      <td>3</td>\n",
       "      <td>female</td>\n",
       "      <td>26.0</td>\n",
       "      <td>7.9250</td>\n",
       "    </tr>\n",
       "    <tr>\n",
       "      <th>3</th>\n",
       "      <td>1</td>\n",
       "      <td>1</td>\n",
       "      <td>female</td>\n",
       "      <td>35.0</td>\n",
       "      <td>53.1000</td>\n",
       "    </tr>\n",
       "    <tr>\n",
       "      <th>4</th>\n",
       "      <td>0</td>\n",
       "      <td>3</td>\n",
       "      <td>male</td>\n",
       "      <td>35.0</td>\n",
       "      <td>8.0500</td>\n",
       "    </tr>\n",
       "    <tr>\n",
       "      <th>...</th>\n",
       "      <td>...</td>\n",
       "      <td>...</td>\n",
       "      <td>...</td>\n",
       "      <td>...</td>\n",
       "      <td>...</td>\n",
       "    </tr>\n",
       "    <tr>\n",
       "      <th>886</th>\n",
       "      <td>0</td>\n",
       "      <td>2</td>\n",
       "      <td>male</td>\n",
       "      <td>27.0</td>\n",
       "      <td>13.0000</td>\n",
       "    </tr>\n",
       "    <tr>\n",
       "      <th>887</th>\n",
       "      <td>1</td>\n",
       "      <td>1</td>\n",
       "      <td>female</td>\n",
       "      <td>19.0</td>\n",
       "      <td>30.0000</td>\n",
       "    </tr>\n",
       "    <tr>\n",
       "      <th>888</th>\n",
       "      <td>0</td>\n",
       "      <td>3</td>\n",
       "      <td>female</td>\n",
       "      <td>NaN</td>\n",
       "      <td>23.4500</td>\n",
       "    </tr>\n",
       "    <tr>\n",
       "      <th>889</th>\n",
       "      <td>1</td>\n",
       "      <td>1</td>\n",
       "      <td>male</td>\n",
       "      <td>26.0</td>\n",
       "      <td>30.0000</td>\n",
       "    </tr>\n",
       "    <tr>\n",
       "      <th>890</th>\n",
       "      <td>0</td>\n",
       "      <td>3</td>\n",
       "      <td>male</td>\n",
       "      <td>32.0</td>\n",
       "      <td>7.7500</td>\n",
       "    </tr>\n",
       "  </tbody>\n",
       "</table>\n",
       "<p>891 rows × 5 columns</p>\n",
       "</div>"
      ],
      "text/plain": [
       "     survived  pclass     sex   age     fare\n",
       "0           0       3    male  22.0   7.2500\n",
       "1           1       1  female  38.0  71.2833\n",
       "2           1       3  female  26.0   7.9250\n",
       "3           1       1  female  35.0  53.1000\n",
       "4           0       3    male  35.0   8.0500\n",
       "..        ...     ...     ...   ...      ...\n",
       "886         0       2    male  27.0  13.0000\n",
       "887         1       1  female  19.0  30.0000\n",
       "888         0       3  female   NaN  23.4500\n",
       "889         1       1    male  26.0  30.0000\n",
       "890         0       3    male  32.0   7.7500\n",
       "\n",
       "[891 rows x 5 columns]"
      ]
     },
     "execution_count": 110,
     "metadata": {},
     "output_type": "execute_result"
    }
   ],
   "source": [
    "titanic"
   ]
  },
  {
   "cell_type": "code",
   "execution_count": 111,
   "id": "e281bb73",
   "metadata": {
    "ExecuteTime": {
     "end_time": "2022-10-03T10:02:54.136986Z",
     "start_time": "2022-10-03T10:02:54.124910Z"
    }
   },
   "outputs": [],
   "source": [
    "summary = titanic.groupby([\"sex\", \"pclass\"]).mean()"
   ]
  },
  {
   "cell_type": "code",
   "execution_count": 112,
   "id": "2dd75b32",
   "metadata": {
    "ExecuteTime": {
     "end_time": "2022-10-03T10:03:08.021761Z",
     "start_time": "2022-10-03T10:03:07.997671Z"
    }
   },
   "outputs": [
    {
     "data": {
      "text/html": [
       "<div>\n",
       "<style scoped>\n",
       "    .dataframe tbody tr th:only-of-type {\n",
       "        vertical-align: middle;\n",
       "    }\n",
       "\n",
       "    .dataframe tbody tr th {\n",
       "        vertical-align: top;\n",
       "    }\n",
       "\n",
       "    .dataframe thead th {\n",
       "        text-align: right;\n",
       "    }\n",
       "</style>\n",
       "<table border=\"1\" class=\"dataframe\">\n",
       "  <thead>\n",
       "    <tr style=\"text-align: right;\">\n",
       "      <th></th>\n",
       "      <th></th>\n",
       "      <th>survived</th>\n",
       "      <th>age</th>\n",
       "      <th>fare</th>\n",
       "    </tr>\n",
       "    <tr>\n",
       "      <th>sex</th>\n",
       "      <th>pclass</th>\n",
       "      <th></th>\n",
       "      <th></th>\n",
       "      <th></th>\n",
       "    </tr>\n",
       "  </thead>\n",
       "  <tbody>\n",
       "    <tr>\n",
       "      <th rowspan=\"3\" valign=\"top\">female</th>\n",
       "      <th>1</th>\n",
       "      <td>0.968085</td>\n",
       "      <td>34.611765</td>\n",
       "      <td>106.125798</td>\n",
       "    </tr>\n",
       "    <tr>\n",
       "      <th>2</th>\n",
       "      <td>0.921053</td>\n",
       "      <td>28.722973</td>\n",
       "      <td>21.970121</td>\n",
       "    </tr>\n",
       "    <tr>\n",
       "      <th>3</th>\n",
       "      <td>0.500000</td>\n",
       "      <td>21.750000</td>\n",
       "      <td>16.118810</td>\n",
       "    </tr>\n",
       "    <tr>\n",
       "      <th rowspan=\"3\" valign=\"top\">male</th>\n",
       "      <th>1</th>\n",
       "      <td>0.368852</td>\n",
       "      <td>41.281386</td>\n",
       "      <td>67.226127</td>\n",
       "    </tr>\n",
       "    <tr>\n",
       "      <th>2</th>\n",
       "      <td>0.157407</td>\n",
       "      <td>30.740707</td>\n",
       "      <td>19.741782</td>\n",
       "    </tr>\n",
       "    <tr>\n",
       "      <th>3</th>\n",
       "      <td>0.135447</td>\n",
       "      <td>26.507589</td>\n",
       "      <td>12.661633</td>\n",
       "    </tr>\n",
       "  </tbody>\n",
       "</table>\n",
       "</div>"
      ],
      "text/plain": [
       "               survived        age        fare\n",
       "sex    pclass                                 \n",
       "female 1       0.968085  34.611765  106.125798\n",
       "       2       0.921053  28.722973   21.970121\n",
       "       3       0.500000  21.750000   16.118810\n",
       "male   1       0.368852  41.281386   67.226127\n",
       "       2       0.157407  30.740707   19.741782\n",
       "       3       0.135447  26.507589   12.661633"
      ]
     },
     "execution_count": 112,
     "metadata": {},
     "output_type": "execute_result"
    }
   ],
   "source": [
    "summary"
   ]
  },
  {
   "cell_type": "code",
   "execution_count": 114,
   "id": "6fff6bd5",
   "metadata": {
    "ExecuteTime": {
     "end_time": "2022-10-03T10:05:05.203248Z",
     "start_time": "2022-10-03T10:05:05.186514Z"
    }
   },
   "outputs": [
    {
     "data": {
      "text/plain": [
       "MultiIndex([('female', 1),\n",
       "            ('female', 2),\n",
       "            ('female', 3),\n",
       "            (  'male', 1),\n",
       "            (  'male', 2),\n",
       "            (  'male', 3)],\n",
       "           names=['sex', 'pclass'])"
      ]
     },
     "execution_count": 114,
     "metadata": {},
     "output_type": "execute_result"
    }
   ],
   "source": [
    "summary.index"
   ]
  },
  {
   "cell_type": "code",
   "execution_count": 116,
   "id": "45c302c6",
   "metadata": {
    "ExecuteTime": {
     "end_time": "2022-10-03T10:06:22.500993Z",
     "start_time": "2022-10-03T10:06:22.482994Z"
    }
   },
   "outputs": [
    {
     "data": {
      "text/plain": [
       "survived     0.921053\n",
       "age         28.722973\n",
       "fare        21.970121\n",
       "Name: (female, 2), dtype: float64"
      ]
     },
     "execution_count": 116,
     "metadata": {},
     "output_type": "execute_result"
    }
   ],
   "source": [
    "summary.loc[(\"female\",2), :]"
   ]
  },
  {
   "cell_type": "code",
   "execution_count": 115,
   "id": "c84ba977",
   "metadata": {
    "ExecuteTime": {
     "end_time": "2022-10-03T10:06:02.696241Z",
     "start_time": "2022-10-03T10:06:02.675136Z"
    }
   },
   "outputs": [
    {
     "data": {
      "text/plain": [
       "28.722972972972972"
      ]
     },
     "execution_count": 115,
     "metadata": {},
     "output_type": "execute_result"
    }
   ],
   "source": [
    "summary.loc[(\"female\",2), \"age\"]"
   ]
  },
  {
   "cell_type": "code",
   "execution_count": 118,
   "id": "488447ad",
   "metadata": {
    "ExecuteTime": {
     "end_time": "2022-10-03T10:07:33.875337Z",
     "start_time": "2022-10-03T10:07:33.859337Z"
    }
   },
   "outputs": [
    {
     "data": {
      "text/html": [
       "<div>\n",
       "<style scoped>\n",
       "    .dataframe tbody tr th:only-of-type {\n",
       "        vertical-align: middle;\n",
       "    }\n",
       "\n",
       "    .dataframe tbody tr th {\n",
       "        vertical-align: top;\n",
       "    }\n",
       "\n",
       "    .dataframe thead th {\n",
       "        text-align: right;\n",
       "    }\n",
       "</style>\n",
       "<table border=\"1\" class=\"dataframe\">\n",
       "  <thead>\n",
       "    <tr style=\"text-align: right;\">\n",
       "      <th></th>\n",
       "      <th></th>\n",
       "      <th>survived</th>\n",
       "      <th>age</th>\n",
       "      <th>fare</th>\n",
       "    </tr>\n",
       "    <tr>\n",
       "      <th>pclass</th>\n",
       "      <th>sex</th>\n",
       "      <th></th>\n",
       "      <th></th>\n",
       "      <th></th>\n",
       "    </tr>\n",
       "  </thead>\n",
       "  <tbody>\n",
       "    <tr>\n",
       "      <th rowspan=\"2\" valign=\"top\">1</th>\n",
       "      <th>female</th>\n",
       "      <td>0.968085</td>\n",
       "      <td>34.611765</td>\n",
       "      <td>106.125798</td>\n",
       "    </tr>\n",
       "    <tr>\n",
       "      <th>male</th>\n",
       "      <td>0.368852</td>\n",
       "      <td>41.281386</td>\n",
       "      <td>67.226127</td>\n",
       "    </tr>\n",
       "    <tr>\n",
       "      <th rowspan=\"2\" valign=\"top\">2</th>\n",
       "      <th>female</th>\n",
       "      <td>0.921053</td>\n",
       "      <td>28.722973</td>\n",
       "      <td>21.970121</td>\n",
       "    </tr>\n",
       "    <tr>\n",
       "      <th>male</th>\n",
       "      <td>0.157407</td>\n",
       "      <td>30.740707</td>\n",
       "      <td>19.741782</td>\n",
       "    </tr>\n",
       "    <tr>\n",
       "      <th rowspan=\"2\" valign=\"top\">3</th>\n",
       "      <th>female</th>\n",
       "      <td>0.500000</td>\n",
       "      <td>21.750000</td>\n",
       "      <td>16.118810</td>\n",
       "    </tr>\n",
       "    <tr>\n",
       "      <th>male</th>\n",
       "      <td>0.135447</td>\n",
       "      <td>26.507589</td>\n",
       "      <td>12.661633</td>\n",
       "    </tr>\n",
       "  </tbody>\n",
       "</table>\n",
       "</div>"
      ],
      "text/plain": [
       "               survived        age        fare\n",
       "pclass sex                                    \n",
       "1      female  0.968085  34.611765  106.125798\n",
       "       male    0.368852  41.281386   67.226127\n",
       "2      female  0.921053  28.722973   21.970121\n",
       "       male    0.157407  30.740707   19.741782\n",
       "3      female  0.500000  21.750000   16.118810\n",
       "       male    0.135447  26.507589   12.661633"
      ]
     },
     "execution_count": 118,
     "metadata": {},
     "output_type": "execute_result"
    }
   ],
   "source": [
    "summary.swaplevel().sort_index()"
   ]
  },
  {
   "cell_type": "code",
   "execution_count": 120,
   "id": "2c1b5d7b",
   "metadata": {
    "ExecuteTime": {
     "end_time": "2022-10-03T10:08:05.939279Z",
     "start_time": "2022-10-03T10:08:05.917583Z"
    }
   },
   "outputs": [
    {
     "data": {
      "text/html": [
       "<div>\n",
       "<style scoped>\n",
       "    .dataframe tbody tr th:only-of-type {\n",
       "        vertical-align: middle;\n",
       "    }\n",
       "\n",
       "    .dataframe tbody tr th {\n",
       "        vertical-align: top;\n",
       "    }\n",
       "\n",
       "    .dataframe thead th {\n",
       "        text-align: right;\n",
       "    }\n",
       "</style>\n",
       "<table border=\"1\" class=\"dataframe\">\n",
       "  <thead>\n",
       "    <tr style=\"text-align: right;\">\n",
       "      <th></th>\n",
       "      <th>sex</th>\n",
       "      <th>pclass</th>\n",
       "      <th>survived</th>\n",
       "      <th>age</th>\n",
       "      <th>fare</th>\n",
       "    </tr>\n",
       "  </thead>\n",
       "  <tbody>\n",
       "    <tr>\n",
       "      <th>0</th>\n",
       "      <td>female</td>\n",
       "      <td>1</td>\n",
       "      <td>0.968085</td>\n",
       "      <td>34.611765</td>\n",
       "      <td>106.125798</td>\n",
       "    </tr>\n",
       "    <tr>\n",
       "      <th>1</th>\n",
       "      <td>female</td>\n",
       "      <td>2</td>\n",
       "      <td>0.921053</td>\n",
       "      <td>28.722973</td>\n",
       "      <td>21.970121</td>\n",
       "    </tr>\n",
       "    <tr>\n",
       "      <th>2</th>\n",
       "      <td>female</td>\n",
       "      <td>3</td>\n",
       "      <td>0.500000</td>\n",
       "      <td>21.750000</td>\n",
       "      <td>16.118810</td>\n",
       "    </tr>\n",
       "    <tr>\n",
       "      <th>3</th>\n",
       "      <td>male</td>\n",
       "      <td>1</td>\n",
       "      <td>0.368852</td>\n",
       "      <td>41.281386</td>\n",
       "      <td>67.226127</td>\n",
       "    </tr>\n",
       "    <tr>\n",
       "      <th>4</th>\n",
       "      <td>male</td>\n",
       "      <td>2</td>\n",
       "      <td>0.157407</td>\n",
       "      <td>30.740707</td>\n",
       "      <td>19.741782</td>\n",
       "    </tr>\n",
       "    <tr>\n",
       "      <th>5</th>\n",
       "      <td>male</td>\n",
       "      <td>3</td>\n",
       "      <td>0.135447</td>\n",
       "      <td>26.507589</td>\n",
       "      <td>12.661633</td>\n",
       "    </tr>\n",
       "  </tbody>\n",
       "</table>\n",
       "</div>"
      ],
      "text/plain": [
       "      sex  pclass  survived        age        fare\n",
       "0  female       1  0.968085  34.611765  106.125798\n",
       "1  female       2  0.921053  28.722973   21.970121\n",
       "2  female       3  0.500000  21.750000   16.118810\n",
       "3    male       1  0.368852  41.281386   67.226127\n",
       "4    male       2  0.157407  30.740707   19.741782\n",
       "5    male       3  0.135447  26.507589   12.661633"
      ]
     },
     "execution_count": 120,
     "metadata": {},
     "output_type": "execute_result"
    }
   ],
   "source": [
    "summary.reset_index()"
   ]
  },
  {
   "cell_type": "markdown",
   "id": "ee9c33dd",
   "metadata": {},
   "source": [
    "#### stack() and unstack()"
   ]
  },
  {
   "cell_type": "code",
   "execution_count": 122,
   "id": "b145ea98",
   "metadata": {
    "ExecuteTime": {
     "end_time": "2022-10-03T10:10:06.483075Z",
     "start_time": "2022-10-03T10:10:06.465967Z"
    }
   },
   "outputs": [
    {
     "data": {
      "text/html": [
       "<div>\n",
       "<style scoped>\n",
       "    .dataframe tbody tr th:only-of-type {\n",
       "        vertical-align: middle;\n",
       "    }\n",
       "\n",
       "    .dataframe tbody tr th {\n",
       "        vertical-align: top;\n",
       "    }\n",
       "\n",
       "    .dataframe thead th {\n",
       "        text-align: right;\n",
       "    }\n",
       "</style>\n",
       "<table border=\"1\" class=\"dataframe\">\n",
       "  <thead>\n",
       "    <tr style=\"text-align: right;\">\n",
       "      <th></th>\n",
       "      <th>Year</th>\n",
       "      <th>City</th>\n",
       "      <th>Sport</th>\n",
       "      <th>Discipline</th>\n",
       "      <th>Athlete</th>\n",
       "      <th>Country</th>\n",
       "      <th>Gender</th>\n",
       "      <th>Event</th>\n",
       "      <th>Medal</th>\n",
       "    </tr>\n",
       "  </thead>\n",
       "  <tbody>\n",
       "    <tr>\n",
       "      <th>0</th>\n",
       "      <td>1896</td>\n",
       "      <td>Athens</td>\n",
       "      <td>Aquatics</td>\n",
       "      <td>Swimming</td>\n",
       "      <td>HAJOS, Alfred</td>\n",
       "      <td>HUN</td>\n",
       "      <td>Men</td>\n",
       "      <td>100M Freestyle</td>\n",
       "      <td>Gold</td>\n",
       "    </tr>\n",
       "    <tr>\n",
       "      <th>1</th>\n",
       "      <td>1896</td>\n",
       "      <td>Athens</td>\n",
       "      <td>Aquatics</td>\n",
       "      <td>Swimming</td>\n",
       "      <td>HERSCHMANN, Otto</td>\n",
       "      <td>AUT</td>\n",
       "      <td>Men</td>\n",
       "      <td>100M Freestyle</td>\n",
       "      <td>Silver</td>\n",
       "    </tr>\n",
       "    <tr>\n",
       "      <th>2</th>\n",
       "      <td>1896</td>\n",
       "      <td>Athens</td>\n",
       "      <td>Aquatics</td>\n",
       "      <td>Swimming</td>\n",
       "      <td>DRIVAS, Dimitrios</td>\n",
       "      <td>GRE</td>\n",
       "      <td>Men</td>\n",
       "      <td>100M Freestyle For Sailors</td>\n",
       "      <td>Bronze</td>\n",
       "    </tr>\n",
       "    <tr>\n",
       "      <th>3</th>\n",
       "      <td>1896</td>\n",
       "      <td>Athens</td>\n",
       "      <td>Aquatics</td>\n",
       "      <td>Swimming</td>\n",
       "      <td>MALOKINIS, Ioannis</td>\n",
       "      <td>GRE</td>\n",
       "      <td>Men</td>\n",
       "      <td>100M Freestyle For Sailors</td>\n",
       "      <td>Gold</td>\n",
       "    </tr>\n",
       "    <tr>\n",
       "      <th>4</th>\n",
       "      <td>1896</td>\n",
       "      <td>Athens</td>\n",
       "      <td>Aquatics</td>\n",
       "      <td>Swimming</td>\n",
       "      <td>CHASAPIS, Spiridon</td>\n",
       "      <td>GRE</td>\n",
       "      <td>Men</td>\n",
       "      <td>100M Freestyle For Sailors</td>\n",
       "      <td>Silver</td>\n",
       "    </tr>\n",
       "  </tbody>\n",
       "</table>\n",
       "</div>"
      ],
      "text/plain": [
       "   Year    City     Sport Discipline             Athlete Country Gender  \\\n",
       "0  1896  Athens  Aquatics   Swimming       HAJOS, Alfred     HUN    Men   \n",
       "1  1896  Athens  Aquatics   Swimming    HERSCHMANN, Otto     AUT    Men   \n",
       "2  1896  Athens  Aquatics   Swimming   DRIVAS, Dimitrios     GRE    Men   \n",
       "3  1896  Athens  Aquatics   Swimming  MALOKINIS, Ioannis     GRE    Men   \n",
       "4  1896  Athens  Aquatics   Swimming  CHASAPIS, Spiridon     GRE    Men   \n",
       "\n",
       "                        Event   Medal  \n",
       "0              100M Freestyle    Gold  \n",
       "1              100M Freestyle  Silver  \n",
       "2  100M Freestyle For Sailors  Bronze  \n",
       "3  100M Freestyle For Sailors    Gold  \n",
       "4  100M Freestyle For Sailors  Silver  "
      ]
     },
     "execution_count": 122,
     "metadata": {},
     "output_type": "execute_result"
    }
   ],
   "source": [
    "summer.head()"
   ]
  },
  {
   "cell_type": "code",
   "execution_count": 123,
   "id": "3e6db8c2",
   "metadata": {
    "ExecuteTime": {
     "end_time": "2022-10-03T10:11:02.470034Z",
     "start_time": "2022-10-03T10:11:02.449671Z"
    }
   },
   "outputs": [],
   "source": [
    "medals_by_country = summer.groupby([\"Country\", \"Medal\"]).Medal.count()"
   ]
  },
  {
   "cell_type": "code",
   "execution_count": 124,
   "id": "014c876c",
   "metadata": {
    "ExecuteTime": {
     "end_time": "2022-10-03T10:11:11.631905Z",
     "start_time": "2022-10-03T10:11:11.615732Z"
    }
   },
   "outputs": [
    {
     "data": {
      "text/plain": [
       "Country  Medal \n",
       "AFG      Bronze     2\n",
       "AHO      Silver     1\n",
       "ALG      Bronze     8\n",
       "         Gold       5\n",
       "         Silver     2\n",
       "                   ..\n",
       "ZIM      Gold      18\n",
       "         Silver     4\n",
       "ZZX      Bronze    10\n",
       "         Gold      23\n",
       "         Silver    15\n",
       "Name: Medal, Length: 347, dtype: int64"
      ]
     },
     "execution_count": 124,
     "metadata": {},
     "output_type": "execute_result"
    }
   ],
   "source": [
    "medals_by_country"
   ]
  },
  {
   "cell_type": "code",
   "execution_count": 126,
   "id": "18673673",
   "metadata": {
    "ExecuteTime": {
     "end_time": "2022-10-03T10:13:31.371612Z",
     "start_time": "2022-10-03T10:13:31.351531Z"
    }
   },
   "outputs": [
    {
     "data": {
      "text/plain": [
       "2235"
      ]
     },
     "execution_count": 126,
     "metadata": {},
     "output_type": "execute_result"
    }
   ],
   "source": [
    "medals_by_country.loc[(\"USA\", \"Gold\")]"
   ]
  },
  {
   "cell_type": "code",
   "execution_count": 127,
   "id": "2d4080a3",
   "metadata": {
    "ExecuteTime": {
     "end_time": "2022-10-03T10:14:12.663882Z",
     "start_time": "2022-10-03T10:14:12.649884Z"
    }
   },
   "outputs": [
    {
     "data": {
      "text/plain": [
       "(347,)"
      ]
     },
     "execution_count": 127,
     "metadata": {},
     "output_type": "execute_result"
    }
   ],
   "source": [
    "medals_by_country.shape"
   ]
  },
  {
   "cell_type": "code",
   "execution_count": 129,
   "id": "a3d00794",
   "metadata": {
    "ExecuteTime": {
     "end_time": "2022-10-03T10:14:44.963103Z",
     "start_time": "2022-10-03T10:14:44.933735Z"
    }
   },
   "outputs": [
    {
     "data": {
      "text/html": [
       "<div>\n",
       "<style scoped>\n",
       "    .dataframe tbody tr th:only-of-type {\n",
       "        vertical-align: middle;\n",
       "    }\n",
       "\n",
       "    .dataframe tbody tr th {\n",
       "        vertical-align: top;\n",
       "    }\n",
       "\n",
       "    .dataframe thead th {\n",
       "        text-align: right;\n",
       "    }\n",
       "</style>\n",
       "<table border=\"1\" class=\"dataframe\">\n",
       "  <thead>\n",
       "    <tr style=\"text-align: right;\">\n",
       "      <th>Medal</th>\n",
       "      <th>Bronze</th>\n",
       "      <th>Gold</th>\n",
       "      <th>Silver</th>\n",
       "    </tr>\n",
       "    <tr>\n",
       "      <th>Country</th>\n",
       "      <th></th>\n",
       "      <th></th>\n",
       "      <th></th>\n",
       "    </tr>\n",
       "  </thead>\n",
       "  <tbody>\n",
       "    <tr>\n",
       "      <th>AFG</th>\n",
       "      <td>2.0</td>\n",
       "      <td>NaN</td>\n",
       "      <td>NaN</td>\n",
       "    </tr>\n",
       "    <tr>\n",
       "      <th>AHO</th>\n",
       "      <td>NaN</td>\n",
       "      <td>NaN</td>\n",
       "      <td>1.0</td>\n",
       "    </tr>\n",
       "    <tr>\n",
       "      <th>ALG</th>\n",
       "      <td>8.0</td>\n",
       "      <td>5.0</td>\n",
       "      <td>2.0</td>\n",
       "    </tr>\n",
       "    <tr>\n",
       "      <th>ANZ</th>\n",
       "      <td>5.0</td>\n",
       "      <td>20.0</td>\n",
       "      <td>4.0</td>\n",
       "    </tr>\n",
       "    <tr>\n",
       "      <th>ARG</th>\n",
       "      <td>91.0</td>\n",
       "      <td>69.0</td>\n",
       "      <td>99.0</td>\n",
       "    </tr>\n",
       "    <tr>\n",
       "      <th>...</th>\n",
       "      <td>...</td>\n",
       "      <td>...</td>\n",
       "      <td>...</td>\n",
       "    </tr>\n",
       "    <tr>\n",
       "      <th>VIE</th>\n",
       "      <td>NaN</td>\n",
       "      <td>NaN</td>\n",
       "      <td>2.0</td>\n",
       "    </tr>\n",
       "    <tr>\n",
       "      <th>YUG</th>\n",
       "      <td>118.0</td>\n",
       "      <td>143.0</td>\n",
       "      <td>174.0</td>\n",
       "    </tr>\n",
       "    <tr>\n",
       "      <th>ZAM</th>\n",
       "      <td>1.0</td>\n",
       "      <td>NaN</td>\n",
       "      <td>1.0</td>\n",
       "    </tr>\n",
       "    <tr>\n",
       "      <th>ZIM</th>\n",
       "      <td>1.0</td>\n",
       "      <td>18.0</td>\n",
       "      <td>4.0</td>\n",
       "    </tr>\n",
       "    <tr>\n",
       "      <th>ZZX</th>\n",
       "      <td>10.0</td>\n",
       "      <td>23.0</td>\n",
       "      <td>15.0</td>\n",
       "    </tr>\n",
       "  </tbody>\n",
       "</table>\n",
       "<p>147 rows × 3 columns</p>\n",
       "</div>"
      ],
      "text/plain": [
       "Medal    Bronze   Gold  Silver\n",
       "Country                       \n",
       "AFG         2.0    NaN     NaN\n",
       "AHO         NaN    NaN     1.0\n",
       "ALG         8.0    5.0     2.0\n",
       "ANZ         5.0   20.0     4.0\n",
       "ARG        91.0   69.0    99.0\n",
       "...         ...    ...     ...\n",
       "VIE         NaN    NaN     2.0\n",
       "YUG       118.0  143.0   174.0\n",
       "ZAM         1.0    NaN     1.0\n",
       "ZIM         1.0   18.0     4.0\n",
       "ZZX        10.0   23.0    15.0\n",
       "\n",
       "[147 rows x 3 columns]"
      ]
     },
     "execution_count": 129,
     "metadata": {},
     "output_type": "execute_result"
    }
   ],
   "source": [
    "medals_by_country.unstack()"
   ]
  },
  {
   "cell_type": "markdown",
   "id": "41be4b4d",
   "metadata": {},
   "source": [
    "인덱스 레벨은 가장 우측부터 시작. 가장 우측이 -1"
   ]
  },
  {
   "cell_type": "code",
   "execution_count": 135,
   "id": "706cb848",
   "metadata": {
    "ExecuteTime": {
     "end_time": "2022-10-03T10:22:55.576193Z",
     "start_time": "2022-10-03T10:22:55.565831Z"
    }
   },
   "outputs": [],
   "source": [
    "medals_by_country = medals_by_country.unstack(level = -1, fill_value=0)"
   ]
  },
  {
   "cell_type": "code",
   "execution_count": 136,
   "id": "399a5024",
   "metadata": {
    "ExecuteTime": {
     "end_time": "2022-10-03T10:22:57.865670Z",
     "start_time": "2022-10-03T10:22:57.848707Z"
    }
   },
   "outputs": [
    {
     "data": {
      "text/html": [
       "<div>\n",
       "<style scoped>\n",
       "    .dataframe tbody tr th:only-of-type {\n",
       "        vertical-align: middle;\n",
       "    }\n",
       "\n",
       "    .dataframe tbody tr th {\n",
       "        vertical-align: top;\n",
       "    }\n",
       "\n",
       "    .dataframe thead th {\n",
       "        text-align: right;\n",
       "    }\n",
       "</style>\n",
       "<table border=\"1\" class=\"dataframe\">\n",
       "  <thead>\n",
       "    <tr style=\"text-align: right;\">\n",
       "      <th>Medal</th>\n",
       "      <th>Bronze</th>\n",
       "      <th>Gold</th>\n",
       "      <th>Silver</th>\n",
       "    </tr>\n",
       "    <tr>\n",
       "      <th>Country</th>\n",
       "      <th></th>\n",
       "      <th></th>\n",
       "      <th></th>\n",
       "    </tr>\n",
       "  </thead>\n",
       "  <tbody>\n",
       "    <tr>\n",
       "      <th>AFG</th>\n",
       "      <td>2</td>\n",
       "      <td>0</td>\n",
       "      <td>0</td>\n",
       "    </tr>\n",
       "    <tr>\n",
       "      <th>AHO</th>\n",
       "      <td>0</td>\n",
       "      <td>0</td>\n",
       "      <td>1</td>\n",
       "    </tr>\n",
       "    <tr>\n",
       "      <th>ALG</th>\n",
       "      <td>8</td>\n",
       "      <td>5</td>\n",
       "      <td>2</td>\n",
       "    </tr>\n",
       "    <tr>\n",
       "      <th>ANZ</th>\n",
       "      <td>5</td>\n",
       "      <td>20</td>\n",
       "      <td>4</td>\n",
       "    </tr>\n",
       "    <tr>\n",
       "      <th>ARG</th>\n",
       "      <td>91</td>\n",
       "      <td>69</td>\n",
       "      <td>99</td>\n",
       "    </tr>\n",
       "  </tbody>\n",
       "</table>\n",
       "</div>"
      ],
      "text/plain": [
       "Medal    Bronze  Gold  Silver\n",
       "Country                      \n",
       "AFG           2     0       0\n",
       "AHO           0     0       1\n",
       "ALG           8     5       2\n",
       "ANZ           5    20       4\n",
       "ARG          91    69      99"
      ]
     },
     "execution_count": 136,
     "metadata": {},
     "output_type": "execute_result"
    }
   ],
   "source": [
    "medals_by_country.head()"
   ]
  },
  {
   "cell_type": "code",
   "execution_count": 137,
   "id": "745ebda4",
   "metadata": {
    "ExecuteTime": {
     "end_time": "2022-10-03T10:23:00.207061Z",
     "start_time": "2022-10-03T10:23:00.186958Z"
    }
   },
   "outputs": [
    {
     "data": {
      "text/plain": [
       "(147, 3)"
      ]
     },
     "execution_count": 137,
     "metadata": {},
     "output_type": "execute_result"
    }
   ],
   "source": [
    "medals_by_country.shape"
   ]
  },
  {
   "cell_type": "code",
   "execution_count": 139,
   "id": "f9969e1f",
   "metadata": {
    "ExecuteTime": {
     "end_time": "2022-10-03T10:24:16.042642Z",
     "start_time": "2022-10-03T10:24:16.027640Z"
    }
   },
   "outputs": [],
   "source": [
    "medals_by_country = medals_by_country[[\"Gold\", \"Silver\", \"Bronze\"]]"
   ]
  },
  {
   "cell_type": "code",
   "execution_count": 147,
   "id": "b0ce182f",
   "metadata": {
    "ExecuteTime": {
     "end_time": "2022-10-03T10:33:36.378517Z",
     "start_time": "2022-10-03T10:33:36.364421Z"
    }
   },
   "outputs": [],
   "source": [
    "# 골드 - 내림차순, 실버- 내림차순, 브론즈 - 내림차순\n",
    "medals_by_country.sort_values(by=[\"Gold\", \"Silver\", \"Bronze\"], ascending = [False, False, False], inplace=True)"
   ]
  },
  {
   "cell_type": "code",
   "execution_count": 148,
   "id": "f2348a6e",
   "metadata": {
    "ExecuteTime": {
     "end_time": "2022-10-03T10:33:36.843783Z",
     "start_time": "2022-10-03T10:33:36.827044Z"
    }
   },
   "outputs": [
    {
     "data": {
      "text/html": [
       "<div>\n",
       "<style scoped>\n",
       "    .dataframe tbody tr th:only-of-type {\n",
       "        vertical-align: middle;\n",
       "    }\n",
       "\n",
       "    .dataframe tbody tr th {\n",
       "        vertical-align: top;\n",
       "    }\n",
       "\n",
       "    .dataframe thead th {\n",
       "        text-align: right;\n",
       "    }\n",
       "</style>\n",
       "<table border=\"1\" class=\"dataframe\">\n",
       "  <thead>\n",
       "    <tr style=\"text-align: right;\">\n",
       "      <th>Medal</th>\n",
       "      <th>Gold</th>\n",
       "      <th>Silver</th>\n",
       "      <th>Bronze</th>\n",
       "    </tr>\n",
       "    <tr>\n",
       "      <th>Country</th>\n",
       "      <th></th>\n",
       "      <th></th>\n",
       "      <th></th>\n",
       "    </tr>\n",
       "  </thead>\n",
       "  <tbody>\n",
       "    <tr>\n",
       "      <th>USA</th>\n",
       "      <td>2235</td>\n",
       "      <td>1252</td>\n",
       "      <td>1098</td>\n",
       "    </tr>\n",
       "    <tr>\n",
       "      <th>URS</th>\n",
       "      <td>838</td>\n",
       "      <td>627</td>\n",
       "      <td>584</td>\n",
       "    </tr>\n",
       "    <tr>\n",
       "      <th>GBR</th>\n",
       "      <td>546</td>\n",
       "      <td>621</td>\n",
       "      <td>553</td>\n",
       "    </tr>\n",
       "    <tr>\n",
       "      <th>ITA</th>\n",
       "      <td>476</td>\n",
       "      <td>416</td>\n",
       "      <td>404</td>\n",
       "    </tr>\n",
       "    <tr>\n",
       "      <th>GER</th>\n",
       "      <td>452</td>\n",
       "      <td>378</td>\n",
       "      <td>475</td>\n",
       "    </tr>\n",
       "    <tr>\n",
       "      <th>HUN</th>\n",
       "      <td>412</td>\n",
       "      <td>316</td>\n",
       "      <td>351</td>\n",
       "    </tr>\n",
       "    <tr>\n",
       "      <th>FRA</th>\n",
       "      <td>408</td>\n",
       "      <td>491</td>\n",
       "      <td>497</td>\n",
       "    </tr>\n",
       "    <tr>\n",
       "      <th>SWE</th>\n",
       "      <td>349</td>\n",
       "      <td>367</td>\n",
       "      <td>328</td>\n",
       "    </tr>\n",
       "    <tr>\n",
       "      <th>GDR</th>\n",
       "      <td>329</td>\n",
       "      <td>271</td>\n",
       "      <td>225</td>\n",
       "    </tr>\n",
       "    <tr>\n",
       "      <th>AUS</th>\n",
       "      <td>312</td>\n",
       "      <td>405</td>\n",
       "      <td>472</td>\n",
       "    </tr>\n",
       "  </tbody>\n",
       "</table>\n",
       "</div>"
      ],
      "text/plain": [
       "Medal    Gold  Silver  Bronze\n",
       "Country                      \n",
       "USA      2235    1252    1098\n",
       "URS       838     627     584\n",
       "GBR       546     621     553\n",
       "ITA       476     416     404\n",
       "GER       452     378     475\n",
       "HUN       412     316     351\n",
       "FRA       408     491     497\n",
       "SWE       349     367     328\n",
       "GDR       329     271     225\n",
       "AUS       312     405     472"
      ]
     },
     "execution_count": 148,
     "metadata": {},
     "output_type": "execute_result"
    }
   ],
   "source": [
    "medals_by_country.head(10)"
   ]
  },
  {
   "cell_type": "code",
   "execution_count": 145,
   "id": "7a277518",
   "metadata": {
    "ExecuteTime": {
     "end_time": "2022-10-03T10:33:14.708908Z",
     "start_time": "2022-10-03T10:33:14.703413Z"
    }
   },
   "outputs": [],
   "source": [
    "import matplotlib.pyplot as plt\n",
    "plt.style.use(\"seaborn\")"
   ]
  },
  {
   "cell_type": "code",
   "execution_count": 150,
   "id": "af86b31b",
   "metadata": {
    "ExecuteTime": {
     "end_time": "2022-10-03T10:36:25.675665Z",
     "start_time": "2022-10-03T10:36:25.369834Z"
    }
   },
   "outputs": [
    {
     "data": {
      "image/png": "[encoded data removed]",
      "text/plain": [
       "<Figure size 864x576 with 1 Axes>"
      ]
     },
     "metadata": {},
     "output_type": "display_data"
    }
   ],
   "source": [
    "medals_by_country.head(10).plot(kind = \"bar\", figsize = (12,8), fontsize = 13)\n",
    "plt.xlabel(\"Country\", fontsize = 13)\n",
    "plt.ylabel(\"Medals\", fontsize = 13)\n",
    "plt.title(\"Medals per Country\", fontsize = 16)\n",
    "plt.legend(fontsize = 15)\n",
    "plt.show()"
   ]
  },
  {
   "cell_type": "code",
   "execution_count": 153,
   "id": "931a92b3",
   "metadata": {
    "ExecuteTime": {
     "end_time": "2022-10-03T10:37:17.970651Z",
     "start_time": "2022-10-03T10:37:17.944880Z"
    }
   },
   "outputs": [
    {
     "data": {
      "text/html": [
       "<div>\n",
       "<style scoped>\n",
       "    .dataframe tbody tr th:only-of-type {\n",
       "        vertical-align: middle;\n",
       "    }\n",
       "\n",
       "    .dataframe tbody tr th {\n",
       "        vertical-align: top;\n",
       "    }\n",
       "\n",
       "    .dataframe thead th {\n",
       "        text-align: right;\n",
       "    }\n",
       "</style>\n",
       "<table border=\"1\" class=\"dataframe\">\n",
       "  <thead>\n",
       "    <tr style=\"text-align: right;\">\n",
       "      <th>Medal</th>\n",
       "      <th>Gold</th>\n",
       "      <th>Silver</th>\n",
       "      <th>Bronze</th>\n",
       "    </tr>\n",
       "    <tr>\n",
       "      <th>Country</th>\n",
       "      <th></th>\n",
       "      <th></th>\n",
       "      <th></th>\n",
       "    </tr>\n",
       "  </thead>\n",
       "  <tbody>\n",
       "    <tr>\n",
       "      <th>USA</th>\n",
       "      <td>2235</td>\n",
       "      <td>1252</td>\n",
       "      <td>1098</td>\n",
       "    </tr>\n",
       "    <tr>\n",
       "      <th>URS</th>\n",
       "      <td>838</td>\n",
       "      <td>627</td>\n",
       "      <td>584</td>\n",
       "    </tr>\n",
       "    <tr>\n",
       "      <th>GBR</th>\n",
       "      <td>546</td>\n",
       "      <td>621</td>\n",
       "      <td>553</td>\n",
       "    </tr>\n",
       "    <tr>\n",
       "      <th>ITA</th>\n",
       "      <td>476</td>\n",
       "      <td>416</td>\n",
       "      <td>404</td>\n",
       "    </tr>\n",
       "    <tr>\n",
       "      <th>GER</th>\n",
       "      <td>452</td>\n",
       "      <td>378</td>\n",
       "      <td>475</td>\n",
       "    </tr>\n",
       "    <tr>\n",
       "      <th>...</th>\n",
       "      <td>...</td>\n",
       "      <td>...</td>\n",
       "      <td>...</td>\n",
       "    </tr>\n",
       "    <tr>\n",
       "      <th>IRQ</th>\n",
       "      <td>0</td>\n",
       "      <td>0</td>\n",
       "      <td>1</td>\n",
       "    </tr>\n",
       "    <tr>\n",
       "      <th>MKD</th>\n",
       "      <td>0</td>\n",
       "      <td>0</td>\n",
       "      <td>1</td>\n",
       "    </tr>\n",
       "    <tr>\n",
       "      <th>MRI</th>\n",
       "      <td>0</td>\n",
       "      <td>0</td>\n",
       "      <td>1</td>\n",
       "    </tr>\n",
       "    <tr>\n",
       "      <th>NIG</th>\n",
       "      <td>0</td>\n",
       "      <td>0</td>\n",
       "      <td>1</td>\n",
       "    </tr>\n",
       "    <tr>\n",
       "      <th>TOG</th>\n",
       "      <td>0</td>\n",
       "      <td>0</td>\n",
       "      <td>1</td>\n",
       "    </tr>\n",
       "  </tbody>\n",
       "</table>\n",
       "<p>147 rows × 3 columns</p>\n",
       "</div>"
      ],
      "text/plain": [
       "Medal    Gold  Silver  Bronze\n",
       "Country                      \n",
       "USA      2235    1252    1098\n",
       "URS       838     627     584\n",
       "GBR       546     621     553\n",
       "ITA       476     416     404\n",
       "GER       452     378     475\n",
       "...       ...     ...     ...\n",
       "IRQ         0       0       1\n",
       "MKD         0       0       1\n",
       "MRI         0       0       1\n",
       "NIG         0       0       1\n",
       "TOG         0       0       1\n",
       "\n",
       "[147 rows x 3 columns]"
      ]
     },
     "execution_count": 153,
     "metadata": {},
     "output_type": "execute_result"
    }
   ],
   "source": [
    "medals_by_country.stack().unstack()\n",
    "#stack()을 통해 내부 열로 돌려놓을 수 있음, "
   ]
  },
  {
   "cell_type": "code",
   "execution_count": null,
   "id": "b8eec8b0",
   "metadata": {},
   "outputs": [],
   "source": []
  }
 ],
 "metadata": {
  "kernelspec": {
   "display_name": "Python 3 (ipykernel)",
   "language": "python",
   "name": "python3"
  },
  "language_info": {
   "codemirror_mode": {
    "name": "ipython",
    "version": 3
   },
   "file_extension": ".py",
   "mimetype": "text/x-python",
   "name": "python",
   "nbconvert_exporter": "python",
   "pygments_lexer": "ipython3",
   "version": "3.9.12"
  },
  "toc": {
   "base_numbering": 1,
   "nav_menu": {},
   "number_sections": false,
   "sideBar": true,
   "skip_h1_title": false,
   "title_cell": "Table of Contents",
   "title_sidebar": "Contents",
   "toc_cell": false,
   "toc_position": {},
   "toc_section_display": true,
   "toc_window_display": false
  },
  "varInspector": {
   "cols": {
    "lenName": 16,
    "lenType": 16,
    "lenVar": 40
   },
   "kernels_config": {
    "python": {
     "delete_cmd_postfix": "",
     "delete_cmd_prefix": "del ",
     "library": "var_list.py",
     "varRefreshCmd": "print(var_dic_list())"
    },
    "r": {
     "delete_cmd_postfix": ") ",
     "delete_cmd_prefix": "rm(",
     "library": "var_list.r",
     "varRefreshCmd": "cat(var_dic_list()) "
    }
   },
   "types_to_exclude": [
    "module",
    "function",
    "builtin_function_or_method",
    "instance",
    "_Feature"
   ],
   "window_display": false
  }
 },
 "nbformat": 4,
 "nbformat_minor": 5
}
